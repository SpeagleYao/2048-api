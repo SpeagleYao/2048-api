{
 "cells": [
  {
   "cell_type": "code",
   "execution_count": 3,
   "metadata": {},
   "outputs": [],
   "source": [
    "from game2048.game import Game\n",
    "from game2048.displays import Display, IPythonDisplay\n",
    "from game2048.agents import Agent, RandomAgent, ExpectiMaxAgent"
   ]
  },
  {
   "cell_type": "code",
   "execution_count": 4,
   "metadata": {},
   "outputs": [],
   "source": [
    "display1 = Display()\n",
    "display2 = IPythonDisplay()"
   ]
  },
  {
   "cell_type": "code",
   "execution_count": 3,
   "metadata": {},
   "outputs": [
    {
     "name": "stdout",
     "output_type": "stream",
     "text": [
      "State:\t       0       2       0       0\n",
      "\t       0       0       0       0\n",
      "\t       0       0       0       0\n",
      "\t       0       0       0       4\n",
      "Score: 4\n"
     ]
    },
    {
     "data": {
      "text/html": [
       "<h1>Score: 4</h1><table style=\"border: 5px solid black;\"><tr><td style=\"border:3px solid black; text-align:center;\"\n",
       "         width=\"40\" height=\"40\"></td><td style=\"border:3px solid black; text-align:center;\"\n",
       "         width=\"40\" height=\"40\">2</td><td style=\"border:3px solid black; text-align:center;\"\n",
       "         width=\"40\" height=\"40\"></td><td style=\"border:3px solid black; text-align:center;\"\n",
       "         width=\"40\" height=\"40\"></td></tr><tr><td style=\"border:3px solid black; text-align:center;\"\n",
       "         width=\"40\" height=\"40\"></td><td style=\"border:3px solid black; text-align:center;\"\n",
       "         width=\"40\" height=\"40\"></td><td style=\"border:3px solid black; text-align:center;\"\n",
       "         width=\"40\" height=\"40\"></td><td style=\"border:3px solid black; text-align:center;\"\n",
       "         width=\"40\" height=\"40\"></td></tr><tr><td style=\"border:3px solid black; text-align:center;\"\n",
       "         width=\"40\" height=\"40\"></td><td style=\"border:3px solid black; text-align:center;\"\n",
       "         width=\"40\" height=\"40\"></td><td style=\"border:3px solid black; text-align:center;\"\n",
       "         width=\"40\" height=\"40\"></td><td style=\"border:3px solid black; text-align:center;\"\n",
       "         width=\"40\" height=\"40\"></td></tr><tr><td style=\"border:3px solid black; text-align:center;\"\n",
       "         width=\"40\" height=\"40\"></td><td style=\"border:3px solid black; text-align:center;\"\n",
       "         width=\"40\" height=\"40\"></td><td style=\"border:3px solid black; text-align:center;\"\n",
       "         width=\"40\" height=\"40\"></td><td style=\"border:3px solid black; text-align:center;\"\n",
       "         width=\"40\" height=\"40\">4</td></tr></table>"
      ],
      "text/plain": [
       "<IPython.core.display.HTML object>"
      ]
     },
     "metadata": {},
     "output_type": "display_data"
    },
    {
     "name": "stdout",
     "output_type": "stream",
     "text": [
      "Iter: 1\n",
      "======Direction: down======\n",
      "State:\t       0       0       0       0\n",
      "\t       0       0       0       0\n",
      "\t       0       2       0       0\n",
      "\t       0       2       0       4\n",
      "Score: 4\n",
      "Iter: 2\n",
      "======Direction: down======\n",
      "State:\t       4       0       0       0\n",
      "\t       0       0       0       0\n",
      "\t       0       0       0       0\n",
      "\t       0       4       0       4\n",
      "Score: 4\n",
      "Iter: 3\n",
      "======Direction: down======\n",
      "State:\t       0       0       4       0\n",
      "\t       0       0       0       0\n",
      "\t       0       0       0       0\n",
      "\t       4       4       0       4\n",
      "Score: 4\n",
      "Iter: 4\n",
      "======Direction: right======\n",
      "State:\t       0       0       0       4\n",
      "\t       0       0       0       0\n",
      "\t       0       0       0       0\n",
      "\t       0       2       4       8\n",
      "Score: 8\n",
      "Iter: 5\n",
      "======Direction: left======\n",
      "State:\t       4       4       0       0\n",
      "\t       0       0       0       0\n",
      "\t       0       0       0       0\n",
      "\t       2       4       8       0\n",
      "Score: 8\n",
      "Iter: 6\n",
      "======Direction: down======\n",
      "State:\t       0       0       2       0\n",
      "\t       0       0       0       0\n",
      "\t       4       0       0       0\n",
      "\t       2       8       8       0\n",
      "Score: 8\n",
      "Iter: 7\n",
      "======Direction: left======\n",
      "State:\t       2       0       0       0\n",
      "\t       0       0       0       2\n",
      "\t       4       0       0       0\n",
      "\t       2      16       0       0\n",
      "Score: 16\n",
      "Iter: 8\n",
      "======Direction: right======\n",
      "State:\t       2       0       0       2\n",
      "\t       0       0       0       2\n",
      "\t       0       0       0       4\n",
      "\t       0       0       2      16\n",
      "Score: 16\n",
      "Iter: 9\n",
      "======Direction: right======\n",
      "State:\t       0       0       2       4\n",
      "\t       0       0       0       2\n",
      "\t       0       0       0       4\n",
      "\t       0       0       2      16\n",
      "Score: 16\n",
      "Iter: 10\n",
      "======Direction: right======\n",
      "State:\t       0       0       2       4\n",
      "\t       0       0       0       2\n",
      "\t       0       0       0       4\n",
      "\t       2       0       2      16\n",
      "Score: 16\n",
      "Iter: 11\n",
      "======Direction: right======\n",
      "State:\t       2       0       2       4\n",
      "\t       0       0       0       2\n",
      "\t       0       0       0       4\n",
      "\t       0       0       4      16\n",
      "Score: 16\n",
      "Iter: 12\n",
      "======Direction: down======\n",
      "State:\t       0       0       0       4\n",
      "\t       0       4       0       2\n",
      "\t       0       0       2       4\n",
      "\t       2       0       4      16\n",
      "Score: 16\n",
      "Iter: 13\n",
      "======Direction: up======\n",
      "State:\t       2       4       2       4\n",
      "\t       0       0       4       2\n",
      "\t       4       0       0       4\n",
      "\t       0       0       0      16\n",
      "Score: 16\n",
      "Iter: 14\n",
      "======Direction: up======\n",
      "State:\t       2       4       2       4\n",
      "\t       4       0       4       2\n",
      "\t       0       0       4       4\n",
      "\t       0       0       0      16\n",
      "Score: 16\n",
      "Iter: 15\n",
      "======Direction: right======\n",
      "State:\t       2       4       2       4\n",
      "\t       0       2       8       2\n",
      "\t       0       0       0       8\n",
      "\t       0       0       0      16\n",
      "Score: 16\n",
      "Iter: 16\n",
      "======Direction: right======\n",
      "State:\t       2       4       2       4\n",
      "\t       0       2       8       2\n",
      "\t       4       0       0       8\n",
      "\t       0       0       0      16\n",
      "Score: 16\n",
      "Iter: 17\n",
      "======Direction: up======\n",
      "State:\t       2       4       2       4\n",
      "\t       4       2       8       2\n",
      "\t       0       0       4       8\n",
      "\t       0       0       0      16\n",
      "Score: 16\n",
      "Iter: 18\n",
      "======Direction: up======\n",
      "State:\t       2       4       2       4\n",
      "\t       4       2       8       2\n",
      "\t       0       0       4       8\n",
      "\t       4       0       0      16\n",
      "Score: 16\n",
      "Iter: 19\n",
      "======Direction: down======\n",
      "State:\t       0       0       2       4\n",
      "\t       0       0       2       2\n",
      "\t       2       4       8       8\n",
      "\t       8       2       4      16\n",
      "Score: 16\n",
      "Iter: 20\n",
      "======Direction: up======\n",
      "State:\t       2       4       4       4\n",
      "\t       8       2       8       2\n",
      "\t       0       4       4       8\n",
      "\t       0       0       0      16\n",
      "Score: 16\n",
      "Iter: 21\n",
      "======Direction: up======\n",
      "State:\t       2       4       4       4\n",
      "\t       8       2       8       2\n",
      "\t       0       4       4       8\n",
      "\t       0       0       4      16\n",
      "Score: 16\n",
      "Iter: 22\n",
      "======Direction: down======\n",
      "State:\t       0       0       4       4\n",
      "\t       0       4       4       2\n",
      "\t       2       2       8       8\n",
      "\t       8       4       8      16\n",
      "Score: 16\n",
      "Iter: 23\n",
      "======Direction: right======\n",
      "State:\t       0       2       0       8\n",
      "\t       0       0       8       2\n",
      "\t       0       0       4      16\n",
      "\t       8       4       8      16\n",
      "Score: 16\n",
      "Iter: 24\n",
      "======Direction: left======\n",
      "State:\t       2       8       4       0\n",
      "\t       8       2       0       0\n",
      "\t       4      16       0       0\n",
      "\t       8       4       8      16\n",
      "Score: 16\n",
      "Iter: 25\n",
      "======Direction: right======\n",
      "State:\t       4       2       8       4\n",
      "\t       0       0       8       2\n",
      "\t       0       0       4      16\n",
      "\t       8       4       8      16\n",
      "Score: 16\n",
      "Iter: 26\n",
      "======Direction: down======\n",
      "State:\t       0       0       0       2\n",
      "\t       0       0      16       4\n",
      "\t       4       2       4       2\n",
      "\t       8       4       8      32\n",
      "Score: 32\n",
      "Iter: 27\n",
      "======Direction: right======\n",
      "State:\t       0       4       0       2\n",
      "\t       0       0      16       4\n",
      "\t       4       2       4       2\n",
      "\t       8       4       8      32\n",
      "Score: 32\n",
      "Iter: 28\n",
      "======Direction: left======\n",
      "State:\t       4       2       4       0\n",
      "\t      16       4       0       0\n",
      "\t       4       2       4       2\n",
      "\t       8       4       8      32\n",
      "Score: 32\n",
      "Iter: 29\n",
      "======Direction: down======\n",
      "State:\t       4       2       0       0\n",
      "\t      16       4       0       4\n",
      "\t       4       2       8       2\n",
      "\t       8       4       8      32\n",
      "Score: 32\n",
      "Iter: 30\n",
      "======Direction: left======\n",
      "State:\t       4       2       0       0\n",
      "\t      16       8       2       0\n",
      "\t       4       2       8       2\n",
      "\t       8       4       8      32\n",
      "Score: 32\n",
      "Iter: 31\n",
      "======Direction: down======\n",
      "State:\t       4       2       4       0\n",
      "\t      16       8       0       0\n",
      "\t       4       2       2       2\n",
      "\t       8       4      16      32\n",
      "Score: 32\n",
      "Iter: 32\n",
      "======Direction: down======\n",
      "State:\t       4       2       0       0\n",
      "\t      16       8       4       2\n",
      "\t       4       2       2       2\n",
      "\t       8       4      16      32\n",
      "Score: 32\n",
      "Iter: 33\n",
      "======Direction: right======\n",
      "State:\t       4       0       4       2\n",
      "\t      16       8       4       2\n",
      "\t       0       4       2       4\n",
      "\t       8       4      16      32\n",
      "Score: 32\n",
      "Iter: 34\n",
      "======Direction: left======\n",
      "State:\t       8       2       0       2\n",
      "\t      16       8       4       2\n",
      "\t       4       2       4       0\n",
      "\t       8       4      16      32\n",
      "Score: 32\n",
      "Iter: 35\n",
      "======Direction: right======\n",
      "State:\t       2       0       8       4\n",
      "\t      16       8       4       2\n",
      "\t       0       4       2       4\n",
      "\t       8       4      16      32\n",
      "Score: 32\n",
      "Iter: 36\n",
      "======Direction: left======\n",
      "State:\t       2       8       4       4\n",
      "\t      16       8       4       2\n",
      "\t       4       2       4       0\n",
      "\t       8       4      16      32\n",
      "Score: 32\n",
      "Iter: 37\n",
      "======Direction: up======\n",
      "State:\t       2      16       8       4\n",
      "\t      16       2       4       2\n",
      "\t       4       4      16      32\n",
      "\t       8       0       0       2\n",
      "Score: 32\n",
      "Iter: 38\n",
      "======Direction: left======\n",
      "State:\t       2      16       8       4\n",
      "\t      16       2       4       2\n",
      "\t       8      16      32       2\n",
      "\t       8       2       0       0\n",
      "Score: 32\n",
      "Iter: 39\n",
      "======Direction: right======\n",
      "State:\t       2      16       8       4\n",
      "\t      16       2       4       2\n",
      "\t       8      16      32       2\n",
      "\t       2       0       8       2\n",
      "Score: 32\n",
      "Iter: 40\n",
      "======Direction: left======\n",
      "State:\t       2      16       8       4\n",
      "\t      16       2       4       2\n",
      "\t       8      16      32       2\n",
      "\t       2       8       2       4\n",
      "Score: 32\n",
      "Iter: 41\n",
      "======Direction: right======\n",
      "State:\t       2      16       8       4\n",
      "\t      16       2       4       2\n",
      "\t       8      16      32       2\n",
      "\t       2       8       2       4\n",
      "Score: 32\n",
      "You lose! Score: 32\n"
     ]
    }
   ],
   "source": [
    "game = Game(4, random=False)\n",
    "display1.display(game)\n",
    "display2.display(game)\n",
    "agent = RandomAgent(game, display=display1)\n",
    "agent.play(verbose=True)"
   ]
  },
  {
   "cell_type": "code",
   "execution_count": 5,
   "metadata": {},
   "outputs": [
    {
     "name": "stdout",
     "output_type": "stream",
     "text": [
      "Iter: 1\n",
      "======Direction: right======\n"
     ]
    },
    {
     "data": {
      "text/html": [
       "<h1>Score: 4</h1><table style=\"border: 5px solid black;\"><tr><td style=\"border:3px solid black; text-align:center;\"\n",
       "         width=\"40\" height=\"40\"></td><td style=\"border:3px solid black; text-align:center;\"\n",
       "         width=\"40\" height=\"40\"></td><td style=\"border:3px solid black; text-align:center;\"\n",
       "         width=\"40\" height=\"40\"></td><td style=\"border:3px solid black; text-align:center;\"\n",
       "         width=\"40\" height=\"40\">4</td></tr><tr><td style=\"border:3px solid black; text-align:center;\"\n",
       "         width=\"40\" height=\"40\"></td><td style=\"border:3px solid black; text-align:center;\"\n",
       "         width=\"40\" height=\"40\"></td><td style=\"border:3px solid black; text-align:center;\"\n",
       "         width=\"40\" height=\"40\"></td><td style=\"border:3px solid black; text-align:center;\"\n",
       "         width=\"40\" height=\"40\">2</td></tr><tr><td style=\"border:3px solid black; text-align:center;\"\n",
       "         width=\"40\" height=\"40\"></td><td style=\"border:3px solid black; text-align:center;\"\n",
       "         width=\"40\" height=\"40\"></td><td style=\"border:3px solid black; text-align:center;\"\n",
       "         width=\"40\" height=\"40\"></td><td style=\"border:3px solid black; text-align:center;\"\n",
       "         width=\"40\" height=\"40\"></td></tr><tr><td style=\"border:3px solid black; text-align:center;\"\n",
       "         width=\"40\" height=\"40\"></td><td style=\"border:3px solid black; text-align:center;\"\n",
       "         width=\"40\" height=\"40\"></td><td style=\"border:3px solid black; text-align:center;\"\n",
       "         width=\"40\" height=\"40\"></td><td style=\"border:3px solid black; text-align:center;\"\n",
       "         width=\"40\" height=\"40\"></td></tr></table>"
      ],
      "text/plain": [
       "<IPython.core.display.HTML object>"
      ]
     },
     "metadata": {},
     "output_type": "display_data"
    },
    {
     "name": "stdout",
     "output_type": "stream",
     "text": [
      "Iter: 2\n",
      "======Direction: down======\n"
     ]
    },
    {
     "data": {
      "text/html": [
       "<h1>Score: 4</h1><table style=\"border: 5px solid black;\"><tr><td style=\"border:3px solid black; text-align:center;\"\n",
       "         width=\"40\" height=\"40\"></td><td style=\"border:3px solid black; text-align:center;\"\n",
       "         width=\"40\" height=\"40\"></td><td style=\"border:3px solid black; text-align:center;\"\n",
       "         width=\"40\" height=\"40\"></td><td style=\"border:3px solid black; text-align:center;\"\n",
       "         width=\"40\" height=\"40\"></td></tr><tr><td style=\"border:3px solid black; text-align:center;\"\n",
       "         width=\"40\" height=\"40\"></td><td style=\"border:3px solid black; text-align:center;\"\n",
       "         width=\"40\" height=\"40\"></td><td style=\"border:3px solid black; text-align:center;\"\n",
       "         width=\"40\" height=\"40\"></td><td style=\"border:3px solid black; text-align:center;\"\n",
       "         width=\"40\" height=\"40\">2</td></tr><tr><td style=\"border:3px solid black; text-align:center;\"\n",
       "         width=\"40\" height=\"40\"></td><td style=\"border:3px solid black; text-align:center;\"\n",
       "         width=\"40\" height=\"40\"></td><td style=\"border:3px solid black; text-align:center;\"\n",
       "         width=\"40\" height=\"40\"></td><td style=\"border:3px solid black; text-align:center;\"\n",
       "         width=\"40\" height=\"40\">4</td></tr><tr><td style=\"border:3px solid black; text-align:center;\"\n",
       "         width=\"40\" height=\"40\"></td><td style=\"border:3px solid black; text-align:center;\"\n",
       "         width=\"40\" height=\"40\"></td><td style=\"border:3px solid black; text-align:center;\"\n",
       "         width=\"40\" height=\"40\"></td><td style=\"border:3px solid black; text-align:center;\"\n",
       "         width=\"40\" height=\"40\">2</td></tr></table>"
      ],
      "text/plain": [
       "<IPython.core.display.HTML object>"
      ]
     },
     "metadata": {},
     "output_type": "display_data"
    },
    {
     "name": "stdout",
     "output_type": "stream",
     "text": [
      "Iter: 3\n",
      "======Direction: left======\n"
     ]
    },
    {
     "data": {
      "text/html": [
       "<h1>Score: 4</h1><table style=\"border: 5px solid black;\"><tr><td style=\"border:3px solid black; text-align:center;\"\n",
       "         width=\"40\" height=\"40\"></td><td style=\"border:3px solid black; text-align:center;\"\n",
       "         width=\"40\" height=\"40\"></td><td style=\"border:3px solid black; text-align:center;\"\n",
       "         width=\"40\" height=\"40\"></td><td style=\"border:3px solid black; text-align:center;\"\n",
       "         width=\"40\" height=\"40\"></td></tr><tr><td style=\"border:3px solid black; text-align:center;\"\n",
       "         width=\"40\" height=\"40\">2</td><td style=\"border:3px solid black; text-align:center;\"\n",
       "         width=\"40\" height=\"40\"></td><td style=\"border:3px solid black; text-align:center;\"\n",
       "         width=\"40\" height=\"40\">4</td><td style=\"border:3px solid black; text-align:center;\"\n",
       "         width=\"40\" height=\"40\"></td></tr><tr><td style=\"border:3px solid black; text-align:center;\"\n",
       "         width=\"40\" height=\"40\">4</td><td style=\"border:3px solid black; text-align:center;\"\n",
       "         width=\"40\" height=\"40\"></td><td style=\"border:3px solid black; text-align:center;\"\n",
       "         width=\"40\" height=\"40\"></td><td style=\"border:3px solid black; text-align:center;\"\n",
       "         width=\"40\" height=\"40\"></td></tr><tr><td style=\"border:3px solid black; text-align:center;\"\n",
       "         width=\"40\" height=\"40\">2</td><td style=\"border:3px solid black; text-align:center;\"\n",
       "         width=\"40\" height=\"40\"></td><td style=\"border:3px solid black; text-align:center;\"\n",
       "         width=\"40\" height=\"40\"></td><td style=\"border:3px solid black; text-align:center;\"\n",
       "         width=\"40\" height=\"40\"></td></tr></table>"
      ],
      "text/plain": [
       "<IPython.core.display.HTML object>"
      ]
     },
     "metadata": {},
     "output_type": "display_data"
    },
    {
     "name": "stdout",
     "output_type": "stream",
     "text": [
      "Iter: 4\n",
      "======Direction: right======\n"
     ]
    },
    {
     "data": {
      "text/html": [
       "<h1>Score: 4</h1><table style=\"border: 5px solid black;\"><tr><td style=\"border:3px solid black; text-align:center;\"\n",
       "         width=\"40\" height=\"40\"></td><td style=\"border:3px solid black; text-align:center;\"\n",
       "         width=\"40\" height=\"40\"></td><td style=\"border:3px solid black; text-align:center;\"\n",
       "         width=\"40\" height=\"40\"></td><td style=\"border:3px solid black; text-align:center;\"\n",
       "         width=\"40\" height=\"40\"></td></tr><tr><td style=\"border:3px solid black; text-align:center;\"\n",
       "         width=\"40\" height=\"40\"></td><td style=\"border:3px solid black; text-align:center;\"\n",
       "         width=\"40\" height=\"40\"></td><td style=\"border:3px solid black; text-align:center;\"\n",
       "         width=\"40\" height=\"40\">2</td><td style=\"border:3px solid black; text-align:center;\"\n",
       "         width=\"40\" height=\"40\">4</td></tr><tr><td style=\"border:3px solid black; text-align:center;\"\n",
       "         width=\"40\" height=\"40\"></td><td style=\"border:3px solid black; text-align:center;\"\n",
       "         width=\"40\" height=\"40\"></td><td style=\"border:3px solid black; text-align:center;\"\n",
       "         width=\"40\" height=\"40\"></td><td style=\"border:3px solid black; text-align:center;\"\n",
       "         width=\"40\" height=\"40\">4</td></tr><tr><td style=\"border:3px solid black; text-align:center;\"\n",
       "         width=\"40\" height=\"40\"></td><td style=\"border:3px solid black; text-align:center;\"\n",
       "         width=\"40\" height=\"40\">4</td><td style=\"border:3px solid black; text-align:center;\"\n",
       "         width=\"40\" height=\"40\"></td><td style=\"border:3px solid black; text-align:center;\"\n",
       "         width=\"40\" height=\"40\">2</td></tr></table>"
      ],
      "text/plain": [
       "<IPython.core.display.HTML object>"
      ]
     },
     "metadata": {},
     "output_type": "display_data"
    },
    {
     "name": "stdout",
     "output_type": "stream",
     "text": [
      "Iter: 5\n",
      "======Direction: right======\n"
     ]
    },
    {
     "data": {
      "text/html": [
       "<h1>Score: 4</h1><table style=\"border: 5px solid black;\"><tr><td style=\"border:3px solid black; text-align:center;\"\n",
       "         width=\"40\" height=\"40\"></td><td style=\"border:3px solid black; text-align:center;\"\n",
       "         width=\"40\" height=\"40\"></td><td style=\"border:3px solid black; text-align:center;\"\n",
       "         width=\"40\" height=\"40\"></td><td style=\"border:3px solid black; text-align:center;\"\n",
       "         width=\"40\" height=\"40\"></td></tr><tr><td style=\"border:3px solid black; text-align:center;\"\n",
       "         width=\"40\" height=\"40\"></td><td style=\"border:3px solid black; text-align:center;\"\n",
       "         width=\"40\" height=\"40\">4</td><td style=\"border:3px solid black; text-align:center;\"\n",
       "         width=\"40\" height=\"40\">2</td><td style=\"border:3px solid black; text-align:center;\"\n",
       "         width=\"40\" height=\"40\">4</td></tr><tr><td style=\"border:3px solid black; text-align:center;\"\n",
       "         width=\"40\" height=\"40\"></td><td style=\"border:3px solid black; text-align:center;\"\n",
       "         width=\"40\" height=\"40\"></td><td style=\"border:3px solid black; text-align:center;\"\n",
       "         width=\"40\" height=\"40\"></td><td style=\"border:3px solid black; text-align:center;\"\n",
       "         width=\"40\" height=\"40\">4</td></tr><tr><td style=\"border:3px solid black; text-align:center;\"\n",
       "         width=\"40\" height=\"40\"></td><td style=\"border:3px solid black; text-align:center;\"\n",
       "         width=\"40\" height=\"40\"></td><td style=\"border:3px solid black; text-align:center;\"\n",
       "         width=\"40\" height=\"40\">4</td><td style=\"border:3px solid black; text-align:center;\"\n",
       "         width=\"40\" height=\"40\">2</td></tr></table>"
      ],
      "text/plain": [
       "<IPython.core.display.HTML object>"
      ]
     },
     "metadata": {},
     "output_type": "display_data"
    },
    {
     "name": "stdout",
     "output_type": "stream",
     "text": [
      "Iter: 6\n",
      "======Direction: left======\n"
     ]
    },
    {
     "data": {
      "text/html": [
       "<h1>Score: 4</h1><table style=\"border: 5px solid black;\"><tr><td style=\"border:3px solid black; text-align:center;\"\n",
       "         width=\"40\" height=\"40\">2</td><td style=\"border:3px solid black; text-align:center;\"\n",
       "         width=\"40\" height=\"40\"></td><td style=\"border:3px solid black; text-align:center;\"\n",
       "         width=\"40\" height=\"40\"></td><td style=\"border:3px solid black; text-align:center;\"\n",
       "         width=\"40\" height=\"40\"></td></tr><tr><td style=\"border:3px solid black; text-align:center;\"\n",
       "         width=\"40\" height=\"40\">4</td><td style=\"border:3px solid black; text-align:center;\"\n",
       "         width=\"40\" height=\"40\">2</td><td style=\"border:3px solid black; text-align:center;\"\n",
       "         width=\"40\" height=\"40\">4</td><td style=\"border:3px solid black; text-align:center;\"\n",
       "         width=\"40\" height=\"40\"></td></tr><tr><td style=\"border:3px solid black; text-align:center;\"\n",
       "         width=\"40\" height=\"40\">4</td><td style=\"border:3px solid black; text-align:center;\"\n",
       "         width=\"40\" height=\"40\"></td><td style=\"border:3px solid black; text-align:center;\"\n",
       "         width=\"40\" height=\"40\"></td><td style=\"border:3px solid black; text-align:center;\"\n",
       "         width=\"40\" height=\"40\"></td></tr><tr><td style=\"border:3px solid black; text-align:center;\"\n",
       "         width=\"40\" height=\"40\">4</td><td style=\"border:3px solid black; text-align:center;\"\n",
       "         width=\"40\" height=\"40\">2</td><td style=\"border:3px solid black; text-align:center;\"\n",
       "         width=\"40\" height=\"40\"></td><td style=\"border:3px solid black; text-align:center;\"\n",
       "         width=\"40\" height=\"40\"></td></tr></table>"
      ],
      "text/plain": [
       "<IPython.core.display.HTML object>"
      ]
     },
     "metadata": {},
     "output_type": "display_data"
    },
    {
     "name": "stdout",
     "output_type": "stream",
     "text": [
      "Iter: 7\n",
      "======Direction: left======\n"
     ]
    },
    {
     "data": {
      "text/html": [
       "<h1>Score: 4</h1><table style=\"border: 5px solid black;\"><tr><td style=\"border:3px solid black; text-align:center;\"\n",
       "         width=\"40\" height=\"40\">2</td><td style=\"border:3px solid black; text-align:center;\"\n",
       "         width=\"40\" height=\"40\"></td><td style=\"border:3px solid black; text-align:center;\"\n",
       "         width=\"40\" height=\"40\"></td><td style=\"border:3px solid black; text-align:center;\"\n",
       "         width=\"40\" height=\"40\"></td></tr><tr><td style=\"border:3px solid black; text-align:center;\"\n",
       "         width=\"40\" height=\"40\">4</td><td style=\"border:3px solid black; text-align:center;\"\n",
       "         width=\"40\" height=\"40\">2</td><td style=\"border:3px solid black; text-align:center;\"\n",
       "         width=\"40\" height=\"40\">4</td><td style=\"border:3px solid black; text-align:center;\"\n",
       "         width=\"40\" height=\"40\"></td></tr><tr><td style=\"border:3px solid black; text-align:center;\"\n",
       "         width=\"40\" height=\"40\">4</td><td style=\"border:3px solid black; text-align:center;\"\n",
       "         width=\"40\" height=\"40\">4</td><td style=\"border:3px solid black; text-align:center;\"\n",
       "         width=\"40\" height=\"40\"></td><td style=\"border:3px solid black; text-align:center;\"\n",
       "         width=\"40\" height=\"40\"></td></tr><tr><td style=\"border:3px solid black; text-align:center;\"\n",
       "         width=\"40\" height=\"40\">4</td><td style=\"border:3px solid black; text-align:center;\"\n",
       "         width=\"40\" height=\"40\">2</td><td style=\"border:3px solid black; text-align:center;\"\n",
       "         width=\"40\" height=\"40\"></td><td style=\"border:3px solid black; text-align:center;\"\n",
       "         width=\"40\" height=\"40\"></td></tr></table>"
      ],
      "text/plain": [
       "<IPython.core.display.HTML object>"
      ]
     },
     "metadata": {},
     "output_type": "display_data"
    },
    {
     "name": "stdout",
     "output_type": "stream",
     "text": [
      "Iter: 8\n",
      "======Direction: up======\n"
     ]
    },
    {
     "data": {
      "text/html": [
       "<h1>Score: 8</h1><table style=\"border: 5px solid black;\"><tr><td style=\"border:3px solid black; text-align:center;\"\n",
       "         width=\"40\" height=\"40\">2</td><td style=\"border:3px solid black; text-align:center;\"\n",
       "         width=\"40\" height=\"40\">2</td><td style=\"border:3px solid black; text-align:center;\"\n",
       "         width=\"40\" height=\"40\">4</td><td style=\"border:3px solid black; text-align:center;\"\n",
       "         width=\"40\" height=\"40\"></td></tr><tr><td style=\"border:3px solid black; text-align:center;\"\n",
       "         width=\"40\" height=\"40\">8</td><td style=\"border:3px solid black; text-align:center;\"\n",
       "         width=\"40\" height=\"40\">4</td><td style=\"border:3px solid black; text-align:center;\"\n",
       "         width=\"40\" height=\"40\"></td><td style=\"border:3px solid black; text-align:center;\"\n",
       "         width=\"40\" height=\"40\"></td></tr><tr><td style=\"border:3px solid black; text-align:center;\"\n",
       "         width=\"40\" height=\"40\">4</td><td style=\"border:3px solid black; text-align:center;\"\n",
       "         width=\"40\" height=\"40\">2</td><td style=\"border:3px solid black; text-align:center;\"\n",
       "         width=\"40\" height=\"40\"></td><td style=\"border:3px solid black; text-align:center;\"\n",
       "         width=\"40\" height=\"40\"></td></tr><tr><td style=\"border:3px solid black; text-align:center;\"\n",
       "         width=\"40\" height=\"40\">2</td><td style=\"border:3px solid black; text-align:center;\"\n",
       "         width=\"40\" height=\"40\"></td><td style=\"border:3px solid black; text-align:center;\"\n",
       "         width=\"40\" height=\"40\"></td><td style=\"border:3px solid black; text-align:center;\"\n",
       "         width=\"40\" height=\"40\"></td></tr></table>"
      ],
      "text/plain": [
       "<IPython.core.display.HTML object>"
      ]
     },
     "metadata": {},
     "output_type": "display_data"
    },
    {
     "name": "stdout",
     "output_type": "stream",
     "text": [
      "Iter: 9\n",
      "======Direction: up======\n"
     ]
    },
    {
     "data": {
      "text/html": [
       "<h1>Score: 8</h1><table style=\"border: 5px solid black;\"><tr><td style=\"border:3px solid black; text-align:center;\"\n",
       "         width=\"40\" height=\"40\">2</td><td style=\"border:3px solid black; text-align:center;\"\n",
       "         width=\"40\" height=\"40\">2</td><td style=\"border:3px solid black; text-align:center;\"\n",
       "         width=\"40\" height=\"40\">4</td><td style=\"border:3px solid black; text-align:center;\"\n",
       "         width=\"40\" height=\"40\">2</td></tr><tr><td style=\"border:3px solid black; text-align:center;\"\n",
       "         width=\"40\" height=\"40\">8</td><td style=\"border:3px solid black; text-align:center;\"\n",
       "         width=\"40\" height=\"40\">4</td><td style=\"border:3px solid black; text-align:center;\"\n",
       "         width=\"40\" height=\"40\"></td><td style=\"border:3px solid black; text-align:center;\"\n",
       "         width=\"40\" height=\"40\"></td></tr><tr><td style=\"border:3px solid black; text-align:center;\"\n",
       "         width=\"40\" height=\"40\">4</td><td style=\"border:3px solid black; text-align:center;\"\n",
       "         width=\"40\" height=\"40\">2</td><td style=\"border:3px solid black; text-align:center;\"\n",
       "         width=\"40\" height=\"40\"></td><td style=\"border:3px solid black; text-align:center;\"\n",
       "         width=\"40\" height=\"40\"></td></tr><tr><td style=\"border:3px solid black; text-align:center;\"\n",
       "         width=\"40\" height=\"40\">2</td><td style=\"border:3px solid black; text-align:center;\"\n",
       "         width=\"40\" height=\"40\"></td><td style=\"border:3px solid black; text-align:center;\"\n",
       "         width=\"40\" height=\"40\"></td><td style=\"border:3px solid black; text-align:center;\"\n",
       "         width=\"40\" height=\"40\"></td></tr></table>"
      ],
      "text/plain": [
       "<IPython.core.display.HTML object>"
      ]
     },
     "metadata": {},
     "output_type": "display_data"
    },
    {
     "name": "stdout",
     "output_type": "stream",
     "text": [
      "Iter: 10\n",
      "======Direction: right======\n"
     ]
    },
    {
     "data": {
      "text/html": [
       "<h1>Score: 8</h1><table style=\"border: 5px solid black;\"><tr><td style=\"border:3px solid black; text-align:center;\"\n",
       "         width=\"40\" height=\"40\"></td><td style=\"border:3px solid black; text-align:center;\"\n",
       "         width=\"40\" height=\"40\">4</td><td style=\"border:3px solid black; text-align:center;\"\n",
       "         width=\"40\" height=\"40\">4</td><td style=\"border:3px solid black; text-align:center;\"\n",
       "         width=\"40\" height=\"40\">2</td></tr><tr><td style=\"border:3px solid black; text-align:center;\"\n",
       "         width=\"40\" height=\"40\"></td><td style=\"border:3px solid black; text-align:center;\"\n",
       "         width=\"40\" height=\"40\"></td><td style=\"border:3px solid black; text-align:center;\"\n",
       "         width=\"40\" height=\"40\">8</td><td style=\"border:3px solid black; text-align:center;\"\n",
       "         width=\"40\" height=\"40\">4</td></tr><tr><td style=\"border:3px solid black; text-align:center;\"\n",
       "         width=\"40\" height=\"40\"></td><td style=\"border:3px solid black; text-align:center;\"\n",
       "         width=\"40\" height=\"40\"></td><td style=\"border:3px solid black; text-align:center;\"\n",
       "         width=\"40\" height=\"40\">4</td><td style=\"border:3px solid black; text-align:center;\"\n",
       "         width=\"40\" height=\"40\">2</td></tr><tr><td style=\"border:3px solid black; text-align:center;\"\n",
       "         width=\"40\" height=\"40\"></td><td style=\"border:3px solid black; text-align:center;\"\n",
       "         width=\"40\" height=\"40\">2</td><td style=\"border:3px solid black; text-align:center;\"\n",
       "         width=\"40\" height=\"40\"></td><td style=\"border:3px solid black; text-align:center;\"\n",
       "         width=\"40\" height=\"40\">2</td></tr></table>"
      ],
      "text/plain": [
       "<IPython.core.display.HTML object>"
      ]
     },
     "metadata": {},
     "output_type": "display_data"
    },
    {
     "name": "stdout",
     "output_type": "stream",
     "text": [
      "Iter: 11\n",
      "======Direction: left======\n"
     ]
    },
    {
     "data": {
      "text/html": [
       "<h1>Score: 8</h1><table style=\"border: 5px solid black;\"><tr><td style=\"border:3px solid black; text-align:center;\"\n",
       "         width=\"40\" height=\"40\">8</td><td style=\"border:3px solid black; text-align:center;\"\n",
       "         width=\"40\" height=\"40\">2</td><td style=\"border:3px solid black; text-align:center;\"\n",
       "         width=\"40\" height=\"40\"></td><td style=\"border:3px solid black; text-align:center;\"\n",
       "         width=\"40\" height=\"40\">2</td></tr><tr><td style=\"border:3px solid black; text-align:center;\"\n",
       "         width=\"40\" height=\"40\">8</td><td style=\"border:3px solid black; text-align:center;\"\n",
       "         width=\"40\" height=\"40\">4</td><td style=\"border:3px solid black; text-align:center;\"\n",
       "         width=\"40\" height=\"40\"></td><td style=\"border:3px solid black; text-align:center;\"\n",
       "         width=\"40\" height=\"40\"></td></tr><tr><td style=\"border:3px solid black; text-align:center;\"\n",
       "         width=\"40\" height=\"40\">4</td><td style=\"border:3px solid black; text-align:center;\"\n",
       "         width=\"40\" height=\"40\">2</td><td style=\"border:3px solid black; text-align:center;\"\n",
       "         width=\"40\" height=\"40\"></td><td style=\"border:3px solid black; text-align:center;\"\n",
       "         width=\"40\" height=\"40\"></td></tr><tr><td style=\"border:3px solid black; text-align:center;\"\n",
       "         width=\"40\" height=\"40\">4</td><td style=\"border:3px solid black; text-align:center;\"\n",
       "         width=\"40\" height=\"40\"></td><td style=\"border:3px solid black; text-align:center;\"\n",
       "         width=\"40\" height=\"40\"></td><td style=\"border:3px solid black; text-align:center;\"\n",
       "         width=\"40\" height=\"40\"></td></tr></table>"
      ],
      "text/plain": [
       "<IPython.core.display.HTML object>"
      ]
     },
     "metadata": {},
     "output_type": "display_data"
    },
    {
     "name": "stdout",
     "output_type": "stream",
     "text": [
      "Iter: 12\n",
      "======Direction: left======\n"
     ]
    },
    {
     "data": {
      "text/html": [
       "<h1>Score: 8</h1><table style=\"border: 5px solid black;\"><tr><td style=\"border:3px solid black; text-align:center;\"\n",
       "         width=\"40\" height=\"40\">8</td><td style=\"border:3px solid black; text-align:center;\"\n",
       "         width=\"40\" height=\"40\">4</td><td style=\"border:3px solid black; text-align:center;\"\n",
       "         width=\"40\" height=\"40\"></td><td style=\"border:3px solid black; text-align:center;\"\n",
       "         width=\"40\" height=\"40\">2</td></tr><tr><td style=\"border:3px solid black; text-align:center;\"\n",
       "         width=\"40\" height=\"40\">8</td><td style=\"border:3px solid black; text-align:center;\"\n",
       "         width=\"40\" height=\"40\">4</td><td style=\"border:3px solid black; text-align:center;\"\n",
       "         width=\"40\" height=\"40\"></td><td style=\"border:3px solid black; text-align:center;\"\n",
       "         width=\"40\" height=\"40\"></td></tr><tr><td style=\"border:3px solid black; text-align:center;\"\n",
       "         width=\"40\" height=\"40\">4</td><td style=\"border:3px solid black; text-align:center;\"\n",
       "         width=\"40\" height=\"40\">2</td><td style=\"border:3px solid black; text-align:center;\"\n",
       "         width=\"40\" height=\"40\"></td><td style=\"border:3px solid black; text-align:center;\"\n",
       "         width=\"40\" height=\"40\"></td></tr><tr><td style=\"border:3px solid black; text-align:center;\"\n",
       "         width=\"40\" height=\"40\">4</td><td style=\"border:3px solid black; text-align:center;\"\n",
       "         width=\"40\" height=\"40\"></td><td style=\"border:3px solid black; text-align:center;\"\n",
       "         width=\"40\" height=\"40\"></td><td style=\"border:3px solid black; text-align:center;\"\n",
       "         width=\"40\" height=\"40\"></td></tr></table>"
      ],
      "text/plain": [
       "<IPython.core.display.HTML object>"
      ]
     },
     "metadata": {},
     "output_type": "display_data"
    },
    {
     "name": "stdout",
     "output_type": "stream",
     "text": [
      "Iter: 13\n",
      "======Direction: up======\n"
     ]
    },
    {
     "data": {
      "text/html": [
       "<h1>Score: 16</h1><table style=\"border: 5px solid black;\"><tr><td style=\"border:3px solid black; text-align:center;\"\n",
       "         width=\"40\" height=\"40\">16</td><td style=\"border:3px solid black; text-align:center;\"\n",
       "         width=\"40\" height=\"40\">8</td><td style=\"border:3px solid black; text-align:center;\"\n",
       "         width=\"40\" height=\"40\"></td><td style=\"border:3px solid black; text-align:center;\"\n",
       "         width=\"40\" height=\"40\">2</td></tr><tr><td style=\"border:3px solid black; text-align:center;\"\n",
       "         width=\"40\" height=\"40\">8</td><td style=\"border:3px solid black; text-align:center;\"\n",
       "         width=\"40\" height=\"40\">2</td><td style=\"border:3px solid black; text-align:center;\"\n",
       "         width=\"40\" height=\"40\"></td><td style=\"border:3px solid black; text-align:center;\"\n",
       "         width=\"40\" height=\"40\"></td></tr><tr><td style=\"border:3px solid black; text-align:center;\"\n",
       "         width=\"40\" height=\"40\"></td><td style=\"border:3px solid black; text-align:center;\"\n",
       "         width=\"40\" height=\"40\"></td><td style=\"border:3px solid black; text-align:center;\"\n",
       "         width=\"40\" height=\"40\"></td><td style=\"border:3px solid black; text-align:center;\"\n",
       "         width=\"40\" height=\"40\"></td></tr><tr><td style=\"border:3px solid black; text-align:center;\"\n",
       "         width=\"40\" height=\"40\"></td><td style=\"border:3px solid black; text-align:center;\"\n",
       "         width=\"40\" height=\"40\"></td><td style=\"border:3px solid black; text-align:center;\"\n",
       "         width=\"40\" height=\"40\">2</td><td style=\"border:3px solid black; text-align:center;\"\n",
       "         width=\"40\" height=\"40\"></td></tr></table>"
      ],
      "text/plain": [
       "<IPython.core.display.HTML object>"
      ]
     },
     "metadata": {},
     "output_type": "display_data"
    },
    {
     "name": "stdout",
     "output_type": "stream",
     "text": [
      "Iter: 14\n",
      "======Direction: right======\n"
     ]
    },
    {
     "data": {
      "text/html": [
       "<h1>Score: 16</h1><table style=\"border: 5px solid black;\"><tr><td style=\"border:3px solid black; text-align:center;\"\n",
       "         width=\"40\" height=\"40\"></td><td style=\"border:3px solid black; text-align:center;\"\n",
       "         width=\"40\" height=\"40\">16</td><td style=\"border:3px solid black; text-align:center;\"\n",
       "         width=\"40\" height=\"40\">8</td><td style=\"border:3px solid black; text-align:center;\"\n",
       "         width=\"40\" height=\"40\">2</td></tr><tr><td style=\"border:3px solid black; text-align:center;\"\n",
       "         width=\"40\" height=\"40\"></td><td style=\"border:3px solid black; text-align:center;\"\n",
       "         width=\"40\" height=\"40\"></td><td style=\"border:3px solid black; text-align:center;\"\n",
       "         width=\"40\" height=\"40\">8</td><td style=\"border:3px solid black; text-align:center;\"\n",
       "         width=\"40\" height=\"40\">2</td></tr><tr><td style=\"border:3px solid black; text-align:center;\"\n",
       "         width=\"40\" height=\"40\"></td><td style=\"border:3px solid black; text-align:center;\"\n",
       "         width=\"40\" height=\"40\"></td><td style=\"border:3px solid black; text-align:center;\"\n",
       "         width=\"40\" height=\"40\"></td><td style=\"border:3px solid black; text-align:center;\"\n",
       "         width=\"40\" height=\"40\"></td></tr><tr><td style=\"border:3px solid black; text-align:center;\"\n",
       "         width=\"40\" height=\"40\">2</td><td style=\"border:3px solid black; text-align:center;\"\n",
       "         width=\"40\" height=\"40\"></td><td style=\"border:3px solid black; text-align:center;\"\n",
       "         width=\"40\" height=\"40\"></td><td style=\"border:3px solid black; text-align:center;\"\n",
       "         width=\"40\" height=\"40\">2</td></tr></table>"
      ],
      "text/plain": [
       "<IPython.core.display.HTML object>"
      ]
     },
     "metadata": {},
     "output_type": "display_data"
    },
    {
     "name": "stdout",
     "output_type": "stream",
     "text": [
      "Iter: 15\n",
      "======Direction: left======\n"
     ]
    },
    {
     "data": {
      "text/html": [
       "<h1>Score: 16</h1><table style=\"border: 5px solid black;\"><tr><td style=\"border:3px solid black; text-align:center;\"\n",
       "         width=\"40\" height=\"40\">16</td><td style=\"border:3px solid black; text-align:center;\"\n",
       "         width=\"40\" height=\"40\">8</td><td style=\"border:3px solid black; text-align:center;\"\n",
       "         width=\"40\" height=\"40\">2</td><td style=\"border:3px solid black; text-align:center;\"\n",
       "         width=\"40\" height=\"40\"></td></tr><tr><td style=\"border:3px solid black; text-align:center;\"\n",
       "         width=\"40\" height=\"40\">8</td><td style=\"border:3px solid black; text-align:center;\"\n",
       "         width=\"40\" height=\"40\">2</td><td style=\"border:3px solid black; text-align:center;\"\n",
       "         width=\"40\" height=\"40\"></td><td style=\"border:3px solid black; text-align:center;\"\n",
       "         width=\"40\" height=\"40\">4</td></tr><tr><td style=\"border:3px solid black; text-align:center;\"\n",
       "         width=\"40\" height=\"40\"></td><td style=\"border:3px solid black; text-align:center;\"\n",
       "         width=\"40\" height=\"40\"></td><td style=\"border:3px solid black; text-align:center;\"\n",
       "         width=\"40\" height=\"40\"></td><td style=\"border:3px solid black; text-align:center;\"\n",
       "         width=\"40\" height=\"40\"></td></tr><tr><td style=\"border:3px solid black; text-align:center;\"\n",
       "         width=\"40\" height=\"40\">4</td><td style=\"border:3px solid black; text-align:center;\"\n",
       "         width=\"40\" height=\"40\"></td><td style=\"border:3px solid black; text-align:center;\"\n",
       "         width=\"40\" height=\"40\"></td><td style=\"border:3px solid black; text-align:center;\"\n",
       "         width=\"40\" height=\"40\"></td></tr></table>"
      ],
      "text/plain": [
       "<IPython.core.display.HTML object>"
      ]
     },
     "metadata": {},
     "output_type": "display_data"
    },
    {
     "name": "stdout",
     "output_type": "stream",
     "text": [
      "Iter: 16\n",
      "======Direction: down======\n"
     ]
    },
    {
     "data": {
      "text/html": [
       "<h1>Score: 16</h1><table style=\"border: 5px solid black;\"><tr><td style=\"border:3px solid black; text-align:center;\"\n",
       "         width=\"40\" height=\"40\">2</td><td style=\"border:3px solid black; text-align:center;\"\n",
       "         width=\"40\" height=\"40\"></td><td style=\"border:3px solid black; text-align:center;\"\n",
       "         width=\"40\" height=\"40\"></td><td style=\"border:3px solid black; text-align:center;\"\n",
       "         width=\"40\" height=\"40\"></td></tr><tr><td style=\"border:3px solid black; text-align:center;\"\n",
       "         width=\"40\" height=\"40\">16</td><td style=\"border:3px solid black; text-align:center;\"\n",
       "         width=\"40\" height=\"40\"></td><td style=\"border:3px solid black; text-align:center;\"\n",
       "         width=\"40\" height=\"40\"></td><td style=\"border:3px solid black; text-align:center;\"\n",
       "         width=\"40\" height=\"40\"></td></tr><tr><td style=\"border:3px solid black; text-align:center;\"\n",
       "         width=\"40\" height=\"40\">8</td><td style=\"border:3px solid black; text-align:center;\"\n",
       "         width=\"40\" height=\"40\">8</td><td style=\"border:3px solid black; text-align:center;\"\n",
       "         width=\"40\" height=\"40\"></td><td style=\"border:3px solid black; text-align:center;\"\n",
       "         width=\"40\" height=\"40\"></td></tr><tr><td style=\"border:3px solid black; text-align:center;\"\n",
       "         width=\"40\" height=\"40\">4</td><td style=\"border:3px solid black; text-align:center;\"\n",
       "         width=\"40\" height=\"40\">2</td><td style=\"border:3px solid black; text-align:center;\"\n",
       "         width=\"40\" height=\"40\">2</td><td style=\"border:3px solid black; text-align:center;\"\n",
       "         width=\"40\" height=\"40\">4</td></tr></table>"
      ],
      "text/plain": [
       "<IPython.core.display.HTML object>"
      ]
     },
     "metadata": {},
     "output_type": "display_data"
    },
    {
     "name": "stdout",
     "output_type": "stream",
     "text": [
      "Iter: 17\n",
      "======Direction: right======\n"
     ]
    },
    {
     "data": {
      "text/html": [
       "<h1>Score: 16</h1><table style=\"border: 5px solid black;\"><tr><td style=\"border:3px solid black; text-align:center;\"\n",
       "         width=\"40\" height=\"40\"></td><td style=\"border:3px solid black; text-align:center;\"\n",
       "         width=\"40\" height=\"40\"></td><td style=\"border:3px solid black; text-align:center;\"\n",
       "         width=\"40\" height=\"40\"></td><td style=\"border:3px solid black; text-align:center;\"\n",
       "         width=\"40\" height=\"40\">2</td></tr><tr><td style=\"border:3px solid black; text-align:center;\"\n",
       "         width=\"40\" height=\"40\"></td><td style=\"border:3px solid black; text-align:center;\"\n",
       "         width=\"40\" height=\"40\"></td><td style=\"border:3px solid black; text-align:center;\"\n",
       "         width=\"40\" height=\"40\"></td><td style=\"border:3px solid black; text-align:center;\"\n",
       "         width=\"40\" height=\"40\">16</td></tr><tr><td style=\"border:3px solid black; text-align:center;\"\n",
       "         width=\"40\" height=\"40\"></td><td style=\"border:3px solid black; text-align:center;\"\n",
       "         width=\"40\" height=\"40\">2</td><td style=\"border:3px solid black; text-align:center;\"\n",
       "         width=\"40\" height=\"40\"></td><td style=\"border:3px solid black; text-align:center;\"\n",
       "         width=\"40\" height=\"40\">16</td></tr><tr><td style=\"border:3px solid black; text-align:center;\"\n",
       "         width=\"40\" height=\"40\"></td><td style=\"border:3px solid black; text-align:center;\"\n",
       "         width=\"40\" height=\"40\">4</td><td style=\"border:3px solid black; text-align:center;\"\n",
       "         width=\"40\" height=\"40\">4</td><td style=\"border:3px solid black; text-align:center;\"\n",
       "         width=\"40\" height=\"40\">4</td></tr></table>"
      ],
      "text/plain": [
       "<IPython.core.display.HTML object>"
      ]
     },
     "metadata": {},
     "output_type": "display_data"
    },
    {
     "name": "stdout",
     "output_type": "stream",
     "text": [
      "Iter: 18\n",
      "======Direction: up======\n"
     ]
    },
    {
     "data": {
      "text/html": [
       "<h1>Score: 32</h1><table style=\"border: 5px solid black;\"><tr><td style=\"border:3px solid black; text-align:center;\"\n",
       "         width=\"40\" height=\"40\"></td><td style=\"border:3px solid black; text-align:center;\"\n",
       "         width=\"40\" height=\"40\">2</td><td style=\"border:3px solid black; text-align:center;\"\n",
       "         width=\"40\" height=\"40\">4</td><td style=\"border:3px solid black; text-align:center;\"\n",
       "         width=\"40\" height=\"40\">2</td></tr><tr><td style=\"border:3px solid black; text-align:center;\"\n",
       "         width=\"40\" height=\"40\"></td><td style=\"border:3px solid black; text-align:center;\"\n",
       "         width=\"40\" height=\"40\">4</td><td style=\"border:3px solid black; text-align:center;\"\n",
       "         width=\"40\" height=\"40\"></td><td style=\"border:3px solid black; text-align:center;\"\n",
       "         width=\"40\" height=\"40\">32</td></tr><tr><td style=\"border:3px solid black; text-align:center;\"\n",
       "         width=\"40\" height=\"40\"></td><td style=\"border:3px solid black; text-align:center;\"\n",
       "         width=\"40\" height=\"40\"></td><td style=\"border:3px solid black; text-align:center;\"\n",
       "         width=\"40\" height=\"40\">2</td><td style=\"border:3px solid black; text-align:center;\"\n",
       "         width=\"40\" height=\"40\">4</td></tr><tr><td style=\"border:3px solid black; text-align:center;\"\n",
       "         width=\"40\" height=\"40\"></td><td style=\"border:3px solid black; text-align:center;\"\n",
       "         width=\"40\" height=\"40\"></td><td style=\"border:3px solid black; text-align:center;\"\n",
       "         width=\"40\" height=\"40\"></td><td style=\"border:3px solid black; text-align:center;\"\n",
       "         width=\"40\" height=\"40\"></td></tr></table>"
      ],
      "text/plain": [
       "<IPython.core.display.HTML object>"
      ]
     },
     "metadata": {},
     "output_type": "display_data"
    },
    {
     "name": "stdout",
     "output_type": "stream",
     "text": [
      "Iter: 19\n",
      "======Direction: up======\n"
     ]
    },
    {
     "data": {
      "text/html": [
       "<h1>Score: 32</h1><table style=\"border: 5px solid black;\"><tr><td style=\"border:3px solid black; text-align:center;\"\n",
       "         width=\"40\" height=\"40\">4</td><td style=\"border:3px solid black; text-align:center;\"\n",
       "         width=\"40\" height=\"40\">2</td><td style=\"border:3px solid black; text-align:center;\"\n",
       "         width=\"40\" height=\"40\">4</td><td style=\"border:3px solid black; text-align:center;\"\n",
       "         width=\"40\" height=\"40\">2</td></tr><tr><td style=\"border:3px solid black; text-align:center;\"\n",
       "         width=\"40\" height=\"40\"></td><td style=\"border:3px solid black; text-align:center;\"\n",
       "         width=\"40\" height=\"40\">4</td><td style=\"border:3px solid black; text-align:center;\"\n",
       "         width=\"40\" height=\"40\">2</td><td style=\"border:3px solid black; text-align:center;\"\n",
       "         width=\"40\" height=\"40\">32</td></tr><tr><td style=\"border:3px solid black; text-align:center;\"\n",
       "         width=\"40\" height=\"40\"></td><td style=\"border:3px solid black; text-align:center;\"\n",
       "         width=\"40\" height=\"40\"></td><td style=\"border:3px solid black; text-align:center;\"\n",
       "         width=\"40\" height=\"40\"></td><td style=\"border:3px solid black; text-align:center;\"\n",
       "         width=\"40\" height=\"40\">4</td></tr><tr><td style=\"border:3px solid black; text-align:center;\"\n",
       "         width=\"40\" height=\"40\"></td><td style=\"border:3px solid black; text-align:center;\"\n",
       "         width=\"40\" height=\"40\"></td><td style=\"border:3px solid black; text-align:center;\"\n",
       "         width=\"40\" height=\"40\"></td><td style=\"border:3px solid black; text-align:center;\"\n",
       "         width=\"40\" height=\"40\"></td></tr></table>"
      ],
      "text/plain": [
       "<IPython.core.display.HTML object>"
      ]
     },
     "metadata": {},
     "output_type": "display_data"
    },
    {
     "name": "stdout",
     "output_type": "stream",
     "text": [
      "Iter: 20\n",
      "======Direction: right======\n"
     ]
    },
    {
     "data": {
      "text/html": [
       "<h1>Score: 32</h1><table style=\"border: 5px solid black;\"><tr><td style=\"border:3px solid black; text-align:center;\"\n",
       "         width=\"40\" height=\"40\">4</td><td style=\"border:3px solid black; text-align:center;\"\n",
       "         width=\"40\" height=\"40\">2</td><td style=\"border:3px solid black; text-align:center;\"\n",
       "         width=\"40\" height=\"40\">4</td><td style=\"border:3px solid black; text-align:center;\"\n",
       "         width=\"40\" height=\"40\">2</td></tr><tr><td style=\"border:3px solid black; text-align:center;\"\n",
       "         width=\"40\" height=\"40\"></td><td style=\"border:3px solid black; text-align:center;\"\n",
       "         width=\"40\" height=\"40\">4</td><td style=\"border:3px solid black; text-align:center;\"\n",
       "         width=\"40\" height=\"40\">2</td><td style=\"border:3px solid black; text-align:center;\"\n",
       "         width=\"40\" height=\"40\">32</td></tr><tr><td style=\"border:3px solid black; text-align:center;\"\n",
       "         width=\"40\" height=\"40\"></td><td style=\"border:3px solid black; text-align:center;\"\n",
       "         width=\"40\" height=\"40\"></td><td style=\"border:3px solid black; text-align:center;\"\n",
       "         width=\"40\" height=\"40\">4</td><td style=\"border:3px solid black; text-align:center;\"\n",
       "         width=\"40\" height=\"40\">4</td></tr><tr><td style=\"border:3px solid black; text-align:center;\"\n",
       "         width=\"40\" height=\"40\"></td><td style=\"border:3px solid black; text-align:center;\"\n",
       "         width=\"40\" height=\"40\"></td><td style=\"border:3px solid black; text-align:center;\"\n",
       "         width=\"40\" height=\"40\"></td><td style=\"border:3px solid black; text-align:center;\"\n",
       "         width=\"40\" height=\"40\"></td></tr></table>"
      ],
      "text/plain": [
       "<IPython.core.display.HTML object>"
      ]
     },
     "metadata": {},
     "output_type": "display_data"
    },
    {
     "name": "stdout",
     "output_type": "stream",
     "text": [
      "Iter: 21\n",
      "======Direction: up======\n"
     ]
    },
    {
     "data": {
      "text/html": [
       "<h1>Score: 32</h1><table style=\"border: 5px solid black;\"><tr><td style=\"border:3px solid black; text-align:center;\"\n",
       "         width=\"40\" height=\"40\">4</td><td style=\"border:3px solid black; text-align:center;\"\n",
       "         width=\"40\" height=\"40\">2</td><td style=\"border:3px solid black; text-align:center;\"\n",
       "         width=\"40\" height=\"40\">4</td><td style=\"border:3px solid black; text-align:center;\"\n",
       "         width=\"40\" height=\"40\">2</td></tr><tr><td style=\"border:3px solid black; text-align:center;\"\n",
       "         width=\"40\" height=\"40\"></td><td style=\"border:3px solid black; text-align:center;\"\n",
       "         width=\"40\" height=\"40\">4</td><td style=\"border:3px solid black; text-align:center;\"\n",
       "         width=\"40\" height=\"40\">2</td><td style=\"border:3px solid black; text-align:center;\"\n",
       "         width=\"40\" height=\"40\">32</td></tr><tr><td style=\"border:3px solid black; text-align:center;\"\n",
       "         width=\"40\" height=\"40\">4</td><td style=\"border:3px solid black; text-align:center;\"\n",
       "         width=\"40\" height=\"40\"></td><td style=\"border:3px solid black; text-align:center;\"\n",
       "         width=\"40\" height=\"40\">4</td><td style=\"border:3px solid black; text-align:center;\"\n",
       "         width=\"40\" height=\"40\">4</td></tr><tr><td style=\"border:3px solid black; text-align:center;\"\n",
       "         width=\"40\" height=\"40\"></td><td style=\"border:3px solid black; text-align:center;\"\n",
       "         width=\"40\" height=\"40\"></td><td style=\"border:3px solid black; text-align:center;\"\n",
       "         width=\"40\" height=\"40\"></td><td style=\"border:3px solid black; text-align:center;\"\n",
       "         width=\"40\" height=\"40\"></td></tr></table>"
      ],
      "text/plain": [
       "<IPython.core.display.HTML object>"
      ]
     },
     "metadata": {},
     "output_type": "display_data"
    },
    {
     "name": "stdout",
     "output_type": "stream",
     "text": [
      "Iter: 22\n",
      "======Direction: right======\n"
     ]
    },
    {
     "data": {
      "text/html": [
       "<h1>Score: 32</h1><table style=\"border: 5px solid black;\"><tr><td style=\"border:3px solid black; text-align:center;\"\n",
       "         width=\"40\" height=\"40\">4</td><td style=\"border:3px solid black; text-align:center;\"\n",
       "         width=\"40\" height=\"40\">2</td><td style=\"border:3px solid black; text-align:center;\"\n",
       "         width=\"40\" height=\"40\">4</td><td style=\"border:3px solid black; text-align:center;\"\n",
       "         width=\"40\" height=\"40\">2</td></tr><tr><td style=\"border:3px solid black; text-align:center;\"\n",
       "         width=\"40\" height=\"40\">4</td><td style=\"border:3px solid black; text-align:center;\"\n",
       "         width=\"40\" height=\"40\">4</td><td style=\"border:3px solid black; text-align:center;\"\n",
       "         width=\"40\" height=\"40\">2</td><td style=\"border:3px solid black; text-align:center;\"\n",
       "         width=\"40\" height=\"40\">32</td></tr><tr><td style=\"border:3px solid black; text-align:center;\"\n",
       "         width=\"40\" height=\"40\"></td><td style=\"border:3px solid black; text-align:center;\"\n",
       "         width=\"40\" height=\"40\"></td><td style=\"border:3px solid black; text-align:center;\"\n",
       "         width=\"40\" height=\"40\">4</td><td style=\"border:3px solid black; text-align:center;\"\n",
       "         width=\"40\" height=\"40\">8</td></tr><tr><td style=\"border:3px solid black; text-align:center;\"\n",
       "         width=\"40\" height=\"40\"></td><td style=\"border:3px solid black; text-align:center;\"\n",
       "         width=\"40\" height=\"40\"></td><td style=\"border:3px solid black; text-align:center;\"\n",
       "         width=\"40\" height=\"40\"></td><td style=\"border:3px solid black; text-align:center;\"\n",
       "         width=\"40\" height=\"40\"></td></tr></table>"
      ],
      "text/plain": [
       "<IPython.core.display.HTML object>"
      ]
     },
     "metadata": {},
     "output_type": "display_data"
    },
    {
     "name": "stdout",
     "output_type": "stream",
     "text": [
      "Iter: 23\n",
      "======Direction: up======\n"
     ]
    },
    {
     "data": {
      "text/html": [
       "<h1>Score: 32</h1><table style=\"border: 5px solid black;\"><tr><td style=\"border:3px solid black; text-align:center;\"\n",
       "         width=\"40\" height=\"40\">8</td><td style=\"border:3px solid black; text-align:center;\"\n",
       "         width=\"40\" height=\"40\">2</td><td style=\"border:3px solid black; text-align:center;\"\n",
       "         width=\"40\" height=\"40\">4</td><td style=\"border:3px solid black; text-align:center;\"\n",
       "         width=\"40\" height=\"40\">2</td></tr><tr><td style=\"border:3px solid black; text-align:center;\"\n",
       "         width=\"40\" height=\"40\"></td><td style=\"border:3px solid black; text-align:center;\"\n",
       "         width=\"40\" height=\"40\">4</td><td style=\"border:3px solid black; text-align:center;\"\n",
       "         width=\"40\" height=\"40\">2</td><td style=\"border:3px solid black; text-align:center;\"\n",
       "         width=\"40\" height=\"40\">32</td></tr><tr><td style=\"border:3px solid black; text-align:center;\"\n",
       "         width=\"40\" height=\"40\">2</td><td style=\"border:3px solid black; text-align:center;\"\n",
       "         width=\"40\" height=\"40\"></td><td style=\"border:3px solid black; text-align:center;\"\n",
       "         width=\"40\" height=\"40\">4</td><td style=\"border:3px solid black; text-align:center;\"\n",
       "         width=\"40\" height=\"40\">8</td></tr><tr><td style=\"border:3px solid black; text-align:center;\"\n",
       "         width=\"40\" height=\"40\"></td><td style=\"border:3px solid black; text-align:center;\"\n",
       "         width=\"40\" height=\"40\"></td><td style=\"border:3px solid black; text-align:center;\"\n",
       "         width=\"40\" height=\"40\"></td><td style=\"border:3px solid black; text-align:center;\"\n",
       "         width=\"40\" height=\"40\"></td></tr></table>"
      ],
      "text/plain": [
       "<IPython.core.display.HTML object>"
      ]
     },
     "metadata": {},
     "output_type": "display_data"
    },
    {
     "name": "stdout",
     "output_type": "stream",
     "text": [
      "Iter: 24\n",
      "======Direction: right======\n"
     ]
    },
    {
     "data": {
      "text/html": [
       "<h1>Score: 32</h1><table style=\"border: 5px solid black;\"><tr><td style=\"border:3px solid black; text-align:center;\"\n",
       "         width=\"40\" height=\"40\">8</td><td style=\"border:3px solid black; text-align:center;\"\n",
       "         width=\"40\" height=\"40\">2</td><td style=\"border:3px solid black; text-align:center;\"\n",
       "         width=\"40\" height=\"40\">4</td><td style=\"border:3px solid black; text-align:center;\"\n",
       "         width=\"40\" height=\"40\">2</td></tr><tr><td style=\"border:3px solid black; text-align:center;\"\n",
       "         width=\"40\" height=\"40\"></td><td style=\"border:3px solid black; text-align:center;\"\n",
       "         width=\"40\" height=\"40\">4</td><td style=\"border:3px solid black; text-align:center;\"\n",
       "         width=\"40\" height=\"40\">2</td><td style=\"border:3px solid black; text-align:center;\"\n",
       "         width=\"40\" height=\"40\">32</td></tr><tr><td style=\"border:3px solid black; text-align:center;\"\n",
       "         width=\"40\" height=\"40\"></td><td style=\"border:3px solid black; text-align:center;\"\n",
       "         width=\"40\" height=\"40\">2</td><td style=\"border:3px solid black; text-align:center;\"\n",
       "         width=\"40\" height=\"40\">4</td><td style=\"border:3px solid black; text-align:center;\"\n",
       "         width=\"40\" height=\"40\">8</td></tr><tr><td style=\"border:3px solid black; text-align:center;\"\n",
       "         width=\"40\" height=\"40\"></td><td style=\"border:3px solid black; text-align:center;\"\n",
       "         width=\"40\" height=\"40\">4</td><td style=\"border:3px solid black; text-align:center;\"\n",
       "         width=\"40\" height=\"40\"></td><td style=\"border:3px solid black; text-align:center;\"\n",
       "         width=\"40\" height=\"40\"></td></tr></table>"
      ],
      "text/plain": [
       "<IPython.core.display.HTML object>"
      ]
     },
     "metadata": {},
     "output_type": "display_data"
    },
    {
     "name": "stdout",
     "output_type": "stream",
     "text": [
      "Iter: 25\n",
      "======Direction: right======\n"
     ]
    },
    {
     "data": {
      "text/html": [
       "<h1>Score: 32</h1><table style=\"border: 5px solid black;\"><tr><td style=\"border:3px solid black; text-align:center;\"\n",
       "         width=\"40\" height=\"40\">8</td><td style=\"border:3px solid black; text-align:center;\"\n",
       "         width=\"40\" height=\"40\">2</td><td style=\"border:3px solid black; text-align:center;\"\n",
       "         width=\"40\" height=\"40\">4</td><td style=\"border:3px solid black; text-align:center;\"\n",
       "         width=\"40\" height=\"40\">2</td></tr><tr><td style=\"border:3px solid black; text-align:center;\"\n",
       "         width=\"40\" height=\"40\"></td><td style=\"border:3px solid black; text-align:center;\"\n",
       "         width=\"40\" height=\"40\">4</td><td style=\"border:3px solid black; text-align:center;\"\n",
       "         width=\"40\" height=\"40\">2</td><td style=\"border:3px solid black; text-align:center;\"\n",
       "         width=\"40\" height=\"40\">32</td></tr><tr><td style=\"border:3px solid black; text-align:center;\"\n",
       "         width=\"40\" height=\"40\"></td><td style=\"border:3px solid black; text-align:center;\"\n",
       "         width=\"40\" height=\"40\">2</td><td style=\"border:3px solid black; text-align:center;\"\n",
       "         width=\"40\" height=\"40\">4</td><td style=\"border:3px solid black; text-align:center;\"\n",
       "         width=\"40\" height=\"40\">8</td></tr><tr><td style=\"border:3px solid black; text-align:center;\"\n",
       "         width=\"40\" height=\"40\"></td><td style=\"border:3px solid black; text-align:center;\"\n",
       "         width=\"40\" height=\"40\">4</td><td style=\"border:3px solid black; text-align:center;\"\n",
       "         width=\"40\" height=\"40\"></td><td style=\"border:3px solid black; text-align:center;\"\n",
       "         width=\"40\" height=\"40\">4</td></tr></table>"
      ],
      "text/plain": [
       "<IPython.core.display.HTML object>"
      ]
     },
     "metadata": {},
     "output_type": "display_data"
    },
    {
     "name": "stdout",
     "output_type": "stream",
     "text": [
      "Iter: 26\n",
      "======Direction: up======\n"
     ]
    },
    {
     "data": {
      "text/html": [
       "<h1>Score: 32</h1><table style=\"border: 5px solid black;\"><tr><td style=\"border:3px solid black; text-align:center;\"\n",
       "         width=\"40\" height=\"40\">8</td><td style=\"border:3px solid black; text-align:center;\"\n",
       "         width=\"40\" height=\"40\">2</td><td style=\"border:3px solid black; text-align:center;\"\n",
       "         width=\"40\" height=\"40\">4</td><td style=\"border:3px solid black; text-align:center;\"\n",
       "         width=\"40\" height=\"40\">2</td></tr><tr><td style=\"border:3px solid black; text-align:center;\"\n",
       "         width=\"40\" height=\"40\">2</td><td style=\"border:3px solid black; text-align:center;\"\n",
       "         width=\"40\" height=\"40\">4</td><td style=\"border:3px solid black; text-align:center;\"\n",
       "         width=\"40\" height=\"40\">2</td><td style=\"border:3px solid black; text-align:center;\"\n",
       "         width=\"40\" height=\"40\">32</td></tr><tr><td style=\"border:3px solid black; text-align:center;\"\n",
       "         width=\"40\" height=\"40\"></td><td style=\"border:3px solid black; text-align:center;\"\n",
       "         width=\"40\" height=\"40\">2</td><td style=\"border:3px solid black; text-align:center;\"\n",
       "         width=\"40\" height=\"40\">4</td><td style=\"border:3px solid black; text-align:center;\"\n",
       "         width=\"40\" height=\"40\">8</td></tr><tr><td style=\"border:3px solid black; text-align:center;\"\n",
       "         width=\"40\" height=\"40\"></td><td style=\"border:3px solid black; text-align:center;\"\n",
       "         width=\"40\" height=\"40\">4</td><td style=\"border:3px solid black; text-align:center;\"\n",
       "         width=\"40\" height=\"40\"></td><td style=\"border:3px solid black; text-align:center;\"\n",
       "         width=\"40\" height=\"40\">4</td></tr></table>"
      ],
      "text/plain": [
       "<IPython.core.display.HTML object>"
      ]
     },
     "metadata": {},
     "output_type": "display_data"
    },
    {
     "name": "stdout",
     "output_type": "stream",
     "text": [
      "Iter: 27\n",
      "======Direction: left======\n"
     ]
    },
    {
     "data": {
      "text/html": [
       "<h1>Score: 32</h1><table style=\"border: 5px solid black;\"><tr><td style=\"border:3px solid black; text-align:center;\"\n",
       "         width=\"40\" height=\"40\">8</td><td style=\"border:3px solid black; text-align:center;\"\n",
       "         width=\"40\" height=\"40\">2</td><td style=\"border:3px solid black; text-align:center;\"\n",
       "         width=\"40\" height=\"40\">4</td><td style=\"border:3px solid black; text-align:center;\"\n",
       "         width=\"40\" height=\"40\">2</td></tr><tr><td style=\"border:3px solid black; text-align:center;\"\n",
       "         width=\"40\" height=\"40\">2</td><td style=\"border:3px solid black; text-align:center;\"\n",
       "         width=\"40\" height=\"40\">4</td><td style=\"border:3px solid black; text-align:center;\"\n",
       "         width=\"40\" height=\"40\">2</td><td style=\"border:3px solid black; text-align:center;\"\n",
       "         width=\"40\" height=\"40\">32</td></tr><tr><td style=\"border:3px solid black; text-align:center;\"\n",
       "         width=\"40\" height=\"40\">2</td><td style=\"border:3px solid black; text-align:center;\"\n",
       "         width=\"40\" height=\"40\">4</td><td style=\"border:3px solid black; text-align:center;\"\n",
       "         width=\"40\" height=\"40\">8</td><td style=\"border:3px solid black; text-align:center;\"\n",
       "         width=\"40\" height=\"40\"></td></tr><tr><td style=\"border:3px solid black; text-align:center;\"\n",
       "         width=\"40\" height=\"40\">8</td><td style=\"border:3px solid black; text-align:center;\"\n",
       "         width=\"40\" height=\"40\"></td><td style=\"border:3px solid black; text-align:center;\"\n",
       "         width=\"40\" height=\"40\"></td><td style=\"border:3px solid black; text-align:center;\"\n",
       "         width=\"40\" height=\"40\">2</td></tr></table>"
      ],
      "text/plain": [
       "<IPython.core.display.HTML object>"
      ]
     },
     "metadata": {},
     "output_type": "display_data"
    },
    {
     "name": "stdout",
     "output_type": "stream",
     "text": [
      "Iter: 28\n",
      "======Direction: up======\n"
     ]
    },
    {
     "data": {
      "text/html": [
       "<h1>Score: 32</h1><table style=\"border: 5px solid black;\"><tr><td style=\"border:3px solid black; text-align:center;\"\n",
       "         width=\"40\" height=\"40\">8</td><td style=\"border:3px solid black; text-align:center;\"\n",
       "         width=\"40\" height=\"40\">2</td><td style=\"border:3px solid black; text-align:center;\"\n",
       "         width=\"40\" height=\"40\">4</td><td style=\"border:3px solid black; text-align:center;\"\n",
       "         width=\"40\" height=\"40\">2</td></tr><tr><td style=\"border:3px solid black; text-align:center;\"\n",
       "         width=\"40\" height=\"40\">4</td><td style=\"border:3px solid black; text-align:center;\"\n",
       "         width=\"40\" height=\"40\">8</td><td style=\"border:3px solid black; text-align:center;\"\n",
       "         width=\"40\" height=\"40\">2</td><td style=\"border:3px solid black; text-align:center;\"\n",
       "         width=\"40\" height=\"40\">32</td></tr><tr><td style=\"border:3px solid black; text-align:center;\"\n",
       "         width=\"40\" height=\"40\">8</td><td style=\"border:3px solid black; text-align:center;\"\n",
       "         width=\"40\" height=\"40\"></td><td style=\"border:3px solid black; text-align:center;\"\n",
       "         width=\"40\" height=\"40\">8</td><td style=\"border:3px solid black; text-align:center;\"\n",
       "         width=\"40\" height=\"40\">2</td></tr><tr><td style=\"border:3px solid black; text-align:center;\"\n",
       "         width=\"40\" height=\"40\">4</td><td style=\"border:3px solid black; text-align:center;\"\n",
       "         width=\"40\" height=\"40\"></td><td style=\"border:3px solid black; text-align:center;\"\n",
       "         width=\"40\" height=\"40\"></td><td style=\"border:3px solid black; text-align:center;\"\n",
       "         width=\"40\" height=\"40\"></td></tr></table>"
      ],
      "text/plain": [
       "<IPython.core.display.HTML object>"
      ]
     },
     "metadata": {},
     "output_type": "display_data"
    },
    {
     "name": "stdout",
     "output_type": "stream",
     "text": [
      "Iter: 29\n",
      "======Direction: down======\n"
     ]
    },
    {
     "data": {
      "text/html": [
       "<h1>Score: 32</h1><table style=\"border: 5px solid black;\"><tr><td style=\"border:3px solid black; text-align:center;\"\n",
       "         width=\"40\" height=\"40\">8</td><td style=\"border:3px solid black; text-align:center;\"\n",
       "         width=\"40\" height=\"40\"></td><td style=\"border:3px solid black; text-align:center;\"\n",
       "         width=\"40\" height=\"40\"></td><td style=\"border:3px solid black; text-align:center;\"\n",
       "         width=\"40\" height=\"40\">4</td></tr><tr><td style=\"border:3px solid black; text-align:center;\"\n",
       "         width=\"40\" height=\"40\">4</td><td style=\"border:3px solid black; text-align:center;\"\n",
       "         width=\"40\" height=\"40\"></td><td style=\"border:3px solid black; text-align:center;\"\n",
       "         width=\"40\" height=\"40\">4</td><td style=\"border:3px solid black; text-align:center;\"\n",
       "         width=\"40\" height=\"40\">2</td></tr><tr><td style=\"border:3px solid black; text-align:center;\"\n",
       "         width=\"40\" height=\"40\">8</td><td style=\"border:3px solid black; text-align:center;\"\n",
       "         width=\"40\" height=\"40\">2</td><td style=\"border:3px solid black; text-align:center;\"\n",
       "         width=\"40\" height=\"40\">2</td><td style=\"border:3px solid black; text-align:center;\"\n",
       "         width=\"40\" height=\"40\">32</td></tr><tr><td style=\"border:3px solid black; text-align:center;\"\n",
       "         width=\"40\" height=\"40\">4</td><td style=\"border:3px solid black; text-align:center;\"\n",
       "         width=\"40\" height=\"40\">8</td><td style=\"border:3px solid black; text-align:center;\"\n",
       "         width=\"40\" height=\"40\">8</td><td style=\"border:3px solid black; text-align:center;\"\n",
       "         width=\"40\" height=\"40\">2</td></tr></table>"
      ],
      "text/plain": [
       "<IPython.core.display.HTML object>"
      ]
     },
     "metadata": {},
     "output_type": "display_data"
    },
    {
     "name": "stdout",
     "output_type": "stream",
     "text": [
      "Iter: 30\n",
      "======Direction: up======\n"
     ]
    },
    {
     "data": {
      "text/html": [
       "<h1>Score: 32</h1><table style=\"border: 5px solid black;\"><tr><td style=\"border:3px solid black; text-align:center;\"\n",
       "         width=\"40\" height=\"40\">8</td><td style=\"border:3px solid black; text-align:center;\"\n",
       "         width=\"40\" height=\"40\">2</td><td style=\"border:3px solid black; text-align:center;\"\n",
       "         width=\"40\" height=\"40\">4</td><td style=\"border:3px solid black; text-align:center;\"\n",
       "         width=\"40\" height=\"40\">4</td></tr><tr><td style=\"border:3px solid black; text-align:center;\"\n",
       "         width=\"40\" height=\"40\">4</td><td style=\"border:3px solid black; text-align:center;\"\n",
       "         width=\"40\" height=\"40\">8</td><td style=\"border:3px solid black; text-align:center;\"\n",
       "         width=\"40\" height=\"40\">2</td><td style=\"border:3px solid black; text-align:center;\"\n",
       "         width=\"40\" height=\"40\">2</td></tr><tr><td style=\"border:3px solid black; text-align:center;\"\n",
       "         width=\"40\" height=\"40\">8</td><td style=\"border:3px solid black; text-align:center;\"\n",
       "         width=\"40\" height=\"40\">4</td><td style=\"border:3px solid black; text-align:center;\"\n",
       "         width=\"40\" height=\"40\">8</td><td style=\"border:3px solid black; text-align:center;\"\n",
       "         width=\"40\" height=\"40\">32</td></tr><tr><td style=\"border:3px solid black; text-align:center;\"\n",
       "         width=\"40\" height=\"40\">4</td><td style=\"border:3px solid black; text-align:center;\"\n",
       "         width=\"40\" height=\"40\"></td><td style=\"border:3px solid black; text-align:center;\"\n",
       "         width=\"40\" height=\"40\"></td><td style=\"border:3px solid black; text-align:center;\"\n",
       "         width=\"40\" height=\"40\">2</td></tr></table>"
      ],
      "text/plain": [
       "<IPython.core.display.HTML object>"
      ]
     },
     "metadata": {},
     "output_type": "display_data"
    },
    {
     "name": "stdout",
     "output_type": "stream",
     "text": [
      "Iter: 31\n",
      "======Direction: left======\n"
     ]
    },
    {
     "data": {
      "text/html": [
       "<h1>Score: 32</h1><table style=\"border: 5px solid black;\"><tr><td style=\"border:3px solid black; text-align:center;\"\n",
       "         width=\"40\" height=\"40\">8</td><td style=\"border:3px solid black; text-align:center;\"\n",
       "         width=\"40\" height=\"40\">2</td><td style=\"border:3px solid black; text-align:center;\"\n",
       "         width=\"40\" height=\"40\">8</td><td style=\"border:3px solid black; text-align:center;\"\n",
       "         width=\"40\" height=\"40\">2</td></tr><tr><td style=\"border:3px solid black; text-align:center;\"\n",
       "         width=\"40\" height=\"40\">4</td><td style=\"border:3px solid black; text-align:center;\"\n",
       "         width=\"40\" height=\"40\">8</td><td style=\"border:3px solid black; text-align:center;\"\n",
       "         width=\"40\" height=\"40\">4</td><td style=\"border:3px solid black; text-align:center;\"\n",
       "         width=\"40\" height=\"40\"></td></tr><tr><td style=\"border:3px solid black; text-align:center;\"\n",
       "         width=\"40\" height=\"40\">8</td><td style=\"border:3px solid black; text-align:center;\"\n",
       "         width=\"40\" height=\"40\">4</td><td style=\"border:3px solid black; text-align:center;\"\n",
       "         width=\"40\" height=\"40\">8</td><td style=\"border:3px solid black; text-align:center;\"\n",
       "         width=\"40\" height=\"40\">32</td></tr><tr><td style=\"border:3px solid black; text-align:center;\"\n",
       "         width=\"40\" height=\"40\">4</td><td style=\"border:3px solid black; text-align:center;\"\n",
       "         width=\"40\" height=\"40\">2</td><td style=\"border:3px solid black; text-align:center;\"\n",
       "         width=\"40\" height=\"40\"></td><td style=\"border:3px solid black; text-align:center;\"\n",
       "         width=\"40\" height=\"40\"></td></tr></table>"
      ],
      "text/plain": [
       "<IPython.core.display.HTML object>"
      ]
     },
     "metadata": {},
     "output_type": "display_data"
    },
    {
     "name": "stdout",
     "output_type": "stream",
     "text": [
      "Iter: 32\n",
      "======Direction: up======\n"
     ]
    },
    {
     "data": {
      "text/html": [
       "<h1>Score: 32</h1><table style=\"border: 5px solid black;\"><tr><td style=\"border:3px solid black; text-align:center;\"\n",
       "         width=\"40\" height=\"40\">8</td><td style=\"border:3px solid black; text-align:center;\"\n",
       "         width=\"40\" height=\"40\">2</td><td style=\"border:3px solid black; text-align:center;\"\n",
       "         width=\"40\" height=\"40\">8</td><td style=\"border:3px solid black; text-align:center;\"\n",
       "         width=\"40\" height=\"40\">2</td></tr><tr><td style=\"border:3px solid black; text-align:center;\"\n",
       "         width=\"40\" height=\"40\">4</td><td style=\"border:3px solid black; text-align:center;\"\n",
       "         width=\"40\" height=\"40\">8</td><td style=\"border:3px solid black; text-align:center;\"\n",
       "         width=\"40\" height=\"40\">4</td><td style=\"border:3px solid black; text-align:center;\"\n",
       "         width=\"40\" height=\"40\">32</td></tr><tr><td style=\"border:3px solid black; text-align:center;\"\n",
       "         width=\"40\" height=\"40\">8</td><td style=\"border:3px solid black; text-align:center;\"\n",
       "         width=\"40\" height=\"40\">4</td><td style=\"border:3px solid black; text-align:center;\"\n",
       "         width=\"40\" height=\"40\">8</td><td style=\"border:3px solid black; text-align:center;\"\n",
       "         width=\"40\" height=\"40\"></td></tr><tr><td style=\"border:3px solid black; text-align:center;\"\n",
       "         width=\"40\" height=\"40\">4</td><td style=\"border:3px solid black; text-align:center;\"\n",
       "         width=\"40\" height=\"40\">2</td><td style=\"border:3px solid black; text-align:center;\"\n",
       "         width=\"40\" height=\"40\"></td><td style=\"border:3px solid black; text-align:center;\"\n",
       "         width=\"40\" height=\"40\">4</td></tr></table>"
      ],
      "text/plain": [
       "<IPython.core.display.HTML object>"
      ]
     },
     "metadata": {},
     "output_type": "display_data"
    },
    {
     "name": "stdout",
     "output_type": "stream",
     "text": [
      "Iter: 33\n",
      "======Direction: down======\n"
     ]
    },
    {
     "data": {
      "text/html": [
       "<h1>Score: 32</h1><table style=\"border: 5px solid black;\"><tr><td style=\"border:3px solid black; text-align:center;\"\n",
       "         width=\"40\" height=\"40\">8</td><td style=\"border:3px solid black; text-align:center;\"\n",
       "         width=\"40\" height=\"40\">2</td><td style=\"border:3px solid black; text-align:center;\"\n",
       "         width=\"40\" height=\"40\"></td><td style=\"border:3px solid black; text-align:center;\"\n",
       "         width=\"40\" height=\"40\">2</td></tr><tr><td style=\"border:3px solid black; text-align:center;\"\n",
       "         width=\"40\" height=\"40\">4</td><td style=\"border:3px solid black; text-align:center;\"\n",
       "         width=\"40\" height=\"40\">8</td><td style=\"border:3px solid black; text-align:center;\"\n",
       "         width=\"40\" height=\"40\">8</td><td style=\"border:3px solid black; text-align:center;\"\n",
       "         width=\"40\" height=\"40\">2</td></tr><tr><td style=\"border:3px solid black; text-align:center;\"\n",
       "         width=\"40\" height=\"40\">8</td><td style=\"border:3px solid black; text-align:center;\"\n",
       "         width=\"40\" height=\"40\">4</td><td style=\"border:3px solid black; text-align:center;\"\n",
       "         width=\"40\" height=\"40\">4</td><td style=\"border:3px solid black; text-align:center;\"\n",
       "         width=\"40\" height=\"40\">32</td></tr><tr><td style=\"border:3px solid black; text-align:center;\"\n",
       "         width=\"40\" height=\"40\">4</td><td style=\"border:3px solid black; text-align:center;\"\n",
       "         width=\"40\" height=\"40\">2</td><td style=\"border:3px solid black; text-align:center;\"\n",
       "         width=\"40\" height=\"40\">8</td><td style=\"border:3px solid black; text-align:center;\"\n",
       "         width=\"40\" height=\"40\">4</td></tr></table>"
      ],
      "text/plain": [
       "<IPython.core.display.HTML object>"
      ]
     },
     "metadata": {},
     "output_type": "display_data"
    },
    {
     "name": "stdout",
     "output_type": "stream",
     "text": [
      "Iter: 34\n",
      "======Direction: left======\n"
     ]
    },
    {
     "data": {
      "text/html": [
       "<h1>Score: 32</h1><table style=\"border: 5px solid black;\"><tr><td style=\"border:3px solid black; text-align:center;\"\n",
       "         width=\"40\" height=\"40\">8</td><td style=\"border:3px solid black; text-align:center;\"\n",
       "         width=\"40\" height=\"40\">4</td><td style=\"border:3px solid black; text-align:center;\"\n",
       "         width=\"40\" height=\"40\">4</td><td style=\"border:3px solid black; text-align:center;\"\n",
       "         width=\"40\" height=\"40\"></td></tr><tr><td style=\"border:3px solid black; text-align:center;\"\n",
       "         width=\"40\" height=\"40\">4</td><td style=\"border:3px solid black; text-align:center;\"\n",
       "         width=\"40\" height=\"40\">16</td><td style=\"border:3px solid black; text-align:center;\"\n",
       "         width=\"40\" height=\"40\">2</td><td style=\"border:3px solid black; text-align:center;\"\n",
       "         width=\"40\" height=\"40\"></td></tr><tr><td style=\"border:3px solid black; text-align:center;\"\n",
       "         width=\"40\" height=\"40\">8</td><td style=\"border:3px solid black; text-align:center;\"\n",
       "         width=\"40\" height=\"40\">8</td><td style=\"border:3px solid black; text-align:center;\"\n",
       "         width=\"40\" height=\"40\">32</td><td style=\"border:3px solid black; text-align:center;\"\n",
       "         width=\"40\" height=\"40\"></td></tr><tr><td style=\"border:3px solid black; text-align:center;\"\n",
       "         width=\"40\" height=\"40\">4</td><td style=\"border:3px solid black; text-align:center;\"\n",
       "         width=\"40\" height=\"40\">2</td><td style=\"border:3px solid black; text-align:center;\"\n",
       "         width=\"40\" height=\"40\">8</td><td style=\"border:3px solid black; text-align:center;\"\n",
       "         width=\"40\" height=\"40\">4</td></tr></table>"
      ],
      "text/plain": [
       "<IPython.core.display.HTML object>"
      ]
     },
     "metadata": {},
     "output_type": "display_data"
    },
    {
     "name": "stdout",
     "output_type": "stream",
     "text": [
      "Iter: 35\n",
      "======Direction: left======\n"
     ]
    },
    {
     "data": {
      "text/html": [
       "<h1>Score: 32</h1><table style=\"border: 5px solid black;\"><tr><td style=\"border:3px solid black; text-align:center;\"\n",
       "         width=\"40\" height=\"40\">8</td><td style=\"border:3px solid black; text-align:center;\"\n",
       "         width=\"40\" height=\"40\">8</td><td style=\"border:3px solid black; text-align:center;\"\n",
       "         width=\"40\" height=\"40\"></td><td style=\"border:3px solid black; text-align:center;\"\n",
       "         width=\"40\" height=\"40\"></td></tr><tr><td style=\"border:3px solid black; text-align:center;\"\n",
       "         width=\"40\" height=\"40\">4</td><td style=\"border:3px solid black; text-align:center;\"\n",
       "         width=\"40\" height=\"40\">16</td><td style=\"border:3px solid black; text-align:center;\"\n",
       "         width=\"40\" height=\"40\">2</td><td style=\"border:3px solid black; text-align:center;\"\n",
       "         width=\"40\" height=\"40\"></td></tr><tr><td style=\"border:3px solid black; text-align:center;\"\n",
       "         width=\"40\" height=\"40\">16</td><td style=\"border:3px solid black; text-align:center;\"\n",
       "         width=\"40\" height=\"40\">32</td><td style=\"border:3px solid black; text-align:center;\"\n",
       "         width=\"40\" height=\"40\"></td><td style=\"border:3px solid black; text-align:center;\"\n",
       "         width=\"40\" height=\"40\">2</td></tr><tr><td style=\"border:3px solid black; text-align:center;\"\n",
       "         width=\"40\" height=\"40\">4</td><td style=\"border:3px solid black; text-align:center;\"\n",
       "         width=\"40\" height=\"40\">2</td><td style=\"border:3px solid black; text-align:center;\"\n",
       "         width=\"40\" height=\"40\">8</td><td style=\"border:3px solid black; text-align:center;\"\n",
       "         width=\"40\" height=\"40\">4</td></tr></table>"
      ],
      "text/plain": [
       "<IPython.core.display.HTML object>"
      ]
     },
     "metadata": {},
     "output_type": "display_data"
    },
    {
     "name": "stdout",
     "output_type": "stream",
     "text": [
      "Iter: 36\n",
      "======Direction: left======\n"
     ]
    },
    {
     "data": {
      "text/html": [
       "<h1>Score: 32</h1><table style=\"border: 5px solid black;\"><tr><td style=\"border:3px solid black; text-align:center;\"\n",
       "         width=\"40\" height=\"40\">16</td><td style=\"border:3px solid black; text-align:center;\"\n",
       "         width=\"40\" height=\"40\"></td><td style=\"border:3px solid black; text-align:center;\"\n",
       "         width=\"40\" height=\"40\"></td><td style=\"border:3px solid black; text-align:center;\"\n",
       "         width=\"40\" height=\"40\"></td></tr><tr><td style=\"border:3px solid black; text-align:center;\"\n",
       "         width=\"40\" height=\"40\">4</td><td style=\"border:3px solid black; text-align:center;\"\n",
       "         width=\"40\" height=\"40\">16</td><td style=\"border:3px solid black; text-align:center;\"\n",
       "         width=\"40\" height=\"40\">2</td><td style=\"border:3px solid black; text-align:center;\"\n",
       "         width=\"40\" height=\"40\">4</td></tr><tr><td style=\"border:3px solid black; text-align:center;\"\n",
       "         width=\"40\" height=\"40\">16</td><td style=\"border:3px solid black; text-align:center;\"\n",
       "         width=\"40\" height=\"40\">32</td><td style=\"border:3px solid black; text-align:center;\"\n",
       "         width=\"40\" height=\"40\">2</td><td style=\"border:3px solid black; text-align:center;\"\n",
       "         width=\"40\" height=\"40\"></td></tr><tr><td style=\"border:3px solid black; text-align:center;\"\n",
       "         width=\"40\" height=\"40\">4</td><td style=\"border:3px solid black; text-align:center;\"\n",
       "         width=\"40\" height=\"40\">2</td><td style=\"border:3px solid black; text-align:center;\"\n",
       "         width=\"40\" height=\"40\">8</td><td style=\"border:3px solid black; text-align:center;\"\n",
       "         width=\"40\" height=\"40\">4</td></tr></table>"
      ],
      "text/plain": [
       "<IPython.core.display.HTML object>"
      ]
     },
     "metadata": {},
     "output_type": "display_data"
    },
    {
     "name": "stdout",
     "output_type": "stream",
     "text": [
      "Iter: 37\n",
      "======Direction: left======\n"
     ]
    },
    {
     "data": {
      "text/html": [
       "<h1>Score: 32</h1><table style=\"border: 5px solid black;\"><tr><td style=\"border:3px solid black; text-align:center;\"\n",
       "         width=\"40\" height=\"40\">16</td><td style=\"border:3px solid black; text-align:center;\"\n",
       "         width=\"40\" height=\"40\"></td><td style=\"border:3px solid black; text-align:center;\"\n",
       "         width=\"40\" height=\"40\"></td><td style=\"border:3px solid black; text-align:center;\"\n",
       "         width=\"40\" height=\"40\">2</td></tr><tr><td style=\"border:3px solid black; text-align:center;\"\n",
       "         width=\"40\" height=\"40\">4</td><td style=\"border:3px solid black; text-align:center;\"\n",
       "         width=\"40\" height=\"40\">16</td><td style=\"border:3px solid black; text-align:center;\"\n",
       "         width=\"40\" height=\"40\">2</td><td style=\"border:3px solid black; text-align:center;\"\n",
       "         width=\"40\" height=\"40\">4</td></tr><tr><td style=\"border:3px solid black; text-align:center;\"\n",
       "         width=\"40\" height=\"40\">16</td><td style=\"border:3px solid black; text-align:center;\"\n",
       "         width=\"40\" height=\"40\">32</td><td style=\"border:3px solid black; text-align:center;\"\n",
       "         width=\"40\" height=\"40\">2</td><td style=\"border:3px solid black; text-align:center;\"\n",
       "         width=\"40\" height=\"40\"></td></tr><tr><td style=\"border:3px solid black; text-align:center;\"\n",
       "         width=\"40\" height=\"40\">4</td><td style=\"border:3px solid black; text-align:center;\"\n",
       "         width=\"40\" height=\"40\">2</td><td style=\"border:3px solid black; text-align:center;\"\n",
       "         width=\"40\" height=\"40\">8</td><td style=\"border:3px solid black; text-align:center;\"\n",
       "         width=\"40\" height=\"40\">4</td></tr></table>"
      ],
      "text/plain": [
       "<IPython.core.display.HTML object>"
      ]
     },
     "metadata": {},
     "output_type": "display_data"
    },
    {
     "name": "stdout",
     "output_type": "stream",
     "text": [
      "Iter: 38\n",
      "======Direction: up======\n"
     ]
    },
    {
     "data": {
      "text/html": [
       "<h1>Score: 32</h1><table style=\"border: 5px solid black;\"><tr><td style=\"border:3px solid black; text-align:center;\"\n",
       "         width=\"40\" height=\"40\">16</td><td style=\"border:3px solid black; text-align:center;\"\n",
       "         width=\"40\" height=\"40\">16</td><td style=\"border:3px solid black; text-align:center;\"\n",
       "         width=\"40\" height=\"40\">4</td><td style=\"border:3px solid black; text-align:center;\"\n",
       "         width=\"40\" height=\"40\">2</td></tr><tr><td style=\"border:3px solid black; text-align:center;\"\n",
       "         width=\"40\" height=\"40\">4</td><td style=\"border:3px solid black; text-align:center;\"\n",
       "         width=\"40\" height=\"40\">32</td><td style=\"border:3px solid black; text-align:center;\"\n",
       "         width=\"40\" height=\"40\">8</td><td style=\"border:3px solid black; text-align:center;\"\n",
       "         width=\"40\" height=\"40\">8</td></tr><tr><td style=\"border:3px solid black; text-align:center;\"\n",
       "         width=\"40\" height=\"40\">16</td><td style=\"border:3px solid black; text-align:center;\"\n",
       "         width=\"40\" height=\"40\">2</td><td style=\"border:3px solid black; text-align:center;\"\n",
       "         width=\"40\" height=\"40\"></td><td style=\"border:3px solid black; text-align:center;\"\n",
       "         width=\"40\" height=\"40\"></td></tr><tr><td style=\"border:3px solid black; text-align:center;\"\n",
       "         width=\"40\" height=\"40\">4</td><td style=\"border:3px solid black; text-align:center;\"\n",
       "         width=\"40\" height=\"40\">2</td><td style=\"border:3px solid black; text-align:center;\"\n",
       "         width=\"40\" height=\"40\"></td><td style=\"border:3px solid black; text-align:center;\"\n",
       "         width=\"40\" height=\"40\"></td></tr></table>"
      ],
      "text/plain": [
       "<IPython.core.display.HTML object>"
      ]
     },
     "metadata": {},
     "output_type": "display_data"
    },
    {
     "name": "stdout",
     "output_type": "stream",
     "text": [
      "Iter: 39\n",
      "======Direction: down======\n"
     ]
    },
    {
     "data": {
      "text/html": [
       "<h1>Score: 32</h1><table style=\"border: 5px solid black;\"><tr><td style=\"border:3px solid black; text-align:center;\"\n",
       "         width=\"40\" height=\"40\">16</td><td style=\"border:3px solid black; text-align:center;\"\n",
       "         width=\"40\" height=\"40\">2</td><td style=\"border:3px solid black; text-align:center;\"\n",
       "         width=\"40\" height=\"40\"></td><td style=\"border:3px solid black; text-align:center;\"\n",
       "         width=\"40\" height=\"40\"></td></tr><tr><td style=\"border:3px solid black; text-align:center;\"\n",
       "         width=\"40\" height=\"40\">4</td><td style=\"border:3px solid black; text-align:center;\"\n",
       "         width=\"40\" height=\"40\">16</td><td style=\"border:3px solid black; text-align:center;\"\n",
       "         width=\"40\" height=\"40\"></td><td style=\"border:3px solid black; text-align:center;\"\n",
       "         width=\"40\" height=\"40\"></td></tr><tr><td style=\"border:3px solid black; text-align:center;\"\n",
       "         width=\"40\" height=\"40\">16</td><td style=\"border:3px solid black; text-align:center;\"\n",
       "         width=\"40\" height=\"40\">32</td><td style=\"border:3px solid black; text-align:center;\"\n",
       "         width=\"40\" height=\"40\">4</td><td style=\"border:3px solid black; text-align:center;\"\n",
       "         width=\"40\" height=\"40\">2</td></tr><tr><td style=\"border:3px solid black; text-align:center;\"\n",
       "         width=\"40\" height=\"40\">4</td><td style=\"border:3px solid black; text-align:center;\"\n",
       "         width=\"40\" height=\"40\">4</td><td style=\"border:3px solid black; text-align:center;\"\n",
       "         width=\"40\" height=\"40\">8</td><td style=\"border:3px solid black; text-align:center;\"\n",
       "         width=\"40\" height=\"40\">8</td></tr></table>"
      ],
      "text/plain": [
       "<IPython.core.display.HTML object>"
      ]
     },
     "metadata": {},
     "output_type": "display_data"
    },
    {
     "name": "stdout",
     "output_type": "stream",
     "text": [
      "Iter: 40\n",
      "======Direction: up======\n"
     ]
    },
    {
     "data": {
      "text/html": [
       "<h1>Score: 32</h1><table style=\"border: 5px solid black;\"><tr><td style=\"border:3px solid black; text-align:center;\"\n",
       "         width=\"40\" height=\"40\">16</td><td style=\"border:3px solid black; text-align:center;\"\n",
       "         width=\"40\" height=\"40\">2</td><td style=\"border:3px solid black; text-align:center;\"\n",
       "         width=\"40\" height=\"40\">4</td><td style=\"border:3px solid black; text-align:center;\"\n",
       "         width=\"40\" height=\"40\">2</td></tr><tr><td style=\"border:3px solid black; text-align:center;\"\n",
       "         width=\"40\" height=\"40\">4</td><td style=\"border:3px solid black; text-align:center;\"\n",
       "         width=\"40\" height=\"40\">16</td><td style=\"border:3px solid black; text-align:center;\"\n",
       "         width=\"40\" height=\"40\">8</td><td style=\"border:3px solid black; text-align:center;\"\n",
       "         width=\"40\" height=\"40\">8</td></tr><tr><td style=\"border:3px solid black; text-align:center;\"\n",
       "         width=\"40\" height=\"40\">16</td><td style=\"border:3px solid black; text-align:center;\"\n",
       "         width=\"40\" height=\"40\">32</td><td style=\"border:3px solid black; text-align:center;\"\n",
       "         width=\"40\" height=\"40\"></td><td style=\"border:3px solid black; text-align:center;\"\n",
       "         width=\"40\" height=\"40\"></td></tr><tr><td style=\"border:3px solid black; text-align:center;\"\n",
       "         width=\"40\" height=\"40\">4</td><td style=\"border:3px solid black; text-align:center;\"\n",
       "         width=\"40\" height=\"40\">4</td><td style=\"border:3px solid black; text-align:center;\"\n",
       "         width=\"40\" height=\"40\">4</td><td style=\"border:3px solid black; text-align:center;\"\n",
       "         width=\"40\" height=\"40\"></td></tr></table>"
      ],
      "text/plain": [
       "<IPython.core.display.HTML object>"
      ]
     },
     "metadata": {},
     "output_type": "display_data"
    },
    {
     "name": "stdout",
     "output_type": "stream",
     "text": [
      "Iter: 41\n",
      "======Direction: right======\n"
     ]
    },
    {
     "data": {
      "text/html": [
       "<h1>Score: 32</h1><table style=\"border: 5px solid black;\"><tr><td style=\"border:3px solid black; text-align:center;\"\n",
       "         width=\"40\" height=\"40\">16</td><td style=\"border:3px solid black; text-align:center;\"\n",
       "         width=\"40\" height=\"40\">2</td><td style=\"border:3px solid black; text-align:center;\"\n",
       "         width=\"40\" height=\"40\">4</td><td style=\"border:3px solid black; text-align:center;\"\n",
       "         width=\"40\" height=\"40\">2</td></tr><tr><td style=\"border:3px solid black; text-align:center;\"\n",
       "         width=\"40\" height=\"40\"></td><td style=\"border:3px solid black; text-align:center;\"\n",
       "         width=\"40\" height=\"40\">4</td><td style=\"border:3px solid black; text-align:center;\"\n",
       "         width=\"40\" height=\"40\">16</td><td style=\"border:3px solid black; text-align:center;\"\n",
       "         width=\"40\" height=\"40\">16</td></tr><tr><td style=\"border:3px solid black; text-align:center;\"\n",
       "         width=\"40\" height=\"40\"></td><td style=\"border:3px solid black; text-align:center;\"\n",
       "         width=\"40\" height=\"40\"></td><td style=\"border:3px solid black; text-align:center;\"\n",
       "         width=\"40\" height=\"40\">16</td><td style=\"border:3px solid black; text-align:center;\"\n",
       "         width=\"40\" height=\"40\">32</td></tr><tr><td style=\"border:3px solid black; text-align:center;\"\n",
       "         width=\"40\" height=\"40\"></td><td style=\"border:3px solid black; text-align:center;\"\n",
       "         width=\"40\" height=\"40\">2</td><td style=\"border:3px solid black; text-align:center;\"\n",
       "         width=\"40\" height=\"40\">4</td><td style=\"border:3px solid black; text-align:center;\"\n",
       "         width=\"40\" height=\"40\">8</td></tr></table>"
      ],
      "text/plain": [
       "<IPython.core.display.HTML object>"
      ]
     },
     "metadata": {},
     "output_type": "display_data"
    },
    {
     "name": "stdout",
     "output_type": "stream",
     "text": [
      "Iter: 42\n",
      "======Direction: down======\n"
     ]
    },
    {
     "data": {
      "text/html": [
       "<h1>Score: 32</h1><table style=\"border: 5px solid black;\"><tr><td style=\"border:3px solid black; text-align:center;\"\n",
       "         width=\"40\" height=\"40\"></td><td style=\"border:3px solid black; text-align:center;\"\n",
       "         width=\"40\" height=\"40\"></td><td style=\"border:3px solid black; text-align:center;\"\n",
       "         width=\"40\" height=\"40\"></td><td style=\"border:3px solid black; text-align:center;\"\n",
       "         width=\"40\" height=\"40\">2</td></tr><tr><td style=\"border:3px solid black; text-align:center;\"\n",
       "         width=\"40\" height=\"40\">2</td><td style=\"border:3px solid black; text-align:center;\"\n",
       "         width=\"40\" height=\"40\">2</td><td style=\"border:3px solid black; text-align:center;\"\n",
       "         width=\"40\" height=\"40\">4</td><td style=\"border:3px solid black; text-align:center;\"\n",
       "         width=\"40\" height=\"40\">16</td></tr><tr><td style=\"border:3px solid black; text-align:center;\"\n",
       "         width=\"40\" height=\"40\"></td><td style=\"border:3px solid black; text-align:center;\"\n",
       "         width=\"40\" height=\"40\">4</td><td style=\"border:3px solid black; text-align:center;\"\n",
       "         width=\"40\" height=\"40\">32</td><td style=\"border:3px solid black; text-align:center;\"\n",
       "         width=\"40\" height=\"40\">32</td></tr><tr><td style=\"border:3px solid black; text-align:center;\"\n",
       "         width=\"40\" height=\"40\">16</td><td style=\"border:3px solid black; text-align:center;\"\n",
       "         width=\"40\" height=\"40\">2</td><td style=\"border:3px solid black; text-align:center;\"\n",
       "         width=\"40\" height=\"40\">4</td><td style=\"border:3px solid black; text-align:center;\"\n",
       "         width=\"40\" height=\"40\">8</td></tr></table>"
      ],
      "text/plain": [
       "<IPython.core.display.HTML object>"
      ]
     },
     "metadata": {},
     "output_type": "display_data"
    },
    {
     "name": "stdout",
     "output_type": "stream",
     "text": [
      "Iter: 43\n",
      "======Direction: up======\n"
     ]
    },
    {
     "data": {
      "text/html": [
       "<h1>Score: 32</h1><table style=\"border: 5px solid black;\"><tr><td style=\"border:3px solid black; text-align:center;\"\n",
       "         width=\"40\" height=\"40\">2</td><td style=\"border:3px solid black; text-align:center;\"\n",
       "         width=\"40\" height=\"40\">2</td><td style=\"border:3px solid black; text-align:center;\"\n",
       "         width=\"40\" height=\"40\">4</td><td style=\"border:3px solid black; text-align:center;\"\n",
       "         width=\"40\" height=\"40\">2</td></tr><tr><td style=\"border:3px solid black; text-align:center;\"\n",
       "         width=\"40\" height=\"40\">16</td><td style=\"border:3px solid black; text-align:center;\"\n",
       "         width=\"40\" height=\"40\">4</td><td style=\"border:3px solid black; text-align:center;\"\n",
       "         width=\"40\" height=\"40\">32</td><td style=\"border:3px solid black; text-align:center;\"\n",
       "         width=\"40\" height=\"40\">16</td></tr><tr><td style=\"border:3px solid black; text-align:center;\"\n",
       "         width=\"40\" height=\"40\">4</td><td style=\"border:3px solid black; text-align:center;\"\n",
       "         width=\"40\" height=\"40\">2</td><td style=\"border:3px solid black; text-align:center;\"\n",
       "         width=\"40\" height=\"40\">4</td><td style=\"border:3px solid black; text-align:center;\"\n",
       "         width=\"40\" height=\"40\">32</td></tr><tr><td style=\"border:3px solid black; text-align:center;\"\n",
       "         width=\"40\" height=\"40\"></td><td style=\"border:3px solid black; text-align:center;\"\n",
       "         width=\"40\" height=\"40\"></td><td style=\"border:3px solid black; text-align:center;\"\n",
       "         width=\"40\" height=\"40\"></td><td style=\"border:3px solid black; text-align:center;\"\n",
       "         width=\"40\" height=\"40\">8</td></tr></table>"
      ],
      "text/plain": [
       "<IPython.core.display.HTML object>"
      ]
     },
     "metadata": {},
     "output_type": "display_data"
    },
    {
     "name": "stdout",
     "output_type": "stream",
     "text": [
      "Iter: 44\n",
      "======Direction: down======\n"
     ]
    },
    {
     "data": {
      "text/html": [
       "<h1>Score: 32</h1><table style=\"border: 5px solid black;\"><tr><td style=\"border:3px solid black; text-align:center;\"\n",
       "         width=\"40\" height=\"40\"></td><td style=\"border:3px solid black; text-align:center;\"\n",
       "         width=\"40\" height=\"40\"></td><td style=\"border:3px solid black; text-align:center;\"\n",
       "         width=\"40\" height=\"40\">2</td><td style=\"border:3px solid black; text-align:center;\"\n",
       "         width=\"40\" height=\"40\">2</td></tr><tr><td style=\"border:3px solid black; text-align:center;\"\n",
       "         width=\"40\" height=\"40\">2</td><td style=\"border:3px solid black; text-align:center;\"\n",
       "         width=\"40\" height=\"40\">2</td><td style=\"border:3px solid black; text-align:center;\"\n",
       "         width=\"40\" height=\"40\">4</td><td style=\"border:3px solid black; text-align:center;\"\n",
       "         width=\"40\" height=\"40\">16</td></tr><tr><td style=\"border:3px solid black; text-align:center;\"\n",
       "         width=\"40\" height=\"40\">16</td><td style=\"border:3px solid black; text-align:center;\"\n",
       "         width=\"40\" height=\"40\">4</td><td style=\"border:3px solid black; text-align:center;\"\n",
       "         width=\"40\" height=\"40\">32</td><td style=\"border:3px solid black; text-align:center;\"\n",
       "         width=\"40\" height=\"40\">32</td></tr><tr><td style=\"border:3px solid black; text-align:center;\"\n",
       "         width=\"40\" height=\"40\">4</td><td style=\"border:3px solid black; text-align:center;\"\n",
       "         width=\"40\" height=\"40\">2</td><td style=\"border:3px solid black; text-align:center;\"\n",
       "         width=\"40\" height=\"40\">4</td><td style=\"border:3px solid black; text-align:center;\"\n",
       "         width=\"40\" height=\"40\">8</td></tr></table>"
      ],
      "text/plain": [
       "<IPython.core.display.HTML object>"
      ]
     },
     "metadata": {},
     "output_type": "display_data"
    },
    {
     "name": "stdout",
     "output_type": "stream",
     "text": [
      "Iter: 45\n",
      "======Direction: left======\n"
     ]
    },
    {
     "data": {
      "text/html": [
       "<h1>Score: 64</h1><table style=\"border: 5px solid black;\"><tr><td style=\"border:3px solid black; text-align:center;\"\n",
       "         width=\"40\" height=\"40\">4</td><td style=\"border:3px solid black; text-align:center;\"\n",
       "         width=\"40\" height=\"40\">2</td><td style=\"border:3px solid black; text-align:center;\"\n",
       "         width=\"40\" height=\"40\"></td><td style=\"border:3px solid black; text-align:center;\"\n",
       "         width=\"40\" height=\"40\"></td></tr><tr><td style=\"border:3px solid black; text-align:center;\"\n",
       "         width=\"40\" height=\"40\">4</td><td style=\"border:3px solid black; text-align:center;\"\n",
       "         width=\"40\" height=\"40\">4</td><td style=\"border:3px solid black; text-align:center;\"\n",
       "         width=\"40\" height=\"40\">16</td><td style=\"border:3px solid black; text-align:center;\"\n",
       "         width=\"40\" height=\"40\"></td></tr><tr><td style=\"border:3px solid black; text-align:center;\"\n",
       "         width=\"40\" height=\"40\">16</td><td style=\"border:3px solid black; text-align:center;\"\n",
       "         width=\"40\" height=\"40\">4</td><td style=\"border:3px solid black; text-align:center;\"\n",
       "         width=\"40\" height=\"40\">64</td><td style=\"border:3px solid black; text-align:center;\"\n",
       "         width=\"40\" height=\"40\"></td></tr><tr><td style=\"border:3px solid black; text-align:center;\"\n",
       "         width=\"40\" height=\"40\">4</td><td style=\"border:3px solid black; text-align:center;\"\n",
       "         width=\"40\" height=\"40\">2</td><td style=\"border:3px solid black; text-align:center;\"\n",
       "         width=\"40\" height=\"40\">4</td><td style=\"border:3px solid black; text-align:center;\"\n",
       "         width=\"40\" height=\"40\">8</td></tr></table>"
      ],
      "text/plain": [
       "<IPython.core.display.HTML object>"
      ]
     },
     "metadata": {},
     "output_type": "display_data"
    },
    {
     "name": "stdout",
     "output_type": "stream",
     "text": [
      "Iter: 46\n",
      "======Direction: up======\n"
     ]
    },
    {
     "data": {
      "text/html": [
       "<h1>Score: 64</h1><table style=\"border: 5px solid black;\"><tr><td style=\"border:3px solid black; text-align:center;\"\n",
       "         width=\"40\" height=\"40\">8</td><td style=\"border:3px solid black; text-align:center;\"\n",
       "         width=\"40\" height=\"40\">2</td><td style=\"border:3px solid black; text-align:center;\"\n",
       "         width=\"40\" height=\"40\">16</td><td style=\"border:3px solid black; text-align:center;\"\n",
       "         width=\"40\" height=\"40\">8</td></tr><tr><td style=\"border:3px solid black; text-align:center;\"\n",
       "         width=\"40\" height=\"40\">16</td><td style=\"border:3px solid black; text-align:center;\"\n",
       "         width=\"40\" height=\"40\">8</td><td style=\"border:3px solid black; text-align:center;\"\n",
       "         width=\"40\" height=\"40\">64</td><td style=\"border:3px solid black; text-align:center;\"\n",
       "         width=\"40\" height=\"40\"></td></tr><tr><td style=\"border:3px solid black; text-align:center;\"\n",
       "         width=\"40\" height=\"40\">4</td><td style=\"border:3px solid black; text-align:center;\"\n",
       "         width=\"40\" height=\"40\">2</td><td style=\"border:3px solid black; text-align:center;\"\n",
       "         width=\"40\" height=\"40\">4</td><td style=\"border:3px solid black; text-align:center;\"\n",
       "         width=\"40\" height=\"40\">2</td></tr><tr><td style=\"border:3px solid black; text-align:center;\"\n",
       "         width=\"40\" height=\"40\"></td><td style=\"border:3px solid black; text-align:center;\"\n",
       "         width=\"40\" height=\"40\"></td><td style=\"border:3px solid black; text-align:center;\"\n",
       "         width=\"40\" height=\"40\"></td><td style=\"border:3px solid black; text-align:center;\"\n",
       "         width=\"40\" height=\"40\"></td></tr></table>"
      ],
      "text/plain": [
       "<IPython.core.display.HTML object>"
      ]
     },
     "metadata": {},
     "output_type": "display_data"
    },
    {
     "name": "stdout",
     "output_type": "stream",
     "text": [
      "Iter: 47\n",
      "======Direction: down======\n"
     ]
    },
    {
     "data": {
      "text/html": [
       "<h1>Score: 64</h1><table style=\"border: 5px solid black;\"><tr><td style=\"border:3px solid black; text-align:center;\"\n",
       "         width=\"40\" height=\"40\"></td><td style=\"border:3px solid black; text-align:center;\"\n",
       "         width=\"40\" height=\"40\">2</td><td style=\"border:3px solid black; text-align:center;\"\n",
       "         width=\"40\" height=\"40\"></td><td style=\"border:3px solid black; text-align:center;\"\n",
       "         width=\"40\" height=\"40\"></td></tr><tr><td style=\"border:3px solid black; text-align:center;\"\n",
       "         width=\"40\" height=\"40\">8</td><td style=\"border:3px solid black; text-align:center;\"\n",
       "         width=\"40\" height=\"40\">2</td><td style=\"border:3px solid black; text-align:center;\"\n",
       "         width=\"40\" height=\"40\">16</td><td style=\"border:3px solid black; text-align:center;\"\n",
       "         width=\"40\" height=\"40\"></td></tr><tr><td style=\"border:3px solid black; text-align:center;\"\n",
       "         width=\"40\" height=\"40\">16</td><td style=\"border:3px solid black; text-align:center;\"\n",
       "         width=\"40\" height=\"40\">8</td><td style=\"border:3px solid black; text-align:center;\"\n",
       "         width=\"40\" height=\"40\">64</td><td style=\"border:3px solid black; text-align:center;\"\n",
       "         width=\"40\" height=\"40\">8</td></tr><tr><td style=\"border:3px solid black; text-align:center;\"\n",
       "         width=\"40\" height=\"40\">4</td><td style=\"border:3px solid black; text-align:center;\"\n",
       "         width=\"40\" height=\"40\">2</td><td style=\"border:3px solid black; text-align:center;\"\n",
       "         width=\"40\" height=\"40\">4</td><td style=\"border:3px solid black; text-align:center;\"\n",
       "         width=\"40\" height=\"40\">2</td></tr></table>"
      ],
      "text/plain": [
       "<IPython.core.display.HTML object>"
      ]
     },
     "metadata": {},
     "output_type": "display_data"
    },
    {
     "name": "stdout",
     "output_type": "stream",
     "text": [
      "Iter: 48\n",
      "======Direction: right======\n"
     ]
    },
    {
     "data": {
      "text/html": [
       "<h1>Score: 64</h1><table style=\"border: 5px solid black;\"><tr><td style=\"border:3px solid black; text-align:center;\"\n",
       "         width=\"40\" height=\"40\"></td><td style=\"border:3px solid black; text-align:center;\"\n",
       "         width=\"40\" height=\"40\">2</td><td style=\"border:3px solid black; text-align:center;\"\n",
       "         width=\"40\" height=\"40\"></td><td style=\"border:3px solid black; text-align:center;\"\n",
       "         width=\"40\" height=\"40\">2</td></tr><tr><td style=\"border:3px solid black; text-align:center;\"\n",
       "         width=\"40\" height=\"40\"></td><td style=\"border:3px solid black; text-align:center;\"\n",
       "         width=\"40\" height=\"40\">8</td><td style=\"border:3px solid black; text-align:center;\"\n",
       "         width=\"40\" height=\"40\">2</td><td style=\"border:3px solid black; text-align:center;\"\n",
       "         width=\"40\" height=\"40\">16</td></tr><tr><td style=\"border:3px solid black; text-align:center;\"\n",
       "         width=\"40\" height=\"40\">16</td><td style=\"border:3px solid black; text-align:center;\"\n",
       "         width=\"40\" height=\"40\">8</td><td style=\"border:3px solid black; text-align:center;\"\n",
       "         width=\"40\" height=\"40\">64</td><td style=\"border:3px solid black; text-align:center;\"\n",
       "         width=\"40\" height=\"40\">8</td></tr><tr><td style=\"border:3px solid black; text-align:center;\"\n",
       "         width=\"40\" height=\"40\">4</td><td style=\"border:3px solid black; text-align:center;\"\n",
       "         width=\"40\" height=\"40\">2</td><td style=\"border:3px solid black; text-align:center;\"\n",
       "         width=\"40\" height=\"40\">4</td><td style=\"border:3px solid black; text-align:center;\"\n",
       "         width=\"40\" height=\"40\">2</td></tr></table>"
      ],
      "text/plain": [
       "<IPython.core.display.HTML object>"
      ]
     },
     "metadata": {},
     "output_type": "display_data"
    },
    {
     "name": "stdout",
     "output_type": "stream",
     "text": [
      "Iter: 49\n",
      "======Direction: right======\n"
     ]
    },
    {
     "data": {
      "text/html": [
       "<h1>Score: 64</h1><table style=\"border: 5px solid black;\"><tr><td style=\"border:3px solid black; text-align:center;\"\n",
       "         width=\"40\" height=\"40\"></td><td style=\"border:3px solid black; text-align:center;\"\n",
       "         width=\"40\" height=\"40\"></td><td style=\"border:3px solid black; text-align:center;\"\n",
       "         width=\"40\" height=\"40\"></td><td style=\"border:3px solid black; text-align:center;\"\n",
       "         width=\"40\" height=\"40\">4</td></tr><tr><td style=\"border:3px solid black; text-align:center;\"\n",
       "         width=\"40\" height=\"40\">2</td><td style=\"border:3px solid black; text-align:center;\"\n",
       "         width=\"40\" height=\"40\">8</td><td style=\"border:3px solid black; text-align:center;\"\n",
       "         width=\"40\" height=\"40\">2</td><td style=\"border:3px solid black; text-align:center;\"\n",
       "         width=\"40\" height=\"40\">16</td></tr><tr><td style=\"border:3px solid black; text-align:center;\"\n",
       "         width=\"40\" height=\"40\">16</td><td style=\"border:3px solid black; text-align:center;\"\n",
       "         width=\"40\" height=\"40\">8</td><td style=\"border:3px solid black; text-align:center;\"\n",
       "         width=\"40\" height=\"40\">64</td><td style=\"border:3px solid black; text-align:center;\"\n",
       "         width=\"40\" height=\"40\">8</td></tr><tr><td style=\"border:3px solid black; text-align:center;\"\n",
       "         width=\"40\" height=\"40\">4</td><td style=\"border:3px solid black; text-align:center;\"\n",
       "         width=\"40\" height=\"40\">2</td><td style=\"border:3px solid black; text-align:center;\"\n",
       "         width=\"40\" height=\"40\">4</td><td style=\"border:3px solid black; text-align:center;\"\n",
       "         width=\"40\" height=\"40\">2</td></tr></table>"
      ],
      "text/plain": [
       "<IPython.core.display.HTML object>"
      ]
     },
     "metadata": {},
     "output_type": "display_data"
    },
    {
     "name": "stdout",
     "output_type": "stream",
     "text": [
      "Iter: 50\n",
      "======Direction: up======\n"
     ]
    },
    {
     "data": {
      "text/html": [
       "<h1>Score: 64</h1><table style=\"border: 5px solid black;\"><tr><td style=\"border:3px solid black; text-align:center;\"\n",
       "         width=\"40\" height=\"40\">2</td><td style=\"border:3px solid black; text-align:center;\"\n",
       "         width=\"40\" height=\"40\">16</td><td style=\"border:3px solid black; text-align:center;\"\n",
       "         width=\"40\" height=\"40\">2</td><td style=\"border:3px solid black; text-align:center;\"\n",
       "         width=\"40\" height=\"40\">4</td></tr><tr><td style=\"border:3px solid black; text-align:center;\"\n",
       "         width=\"40\" height=\"40\">16</td><td style=\"border:3px solid black; text-align:center;\"\n",
       "         width=\"40\" height=\"40\">2</td><td style=\"border:3px solid black; text-align:center;\"\n",
       "         width=\"40\" height=\"40\">64</td><td style=\"border:3px solid black; text-align:center;\"\n",
       "         width=\"40\" height=\"40\">16</td></tr><tr><td style=\"border:3px solid black; text-align:center;\"\n",
       "         width=\"40\" height=\"40\">4</td><td style=\"border:3px solid black; text-align:center;\"\n",
       "         width=\"40\" height=\"40\"></td><td style=\"border:3px solid black; text-align:center;\"\n",
       "         width=\"40\" height=\"40\">4</td><td style=\"border:3px solid black; text-align:center;\"\n",
       "         width=\"40\" height=\"40\">8</td></tr><tr><td style=\"border:3px solid black; text-align:center;\"\n",
       "         width=\"40\" height=\"40\">4</td><td style=\"border:3px solid black; text-align:center;\"\n",
       "         width=\"40\" height=\"40\"></td><td style=\"border:3px solid black; text-align:center;\"\n",
       "         width=\"40\" height=\"40\"></td><td style=\"border:3px solid black; text-align:center;\"\n",
       "         width=\"40\" height=\"40\">2</td></tr></table>"
      ],
      "text/plain": [
       "<IPython.core.display.HTML object>"
      ]
     },
     "metadata": {},
     "output_type": "display_data"
    },
    {
     "name": "stdout",
     "output_type": "stream",
     "text": [
      "Iter: 51\n",
      "======Direction: down======\n"
     ]
    },
    {
     "data": {
      "text/html": [
       "<h1>Score: 64</h1><table style=\"border: 5px solid black;\"><tr><td style=\"border:3px solid black; text-align:center;\"\n",
       "         width=\"40\" height=\"40\"></td><td style=\"border:3px solid black; text-align:center;\"\n",
       "         width=\"40\" height=\"40\">4</td><td style=\"border:3px solid black; text-align:center;\"\n",
       "         width=\"40\" height=\"40\"></td><td style=\"border:3px solid black; text-align:center;\"\n",
       "         width=\"40\" height=\"40\">4</td></tr><tr><td style=\"border:3px solid black; text-align:center;\"\n",
       "         width=\"40\" height=\"40\">2</td><td style=\"border:3px solid black; text-align:center;\"\n",
       "         width=\"40\" height=\"40\"></td><td style=\"border:3px solid black; text-align:center;\"\n",
       "         width=\"40\" height=\"40\">2</td><td style=\"border:3px solid black; text-align:center;\"\n",
       "         width=\"40\" height=\"40\">16</td></tr><tr><td style=\"border:3px solid black; text-align:center;\"\n",
       "         width=\"40\" height=\"40\">16</td><td style=\"border:3px solid black; text-align:center;\"\n",
       "         width=\"40\" height=\"40\">16</td><td style=\"border:3px solid black; text-align:center;\"\n",
       "         width=\"40\" height=\"40\">64</td><td style=\"border:3px solid black; text-align:center;\"\n",
       "         width=\"40\" height=\"40\">8</td></tr><tr><td style=\"border:3px solid black; text-align:center;\"\n",
       "         width=\"40\" height=\"40\">8</td><td style=\"border:3px solid black; text-align:center;\"\n",
       "         width=\"40\" height=\"40\">2</td><td style=\"border:3px solid black; text-align:center;\"\n",
       "         width=\"40\" height=\"40\">4</td><td style=\"border:3px solid black; text-align:center;\"\n",
       "         width=\"40\" height=\"40\">2</td></tr></table>"
      ],
      "text/plain": [
       "<IPython.core.display.HTML object>"
      ]
     },
     "metadata": {},
     "output_type": "display_data"
    },
    {
     "name": "stdout",
     "output_type": "stream",
     "text": [
      "Iter: 52\n",
      "======Direction: left======\n"
     ]
    },
    {
     "data": {
      "text/html": [
       "<h1>Score: 64</h1><table style=\"border: 5px solid black;\"><tr><td style=\"border:3px solid black; text-align:center;\"\n",
       "         width=\"40\" height=\"40\">8</td><td style=\"border:3px solid black; text-align:center;\"\n",
       "         width=\"40\" height=\"40\"></td><td style=\"border:3px solid black; text-align:center;\"\n",
       "         width=\"40\" height=\"40\">2</td><td style=\"border:3px solid black; text-align:center;\"\n",
       "         width=\"40\" height=\"40\"></td></tr><tr><td style=\"border:3px solid black; text-align:center;\"\n",
       "         width=\"40\" height=\"40\">4</td><td style=\"border:3px solid black; text-align:center;\"\n",
       "         width=\"40\" height=\"40\">16</td><td style=\"border:3px solid black; text-align:center;\"\n",
       "         width=\"40\" height=\"40\"></td><td style=\"border:3px solid black; text-align:center;\"\n",
       "         width=\"40\" height=\"40\"></td></tr><tr><td style=\"border:3px solid black; text-align:center;\"\n",
       "         width=\"40\" height=\"40\">32</td><td style=\"border:3px solid black; text-align:center;\"\n",
       "         width=\"40\" height=\"40\">64</td><td style=\"border:3px solid black; text-align:center;\"\n",
       "         width=\"40\" height=\"40\">8</td><td style=\"border:3px solid black; text-align:center;\"\n",
       "         width=\"40\" height=\"40\"></td></tr><tr><td style=\"border:3px solid black; text-align:center;\"\n",
       "         width=\"40\" height=\"40\">8</td><td style=\"border:3px solid black; text-align:center;\"\n",
       "         width=\"40\" height=\"40\">2</td><td style=\"border:3px solid black; text-align:center;\"\n",
       "         width=\"40\" height=\"40\">4</td><td style=\"border:3px solid black; text-align:center;\"\n",
       "         width=\"40\" height=\"40\">2</td></tr></table>"
      ],
      "text/plain": [
       "<IPython.core.display.HTML object>"
      ]
     },
     "metadata": {},
     "output_type": "display_data"
    },
    {
     "name": "stdout",
     "output_type": "stream",
     "text": [
      "Iter: 53\n",
      "======Direction: up======\n"
     ]
    },
    {
     "data": {
      "text/html": [
       "<h1>Score: 64</h1><table style=\"border: 5px solid black;\"><tr><td style=\"border:3px solid black; text-align:center;\"\n",
       "         width=\"40\" height=\"40\">8</td><td style=\"border:3px solid black; text-align:center;\"\n",
       "         width=\"40\" height=\"40\">16</td><td style=\"border:3px solid black; text-align:center;\"\n",
       "         width=\"40\" height=\"40\">2</td><td style=\"border:3px solid black; text-align:center;\"\n",
       "         width=\"40\" height=\"40\">2</td></tr><tr><td style=\"border:3px solid black; text-align:center;\"\n",
       "         width=\"40\" height=\"40\">4</td><td style=\"border:3px solid black; text-align:center;\"\n",
       "         width=\"40\" height=\"40\">64</td><td style=\"border:3px solid black; text-align:center;\"\n",
       "         width=\"40\" height=\"40\">8</td><td style=\"border:3px solid black; text-align:center;\"\n",
       "         width=\"40\" height=\"40\"></td></tr><tr><td style=\"border:3px solid black; text-align:center;\"\n",
       "         width=\"40\" height=\"40\">32</td><td style=\"border:3px solid black; text-align:center;\"\n",
       "         width=\"40\" height=\"40\">2</td><td style=\"border:3px solid black; text-align:center;\"\n",
       "         width=\"40\" height=\"40\">4</td><td style=\"border:3px solid black; text-align:center;\"\n",
       "         width=\"40\" height=\"40\"></td></tr><tr><td style=\"border:3px solid black; text-align:center;\"\n",
       "         width=\"40\" height=\"40\">8</td><td style=\"border:3px solid black; text-align:center;\"\n",
       "         width=\"40\" height=\"40\"></td><td style=\"border:3px solid black; text-align:center;\"\n",
       "         width=\"40\" height=\"40\">2</td><td style=\"border:3px solid black; text-align:center;\"\n",
       "         width=\"40\" height=\"40\"></td></tr></table>"
      ],
      "text/plain": [
       "<IPython.core.display.HTML object>"
      ]
     },
     "metadata": {},
     "output_type": "display_data"
    },
    {
     "name": "stdout",
     "output_type": "stream",
     "text": [
      "Iter: 54\n",
      "======Direction: down======\n"
     ]
    },
    {
     "data": {
      "text/html": [
       "<h1>Score: 64</h1><table style=\"border: 5px solid black;\"><tr><td style=\"border:3px solid black; text-align:center;\"\n",
       "         width=\"40\" height=\"40\">8</td><td style=\"border:3px solid black; text-align:center;\"\n",
       "         width=\"40\" height=\"40\"></td><td style=\"border:3px solid black; text-align:center;\"\n",
       "         width=\"40\" height=\"40\">2</td><td style=\"border:3px solid black; text-align:center;\"\n",
       "         width=\"40\" height=\"40\"></td></tr><tr><td style=\"border:3px solid black; text-align:center;\"\n",
       "         width=\"40\" height=\"40\">4</td><td style=\"border:3px solid black; text-align:center;\"\n",
       "         width=\"40\" height=\"40\">16</td><td style=\"border:3px solid black; text-align:center;\"\n",
       "         width=\"40\" height=\"40\">8</td><td style=\"border:3px solid black; text-align:center;\"\n",
       "         width=\"40\" height=\"40\"></td></tr><tr><td style=\"border:3px solid black; text-align:center;\"\n",
       "         width=\"40\" height=\"40\">32</td><td style=\"border:3px solid black; text-align:center;\"\n",
       "         width=\"40\" height=\"40\">64</td><td style=\"border:3px solid black; text-align:center;\"\n",
       "         width=\"40\" height=\"40\">4</td><td style=\"border:3px solid black; text-align:center;\"\n",
       "         width=\"40\" height=\"40\">4</td></tr><tr><td style=\"border:3px solid black; text-align:center;\"\n",
       "         width=\"40\" height=\"40\">8</td><td style=\"border:3px solid black; text-align:center;\"\n",
       "         width=\"40\" height=\"40\">2</td><td style=\"border:3px solid black; text-align:center;\"\n",
       "         width=\"40\" height=\"40\">2</td><td style=\"border:3px solid black; text-align:center;\"\n",
       "         width=\"40\" height=\"40\">2</td></tr></table>"
      ],
      "text/plain": [
       "<IPython.core.display.HTML object>"
      ]
     },
     "metadata": {},
     "output_type": "display_data"
    },
    {
     "name": "stdout",
     "output_type": "stream",
     "text": [
      "Iter: 55\n",
      "======Direction: down======\n"
     ]
    },
    {
     "data": {
      "text/html": [
       "<h1>Score: 64</h1><table style=\"border: 5px solid black;\"><tr><td style=\"border:3px solid black; text-align:center;\"\n",
       "         width=\"40\" height=\"40\">8</td><td style=\"border:3px solid black; text-align:center;\"\n",
       "         width=\"40\" height=\"40\"></td><td style=\"border:3px solid black; text-align:center;\"\n",
       "         width=\"40\" height=\"40\">2</td><td style=\"border:3px solid black; text-align:center;\"\n",
       "         width=\"40\" height=\"40\"></td></tr><tr><td style=\"border:3px solid black; text-align:center;\"\n",
       "         width=\"40\" height=\"40\">4</td><td style=\"border:3px solid black; text-align:center;\"\n",
       "         width=\"40\" height=\"40\">16</td><td style=\"border:3px solid black; text-align:center;\"\n",
       "         width=\"40\" height=\"40\">8</td><td style=\"border:3px solid black; text-align:center;\"\n",
       "         width=\"40\" height=\"40\">2</td></tr><tr><td style=\"border:3px solid black; text-align:center;\"\n",
       "         width=\"40\" height=\"40\">32</td><td style=\"border:3px solid black; text-align:center;\"\n",
       "         width=\"40\" height=\"40\">64</td><td style=\"border:3px solid black; text-align:center;\"\n",
       "         width=\"40\" height=\"40\">4</td><td style=\"border:3px solid black; text-align:center;\"\n",
       "         width=\"40\" height=\"40\">4</td></tr><tr><td style=\"border:3px solid black; text-align:center;\"\n",
       "         width=\"40\" height=\"40\">8</td><td style=\"border:3px solid black; text-align:center;\"\n",
       "         width=\"40\" height=\"40\">2</td><td style=\"border:3px solid black; text-align:center;\"\n",
       "         width=\"40\" height=\"40\">2</td><td style=\"border:3px solid black; text-align:center;\"\n",
       "         width=\"40\" height=\"40\">2</td></tr></table>"
      ],
      "text/plain": [
       "<IPython.core.display.HTML object>"
      ]
     },
     "metadata": {},
     "output_type": "display_data"
    },
    {
     "name": "stdout",
     "output_type": "stream",
     "text": [
      "Iter: 56\n",
      "======Direction: up======\n"
     ]
    },
    {
     "data": {
      "text/html": [
       "<h1>Score: 64</h1><table style=\"border: 5px solid black;\"><tr><td style=\"border:3px solid black; text-align:center;\"\n",
       "         width=\"40\" height=\"40\">8</td><td style=\"border:3px solid black; text-align:center;\"\n",
       "         width=\"40\" height=\"40\">16</td><td style=\"border:3px solid black; text-align:center;\"\n",
       "         width=\"40\" height=\"40\">2</td><td style=\"border:3px solid black; text-align:center;\"\n",
       "         width=\"40\" height=\"40\">2</td></tr><tr><td style=\"border:3px solid black; text-align:center;\"\n",
       "         width=\"40\" height=\"40\">4</td><td style=\"border:3px solid black; text-align:center;\"\n",
       "         width=\"40\" height=\"40\">64</td><td style=\"border:3px solid black; text-align:center;\"\n",
       "         width=\"40\" height=\"40\">8</td><td style=\"border:3px solid black; text-align:center;\"\n",
       "         width=\"40\" height=\"40\">4</td></tr><tr><td style=\"border:3px solid black; text-align:center;\"\n",
       "         width=\"40\" height=\"40\">32</td><td style=\"border:3px solid black; text-align:center;\"\n",
       "         width=\"40\" height=\"40\">2</td><td style=\"border:3px solid black; text-align:center;\"\n",
       "         width=\"40\" height=\"40\">4</td><td style=\"border:3px solid black; text-align:center;\"\n",
       "         width=\"40\" height=\"40\">2</td></tr><tr><td style=\"border:3px solid black; text-align:center;\"\n",
       "         width=\"40\" height=\"40\">8</td><td style=\"border:3px solid black; text-align:center;\"\n",
       "         width=\"40\" height=\"40\">2</td><td style=\"border:3px solid black; text-align:center;\"\n",
       "         width=\"40\" height=\"40\">2</td><td style=\"border:3px solid black; text-align:center;\"\n",
       "         width=\"40\" height=\"40\"></td></tr></table>"
      ],
      "text/plain": [
       "<IPython.core.display.HTML object>"
      ]
     },
     "metadata": {},
     "output_type": "display_data"
    },
    {
     "name": "stdout",
     "output_type": "stream",
     "text": [
      "Iter: 57\n",
      "======Direction: right======\n"
     ]
    },
    {
     "data": {
      "text/html": [
       "<h1>Score: 64</h1><table style=\"border: 5px solid black;\"><tr><td style=\"border:3px solid black; text-align:center;\"\n",
       "         width=\"40\" height=\"40\">2</td><td style=\"border:3px solid black; text-align:center;\"\n",
       "         width=\"40\" height=\"40\">8</td><td style=\"border:3px solid black; text-align:center;\"\n",
       "         width=\"40\" height=\"40\">16</td><td style=\"border:3px solid black; text-align:center;\"\n",
       "         width=\"40\" height=\"40\">4</td></tr><tr><td style=\"border:3px solid black; text-align:center;\"\n",
       "         width=\"40\" height=\"40\">4</td><td style=\"border:3px solid black; text-align:center;\"\n",
       "         width=\"40\" height=\"40\">64</td><td style=\"border:3px solid black; text-align:center;\"\n",
       "         width=\"40\" height=\"40\">8</td><td style=\"border:3px solid black; text-align:center;\"\n",
       "         width=\"40\" height=\"40\">4</td></tr><tr><td style=\"border:3px solid black; text-align:center;\"\n",
       "         width=\"40\" height=\"40\">32</td><td style=\"border:3px solid black; text-align:center;\"\n",
       "         width=\"40\" height=\"40\">2</td><td style=\"border:3px solid black; text-align:center;\"\n",
       "         width=\"40\" height=\"40\">4</td><td style=\"border:3px solid black; text-align:center;\"\n",
       "         width=\"40\" height=\"40\">2</td></tr><tr><td style=\"border:3px solid black; text-align:center;\"\n",
       "         width=\"40\" height=\"40\"></td><td style=\"border:3px solid black; text-align:center;\"\n",
       "         width=\"40\" height=\"40\"></td><td style=\"border:3px solid black; text-align:center;\"\n",
       "         width=\"40\" height=\"40\">8</td><td style=\"border:3px solid black; text-align:center;\"\n",
       "         width=\"40\" height=\"40\">4</td></tr></table>"
      ],
      "text/plain": [
       "<IPython.core.display.HTML object>"
      ]
     },
     "metadata": {},
     "output_type": "display_data"
    },
    {
     "name": "stdout",
     "output_type": "stream",
     "text": [
      "Iter: 58\n",
      "======Direction: up======\n"
     ]
    },
    {
     "data": {
      "text/html": [
       "<h1>Score: 64</h1><table style=\"border: 5px solid black;\"><tr><td style=\"border:3px solid black; text-align:center;\"\n",
       "         width=\"40\" height=\"40\">2</td><td style=\"border:3px solid black; text-align:center;\"\n",
       "         width=\"40\" height=\"40\">8</td><td style=\"border:3px solid black; text-align:center;\"\n",
       "         width=\"40\" height=\"40\">16</td><td style=\"border:3px solid black; text-align:center;\"\n",
       "         width=\"40\" height=\"40\">8</td></tr><tr><td style=\"border:3px solid black; text-align:center;\"\n",
       "         width=\"40\" height=\"40\">4</td><td style=\"border:3px solid black; text-align:center;\"\n",
       "         width=\"40\" height=\"40\">64</td><td style=\"border:3px solid black; text-align:center;\"\n",
       "         width=\"40\" height=\"40\">8</td><td style=\"border:3px solid black; text-align:center;\"\n",
       "         width=\"40\" height=\"40\">2</td></tr><tr><td style=\"border:3px solid black; text-align:center;\"\n",
       "         width=\"40\" height=\"40\">32</td><td style=\"border:3px solid black; text-align:center;\"\n",
       "         width=\"40\" height=\"40\">2</td><td style=\"border:3px solid black; text-align:center;\"\n",
       "         width=\"40\" height=\"40\">4</td><td style=\"border:3px solid black; text-align:center;\"\n",
       "         width=\"40\" height=\"40\">4</td></tr><tr><td style=\"border:3px solid black; text-align:center;\"\n",
       "         width=\"40\" height=\"40\"></td><td style=\"border:3px solid black; text-align:center;\"\n",
       "         width=\"40\" height=\"40\">2</td><td style=\"border:3px solid black; text-align:center;\"\n",
       "         width=\"40\" height=\"40\">8</td><td style=\"border:3px solid black; text-align:center;\"\n",
       "         width=\"40\" height=\"40\"></td></tr></table>"
      ],
      "text/plain": [
       "<IPython.core.display.HTML object>"
      ]
     },
     "metadata": {},
     "output_type": "display_data"
    },
    {
     "name": "stdout",
     "output_type": "stream",
     "text": [
      "Iter: 59\n",
      "======Direction: up======\n"
     ]
    },
    {
     "data": {
      "text/html": [
       "<h1>Score: 64</h1><table style=\"border: 5px solid black;\"><tr><td style=\"border:3px solid black; text-align:center;\"\n",
       "         width=\"40\" height=\"40\">2</td><td style=\"border:3px solid black; text-align:center;\"\n",
       "         width=\"40\" height=\"40\">8</td><td style=\"border:3px solid black; text-align:center;\"\n",
       "         width=\"40\" height=\"40\">16</td><td style=\"border:3px solid black; text-align:center;\"\n",
       "         width=\"40\" height=\"40\">8</td></tr><tr><td style=\"border:3px solid black; text-align:center;\"\n",
       "         width=\"40\" height=\"40\">4</td><td style=\"border:3px solid black; text-align:center;\"\n",
       "         width=\"40\" height=\"40\">64</td><td style=\"border:3px solid black; text-align:center;\"\n",
       "         width=\"40\" height=\"40\">8</td><td style=\"border:3px solid black; text-align:center;\"\n",
       "         width=\"40\" height=\"40\">2</td></tr><tr><td style=\"border:3px solid black; text-align:center;\"\n",
       "         width=\"40\" height=\"40\">32</td><td style=\"border:3px solid black; text-align:center;\"\n",
       "         width=\"40\" height=\"40\">4</td><td style=\"border:3px solid black; text-align:center;\"\n",
       "         width=\"40\" height=\"40\">4</td><td style=\"border:3px solid black; text-align:center;\"\n",
       "         width=\"40\" height=\"40\">4</td></tr><tr><td style=\"border:3px solid black; text-align:center;\"\n",
       "         width=\"40\" height=\"40\"></td><td style=\"border:3px solid black; text-align:center;\"\n",
       "         width=\"40\" height=\"40\">4</td><td style=\"border:3px solid black; text-align:center;\"\n",
       "         width=\"40\" height=\"40\">8</td><td style=\"border:3px solid black; text-align:center;\"\n",
       "         width=\"40\" height=\"40\"></td></tr></table>"
      ],
      "text/plain": [
       "<IPython.core.display.HTML object>"
      ]
     },
     "metadata": {},
     "output_type": "display_data"
    },
    {
     "name": "stdout",
     "output_type": "stream",
     "text": [
      "Iter: 60\n",
      "======Direction: up======\n"
     ]
    },
    {
     "data": {
      "text/html": [
       "<h1>Score: 64</h1><table style=\"border: 5px solid black;\"><tr><td style=\"border:3px solid black; text-align:center;\"\n",
       "         width=\"40\" height=\"40\">2</td><td style=\"border:3px solid black; text-align:center;\"\n",
       "         width=\"40\" height=\"40\">8</td><td style=\"border:3px solid black; text-align:center;\"\n",
       "         width=\"40\" height=\"40\">16</td><td style=\"border:3px solid black; text-align:center;\"\n",
       "         width=\"40\" height=\"40\">8</td></tr><tr><td style=\"border:3px solid black; text-align:center;\"\n",
       "         width=\"40\" height=\"40\">4</td><td style=\"border:3px solid black; text-align:center;\"\n",
       "         width=\"40\" height=\"40\">64</td><td style=\"border:3px solid black; text-align:center;\"\n",
       "         width=\"40\" height=\"40\">8</td><td style=\"border:3px solid black; text-align:center;\"\n",
       "         width=\"40\" height=\"40\">2</td></tr><tr><td style=\"border:3px solid black; text-align:center;\"\n",
       "         width=\"40\" height=\"40\">32</td><td style=\"border:3px solid black; text-align:center;\"\n",
       "         width=\"40\" height=\"40\">8</td><td style=\"border:3px solid black; text-align:center;\"\n",
       "         width=\"40\" height=\"40\">4</td><td style=\"border:3px solid black; text-align:center;\"\n",
       "         width=\"40\" height=\"40\">4</td></tr><tr><td style=\"border:3px solid black; text-align:center;\"\n",
       "         width=\"40\" height=\"40\">2</td><td style=\"border:3px solid black; text-align:center;\"\n",
       "         width=\"40\" height=\"40\"></td><td style=\"border:3px solid black; text-align:center;\"\n",
       "         width=\"40\" height=\"40\">8</td><td style=\"border:3px solid black; text-align:center;\"\n",
       "         width=\"40\" height=\"40\"></td></tr></table>"
      ],
      "text/plain": [
       "<IPython.core.display.HTML object>"
      ]
     },
     "metadata": {},
     "output_type": "display_data"
    },
    {
     "name": "stdout",
     "output_type": "stream",
     "text": [
      "Iter: 61\n",
      "======Direction: up======\n"
     ]
    },
    {
     "data": {
      "text/html": [
       "<h1>Score: 64</h1><table style=\"border: 5px solid black;\"><tr><td style=\"border:3px solid black; text-align:center;\"\n",
       "         width=\"40\" height=\"40\">2</td><td style=\"border:3px solid black; text-align:center;\"\n",
       "         width=\"40\" height=\"40\">8</td><td style=\"border:3px solid black; text-align:center;\"\n",
       "         width=\"40\" height=\"40\">16</td><td style=\"border:3px solid black; text-align:center;\"\n",
       "         width=\"40\" height=\"40\">8</td></tr><tr><td style=\"border:3px solid black; text-align:center;\"\n",
       "         width=\"40\" height=\"40\">4</td><td style=\"border:3px solid black; text-align:center;\"\n",
       "         width=\"40\" height=\"40\">64</td><td style=\"border:3px solid black; text-align:center;\"\n",
       "         width=\"40\" height=\"40\">8</td><td style=\"border:3px solid black; text-align:center;\"\n",
       "         width=\"40\" height=\"40\">2</td></tr><tr><td style=\"border:3px solid black; text-align:center;\"\n",
       "         width=\"40\" height=\"40\">32</td><td style=\"border:3px solid black; text-align:center;\"\n",
       "         width=\"40\" height=\"40\">8</td><td style=\"border:3px solid black; text-align:center;\"\n",
       "         width=\"40\" height=\"40\">4</td><td style=\"border:3px solid black; text-align:center;\"\n",
       "         width=\"40\" height=\"40\">4</td></tr><tr><td style=\"border:3px solid black; text-align:center;\"\n",
       "         width=\"40\" height=\"40\">2</td><td style=\"border:3px solid black; text-align:center;\"\n",
       "         width=\"40\" height=\"40\"></td><td style=\"border:3px solid black; text-align:center;\"\n",
       "         width=\"40\" height=\"40\">8</td><td style=\"border:3px solid black; text-align:center;\"\n",
       "         width=\"40\" height=\"40\">4</td></tr></table>"
      ],
      "text/plain": [
       "<IPython.core.display.HTML object>"
      ]
     },
     "metadata": {},
     "output_type": "display_data"
    },
    {
     "name": "stdout",
     "output_type": "stream",
     "text": [
      "Iter: 62\n",
      "======Direction: down======\n"
     ]
    },
    {
     "data": {
      "text/html": [
       "<h1>Score: 64</h1><table style=\"border: 5px solid black;\"><tr><td style=\"border:3px solid black; text-align:center;\"\n",
       "         width=\"40\" height=\"40\">2</td><td style=\"border:3px solid black; text-align:center;\"\n",
       "         width=\"40\" height=\"40\"></td><td style=\"border:3px solid black; text-align:center;\"\n",
       "         width=\"40\" height=\"40\">16</td><td style=\"border:3px solid black; text-align:center;\"\n",
       "         width=\"40\" height=\"40\">2</td></tr><tr><td style=\"border:3px solid black; text-align:center;\"\n",
       "         width=\"40\" height=\"40\">4</td><td style=\"border:3px solid black; text-align:center;\"\n",
       "         width=\"40\" height=\"40\">8</td><td style=\"border:3px solid black; text-align:center;\"\n",
       "         width=\"40\" height=\"40\">8</td><td style=\"border:3px solid black; text-align:center;\"\n",
       "         width=\"40\" height=\"40\">8</td></tr><tr><td style=\"border:3px solid black; text-align:center;\"\n",
       "         width=\"40\" height=\"40\">32</td><td style=\"border:3px solid black; text-align:center;\"\n",
       "         width=\"40\" height=\"40\">64</td><td style=\"border:3px solid black; text-align:center;\"\n",
       "         width=\"40\" height=\"40\">4</td><td style=\"border:3px solid black; text-align:center;\"\n",
       "         width=\"40\" height=\"40\">2</td></tr><tr><td style=\"border:3px solid black; text-align:center;\"\n",
       "         width=\"40\" height=\"40\">2</td><td style=\"border:3px solid black; text-align:center;\"\n",
       "         width=\"40\" height=\"40\">8</td><td style=\"border:3px solid black; text-align:center;\"\n",
       "         width=\"40\" height=\"40\">8</td><td style=\"border:3px solid black; text-align:center;\"\n",
       "         width=\"40\" height=\"40\">8</td></tr></table>"
      ],
      "text/plain": [
       "<IPython.core.display.HTML object>"
      ]
     },
     "metadata": {},
     "output_type": "display_data"
    },
    {
     "name": "stdout",
     "output_type": "stream",
     "text": [
      "Iter: 63\n",
      "======Direction: right======\n"
     ]
    },
    {
     "data": {
      "text/html": [
       "<h1>Score: 64</h1><table style=\"border: 5px solid black;\"><tr><td style=\"border:3px solid black; text-align:center;\"\n",
       "         width=\"40\" height=\"40\"></td><td style=\"border:3px solid black; text-align:center;\"\n",
       "         width=\"40\" height=\"40\">2</td><td style=\"border:3px solid black; text-align:center;\"\n",
       "         width=\"40\" height=\"40\">16</td><td style=\"border:3px solid black; text-align:center;\"\n",
       "         width=\"40\" height=\"40\">2</td></tr><tr><td style=\"border:3px solid black; text-align:center;\"\n",
       "         width=\"40\" height=\"40\"></td><td style=\"border:3px solid black; text-align:center;\"\n",
       "         width=\"40\" height=\"40\">4</td><td style=\"border:3px solid black; text-align:center;\"\n",
       "         width=\"40\" height=\"40\">8</td><td style=\"border:3px solid black; text-align:center;\"\n",
       "         width=\"40\" height=\"40\">16</td></tr><tr><td style=\"border:3px solid black; text-align:center;\"\n",
       "         width=\"40\" height=\"40\">32</td><td style=\"border:3px solid black; text-align:center;\"\n",
       "         width=\"40\" height=\"40\">64</td><td style=\"border:3px solid black; text-align:center;\"\n",
       "         width=\"40\" height=\"40\">4</td><td style=\"border:3px solid black; text-align:center;\"\n",
       "         width=\"40\" height=\"40\">2</td></tr><tr><td style=\"border:3px solid black; text-align:center;\"\n",
       "         width=\"40\" height=\"40\">4</td><td style=\"border:3px solid black; text-align:center;\"\n",
       "         width=\"40\" height=\"40\">2</td><td style=\"border:3px solid black; text-align:center;\"\n",
       "         width=\"40\" height=\"40\">8</td><td style=\"border:3px solid black; text-align:center;\"\n",
       "         width=\"40\" height=\"40\">16</td></tr></table>"
      ],
      "text/plain": [
       "<IPython.core.display.HTML object>"
      ]
     },
     "metadata": {},
     "output_type": "display_data"
    },
    {
     "name": "stdout",
     "output_type": "stream",
     "text": [
      "Iter: 64\n",
      "======Direction: up======\n"
     ]
    },
    {
     "data": {
      "text/html": [
       "<h1>Score: 64</h1><table style=\"border: 5px solid black;\"><tr><td style=\"border:3px solid black; text-align:center;\"\n",
       "         width=\"40\" height=\"40\">32</td><td style=\"border:3px solid black; text-align:center;\"\n",
       "         width=\"40\" height=\"40\">2</td><td style=\"border:3px solid black; text-align:center;\"\n",
       "         width=\"40\" height=\"40\">16</td><td style=\"border:3px solid black; text-align:center;\"\n",
       "         width=\"40\" height=\"40\">2</td></tr><tr><td style=\"border:3px solid black; text-align:center;\"\n",
       "         width=\"40\" height=\"40\">4</td><td style=\"border:3px solid black; text-align:center;\"\n",
       "         width=\"40\" height=\"40\">4</td><td style=\"border:3px solid black; text-align:center;\"\n",
       "         width=\"40\" height=\"40\">8</td><td style=\"border:3px solid black; text-align:center;\"\n",
       "         width=\"40\" height=\"40\">16</td></tr><tr><td style=\"border:3px solid black; text-align:center;\"\n",
       "         width=\"40\" height=\"40\"></td><td style=\"border:3px solid black; text-align:center;\"\n",
       "         width=\"40\" height=\"40\">64</td><td style=\"border:3px solid black; text-align:center;\"\n",
       "         width=\"40\" height=\"40\">4</td><td style=\"border:3px solid black; text-align:center;\"\n",
       "         width=\"40\" height=\"40\">2</td></tr><tr><td style=\"border:3px solid black; text-align:center;\"\n",
       "         width=\"40\" height=\"40\">4</td><td style=\"border:3px solid black; text-align:center;\"\n",
       "         width=\"40\" height=\"40\">2</td><td style=\"border:3px solid black; text-align:center;\"\n",
       "         width=\"40\" height=\"40\">8</td><td style=\"border:3px solid black; text-align:center;\"\n",
       "         width=\"40\" height=\"40\">16</td></tr></table>"
      ],
      "text/plain": [
       "<IPython.core.display.HTML object>"
      ]
     },
     "metadata": {},
     "output_type": "display_data"
    },
    {
     "name": "stdout",
     "output_type": "stream",
     "text": [
      "Iter: 65\n",
      "======Direction: right======\n"
     ]
    },
    {
     "data": {
      "text/html": [
       "<h1>Score: 64</h1><table style=\"border: 5px solid black;\"><tr><td style=\"border:3px solid black; text-align:center;\"\n",
       "         width=\"40\" height=\"40\">32</td><td style=\"border:3px solid black; text-align:center;\"\n",
       "         width=\"40\" height=\"40\">2</td><td style=\"border:3px solid black; text-align:center;\"\n",
       "         width=\"40\" height=\"40\">16</td><td style=\"border:3px solid black; text-align:center;\"\n",
       "         width=\"40\" height=\"40\">2</td></tr><tr><td style=\"border:3px solid black; text-align:center;\"\n",
       "         width=\"40\" height=\"40\"></td><td style=\"border:3px solid black; text-align:center;\"\n",
       "         width=\"40\" height=\"40\">8</td><td style=\"border:3px solid black; text-align:center;\"\n",
       "         width=\"40\" height=\"40\">8</td><td style=\"border:3px solid black; text-align:center;\"\n",
       "         width=\"40\" height=\"40\">16</td></tr><tr><td style=\"border:3px solid black; text-align:center;\"\n",
       "         width=\"40\" height=\"40\">2</td><td style=\"border:3px solid black; text-align:center;\"\n",
       "         width=\"40\" height=\"40\">64</td><td style=\"border:3px solid black; text-align:center;\"\n",
       "         width=\"40\" height=\"40\">4</td><td style=\"border:3px solid black; text-align:center;\"\n",
       "         width=\"40\" height=\"40\">2</td></tr><tr><td style=\"border:3px solid black; text-align:center;\"\n",
       "         width=\"40\" height=\"40\">4</td><td style=\"border:3px solid black; text-align:center;\"\n",
       "         width=\"40\" height=\"40\">2</td><td style=\"border:3px solid black; text-align:center;\"\n",
       "         width=\"40\" height=\"40\">8</td><td style=\"border:3px solid black; text-align:center;\"\n",
       "         width=\"40\" height=\"40\">16</td></tr></table>"
      ],
      "text/plain": [
       "<IPython.core.display.HTML object>"
      ]
     },
     "metadata": {},
     "output_type": "display_data"
    },
    {
     "name": "stdout",
     "output_type": "stream",
     "text": [
      "Iter: 66\n",
      "======Direction: up======\n"
     ]
    },
    {
     "data": {
      "text/html": [
       "<h1>Score: 64</h1><table style=\"border: 5px solid black;\"><tr><td style=\"border:3px solid black; text-align:center;\"\n",
       "         width=\"40\" height=\"40\">32</td><td style=\"border:3px solid black; text-align:center;\"\n",
       "         width=\"40\" height=\"40\">2</td><td style=\"border:3px solid black; text-align:center;\"\n",
       "         width=\"40\" height=\"40\">16</td><td style=\"border:3px solid black; text-align:center;\"\n",
       "         width=\"40\" height=\"40\">2</td></tr><tr><td style=\"border:3px solid black; text-align:center;\"\n",
       "         width=\"40\" height=\"40\">2</td><td style=\"border:3px solid black; text-align:center;\"\n",
       "         width=\"40\" height=\"40\">8</td><td style=\"border:3px solid black; text-align:center;\"\n",
       "         width=\"40\" height=\"40\">8</td><td style=\"border:3px solid black; text-align:center;\"\n",
       "         width=\"40\" height=\"40\">16</td></tr><tr><td style=\"border:3px solid black; text-align:center;\"\n",
       "         width=\"40\" height=\"40\">4</td><td style=\"border:3px solid black; text-align:center;\"\n",
       "         width=\"40\" height=\"40\">64</td><td style=\"border:3px solid black; text-align:center;\"\n",
       "         width=\"40\" height=\"40\">4</td><td style=\"border:3px solid black; text-align:center;\"\n",
       "         width=\"40\" height=\"40\">2</td></tr><tr><td style=\"border:3px solid black; text-align:center;\"\n",
       "         width=\"40\" height=\"40\">2</td><td style=\"border:3px solid black; text-align:center;\"\n",
       "         width=\"40\" height=\"40\">2</td><td style=\"border:3px solid black; text-align:center;\"\n",
       "         width=\"40\" height=\"40\">8</td><td style=\"border:3px solid black; text-align:center;\"\n",
       "         width=\"40\" height=\"40\">16</td></tr></table>"
      ],
      "text/plain": [
       "<IPython.core.display.HTML object>"
      ]
     },
     "metadata": {},
     "output_type": "display_data"
    },
    {
     "name": "stdout",
     "output_type": "stream",
     "text": [
      "Iter: 67\n",
      "======Direction: left======\n"
     ]
    },
    {
     "data": {
      "text/html": [
       "<h1>Score: 64</h1><table style=\"border: 5px solid black;\"><tr><td style=\"border:3px solid black; text-align:center;\"\n",
       "         width=\"40\" height=\"40\">32</td><td style=\"border:3px solid black; text-align:center;\"\n",
       "         width=\"40\" height=\"40\">2</td><td style=\"border:3px solid black; text-align:center;\"\n",
       "         width=\"40\" height=\"40\">16</td><td style=\"border:3px solid black; text-align:center;\"\n",
       "         width=\"40\" height=\"40\">2</td></tr><tr><td style=\"border:3px solid black; text-align:center;\"\n",
       "         width=\"40\" height=\"40\">2</td><td style=\"border:3px solid black; text-align:center;\"\n",
       "         width=\"40\" height=\"40\">16</td><td style=\"border:3px solid black; text-align:center;\"\n",
       "         width=\"40\" height=\"40\">16</td><td style=\"border:3px solid black; text-align:center;\"\n",
       "         width=\"40\" height=\"40\">2</td></tr><tr><td style=\"border:3px solid black; text-align:center;\"\n",
       "         width=\"40\" height=\"40\">4</td><td style=\"border:3px solid black; text-align:center;\"\n",
       "         width=\"40\" height=\"40\">64</td><td style=\"border:3px solid black; text-align:center;\"\n",
       "         width=\"40\" height=\"40\">4</td><td style=\"border:3px solid black; text-align:center;\"\n",
       "         width=\"40\" height=\"40\">2</td></tr><tr><td style=\"border:3px solid black; text-align:center;\"\n",
       "         width=\"40\" height=\"40\">4</td><td style=\"border:3px solid black; text-align:center;\"\n",
       "         width=\"40\" height=\"40\">8</td><td style=\"border:3px solid black; text-align:center;\"\n",
       "         width=\"40\" height=\"40\">16</td><td style=\"border:3px solid black; text-align:center;\"\n",
       "         width=\"40\" height=\"40\"></td></tr></table>"
      ],
      "text/plain": [
       "<IPython.core.display.HTML object>"
      ]
     },
     "metadata": {},
     "output_type": "display_data"
    },
    {
     "name": "stdout",
     "output_type": "stream",
     "text": [
      "Iter: 68\n",
      "======Direction: right======\n"
     ]
    },
    {
     "data": {
      "text/html": [
       "<h1>Score: 64</h1><table style=\"border: 5px solid black;\"><tr><td style=\"border:3px solid black; text-align:center;\"\n",
       "         width=\"40\" height=\"40\">32</td><td style=\"border:3px solid black; text-align:center;\"\n",
       "         width=\"40\" height=\"40\">2</td><td style=\"border:3px solid black; text-align:center;\"\n",
       "         width=\"40\" height=\"40\">16</td><td style=\"border:3px solid black; text-align:center;\"\n",
       "         width=\"40\" height=\"40\">2</td></tr><tr><td style=\"border:3px solid black; text-align:center;\"\n",
       "         width=\"40\" height=\"40\"></td><td style=\"border:3px solid black; text-align:center;\"\n",
       "         width=\"40\" height=\"40\">2</td><td style=\"border:3px solid black; text-align:center;\"\n",
       "         width=\"40\" height=\"40\">32</td><td style=\"border:3px solid black; text-align:center;\"\n",
       "         width=\"40\" height=\"40\">2</td></tr><tr><td style=\"border:3px solid black; text-align:center;\"\n",
       "         width=\"40\" height=\"40\">4</td><td style=\"border:3px solid black; text-align:center;\"\n",
       "         width=\"40\" height=\"40\">64</td><td style=\"border:3px solid black; text-align:center;\"\n",
       "         width=\"40\" height=\"40\">4</td><td style=\"border:3px solid black; text-align:center;\"\n",
       "         width=\"40\" height=\"40\">2</td></tr><tr><td style=\"border:3px solid black; text-align:center;\"\n",
       "         width=\"40\" height=\"40\">4</td><td style=\"border:3px solid black; text-align:center;\"\n",
       "         width=\"40\" height=\"40\">4</td><td style=\"border:3px solid black; text-align:center;\"\n",
       "         width=\"40\" height=\"40\">8</td><td style=\"border:3px solid black; text-align:center;\"\n",
       "         width=\"40\" height=\"40\">16</td></tr></table>"
      ],
      "text/plain": [
       "<IPython.core.display.HTML object>"
      ]
     },
     "metadata": {},
     "output_type": "display_data"
    },
    {
     "name": "stdout",
     "output_type": "stream",
     "text": [
      "Iter: 69\n",
      "======Direction: right======\n"
     ]
    },
    {
     "data": {
      "text/html": [
       "<h1>Score: 64</h1><table style=\"border: 5px solid black;\"><tr><td style=\"border:3px solid black; text-align:center;\"\n",
       "         width=\"40\" height=\"40\">32</td><td style=\"border:3px solid black; text-align:center;\"\n",
       "         width=\"40\" height=\"40\">2</td><td style=\"border:3px solid black; text-align:center;\"\n",
       "         width=\"40\" height=\"40\">16</td><td style=\"border:3px solid black; text-align:center;\"\n",
       "         width=\"40\" height=\"40\">2</td></tr><tr><td style=\"border:3px solid black; text-align:center;\"\n",
       "         width=\"40\" height=\"40\"></td><td style=\"border:3px solid black; text-align:center;\"\n",
       "         width=\"40\" height=\"40\">2</td><td style=\"border:3px solid black; text-align:center;\"\n",
       "         width=\"40\" height=\"40\">32</td><td style=\"border:3px solid black; text-align:center;\"\n",
       "         width=\"40\" height=\"40\">2</td></tr><tr><td style=\"border:3px solid black; text-align:center;\"\n",
       "         width=\"40\" height=\"40\">4</td><td style=\"border:3px solid black; text-align:center;\"\n",
       "         width=\"40\" height=\"40\">64</td><td style=\"border:3px solid black; text-align:center;\"\n",
       "         width=\"40\" height=\"40\">4</td><td style=\"border:3px solid black; text-align:center;\"\n",
       "         width=\"40\" height=\"40\">2</td></tr><tr><td style=\"border:3px solid black; text-align:center;\"\n",
       "         width=\"40\" height=\"40\">2</td><td style=\"border:3px solid black; text-align:center;\"\n",
       "         width=\"40\" height=\"40\">8</td><td style=\"border:3px solid black; text-align:center;\"\n",
       "         width=\"40\" height=\"40\">8</td><td style=\"border:3px solid black; text-align:center;\"\n",
       "         width=\"40\" height=\"40\">16</td></tr></table>"
      ],
      "text/plain": [
       "<IPython.core.display.HTML object>"
      ]
     },
     "metadata": {},
     "output_type": "display_data"
    },
    {
     "name": "stdout",
     "output_type": "stream",
     "text": [
      "Iter: 70\n",
      "======Direction: up======\n"
     ]
    },
    {
     "data": {
      "text/html": [
       "<h1>Score: 64</h1><table style=\"border: 5px solid black;\"><tr><td style=\"border:3px solid black; text-align:center;\"\n",
       "         width=\"40\" height=\"40\">32</td><td style=\"border:3px solid black; text-align:center;\"\n",
       "         width=\"40\" height=\"40\">4</td><td style=\"border:3px solid black; text-align:center;\"\n",
       "         width=\"40\" height=\"40\">16</td><td style=\"border:3px solid black; text-align:center;\"\n",
       "         width=\"40\" height=\"40\">4</td></tr><tr><td style=\"border:3px solid black; text-align:center;\"\n",
       "         width=\"40\" height=\"40\">4</td><td style=\"border:3px solid black; text-align:center;\"\n",
       "         width=\"40\" height=\"40\">64</td><td style=\"border:3px solid black; text-align:center;\"\n",
       "         width=\"40\" height=\"40\">32</td><td style=\"border:3px solid black; text-align:center;\"\n",
       "         width=\"40\" height=\"40\">2</td></tr><tr><td style=\"border:3px solid black; text-align:center;\"\n",
       "         width=\"40\" height=\"40\">2</td><td style=\"border:3px solid black; text-align:center;\"\n",
       "         width=\"40\" height=\"40\">8</td><td style=\"border:3px solid black; text-align:center;\"\n",
       "         width=\"40\" height=\"40\">4</td><td style=\"border:3px solid black; text-align:center;\"\n",
       "         width=\"40\" height=\"40\">16</td></tr><tr><td style=\"border:3px solid black; text-align:center;\"\n",
       "         width=\"40\" height=\"40\"></td><td style=\"border:3px solid black; text-align:center;\"\n",
       "         width=\"40\" height=\"40\"></td><td style=\"border:3px solid black; text-align:center;\"\n",
       "         width=\"40\" height=\"40\">8</td><td style=\"border:3px solid black; text-align:center;\"\n",
       "         width=\"40\" height=\"40\">2</td></tr></table>"
      ],
      "text/plain": [
       "<IPython.core.display.HTML object>"
      ]
     },
     "metadata": {},
     "output_type": "display_data"
    },
    {
     "name": "stdout",
     "output_type": "stream",
     "text": [
      "Iter: 71\n",
      "======Direction: up======\n"
     ]
    },
    {
     "data": {
      "text/html": [
       "<h1>Score: 64</h1><table style=\"border: 5px solid black;\"><tr><td style=\"border:3px solid black; text-align:center;\"\n",
       "         width=\"40\" height=\"40\">32</td><td style=\"border:3px solid black; text-align:center;\"\n",
       "         width=\"40\" height=\"40\">4</td><td style=\"border:3px solid black; text-align:center;\"\n",
       "         width=\"40\" height=\"40\">16</td><td style=\"border:3px solid black; text-align:center;\"\n",
       "         width=\"40\" height=\"40\">4</td></tr><tr><td style=\"border:3px solid black; text-align:center;\"\n",
       "         width=\"40\" height=\"40\">4</td><td style=\"border:3px solid black; text-align:center;\"\n",
       "         width=\"40\" height=\"40\">64</td><td style=\"border:3px solid black; text-align:center;\"\n",
       "         width=\"40\" height=\"40\">32</td><td style=\"border:3px solid black; text-align:center;\"\n",
       "         width=\"40\" height=\"40\">2</td></tr><tr><td style=\"border:3px solid black; text-align:center;\"\n",
       "         width=\"40\" height=\"40\">2</td><td style=\"border:3px solid black; text-align:center;\"\n",
       "         width=\"40\" height=\"40\">8</td><td style=\"border:3px solid black; text-align:center;\"\n",
       "         width=\"40\" height=\"40\">4</td><td style=\"border:3px solid black; text-align:center;\"\n",
       "         width=\"40\" height=\"40\">16</td></tr><tr><td style=\"border:3px solid black; text-align:center;\"\n",
       "         width=\"40\" height=\"40\"></td><td style=\"border:3px solid black; text-align:center;\"\n",
       "         width=\"40\" height=\"40\">4</td><td style=\"border:3px solid black; text-align:center;\"\n",
       "         width=\"40\" height=\"40\">8</td><td style=\"border:3px solid black; text-align:center;\"\n",
       "         width=\"40\" height=\"40\">2</td></tr></table>"
      ],
      "text/plain": [
       "<IPython.core.display.HTML object>"
      ]
     },
     "metadata": {},
     "output_type": "display_data"
    },
    {
     "name": "stdout",
     "output_type": "stream",
     "text": [
      "Iter: 72\n",
      "======Direction: left======\n"
     ]
    },
    {
     "data": {
      "text/html": [
       "<h1>Score: 64</h1><table style=\"border: 5px solid black;\"><tr><td style=\"border:3px solid black; text-align:center;\"\n",
       "         width=\"40\" height=\"40\">32</td><td style=\"border:3px solid black; text-align:center;\"\n",
       "         width=\"40\" height=\"40\">4</td><td style=\"border:3px solid black; text-align:center;\"\n",
       "         width=\"40\" height=\"40\">16</td><td style=\"border:3px solid black; text-align:center;\"\n",
       "         width=\"40\" height=\"40\">4</td></tr><tr><td style=\"border:3px solid black; text-align:center;\"\n",
       "         width=\"40\" height=\"40\">4</td><td style=\"border:3px solid black; text-align:center;\"\n",
       "         width=\"40\" height=\"40\">64</td><td style=\"border:3px solid black; text-align:center;\"\n",
       "         width=\"40\" height=\"40\">32</td><td style=\"border:3px solid black; text-align:center;\"\n",
       "         width=\"40\" height=\"40\">2</td></tr><tr><td style=\"border:3px solid black; text-align:center;\"\n",
       "         width=\"40\" height=\"40\">2</td><td style=\"border:3px solid black; text-align:center;\"\n",
       "         width=\"40\" height=\"40\">8</td><td style=\"border:3px solid black; text-align:center;\"\n",
       "         width=\"40\" height=\"40\">4</td><td style=\"border:3px solid black; text-align:center;\"\n",
       "         width=\"40\" height=\"40\">16</td></tr><tr><td style=\"border:3px solid black; text-align:center;\"\n",
       "         width=\"40\" height=\"40\">4</td><td style=\"border:3px solid black; text-align:center;\"\n",
       "         width=\"40\" height=\"40\">8</td><td style=\"border:3px solid black; text-align:center;\"\n",
       "         width=\"40\" height=\"40\">2</td><td style=\"border:3px solid black; text-align:center;\"\n",
       "         width=\"40\" height=\"40\">2</td></tr></table>"
      ],
      "text/plain": [
       "<IPython.core.display.HTML object>"
      ]
     },
     "metadata": {},
     "output_type": "display_data"
    },
    {
     "name": "stdout",
     "output_type": "stream",
     "text": [
      "Iter: 73\n",
      "======Direction: down======\n"
     ]
    },
    {
     "data": {
      "text/html": [
       "<h1>Score: 64</h1><table style=\"border: 5px solid black;\"><tr><td style=\"border:3px solid black; text-align:center;\"\n",
       "         width=\"40\" height=\"40\">32</td><td style=\"border:3px solid black; text-align:center;\"\n",
       "         width=\"40\" height=\"40\">2</td><td style=\"border:3px solid black; text-align:center;\"\n",
       "         width=\"40\" height=\"40\">16</td><td style=\"border:3px solid black; text-align:center;\"\n",
       "         width=\"40\" height=\"40\">4</td></tr><tr><td style=\"border:3px solid black; text-align:center;\"\n",
       "         width=\"40\" height=\"40\">4</td><td style=\"border:3px solid black; text-align:center;\"\n",
       "         width=\"40\" height=\"40\">4</td><td style=\"border:3px solid black; text-align:center;\"\n",
       "         width=\"40\" height=\"40\">32</td><td style=\"border:3px solid black; text-align:center;\"\n",
       "         width=\"40\" height=\"40\">2</td></tr><tr><td style=\"border:3px solid black; text-align:center;\"\n",
       "         width=\"40\" height=\"40\">2</td><td style=\"border:3px solid black; text-align:center;\"\n",
       "         width=\"40\" height=\"40\">64</td><td style=\"border:3px solid black; text-align:center;\"\n",
       "         width=\"40\" height=\"40\">4</td><td style=\"border:3px solid black; text-align:center;\"\n",
       "         width=\"40\" height=\"40\">16</td></tr><tr><td style=\"border:3px solid black; text-align:center;\"\n",
       "         width=\"40\" height=\"40\">4</td><td style=\"border:3px solid black; text-align:center;\"\n",
       "         width=\"40\" height=\"40\">16</td><td style=\"border:3px solid black; text-align:center;\"\n",
       "         width=\"40\" height=\"40\">2</td><td style=\"border:3px solid black; text-align:center;\"\n",
       "         width=\"40\" height=\"40\">2</td></tr></table>"
      ],
      "text/plain": [
       "<IPython.core.display.HTML object>"
      ]
     },
     "metadata": {},
     "output_type": "display_data"
    },
    {
     "name": "stdout",
     "output_type": "stream",
     "text": [
      "Iter: 74\n",
      "======Direction: left======\n"
     ]
    },
    {
     "data": {
      "text/html": [
       "<h1>Score: 64</h1><table style=\"border: 5px solid black;\"><tr><td style=\"border:3px solid black; text-align:center;\"\n",
       "         width=\"40\" height=\"40\">32</td><td style=\"border:3px solid black; text-align:center;\"\n",
       "         width=\"40\" height=\"40\">2</td><td style=\"border:3px solid black; text-align:center;\"\n",
       "         width=\"40\" height=\"40\">16</td><td style=\"border:3px solid black; text-align:center;\"\n",
       "         width=\"40\" height=\"40\">4</td></tr><tr><td style=\"border:3px solid black; text-align:center;\"\n",
       "         width=\"40\" height=\"40\">8</td><td style=\"border:3px solid black; text-align:center;\"\n",
       "         width=\"40\" height=\"40\">32</td><td style=\"border:3px solid black; text-align:center;\"\n",
       "         width=\"40\" height=\"40\">2</td><td style=\"border:3px solid black; text-align:center;\"\n",
       "         width=\"40\" height=\"40\">4</td></tr><tr><td style=\"border:3px solid black; text-align:center;\"\n",
       "         width=\"40\" height=\"40\">2</td><td style=\"border:3px solid black; text-align:center;\"\n",
       "         width=\"40\" height=\"40\">64</td><td style=\"border:3px solid black; text-align:center;\"\n",
       "         width=\"40\" height=\"40\">4</td><td style=\"border:3px solid black; text-align:center;\"\n",
       "         width=\"40\" height=\"40\">16</td></tr><tr><td style=\"border:3px solid black; text-align:center;\"\n",
       "         width=\"40\" height=\"40\">4</td><td style=\"border:3px solid black; text-align:center;\"\n",
       "         width=\"40\" height=\"40\">16</td><td style=\"border:3px solid black; text-align:center;\"\n",
       "         width=\"40\" height=\"40\">4</td><td style=\"border:3px solid black; text-align:center;\"\n",
       "         width=\"40\" height=\"40\"></td></tr></table>"
      ],
      "text/plain": [
       "<IPython.core.display.HTML object>"
      ]
     },
     "metadata": {},
     "output_type": "display_data"
    },
    {
     "name": "stdout",
     "output_type": "stream",
     "text": [
      "Iter: 75\n",
      "======Direction: up======\n"
     ]
    },
    {
     "data": {
      "text/html": [
       "<h1>Score: 64</h1><table style=\"border: 5px solid black;\"><tr><td style=\"border:3px solid black; text-align:center;\"\n",
       "         width=\"40\" height=\"40\">32</td><td style=\"border:3px solid black; text-align:center;\"\n",
       "         width=\"40\" height=\"40\">2</td><td style=\"border:3px solid black; text-align:center;\"\n",
       "         width=\"40\" height=\"40\">16</td><td style=\"border:3px solid black; text-align:center;\"\n",
       "         width=\"40\" height=\"40\">8</td></tr><tr><td style=\"border:3px solid black; text-align:center;\"\n",
       "         width=\"40\" height=\"40\">8</td><td style=\"border:3px solid black; text-align:center;\"\n",
       "         width=\"40\" height=\"40\">32</td><td style=\"border:3px solid black; text-align:center;\"\n",
       "         width=\"40\" height=\"40\">2</td><td style=\"border:3px solid black; text-align:center;\"\n",
       "         width=\"40\" height=\"40\">16</td></tr><tr><td style=\"border:3px solid black; text-align:center;\"\n",
       "         width=\"40\" height=\"40\">2</td><td style=\"border:3px solid black; text-align:center;\"\n",
       "         width=\"40\" height=\"40\">64</td><td style=\"border:3px solid black; text-align:center;\"\n",
       "         width=\"40\" height=\"40\">8</td><td style=\"border:3px solid black; text-align:center;\"\n",
       "         width=\"40\" height=\"40\">4</td></tr><tr><td style=\"border:3px solid black; text-align:center;\"\n",
       "         width=\"40\" height=\"40\">4</td><td style=\"border:3px solid black; text-align:center;\"\n",
       "         width=\"40\" height=\"40\">16</td><td style=\"border:3px solid black; text-align:center;\"\n",
       "         width=\"40\" height=\"40\"></td><td style=\"border:3px solid black; text-align:center;\"\n",
       "         width=\"40\" height=\"40\"></td></tr></table>"
      ],
      "text/plain": [
       "<IPython.core.display.HTML object>"
      ]
     },
     "metadata": {},
     "output_type": "display_data"
    },
    {
     "name": "stdout",
     "output_type": "stream",
     "text": [
      "Iter: 76\n",
      "======Direction: right======\n"
     ]
    },
    {
     "data": {
      "text/html": [
       "<h1>Score: 64</h1><table style=\"border: 5px solid black;\"><tr><td style=\"border:3px solid black; text-align:center;\"\n",
       "         width=\"40\" height=\"40\">32</td><td style=\"border:3px solid black; text-align:center;\"\n",
       "         width=\"40\" height=\"40\">2</td><td style=\"border:3px solid black; text-align:center;\"\n",
       "         width=\"40\" height=\"40\">16</td><td style=\"border:3px solid black; text-align:center;\"\n",
       "         width=\"40\" height=\"40\">8</td></tr><tr><td style=\"border:3px solid black; text-align:center;\"\n",
       "         width=\"40\" height=\"40\">8</td><td style=\"border:3px solid black; text-align:center;\"\n",
       "         width=\"40\" height=\"40\">32</td><td style=\"border:3px solid black; text-align:center;\"\n",
       "         width=\"40\" height=\"40\">2</td><td style=\"border:3px solid black; text-align:center;\"\n",
       "         width=\"40\" height=\"40\">16</td></tr><tr><td style=\"border:3px solid black; text-align:center;\"\n",
       "         width=\"40\" height=\"40\">2</td><td style=\"border:3px solid black; text-align:center;\"\n",
       "         width=\"40\" height=\"40\">64</td><td style=\"border:3px solid black; text-align:center;\"\n",
       "         width=\"40\" height=\"40\">8</td><td style=\"border:3px solid black; text-align:center;\"\n",
       "         width=\"40\" height=\"40\">4</td></tr><tr><td style=\"border:3px solid black; text-align:center;\"\n",
       "         width=\"40\" height=\"40\">2</td><td style=\"border:3px solid black; text-align:center;\"\n",
       "         width=\"40\" height=\"40\"></td><td style=\"border:3px solid black; text-align:center;\"\n",
       "         width=\"40\" height=\"40\">4</td><td style=\"border:3px solid black; text-align:center;\"\n",
       "         width=\"40\" height=\"40\">16</td></tr></table>"
      ],
      "text/plain": [
       "<IPython.core.display.HTML object>"
      ]
     },
     "metadata": {},
     "output_type": "display_data"
    },
    {
     "name": "stdout",
     "output_type": "stream",
     "text": [
      "Iter: 77\n",
      "======Direction: left======\n"
     ]
    },
    {
     "data": {
      "text/html": [
       "<h1>Score: 64</h1><table style=\"border: 5px solid black;\"><tr><td style=\"border:3px solid black; text-align:center;\"\n",
       "         width=\"40\" height=\"40\">32</td><td style=\"border:3px solid black; text-align:center;\"\n",
       "         width=\"40\" height=\"40\">2</td><td style=\"border:3px solid black; text-align:center;\"\n",
       "         width=\"40\" height=\"40\">16</td><td style=\"border:3px solid black; text-align:center;\"\n",
       "         width=\"40\" height=\"40\">8</td></tr><tr><td style=\"border:3px solid black; text-align:center;\"\n",
       "         width=\"40\" height=\"40\">8</td><td style=\"border:3px solid black; text-align:center;\"\n",
       "         width=\"40\" height=\"40\">32</td><td style=\"border:3px solid black; text-align:center;\"\n",
       "         width=\"40\" height=\"40\">2</td><td style=\"border:3px solid black; text-align:center;\"\n",
       "         width=\"40\" height=\"40\">16</td></tr><tr><td style=\"border:3px solid black; text-align:center;\"\n",
       "         width=\"40\" height=\"40\">2</td><td style=\"border:3px solid black; text-align:center;\"\n",
       "         width=\"40\" height=\"40\">64</td><td style=\"border:3px solid black; text-align:center;\"\n",
       "         width=\"40\" height=\"40\">8</td><td style=\"border:3px solid black; text-align:center;\"\n",
       "         width=\"40\" height=\"40\">4</td></tr><tr><td style=\"border:3px solid black; text-align:center;\"\n",
       "         width=\"40\" height=\"40\">2</td><td style=\"border:3px solid black; text-align:center;\"\n",
       "         width=\"40\" height=\"40\">4</td><td style=\"border:3px solid black; text-align:center;\"\n",
       "         width=\"40\" height=\"40\">16</td><td style=\"border:3px solid black; text-align:center;\"\n",
       "         width=\"40\" height=\"40\">2</td></tr></table>"
      ],
      "text/plain": [
       "<IPython.core.display.HTML object>"
      ]
     },
     "metadata": {},
     "output_type": "display_data"
    },
    {
     "name": "stdout",
     "output_type": "stream",
     "text": [
      "Iter: 78\n",
      "======Direction: up======\n"
     ]
    },
    {
     "data": {
      "text/html": [
       "<h1>Score: 64</h1><table style=\"border: 5px solid black;\"><tr><td style=\"border:3px solid black; text-align:center;\"\n",
       "         width=\"40\" height=\"40\">32</td><td style=\"border:3px solid black; text-align:center;\"\n",
       "         width=\"40\" height=\"40\">2</td><td style=\"border:3px solid black; text-align:center;\"\n",
       "         width=\"40\" height=\"40\">16</td><td style=\"border:3px solid black; text-align:center;\"\n",
       "         width=\"40\" height=\"40\">8</td></tr><tr><td style=\"border:3px solid black; text-align:center;\"\n",
       "         width=\"40\" height=\"40\">8</td><td style=\"border:3px solid black; text-align:center;\"\n",
       "         width=\"40\" height=\"40\">32</td><td style=\"border:3px solid black; text-align:center;\"\n",
       "         width=\"40\" height=\"40\">2</td><td style=\"border:3px solid black; text-align:center;\"\n",
       "         width=\"40\" height=\"40\">16</td></tr><tr><td style=\"border:3px solid black; text-align:center;\"\n",
       "         width=\"40\" height=\"40\">4</td><td style=\"border:3px solid black; text-align:center;\"\n",
       "         width=\"40\" height=\"40\">64</td><td style=\"border:3px solid black; text-align:center;\"\n",
       "         width=\"40\" height=\"40\">8</td><td style=\"border:3px solid black; text-align:center;\"\n",
       "         width=\"40\" height=\"40\">4</td></tr><tr><td style=\"border:3px solid black; text-align:center;\"\n",
       "         width=\"40\" height=\"40\">2</td><td style=\"border:3px solid black; text-align:center;\"\n",
       "         width=\"40\" height=\"40\">4</td><td style=\"border:3px solid black; text-align:center;\"\n",
       "         width=\"40\" height=\"40\">16</td><td style=\"border:3px solid black; text-align:center;\"\n",
       "         width=\"40\" height=\"40\">2</td></tr></table>"
      ],
      "text/plain": [
       "<IPython.core.display.HTML object>"
      ]
     },
     "metadata": {},
     "output_type": "display_data"
    },
    {
     "name": "stdout",
     "output_type": "stream",
     "text": [
      "Iter: 79\n",
      "======Direction: down======\n"
     ]
    },
    {
     "data": {
      "text/html": [
       "<h1>Score: 64</h1><table style=\"border: 5px solid black;\"><tr><td style=\"border:3px solid black; text-align:center;\"\n",
       "         width=\"40\" height=\"40\">32</td><td style=\"border:3px solid black; text-align:center;\"\n",
       "         width=\"40\" height=\"40\">2</td><td style=\"border:3px solid black; text-align:center;\"\n",
       "         width=\"40\" height=\"40\">16</td><td style=\"border:3px solid black; text-align:center;\"\n",
       "         width=\"40\" height=\"40\">8</td></tr><tr><td style=\"border:3px solid black; text-align:center;\"\n",
       "         width=\"40\" height=\"40\">8</td><td style=\"border:3px solid black; text-align:center;\"\n",
       "         width=\"40\" height=\"40\">32</td><td style=\"border:3px solid black; text-align:center;\"\n",
       "         width=\"40\" height=\"40\">2</td><td style=\"border:3px solid black; text-align:center;\"\n",
       "         width=\"40\" height=\"40\">16</td></tr><tr><td style=\"border:3px solid black; text-align:center;\"\n",
       "         width=\"40\" height=\"40\">4</td><td style=\"border:3px solid black; text-align:center;\"\n",
       "         width=\"40\" height=\"40\">64</td><td style=\"border:3px solid black; text-align:center;\"\n",
       "         width=\"40\" height=\"40\">8</td><td style=\"border:3px solid black; text-align:center;\"\n",
       "         width=\"40\" height=\"40\">4</td></tr><tr><td style=\"border:3px solid black; text-align:center;\"\n",
       "         width=\"40\" height=\"40\">2</td><td style=\"border:3px solid black; text-align:center;\"\n",
       "         width=\"40\" height=\"40\">4</td><td style=\"border:3px solid black; text-align:center;\"\n",
       "         width=\"40\" height=\"40\">16</td><td style=\"border:3px solid black; text-align:center;\"\n",
       "         width=\"40\" height=\"40\">2</td></tr></table>"
      ],
      "text/plain": [
       "<IPython.core.display.HTML object>"
      ]
     },
     "metadata": {},
     "output_type": "display_data"
    },
    {
     "name": "stdout",
     "output_type": "stream",
     "text": [
      "You lose! Score: 64\n"
     ]
    }
   ],
   "source": [
    "game = Game(4, random=False)\n",
    "agent = RandomAgent(game, display=display2)\n",
    "agent.play(verbose=True)"
   ]
  },
  {
   "cell_type": "code",
   "execution_count": 4,
   "metadata": {
    "scrolled": true
   },
   "outputs": [
    {
     "name": "stdout",
     "output_type": "stream",
     "text": [
      "0: left, 1: down, 2: right, 3: up = 0\n",
      "Iter: 1\n",
      "======Direction: left======\n"
     ]
    },
    {
     "data": {
      "text/html": [
       "<h1>Score: 4</h1><table style=\"border: 5px solid black;\"><tr><td style=\"border:3px solid black; text-align:center;\"\n",
       "         width=\"40\" height=\"40\"></td><td style=\"border:3px solid black; text-align:center;\"\n",
       "         width=\"40\" height=\"40\">4</td><td style=\"border:3px solid black; text-align:center;\"\n",
       "         width=\"40\" height=\"40\"></td><td style=\"border:3px solid black; text-align:center;\"\n",
       "         width=\"40\" height=\"40\"></td></tr><tr><td style=\"border:3px solid black; text-align:center;\"\n",
       "         width=\"40\" height=\"40\"></td><td style=\"border:3px solid black; text-align:center;\"\n",
       "         width=\"40\" height=\"40\"></td><td style=\"border:3px solid black; text-align:center;\"\n",
       "         width=\"40\" height=\"40\"></td><td style=\"border:3px solid black; text-align:center;\"\n",
       "         width=\"40\" height=\"40\"></td></tr><tr><td style=\"border:3px solid black; text-align:center;\"\n",
       "         width=\"40\" height=\"40\">2</td><td style=\"border:3px solid black; text-align:center;\"\n",
       "         width=\"40\" height=\"40\"></td><td style=\"border:3px solid black; text-align:center;\"\n",
       "         width=\"40\" height=\"40\"></td><td style=\"border:3px solid black; text-align:center;\"\n",
       "         width=\"40\" height=\"40\"></td></tr><tr><td style=\"border:3px solid black; text-align:center;\"\n",
       "         width=\"40\" height=\"40\">2</td><td style=\"border:3px solid black; text-align:center;\"\n",
       "         width=\"40\" height=\"40\"></td><td style=\"border:3px solid black; text-align:center;\"\n",
       "         width=\"40\" height=\"40\"></td><td style=\"border:3px solid black; text-align:center;\"\n",
       "         width=\"40\" height=\"40\"></td></tr></table>"
      ],
      "text/plain": [
       "<IPython.core.display.HTML object>"
      ]
     },
     "metadata": {},
     "output_type": "display_data"
    },
    {
     "name": "stdout",
     "output_type": "stream",
     "text": [
      "0: left, 1: down, 2: right, 3: up = 1\n",
      "Iter: 2\n",
      "======Direction: down======\n"
     ]
    },
    {
     "data": {
      "text/html": [
       "<h1>Score: 4</h1><table style=\"border: 5px solid black;\"><tr><td style=\"border:3px solid black; text-align:center;\"\n",
       "         width=\"40\" height=\"40\">4</td><td style=\"border:3px solid black; text-align:center;\"\n",
       "         width=\"40\" height=\"40\"></td><td style=\"border:3px solid black; text-align:center;\"\n",
       "         width=\"40\" height=\"40\"></td><td style=\"border:3px solid black; text-align:center;\"\n",
       "         width=\"40\" height=\"40\"></td></tr><tr><td style=\"border:3px solid black; text-align:center;\"\n",
       "         width=\"40\" height=\"40\"></td><td style=\"border:3px solid black; text-align:center;\"\n",
       "         width=\"40\" height=\"40\"></td><td style=\"border:3px solid black; text-align:center;\"\n",
       "         width=\"40\" height=\"40\"></td><td style=\"border:3px solid black; text-align:center;\"\n",
       "         width=\"40\" height=\"40\"></td></tr><tr><td style=\"border:3px solid black; text-align:center;\"\n",
       "         width=\"40\" height=\"40\"></td><td style=\"border:3px solid black; text-align:center;\"\n",
       "         width=\"40\" height=\"40\"></td><td style=\"border:3px solid black; text-align:center;\"\n",
       "         width=\"40\" height=\"40\"></td><td style=\"border:3px solid black; text-align:center;\"\n",
       "         width=\"40\" height=\"40\"></td></tr><tr><td style=\"border:3px solid black; text-align:center;\"\n",
       "         width=\"40\" height=\"40\">4</td><td style=\"border:3px solid black; text-align:center;\"\n",
       "         width=\"40\" height=\"40\">4</td><td style=\"border:3px solid black; text-align:center;\"\n",
       "         width=\"40\" height=\"40\"></td><td style=\"border:3px solid black; text-align:center;\"\n",
       "         width=\"40\" height=\"40\"></td></tr></table>"
      ],
      "text/plain": [
       "<IPython.core.display.HTML object>"
      ]
     },
     "metadata": {},
     "output_type": "display_data"
    },
    {
     "name": "stdout",
     "output_type": "stream",
     "text": [
      "0: left, 1: down, 2: right, 3: up = 1\n",
      "Iter: 3\n",
      "======Direction: down======\n"
     ]
    },
    {
     "data": {
      "text/html": [
       "<h1>Score: 8</h1><table style=\"border: 5px solid black;\"><tr><td style=\"border:3px solid black; text-align:center;\"\n",
       "         width=\"40\" height=\"40\"></td><td style=\"border:3px solid black; text-align:center;\"\n",
       "         width=\"40\" height=\"40\"></td><td style=\"border:3px solid black; text-align:center;\"\n",
       "         width=\"40\" height=\"40\"></td><td style=\"border:3px solid black; text-align:center;\"\n",
       "         width=\"40\" height=\"40\"></td></tr><tr><td style=\"border:3px solid black; text-align:center;\"\n",
       "         width=\"40\" height=\"40\"></td><td style=\"border:3px solid black; text-align:center;\"\n",
       "         width=\"40\" height=\"40\"></td><td style=\"border:3px solid black; text-align:center;\"\n",
       "         width=\"40\" height=\"40\"></td><td style=\"border:3px solid black; text-align:center;\"\n",
       "         width=\"40\" height=\"40\"></td></tr><tr><td style=\"border:3px solid black; text-align:center;\"\n",
       "         width=\"40\" height=\"40\"></td><td style=\"border:3px solid black; text-align:center;\"\n",
       "         width=\"40\" height=\"40\"></td><td style=\"border:3px solid black; text-align:center;\"\n",
       "         width=\"40\" height=\"40\"></td><td style=\"border:3px solid black; text-align:center;\"\n",
       "         width=\"40\" height=\"40\"></td></tr><tr><td style=\"border:3px solid black; text-align:center;\"\n",
       "         width=\"40\" height=\"40\">8</td><td style=\"border:3px solid black; text-align:center;\"\n",
       "         width=\"40\" height=\"40\">4</td><td style=\"border:3px solid black; text-align:center;\"\n",
       "         width=\"40\" height=\"40\">4</td><td style=\"border:3px solid black; text-align:center;\"\n",
       "         width=\"40\" height=\"40\"></td></tr></table>"
      ],
      "text/plain": [
       "<IPython.core.display.HTML object>"
      ]
     },
     "metadata": {},
     "output_type": "display_data"
    },
    {
     "name": "stdout",
     "output_type": "stream",
     "text": [
      "0: left, 1: down, 2: right, 3: up = 0\n",
      "Iter: 4\n",
      "======Direction: left======\n"
     ]
    },
    {
     "data": {
      "text/html": [
       "<h1>Score: 8</h1><table style=\"border: 5px solid black;\"><tr><td style=\"border:3px solid black; text-align:center;\"\n",
       "         width=\"40\" height=\"40\"></td><td style=\"border:3px solid black; text-align:center;\"\n",
       "         width=\"40\" height=\"40\"></td><td style=\"border:3px solid black; text-align:center;\"\n",
       "         width=\"40\" height=\"40\"></td><td style=\"border:3px solid black; text-align:center;\"\n",
       "         width=\"40\" height=\"40\"></td></tr><tr><td style=\"border:3px solid black; text-align:center;\"\n",
       "         width=\"40\" height=\"40\"></td><td style=\"border:3px solid black; text-align:center;\"\n",
       "         width=\"40\" height=\"40\">2</td><td style=\"border:3px solid black; text-align:center;\"\n",
       "         width=\"40\" height=\"40\"></td><td style=\"border:3px solid black; text-align:center;\"\n",
       "         width=\"40\" height=\"40\"></td></tr><tr><td style=\"border:3px solid black; text-align:center;\"\n",
       "         width=\"40\" height=\"40\"></td><td style=\"border:3px solid black; text-align:center;\"\n",
       "         width=\"40\" height=\"40\"></td><td style=\"border:3px solid black; text-align:center;\"\n",
       "         width=\"40\" height=\"40\"></td><td style=\"border:3px solid black; text-align:center;\"\n",
       "         width=\"40\" height=\"40\"></td></tr><tr><td style=\"border:3px solid black; text-align:center;\"\n",
       "         width=\"40\" height=\"40\">8</td><td style=\"border:3px solid black; text-align:center;\"\n",
       "         width=\"40\" height=\"40\">8</td><td style=\"border:3px solid black; text-align:center;\"\n",
       "         width=\"40\" height=\"40\"></td><td style=\"border:3px solid black; text-align:center;\"\n",
       "         width=\"40\" height=\"40\"></td></tr></table>"
      ],
      "text/plain": [
       "<IPython.core.display.HTML object>"
      ]
     },
     "metadata": {},
     "output_type": "display_data"
    },
    {
     "name": "stdout",
     "output_type": "stream",
     "text": [
      "0: left, 1: down, 2: right, 3: up = 0\n",
      "Iter: 5\n",
      "======Direction: left======\n"
     ]
    },
    {
     "data": {
      "text/html": [
       "<h1>Score: 16</h1><table style=\"border: 5px solid black;\"><tr><td style=\"border:3px solid black; text-align:center;\"\n",
       "         width=\"40\" height=\"40\"></td><td style=\"border:3px solid black; text-align:center;\"\n",
       "         width=\"40\" height=\"40\"></td><td style=\"border:3px solid black; text-align:center;\"\n",
       "         width=\"40\" height=\"40\"></td><td style=\"border:3px solid black; text-align:center;\"\n",
       "         width=\"40\" height=\"40\"></td></tr><tr><td style=\"border:3px solid black; text-align:center;\"\n",
       "         width=\"40\" height=\"40\">2</td><td style=\"border:3px solid black; text-align:center;\"\n",
       "         width=\"40\" height=\"40\"></td><td style=\"border:3px solid black; text-align:center;\"\n",
       "         width=\"40\" height=\"40\"></td><td style=\"border:3px solid black; text-align:center;\"\n",
       "         width=\"40\" height=\"40\"></td></tr><tr><td style=\"border:3px solid black; text-align:center;\"\n",
       "         width=\"40\" height=\"40\"></td><td style=\"border:3px solid black; text-align:center;\"\n",
       "         width=\"40\" height=\"40\"></td><td style=\"border:3px solid black; text-align:center;\"\n",
       "         width=\"40\" height=\"40\"></td><td style=\"border:3px solid black; text-align:center;\"\n",
       "         width=\"40\" height=\"40\">2</td></tr><tr><td style=\"border:3px solid black; text-align:center;\"\n",
       "         width=\"40\" height=\"40\">16</td><td style=\"border:3px solid black; text-align:center;\"\n",
       "         width=\"40\" height=\"40\"></td><td style=\"border:3px solid black; text-align:center;\"\n",
       "         width=\"40\" height=\"40\"></td><td style=\"border:3px solid black; text-align:center;\"\n",
       "         width=\"40\" height=\"40\"></td></tr></table>"
      ],
      "text/plain": [
       "<IPython.core.display.HTML object>"
      ]
     },
     "metadata": {},
     "output_type": "display_data"
    },
    {
     "name": "stdout",
     "output_type": "stream",
     "text": [
      "0: left, 1: down, 2: right, 3: up = 1\n",
      "Iter: 6\n",
      "======Direction: down======\n"
     ]
    },
    {
     "data": {
      "text/html": [
       "<h1>Score: 16</h1><table style=\"border: 5px solid black;\"><tr><td style=\"border:3px solid black; text-align:center;\"\n",
       "         width=\"40\" height=\"40\"></td><td style=\"border:3px solid black; text-align:center;\"\n",
       "         width=\"40\" height=\"40\"></td><td style=\"border:3px solid black; text-align:center;\"\n",
       "         width=\"40\" height=\"40\"></td><td style=\"border:3px solid black; text-align:center;\"\n",
       "         width=\"40\" height=\"40\"></td></tr><tr><td style=\"border:3px solid black; text-align:center;\"\n",
       "         width=\"40\" height=\"40\"></td><td style=\"border:3px solid black; text-align:center;\"\n",
       "         width=\"40\" height=\"40\"></td><td style=\"border:3px solid black; text-align:center;\"\n",
       "         width=\"40\" height=\"40\"></td><td style=\"border:3px solid black; text-align:center;\"\n",
       "         width=\"40\" height=\"40\"></td></tr><tr><td style=\"border:3px solid black; text-align:center;\"\n",
       "         width=\"40\" height=\"40\">2</td><td style=\"border:3px solid black; text-align:center;\"\n",
       "         width=\"40\" height=\"40\"></td><td style=\"border:3px solid black; text-align:center;\"\n",
       "         width=\"40\" height=\"40\"></td><td style=\"border:3px solid black; text-align:center;\"\n",
       "         width=\"40\" height=\"40\"></td></tr><tr><td style=\"border:3px solid black; text-align:center;\"\n",
       "         width=\"40\" height=\"40\">16</td><td style=\"border:3px solid black; text-align:center;\"\n",
       "         width=\"40\" height=\"40\">4</td><td style=\"border:3px solid black; text-align:center;\"\n",
       "         width=\"40\" height=\"40\"></td><td style=\"border:3px solid black; text-align:center;\"\n",
       "         width=\"40\" height=\"40\">2</td></tr></table>"
      ],
      "text/plain": [
       "<IPython.core.display.HTML object>"
      ]
     },
     "metadata": {},
     "output_type": "display_data"
    },
    {
     "name": "stdout",
     "output_type": "stream",
     "text": [
      "0: left, 1: down, 2: right, 3: up = 0\n",
      "Iter: 7\n",
      "======Direction: left======\n"
     ]
    },
    {
     "data": {
      "text/html": [
       "<h1>Score: 16</h1><table style=\"border: 5px solid black;\"><tr><td style=\"border:3px solid black; text-align:center;\"\n",
       "         width=\"40\" height=\"40\"></td><td style=\"border:3px solid black; text-align:center;\"\n",
       "         width=\"40\" height=\"40\"></td><td style=\"border:3px solid black; text-align:center;\"\n",
       "         width=\"40\" height=\"40\"></td><td style=\"border:3px solid black; text-align:center;\"\n",
       "         width=\"40\" height=\"40\"></td></tr><tr><td style=\"border:3px solid black; text-align:center;\"\n",
       "         width=\"40\" height=\"40\"></td><td style=\"border:3px solid black; text-align:center;\"\n",
       "         width=\"40\" height=\"40\"></td><td style=\"border:3px solid black; text-align:center;\"\n",
       "         width=\"40\" height=\"40\"></td><td style=\"border:3px solid black; text-align:center;\"\n",
       "         width=\"40\" height=\"40\"></td></tr><tr><td style=\"border:3px solid black; text-align:center;\"\n",
       "         width=\"40\" height=\"40\">2</td><td style=\"border:3px solid black; text-align:center;\"\n",
       "         width=\"40\" height=\"40\"></td><td style=\"border:3px solid black; text-align:center;\"\n",
       "         width=\"40\" height=\"40\"></td><td style=\"border:3px solid black; text-align:center;\"\n",
       "         width=\"40\" height=\"40\"></td></tr><tr><td style=\"border:3px solid black; text-align:center;\"\n",
       "         width=\"40\" height=\"40\">16</td><td style=\"border:3px solid black; text-align:center;\"\n",
       "         width=\"40\" height=\"40\">4</td><td style=\"border:3px solid black; text-align:center;\"\n",
       "         width=\"40\" height=\"40\">2</td><td style=\"border:3px solid black; text-align:center;\"\n",
       "         width=\"40\" height=\"40\">4</td></tr></table>"
      ],
      "text/plain": [
       "<IPython.core.display.HTML object>"
      ]
     },
     "metadata": {},
     "output_type": "display_data"
    },
    {
     "name": "stdout",
     "output_type": "stream",
     "text": [
      "0: left, 1: down, 2: right, 3: up = 2\n",
      "Iter: 8\n",
      "======Direction: right======\n"
     ]
    },
    {
     "data": {
      "text/html": [
       "<h1>Score: 16</h1><table style=\"border: 5px solid black;\"><tr><td style=\"border:3px solid black; text-align:center;\"\n",
       "         width=\"40\" height=\"40\"></td><td style=\"border:3px solid black; text-align:center;\"\n",
       "         width=\"40\" height=\"40\"></td><td style=\"border:3px solid black; text-align:center;\"\n",
       "         width=\"40\" height=\"40\"></td><td style=\"border:3px solid black; text-align:center;\"\n",
       "         width=\"40\" height=\"40\"></td></tr><tr><td style=\"border:3px solid black; text-align:center;\"\n",
       "         width=\"40\" height=\"40\"></td><td style=\"border:3px solid black; text-align:center;\"\n",
       "         width=\"40\" height=\"40\">2</td><td style=\"border:3px solid black; text-align:center;\"\n",
       "         width=\"40\" height=\"40\"></td><td style=\"border:3px solid black; text-align:center;\"\n",
       "         width=\"40\" height=\"40\"></td></tr><tr><td style=\"border:3px solid black; text-align:center;\"\n",
       "         width=\"40\" height=\"40\"></td><td style=\"border:3px solid black; text-align:center;\"\n",
       "         width=\"40\" height=\"40\"></td><td style=\"border:3px solid black; text-align:center;\"\n",
       "         width=\"40\" height=\"40\"></td><td style=\"border:3px solid black; text-align:center;\"\n",
       "         width=\"40\" height=\"40\">2</td></tr><tr><td style=\"border:3px solid black; text-align:center;\"\n",
       "         width=\"40\" height=\"40\">16</td><td style=\"border:3px solid black; text-align:center;\"\n",
       "         width=\"40\" height=\"40\">4</td><td style=\"border:3px solid black; text-align:center;\"\n",
       "         width=\"40\" height=\"40\">2</td><td style=\"border:3px solid black; text-align:center;\"\n",
       "         width=\"40\" height=\"40\">4</td></tr></table>"
      ],
      "text/plain": [
       "<IPython.core.display.HTML object>"
      ]
     },
     "metadata": {},
     "output_type": "display_data"
    },
    {
     "name": "stdout",
     "output_type": "stream",
     "text": [
      "0: left, 1: down, 2: right, 3: up = 0\n",
      "Iter: 9\n",
      "======Direction: left======\n"
     ]
    },
    {
     "data": {
      "text/html": [
       "<h1>Score: 16</h1><table style=\"border: 5px solid black;\"><tr><td style=\"border:3px solid black; text-align:center;\"\n",
       "         width=\"40\" height=\"40\"></td><td style=\"border:3px solid black; text-align:center;\"\n",
       "         width=\"40\" height=\"40\"></td><td style=\"border:3px solid black; text-align:center;\"\n",
       "         width=\"40\" height=\"40\">4</td><td style=\"border:3px solid black; text-align:center;\"\n",
       "         width=\"40\" height=\"40\"></td></tr><tr><td style=\"border:3px solid black; text-align:center;\"\n",
       "         width=\"40\" height=\"40\">2</td><td style=\"border:3px solid black; text-align:center;\"\n",
       "         width=\"40\" height=\"40\"></td><td style=\"border:3px solid black; text-align:center;\"\n",
       "         width=\"40\" height=\"40\"></td><td style=\"border:3px solid black; text-align:center;\"\n",
       "         width=\"40\" height=\"40\"></td></tr><tr><td style=\"border:3px solid black; text-align:center;\"\n",
       "         width=\"40\" height=\"40\">2</td><td style=\"border:3px solid black; text-align:center;\"\n",
       "         width=\"40\" height=\"40\"></td><td style=\"border:3px solid black; text-align:center;\"\n",
       "         width=\"40\" height=\"40\"></td><td style=\"border:3px solid black; text-align:center;\"\n",
       "         width=\"40\" height=\"40\"></td></tr><tr><td style=\"border:3px solid black; text-align:center;\"\n",
       "         width=\"40\" height=\"40\">16</td><td style=\"border:3px solid black; text-align:center;\"\n",
       "         width=\"40\" height=\"40\">4</td><td style=\"border:3px solid black; text-align:center;\"\n",
       "         width=\"40\" height=\"40\">2</td><td style=\"border:3px solid black; text-align:center;\"\n",
       "         width=\"40\" height=\"40\">4</td></tr></table>"
      ],
      "text/plain": [
       "<IPython.core.display.HTML object>"
      ]
     },
     "metadata": {},
     "output_type": "display_data"
    },
    {
     "name": "stdout",
     "output_type": "stream",
     "text": [
      "0: left, 1: down, 2: right, 3: up = 1\n",
      "Iter: 10\n",
      "======Direction: down======\n"
     ]
    },
    {
     "data": {
      "text/html": [
       "<h1>Score: 16</h1><table style=\"border: 5px solid black;\"><tr><td style=\"border:3px solid black; text-align:center;\"\n",
       "         width=\"40\" height=\"40\"></td><td style=\"border:3px solid black; text-align:center;\"\n",
       "         width=\"40\" height=\"40\"></td><td style=\"border:3px solid black; text-align:center;\"\n",
       "         width=\"40\" height=\"40\"></td><td style=\"border:3px solid black; text-align:center;\"\n",
       "         width=\"40\" height=\"40\"></td></tr><tr><td style=\"border:3px solid black; text-align:center;\"\n",
       "         width=\"40\" height=\"40\"></td><td style=\"border:3px solid black; text-align:center;\"\n",
       "         width=\"40\" height=\"40\"></td><td style=\"border:3px solid black; text-align:center;\"\n",
       "         width=\"40\" height=\"40\"></td><td style=\"border:3px solid black; text-align:center;\"\n",
       "         width=\"40\" height=\"40\">2</td></tr><tr><td style=\"border:3px solid black; text-align:center;\"\n",
       "         width=\"40\" height=\"40\">4</td><td style=\"border:3px solid black; text-align:center;\"\n",
       "         width=\"40\" height=\"40\"></td><td style=\"border:3px solid black; text-align:center;\"\n",
       "         width=\"40\" height=\"40\">4</td><td style=\"border:3px solid black; text-align:center;\"\n",
       "         width=\"40\" height=\"40\"></td></tr><tr><td style=\"border:3px solid black; text-align:center;\"\n",
       "         width=\"40\" height=\"40\">16</td><td style=\"border:3px solid black; text-align:center;\"\n",
       "         width=\"40\" height=\"40\">4</td><td style=\"border:3px solid black; text-align:center;\"\n",
       "         width=\"40\" height=\"40\">2</td><td style=\"border:3px solid black; text-align:center;\"\n",
       "         width=\"40\" height=\"40\">4</td></tr></table>"
      ],
      "text/plain": [
       "<IPython.core.display.HTML object>"
      ]
     },
     "metadata": {},
     "output_type": "display_data"
    },
    {
     "name": "stdout",
     "output_type": "stream",
     "text": [
      "0: left, 1: down, 2: right, 3: up = 0\n",
      "Iter: 11\n",
      "======Direction: left======\n"
     ]
    },
    {
     "data": {
      "text/html": [
       "<h1>Score: 16</h1><table style=\"border: 5px solid black;\"><tr><td style=\"border:3px solid black; text-align:center;\"\n",
       "         width=\"40\" height=\"40\">2</td><td style=\"border:3px solid black; text-align:center;\"\n",
       "         width=\"40\" height=\"40\"></td><td style=\"border:3px solid black; text-align:center;\"\n",
       "         width=\"40\" height=\"40\"></td><td style=\"border:3px solid black; text-align:center;\"\n",
       "         width=\"40\" height=\"40\"></td></tr><tr><td style=\"border:3px solid black; text-align:center;\"\n",
       "         width=\"40\" height=\"40\">2</td><td style=\"border:3px solid black; text-align:center;\"\n",
       "         width=\"40\" height=\"40\"></td><td style=\"border:3px solid black; text-align:center;\"\n",
       "         width=\"40\" height=\"40\"></td><td style=\"border:3px solid black; text-align:center;\"\n",
       "         width=\"40\" height=\"40\"></td></tr><tr><td style=\"border:3px solid black; text-align:center;\"\n",
       "         width=\"40\" height=\"40\">8</td><td style=\"border:3px solid black; text-align:center;\"\n",
       "         width=\"40\" height=\"40\"></td><td style=\"border:3px solid black; text-align:center;\"\n",
       "         width=\"40\" height=\"40\"></td><td style=\"border:3px solid black; text-align:center;\"\n",
       "         width=\"40\" height=\"40\"></td></tr><tr><td style=\"border:3px solid black; text-align:center;\"\n",
       "         width=\"40\" height=\"40\">16</td><td style=\"border:3px solid black; text-align:center;\"\n",
       "         width=\"40\" height=\"40\">4</td><td style=\"border:3px solid black; text-align:center;\"\n",
       "         width=\"40\" height=\"40\">2</td><td style=\"border:3px solid black; text-align:center;\"\n",
       "         width=\"40\" height=\"40\">4</td></tr></table>"
      ],
      "text/plain": [
       "<IPython.core.display.HTML object>"
      ]
     },
     "metadata": {},
     "output_type": "display_data"
    },
    {
     "name": "stdout",
     "output_type": "stream",
     "text": [
      "0: left, 1: down, 2: right, 3: up = 1\n",
      "Iter: 12\n",
      "======Direction: down======\n"
     ]
    },
    {
     "data": {
      "text/html": [
       "<h1>Score: 16</h1><table style=\"border: 5px solid black;\"><tr><td style=\"border:3px solid black; text-align:center;\"\n",
       "         width=\"40\" height=\"40\">4</td><td style=\"border:3px solid black; text-align:center;\"\n",
       "         width=\"40\" height=\"40\"></td><td style=\"border:3px solid black; text-align:center;\"\n",
       "         width=\"40\" height=\"40\"></td><td style=\"border:3px solid black; text-align:center;\"\n",
       "         width=\"40\" height=\"40\"></td></tr><tr><td style=\"border:3px solid black; text-align:center;\"\n",
       "         width=\"40\" height=\"40\">4</td><td style=\"border:3px solid black; text-align:center;\"\n",
       "         width=\"40\" height=\"40\"></td><td style=\"border:3px solid black; text-align:center;\"\n",
       "         width=\"40\" height=\"40\"></td><td style=\"border:3px solid black; text-align:center;\"\n",
       "         width=\"40\" height=\"40\"></td></tr><tr><td style=\"border:3px solid black; text-align:center;\"\n",
       "         width=\"40\" height=\"40\">8</td><td style=\"border:3px solid black; text-align:center;\"\n",
       "         width=\"40\" height=\"40\"></td><td style=\"border:3px solid black; text-align:center;\"\n",
       "         width=\"40\" height=\"40\"></td><td style=\"border:3px solid black; text-align:center;\"\n",
       "         width=\"40\" height=\"40\"></td></tr><tr><td style=\"border:3px solid black; text-align:center;\"\n",
       "         width=\"40\" height=\"40\">16</td><td style=\"border:3px solid black; text-align:center;\"\n",
       "         width=\"40\" height=\"40\">4</td><td style=\"border:3px solid black; text-align:center;\"\n",
       "         width=\"40\" height=\"40\">2</td><td style=\"border:3px solid black; text-align:center;\"\n",
       "         width=\"40\" height=\"40\">4</td></tr></table>"
      ],
      "text/plain": [
       "<IPython.core.display.HTML object>"
      ]
     },
     "metadata": {},
     "output_type": "display_data"
    },
    {
     "name": "stdout",
     "output_type": "stream",
     "text": [
      "0: left, 1: down, 2: right, 3: up = 1\n",
      "Iter: 13\n",
      "======Direction: down======\n"
     ]
    },
    {
     "data": {
      "text/html": [
       "<h1>Score: 16</h1><table style=\"border: 5px solid black;\"><tr><td style=\"border:3px solid black; text-align:center;\"\n",
       "         width=\"40\" height=\"40\"></td><td style=\"border:3px solid black; text-align:center;\"\n",
       "         width=\"40\" height=\"40\">4</td><td style=\"border:3px solid black; text-align:center;\"\n",
       "         width=\"40\" height=\"40\"></td><td style=\"border:3px solid black; text-align:center;\"\n",
       "         width=\"40\" height=\"40\"></td></tr><tr><td style=\"border:3px solid black; text-align:center;\"\n",
       "         width=\"40\" height=\"40\">8</td><td style=\"border:3px solid black; text-align:center;\"\n",
       "         width=\"40\" height=\"40\"></td><td style=\"border:3px solid black; text-align:center;\"\n",
       "         width=\"40\" height=\"40\"></td><td style=\"border:3px solid black; text-align:center;\"\n",
       "         width=\"40\" height=\"40\"></td></tr><tr><td style=\"border:3px solid black; text-align:center;\"\n",
       "         width=\"40\" height=\"40\">8</td><td style=\"border:3px solid black; text-align:center;\"\n",
       "         width=\"40\" height=\"40\"></td><td style=\"border:3px solid black; text-align:center;\"\n",
       "         width=\"40\" height=\"40\"></td><td style=\"border:3px solid black; text-align:center;\"\n",
       "         width=\"40\" height=\"40\"></td></tr><tr><td style=\"border:3px solid black; text-align:center;\"\n",
       "         width=\"40\" height=\"40\">16</td><td style=\"border:3px solid black; text-align:center;\"\n",
       "         width=\"40\" height=\"40\">4</td><td style=\"border:3px solid black; text-align:center;\"\n",
       "         width=\"40\" height=\"40\">2</td><td style=\"border:3px solid black; text-align:center;\"\n",
       "         width=\"40\" height=\"40\">4</td></tr></table>"
      ],
      "text/plain": [
       "<IPython.core.display.HTML object>"
      ]
     },
     "metadata": {},
     "output_type": "display_data"
    },
    {
     "name": "stdout",
     "output_type": "stream",
     "text": [
      "0: left, 1: down, 2: right, 3: up = 1\n",
      "Iter: 14\n",
      "======Direction: down======\n"
     ]
    },
    {
     "data": {
      "text/html": [
       "<h1>Score: 16</h1><table style=\"border: 5px solid black;\"><tr><td style=\"border:3px solid black; text-align:center;\"\n",
       "         width=\"40\" height=\"40\"></td><td style=\"border:3px solid black; text-align:center;\"\n",
       "         width=\"40\" height=\"40\"></td><td style=\"border:3px solid black; text-align:center;\"\n",
       "         width=\"40\" height=\"40\"></td><td style=\"border:3px solid black; text-align:center;\"\n",
       "         width=\"40\" height=\"40\"></td></tr><tr><td style=\"border:3px solid black; text-align:center;\"\n",
       "         width=\"40\" height=\"40\"></td><td style=\"border:3px solid black; text-align:center;\"\n",
       "         width=\"40\" height=\"40\">4</td><td style=\"border:3px solid black; text-align:center;\"\n",
       "         width=\"40\" height=\"40\"></td><td style=\"border:3px solid black; text-align:center;\"\n",
       "         width=\"40\" height=\"40\"></td></tr><tr><td style=\"border:3px solid black; text-align:center;\"\n",
       "         width=\"40\" height=\"40\">16</td><td style=\"border:3px solid black; text-align:center;\"\n",
       "         width=\"40\" height=\"40\"></td><td style=\"border:3px solid black; text-align:center;\"\n",
       "         width=\"40\" height=\"40\"></td><td style=\"border:3px solid black; text-align:center;\"\n",
       "         width=\"40\" height=\"40\"></td></tr><tr><td style=\"border:3px solid black; text-align:center;\"\n",
       "         width=\"40\" height=\"40\">16</td><td style=\"border:3px solid black; text-align:center;\"\n",
       "         width=\"40\" height=\"40\">8</td><td style=\"border:3px solid black; text-align:center;\"\n",
       "         width=\"40\" height=\"40\">2</td><td style=\"border:3px solid black; text-align:center;\"\n",
       "         width=\"40\" height=\"40\">4</td></tr></table>"
      ],
      "text/plain": [
       "<IPython.core.display.HTML object>"
      ]
     },
     "metadata": {},
     "output_type": "display_data"
    },
    {
     "name": "stdout",
     "output_type": "stream",
     "text": [
      "0: left, 1: down, 2: right, 3: up = 1\n",
      "Iter: 15\n",
      "======Direction: down======\n"
     ]
    },
    {
     "data": {
      "text/html": [
       "<h1>Score: 32</h1><table style=\"border: 5px solid black;\"><tr><td style=\"border:3px solid black; text-align:center;\"\n",
       "         width=\"40\" height=\"40\"></td><td style=\"border:3px solid black; text-align:center;\"\n",
       "         width=\"40\" height=\"40\"></td><td style=\"border:3px solid black; text-align:center;\"\n",
       "         width=\"40\" height=\"40\"></td><td style=\"border:3px solid black; text-align:center;\"\n",
       "         width=\"40\" height=\"40\"></td></tr><tr><td style=\"border:3px solid black; text-align:center;\"\n",
       "         width=\"40\" height=\"40\">4</td><td style=\"border:3px solid black; text-align:center;\"\n",
       "         width=\"40\" height=\"40\"></td><td style=\"border:3px solid black; text-align:center;\"\n",
       "         width=\"40\" height=\"40\"></td><td style=\"border:3px solid black; text-align:center;\"\n",
       "         width=\"40\" height=\"40\"></td></tr><tr><td style=\"border:3px solid black; text-align:center;\"\n",
       "         width=\"40\" height=\"40\"></td><td style=\"border:3px solid black; text-align:center;\"\n",
       "         width=\"40\" height=\"40\">4</td><td style=\"border:3px solid black; text-align:center;\"\n",
       "         width=\"40\" height=\"40\"></td><td style=\"border:3px solid black; text-align:center;\"\n",
       "         width=\"40\" height=\"40\"></td></tr><tr><td style=\"border:3px solid black; text-align:center;\"\n",
       "         width=\"40\" height=\"40\">32</td><td style=\"border:3px solid black; text-align:center;\"\n",
       "         width=\"40\" height=\"40\">8</td><td style=\"border:3px solid black; text-align:center;\"\n",
       "         width=\"40\" height=\"40\">2</td><td style=\"border:3px solid black; text-align:center;\"\n",
       "         width=\"40\" height=\"40\">4</td></tr></table>"
      ],
      "text/plain": [
       "<IPython.core.display.HTML object>"
      ]
     },
     "metadata": {},
     "output_type": "display_data"
    },
    {
     "name": "stdout",
     "output_type": "stream",
     "text": [
      "0: left, 1: down, 2: right, 3: up = 0\n",
      "Iter: 16\n",
      "======Direction: left======\n"
     ]
    },
    {
     "data": {
      "text/html": [
       "<h1>Score: 32</h1><table style=\"border: 5px solid black;\"><tr><td style=\"border:3px solid black; text-align:center;\"\n",
       "         width=\"40\" height=\"40\"></td><td style=\"border:3px solid black; text-align:center;\"\n",
       "         width=\"40\" height=\"40\"></td><td style=\"border:3px solid black; text-align:center;\"\n",
       "         width=\"40\" height=\"40\"></td><td style=\"border:3px solid black; text-align:center;\"\n",
       "         width=\"40\" height=\"40\"></td></tr><tr><td style=\"border:3px solid black; text-align:center;\"\n",
       "         width=\"40\" height=\"40\">4</td><td style=\"border:3px solid black; text-align:center;\"\n",
       "         width=\"40\" height=\"40\"></td><td style=\"border:3px solid black; text-align:center;\"\n",
       "         width=\"40\" height=\"40\">2</td><td style=\"border:3px solid black; text-align:center;\"\n",
       "         width=\"40\" height=\"40\"></td></tr><tr><td style=\"border:3px solid black; text-align:center;\"\n",
       "         width=\"40\" height=\"40\">4</td><td style=\"border:3px solid black; text-align:center;\"\n",
       "         width=\"40\" height=\"40\"></td><td style=\"border:3px solid black; text-align:center;\"\n",
       "         width=\"40\" height=\"40\"></td><td style=\"border:3px solid black; text-align:center;\"\n",
       "         width=\"40\" height=\"40\"></td></tr><tr><td style=\"border:3px solid black; text-align:center;\"\n",
       "         width=\"40\" height=\"40\">32</td><td style=\"border:3px solid black; text-align:center;\"\n",
       "         width=\"40\" height=\"40\">8</td><td style=\"border:3px solid black; text-align:center;\"\n",
       "         width=\"40\" height=\"40\">2</td><td style=\"border:3px solid black; text-align:center;\"\n",
       "         width=\"40\" height=\"40\">4</td></tr></table>"
      ],
      "text/plain": [
       "<IPython.core.display.HTML object>"
      ]
     },
     "metadata": {},
     "output_type": "display_data"
    },
    {
     "name": "stdout",
     "output_type": "stream",
     "text": [
      "0: left, 1: down, 2: right, 3: up = 1\n",
      "Iter: 17\n",
      "======Direction: down======\n"
     ]
    },
    {
     "data": {
      "text/html": [
       "<h1>Score: 32</h1><table style=\"border: 5px solid black;\"><tr><td style=\"border:3px solid black; text-align:center;\"\n",
       "         width=\"40\" height=\"40\"></td><td style=\"border:3px solid black; text-align:center;\"\n",
       "         width=\"40\" height=\"40\"></td><td style=\"border:3px solid black; text-align:center;\"\n",
       "         width=\"40\" height=\"40\"></td><td style=\"border:3px solid black; text-align:center;\"\n",
       "         width=\"40\" height=\"40\"></td></tr><tr><td style=\"border:3px solid black; text-align:center;\"\n",
       "         width=\"40\" height=\"40\"></td><td style=\"border:3px solid black; text-align:center;\"\n",
       "         width=\"40\" height=\"40\"></td><td style=\"border:3px solid black; text-align:center;\"\n",
       "         width=\"40\" height=\"40\"></td><td style=\"border:3px solid black; text-align:center;\"\n",
       "         width=\"40\" height=\"40\"></td></tr><tr><td style=\"border:3px solid black; text-align:center;\"\n",
       "         width=\"40\" height=\"40\">8</td><td style=\"border:3px solid black; text-align:center;\"\n",
       "         width=\"40\" height=\"40\"></td><td style=\"border:3px solid black; text-align:center;\"\n",
       "         width=\"40\" height=\"40\"></td><td style=\"border:3px solid black; text-align:center;\"\n",
       "         width=\"40\" height=\"40\">2</td></tr><tr><td style=\"border:3px solid black; text-align:center;\"\n",
       "         width=\"40\" height=\"40\">32</td><td style=\"border:3px solid black; text-align:center;\"\n",
       "         width=\"40\" height=\"40\">8</td><td style=\"border:3px solid black; text-align:center;\"\n",
       "         width=\"40\" height=\"40\">4</td><td style=\"border:3px solid black; text-align:center;\"\n",
       "         width=\"40\" height=\"40\">4</td></tr></table>"
      ],
      "text/plain": [
       "<IPython.core.display.HTML object>"
      ]
     },
     "metadata": {},
     "output_type": "display_data"
    },
    {
     "name": "stdout",
     "output_type": "stream",
     "text": [
      "0: left, 1: down, 2: right, 3: up = 0\n",
      "Iter: 18\n",
      "======Direction: left======\n"
     ]
    },
    {
     "data": {
      "text/html": [
       "<h1>Score: 32</h1><table style=\"border: 5px solid black;\"><tr><td style=\"border:3px solid black; text-align:center;\"\n",
       "         width=\"40\" height=\"40\">4</td><td style=\"border:3px solid black; text-align:center;\"\n",
       "         width=\"40\" height=\"40\"></td><td style=\"border:3px solid black; text-align:center;\"\n",
       "         width=\"40\" height=\"40\"></td><td style=\"border:3px solid black; text-align:center;\"\n",
       "         width=\"40\" height=\"40\"></td></tr><tr><td style=\"border:3px solid black; text-align:center;\"\n",
       "         width=\"40\" height=\"40\"></td><td style=\"border:3px solid black; text-align:center;\"\n",
       "         width=\"40\" height=\"40\"></td><td style=\"border:3px solid black; text-align:center;\"\n",
       "         width=\"40\" height=\"40\"></td><td style=\"border:3px solid black; text-align:center;\"\n",
       "         width=\"40\" height=\"40\"></td></tr><tr><td style=\"border:3px solid black; text-align:center;\"\n",
       "         width=\"40\" height=\"40\">8</td><td style=\"border:3px solid black; text-align:center;\"\n",
       "         width=\"40\" height=\"40\">2</td><td style=\"border:3px solid black; text-align:center;\"\n",
       "         width=\"40\" height=\"40\"></td><td style=\"border:3px solid black; text-align:center;\"\n",
       "         width=\"40\" height=\"40\"></td></tr><tr><td style=\"border:3px solid black; text-align:center;\"\n",
       "         width=\"40\" height=\"40\">32</td><td style=\"border:3px solid black; text-align:center;\"\n",
       "         width=\"40\" height=\"40\">8</td><td style=\"border:3px solid black; text-align:center;\"\n",
       "         width=\"40\" height=\"40\">8</td><td style=\"border:3px solid black; text-align:center;\"\n",
       "         width=\"40\" height=\"40\"></td></tr></table>"
      ],
      "text/plain": [
       "<IPython.core.display.HTML object>"
      ]
     },
     "metadata": {},
     "output_type": "display_data"
    },
    {
     "name": "stdout",
     "output_type": "stream",
     "text": [
      "0: left, 1: down, 2: right, 3: up = 0\n",
      "Iter: 19\n",
      "======Direction: left======\n"
     ]
    },
    {
     "data": {
      "text/html": [
       "<h1>Score: 32</h1><table style=\"border: 5px solid black;\"><tr><td style=\"border:3px solid black; text-align:center;\"\n",
       "         width=\"40\" height=\"40\">4</td><td style=\"border:3px solid black; text-align:center;\"\n",
       "         width=\"40\" height=\"40\"></td><td style=\"border:3px solid black; text-align:center;\"\n",
       "         width=\"40\" height=\"40\"></td><td style=\"border:3px solid black; text-align:center;\"\n",
       "         width=\"40\" height=\"40\"></td></tr><tr><td style=\"border:3px solid black; text-align:center;\"\n",
       "         width=\"40\" height=\"40\"></td><td style=\"border:3px solid black; text-align:center;\"\n",
       "         width=\"40\" height=\"40\"></td><td style=\"border:3px solid black; text-align:center;\"\n",
       "         width=\"40\" height=\"40\"></td><td style=\"border:3px solid black; text-align:center;\"\n",
       "         width=\"40\" height=\"40\"></td></tr><tr><td style=\"border:3px solid black; text-align:center;\"\n",
       "         width=\"40\" height=\"40\">8</td><td style=\"border:3px solid black; text-align:center;\"\n",
       "         width=\"40\" height=\"40\">2</td><td style=\"border:3px solid black; text-align:center;\"\n",
       "         width=\"40\" height=\"40\"></td><td style=\"border:3px solid black; text-align:center;\"\n",
       "         width=\"40\" height=\"40\">4</td></tr><tr><td style=\"border:3px solid black; text-align:center;\"\n",
       "         width=\"40\" height=\"40\">32</td><td style=\"border:3px solid black; text-align:center;\"\n",
       "         width=\"40\" height=\"40\">16</td><td style=\"border:3px solid black; text-align:center;\"\n",
       "         width=\"40\" height=\"40\"></td><td style=\"border:3px solid black; text-align:center;\"\n",
       "         width=\"40\" height=\"40\"></td></tr></table>"
      ],
      "text/plain": [
       "<IPython.core.display.HTML object>"
      ]
     },
     "metadata": {},
     "output_type": "display_data"
    },
    {
     "name": "stdout",
     "output_type": "stream",
     "text": [
      "0: left, 1: down, 2: right, 3: up = 1\n",
      "Iter: 20\n",
      "======Direction: down======\n"
     ]
    },
    {
     "data": {
      "text/html": [
       "<h1>Score: 32</h1><table style=\"border: 5px solid black;\"><tr><td style=\"border:3px solid black; text-align:center;\"\n",
       "         width=\"40\" height=\"40\"></td><td style=\"border:3px solid black; text-align:center;\"\n",
       "         width=\"40\" height=\"40\"></td><td style=\"border:3px solid black; text-align:center;\"\n",
       "         width=\"40\" height=\"40\">2</td><td style=\"border:3px solid black; text-align:center;\"\n",
       "         width=\"40\" height=\"40\"></td></tr><tr><td style=\"border:3px solid black; text-align:center;\"\n",
       "         width=\"40\" height=\"40\">4</td><td style=\"border:3px solid black; text-align:center;\"\n",
       "         width=\"40\" height=\"40\"></td><td style=\"border:3px solid black; text-align:center;\"\n",
       "         width=\"40\" height=\"40\"></td><td style=\"border:3px solid black; text-align:center;\"\n",
       "         width=\"40\" height=\"40\"></td></tr><tr><td style=\"border:3px solid black; text-align:center;\"\n",
       "         width=\"40\" height=\"40\">8</td><td style=\"border:3px solid black; text-align:center;\"\n",
       "         width=\"40\" height=\"40\">2</td><td style=\"border:3px solid black; text-align:center;\"\n",
       "         width=\"40\" height=\"40\"></td><td style=\"border:3px solid black; text-align:center;\"\n",
       "         width=\"40\" height=\"40\"></td></tr><tr><td style=\"border:3px solid black; text-align:center;\"\n",
       "         width=\"40\" height=\"40\">32</td><td style=\"border:3px solid black; text-align:center;\"\n",
       "         width=\"40\" height=\"40\">16</td><td style=\"border:3px solid black; text-align:center;\"\n",
       "         width=\"40\" height=\"40\"></td><td style=\"border:3px solid black; text-align:center;\"\n",
       "         width=\"40\" height=\"40\">4</td></tr></table>"
      ],
      "text/plain": [
       "<IPython.core.display.HTML object>"
      ]
     },
     "metadata": {},
     "output_type": "display_data"
    },
    {
     "name": "stdout",
     "output_type": "stream",
     "text": [
      "0: left, 1: down, 2: right, 3: up = 0\n",
      "Iter: 21\n",
      "======Direction: left======\n"
     ]
    },
    {
     "data": {
      "text/html": [
       "<h1>Score: 32</h1><table style=\"border: 5px solid black;\"><tr><td style=\"border:3px solid black; text-align:center;\"\n",
       "         width=\"40\" height=\"40\">2</td><td style=\"border:3px solid black; text-align:center;\"\n",
       "         width=\"40\" height=\"40\"></td><td style=\"border:3px solid black; text-align:center;\"\n",
       "         width=\"40\" height=\"40\">2</td><td style=\"border:3px solid black; text-align:center;\"\n",
       "         width=\"40\" height=\"40\"></td></tr><tr><td style=\"border:3px solid black; text-align:center;\"\n",
       "         width=\"40\" height=\"40\">4</td><td style=\"border:3px solid black; text-align:center;\"\n",
       "         width=\"40\" height=\"40\"></td><td style=\"border:3px solid black; text-align:center;\"\n",
       "         width=\"40\" height=\"40\"></td><td style=\"border:3px solid black; text-align:center;\"\n",
       "         width=\"40\" height=\"40\"></td></tr><tr><td style=\"border:3px solid black; text-align:center;\"\n",
       "         width=\"40\" height=\"40\">8</td><td style=\"border:3px solid black; text-align:center;\"\n",
       "         width=\"40\" height=\"40\">2</td><td style=\"border:3px solid black; text-align:center;\"\n",
       "         width=\"40\" height=\"40\"></td><td style=\"border:3px solid black; text-align:center;\"\n",
       "         width=\"40\" height=\"40\"></td></tr><tr><td style=\"border:3px solid black; text-align:center;\"\n",
       "         width=\"40\" height=\"40\">32</td><td style=\"border:3px solid black; text-align:center;\"\n",
       "         width=\"40\" height=\"40\">16</td><td style=\"border:3px solid black; text-align:center;\"\n",
       "         width=\"40\" height=\"40\">4</td><td style=\"border:3px solid black; text-align:center;\"\n",
       "         width=\"40\" height=\"40\"></td></tr></table>"
      ],
      "text/plain": [
       "<IPython.core.display.HTML object>"
      ]
     },
     "metadata": {},
     "output_type": "display_data"
    },
    {
     "name": "stdout",
     "output_type": "stream",
     "text": [
      "0: left, 1: down, 2: right, 3: up = 1\n",
      "Iter: 22\n",
      "======Direction: down======\n"
     ]
    },
    {
     "data": {
      "text/html": [
       "<h1>Score: 32</h1><table style=\"border: 5px solid black;\"><tr><td style=\"border:3px solid black; text-align:center;\"\n",
       "         width=\"40\" height=\"40\">2</td><td style=\"border:3px solid black; text-align:center;\"\n",
       "         width=\"40\" height=\"40\"></td><td style=\"border:3px solid black; text-align:center;\"\n",
       "         width=\"40\" height=\"40\"></td><td style=\"border:3px solid black; text-align:center;\"\n",
       "         width=\"40\" height=\"40\"></td></tr><tr><td style=\"border:3px solid black; text-align:center;\"\n",
       "         width=\"40\" height=\"40\">4</td><td style=\"border:3px solid black; text-align:center;\"\n",
       "         width=\"40\" height=\"40\"></td><td style=\"border:3px solid black; text-align:center;\"\n",
       "         width=\"40\" height=\"40\"></td><td style=\"border:3px solid black; text-align:center;\"\n",
       "         width=\"40\" height=\"40\"></td></tr><tr><td style=\"border:3px solid black; text-align:center;\"\n",
       "         width=\"40\" height=\"40\">8</td><td style=\"border:3px solid black; text-align:center;\"\n",
       "         width=\"40\" height=\"40\">2</td><td style=\"border:3px solid black; text-align:center;\"\n",
       "         width=\"40\" height=\"40\">2</td><td style=\"border:3px solid black; text-align:center;\"\n",
       "         width=\"40\" height=\"40\"></td></tr><tr><td style=\"border:3px solid black; text-align:center;\"\n",
       "         width=\"40\" height=\"40\">32</td><td style=\"border:3px solid black; text-align:center;\"\n",
       "         width=\"40\" height=\"40\">16</td><td style=\"border:3px solid black; text-align:center;\"\n",
       "         width=\"40\" height=\"40\">4</td><td style=\"border:3px solid black; text-align:center;\"\n",
       "         width=\"40\" height=\"40\">4</td></tr></table>"
      ],
      "text/plain": [
       "<IPython.core.display.HTML object>"
      ]
     },
     "metadata": {},
     "output_type": "display_data"
    },
    {
     "name": "stdout",
     "output_type": "stream",
     "text": [
      "0: left, 1: down, 2: right, 3: up = 0\n",
      "Iter: 23\n",
      "======Direction: left======\n"
     ]
    },
    {
     "data": {
      "text/html": [
       "<h1>Score: 32</h1><table style=\"border: 5px solid black;\"><tr><td style=\"border:3px solid black; text-align:center;\"\n",
       "         width=\"40\" height=\"40\">2</td><td style=\"border:3px solid black; text-align:center;\"\n",
       "         width=\"40\" height=\"40\"></td><td style=\"border:3px solid black; text-align:center;\"\n",
       "         width=\"40\" height=\"40\"></td><td style=\"border:3px solid black; text-align:center;\"\n",
       "         width=\"40\" height=\"40\"></td></tr><tr><td style=\"border:3px solid black; text-align:center;\"\n",
       "         width=\"40\" height=\"40\">4</td><td style=\"border:3px solid black; text-align:center;\"\n",
       "         width=\"40\" height=\"40\"></td><td style=\"border:3px solid black; text-align:center;\"\n",
       "         width=\"40\" height=\"40\">4</td><td style=\"border:3px solid black; text-align:center;\"\n",
       "         width=\"40\" height=\"40\"></td></tr><tr><td style=\"border:3px solid black; text-align:center;\"\n",
       "         width=\"40\" height=\"40\">8</td><td style=\"border:3px solid black; text-align:center;\"\n",
       "         width=\"40\" height=\"40\">4</td><td style=\"border:3px solid black; text-align:center;\"\n",
       "         width=\"40\" height=\"40\"></td><td style=\"border:3px solid black; text-align:center;\"\n",
       "         width=\"40\" height=\"40\"></td></tr><tr><td style=\"border:3px solid black; text-align:center;\"\n",
       "         width=\"40\" height=\"40\">32</td><td style=\"border:3px solid black; text-align:center;\"\n",
       "         width=\"40\" height=\"40\">16</td><td style=\"border:3px solid black; text-align:center;\"\n",
       "         width=\"40\" height=\"40\">8</td><td style=\"border:3px solid black; text-align:center;\"\n",
       "         width=\"40\" height=\"40\"></td></tr></table>"
      ],
      "text/plain": [
       "<IPython.core.display.HTML object>"
      ]
     },
     "metadata": {},
     "output_type": "display_data"
    },
    {
     "name": "stdout",
     "output_type": "stream",
     "text": [
      "0: left, 1: down, 2: right, 3: up = 0\n",
      "Iter: 24\n",
      "======Direction: left======\n"
     ]
    },
    {
     "data": {
      "text/html": [
       "<h1>Score: 32</h1><table style=\"border: 5px solid black;\"><tr><td style=\"border:3px solid black; text-align:center;\"\n",
       "         width=\"40\" height=\"40\">2</td><td style=\"border:3px solid black; text-align:center;\"\n",
       "         width=\"40\" height=\"40\"></td><td style=\"border:3px solid black; text-align:center;\"\n",
       "         width=\"40\" height=\"40\"></td><td style=\"border:3px solid black; text-align:center;\"\n",
       "         width=\"40\" height=\"40\"></td></tr><tr><td style=\"border:3px solid black; text-align:center;\"\n",
       "         width=\"40\" height=\"40\">8</td><td style=\"border:3px solid black; text-align:center;\"\n",
       "         width=\"40\" height=\"40\"></td><td style=\"border:3px solid black; text-align:center;\"\n",
       "         width=\"40\" height=\"40\"></td><td style=\"border:3px solid black; text-align:center;\"\n",
       "         width=\"40\" height=\"40\">2</td></tr><tr><td style=\"border:3px solid black; text-align:center;\"\n",
       "         width=\"40\" height=\"40\">8</td><td style=\"border:3px solid black; text-align:center;\"\n",
       "         width=\"40\" height=\"40\">4</td><td style=\"border:3px solid black; text-align:center;\"\n",
       "         width=\"40\" height=\"40\"></td><td style=\"border:3px solid black; text-align:center;\"\n",
       "         width=\"40\" height=\"40\"></td></tr><tr><td style=\"border:3px solid black; text-align:center;\"\n",
       "         width=\"40\" height=\"40\">32</td><td style=\"border:3px solid black; text-align:center;\"\n",
       "         width=\"40\" height=\"40\">16</td><td style=\"border:3px solid black; text-align:center;\"\n",
       "         width=\"40\" height=\"40\">8</td><td style=\"border:3px solid black; text-align:center;\"\n",
       "         width=\"40\" height=\"40\"></td></tr></table>"
      ],
      "text/plain": [
       "<IPython.core.display.HTML object>"
      ]
     },
     "metadata": {},
     "output_type": "display_data"
    },
    {
     "name": "stdout",
     "output_type": "stream",
     "text": [
      "0: left, 1: down, 2: right, 3: up = 1\n",
      "Iter: 25\n",
      "======Direction: down======\n"
     ]
    },
    {
     "data": {
      "text/html": [
       "<h1>Score: 32</h1><table style=\"border: 5px solid black;\"><tr><td style=\"border:3px solid black; text-align:center;\"\n",
       "         width=\"40\" height=\"40\"></td><td style=\"border:3px solid black; text-align:center;\"\n",
       "         width=\"40\" height=\"40\"></td><td style=\"border:3px solid black; text-align:center;\"\n",
       "         width=\"40\" height=\"40\"></td><td style=\"border:3px solid black; text-align:center;\"\n",
       "         width=\"40\" height=\"40\"></td></tr><tr><td style=\"border:3px solid black; text-align:center;\"\n",
       "         width=\"40\" height=\"40\">2</td><td style=\"border:3px solid black; text-align:center;\"\n",
       "         width=\"40\" height=\"40\"></td><td style=\"border:3px solid black; text-align:center;\"\n",
       "         width=\"40\" height=\"40\"></td><td style=\"border:3px solid black; text-align:center;\"\n",
       "         width=\"40\" height=\"40\"></td></tr><tr><td style=\"border:3px solid black; text-align:center;\"\n",
       "         width=\"40\" height=\"40\">16</td><td style=\"border:3px solid black; text-align:center;\"\n",
       "         width=\"40\" height=\"40\">4</td><td style=\"border:3px solid black; text-align:center;\"\n",
       "         width=\"40\" height=\"40\"></td><td style=\"border:3px solid black; text-align:center;\"\n",
       "         width=\"40\" height=\"40\">4</td></tr><tr><td style=\"border:3px solid black; text-align:center;\"\n",
       "         width=\"40\" height=\"40\">32</td><td style=\"border:3px solid black; text-align:center;\"\n",
       "         width=\"40\" height=\"40\">16</td><td style=\"border:3px solid black; text-align:center;\"\n",
       "         width=\"40\" height=\"40\">8</td><td style=\"border:3px solid black; text-align:center;\"\n",
       "         width=\"40\" height=\"40\">2</td></tr></table>"
      ],
      "text/plain": [
       "<IPython.core.display.HTML object>"
      ]
     },
     "metadata": {},
     "output_type": "display_data"
    },
    {
     "name": "stdout",
     "output_type": "stream",
     "text": [
      "0: left, 1: down, 2: right, 3: up = 0\n",
      "Iter: 26\n",
      "======Direction: left======\n"
     ]
    },
    {
     "data": {
      "text/html": [
       "<h1>Score: 32</h1><table style=\"border: 5px solid black;\"><tr><td style=\"border:3px solid black; text-align:center;\"\n",
       "         width=\"40\" height=\"40\"></td><td style=\"border:3px solid black; text-align:center;\"\n",
       "         width=\"40\" height=\"40\"></td><td style=\"border:3px solid black; text-align:center;\"\n",
       "         width=\"40\" height=\"40\">2</td><td style=\"border:3px solid black; text-align:center;\"\n",
       "         width=\"40\" height=\"40\"></td></tr><tr><td style=\"border:3px solid black; text-align:center;\"\n",
       "         width=\"40\" height=\"40\">2</td><td style=\"border:3px solid black; text-align:center;\"\n",
       "         width=\"40\" height=\"40\"></td><td style=\"border:3px solid black; text-align:center;\"\n",
       "         width=\"40\" height=\"40\"></td><td style=\"border:3px solid black; text-align:center;\"\n",
       "         width=\"40\" height=\"40\"></td></tr><tr><td style=\"border:3px solid black; text-align:center;\"\n",
       "         width=\"40\" height=\"40\">16</td><td style=\"border:3px solid black; text-align:center;\"\n",
       "         width=\"40\" height=\"40\">8</td><td style=\"border:3px solid black; text-align:center;\"\n",
       "         width=\"40\" height=\"40\"></td><td style=\"border:3px solid black; text-align:center;\"\n",
       "         width=\"40\" height=\"40\"></td></tr><tr><td style=\"border:3px solid black; text-align:center;\"\n",
       "         width=\"40\" height=\"40\">32</td><td style=\"border:3px solid black; text-align:center;\"\n",
       "         width=\"40\" height=\"40\">16</td><td style=\"border:3px solid black; text-align:center;\"\n",
       "         width=\"40\" height=\"40\">8</td><td style=\"border:3px solid black; text-align:center;\"\n",
       "         width=\"40\" height=\"40\">2</td></tr></table>"
      ],
      "text/plain": [
       "<IPython.core.display.HTML object>"
      ]
     },
     "metadata": {},
     "output_type": "display_data"
    },
    {
     "name": "stdout",
     "output_type": "stream",
     "text": [
      "0: left, 1: down, 2: right, 3: up = 1\n",
      "Iter: 27\n",
      "======Direction: down======\n"
     ]
    },
    {
     "data": {
      "text/html": [
       "<h1>Score: 32</h1><table style=\"border: 5px solid black;\"><tr><td style=\"border:3px solid black; text-align:center;\"\n",
       "         width=\"40\" height=\"40\"></td><td style=\"border:3px solid black; text-align:center;\"\n",
       "         width=\"40\" height=\"40\"></td><td style=\"border:3px solid black; text-align:center;\"\n",
       "         width=\"40\" height=\"40\"></td><td style=\"border:3px solid black; text-align:center;\"\n",
       "         width=\"40\" height=\"40\"></td></tr><tr><td style=\"border:3px solid black; text-align:center;\"\n",
       "         width=\"40\" height=\"40\">2</td><td style=\"border:3px solid black; text-align:center;\"\n",
       "         width=\"40\" height=\"40\"></td><td style=\"border:3px solid black; text-align:center;\"\n",
       "         width=\"40\" height=\"40\"></td><td style=\"border:3px solid black; text-align:center;\"\n",
       "         width=\"40\" height=\"40\">2</td></tr><tr><td style=\"border:3px solid black; text-align:center;\"\n",
       "         width=\"40\" height=\"40\">16</td><td style=\"border:3px solid black; text-align:center;\"\n",
       "         width=\"40\" height=\"40\">8</td><td style=\"border:3px solid black; text-align:center;\"\n",
       "         width=\"40\" height=\"40\">2</td><td style=\"border:3px solid black; text-align:center;\"\n",
       "         width=\"40\" height=\"40\"></td></tr><tr><td style=\"border:3px solid black; text-align:center;\"\n",
       "         width=\"40\" height=\"40\">32</td><td style=\"border:3px solid black; text-align:center;\"\n",
       "         width=\"40\" height=\"40\">16</td><td style=\"border:3px solid black; text-align:center;\"\n",
       "         width=\"40\" height=\"40\">8</td><td style=\"border:3px solid black; text-align:center;\"\n",
       "         width=\"40\" height=\"40\">2</td></tr></table>"
      ],
      "text/plain": [
       "<IPython.core.display.HTML object>"
      ]
     },
     "metadata": {},
     "output_type": "display_data"
    },
    {
     "name": "stdout",
     "output_type": "stream",
     "text": [
      "0: left, 1: down, 2: right, 3: up = 0\n",
      "Iter: 28\n",
      "======Direction: left======\n"
     ]
    },
    {
     "data": {
      "text/html": [
       "<h1>Score: 32</h1><table style=\"border: 5px solid black;\"><tr><td style=\"border:3px solid black; text-align:center;\"\n",
       "         width=\"40\" height=\"40\"></td><td style=\"border:3px solid black; text-align:center;\"\n",
       "         width=\"40\" height=\"40\"></td><td style=\"border:3px solid black; text-align:center;\"\n",
       "         width=\"40\" height=\"40\"></td><td style=\"border:3px solid black; text-align:center;\"\n",
       "         width=\"40\" height=\"40\">2</td></tr><tr><td style=\"border:3px solid black; text-align:center;\"\n",
       "         width=\"40\" height=\"40\">4</td><td style=\"border:3px solid black; text-align:center;\"\n",
       "         width=\"40\" height=\"40\"></td><td style=\"border:3px solid black; text-align:center;\"\n",
       "         width=\"40\" height=\"40\"></td><td style=\"border:3px solid black; text-align:center;\"\n",
       "         width=\"40\" height=\"40\"></td></tr><tr><td style=\"border:3px solid black; text-align:center;\"\n",
       "         width=\"40\" height=\"40\">16</td><td style=\"border:3px solid black; text-align:center;\"\n",
       "         width=\"40\" height=\"40\">8</td><td style=\"border:3px solid black; text-align:center;\"\n",
       "         width=\"40\" height=\"40\">2</td><td style=\"border:3px solid black; text-align:center;\"\n",
       "         width=\"40\" height=\"40\"></td></tr><tr><td style=\"border:3px solid black; text-align:center;\"\n",
       "         width=\"40\" height=\"40\">32</td><td style=\"border:3px solid black; text-align:center;\"\n",
       "         width=\"40\" height=\"40\">16</td><td style=\"border:3px solid black; text-align:center;\"\n",
       "         width=\"40\" height=\"40\">8</td><td style=\"border:3px solid black; text-align:center;\"\n",
       "         width=\"40\" height=\"40\">2</td></tr></table>"
      ],
      "text/plain": [
       "<IPython.core.display.HTML object>"
      ]
     },
     "metadata": {},
     "output_type": "display_data"
    },
    {
     "name": "stdout",
     "output_type": "stream",
     "text": [
      "0: left, 1: down, 2: right, 3: up = 0\n",
      "Iter: 29\n",
      "======Direction: left======\n"
     ]
    },
    {
     "data": {
      "text/html": [
       "<h1>Score: 32</h1><table style=\"border: 5px solid black;\"><tr><td style=\"border:3px solid black; text-align:center;\"\n",
       "         width=\"40\" height=\"40\">2</td><td style=\"border:3px solid black; text-align:center;\"\n",
       "         width=\"40\" height=\"40\"></td><td style=\"border:3px solid black; text-align:center;\"\n",
       "         width=\"40\" height=\"40\"></td><td style=\"border:3px solid black; text-align:center;\"\n",
       "         width=\"40\" height=\"40\"></td></tr><tr><td style=\"border:3px solid black; text-align:center;\"\n",
       "         width=\"40\" height=\"40\">4</td><td style=\"border:3px solid black; text-align:center;\"\n",
       "         width=\"40\" height=\"40\"></td><td style=\"border:3px solid black; text-align:center;\"\n",
       "         width=\"40\" height=\"40\"></td><td style=\"border:3px solid black; text-align:center;\"\n",
       "         width=\"40\" height=\"40\"></td></tr><tr><td style=\"border:3px solid black; text-align:center;\"\n",
       "         width=\"40\" height=\"40\">16</td><td style=\"border:3px solid black; text-align:center;\"\n",
       "         width=\"40\" height=\"40\">8</td><td style=\"border:3px solid black; text-align:center;\"\n",
       "         width=\"40\" height=\"40\">2</td><td style=\"border:3px solid black; text-align:center;\"\n",
       "         width=\"40\" height=\"40\">4</td></tr><tr><td style=\"border:3px solid black; text-align:center;\"\n",
       "         width=\"40\" height=\"40\">32</td><td style=\"border:3px solid black; text-align:center;\"\n",
       "         width=\"40\" height=\"40\">16</td><td style=\"border:3px solid black; text-align:center;\"\n",
       "         width=\"40\" height=\"40\">8</td><td style=\"border:3px solid black; text-align:center;\"\n",
       "         width=\"40\" height=\"40\">2</td></tr></table>"
      ],
      "text/plain": [
       "<IPython.core.display.HTML object>"
      ]
     },
     "metadata": {},
     "output_type": "display_data"
    },
    {
     "name": "stdout",
     "output_type": "stream",
     "text": [
      "0: left, 1: down, 2: right, 3: up = 1\n",
      "Iter: 30\n",
      "======Direction: down======\n"
     ]
    },
    {
     "data": {
      "text/html": [
       "<h1>Score: 32</h1><table style=\"border: 5px solid black;\"><tr><td style=\"border:3px solid black; text-align:center;\"\n",
       "         width=\"40\" height=\"40\">2</td><td style=\"border:3px solid black; text-align:center;\"\n",
       "         width=\"40\" height=\"40\">2</td><td style=\"border:3px solid black; text-align:center;\"\n",
       "         width=\"40\" height=\"40\"></td><td style=\"border:3px solid black; text-align:center;\"\n",
       "         width=\"40\" height=\"40\"></td></tr><tr><td style=\"border:3px solid black; text-align:center;\"\n",
       "         width=\"40\" height=\"40\">4</td><td style=\"border:3px solid black; text-align:center;\"\n",
       "         width=\"40\" height=\"40\"></td><td style=\"border:3px solid black; text-align:center;\"\n",
       "         width=\"40\" height=\"40\"></td><td style=\"border:3px solid black; text-align:center;\"\n",
       "         width=\"40\" height=\"40\"></td></tr><tr><td style=\"border:3px solid black; text-align:center;\"\n",
       "         width=\"40\" height=\"40\">16</td><td style=\"border:3px solid black; text-align:center;\"\n",
       "         width=\"40\" height=\"40\">8</td><td style=\"border:3px solid black; text-align:center;\"\n",
       "         width=\"40\" height=\"40\">2</td><td style=\"border:3px solid black; text-align:center;\"\n",
       "         width=\"40\" height=\"40\">4</td></tr><tr><td style=\"border:3px solid black; text-align:center;\"\n",
       "         width=\"40\" height=\"40\">32</td><td style=\"border:3px solid black; text-align:center;\"\n",
       "         width=\"40\" height=\"40\">16</td><td style=\"border:3px solid black; text-align:center;\"\n",
       "         width=\"40\" height=\"40\">8</td><td style=\"border:3px solid black; text-align:center;\"\n",
       "         width=\"40\" height=\"40\">2</td></tr></table>"
      ],
      "text/plain": [
       "<IPython.core.display.HTML object>"
      ]
     },
     "metadata": {},
     "output_type": "display_data"
    },
    {
     "name": "stdout",
     "output_type": "stream",
     "text": [
      "0: left, 1: down, 2: right, 3: up = 1\n",
      "Iter: 31\n",
      "======Direction: down======\n"
     ]
    },
    {
     "data": {
      "text/html": [
       "<h1>Score: 32</h1><table style=\"border: 5px solid black;\"><tr><td style=\"border:3px solid black; text-align:center;\"\n",
       "         width=\"40\" height=\"40\">2</td><td style=\"border:3px solid black; text-align:center;\"\n",
       "         width=\"40\" height=\"40\">2</td><td style=\"border:3px solid black; text-align:center;\"\n",
       "         width=\"40\" height=\"40\"></td><td style=\"border:3px solid black; text-align:center;\"\n",
       "         width=\"40\" height=\"40\"></td></tr><tr><td style=\"border:3px solid black; text-align:center;\"\n",
       "         width=\"40\" height=\"40\">4</td><td style=\"border:3px solid black; text-align:center;\"\n",
       "         width=\"40\" height=\"40\">2</td><td style=\"border:3px solid black; text-align:center;\"\n",
       "         width=\"40\" height=\"40\"></td><td style=\"border:3px solid black; text-align:center;\"\n",
       "         width=\"40\" height=\"40\"></td></tr><tr><td style=\"border:3px solid black; text-align:center;\"\n",
       "         width=\"40\" height=\"40\">16</td><td style=\"border:3px solid black; text-align:center;\"\n",
       "         width=\"40\" height=\"40\">8</td><td style=\"border:3px solid black; text-align:center;\"\n",
       "         width=\"40\" height=\"40\">2</td><td style=\"border:3px solid black; text-align:center;\"\n",
       "         width=\"40\" height=\"40\">4</td></tr><tr><td style=\"border:3px solid black; text-align:center;\"\n",
       "         width=\"40\" height=\"40\">32</td><td style=\"border:3px solid black; text-align:center;\"\n",
       "         width=\"40\" height=\"40\">16</td><td style=\"border:3px solid black; text-align:center;\"\n",
       "         width=\"40\" height=\"40\">8</td><td style=\"border:3px solid black; text-align:center;\"\n",
       "         width=\"40\" height=\"40\">2</td></tr></table>"
      ],
      "text/plain": [
       "<IPython.core.display.HTML object>"
      ]
     },
     "metadata": {},
     "output_type": "display_data"
    },
    {
     "name": "stdout",
     "output_type": "stream",
     "text": [
      "0: left, 1: down, 2: right, 3: up = 0\n",
      "Iter: 32\n",
      "======Direction: left======\n"
     ]
    },
    {
     "data": {
      "text/html": [
       "<h1>Score: 32</h1><table style=\"border: 5px solid black;\"><tr><td style=\"border:3px solid black; text-align:center;\"\n",
       "         width=\"40\" height=\"40\">4</td><td style=\"border:3px solid black; text-align:center;\"\n",
       "         width=\"40\" height=\"40\"></td><td style=\"border:3px solid black; text-align:center;\"\n",
       "         width=\"40\" height=\"40\"></td><td style=\"border:3px solid black; text-align:center;\"\n",
       "         width=\"40\" height=\"40\">4</td></tr><tr><td style=\"border:3px solid black; text-align:center;\"\n",
       "         width=\"40\" height=\"40\">4</td><td style=\"border:3px solid black; text-align:center;\"\n",
       "         width=\"40\" height=\"40\">2</td><td style=\"border:3px solid black; text-align:center;\"\n",
       "         width=\"40\" height=\"40\"></td><td style=\"border:3px solid black; text-align:center;\"\n",
       "         width=\"40\" height=\"40\"></td></tr><tr><td style=\"border:3px solid black; text-align:center;\"\n",
       "         width=\"40\" height=\"40\">16</td><td style=\"border:3px solid black; text-align:center;\"\n",
       "         width=\"40\" height=\"40\">8</td><td style=\"border:3px solid black; text-align:center;\"\n",
       "         width=\"40\" height=\"40\">2</td><td style=\"border:3px solid black; text-align:center;\"\n",
       "         width=\"40\" height=\"40\">4</td></tr><tr><td style=\"border:3px solid black; text-align:center;\"\n",
       "         width=\"40\" height=\"40\">32</td><td style=\"border:3px solid black; text-align:center;\"\n",
       "         width=\"40\" height=\"40\">16</td><td style=\"border:3px solid black; text-align:center;\"\n",
       "         width=\"40\" height=\"40\">8</td><td style=\"border:3px solid black; text-align:center;\"\n",
       "         width=\"40\" height=\"40\">2</td></tr></table>"
      ],
      "text/plain": [
       "<IPython.core.display.HTML object>"
      ]
     },
     "metadata": {},
     "output_type": "display_data"
    },
    {
     "name": "stdout",
     "output_type": "stream",
     "text": [
      "0: left, 1: down, 2: right, 3: up = 0\n",
      "Iter: 33\n",
      "======Direction: left======\n"
     ]
    },
    {
     "data": {
      "text/html": [
       "<h1>Score: 32</h1><table style=\"border: 5px solid black;\"><tr><td style=\"border:3px solid black; text-align:center;\"\n",
       "         width=\"40\" height=\"40\">8</td><td style=\"border:3px solid black; text-align:center;\"\n",
       "         width=\"40\" height=\"40\">4</td><td style=\"border:3px solid black; text-align:center;\"\n",
       "         width=\"40\" height=\"40\"></td><td style=\"border:3px solid black; text-align:center;\"\n",
       "         width=\"40\" height=\"40\"></td></tr><tr><td style=\"border:3px solid black; text-align:center;\"\n",
       "         width=\"40\" height=\"40\">4</td><td style=\"border:3px solid black; text-align:center;\"\n",
       "         width=\"40\" height=\"40\">2</td><td style=\"border:3px solid black; text-align:center;\"\n",
       "         width=\"40\" height=\"40\"></td><td style=\"border:3px solid black; text-align:center;\"\n",
       "         width=\"40\" height=\"40\"></td></tr><tr><td style=\"border:3px solid black; text-align:center;\"\n",
       "         width=\"40\" height=\"40\">16</td><td style=\"border:3px solid black; text-align:center;\"\n",
       "         width=\"40\" height=\"40\">8</td><td style=\"border:3px solid black; text-align:center;\"\n",
       "         width=\"40\" height=\"40\">2</td><td style=\"border:3px solid black; text-align:center;\"\n",
       "         width=\"40\" height=\"40\">4</td></tr><tr><td style=\"border:3px solid black; text-align:center;\"\n",
       "         width=\"40\" height=\"40\">32</td><td style=\"border:3px solid black; text-align:center;\"\n",
       "         width=\"40\" height=\"40\">16</td><td style=\"border:3px solid black; text-align:center;\"\n",
       "         width=\"40\" height=\"40\">8</td><td style=\"border:3px solid black; text-align:center;\"\n",
       "         width=\"40\" height=\"40\">2</td></tr></table>"
      ],
      "text/plain": [
       "<IPython.core.display.HTML object>"
      ]
     },
     "metadata": {},
     "output_type": "display_data"
    },
    {
     "name": "stdout",
     "output_type": "stream",
     "text": [
      "0: left, 1: down, 2: right, 3: up = 2\n",
      "Iter: 34\n",
      "======Direction: right======\n"
     ]
    },
    {
     "data": {
      "text/html": [
       "<h1>Score: 32</h1><table style=\"border: 5px solid black;\"><tr><td style=\"border:3px solid black; text-align:center;\"\n",
       "         width=\"40\" height=\"40\"></td><td style=\"border:3px solid black; text-align:center;\"\n",
       "         width=\"40\" height=\"40\">2</td><td style=\"border:3px solid black; text-align:center;\"\n",
       "         width=\"40\" height=\"40\">8</td><td style=\"border:3px solid black; text-align:center;\"\n",
       "         width=\"40\" height=\"40\">4</td></tr><tr><td style=\"border:3px solid black; text-align:center;\"\n",
       "         width=\"40\" height=\"40\"></td><td style=\"border:3px solid black; text-align:center;\"\n",
       "         width=\"40\" height=\"40\"></td><td style=\"border:3px solid black; text-align:center;\"\n",
       "         width=\"40\" height=\"40\">4</td><td style=\"border:3px solid black; text-align:center;\"\n",
       "         width=\"40\" height=\"40\">2</td></tr><tr><td style=\"border:3px solid black; text-align:center;\"\n",
       "         width=\"40\" height=\"40\">16</td><td style=\"border:3px solid black; text-align:center;\"\n",
       "         width=\"40\" height=\"40\">8</td><td style=\"border:3px solid black; text-align:center;\"\n",
       "         width=\"40\" height=\"40\">2</td><td style=\"border:3px solid black; text-align:center;\"\n",
       "         width=\"40\" height=\"40\">4</td></tr><tr><td style=\"border:3px solid black; text-align:center;\"\n",
       "         width=\"40\" height=\"40\">32</td><td style=\"border:3px solid black; text-align:center;\"\n",
       "         width=\"40\" height=\"40\">16</td><td style=\"border:3px solid black; text-align:center;\"\n",
       "         width=\"40\" height=\"40\">8</td><td style=\"border:3px solid black; text-align:center;\"\n",
       "         width=\"40\" height=\"40\">2</td></tr></table>"
      ],
      "text/plain": [
       "<IPython.core.display.HTML object>"
      ]
     },
     "metadata": {},
     "output_type": "display_data"
    },
    {
     "name": "stdout",
     "output_type": "stream",
     "text": [
      "0: left, 1: down, 2: right, 3: up = 0\n",
      "Iter: 35\n",
      "======Direction: left======\n"
     ]
    },
    {
     "data": {
      "text/html": [
       "<h1>Score: 32</h1><table style=\"border: 5px solid black;\"><tr><td style=\"border:3px solid black; text-align:center;\"\n",
       "         width=\"40\" height=\"40\">2</td><td style=\"border:3px solid black; text-align:center;\"\n",
       "         width=\"40\" height=\"40\">8</td><td style=\"border:3px solid black; text-align:center;\"\n",
       "         width=\"40\" height=\"40\">4</td><td style=\"border:3px solid black; text-align:center;\"\n",
       "         width=\"40\" height=\"40\"></td></tr><tr><td style=\"border:3px solid black; text-align:center;\"\n",
       "         width=\"40\" height=\"40\">4</td><td style=\"border:3px solid black; text-align:center;\"\n",
       "         width=\"40\" height=\"40\">2</td><td style=\"border:3px solid black; text-align:center;\"\n",
       "         width=\"40\" height=\"40\"></td><td style=\"border:3px solid black; text-align:center;\"\n",
       "         width=\"40\" height=\"40\">4</td></tr><tr><td style=\"border:3px solid black; text-align:center;\"\n",
       "         width=\"40\" height=\"40\">16</td><td style=\"border:3px solid black; text-align:center;\"\n",
       "         width=\"40\" height=\"40\">8</td><td style=\"border:3px solid black; text-align:center;\"\n",
       "         width=\"40\" height=\"40\">2</td><td style=\"border:3px solid black; text-align:center;\"\n",
       "         width=\"40\" height=\"40\">4</td></tr><tr><td style=\"border:3px solid black; text-align:center;\"\n",
       "         width=\"40\" height=\"40\">32</td><td style=\"border:3px solid black; text-align:center;\"\n",
       "         width=\"40\" height=\"40\">16</td><td style=\"border:3px solid black; text-align:center;\"\n",
       "         width=\"40\" height=\"40\">8</td><td style=\"border:3px solid black; text-align:center;\"\n",
       "         width=\"40\" height=\"40\">2</td></tr></table>"
      ],
      "text/plain": [
       "<IPython.core.display.HTML object>"
      ]
     },
     "metadata": {},
     "output_type": "display_data"
    },
    {
     "name": "stdout",
     "output_type": "stream",
     "text": [
      "0: left, 1: down, 2: right, 3: up = 1\n",
      "Iter: 36\n",
      "======Direction: down======\n"
     ]
    },
    {
     "data": {
      "text/html": [
       "<h1>Score: 32</h1><table style=\"border: 5px solid black;\"><tr><td style=\"border:3px solid black; text-align:center;\"\n",
       "         width=\"40\" height=\"40\">2</td><td style=\"border:3px solid black; text-align:center;\"\n",
       "         width=\"40\" height=\"40\">8</td><td style=\"border:3px solid black; text-align:center;\"\n",
       "         width=\"40\" height=\"40\"></td><td style=\"border:3px solid black; text-align:center;\"\n",
       "         width=\"40\" height=\"40\"></td></tr><tr><td style=\"border:3px solid black; text-align:center;\"\n",
       "         width=\"40\" height=\"40\">4</td><td style=\"border:3px solid black; text-align:center;\"\n",
       "         width=\"40\" height=\"40\">2</td><td style=\"border:3px solid black; text-align:center;\"\n",
       "         width=\"40\" height=\"40\">4</td><td style=\"border:3px solid black; text-align:center;\"\n",
       "         width=\"40\" height=\"40\">2</td></tr><tr><td style=\"border:3px solid black; text-align:center;\"\n",
       "         width=\"40\" height=\"40\">16</td><td style=\"border:3px solid black; text-align:center;\"\n",
       "         width=\"40\" height=\"40\">8</td><td style=\"border:3px solid black; text-align:center;\"\n",
       "         width=\"40\" height=\"40\">2</td><td style=\"border:3px solid black; text-align:center;\"\n",
       "         width=\"40\" height=\"40\">8</td></tr><tr><td style=\"border:3px solid black; text-align:center;\"\n",
       "         width=\"40\" height=\"40\">32</td><td style=\"border:3px solid black; text-align:center;\"\n",
       "         width=\"40\" height=\"40\">16</td><td style=\"border:3px solid black; text-align:center;\"\n",
       "         width=\"40\" height=\"40\">8</td><td style=\"border:3px solid black; text-align:center;\"\n",
       "         width=\"40\" height=\"40\">2</td></tr></table>"
      ],
      "text/plain": [
       "<IPython.core.display.HTML object>"
      ]
     },
     "metadata": {},
     "output_type": "display_data"
    },
    {
     "name": "stdout",
     "output_type": "stream",
     "text": [
      "0: left, 1: down, 2: right, 3: up = 2\n",
      "Iter: 37\n",
      "======Direction: right======\n"
     ]
    },
    {
     "data": {
      "text/html": [
       "<h1>Score: 32</h1><table style=\"border: 5px solid black;\"><tr><td style=\"border:3px solid black; text-align:center;\"\n",
       "         width=\"40\" height=\"40\">2</td><td style=\"border:3px solid black; text-align:center;\"\n",
       "         width=\"40\" height=\"40\"></td><td style=\"border:3px solid black; text-align:center;\"\n",
       "         width=\"40\" height=\"40\">2</td><td style=\"border:3px solid black; text-align:center;\"\n",
       "         width=\"40\" height=\"40\">8</td></tr><tr><td style=\"border:3px solid black; text-align:center;\"\n",
       "         width=\"40\" height=\"40\">4</td><td style=\"border:3px solid black; text-align:center;\"\n",
       "         width=\"40\" height=\"40\">2</td><td style=\"border:3px solid black; text-align:center;\"\n",
       "         width=\"40\" height=\"40\">4</td><td style=\"border:3px solid black; text-align:center;\"\n",
       "         width=\"40\" height=\"40\">2</td></tr><tr><td style=\"border:3px solid black; text-align:center;\"\n",
       "         width=\"40\" height=\"40\">16</td><td style=\"border:3px solid black; text-align:center;\"\n",
       "         width=\"40\" height=\"40\">8</td><td style=\"border:3px solid black; text-align:center;\"\n",
       "         width=\"40\" height=\"40\">2</td><td style=\"border:3px solid black; text-align:center;\"\n",
       "         width=\"40\" height=\"40\">8</td></tr><tr><td style=\"border:3px solid black; text-align:center;\"\n",
       "         width=\"40\" height=\"40\">32</td><td style=\"border:3px solid black; text-align:center;\"\n",
       "         width=\"40\" height=\"40\">16</td><td style=\"border:3px solid black; text-align:center;\"\n",
       "         width=\"40\" height=\"40\">8</td><td style=\"border:3px solid black; text-align:center;\"\n",
       "         width=\"40\" height=\"40\">2</td></tr></table>"
      ],
      "text/plain": [
       "<IPython.core.display.HTML object>"
      ]
     },
     "metadata": {},
     "output_type": "display_data"
    },
    {
     "name": "stdout",
     "output_type": "stream",
     "text": [
      "0: left, 1: down, 2: right, 3: up = 1\n",
      "Iter: 38\n",
      "======Direction: down======\n"
     ]
    },
    {
     "data": {
      "text/html": [
       "<h1>Score: 32</h1><table style=\"border: 5px solid black;\"><tr><td style=\"border:3px solid black; text-align:center;\"\n",
       "         width=\"40\" height=\"40\">2</td><td style=\"border:3px solid black; text-align:center;\"\n",
       "         width=\"40\" height=\"40\">4</td><td style=\"border:3px solid black; text-align:center;\"\n",
       "         width=\"40\" height=\"40\">2</td><td style=\"border:3px solid black; text-align:center;\"\n",
       "         width=\"40\" height=\"40\">8</td></tr><tr><td style=\"border:3px solid black; text-align:center;\"\n",
       "         width=\"40\" height=\"40\">4</td><td style=\"border:3px solid black; text-align:center;\"\n",
       "         width=\"40\" height=\"40\">2</td><td style=\"border:3px solid black; text-align:center;\"\n",
       "         width=\"40\" height=\"40\">4</td><td style=\"border:3px solid black; text-align:center;\"\n",
       "         width=\"40\" height=\"40\">2</td></tr><tr><td style=\"border:3px solid black; text-align:center;\"\n",
       "         width=\"40\" height=\"40\">16</td><td style=\"border:3px solid black; text-align:center;\"\n",
       "         width=\"40\" height=\"40\">8</td><td style=\"border:3px solid black; text-align:center;\"\n",
       "         width=\"40\" height=\"40\">2</td><td style=\"border:3px solid black; text-align:center;\"\n",
       "         width=\"40\" height=\"40\">8</td></tr><tr><td style=\"border:3px solid black; text-align:center;\"\n",
       "         width=\"40\" height=\"40\">32</td><td style=\"border:3px solid black; text-align:center;\"\n",
       "         width=\"40\" height=\"40\">16</td><td style=\"border:3px solid black; text-align:center;\"\n",
       "         width=\"40\" height=\"40\">8</td><td style=\"border:3px solid black; text-align:center;\"\n",
       "         width=\"40\" height=\"40\">2</td></tr></table>"
      ],
      "text/plain": [
       "<IPython.core.display.HTML object>"
      ]
     },
     "metadata": {},
     "output_type": "display_data"
    },
    {
     "name": "stdout",
     "output_type": "stream",
     "text": [
      "0: left, 1: down, 2: right, 3: up = 0\n",
      "Iter: 39\n",
      "======Direction: left======\n"
     ]
    },
    {
     "data": {
      "text/html": [
       "<h1>Score: 32</h1><table style=\"border: 5px solid black;\"><tr><td style=\"border:3px solid black; text-align:center;\"\n",
       "         width=\"40\" height=\"40\">2</td><td style=\"border:3px solid black; text-align:center;\"\n",
       "         width=\"40\" height=\"40\">4</td><td style=\"border:3px solid black; text-align:center;\"\n",
       "         width=\"40\" height=\"40\">2</td><td style=\"border:3px solid black; text-align:center;\"\n",
       "         width=\"40\" height=\"40\">8</td></tr><tr><td style=\"border:3px solid black; text-align:center;\"\n",
       "         width=\"40\" height=\"40\">4</td><td style=\"border:3px solid black; text-align:center;\"\n",
       "         width=\"40\" height=\"40\">2</td><td style=\"border:3px solid black; text-align:center;\"\n",
       "         width=\"40\" height=\"40\">4</td><td style=\"border:3px solid black; text-align:center;\"\n",
       "         width=\"40\" height=\"40\">2</td></tr><tr><td style=\"border:3px solid black; text-align:center;\"\n",
       "         width=\"40\" height=\"40\">16</td><td style=\"border:3px solid black; text-align:center;\"\n",
       "         width=\"40\" height=\"40\">8</td><td style=\"border:3px solid black; text-align:center;\"\n",
       "         width=\"40\" height=\"40\">2</td><td style=\"border:3px solid black; text-align:center;\"\n",
       "         width=\"40\" height=\"40\">8</td></tr><tr><td style=\"border:3px solid black; text-align:center;\"\n",
       "         width=\"40\" height=\"40\">32</td><td style=\"border:3px solid black; text-align:center;\"\n",
       "         width=\"40\" height=\"40\">16</td><td style=\"border:3px solid black; text-align:center;\"\n",
       "         width=\"40\" height=\"40\">8</td><td style=\"border:3px solid black; text-align:center;\"\n",
       "         width=\"40\" height=\"40\">2</td></tr></table>"
      ],
      "text/plain": [
       "<IPython.core.display.HTML object>"
      ]
     },
     "metadata": {},
     "output_type": "display_data"
    },
    {
     "name": "stdout",
     "output_type": "stream",
     "text": [
      "You lose! Score: 32\n"
     ]
    }
   ],
   "source": [
    "game = Game(4, random=False)\n",
    "agent = Agent(game, display=display2)\n",
    "agent.play(verbose=True)"
   ]
  },
  {
   "cell_type": "code",
   "execution_count": 7,
   "metadata": {},
   "outputs": [
    {
     "data": {
      "text/html": [
       "<h1>Score: 2</h1><table style=\"border: 5px solid black;\"><tr><td style=\"border:3px solid black; text-align:center;\"\n",
       "         width=\"40\" height=\"40\"></td><td style=\"border:3px solid black; text-align:center;\"\n",
       "         width=\"40\" height=\"40\"></td><td style=\"border:3px solid black; text-align:center;\"\n",
       "         width=\"40\" height=\"40\"></td><td style=\"border:3px solid black; text-align:center;\"\n",
       "         width=\"40\" height=\"40\"></td></tr><tr><td style=\"border:3px solid black; text-align:center;\"\n",
       "         width=\"40\" height=\"40\"></td><td style=\"border:3px solid black; text-align:center;\"\n",
       "         width=\"40\" height=\"40\"></td><td style=\"border:3px solid black; text-align:center;\"\n",
       "         width=\"40\" height=\"40\">2</td><td style=\"border:3px solid black; text-align:center;\"\n",
       "         width=\"40\" height=\"40\"></td></tr><tr><td style=\"border:3px solid black; text-align:center;\"\n",
       "         width=\"40\" height=\"40\"></td><td style=\"border:3px solid black; text-align:center;\"\n",
       "         width=\"40\" height=\"40\"></td><td style=\"border:3px solid black; text-align:center;\"\n",
       "         width=\"40\" height=\"40\">2</td><td style=\"border:3px solid black; text-align:center;\"\n",
       "         width=\"40\" height=\"40\"></td></tr><tr><td style=\"border:3px solid black; text-align:center;\"\n",
       "         width=\"40\" height=\"40\"></td><td style=\"border:3px solid black; text-align:center;\"\n",
       "         width=\"40\" height=\"40\"></td><td style=\"border:3px solid black; text-align:center;\"\n",
       "         width=\"40\" height=\"40\"></td><td style=\"border:3px solid black; text-align:center;\"\n",
       "         width=\"40\" height=\"40\"></td></tr></table>"
      ],
      "text/plain": [
       "<IPython.core.display.HTML object>"
      ]
     },
     "metadata": {},
     "output_type": "display_data"
    },
    {
     "name": "stdout",
     "output_type": "stream",
     "text": [
      "CPU times: user 116 ms, sys: 12 ms, total: 128 ms\n",
      "Wall time: 52.3 ms\n"
     ]
    }
   ],
   "source": [
    "%%time\n",
    "game = Game(4, score_to_win=64, random=False) #score_to_win=2048, \n",
    "display2.display(game)\n",
    "agent = ExpectiMaxAgent(game, display=display2)\n",
    "agent.play(verbose=False)"
   ]
  },
  {
   "cell_type": "code",
   "execution_count": 5,
   "metadata": {
    "scrolled": true
   },
   "outputs": [
    {
     "data": {
      "text/html": [
       "<h1>Score: 512</h1><table style=\"border: 5px solid black;\"><tr><td style=\"border:3px solid black; text-align:center;\"\n",
       "         width=\"40\" height=\"40\">32</td><td style=\"border:3px solid black; text-align:center;\"\n",
       "         width=\"40\" height=\"40\">512</td><td style=\"border:3px solid black; text-align:center;\"\n",
       "         width=\"40\" height=\"40\">32</td><td style=\"border:3px solid black; text-align:center;\"\n",
       "         width=\"40\" height=\"40\">512</td></tr><tr><td style=\"border:3px solid black; text-align:center;\"\n",
       "         width=\"40\" height=\"40\">512</td><td style=\"border:3px solid black; text-align:center;\"\n",
       "         width=\"40\" height=\"40\">256</td><td style=\"border:3px solid black; text-align:center;\"\n",
       "         width=\"40\" height=\"40\">8</td><td style=\"border:3px solid black; text-align:center;\"\n",
       "         width=\"40\" height=\"40\">128</td></tr><tr><td style=\"border:3px solid black; text-align:center;\"\n",
       "         width=\"40\" height=\"40\">64</td><td style=\"border:3px solid black; text-align:center;\"\n",
       "         width=\"40\" height=\"40\">4</td><td style=\"border:3px solid black; text-align:center;\"\n",
       "         width=\"40\" height=\"40\">16</td><td style=\"border:3px solid black; text-align:center;\"\n",
       "         width=\"40\" height=\"40\">2</td></tr><tr><td style=\"border:3px solid black; text-align:center;\"\n",
       "         width=\"40\" height=\"40\">8</td><td style=\"border:3px solid black; text-align:center;\"\n",
       "         width=\"40\" height=\"40\">32</td><td style=\"border:3px solid black; text-align:center;\"\n",
       "         width=\"40\" height=\"40\">256</td><td style=\"border:3px solid black; text-align:center;\"\n",
       "         width=\"40\" height=\"40\">2</td></tr></table>"
      ],
      "text/plain": [
       "<IPython.core.display.HTML object>"
      ]
     },
     "metadata": {},
     "output_type": "display_data"
    },
    {
     "name": "stdout",
     "output_type": "stream",
     "text": [
      "Iter: 1\n",
      "======Direction: up======\n"
     ]
    },
    {
     "data": {
      "text/html": [
       "<h1>Score: 512</h1><table style=\"border: 5px solid black;\"><tr><td style=\"border:3px solid black; text-align:center;\"\n",
       "         width=\"40\" height=\"40\">32</td><td style=\"border:3px solid black; text-align:center;\"\n",
       "         width=\"40\" height=\"40\">512</td><td style=\"border:3px solid black; text-align:center;\"\n",
       "         width=\"40\" height=\"40\">32</td><td style=\"border:3px solid black; text-align:center;\"\n",
       "         width=\"40\" height=\"40\">512</td></tr><tr><td style=\"border:3px solid black; text-align:center;\"\n",
       "         width=\"40\" height=\"40\">512</td><td style=\"border:3px solid black; text-align:center;\"\n",
       "         width=\"40\" height=\"40\">256</td><td style=\"border:3px solid black; text-align:center;\"\n",
       "         width=\"40\" height=\"40\">8</td><td style=\"border:3px solid black; text-align:center;\"\n",
       "         width=\"40\" height=\"40\">128</td></tr><tr><td style=\"border:3px solid black; text-align:center;\"\n",
       "         width=\"40\" height=\"40\">64</td><td style=\"border:3px solid black; text-align:center;\"\n",
       "         width=\"40\" height=\"40\">4</td><td style=\"border:3px solid black; text-align:center;\"\n",
       "         width=\"40\" height=\"40\">16</td><td style=\"border:3px solid black; text-align:center;\"\n",
       "         width=\"40\" height=\"40\">4</td></tr><tr><td style=\"border:3px solid black; text-align:center;\"\n",
       "         width=\"40\" height=\"40\">8</td><td style=\"border:3px solid black; text-align:center;\"\n",
       "         width=\"40\" height=\"40\">32</td><td style=\"border:3px solid black; text-align:center;\"\n",
       "         width=\"40\" height=\"40\">256</td><td style=\"border:3px solid black; text-align:center;\"\n",
       "         width=\"40\" height=\"40\">2</td></tr></table>"
      ],
      "text/plain": [
       "<IPython.core.display.HTML object>"
      ]
     },
     "metadata": {},
     "output_type": "display_data"
    },
    {
     "name": "stdout",
     "output_type": "stream",
     "text": [
      "Iter: 2\n",
      "======Direction: right======\n"
     ]
    },
    {
     "data": {
      "text/html": [
       "<h1>Score: 512</h1><table style=\"border: 5px solid black;\"><tr><td style=\"border:3px solid black; text-align:center;\"\n",
       "         width=\"40\" height=\"40\">32</td><td style=\"border:3px solid black; text-align:center;\"\n",
       "         width=\"40\" height=\"40\">512</td><td style=\"border:3px solid black; text-align:center;\"\n",
       "         width=\"40\" height=\"40\">32</td><td style=\"border:3px solid black; text-align:center;\"\n",
       "         width=\"40\" height=\"40\">512</td></tr><tr><td style=\"border:3px solid black; text-align:center;\"\n",
       "         width=\"40\" height=\"40\">512</td><td style=\"border:3px solid black; text-align:center;\"\n",
       "         width=\"40\" height=\"40\">256</td><td style=\"border:3px solid black; text-align:center;\"\n",
       "         width=\"40\" height=\"40\">8</td><td style=\"border:3px solid black; text-align:center;\"\n",
       "         width=\"40\" height=\"40\">128</td></tr><tr><td style=\"border:3px solid black; text-align:center;\"\n",
       "         width=\"40\" height=\"40\">64</td><td style=\"border:3px solid black; text-align:center;\"\n",
       "         width=\"40\" height=\"40\">4</td><td style=\"border:3px solid black; text-align:center;\"\n",
       "         width=\"40\" height=\"40\">16</td><td style=\"border:3px solid black; text-align:center;\"\n",
       "         width=\"40\" height=\"40\">4</td></tr><tr><td style=\"border:3px solid black; text-align:center;\"\n",
       "         width=\"40\" height=\"40\">8</td><td style=\"border:3px solid black; text-align:center;\"\n",
       "         width=\"40\" height=\"40\">32</td><td style=\"border:3px solid black; text-align:center;\"\n",
       "         width=\"40\" height=\"40\">256</td><td style=\"border:3px solid black; text-align:center;\"\n",
       "         width=\"40\" height=\"40\">2</td></tr></table>"
      ],
      "text/plain": [
       "<IPython.core.display.HTML object>"
      ]
     },
     "metadata": {},
     "output_type": "display_data"
    },
    {
     "name": "stdout",
     "output_type": "stream",
     "text": [
      "You lose! Score: 512\n",
      "CPU times: user 8 ms, sys: 4 ms, total: 12 ms\n",
      "Wall time: 16.6 ms\n"
     ]
    }
   ],
   "source": [
    "%%time\n",
    "# a random start\n",
    "game = Game(4, score_to_win=2048, random=True)\n",
    "display2.display(game)\n",
    "agent = ExpectiMaxAgent(game, display=display2)\n",
    "agent.play(verbose=True)"
   ]
  },
  {
   "cell_type": "code",
   "execution_count": 14,
   "metadata": {},
   "outputs": [
    {
     "name": "stdout",
     "output_type": "stream",
     "text": [
      "The ExpectiMax agent always search a fixed solution given certain board: 2\n",
      "The ExpectiMax agent always search a fixed solution given certain board: 2\n",
      "The ExpectiMax agent always search a fixed solution given certain board: 2\n",
      "The ExpectiMax agent always search a fixed solution given certain board: 2\n",
      "The ExpectiMax agent always search a fixed solution given certain board: 2\n",
      "The ExpectiMax agent always search a fixed solution given certain board: 2\n",
      "The ExpectiMax agent always search a fixed solution given certain board: 2\n",
      "The ExpectiMax agent always search a fixed solution given certain board: 2\n",
      "The ExpectiMax agent always search a fixed solution given certain board: 2\n",
      "The ExpectiMax agent always search a fixed solution given certain board: 2\n"
     ]
    }
   ],
   "source": [
    "for _ in range(10):\n",
    "    print(\"The ExpectiMax agent always search a fixed solution given certain board:\",\n",
    "          agent.step())"
   ]
  },
  {
   "cell_type": "code",
   "execution_count": 9,
   "metadata": {},
   "outputs": [
    {
     "name": "stdout",
     "output_type": "stream",
     "text": [
      "Running the loop manually...\n",
      "Moving to direction `2`...\n",
      "State:\t       0       0       0       2\n",
      "\t       0       0       0       0\n",
      "\t       0       0       0       4\n",
      "\t       0       0       0       0\n",
      "Score: 4\n"
     ]
    },
    {
     "data": {
      "text/html": [
       "<h1>Score: 4</h1><table style=\"border: 5px solid black;\"><tr><td style=\"border:3px solid black; text-align:center;\"\n",
       "         width=\"40\" height=\"40\"></td><td style=\"border:3px solid black; text-align:center;\"\n",
       "         width=\"40\" height=\"40\"></td><td style=\"border:3px solid black; text-align:center;\"\n",
       "         width=\"40\" height=\"40\"></td><td style=\"border:3px solid black; text-align:center;\"\n",
       "         width=\"40\" height=\"40\">2</td></tr><tr><td style=\"border:3px solid black; text-align:center;\"\n",
       "         width=\"40\" height=\"40\"></td><td style=\"border:3px solid black; text-align:center;\"\n",
       "         width=\"40\" height=\"40\"></td><td style=\"border:3px solid black; text-align:center;\"\n",
       "         width=\"40\" height=\"40\"></td><td style=\"border:3px solid black; text-align:center;\"\n",
       "         width=\"40\" height=\"40\"></td></tr><tr><td style=\"border:3px solid black; text-align:center;\"\n",
       "         width=\"40\" height=\"40\"></td><td style=\"border:3px solid black; text-align:center;\"\n",
       "         width=\"40\" height=\"40\"></td><td style=\"border:3px solid black; text-align:center;\"\n",
       "         width=\"40\" height=\"40\"></td><td style=\"border:3px solid black; text-align:center;\"\n",
       "         width=\"40\" height=\"40\">4</td></tr><tr><td style=\"border:3px solid black; text-align:center;\"\n",
       "         width=\"40\" height=\"40\"></td><td style=\"border:3px solid black; text-align:center;\"\n",
       "         width=\"40\" height=\"40\"></td><td style=\"border:3px solid black; text-align:center;\"\n",
       "         width=\"40\" height=\"40\"></td><td style=\"border:3px solid black; text-align:center;\"\n",
       "         width=\"40\" height=\"40\"></td></tr></table>"
      ],
      "text/plain": [
       "<IPython.core.display.HTML object>"
      ]
     },
     "metadata": {},
     "output_type": "display_data"
    },
    {
     "name": "stdout",
     "output_type": "stream",
     "text": [
      "Moving to direction `0`...\n",
      "State:\t       2       2       0       0\n",
      "\t       0       0       0       0\n",
      "\t       4       0       0       0\n",
      "\t       0       0       0       0\n",
      "Score: 4\n"
     ]
    },
    {
     "data": {
      "text/html": [
       "<h1>Score: 4</h1><table style=\"border: 5px solid black;\"><tr><td style=\"border:3px solid black; text-align:center;\"\n",
       "         width=\"40\" height=\"40\">2</td><td style=\"border:3px solid black; text-align:center;\"\n",
       "         width=\"40\" height=\"40\">2</td><td style=\"border:3px solid black; text-align:center;\"\n",
       "         width=\"40\" height=\"40\"></td><td style=\"border:3px solid black; text-align:center;\"\n",
       "         width=\"40\" height=\"40\"></td></tr><tr><td style=\"border:3px solid black; text-align:center;\"\n",
       "         width=\"40\" height=\"40\"></td><td style=\"border:3px solid black; text-align:center;\"\n",
       "         width=\"40\" height=\"40\"></td><td style=\"border:3px solid black; text-align:center;\"\n",
       "         width=\"40\" height=\"40\"></td><td style=\"border:3px solid black; text-align:center;\"\n",
       "         width=\"40\" height=\"40\"></td></tr><tr><td style=\"border:3px solid black; text-align:center;\"\n",
       "         width=\"40\" height=\"40\">4</td><td style=\"border:3px solid black; text-align:center;\"\n",
       "         width=\"40\" height=\"40\"></td><td style=\"border:3px solid black; text-align:center;\"\n",
       "         width=\"40\" height=\"40\"></td><td style=\"border:3px solid black; text-align:center;\"\n",
       "         width=\"40\" height=\"40\"></td></tr><tr><td style=\"border:3px solid black; text-align:center;\"\n",
       "         width=\"40\" height=\"40\"></td><td style=\"border:3px solid black; text-align:center;\"\n",
       "         width=\"40\" height=\"40\"></td><td style=\"border:3px solid black; text-align:center;\"\n",
       "         width=\"40\" height=\"40\"></td><td style=\"border:3px solid black; text-align:center;\"\n",
       "         width=\"40\" height=\"40\"></td></tr></table>"
      ],
      "text/plain": [
       "<IPython.core.display.HTML object>"
      ]
     },
     "metadata": {},
     "output_type": "display_data"
    },
    {
     "name": "stdout",
     "output_type": "stream",
     "text": [
      "Moving to direction `2`...\n",
      "State:\t       0       0       0       4\n",
      "\t       0       0       0       0\n",
      "\t       0       0       0       4\n",
      "\t       0       0       2       0\n",
      "Score: 4\n"
     ]
    },
    {
     "data": {
      "text/html": [
       "<h1>Score: 4</h1><table style=\"border: 5px solid black;\"><tr><td style=\"border:3px solid black; text-align:center;\"\n",
       "         width=\"40\" height=\"40\"></td><td style=\"border:3px solid black; text-align:center;\"\n",
       "         width=\"40\" height=\"40\"></td><td style=\"border:3px solid black; text-align:center;\"\n",
       "         width=\"40\" height=\"40\"></td><td style=\"border:3px solid black; text-align:center;\"\n",
       "         width=\"40\" height=\"40\">4</td></tr><tr><td style=\"border:3px solid black; text-align:center;\"\n",
       "         width=\"40\" height=\"40\"></td><td style=\"border:3px solid black; text-align:center;\"\n",
       "         width=\"40\" height=\"40\"></td><td style=\"border:3px solid black; text-align:center;\"\n",
       "         width=\"40\" height=\"40\"></td><td style=\"border:3px solid black; text-align:center;\"\n",
       "         width=\"40\" height=\"40\"></td></tr><tr><td style=\"border:3px solid black; text-align:center;\"\n",
       "         width=\"40\" height=\"40\"></td><td style=\"border:3px solid black; text-align:center;\"\n",
       "         width=\"40\" height=\"40\"></td><td style=\"border:3px solid black; text-align:center;\"\n",
       "         width=\"40\" height=\"40\"></td><td style=\"border:3px solid black; text-align:center;\"\n",
       "         width=\"40\" height=\"40\">4</td></tr><tr><td style=\"border:3px solid black; text-align:center;\"\n",
       "         width=\"40\" height=\"40\"></td><td style=\"border:3px solid black; text-align:center;\"\n",
       "         width=\"40\" height=\"40\"></td><td style=\"border:3px solid black; text-align:center;\"\n",
       "         width=\"40\" height=\"40\">2</td><td style=\"border:3px solid black; text-align:center;\"\n",
       "         width=\"40\" height=\"40\"></td></tr></table>"
      ],
      "text/plain": [
       "<IPython.core.display.HTML object>"
      ]
     },
     "metadata": {},
     "output_type": "display_data"
    },
    {
     "name": "stdout",
     "output_type": "stream",
     "text": [
      "Moving to direction `1`...\n",
      "State:\t       0       0       0       0\n",
      "\t       0       0       0       2\n",
      "\t       0       0       0       0\n",
      "\t       0       0       2       8\n",
      "Score: 8\n"
     ]
    },
    {
     "data": {
      "text/html": [
       "<h1>Score: 8</h1><table style=\"border: 5px solid black;\"><tr><td style=\"border:3px solid black; text-align:center;\"\n",
       "         width=\"40\" height=\"40\"></td><td style=\"border:3px solid black; text-align:center;\"\n",
       "         width=\"40\" height=\"40\"></td><td style=\"border:3px solid black; text-align:center;\"\n",
       "         width=\"40\" height=\"40\"></td><td style=\"border:3px solid black; text-align:center;\"\n",
       "         width=\"40\" height=\"40\"></td></tr><tr><td style=\"border:3px solid black; text-align:center;\"\n",
       "         width=\"40\" height=\"40\"></td><td style=\"border:3px solid black; text-align:center;\"\n",
       "         width=\"40\" height=\"40\"></td><td style=\"border:3px solid black; text-align:center;\"\n",
       "         width=\"40\" height=\"40\"></td><td style=\"border:3px solid black; text-align:center;\"\n",
       "         width=\"40\" height=\"40\">2</td></tr><tr><td style=\"border:3px solid black; text-align:center;\"\n",
       "         width=\"40\" height=\"40\"></td><td style=\"border:3px solid black; text-align:center;\"\n",
       "         width=\"40\" height=\"40\"></td><td style=\"border:3px solid black; text-align:center;\"\n",
       "         width=\"40\" height=\"40\"></td><td style=\"border:3px solid black; text-align:center;\"\n",
       "         width=\"40\" height=\"40\"></td></tr><tr><td style=\"border:3px solid black; text-align:center;\"\n",
       "         width=\"40\" height=\"40\"></td><td style=\"border:3px solid black; text-align:center;\"\n",
       "         width=\"40\" height=\"40\"></td><td style=\"border:3px solid black; text-align:center;\"\n",
       "         width=\"40\" height=\"40\">2</td><td style=\"border:3px solid black; text-align:center;\"\n",
       "         width=\"40\" height=\"40\">8</td></tr></table>"
      ],
      "text/plain": [
       "<IPython.core.display.HTML object>"
      ]
     },
     "metadata": {},
     "output_type": "display_data"
    },
    {
     "name": "stdout",
     "output_type": "stream",
     "text": [
      "Moving to direction `3`...\n",
      "State:\t       0       0       2       2\n",
      "\t       0       0       0       8\n",
      "\t       0       0       0       0\n",
      "\t       2       0       0       0\n",
      "Score: 8\n"
     ]
    },
    {
     "data": {
      "text/html": [
       "<h1>Score: 8</h1><table style=\"border: 5px solid black;\"><tr><td style=\"border:3px solid black; text-align:center;\"\n",
       "         width=\"40\" height=\"40\"></td><td style=\"border:3px solid black; text-align:center;\"\n",
       "         width=\"40\" height=\"40\"></td><td style=\"border:3px solid black; text-align:center;\"\n",
       "         width=\"40\" height=\"40\">2</td><td style=\"border:3px solid black; text-align:center;\"\n",
       "         width=\"40\" height=\"40\">2</td></tr><tr><td style=\"border:3px solid black; text-align:center;\"\n",
       "         width=\"40\" height=\"40\"></td><td style=\"border:3px solid black; text-align:center;\"\n",
       "         width=\"40\" height=\"40\"></td><td style=\"border:3px solid black; text-align:center;\"\n",
       "         width=\"40\" height=\"40\"></td><td style=\"border:3px solid black; text-align:center;\"\n",
       "         width=\"40\" height=\"40\">8</td></tr><tr><td style=\"border:3px solid black; text-align:center;\"\n",
       "         width=\"40\" height=\"40\"></td><td style=\"border:3px solid black; text-align:center;\"\n",
       "         width=\"40\" height=\"40\"></td><td style=\"border:3px solid black; text-align:center;\"\n",
       "         width=\"40\" height=\"40\"></td><td style=\"border:3px solid black; text-align:center;\"\n",
       "         width=\"40\" height=\"40\"></td></tr><tr><td style=\"border:3px solid black; text-align:center;\"\n",
       "         width=\"40\" height=\"40\">2</td><td style=\"border:3px solid black; text-align:center;\"\n",
       "         width=\"40\" height=\"40\"></td><td style=\"border:3px solid black; text-align:center;\"\n",
       "         width=\"40\" height=\"40\"></td><td style=\"border:3px solid black; text-align:center;\"\n",
       "         width=\"40\" height=\"40\"></td></tr></table>"
      ],
      "text/plain": [
       "<IPython.core.display.HTML object>"
      ]
     },
     "metadata": {},
     "output_type": "display_data"
    },
    {
     "name": "stdout",
     "output_type": "stream",
     "text": [
      "Moving to direction `2`...\n",
      "State:\t       0       0       4       4\n",
      "\t       0       0       0       8\n",
      "\t       0       0       0       0\n",
      "\t       0       0       0       2\n",
      "Score: 8\n"
     ]
    },
    {
     "data": {
      "text/html": [
       "<h1>Score: 8</h1><table style=\"border: 5px solid black;\"><tr><td style=\"border:3px solid black; text-align:center;\"\n",
       "         width=\"40\" height=\"40\"></td><td style=\"border:3px solid black; text-align:center;\"\n",
       "         width=\"40\" height=\"40\"></td><td style=\"border:3px solid black; text-align:center;\"\n",
       "         width=\"40\" height=\"40\">4</td><td style=\"border:3px solid black; text-align:center;\"\n",
       "         width=\"40\" height=\"40\">4</td></tr><tr><td style=\"border:3px solid black; text-align:center;\"\n",
       "         width=\"40\" height=\"40\"></td><td style=\"border:3px solid black; text-align:center;\"\n",
       "         width=\"40\" height=\"40\"></td><td style=\"border:3px solid black; text-align:center;\"\n",
       "         width=\"40\" height=\"40\"></td><td style=\"border:3px solid black; text-align:center;\"\n",
       "         width=\"40\" height=\"40\">8</td></tr><tr><td style=\"border:3px solid black; text-align:center;\"\n",
       "         width=\"40\" height=\"40\"></td><td style=\"border:3px solid black; text-align:center;\"\n",
       "         width=\"40\" height=\"40\"></td><td style=\"border:3px solid black; text-align:center;\"\n",
       "         width=\"40\" height=\"40\"></td><td style=\"border:3px solid black; text-align:center;\"\n",
       "         width=\"40\" height=\"40\"></td></tr><tr><td style=\"border:3px solid black; text-align:center;\"\n",
       "         width=\"40\" height=\"40\"></td><td style=\"border:3px solid black; text-align:center;\"\n",
       "         width=\"40\" height=\"40\"></td><td style=\"border:3px solid black; text-align:center;\"\n",
       "         width=\"40\" height=\"40\"></td><td style=\"border:3px solid black; text-align:center;\"\n",
       "         width=\"40\" height=\"40\">2</td></tr></table>"
      ],
      "text/plain": [
       "<IPython.core.display.HTML object>"
      ]
     },
     "metadata": {},
     "output_type": "display_data"
    },
    {
     "name": "stdout",
     "output_type": "stream",
     "text": [
      "Moving to direction `1`...\n",
      "State:\t       0       0       0       0\n",
      "\t       0       0       0       4\n",
      "\t       0       0       0       8\n",
      "\t       2       0       4       2\n",
      "Score: 8\n"
     ]
    },
    {
     "data": {
      "text/html": [
       "<h1>Score: 8</h1><table style=\"border: 5px solid black;\"><tr><td style=\"border:3px solid black; text-align:center;\"\n",
       "         width=\"40\" height=\"40\"></td><td style=\"border:3px solid black; text-align:center;\"\n",
       "         width=\"40\" height=\"40\"></td><td style=\"border:3px solid black; text-align:center;\"\n",
       "         width=\"40\" height=\"40\"></td><td style=\"border:3px solid black; text-align:center;\"\n",
       "         width=\"40\" height=\"40\"></td></tr><tr><td style=\"border:3px solid black; text-align:center;\"\n",
       "         width=\"40\" height=\"40\"></td><td style=\"border:3px solid black; text-align:center;\"\n",
       "         width=\"40\" height=\"40\"></td><td style=\"border:3px solid black; text-align:center;\"\n",
       "         width=\"40\" height=\"40\"></td><td style=\"border:3px solid black; text-align:center;\"\n",
       "         width=\"40\" height=\"40\">4</td></tr><tr><td style=\"border:3px solid black; text-align:center;\"\n",
       "         width=\"40\" height=\"40\"></td><td style=\"border:3px solid black; text-align:center;\"\n",
       "         width=\"40\" height=\"40\"></td><td style=\"border:3px solid black; text-align:center;\"\n",
       "         width=\"40\" height=\"40\"></td><td style=\"border:3px solid black; text-align:center;\"\n",
       "         width=\"40\" height=\"40\">8</td></tr><tr><td style=\"border:3px solid black; text-align:center;\"\n",
       "         width=\"40\" height=\"40\">2</td><td style=\"border:3px solid black; text-align:center;\"\n",
       "         width=\"40\" height=\"40\"></td><td style=\"border:3px solid black; text-align:center;\"\n",
       "         width=\"40\" height=\"40\">4</td><td style=\"border:3px solid black; text-align:center;\"\n",
       "         width=\"40\" height=\"40\">2</td></tr></table>"
      ],
      "text/plain": [
       "<IPython.core.display.HTML object>"
      ]
     },
     "metadata": {},
     "output_type": "display_data"
    },
    {
     "name": "stdout",
     "output_type": "stream",
     "text": [
      "Moving to direction `0`...\n",
      "State:\t       0       0       0       0\n",
      "\t       4       2       0       0\n",
      "\t       8       0       0       0\n",
      "\t       2       4       2       0\n",
      "Score: 8\n"
     ]
    },
    {
     "data": {
      "text/html": [
       "<h1>Score: 8</h1><table style=\"border: 5px solid black;\"><tr><td style=\"border:3px solid black; text-align:center;\"\n",
       "         width=\"40\" height=\"40\"></td><td style=\"border:3px solid black; text-align:center;\"\n",
       "         width=\"40\" height=\"40\"></td><td style=\"border:3px solid black; text-align:center;\"\n",
       "         width=\"40\" height=\"40\"></td><td style=\"border:3px solid black; text-align:center;\"\n",
       "         width=\"40\" height=\"40\"></td></tr><tr><td style=\"border:3px solid black; text-align:center;\"\n",
       "         width=\"40\" height=\"40\">4</td><td style=\"border:3px solid black; text-align:center;\"\n",
       "         width=\"40\" height=\"40\">2</td><td style=\"border:3px solid black; text-align:center;\"\n",
       "         width=\"40\" height=\"40\"></td><td style=\"border:3px solid black; text-align:center;\"\n",
       "         width=\"40\" height=\"40\"></td></tr><tr><td style=\"border:3px solid black; text-align:center;\"\n",
       "         width=\"40\" height=\"40\">8</td><td style=\"border:3px solid black; text-align:center;\"\n",
       "         width=\"40\" height=\"40\"></td><td style=\"border:3px solid black; text-align:center;\"\n",
       "         width=\"40\" height=\"40\"></td><td style=\"border:3px solid black; text-align:center;\"\n",
       "         width=\"40\" height=\"40\"></td></tr><tr><td style=\"border:3px solid black; text-align:center;\"\n",
       "         width=\"40\" height=\"40\">2</td><td style=\"border:3px solid black; text-align:center;\"\n",
       "         width=\"40\" height=\"40\">4</td><td style=\"border:3px solid black; text-align:center;\"\n",
       "         width=\"40\" height=\"40\">2</td><td style=\"border:3px solid black; text-align:center;\"\n",
       "         width=\"40\" height=\"40\"></td></tr></table>"
      ],
      "text/plain": [
       "<IPython.core.display.HTML object>"
      ]
     },
     "metadata": {},
     "output_type": "display_data"
    },
    {
     "name": "stdout",
     "output_type": "stream",
     "text": [
      "Moving to direction `0`...\n",
      "State:\t       4       0       0       0\n",
      "\t       4       2       0       0\n",
      "\t       8       0       0       0\n",
      "\t       2       4       2       0\n",
      "Score: 8\n"
     ]
    },
    {
     "data": {
      "text/html": [
       "<h1>Score: 8</h1><table style=\"border: 5px solid black;\"><tr><td style=\"border:3px solid black; text-align:center;\"\n",
       "         width=\"40\" height=\"40\">4</td><td style=\"border:3px solid black; text-align:center;\"\n",
       "         width=\"40\" height=\"40\"></td><td style=\"border:3px solid black; text-align:center;\"\n",
       "         width=\"40\" height=\"40\"></td><td style=\"border:3px solid black; text-align:center;\"\n",
       "         width=\"40\" height=\"40\"></td></tr><tr><td style=\"border:3px solid black; text-align:center;\"\n",
       "         width=\"40\" height=\"40\">4</td><td style=\"border:3px solid black; text-align:center;\"\n",
       "         width=\"40\" height=\"40\">2</td><td style=\"border:3px solid black; text-align:center;\"\n",
       "         width=\"40\" height=\"40\"></td><td style=\"border:3px solid black; text-align:center;\"\n",
       "         width=\"40\" height=\"40\"></td></tr><tr><td style=\"border:3px solid black; text-align:center;\"\n",
       "         width=\"40\" height=\"40\">8</td><td style=\"border:3px solid black; text-align:center;\"\n",
       "         width=\"40\" height=\"40\"></td><td style=\"border:3px solid black; text-align:center;\"\n",
       "         width=\"40\" height=\"40\"></td><td style=\"border:3px solid black; text-align:center;\"\n",
       "         width=\"40\" height=\"40\"></td></tr><tr><td style=\"border:3px solid black; text-align:center;\"\n",
       "         width=\"40\" height=\"40\">2</td><td style=\"border:3px solid black; text-align:center;\"\n",
       "         width=\"40\" height=\"40\">4</td><td style=\"border:3px solid black; text-align:center;\"\n",
       "         width=\"40\" height=\"40\">2</td><td style=\"border:3px solid black; text-align:center;\"\n",
       "         width=\"40\" height=\"40\"></td></tr></table>"
      ],
      "text/plain": [
       "<IPython.core.display.HTML object>"
      ]
     },
     "metadata": {},
     "output_type": "display_data"
    },
    {
     "name": "stdout",
     "output_type": "stream",
     "text": [
      "Moving to direction `3`...\n",
      "State:\t       8       2       2       0\n",
      "\t       8       4       0       0\n",
      "\t       2       0       0       0\n",
      "\t       4       0       0       0\n",
      "Score: 8\n"
     ]
    },
    {
     "data": {
      "text/html": [
       "<h1>Score: 8</h1><table style=\"border: 5px solid black;\"><tr><td style=\"border:3px solid black; text-align:center;\"\n",
       "         width=\"40\" height=\"40\">8</td><td style=\"border:3px solid black; text-align:center;\"\n",
       "         width=\"40\" height=\"40\">2</td><td style=\"border:3px solid black; text-align:center;\"\n",
       "         width=\"40\" height=\"40\">2</td><td style=\"border:3px solid black; text-align:center;\"\n",
       "         width=\"40\" height=\"40\"></td></tr><tr><td style=\"border:3px solid black; text-align:center;\"\n",
       "         width=\"40\" height=\"40\">8</td><td style=\"border:3px solid black; text-align:center;\"\n",
       "         width=\"40\" height=\"40\">4</td><td style=\"border:3px solid black; text-align:center;\"\n",
       "         width=\"40\" height=\"40\"></td><td style=\"border:3px solid black; text-align:center;\"\n",
       "         width=\"40\" height=\"40\"></td></tr><tr><td style=\"border:3px solid black; text-align:center;\"\n",
       "         width=\"40\" height=\"40\">2</td><td style=\"border:3px solid black; text-align:center;\"\n",
       "         width=\"40\" height=\"40\"></td><td style=\"border:3px solid black; text-align:center;\"\n",
       "         width=\"40\" height=\"40\"></td><td style=\"border:3px solid black; text-align:center;\"\n",
       "         width=\"40\" height=\"40\"></td></tr><tr><td style=\"border:3px solid black; text-align:center;\"\n",
       "         width=\"40\" height=\"40\">4</td><td style=\"border:3px solid black; text-align:center;\"\n",
       "         width=\"40\" height=\"40\"></td><td style=\"border:3px solid black; text-align:center;\"\n",
       "         width=\"40\" height=\"40\"></td><td style=\"border:3px solid black; text-align:center;\"\n",
       "         width=\"40\" height=\"40\"></td></tr></table>"
      ],
      "text/plain": [
       "<IPython.core.display.HTML object>"
      ]
     },
     "metadata": {},
     "output_type": "display_data"
    }
   ],
   "source": [
    "print(\"Running the loop manually...\")\n",
    "\n",
    "game = Game(4, random=False, enable_rewrite_board=False)\n",
    "agent = RandomAgent(game)\n",
    "\n",
    "for _ in range(10):\n",
    "    direction = agent.step()\n",
    "    print(\"Moving to direction `%s`...\"%direction)\n",
    "    game.move(direction)\n",
    "    display1.display(game)\n",
    "    display2.display(game)"
   ]
  },
  {
   "cell_type": "code",
   "execution_count": 10,
   "metadata": {},
   "outputs": [
    {
     "name": "stdout",
     "output_type": "stream",
     "text": [
      "Disable to rewrite `board` manually.\n"
     ]
    }
   ],
   "source": [
    "game.board = game.board"
   ]
  },
  {
   "cell_type": "code",
   "execution_count": 11,
   "metadata": {
    "collapsed": true
   },
   "outputs": [],
   "source": [
    "game.enable_rewrite_board = True"
   ]
  },
  {
   "cell_type": "code",
   "execution_count": 12,
   "metadata": {},
   "outputs": [],
   "source": [
    "game.board = game.board"
   ]
  },
  {
   "cell_type": "code",
   "execution_count": null,
   "metadata": {
    "collapsed": true
   },
   "outputs": [],
   "source": []
  }
 ],
 "metadata": {
  "kernelspec": {
   "display_name": "Python 3",
   "language": "python",
   "name": "python3"
  },
  "language_info": {
   "codemirror_mode": {
    "name": "ipython",
    "version": 3
   },
   "file_extension": ".py",
   "mimetype": "text/x-python",
   "name": "python",
   "nbconvert_exporter": "python",
   "pygments_lexer": "ipython3",
   "version": "3.7.6"
  }
 },
 "nbformat": 4,
 "nbformat_minor": 2
}
