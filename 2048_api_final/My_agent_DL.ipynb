{
 "cells": [
  {
   "cell_type": "code",
   "execution_count": 1,
   "metadata": {},
   "outputs": [],
   "source": [
    "from game2048.game import Game\n",
    "from game2048.displays import Display, IPythonDisplay\n",
    "import numpy as np\n",
    "import random\n",
    "from collections import deque\n",
    "#from game2048.agents import ExpectiMaxAgent\n",
    "\n",
    "display1 = Display()\n",
    "display2 = IPythonDisplay()"
   ]
  },
  {
   "cell_type": "code",
   "execution_count": 2,
   "metadata": {},
   "outputs": [],
   "source": [
    "class Agent_train:\n",
    "    '''Agent Base.'''\n",
    "\n",
    "    def __init__(self, game, display=None):\n",
    "        self.game = game\n",
    "        self.display = display\n",
    "\n",
    "    def play(self, max_iter=np.inf, verbose=False):\n",
    "        n_iter = 0\n",
    "        while (n_iter < max_iter) and (not self.game.end):\n",
    "            direction = self.step()\n",
    "            self.game.move(direction)\n",
    "            n_iter += 1\n",
    "            if verbose:\n",
    "                print(\"Iter: {}\".format(n_iter))\n",
    "                print(\"======Direction: {}======\".format(\n",
    "                    [\"left\", \"down\", \"right\", \"up\"][direction]))\n",
    "                if self.display is not None:\n",
    "                    self.display.display(self.game)\n",
    "\n",
    "    def step(self):\n",
    "        direction = int(input(\"0: left, 1: down, 2: right, 3: up = \")) % 4\n",
    "        return direction\n",
    "\n",
    "\n",
    "class ExpectiMaxAgent_train(Agent_train):\n",
    "\n",
    "    def __init__(self, game, display=None):\n",
    "        if game.size != 4:\n",
    "            raise ValueError(\n",
    "                \"`%s` can only work with game of `size` 4.\" % self.__class__.__name__)\n",
    "        super().__init__(game, display)\n",
    "        from game2048.expectimax import board_to_move\n",
    "        self.search_func = board_to_move\n",
    "        self.data = []\n",
    "\n",
    "    def step(self):\n",
    "        direction = self.search_func(self.game.board)\n",
    "        self.data.append([game.board, direction])\n",
    "        return direction"
   ]
  },
  {
   "cell_type": "code",
   "execution_count": 3,
   "metadata": {},
   "outputs": [
    {
     "name": "stderr",
     "output_type": "stream",
     "text": [
      "Using TensorFlow backend.\n"
     ]
    }
   ],
   "source": [
    "import keras\n",
    "import tensorflow as tf\n",
    "from keras.models import Sequential\n",
    "from keras.layers import Dense, Dropout, Flatten, Conv2D, MaxPooling2D, BatchNormalization, AveragePooling2D, Input, GlobalAveragePooling2D"
   ]
  },
  {
   "cell_type": "code",
   "execution_count": 4,
   "metadata": {},
   "outputs": [
    {
     "data": {
      "text/plain": [
       "[name: \"/device:CPU:0\"\n",
       " device_type: \"CPU\"\n",
       " memory_limit: 268435456\n",
       " locality {\n",
       " }\n",
       " incarnation: 2842469107702107972,\n",
       " name: \"/device:XLA_CPU:0\"\n",
       " device_type: \"XLA_CPU\"\n",
       " memory_limit: 17179869184\n",
       " locality {\n",
       " }\n",
       " incarnation: 14994975492029029114\n",
       " physical_device_desc: \"device: XLA_CPU device\",\n",
       " name: \"/device:XLA_GPU:0\"\n",
       " device_type: \"XLA_GPU\"\n",
       " memory_limit: 17179869184\n",
       " locality {\n",
       " }\n",
       " incarnation: 13642446321367770659\n",
       " physical_device_desc: \"device: XLA_GPU device\",\n",
       " name: \"/device:GPU:0\"\n",
       " device_type: \"GPU\"\n",
       " memory_limit: 7390920704\n",
       " locality {\n",
       "   bus_id: 1\n",
       "   links {\n",
       "   }\n",
       " }\n",
       " incarnation: 706276631005643353\n",
       " physical_device_desc: \"device: 0, name: Tesla P4, pci bus id: 0000:00:08.0, compute capability: 6.1\"]"
      ]
     },
     "execution_count": 4,
     "metadata": {},
     "output_type": "execute_result"
    }
   ],
   "source": [
    "from tensorflow.python.client import device_lib\n",
    "tf.device = '/GPU:0'\n",
    "tf.test.gpu_device_name()\n",
    "device_lib.list_local_devices()"
   ]
  },
  {
   "cell_type": "code",
   "execution_count": 7,
   "metadata": {},
   "outputs": [],
   "source": [
    "X_train = deque(maxlen=5000)\n",
    "Y_train = deque(maxlen=5000)\n",
    "data_x = []\n",
    "data_y = []\n",
    "NUM_Y_CLASSES = 4\n",
    "NUM_X_CLASSES = 12"
   ]
  },
  {
   "cell_type": "code",
   "execution_count": 6,
   "metadata": {},
   "outputs": [
    {
     "name": "stdout",
     "output_type": "stream",
     "text": [
      "Model: \"sequential_1\"\n",
      "_________________________________________________________________\n",
      "Layer (type)                 Output Shape              Param #   \n",
      "=================================================================\n",
      "conv2d_1 (Conv2D)            (None, 4, 4, 8)           1544      \n",
      "_________________________________________________________________\n",
      "conv2d_2 (Conv2D)            (None, 4, 4, 16)          144       \n",
      "_________________________________________________________________\n",
      "global_average_pooling2d_1 ( (None, 16)                0         \n",
      "_________________________________________________________________\n",
      "dense_1 (Dense)              (None, 24)                408       \n",
      "_________________________________________________________________\n",
      "dense_2 (Dense)              (None, 24)                600       \n",
      "_________________________________________________________________\n",
      "dense_3 (Dense)              (None, 4)                 100       \n",
      "=================================================================\n",
      "Total params: 2,796\n",
      "Trainable params: 2,796\n",
      "Non-trainable params: 0\n",
      "_________________________________________________________________\n"
     ]
    }
   ],
   "source": [
    "model = Sequential()\n",
    "model(Input(shape=(4, 4, NUM_X_CLASSES)))\n",
    "\n",
    "#model.add(Conv2D(16, (4, 4), padding='same', activation='relu'))\n",
    "\n",
    "model.add(Conv2D(8, (4, 4), padding='same', activation='relu'))\n",
    "model.add(Conv2D(16, (1, 1), padding='same', activation='relu'))\n",
    "\n",
    "model.add(GlobalAveragePooling2D())\n",
    "#model.add(Flatten())\n",
    "\n",
    "'''model.add(BatchNormalization())\n",
    "model.add(Dropout(0.05))\n",
    "model.add(Dense(units=384, activation='relu'))\n",
    "\n",
    "model.add(BatchNormalization())\n",
    "model.add(Dropout(0.05))\n",
    "model.add(Dense(units=256, activation='relu'))\n",
    "\n",
    "model.add(BatchNormalization())\n",
    "model.add(Dropout(0.05))\n",
    "model.add(Dense(units=256, activation='relu'))\n",
    "\n",
    "model.add(BatchNormalization())\n",
    "model.add(Dense(units=64, activation='relu'))'''\n",
    "\n",
    "#model.add(BatchNormalization())\n",
    "model.add(Dense(units=24, activation='relu'))\n",
    "model.add(Dense(units=24, activation='relu'))\n",
    "\n",
    "#model.add(BatchNormalization())\n",
    "model.add(Dense(units=4, activation='softmax'))\n",
    "\n",
    "model.compile(loss='categorical_crossentropy',\n",
    "              optimizer='adam',\n",
    "              metrics=['accuracy'])\n",
    "model.summary()\n",
    "history = []"
   ]
  },
  {
   "cell_type": "code",
   "execution_count": null,
   "metadata": {
    "scrolled": true
   },
   "outputs": [
    {
     "name": "stdout",
     "output_type": "stream",
     "text": [
      "4011/4011 [==============================] - 0s 58us/step\n",
      "Training loss: 1.1144, Training accuracy: 47.27%\n",
      "5000/5000 [==============================] - 0s 53us/step\n",
      "Training loss: 1.0492, Training accuracy: 51.14%\n",
      "5000/5000 [==============================] - 0s 45us/step\n",
      "Training loss: 1.0412, Training accuracy: 52.38%\n",
      "5000/5000 [==============================] - 0s 43us/step\n",
      "Training loss: 1.0279, Training accuracy: 52.08%\n",
      "5000/5000 [==============================] - 0s 43us/step\n",
      "Training loss: 1.0471, Training accuracy: 53.02%\n",
      "5000/5000 [==============================] - 0s 44us/step\n",
      "Training loss: 1.0661, Training accuracy: 51.60%\n",
      "5000/5000 [==============================] - 0s 43us/step\n",
      "Training loss: 1.0725, Training accuracy: 51.64%\n",
      "5000/5000 [==============================] - 0s 45us/step\n",
      "Training loss: 1.0884, Training accuracy: 50.96%\n",
      "5000/5000 [==============================] - 0s 44us/step\n",
      "Training loss: 1.0899, Training accuracy: 50.20%\n",
      "5000/5000 [==============================] - 0s 44us/step\n",
      "Training loss: 1.0831, Training accuracy: 49.82%\n",
      "5000/5000 [==============================] - 0s 47us/step\n",
      "Training loss: 1.0841, Training accuracy: 48.58%\n",
      "5000/5000 [==============================] - 0s 44us/step\n",
      "Training loss: 1.0846, Training accuracy: 49.34%\n",
      "5000/5000 [==============================] - 0s 43us/step\n",
      "Training loss: 1.0966, Training accuracy: 47.64%\n",
      "5000/5000 [==============================] - 0s 44us/step\n",
      "Training loss: 1.0968, Training accuracy: 47.48%\n",
      "5000/5000 [==============================] - 0s 44us/step\n",
      "Training loss: 1.0937, Training accuracy: 47.52%\n",
      "5000/5000 [==============================] - 0s 43us/step\n",
      "Training loss: 1.0881, Training accuracy: 47.88%\n",
      "5000/5000 [==============================] - 0s 46us/step\n",
      "Training loss: 1.0951, Training accuracy: 47.34%\n",
      "5000/5000 [==============================] - 0s 44us/step\n",
      "Training loss: 1.0905, Training accuracy: 47.42%\n",
      "5000/5000 [==============================] - 0s 43us/step\n",
      "Training loss: 1.0844, Training accuracy: 48.16%\n",
      "5000/5000 [==============================] - 0s 45us/step\n",
      "Training loss: 1.0822, Training accuracy: 48.52%\n",
      "5000/5000 [==============================] - 0s 42us/step\n",
      "Training loss: 1.0828, Training accuracy: 48.42%\n",
      "5000/5000 [==============================] - 0s 43us/step\n",
      "Training loss: 1.0795, Training accuracy: 48.32%\n",
      "5000/5000 [==============================] - 0s 44us/step\n",
      "Training loss: 1.0730, Training accuracy: 49.36%\n",
      "5000/5000 [==============================] - 0s 44us/step\n",
      "Training loss: 1.0618, Training accuracy: 49.98%\n",
      "5000/5000 [==============================] - 0s 44us/step\n",
      "Training loss: 1.0741, Training accuracy: 48.52%\n",
      "5000/5000 [==============================] - 0s 45us/step\n",
      "Training loss: 1.0619, Training accuracy: 48.32%\n",
      "5000/5000 [==============================] - 0s 44us/step\n",
      "Training loss: 1.0649, Training accuracy: 48.62%\n",
      "5000/5000 [==============================] - 0s 44us/step\n",
      "Training loss: 1.0623, Training accuracy: 48.54%\n",
      "5000/5000 [==============================] - 0s 43us/step\n",
      "Training loss: 1.0547, Training accuracy: 50.08%\n",
      "5000/5000 [==============================] - 0s 43us/step\n",
      "Training loss: 1.0551, Training accuracy: 49.26%\n",
      "5000/5000 [==============================] - 0s 44us/step\n",
      "Training loss: 1.0604, Training accuracy: 49.70%\n",
      "5000/5000 [==============================] - 0s 45us/step\n",
      "Training loss: 1.0595, Training accuracy: 48.32%\n",
      "5000/5000 [==============================] - 0s 45us/step\n",
      "Training loss: 1.0536, Training accuracy: 49.58%\n",
      "5000/5000 [==============================] - 0s 45us/step\n",
      "Training loss: 1.0499, Training accuracy: 50.56%\n",
      "5000/5000 [==============================] - 0s 45us/step\n",
      "Training loss: 1.0494, Training accuracy: 50.22%\n",
      "5000/5000 [==============================] - 0s 44us/step\n",
      "Training loss: 1.0527, Training accuracy: 49.78%\n",
      "5000/5000 [==============================] - 0s 46us/step\n",
      "Training loss: 1.0503, Training accuracy: 49.36%\n",
      "5000/5000 [==============================] - 0s 43us/step\n",
      "Training loss: 1.0487, Training accuracy: 50.24%\n",
      "5000/5000 [==============================] - 0s 42us/step\n",
      "Training loss: 1.0520, Training accuracy: 50.02%\n",
      "5000/5000 [==============================] - 0s 45us/step\n",
      "Training loss: 1.0508, Training accuracy: 49.58%\n",
      "5000/5000 [==============================] - 0s 49us/step\n",
      "Training loss: 1.0525, Training accuracy: 49.42%\n",
      "5000/5000 [==============================] - 0s 48us/step\n",
      "Training loss: 1.0531, Training accuracy: 48.76%\n",
      "5000/5000 [==============================] - 0s 43us/step\n",
      "Training loss: 1.0556, Training accuracy: 49.08%\n",
      "5000/5000 [==============================] - 0s 46us/step\n",
      "Training loss: 1.0513, Training accuracy: 49.00%\n",
      "5000/5000 [==============================] - 0s 45us/step\n",
      "Training loss: 1.0404, Training accuracy: 49.62%\n",
      "5000/5000 [==============================] - 0s 45us/step\n",
      "Training loss: 1.0471, Training accuracy: 48.54%\n",
      "5000/5000 [==============================] - 0s 43us/step\n",
      "Training loss: 1.0503, Training accuracy: 48.58%\n",
      "5000/5000 [==============================] - 0s 44us/step\n",
      "Training loss: 1.0496, Training accuracy: 49.02%\n",
      "5000/5000 [==============================] - 0s 47us/step\n",
      "Training loss: 1.0381, Training accuracy: 49.50%\n",
      "5000/5000 [==============================] - 0s 46us/step\n",
      "Training loss: 1.0503, Training accuracy: 49.84%\n",
      "5000/5000 [==============================] - 0s 44us/step\n",
      "Training loss: 1.0347, Training accuracy: 50.26%\n",
      "5000/5000 [==============================] - 0s 44us/step\n",
      "Training loss: 1.0321, Training accuracy: 50.58%\n",
      "5000/5000 [==============================] - 0s 44us/step\n",
      "Training loss: 1.0285, Training accuracy: 51.32%\n",
      "5000/5000 [==============================] - 0s 44us/step\n",
      "Training loss: 1.0432, Training accuracy: 50.40%\n",
      "5000/5000 [==============================] - 0s 45us/step\n",
      "Training loss: 1.0403, Training accuracy: 50.04%\n",
      "5000/5000 [==============================] - 0s 46us/step\n",
      "Training loss: 1.0374, Training accuracy: 50.16%\n",
      "5000/5000 [==============================] - 0s 45us/step\n",
      "Training loss: 1.0532, Training accuracy: 49.06%\n",
      "5000/5000 [==============================] - 0s 48us/step\n",
      "Training loss: 1.0500, Training accuracy: 49.20%\n",
      "5000/5000 [==============================] - 0s 43us/step\n",
      "Training loss: 1.0513, Training accuracy: 48.98%\n",
      "2432/5000 [=============>................] - ETA: 0s"
     ]
    }
   ],
   "source": [
    "history = []\n",
    "tf.device = '/GPU:0'\n",
    "tf.test.gpu_device_name()\n",
    "device_lib.list_local_devices()\n",
    "import matplotlib.pyplot as plt\n",
    "\n",
    "'''for i in range(100):\n",
    "    history = model.fit(X_train, Y_train, epochs=5, batch_size=128, verbose=0)\n",
    "    # evaluate\n",
    "    print('In episode %2d:' % (i))\n",
    "    loss_train, score_train = model.evaluate(X_train, Y_train)\n",
    "    print('Training loss: %.4f, Training accuracy: %.2f%%' %\n",
    "          (loss_train, score_train * 100))\n",
    "    loss_test, score_test = model.evaluate(X_test, Y_test)\n",
    "    print('Testing loss: %.4f, Testing accuracy: %.2f%%' %\n",
    "          (loss_test, score_test * 100))\n",
    "    print()\n",
    "'''\n",
    "for i in range(100000):\n",
    "    for j in range(4, 10):\n",
    "        times = 2 ** j\n",
    "        game = Game(4, score_to_win=times, random=False)\n",
    "        agent = ExpectiMaxAgent_train(game, display=display2)\n",
    "        agent.play(verbose=False)\n",
    "\n",
    "        for x, y in agent.data:\n",
    "            data_x.append(x)\n",
    "            data_y.append(y)\n",
    "\n",
    "        X_train.extend(keras.utils.np_utils.to_categorical(np.array(np.log2(np.maximum(data_x, 1))).reshape(len(data_x), 4, 4, 1), NUM_X_CLASSES))\n",
    "        Y_train.extend(np.array(keras.utils.np_utils.to_categorical(data_y, NUM_Y_CLASSES)))\n",
    "\n",
    "    history = model.fit(np.array(X_train), np.array(Y_train), epochs=10, batch_size=256, verbose=0).history\n",
    "    loss_train, score_train = model.evaluate(np.array(X_train), np.array(Y_train))\n",
    "    print('Training loss: %.4f, Training accuracy: %.2f%%' %\n",
    "          (loss_train, score_train * 100))\n",
    "\n",
    "#print(history)\n",
    "plt.plot(history['accuracy'])\n",
    "plt.title('Model accuracy')\n",
    "plt.ylabel('Accuracy')\n",
    "plt.xlabel('Epoch')\n",
    "plt.legend(['Train', 'Test'], loc='upper left')\n",
    "plt.show()\n",
    "\n",
    "plt.plot(history['loss'])\n",
    "plt.title('Model loss')\n",
    "plt.ylabel('Loss')\n",
    "plt.xlabel('Epoch')\n",
    "plt.legend(['Train', 'Test'], loc='upper left')\n",
    "plt.show() "
   ]
  },
  {
   "cell_type": "code",
   "execution_count": 15,
   "metadata": {},
   "outputs": [],
   "source": [
    "history1 = history"
   ]
  },
  {
   "cell_type": "code",
   "execution_count": 16,
   "metadata": {},
   "outputs": [],
   "source": [
    "from game2048.agents import Agent\n",
    "\n",
    "class MyAgent(Agent):\n",
    "\n",
    "    def step(self):\n",
    "        board = np.log2(np.maximum(np.array(self.game.board), 1)).reshape(1, 4, 4, 1)\n",
    "        board = keras.utils.np_utils.to_categorical(board, NUM_X_CLASSES)\n",
    "        direction=model.predict_classes(board)[0]\n",
    "        return direction"
   ]
  },
  {
   "cell_type": "code",
   "execution_count": 17,
   "metadata": {},
   "outputs": [
    {
     "ename": "NameError",
     "evalue": "name 'GAME_SIZE' is not defined",
     "output_type": "error",
     "traceback": [
      "\u001b[0;31m---------------------------------------------------------------------------\u001b[0m",
      "\u001b[0;31mNameError\u001b[0m                                 Traceback (most recent call last)",
      "\u001b[0;32m<timed exec>\u001b[0m in \u001b[0;36m<module>\u001b[0;34m\u001b[0m\n",
      "\u001b[0;31mNameError\u001b[0m: name 'GAME_SIZE' is not defined"
     ]
    }
   ],
   "source": [
    "%%time\n",
    "def single_run(size, score_to_win, AgentClass, **kwargs):\n",
    "    game = Game(size, score_to_win)\n",
    "    agent = AgentClass(game, display=Display(), **kwargs)\n",
    "    agent.play(verbose=False)\n",
    "    return game.score\n",
    "\n",
    "N_TESTS = 50\n",
    "scores = []\n",
    "for _ in range(N_TESTS):\n",
    "    score = single_run(GAME_SIZE, SCORE_TO_WIN,\n",
    "                       AgentClass=MyAgent)\n",
    "    scores.append(score)\n",
    "\n",
    "print(\"Average scores: @%s times\" % N_TESTS, sum(scores) / len(scores))"
   ]
  },
  {
   "cell_type": "code",
   "execution_count": 18,
   "metadata": {},
   "outputs": [
    {
     "data": {
      "text/html": [
       "<h1>Score: 4</h1><table style=\"border: 5px solid black;\"><tr><td style=\"border:3px solid black; text-align:center;\"\n",
       "         width=\"40\" height=\"40\"></td><td style=\"border:3px solid black; text-align:center;\"\n",
       "         width=\"40\" height=\"40\"></td><td style=\"border:3px solid black; text-align:center;\"\n",
       "         width=\"40\" height=\"40\"></td><td style=\"border:3px solid black; text-align:center;\"\n",
       "         width=\"40\" height=\"40\">4</td></tr><tr><td style=\"border:3px solid black; text-align:center;\"\n",
       "         width=\"40\" height=\"40\"></td><td style=\"border:3px solid black; text-align:center;\"\n",
       "         width=\"40\" height=\"40\"></td><td style=\"border:3px solid black; text-align:center;\"\n",
       "         width=\"40\" height=\"40\"></td><td style=\"border:3px solid black; text-align:center;\"\n",
       "         width=\"40\" height=\"40\">2</td></tr><tr><td style=\"border:3px solid black; text-align:center;\"\n",
       "         width=\"40\" height=\"40\"></td><td style=\"border:3px solid black; text-align:center;\"\n",
       "         width=\"40\" height=\"40\"></td><td style=\"border:3px solid black; text-align:center;\"\n",
       "         width=\"40\" height=\"40\"></td><td style=\"border:3px solid black; text-align:center;\"\n",
       "         width=\"40\" height=\"40\"></td></tr><tr><td style=\"border:3px solid black; text-align:center;\"\n",
       "         width=\"40\" height=\"40\"></td><td style=\"border:3px solid black; text-align:center;\"\n",
       "         width=\"40\" height=\"40\"></td><td style=\"border:3px solid black; text-align:center;\"\n",
       "         width=\"40\" height=\"40\"></td><td style=\"border:3px solid black; text-align:center;\"\n",
       "         width=\"40\" height=\"40\"></td></tr></table>"
      ],
      "text/plain": [
       "<IPython.core.display.HTML object>"
      ]
     },
     "metadata": {},
     "output_type": "display_data"
    },
    {
     "name": "stdout",
     "output_type": "stream",
     "text": [
      "Iter: 1\n",
      "======Direction: left======\n"
     ]
    },
    {
     "data": {
      "text/html": [
       "<h1>Score: 4</h1><table style=\"border: 5px solid black;\"><tr><td style=\"border:3px solid black; text-align:center;\"\n",
       "         width=\"40\" height=\"40\">4</td><td style=\"border:3px solid black; text-align:center;\"\n",
       "         width=\"40\" height=\"40\"></td><td style=\"border:3px solid black; text-align:center;\"\n",
       "         width=\"40\" height=\"40\"></td><td style=\"border:3px solid black; text-align:center;\"\n",
       "         width=\"40\" height=\"40\"></td></tr><tr><td style=\"border:3px solid black; text-align:center;\"\n",
       "         width=\"40\" height=\"40\">2</td><td style=\"border:3px solid black; text-align:center;\"\n",
       "         width=\"40\" height=\"40\"></td><td style=\"border:3px solid black; text-align:center;\"\n",
       "         width=\"40\" height=\"40\"></td><td style=\"border:3px solid black; text-align:center;\"\n",
       "         width=\"40\" height=\"40\"></td></tr><tr><td style=\"border:3px solid black; text-align:center;\"\n",
       "         width=\"40\" height=\"40\"></td><td style=\"border:3px solid black; text-align:center;\"\n",
       "         width=\"40\" height=\"40\"></td><td style=\"border:3px solid black; text-align:center;\"\n",
       "         width=\"40\" height=\"40\"></td><td style=\"border:3px solid black; text-align:center;\"\n",
       "         width=\"40\" height=\"40\"></td></tr><tr><td style=\"border:3px solid black; text-align:center;\"\n",
       "         width=\"40\" height=\"40\"></td><td style=\"border:3px solid black; text-align:center;\"\n",
       "         width=\"40\" height=\"40\"></td><td style=\"border:3px solid black; text-align:center;\"\n",
       "         width=\"40\" height=\"40\">2</td><td style=\"border:3px solid black; text-align:center;\"\n",
       "         width=\"40\" height=\"40\"></td></tr></table>"
      ],
      "text/plain": [
       "<IPython.core.display.HTML object>"
      ]
     },
     "metadata": {},
     "output_type": "display_data"
    },
    {
     "name": "stdout",
     "output_type": "stream",
     "text": [
      "Iter: 2\n",
      "======Direction: right======\n"
     ]
    },
    {
     "data": {
      "text/html": [
       "<h1>Score: 4</h1><table style=\"border: 5px solid black;\"><tr><td style=\"border:3px solid black; text-align:center;\"\n",
       "         width=\"40\" height=\"40\"></td><td style=\"border:3px solid black; text-align:center;\"\n",
       "         width=\"40\" height=\"40\"></td><td style=\"border:3px solid black; text-align:center;\"\n",
       "         width=\"40\" height=\"40\">2</td><td style=\"border:3px solid black; text-align:center;\"\n",
       "         width=\"40\" height=\"40\">4</td></tr><tr><td style=\"border:3px solid black; text-align:center;\"\n",
       "         width=\"40\" height=\"40\"></td><td style=\"border:3px solid black; text-align:center;\"\n",
       "         width=\"40\" height=\"40\"></td><td style=\"border:3px solid black; text-align:center;\"\n",
       "         width=\"40\" height=\"40\"></td><td style=\"border:3px solid black; text-align:center;\"\n",
       "         width=\"40\" height=\"40\">2</td></tr><tr><td style=\"border:3px solid black; text-align:center;\"\n",
       "         width=\"40\" height=\"40\"></td><td style=\"border:3px solid black; text-align:center;\"\n",
       "         width=\"40\" height=\"40\"></td><td style=\"border:3px solid black; text-align:center;\"\n",
       "         width=\"40\" height=\"40\"></td><td style=\"border:3px solid black; text-align:center;\"\n",
       "         width=\"40\" height=\"40\"></td></tr><tr><td style=\"border:3px solid black; text-align:center;\"\n",
       "         width=\"40\" height=\"40\"></td><td style=\"border:3px solid black; text-align:center;\"\n",
       "         width=\"40\" height=\"40\"></td><td style=\"border:3px solid black; text-align:center;\"\n",
       "         width=\"40\" height=\"40\"></td><td style=\"border:3px solid black; text-align:center;\"\n",
       "         width=\"40\" height=\"40\">2</td></tr></table>"
      ],
      "text/plain": [
       "<IPython.core.display.HTML object>"
      ]
     },
     "metadata": {},
     "output_type": "display_data"
    },
    {
     "name": "stdout",
     "output_type": "stream",
     "text": [
      "Iter: 3\n",
      "======Direction: up======\n"
     ]
    },
    {
     "data": {
      "text/html": [
       "<h1>Score: 4</h1><table style=\"border: 5px solid black;\"><tr><td style=\"border:3px solid black; text-align:center;\"\n",
       "         width=\"40\" height=\"40\"></td><td style=\"border:3px solid black; text-align:center;\"\n",
       "         width=\"40\" height=\"40\"></td><td style=\"border:3px solid black; text-align:center;\"\n",
       "         width=\"40\" height=\"40\">2</td><td style=\"border:3px solid black; text-align:center;\"\n",
       "         width=\"40\" height=\"40\">4</td></tr><tr><td style=\"border:3px solid black; text-align:center;\"\n",
       "         width=\"40\" height=\"40\"></td><td style=\"border:3px solid black; text-align:center;\"\n",
       "         width=\"40\" height=\"40\"></td><td style=\"border:3px solid black; text-align:center;\"\n",
       "         width=\"40\" height=\"40\"></td><td style=\"border:3px solid black; text-align:center;\"\n",
       "         width=\"40\" height=\"40\">4</td></tr><tr><td style=\"border:3px solid black; text-align:center;\"\n",
       "         width=\"40\" height=\"40\"></td><td style=\"border:3px solid black; text-align:center;\"\n",
       "         width=\"40\" height=\"40\">4</td><td style=\"border:3px solid black; text-align:center;\"\n",
       "         width=\"40\" height=\"40\"></td><td style=\"border:3px solid black; text-align:center;\"\n",
       "         width=\"40\" height=\"40\"></td></tr><tr><td style=\"border:3px solid black; text-align:center;\"\n",
       "         width=\"40\" height=\"40\"></td><td style=\"border:3px solid black; text-align:center;\"\n",
       "         width=\"40\" height=\"40\"></td><td style=\"border:3px solid black; text-align:center;\"\n",
       "         width=\"40\" height=\"40\"></td><td style=\"border:3px solid black; text-align:center;\"\n",
       "         width=\"40\" height=\"40\"></td></tr></table>"
      ],
      "text/plain": [
       "<IPython.core.display.HTML object>"
      ]
     },
     "metadata": {},
     "output_type": "display_data"
    },
    {
     "name": "stdout",
     "output_type": "stream",
     "text": [
      "Iter: 4\n",
      "======Direction: up======\n"
     ]
    },
    {
     "data": {
      "text/html": [
       "<h1>Score: 8</h1><table style=\"border: 5px solid black;\"><tr><td style=\"border:3px solid black; text-align:center;\"\n",
       "         width=\"40\" height=\"40\"></td><td style=\"border:3px solid black; text-align:center;\"\n",
       "         width=\"40\" height=\"40\">4</td><td style=\"border:3px solid black; text-align:center;\"\n",
       "         width=\"40\" height=\"40\">2</td><td style=\"border:3px solid black; text-align:center;\"\n",
       "         width=\"40\" height=\"40\">8</td></tr><tr><td style=\"border:3px solid black; text-align:center;\"\n",
       "         width=\"40\" height=\"40\"></td><td style=\"border:3px solid black; text-align:center;\"\n",
       "         width=\"40\" height=\"40\"></td><td style=\"border:3px solid black; text-align:center;\"\n",
       "         width=\"40\" height=\"40\">4</td><td style=\"border:3px solid black; text-align:center;\"\n",
       "         width=\"40\" height=\"40\"></td></tr><tr><td style=\"border:3px solid black; text-align:center;\"\n",
       "         width=\"40\" height=\"40\"></td><td style=\"border:3px solid black; text-align:center;\"\n",
       "         width=\"40\" height=\"40\"></td><td style=\"border:3px solid black; text-align:center;\"\n",
       "         width=\"40\" height=\"40\"></td><td style=\"border:3px solid black; text-align:center;\"\n",
       "         width=\"40\" height=\"40\"></td></tr><tr><td style=\"border:3px solid black; text-align:center;\"\n",
       "         width=\"40\" height=\"40\"></td><td style=\"border:3px solid black; text-align:center;\"\n",
       "         width=\"40\" height=\"40\"></td><td style=\"border:3px solid black; text-align:center;\"\n",
       "         width=\"40\" height=\"40\"></td><td style=\"border:3px solid black; text-align:center;\"\n",
       "         width=\"40\" height=\"40\"></td></tr></table>"
      ],
      "text/plain": [
       "<IPython.core.display.HTML object>"
      ]
     },
     "metadata": {},
     "output_type": "display_data"
    },
    {
     "name": "stdout",
     "output_type": "stream",
     "text": [
      "Iter: 5\n",
      "======Direction: down======\n"
     ]
    },
    {
     "data": {
      "text/html": [
       "<h1>Score: 8</h1><table style=\"border: 5px solid black;\"><tr><td style=\"border:3px solid black; text-align:center;\"\n",
       "         width=\"40\" height=\"40\"></td><td style=\"border:3px solid black; text-align:center;\"\n",
       "         width=\"40\" height=\"40\"></td><td style=\"border:3px solid black; text-align:center;\"\n",
       "         width=\"40\" height=\"40\"></td><td style=\"border:3px solid black; text-align:center;\"\n",
       "         width=\"40\" height=\"40\"></td></tr><tr><td style=\"border:3px solid black; text-align:center;\"\n",
       "         width=\"40\" height=\"40\"></td><td style=\"border:3px solid black; text-align:center;\"\n",
       "         width=\"40\" height=\"40\">4</td><td style=\"border:3px solid black; text-align:center;\"\n",
       "         width=\"40\" height=\"40\"></td><td style=\"border:3px solid black; text-align:center;\"\n",
       "         width=\"40\" height=\"40\"></td></tr><tr><td style=\"border:3px solid black; text-align:center;\"\n",
       "         width=\"40\" height=\"40\"></td><td style=\"border:3px solid black; text-align:center;\"\n",
       "         width=\"40\" height=\"40\"></td><td style=\"border:3px solid black; text-align:center;\"\n",
       "         width=\"40\" height=\"40\">2</td><td style=\"border:3px solid black; text-align:center;\"\n",
       "         width=\"40\" height=\"40\"></td></tr><tr><td style=\"border:3px solid black; text-align:center;\"\n",
       "         width=\"40\" height=\"40\"></td><td style=\"border:3px solid black; text-align:center;\"\n",
       "         width=\"40\" height=\"40\">4</td><td style=\"border:3px solid black; text-align:center;\"\n",
       "         width=\"40\" height=\"40\">4</td><td style=\"border:3px solid black; text-align:center;\"\n",
       "         width=\"40\" height=\"40\">8</td></tr></table>"
      ],
      "text/plain": [
       "<IPython.core.display.HTML object>"
      ]
     },
     "metadata": {},
     "output_type": "display_data"
    },
    {
     "name": "stdout",
     "output_type": "stream",
     "text": [
      "Iter: 6\n",
      "======Direction: up======\n"
     ]
    },
    {
     "data": {
      "text/html": [
       "<h1>Score: 8</h1><table style=\"border: 5px solid black;\"><tr><td style=\"border:3px solid black; text-align:center;\"\n",
       "         width=\"40\" height=\"40\"></td><td style=\"border:3px solid black; text-align:center;\"\n",
       "         width=\"40\" height=\"40\">8</td><td style=\"border:3px solid black; text-align:center;\"\n",
       "         width=\"40\" height=\"40\">2</td><td style=\"border:3px solid black; text-align:center;\"\n",
       "         width=\"40\" height=\"40\">8</td></tr><tr><td style=\"border:3px solid black; text-align:center;\"\n",
       "         width=\"40\" height=\"40\"></td><td style=\"border:3px solid black; text-align:center;\"\n",
       "         width=\"40\" height=\"40\"></td><td style=\"border:3px solid black; text-align:center;\"\n",
       "         width=\"40\" height=\"40\">4</td><td style=\"border:3px solid black; text-align:center;\"\n",
       "         width=\"40\" height=\"40\">2</td></tr><tr><td style=\"border:3px solid black; text-align:center;\"\n",
       "         width=\"40\" height=\"40\"></td><td style=\"border:3px solid black; text-align:center;\"\n",
       "         width=\"40\" height=\"40\"></td><td style=\"border:3px solid black; text-align:center;\"\n",
       "         width=\"40\" height=\"40\"></td><td style=\"border:3px solid black; text-align:center;\"\n",
       "         width=\"40\" height=\"40\"></td></tr><tr><td style=\"border:3px solid black; text-align:center;\"\n",
       "         width=\"40\" height=\"40\"></td><td style=\"border:3px solid black; text-align:center;\"\n",
       "         width=\"40\" height=\"40\"></td><td style=\"border:3px solid black; text-align:center;\"\n",
       "         width=\"40\" height=\"40\"></td><td style=\"border:3px solid black; text-align:center;\"\n",
       "         width=\"40\" height=\"40\"></td></tr></table>"
      ],
      "text/plain": [
       "<IPython.core.display.HTML object>"
      ]
     },
     "metadata": {},
     "output_type": "display_data"
    },
    {
     "name": "stdout",
     "output_type": "stream",
     "text": [
      "Iter: 7\n",
      "======Direction: left======\n"
     ]
    },
    {
     "data": {
      "text/html": [
       "<h1>Score: 8</h1><table style=\"border: 5px solid black;\"><tr><td style=\"border:3px solid black; text-align:center;\"\n",
       "         width=\"40\" height=\"40\">8</td><td style=\"border:3px solid black; text-align:center;\"\n",
       "         width=\"40\" height=\"40\">2</td><td style=\"border:3px solid black; text-align:center;\"\n",
       "         width=\"40\" height=\"40\">8</td><td style=\"border:3px solid black; text-align:center;\"\n",
       "         width=\"40\" height=\"40\"></td></tr><tr><td style=\"border:3px solid black; text-align:center;\"\n",
       "         width=\"40\" height=\"40\">4</td><td style=\"border:3px solid black; text-align:center;\"\n",
       "         width=\"40\" height=\"40\">2</td><td style=\"border:3px solid black; text-align:center;\"\n",
       "         width=\"40\" height=\"40\"></td><td style=\"border:3px solid black; text-align:center;\"\n",
       "         width=\"40\" height=\"40\"></td></tr><tr><td style=\"border:3px solid black; text-align:center;\"\n",
       "         width=\"40\" height=\"40\"></td><td style=\"border:3px solid black; text-align:center;\"\n",
       "         width=\"40\" height=\"40\"></td><td style=\"border:3px solid black; text-align:center;\"\n",
       "         width=\"40\" height=\"40\"></td><td style=\"border:3px solid black; text-align:center;\"\n",
       "         width=\"40\" height=\"40\"></td></tr><tr><td style=\"border:3px solid black; text-align:center;\"\n",
       "         width=\"40\" height=\"40\">2</td><td style=\"border:3px solid black; text-align:center;\"\n",
       "         width=\"40\" height=\"40\"></td><td style=\"border:3px solid black; text-align:center;\"\n",
       "         width=\"40\" height=\"40\"></td><td style=\"border:3px solid black; text-align:center;\"\n",
       "         width=\"40\" height=\"40\"></td></tr></table>"
      ],
      "text/plain": [
       "<IPython.core.display.HTML object>"
      ]
     },
     "metadata": {},
     "output_type": "display_data"
    },
    {
     "name": "stdout",
     "output_type": "stream",
     "text": [
      "Iter: 8\n",
      "======Direction: right======\n"
     ]
    },
    {
     "data": {
      "text/html": [
       "<h1>Score: 8</h1><table style=\"border: 5px solid black;\"><tr><td style=\"border:3px solid black; text-align:center;\"\n",
       "         width=\"40\" height=\"40\"></td><td style=\"border:3px solid black; text-align:center;\"\n",
       "         width=\"40\" height=\"40\">8</td><td style=\"border:3px solid black; text-align:center;\"\n",
       "         width=\"40\" height=\"40\">2</td><td style=\"border:3px solid black; text-align:center;\"\n",
       "         width=\"40\" height=\"40\">8</td></tr><tr><td style=\"border:3px solid black; text-align:center;\"\n",
       "         width=\"40\" height=\"40\"></td><td style=\"border:3px solid black; text-align:center;\"\n",
       "         width=\"40\" height=\"40\">4</td><td style=\"border:3px solid black; text-align:center;\"\n",
       "         width=\"40\" height=\"40\">4</td><td style=\"border:3px solid black; text-align:center;\"\n",
       "         width=\"40\" height=\"40\">2</td></tr><tr><td style=\"border:3px solid black; text-align:center;\"\n",
       "         width=\"40\" height=\"40\"></td><td style=\"border:3px solid black; text-align:center;\"\n",
       "         width=\"40\" height=\"40\"></td><td style=\"border:3px solid black; text-align:center;\"\n",
       "         width=\"40\" height=\"40\"></td><td style=\"border:3px solid black; text-align:center;\"\n",
       "         width=\"40\" height=\"40\"></td></tr><tr><td style=\"border:3px solid black; text-align:center;\"\n",
       "         width=\"40\" height=\"40\"></td><td style=\"border:3px solid black; text-align:center;\"\n",
       "         width=\"40\" height=\"40\"></td><td style=\"border:3px solid black; text-align:center;\"\n",
       "         width=\"40\" height=\"40\"></td><td style=\"border:3px solid black; text-align:center;\"\n",
       "         width=\"40\" height=\"40\">2</td></tr></table>"
      ],
      "text/plain": [
       "<IPython.core.display.HTML object>"
      ]
     },
     "metadata": {},
     "output_type": "display_data"
    },
    {
     "name": "stdout",
     "output_type": "stream",
     "text": [
      "Iter: 9\n",
      "======Direction: left======\n"
     ]
    },
    {
     "data": {
      "text/html": [
       "<h1>Score: 8</h1><table style=\"border: 5px solid black;\"><tr><td style=\"border:3px solid black; text-align:center;\"\n",
       "         width=\"40\" height=\"40\">8</td><td style=\"border:3px solid black; text-align:center;\"\n",
       "         width=\"40\" height=\"40\">2</td><td style=\"border:3px solid black; text-align:center;\"\n",
       "         width=\"40\" height=\"40\">8</td><td style=\"border:3px solid black; text-align:center;\"\n",
       "         width=\"40\" height=\"40\"></td></tr><tr><td style=\"border:3px solid black; text-align:center;\"\n",
       "         width=\"40\" height=\"40\">8</td><td style=\"border:3px solid black; text-align:center;\"\n",
       "         width=\"40\" height=\"40\">2</td><td style=\"border:3px solid black; text-align:center;\"\n",
       "         width=\"40\" height=\"40\"></td><td style=\"border:3px solid black; text-align:center;\"\n",
       "         width=\"40\" height=\"40\">2</td></tr><tr><td style=\"border:3px solid black; text-align:center;\"\n",
       "         width=\"40\" height=\"40\"></td><td style=\"border:3px solid black; text-align:center;\"\n",
       "         width=\"40\" height=\"40\"></td><td style=\"border:3px solid black; text-align:center;\"\n",
       "         width=\"40\" height=\"40\"></td><td style=\"border:3px solid black; text-align:center;\"\n",
       "         width=\"40\" height=\"40\"></td></tr><tr><td style=\"border:3px solid black; text-align:center;\"\n",
       "         width=\"40\" height=\"40\">2</td><td style=\"border:3px solid black; text-align:center;\"\n",
       "         width=\"40\" height=\"40\"></td><td style=\"border:3px solid black; text-align:center;\"\n",
       "         width=\"40\" height=\"40\"></td><td style=\"border:3px solid black; text-align:center;\"\n",
       "         width=\"40\" height=\"40\"></td></tr></table>"
      ],
      "text/plain": [
       "<IPython.core.display.HTML object>"
      ]
     },
     "metadata": {},
     "output_type": "display_data"
    },
    {
     "name": "stdout",
     "output_type": "stream",
     "text": [
      "Iter: 10\n",
      "======Direction: up======\n"
     ]
    },
    {
     "data": {
      "text/html": [
       "<h1>Score: 16</h1><table style=\"border: 5px solid black;\"><tr><td style=\"border:3px solid black; text-align:center;\"\n",
       "         width=\"40\" height=\"40\">16</td><td style=\"border:3px solid black; text-align:center;\"\n",
       "         width=\"40\" height=\"40\">4</td><td style=\"border:3px solid black; text-align:center;\"\n",
       "         width=\"40\" height=\"40\">8</td><td style=\"border:3px solid black; text-align:center;\"\n",
       "         width=\"40\" height=\"40\">2</td></tr><tr><td style=\"border:3px solid black; text-align:center;\"\n",
       "         width=\"40\" height=\"40\">2</td><td style=\"border:3px solid black; text-align:center;\"\n",
       "         width=\"40\" height=\"40\"></td><td style=\"border:3px solid black; text-align:center;\"\n",
       "         width=\"40\" height=\"40\"></td><td style=\"border:3px solid black; text-align:center;\"\n",
       "         width=\"40\" height=\"40\"></td></tr><tr><td style=\"border:3px solid black; text-align:center;\"\n",
       "         width=\"40\" height=\"40\"></td><td style=\"border:3px solid black; text-align:center;\"\n",
       "         width=\"40\" height=\"40\"></td><td style=\"border:3px solid black; text-align:center;\"\n",
       "         width=\"40\" height=\"40\"></td><td style=\"border:3px solid black; text-align:center;\"\n",
       "         width=\"40\" height=\"40\"></td></tr><tr><td style=\"border:3px solid black; text-align:center;\"\n",
       "         width=\"40\" height=\"40\">2</td><td style=\"border:3px solid black; text-align:center;\"\n",
       "         width=\"40\" height=\"40\"></td><td style=\"border:3px solid black; text-align:center;\"\n",
       "         width=\"40\" height=\"40\"></td><td style=\"border:3px solid black; text-align:center;\"\n",
       "         width=\"40\" height=\"40\"></td></tr></table>"
      ],
      "text/plain": [
       "<IPython.core.display.HTML object>"
      ]
     },
     "metadata": {},
     "output_type": "display_data"
    },
    {
     "name": "stdout",
     "output_type": "stream",
     "text": [
      "Iter: 11\n",
      "======Direction: up======\n"
     ]
    },
    {
     "data": {
      "text/html": [
       "<h1>Score: 16</h1><table style=\"border: 5px solid black;\"><tr><td style=\"border:3px solid black; text-align:center;\"\n",
       "         width=\"40\" height=\"40\">16</td><td style=\"border:3px solid black; text-align:center;\"\n",
       "         width=\"40\" height=\"40\">4</td><td style=\"border:3px solid black; text-align:center;\"\n",
       "         width=\"40\" height=\"40\">8</td><td style=\"border:3px solid black; text-align:center;\"\n",
       "         width=\"40\" height=\"40\">2</td></tr><tr><td style=\"border:3px solid black; text-align:center;\"\n",
       "         width=\"40\" height=\"40\">4</td><td style=\"border:3px solid black; text-align:center;\"\n",
       "         width=\"40\" height=\"40\"></td><td style=\"border:3px solid black; text-align:center;\"\n",
       "         width=\"40\" height=\"40\"></td><td style=\"border:3px solid black; text-align:center;\"\n",
       "         width=\"40\" height=\"40\">2</td></tr><tr><td style=\"border:3px solid black; text-align:center;\"\n",
       "         width=\"40\" height=\"40\"></td><td style=\"border:3px solid black; text-align:center;\"\n",
       "         width=\"40\" height=\"40\"></td><td style=\"border:3px solid black; text-align:center;\"\n",
       "         width=\"40\" height=\"40\"></td><td style=\"border:3px solid black; text-align:center;\"\n",
       "         width=\"40\" height=\"40\"></td></tr><tr><td style=\"border:3px solid black; text-align:center;\"\n",
       "         width=\"40\" height=\"40\"></td><td style=\"border:3px solid black; text-align:center;\"\n",
       "         width=\"40\" height=\"40\"></td><td style=\"border:3px solid black; text-align:center;\"\n",
       "         width=\"40\" height=\"40\"></td><td style=\"border:3px solid black; text-align:center;\"\n",
       "         width=\"40\" height=\"40\"></td></tr></table>"
      ],
      "text/plain": [
       "<IPython.core.display.HTML object>"
      ]
     },
     "metadata": {},
     "output_type": "display_data"
    },
    {
     "name": "stdout",
     "output_type": "stream",
     "text": [
      "Iter: 12\n",
      "======Direction: right======\n"
     ]
    },
    {
     "data": {
      "text/html": [
       "<h1>Score: 16</h1><table style=\"border: 5px solid black;\"><tr><td style=\"border:3px solid black; text-align:center;\"\n",
       "         width=\"40\" height=\"40\">16</td><td style=\"border:3px solid black; text-align:center;\"\n",
       "         width=\"40\" height=\"40\">4</td><td style=\"border:3px solid black; text-align:center;\"\n",
       "         width=\"40\" height=\"40\">8</td><td style=\"border:3px solid black; text-align:center;\"\n",
       "         width=\"40\" height=\"40\">2</td></tr><tr><td style=\"border:3px solid black; text-align:center;\"\n",
       "         width=\"40\" height=\"40\"></td><td style=\"border:3px solid black; text-align:center;\"\n",
       "         width=\"40\" height=\"40\"></td><td style=\"border:3px solid black; text-align:center;\"\n",
       "         width=\"40\" height=\"40\">4</td><td style=\"border:3px solid black; text-align:center;\"\n",
       "         width=\"40\" height=\"40\">2</td></tr><tr><td style=\"border:3px solid black; text-align:center;\"\n",
       "         width=\"40\" height=\"40\"></td><td style=\"border:3px solid black; text-align:center;\"\n",
       "         width=\"40\" height=\"40\"></td><td style=\"border:3px solid black; text-align:center;\"\n",
       "         width=\"40\" height=\"40\"></td><td style=\"border:3px solid black; text-align:center;\"\n",
       "         width=\"40\" height=\"40\"></td></tr><tr><td style=\"border:3px solid black; text-align:center;\"\n",
       "         width=\"40\" height=\"40\"></td><td style=\"border:3px solid black; text-align:center;\"\n",
       "         width=\"40\" height=\"40\">2</td><td style=\"border:3px solid black; text-align:center;\"\n",
       "         width=\"40\" height=\"40\"></td><td style=\"border:3px solid black; text-align:center;\"\n",
       "         width=\"40\" height=\"40\"></td></tr></table>"
      ],
      "text/plain": [
       "<IPython.core.display.HTML object>"
      ]
     },
     "metadata": {},
     "output_type": "display_data"
    },
    {
     "name": "stdout",
     "output_type": "stream",
     "text": [
      "Iter: 13\n",
      "======Direction: up======\n"
     ]
    },
    {
     "data": {
      "text/html": [
       "<h1>Score: 16</h1><table style=\"border: 5px solid black;\"><tr><td style=\"border:3px solid black; text-align:center;\"\n",
       "         width=\"40\" height=\"40\">16</td><td style=\"border:3px solid black; text-align:center;\"\n",
       "         width=\"40\" height=\"40\">4</td><td style=\"border:3px solid black; text-align:center;\"\n",
       "         width=\"40\" height=\"40\">8</td><td style=\"border:3px solid black; text-align:center;\"\n",
       "         width=\"40\" height=\"40\">4</td></tr><tr><td style=\"border:3px solid black; text-align:center;\"\n",
       "         width=\"40\" height=\"40\"></td><td style=\"border:3px solid black; text-align:center;\"\n",
       "         width=\"40\" height=\"40\">2</td><td style=\"border:3px solid black; text-align:center;\"\n",
       "         width=\"40\" height=\"40\">4</td><td style=\"border:3px solid black; text-align:center;\"\n",
       "         width=\"40\" height=\"40\"></td></tr><tr><td style=\"border:3px solid black; text-align:center;\"\n",
       "         width=\"40\" height=\"40\"></td><td style=\"border:3px solid black; text-align:center;\"\n",
       "         width=\"40\" height=\"40\"></td><td style=\"border:3px solid black; text-align:center;\"\n",
       "         width=\"40\" height=\"40\"></td><td style=\"border:3px solid black; text-align:center;\"\n",
       "         width=\"40\" height=\"40\"></td></tr><tr><td style=\"border:3px solid black; text-align:center;\"\n",
       "         width=\"40\" height=\"40\"></td><td style=\"border:3px solid black; text-align:center;\"\n",
       "         width=\"40\" height=\"40\"></td><td style=\"border:3px solid black; text-align:center;\"\n",
       "         width=\"40\" height=\"40\"></td><td style=\"border:3px solid black; text-align:center;\"\n",
       "         width=\"40\" height=\"40\">4</td></tr></table>"
      ],
      "text/plain": [
       "<IPython.core.display.HTML object>"
      ]
     },
     "metadata": {},
     "output_type": "display_data"
    },
    {
     "name": "stdout",
     "output_type": "stream",
     "text": [
      "Iter: 14\n",
      "======Direction: left======\n"
     ]
    },
    {
     "data": {
      "text/html": [
       "<h1>Score: 16</h1><table style=\"border: 5px solid black;\"><tr><td style=\"border:3px solid black; text-align:center;\"\n",
       "         width=\"40\" height=\"40\">16</td><td style=\"border:3px solid black; text-align:center;\"\n",
       "         width=\"40\" height=\"40\">4</td><td style=\"border:3px solid black; text-align:center;\"\n",
       "         width=\"40\" height=\"40\">8</td><td style=\"border:3px solid black; text-align:center;\"\n",
       "         width=\"40\" height=\"40\">4</td></tr><tr><td style=\"border:3px solid black; text-align:center;\"\n",
       "         width=\"40\" height=\"40\">2</td><td style=\"border:3px solid black; text-align:center;\"\n",
       "         width=\"40\" height=\"40\">4</td><td style=\"border:3px solid black; text-align:center;\"\n",
       "         width=\"40\" height=\"40\"></td><td style=\"border:3px solid black; text-align:center;\"\n",
       "         width=\"40\" height=\"40\"></td></tr><tr><td style=\"border:3px solid black; text-align:center;\"\n",
       "         width=\"40\" height=\"40\"></td><td style=\"border:3px solid black; text-align:center;\"\n",
       "         width=\"40\" height=\"40\"></td><td style=\"border:3px solid black; text-align:center;\"\n",
       "         width=\"40\" height=\"40\">4</td><td style=\"border:3px solid black; text-align:center;\"\n",
       "         width=\"40\" height=\"40\"></td></tr><tr><td style=\"border:3px solid black; text-align:center;\"\n",
       "         width=\"40\" height=\"40\">4</td><td style=\"border:3px solid black; text-align:center;\"\n",
       "         width=\"40\" height=\"40\"></td><td style=\"border:3px solid black; text-align:center;\"\n",
       "         width=\"40\" height=\"40\"></td><td style=\"border:3px solid black; text-align:center;\"\n",
       "         width=\"40\" height=\"40\"></td></tr></table>"
      ],
      "text/plain": [
       "<IPython.core.display.HTML object>"
      ]
     },
     "metadata": {},
     "output_type": "display_data"
    },
    {
     "name": "stdout",
     "output_type": "stream",
     "text": [
      "Iter: 15\n",
      "======Direction: up======\n"
     ]
    },
    {
     "data": {
      "text/html": [
       "<h1>Score: 16</h1><table style=\"border: 5px solid black;\"><tr><td style=\"border:3px solid black; text-align:center;\"\n",
       "         width=\"40\" height=\"40\">16</td><td style=\"border:3px solid black; text-align:center;\"\n",
       "         width=\"40\" height=\"40\">8</td><td style=\"border:3px solid black; text-align:center;\"\n",
       "         width=\"40\" height=\"40\">8</td><td style=\"border:3px solid black; text-align:center;\"\n",
       "         width=\"40\" height=\"40\">4</td></tr><tr><td style=\"border:3px solid black; text-align:center;\"\n",
       "         width=\"40\" height=\"40\">2</td><td style=\"border:3px solid black; text-align:center;\"\n",
       "         width=\"40\" height=\"40\"></td><td style=\"border:3px solid black; text-align:center;\"\n",
       "         width=\"40\" height=\"40\">4</td><td style=\"border:3px solid black; text-align:center;\"\n",
       "         width=\"40\" height=\"40\"></td></tr><tr><td style=\"border:3px solid black; text-align:center;\"\n",
       "         width=\"40\" height=\"40\">4</td><td style=\"border:3px solid black; text-align:center;\"\n",
       "         width=\"40\" height=\"40\"></td><td style=\"border:3px solid black; text-align:center;\"\n",
       "         width=\"40\" height=\"40\"></td><td style=\"border:3px solid black; text-align:center;\"\n",
       "         width=\"40\" height=\"40\"></td></tr><tr><td style=\"border:3px solid black; text-align:center;\"\n",
       "         width=\"40\" height=\"40\">2</td><td style=\"border:3px solid black; text-align:center;\"\n",
       "         width=\"40\" height=\"40\"></td><td style=\"border:3px solid black; text-align:center;\"\n",
       "         width=\"40\" height=\"40\"></td><td style=\"border:3px solid black; text-align:center;\"\n",
       "         width=\"40\" height=\"40\"></td></tr></table>"
      ],
      "text/plain": [
       "<IPython.core.display.HTML object>"
      ]
     },
     "metadata": {},
     "output_type": "display_data"
    },
    {
     "name": "stdout",
     "output_type": "stream",
     "text": [
      "Iter: 16\n",
      "======Direction: left======\n"
     ]
    },
    {
     "data": {
      "text/html": [
       "<h1>Score: 16</h1><table style=\"border: 5px solid black;\"><tr><td style=\"border:3px solid black; text-align:center;\"\n",
       "         width=\"40\" height=\"40\">16</td><td style=\"border:3px solid black; text-align:center;\"\n",
       "         width=\"40\" height=\"40\">16</td><td style=\"border:3px solid black; text-align:center;\"\n",
       "         width=\"40\" height=\"40\">4</td><td style=\"border:3px solid black; text-align:center;\"\n",
       "         width=\"40\" height=\"40\"></td></tr><tr><td style=\"border:3px solid black; text-align:center;\"\n",
       "         width=\"40\" height=\"40\">2</td><td style=\"border:3px solid black; text-align:center;\"\n",
       "         width=\"40\" height=\"40\">4</td><td style=\"border:3px solid black; text-align:center;\"\n",
       "         width=\"40\" height=\"40\"></td><td style=\"border:3px solid black; text-align:center;\"\n",
       "         width=\"40\" height=\"40\"></td></tr><tr><td style=\"border:3px solid black; text-align:center;\"\n",
       "         width=\"40\" height=\"40\">4</td><td style=\"border:3px solid black; text-align:center;\"\n",
       "         width=\"40\" height=\"40\"></td><td style=\"border:3px solid black; text-align:center;\"\n",
       "         width=\"40\" height=\"40\">4</td><td style=\"border:3px solid black; text-align:center;\"\n",
       "         width=\"40\" height=\"40\"></td></tr><tr><td style=\"border:3px solid black; text-align:center;\"\n",
       "         width=\"40\" height=\"40\">2</td><td style=\"border:3px solid black; text-align:center;\"\n",
       "         width=\"40\" height=\"40\"></td><td style=\"border:3px solid black; text-align:center;\"\n",
       "         width=\"40\" height=\"40\"></td><td style=\"border:3px solid black; text-align:center;\"\n",
       "         width=\"40\" height=\"40\"></td></tr></table>"
      ],
      "text/plain": [
       "<IPython.core.display.HTML object>"
      ]
     },
     "metadata": {},
     "output_type": "display_data"
    },
    {
     "name": "stdout",
     "output_type": "stream",
     "text": [
      "Iter: 17\n",
      "======Direction: left======\n"
     ]
    },
    {
     "data": {
      "text/html": [
       "<h1>Score: 32</h1><table style=\"border: 5px solid black;\"><tr><td style=\"border:3px solid black; text-align:center;\"\n",
       "         width=\"40\" height=\"40\">32</td><td style=\"border:3px solid black; text-align:center;\"\n",
       "         width=\"40\" height=\"40\">4</td><td style=\"border:3px solid black; text-align:center;\"\n",
       "         width=\"40\" height=\"40\"></td><td style=\"border:3px solid black; text-align:center;\"\n",
       "         width=\"40\" height=\"40\"></td></tr><tr><td style=\"border:3px solid black; text-align:center;\"\n",
       "         width=\"40\" height=\"40\">2</td><td style=\"border:3px solid black; text-align:center;\"\n",
       "         width=\"40\" height=\"40\">4</td><td style=\"border:3px solid black; text-align:center;\"\n",
       "         width=\"40\" height=\"40\"></td><td style=\"border:3px solid black; text-align:center;\"\n",
       "         width=\"40\" height=\"40\"></td></tr><tr><td style=\"border:3px solid black; text-align:center;\"\n",
       "         width=\"40\" height=\"40\">8</td><td style=\"border:3px solid black; text-align:center;\"\n",
       "         width=\"40\" height=\"40\"></td><td style=\"border:3px solid black; text-align:center;\"\n",
       "         width=\"40\" height=\"40\"></td><td style=\"border:3px solid black; text-align:center;\"\n",
       "         width=\"40\" height=\"40\"></td></tr><tr><td style=\"border:3px solid black; text-align:center;\"\n",
       "         width=\"40\" height=\"40\">2</td><td style=\"border:3px solid black; text-align:center;\"\n",
       "         width=\"40\" height=\"40\"></td><td style=\"border:3px solid black; text-align:center;\"\n",
       "         width=\"40\" height=\"40\"></td><td style=\"border:3px solid black; text-align:center;\"\n",
       "         width=\"40\" height=\"40\">4</td></tr></table>"
      ],
      "text/plain": [
       "<IPython.core.display.HTML object>"
      ]
     },
     "metadata": {},
     "output_type": "display_data"
    },
    {
     "name": "stdout",
     "output_type": "stream",
     "text": [
      "Iter: 18\n",
      "======Direction: left======\n"
     ]
    },
    {
     "data": {
      "text/html": [
       "<h1>Score: 32</h1><table style=\"border: 5px solid black;\"><tr><td style=\"border:3px solid black; text-align:center;\"\n",
       "         width=\"40\" height=\"40\">32</td><td style=\"border:3px solid black; text-align:center;\"\n",
       "         width=\"40\" height=\"40\">4</td><td style=\"border:3px solid black; text-align:center;\"\n",
       "         width=\"40\" height=\"40\"></td><td style=\"border:3px solid black; text-align:center;\"\n",
       "         width=\"40\" height=\"40\">2</td></tr><tr><td style=\"border:3px solid black; text-align:center;\"\n",
       "         width=\"40\" height=\"40\">2</td><td style=\"border:3px solid black; text-align:center;\"\n",
       "         width=\"40\" height=\"40\">4</td><td style=\"border:3px solid black; text-align:center;\"\n",
       "         width=\"40\" height=\"40\"></td><td style=\"border:3px solid black; text-align:center;\"\n",
       "         width=\"40\" height=\"40\"></td></tr><tr><td style=\"border:3px solid black; text-align:center;\"\n",
       "         width=\"40\" height=\"40\">8</td><td style=\"border:3px solid black; text-align:center;\"\n",
       "         width=\"40\" height=\"40\"></td><td style=\"border:3px solid black; text-align:center;\"\n",
       "         width=\"40\" height=\"40\"></td><td style=\"border:3px solid black; text-align:center;\"\n",
       "         width=\"40\" height=\"40\"></td></tr><tr><td style=\"border:3px solid black; text-align:center;\"\n",
       "         width=\"40\" height=\"40\">2</td><td style=\"border:3px solid black; text-align:center;\"\n",
       "         width=\"40\" height=\"40\">4</td><td style=\"border:3px solid black; text-align:center;\"\n",
       "         width=\"40\" height=\"40\"></td><td style=\"border:3px solid black; text-align:center;\"\n",
       "         width=\"40\" height=\"40\"></td></tr></table>"
      ],
      "text/plain": [
       "<IPython.core.display.HTML object>"
      ]
     },
     "metadata": {},
     "output_type": "display_data"
    },
    {
     "name": "stdout",
     "output_type": "stream",
     "text": [
      "Iter: 19\n",
      "======Direction: up======\n"
     ]
    },
    {
     "data": {
      "text/html": [
       "<h1>Score: 32</h1><table style=\"border: 5px solid black;\"><tr><td style=\"border:3px solid black; text-align:center;\"\n",
       "         width=\"40\" height=\"40\">32</td><td style=\"border:3px solid black; text-align:center;\"\n",
       "         width=\"40\" height=\"40\">8</td><td style=\"border:3px solid black; text-align:center;\"\n",
       "         width=\"40\" height=\"40\"></td><td style=\"border:3px solid black; text-align:center;\"\n",
       "         width=\"40\" height=\"40\">2</td></tr><tr><td style=\"border:3px solid black; text-align:center;\"\n",
       "         width=\"40\" height=\"40\">2</td><td style=\"border:3px solid black; text-align:center;\"\n",
       "         width=\"40\" height=\"40\">4</td><td style=\"border:3px solid black; text-align:center;\"\n",
       "         width=\"40\" height=\"40\"></td><td style=\"border:3px solid black; text-align:center;\"\n",
       "         width=\"40\" height=\"40\"></td></tr><tr><td style=\"border:3px solid black; text-align:center;\"\n",
       "         width=\"40\" height=\"40\">8</td><td style=\"border:3px solid black; text-align:center;\"\n",
       "         width=\"40\" height=\"40\"></td><td style=\"border:3px solid black; text-align:center;\"\n",
       "         width=\"40\" height=\"40\">4</td><td style=\"border:3px solid black; text-align:center;\"\n",
       "         width=\"40\" height=\"40\"></td></tr><tr><td style=\"border:3px solid black; text-align:center;\"\n",
       "         width=\"40\" height=\"40\">2</td><td style=\"border:3px solid black; text-align:center;\"\n",
       "         width=\"40\" height=\"40\"></td><td style=\"border:3px solid black; text-align:center;\"\n",
       "         width=\"40\" height=\"40\"></td><td style=\"border:3px solid black; text-align:center;\"\n",
       "         width=\"40\" height=\"40\"></td></tr></table>"
      ],
      "text/plain": [
       "<IPython.core.display.HTML object>"
      ]
     },
     "metadata": {},
     "output_type": "display_data"
    },
    {
     "name": "stdout",
     "output_type": "stream",
     "text": [
      "Iter: 20\n",
      "======Direction: up======\n"
     ]
    },
    {
     "data": {
      "text/html": [
       "<h1>Score: 32</h1><table style=\"border: 5px solid black;\"><tr><td style=\"border:3px solid black; text-align:center;\"\n",
       "         width=\"40\" height=\"40\">32</td><td style=\"border:3px solid black; text-align:center;\"\n",
       "         width=\"40\" height=\"40\">8</td><td style=\"border:3px solid black; text-align:center;\"\n",
       "         width=\"40\" height=\"40\">4</td><td style=\"border:3px solid black; text-align:center;\"\n",
       "         width=\"40\" height=\"40\">2</td></tr><tr><td style=\"border:3px solid black; text-align:center;\"\n",
       "         width=\"40\" height=\"40\">2</td><td style=\"border:3px solid black; text-align:center;\"\n",
       "         width=\"40\" height=\"40\">4</td><td style=\"border:3px solid black; text-align:center;\"\n",
       "         width=\"40\" height=\"40\">4</td><td style=\"border:3px solid black; text-align:center;\"\n",
       "         width=\"40\" height=\"40\"></td></tr><tr><td style=\"border:3px solid black; text-align:center;\"\n",
       "         width=\"40\" height=\"40\">8</td><td style=\"border:3px solid black; text-align:center;\"\n",
       "         width=\"40\" height=\"40\"></td><td style=\"border:3px solid black; text-align:center;\"\n",
       "         width=\"40\" height=\"40\"></td><td style=\"border:3px solid black; text-align:center;\"\n",
       "         width=\"40\" height=\"40\"></td></tr><tr><td style=\"border:3px solid black; text-align:center;\"\n",
       "         width=\"40\" height=\"40\">2</td><td style=\"border:3px solid black; text-align:center;\"\n",
       "         width=\"40\" height=\"40\"></td><td style=\"border:3px solid black; text-align:center;\"\n",
       "         width=\"40\" height=\"40\"></td><td style=\"border:3px solid black; text-align:center;\"\n",
       "         width=\"40\" height=\"40\"></td></tr></table>"
      ],
      "text/plain": [
       "<IPython.core.display.HTML object>"
      ]
     },
     "metadata": {},
     "output_type": "display_data"
    },
    {
     "name": "stdout",
     "output_type": "stream",
     "text": [
      "Iter: 21\n",
      "======Direction: up======\n"
     ]
    },
    {
     "data": {
      "text/html": [
       "<h1>Score: 32</h1><table style=\"border: 5px solid black;\"><tr><td style=\"border:3px solid black; text-align:center;\"\n",
       "         width=\"40\" height=\"40\">32</td><td style=\"border:3px solid black; text-align:center;\"\n",
       "         width=\"40\" height=\"40\">8</td><td style=\"border:3px solid black; text-align:center;\"\n",
       "         width=\"40\" height=\"40\">8</td><td style=\"border:3px solid black; text-align:center;\"\n",
       "         width=\"40\" height=\"40\">2</td></tr><tr><td style=\"border:3px solid black; text-align:center;\"\n",
       "         width=\"40\" height=\"40\">2</td><td style=\"border:3px solid black; text-align:center;\"\n",
       "         width=\"40\" height=\"40\">4</td><td style=\"border:3px solid black; text-align:center;\"\n",
       "         width=\"40\" height=\"40\"></td><td style=\"border:3px solid black; text-align:center;\"\n",
       "         width=\"40\" height=\"40\"></td></tr><tr><td style=\"border:3px solid black; text-align:center;\"\n",
       "         width=\"40\" height=\"40\">8</td><td style=\"border:3px solid black; text-align:center;\"\n",
       "         width=\"40\" height=\"40\"></td><td style=\"border:3px solid black; text-align:center;\"\n",
       "         width=\"40\" height=\"40\">2</td><td style=\"border:3px solid black; text-align:center;\"\n",
       "         width=\"40\" height=\"40\"></td></tr><tr><td style=\"border:3px solid black; text-align:center;\"\n",
       "         width=\"40\" height=\"40\">2</td><td style=\"border:3px solid black; text-align:center;\"\n",
       "         width=\"40\" height=\"40\"></td><td style=\"border:3px solid black; text-align:center;\"\n",
       "         width=\"40\" height=\"40\"></td><td style=\"border:3px solid black; text-align:center;\"\n",
       "         width=\"40\" height=\"40\"></td></tr></table>"
      ],
      "text/plain": [
       "<IPython.core.display.HTML object>"
      ]
     },
     "metadata": {},
     "output_type": "display_data"
    },
    {
     "name": "stdout",
     "output_type": "stream",
     "text": [
      "Iter: 22\n",
      "======Direction: up======\n"
     ]
    },
    {
     "data": {
      "text/html": [
       "<h1>Score: 32</h1><table style=\"border: 5px solid black;\"><tr><td style=\"border:3px solid black; text-align:center;\"\n",
       "         width=\"40\" height=\"40\">32</td><td style=\"border:3px solid black; text-align:center;\"\n",
       "         width=\"40\" height=\"40\">8</td><td style=\"border:3px solid black; text-align:center;\"\n",
       "         width=\"40\" height=\"40\">8</td><td style=\"border:3px solid black; text-align:center;\"\n",
       "         width=\"40\" height=\"40\">2</td></tr><tr><td style=\"border:3px solid black; text-align:center;\"\n",
       "         width=\"40\" height=\"40\">2</td><td style=\"border:3px solid black; text-align:center;\"\n",
       "         width=\"40\" height=\"40\">4</td><td style=\"border:3px solid black; text-align:center;\"\n",
       "         width=\"40\" height=\"40\">2</td><td style=\"border:3px solid black; text-align:center;\"\n",
       "         width=\"40\" height=\"40\"></td></tr><tr><td style=\"border:3px solid black; text-align:center;\"\n",
       "         width=\"40\" height=\"40\">8</td><td style=\"border:3px solid black; text-align:center;\"\n",
       "         width=\"40\" height=\"40\"></td><td style=\"border:3px solid black; text-align:center;\"\n",
       "         width=\"40\" height=\"40\"></td><td style=\"border:3px solid black; text-align:center;\"\n",
       "         width=\"40\" height=\"40\"></td></tr><tr><td style=\"border:3px solid black; text-align:center;\"\n",
       "         width=\"40\" height=\"40\">2</td><td style=\"border:3px solid black; text-align:center;\"\n",
       "         width=\"40\" height=\"40\"></td><td style=\"border:3px solid black; text-align:center;\"\n",
       "         width=\"40\" height=\"40\">2</td><td style=\"border:3px solid black; text-align:center;\"\n",
       "         width=\"40\" height=\"40\"></td></tr></table>"
      ],
      "text/plain": [
       "<IPython.core.display.HTML object>"
      ]
     },
     "metadata": {},
     "output_type": "display_data"
    },
    {
     "name": "stdout",
     "output_type": "stream",
     "text": [
      "Iter: 23\n",
      "======Direction: left======\n"
     ]
    },
    {
     "data": {
      "text/html": [
       "<h1>Score: 32</h1><table style=\"border: 5px solid black;\"><tr><td style=\"border:3px solid black; text-align:center;\"\n",
       "         width=\"40\" height=\"40\">32</td><td style=\"border:3px solid black; text-align:center;\"\n",
       "         width=\"40\" height=\"40\">16</td><td style=\"border:3px solid black; text-align:center;\"\n",
       "         width=\"40\" height=\"40\">2</td><td style=\"border:3px solid black; text-align:center;\"\n",
       "         width=\"40\" height=\"40\"></td></tr><tr><td style=\"border:3px solid black; text-align:center;\"\n",
       "         width=\"40\" height=\"40\">2</td><td style=\"border:3px solid black; text-align:center;\"\n",
       "         width=\"40\" height=\"40\">4</td><td style=\"border:3px solid black; text-align:center;\"\n",
       "         width=\"40\" height=\"40\">2</td><td style=\"border:3px solid black; text-align:center;\"\n",
       "         width=\"40\" height=\"40\"></td></tr><tr><td style=\"border:3px solid black; text-align:center;\"\n",
       "         width=\"40\" height=\"40\">8</td><td style=\"border:3px solid black; text-align:center;\"\n",
       "         width=\"40\" height=\"40\"></td><td style=\"border:3px solid black; text-align:center;\"\n",
       "         width=\"40\" height=\"40\"></td><td style=\"border:3px solid black; text-align:center;\"\n",
       "         width=\"40\" height=\"40\"></td></tr><tr><td style=\"border:3px solid black; text-align:center;\"\n",
       "         width=\"40\" height=\"40\">4</td><td style=\"border:3px solid black; text-align:center;\"\n",
       "         width=\"40\" height=\"40\">2</td><td style=\"border:3px solid black; text-align:center;\"\n",
       "         width=\"40\" height=\"40\"></td><td style=\"border:3px solid black; text-align:center;\"\n",
       "         width=\"40\" height=\"40\"></td></tr></table>"
      ],
      "text/plain": [
       "<IPython.core.display.HTML object>"
      ]
     },
     "metadata": {},
     "output_type": "display_data"
    },
    {
     "name": "stdout",
     "output_type": "stream",
     "text": [
      "Iter: 24\n",
      "======Direction: up======\n"
     ]
    },
    {
     "data": {
      "text/html": [
       "<h1>Score: 32</h1><table style=\"border: 5px solid black;\"><tr><td style=\"border:3px solid black; text-align:center;\"\n",
       "         width=\"40\" height=\"40\">32</td><td style=\"border:3px solid black; text-align:center;\"\n",
       "         width=\"40\" height=\"40\">16</td><td style=\"border:3px solid black; text-align:center;\"\n",
       "         width=\"40\" height=\"40\">4</td><td style=\"border:3px solid black; text-align:center;\"\n",
       "         width=\"40\" height=\"40\"></td></tr><tr><td style=\"border:3px solid black; text-align:center;\"\n",
       "         width=\"40\" height=\"40\">2</td><td style=\"border:3px solid black; text-align:center;\"\n",
       "         width=\"40\" height=\"40\">4</td><td style=\"border:3px solid black; text-align:center;\"\n",
       "         width=\"40\" height=\"40\"></td><td style=\"border:3px solid black; text-align:center;\"\n",
       "         width=\"40\" height=\"40\"></td></tr><tr><td style=\"border:3px solid black; text-align:center;\"\n",
       "         width=\"40\" height=\"40\">8</td><td style=\"border:3px solid black; text-align:center;\"\n",
       "         width=\"40\" height=\"40\">2</td><td style=\"border:3px solid black; text-align:center;\"\n",
       "         width=\"40\" height=\"40\"></td><td style=\"border:3px solid black; text-align:center;\"\n",
       "         width=\"40\" height=\"40\">2</td></tr><tr><td style=\"border:3px solid black; text-align:center;\"\n",
       "         width=\"40\" height=\"40\">4</td><td style=\"border:3px solid black; text-align:center;\"\n",
       "         width=\"40\" height=\"40\"></td><td style=\"border:3px solid black; text-align:center;\"\n",
       "         width=\"40\" height=\"40\"></td><td style=\"border:3px solid black; text-align:center;\"\n",
       "         width=\"40\" height=\"40\"></td></tr></table>"
      ],
      "text/plain": [
       "<IPython.core.display.HTML object>"
      ]
     },
     "metadata": {},
     "output_type": "display_data"
    },
    {
     "name": "stdout",
     "output_type": "stream",
     "text": [
      "Iter: 25\n",
      "======Direction: up======\n"
     ]
    },
    {
     "data": {
      "text/html": [
       "<h1>Score: 32</h1><table style=\"border: 5px solid black;\"><tr><td style=\"border:3px solid black; text-align:center;\"\n",
       "         width=\"40\" height=\"40\">32</td><td style=\"border:3px solid black; text-align:center;\"\n",
       "         width=\"40\" height=\"40\">16</td><td style=\"border:3px solid black; text-align:center;\"\n",
       "         width=\"40\" height=\"40\">4</td><td style=\"border:3px solid black; text-align:center;\"\n",
       "         width=\"40\" height=\"40\">2</td></tr><tr><td style=\"border:3px solid black; text-align:center;\"\n",
       "         width=\"40\" height=\"40\">2</td><td style=\"border:3px solid black; text-align:center;\"\n",
       "         width=\"40\" height=\"40\">4</td><td style=\"border:3px solid black; text-align:center;\"\n",
       "         width=\"40\" height=\"40\"></td><td style=\"border:3px solid black; text-align:center;\"\n",
       "         width=\"40\" height=\"40\"></td></tr><tr><td style=\"border:3px solid black; text-align:center;\"\n",
       "         width=\"40\" height=\"40\">8</td><td style=\"border:3px solid black; text-align:center;\"\n",
       "         width=\"40\" height=\"40\">2</td><td style=\"border:3px solid black; text-align:center;\"\n",
       "         width=\"40\" height=\"40\"></td><td style=\"border:3px solid black; text-align:center;\"\n",
       "         width=\"40\" height=\"40\"></td></tr><tr><td style=\"border:3px solid black; text-align:center;\"\n",
       "         width=\"40\" height=\"40\">4</td><td style=\"border:3px solid black; text-align:center;\"\n",
       "         width=\"40\" height=\"40\">2</td><td style=\"border:3px solid black; text-align:center;\"\n",
       "         width=\"40\" height=\"40\"></td><td style=\"border:3px solid black; text-align:center;\"\n",
       "         width=\"40\" height=\"40\"></td></tr></table>"
      ],
      "text/plain": [
       "<IPython.core.display.HTML object>"
      ]
     },
     "metadata": {},
     "output_type": "display_data"
    },
    {
     "name": "stdout",
     "output_type": "stream",
     "text": [
      "Iter: 26\n",
      "======Direction: up======\n"
     ]
    },
    {
     "data": {
      "text/html": [
       "<h1>Score: 32</h1><table style=\"border: 5px solid black;\"><tr><td style=\"border:3px solid black; text-align:center;\"\n",
       "         width=\"40\" height=\"40\">32</td><td style=\"border:3px solid black; text-align:center;\"\n",
       "         width=\"40\" height=\"40\">16</td><td style=\"border:3px solid black; text-align:center;\"\n",
       "         width=\"40\" height=\"40\">4</td><td style=\"border:3px solid black; text-align:center;\"\n",
       "         width=\"40\" height=\"40\">2</td></tr><tr><td style=\"border:3px solid black; text-align:center;\"\n",
       "         width=\"40\" height=\"40\">2</td><td style=\"border:3px solid black; text-align:center;\"\n",
       "         width=\"40\" height=\"40\">4</td><td style=\"border:3px solid black; text-align:center;\"\n",
       "         width=\"40\" height=\"40\"></td><td style=\"border:3px solid black; text-align:center;\"\n",
       "         width=\"40\" height=\"40\"></td></tr><tr><td style=\"border:3px solid black; text-align:center;\"\n",
       "         width=\"40\" height=\"40\">8</td><td style=\"border:3px solid black; text-align:center;\"\n",
       "         width=\"40\" height=\"40\">4</td><td style=\"border:3px solid black; text-align:center;\"\n",
       "         width=\"40\" height=\"40\"></td><td style=\"border:3px solid black; text-align:center;\"\n",
       "         width=\"40\" height=\"40\">4</td></tr><tr><td style=\"border:3px solid black; text-align:center;\"\n",
       "         width=\"40\" height=\"40\">4</td><td style=\"border:3px solid black; text-align:center;\"\n",
       "         width=\"40\" height=\"40\"></td><td style=\"border:3px solid black; text-align:center;\"\n",
       "         width=\"40\" height=\"40\"></td><td style=\"border:3px solid black; text-align:center;\"\n",
       "         width=\"40\" height=\"40\"></td></tr></table>"
      ],
      "text/plain": [
       "<IPython.core.display.HTML object>"
      ]
     },
     "metadata": {},
     "output_type": "display_data"
    },
    {
     "name": "stdout",
     "output_type": "stream",
     "text": [
      "Iter: 27\n",
      "======Direction: up======\n"
     ]
    },
    {
     "data": {
      "text/html": [
       "<h1>Score: 32</h1><table style=\"border: 5px solid black;\"><tr><td style=\"border:3px solid black; text-align:center;\"\n",
       "         width=\"40\" height=\"40\">32</td><td style=\"border:3px solid black; text-align:center;\"\n",
       "         width=\"40\" height=\"40\">16</td><td style=\"border:3px solid black; text-align:center;\"\n",
       "         width=\"40\" height=\"40\">4</td><td style=\"border:3px solid black; text-align:center;\"\n",
       "         width=\"40\" height=\"40\">2</td></tr><tr><td style=\"border:3px solid black; text-align:center;\"\n",
       "         width=\"40\" height=\"40\">2</td><td style=\"border:3px solid black; text-align:center;\"\n",
       "         width=\"40\" height=\"40\">8</td><td style=\"border:3px solid black; text-align:center;\"\n",
       "         width=\"40\" height=\"40\"></td><td style=\"border:3px solid black; text-align:center;\"\n",
       "         width=\"40\" height=\"40\">4</td></tr><tr><td style=\"border:3px solid black; text-align:center;\"\n",
       "         width=\"40\" height=\"40\">8</td><td style=\"border:3px solid black; text-align:center;\"\n",
       "         width=\"40\" height=\"40\"></td><td style=\"border:3px solid black; text-align:center;\"\n",
       "         width=\"40\" height=\"40\"></td><td style=\"border:3px solid black; text-align:center;\"\n",
       "         width=\"40\" height=\"40\"></td></tr><tr><td style=\"border:3px solid black; text-align:center;\"\n",
       "         width=\"40\" height=\"40\">4</td><td style=\"border:3px solid black; text-align:center;\"\n",
       "         width=\"40\" height=\"40\"></td><td style=\"border:3px solid black; text-align:center;\"\n",
       "         width=\"40\" height=\"40\">4</td><td style=\"border:3px solid black; text-align:center;\"\n",
       "         width=\"40\" height=\"40\"></td></tr></table>"
      ],
      "text/plain": [
       "<IPython.core.display.HTML object>"
      ]
     },
     "metadata": {},
     "output_type": "display_data"
    },
    {
     "name": "stdout",
     "output_type": "stream",
     "text": [
      "Iter: 28\n",
      "======Direction: left======\n"
     ]
    },
    {
     "data": {
      "text/html": [
       "<h1>Score: 32</h1><table style=\"border: 5px solid black;\"><tr><td style=\"border:3px solid black; text-align:center;\"\n",
       "         width=\"40\" height=\"40\">32</td><td style=\"border:3px solid black; text-align:center;\"\n",
       "         width=\"40\" height=\"40\">16</td><td style=\"border:3px solid black; text-align:center;\"\n",
       "         width=\"40\" height=\"40\">4</td><td style=\"border:3px solid black; text-align:center;\"\n",
       "         width=\"40\" height=\"40\">2</td></tr><tr><td style=\"border:3px solid black; text-align:center;\"\n",
       "         width=\"40\" height=\"40\">2</td><td style=\"border:3px solid black; text-align:center;\"\n",
       "         width=\"40\" height=\"40\">8</td><td style=\"border:3px solid black; text-align:center;\"\n",
       "         width=\"40\" height=\"40\">4</td><td style=\"border:3px solid black; text-align:center;\"\n",
       "         width=\"40\" height=\"40\">2</td></tr><tr><td style=\"border:3px solid black; text-align:center;\"\n",
       "         width=\"40\" height=\"40\">8</td><td style=\"border:3px solid black; text-align:center;\"\n",
       "         width=\"40\" height=\"40\"></td><td style=\"border:3px solid black; text-align:center;\"\n",
       "         width=\"40\" height=\"40\"></td><td style=\"border:3px solid black; text-align:center;\"\n",
       "         width=\"40\" height=\"40\"></td></tr><tr><td style=\"border:3px solid black; text-align:center;\"\n",
       "         width=\"40\" height=\"40\">8</td><td style=\"border:3px solid black; text-align:center;\"\n",
       "         width=\"40\" height=\"40\"></td><td style=\"border:3px solid black; text-align:center;\"\n",
       "         width=\"40\" height=\"40\"></td><td style=\"border:3px solid black; text-align:center;\"\n",
       "         width=\"40\" height=\"40\"></td></tr></table>"
      ],
      "text/plain": [
       "<IPython.core.display.HTML object>"
      ]
     },
     "metadata": {},
     "output_type": "display_data"
    },
    {
     "name": "stdout",
     "output_type": "stream",
     "text": [
      "Iter: 29\n",
      "======Direction: up======\n"
     ]
    },
    {
     "data": {
      "text/html": [
       "<h1>Score: 32</h1><table style=\"border: 5px solid black;\"><tr><td style=\"border:3px solid black; text-align:center;\"\n",
       "         width=\"40\" height=\"40\">32</td><td style=\"border:3px solid black; text-align:center;\"\n",
       "         width=\"40\" height=\"40\">16</td><td style=\"border:3px solid black; text-align:center;\"\n",
       "         width=\"40\" height=\"40\">8</td><td style=\"border:3px solid black; text-align:center;\"\n",
       "         width=\"40\" height=\"40\">4</td></tr><tr><td style=\"border:3px solid black; text-align:center;\"\n",
       "         width=\"40\" height=\"40\">2</td><td style=\"border:3px solid black; text-align:center;\"\n",
       "         width=\"40\" height=\"40\">8</td><td style=\"border:3px solid black; text-align:center;\"\n",
       "         width=\"40\" height=\"40\">2</td><td style=\"border:3px solid black; text-align:center;\"\n",
       "         width=\"40\" height=\"40\"></td></tr><tr><td style=\"border:3px solid black; text-align:center;\"\n",
       "         width=\"40\" height=\"40\">16</td><td style=\"border:3px solid black; text-align:center;\"\n",
       "         width=\"40\" height=\"40\"></td><td style=\"border:3px solid black; text-align:center;\"\n",
       "         width=\"40\" height=\"40\"></td><td style=\"border:3px solid black; text-align:center;\"\n",
       "         width=\"40\" height=\"40\"></td></tr><tr><td style=\"border:3px solid black; text-align:center;\"\n",
       "         width=\"40\" height=\"40\"></td><td style=\"border:3px solid black; text-align:center;\"\n",
       "         width=\"40\" height=\"40\"></td><td style=\"border:3px solid black; text-align:center;\"\n",
       "         width=\"40\" height=\"40\"></td><td style=\"border:3px solid black; text-align:center;\"\n",
       "         width=\"40\" height=\"40\"></td></tr></table>"
      ],
      "text/plain": [
       "<IPython.core.display.HTML object>"
      ]
     },
     "metadata": {},
     "output_type": "display_data"
    },
    {
     "name": "stdout",
     "output_type": "stream",
     "text": [
      "Iter: 30\n",
      "======Direction: up======\n"
     ]
    },
    {
     "data": {
      "text/html": [
       "<h1>Score: 32</h1><table style=\"border: 5px solid black;\"><tr><td style=\"border:3px solid black; text-align:center;\"\n",
       "         width=\"40\" height=\"40\">32</td><td style=\"border:3px solid black; text-align:center;\"\n",
       "         width=\"40\" height=\"40\">16</td><td style=\"border:3px solid black; text-align:center;\"\n",
       "         width=\"40\" height=\"40\">8</td><td style=\"border:3px solid black; text-align:center;\"\n",
       "         width=\"40\" height=\"40\">4</td></tr><tr><td style=\"border:3px solid black; text-align:center;\"\n",
       "         width=\"40\" height=\"40\">2</td><td style=\"border:3px solid black; text-align:center;\"\n",
       "         width=\"40\" height=\"40\">8</td><td style=\"border:3px solid black; text-align:center;\"\n",
       "         width=\"40\" height=\"40\">2</td><td style=\"border:3px solid black; text-align:center;\"\n",
       "         width=\"40\" height=\"40\"></td></tr><tr><td style=\"border:3px solid black; text-align:center;\"\n",
       "         width=\"40\" height=\"40\">16</td><td style=\"border:3px solid black; text-align:center;\"\n",
       "         width=\"40\" height=\"40\">4</td><td style=\"border:3px solid black; text-align:center;\"\n",
       "         width=\"40\" height=\"40\"></td><td style=\"border:3px solid black; text-align:center;\"\n",
       "         width=\"40\" height=\"40\"></td></tr><tr><td style=\"border:3px solid black; text-align:center;\"\n",
       "         width=\"40\" height=\"40\"></td><td style=\"border:3px solid black; text-align:center;\"\n",
       "         width=\"40\" height=\"40\"></td><td style=\"border:3px solid black; text-align:center;\"\n",
       "         width=\"40\" height=\"40\"></td><td style=\"border:3px solid black; text-align:center;\"\n",
       "         width=\"40\" height=\"40\"></td></tr></table>"
      ],
      "text/plain": [
       "<IPython.core.display.HTML object>"
      ]
     },
     "metadata": {},
     "output_type": "display_data"
    },
    {
     "name": "stdout",
     "output_type": "stream",
     "text": [
      "Iter: 31\n",
      "======Direction: up======\n"
     ]
    },
    {
     "data": {
      "text/html": [
       "<h1>Score: 32</h1><table style=\"border: 5px solid black;\"><tr><td style=\"border:3px solid black; text-align:center;\"\n",
       "         width=\"40\" height=\"40\">32</td><td style=\"border:3px solid black; text-align:center;\"\n",
       "         width=\"40\" height=\"40\">16</td><td style=\"border:3px solid black; text-align:center;\"\n",
       "         width=\"40\" height=\"40\">8</td><td style=\"border:3px solid black; text-align:center;\"\n",
       "         width=\"40\" height=\"40\">4</td></tr><tr><td style=\"border:3px solid black; text-align:center;\"\n",
       "         width=\"40\" height=\"40\">2</td><td style=\"border:3px solid black; text-align:center;\"\n",
       "         width=\"40\" height=\"40\">8</td><td style=\"border:3px solid black; text-align:center;\"\n",
       "         width=\"40\" height=\"40\">2</td><td style=\"border:3px solid black; text-align:center;\"\n",
       "         width=\"40\" height=\"40\"></td></tr><tr><td style=\"border:3px solid black; text-align:center;\"\n",
       "         width=\"40\" height=\"40\">16</td><td style=\"border:3px solid black; text-align:center;\"\n",
       "         width=\"40\" height=\"40\">4</td><td style=\"border:3px solid black; text-align:center;\"\n",
       "         width=\"40\" height=\"40\"></td><td style=\"border:3px solid black; text-align:center;\"\n",
       "         width=\"40\" height=\"40\"></td></tr><tr><td style=\"border:3px solid black; text-align:center;\"\n",
       "         width=\"40\" height=\"40\"></td><td style=\"border:3px solid black; text-align:center;\"\n",
       "         width=\"40\" height=\"40\">4</td><td style=\"border:3px solid black; text-align:center;\"\n",
       "         width=\"40\" height=\"40\"></td><td style=\"border:3px solid black; text-align:center;\"\n",
       "         width=\"40\" height=\"40\"></td></tr></table>"
      ],
      "text/plain": [
       "<IPython.core.display.HTML object>"
      ]
     },
     "metadata": {},
     "output_type": "display_data"
    },
    {
     "name": "stdout",
     "output_type": "stream",
     "text": [
      "Iter: 32\n",
      "======Direction: left======\n"
     ]
    },
    {
     "data": {
      "text/html": [
       "<h1>Score: 32</h1><table style=\"border: 5px solid black;\"><tr><td style=\"border:3px solid black; text-align:center;\"\n",
       "         width=\"40\" height=\"40\">32</td><td style=\"border:3px solid black; text-align:center;\"\n",
       "         width=\"40\" height=\"40\">16</td><td style=\"border:3px solid black; text-align:center;\"\n",
       "         width=\"40\" height=\"40\">8</td><td style=\"border:3px solid black; text-align:center;\"\n",
       "         width=\"40\" height=\"40\">4</td></tr><tr><td style=\"border:3px solid black; text-align:center;\"\n",
       "         width=\"40\" height=\"40\">2</td><td style=\"border:3px solid black; text-align:center;\"\n",
       "         width=\"40\" height=\"40\">8</td><td style=\"border:3px solid black; text-align:center;\"\n",
       "         width=\"40\" height=\"40\">2</td><td style=\"border:3px solid black; text-align:center;\"\n",
       "         width=\"40\" height=\"40\"></td></tr><tr><td style=\"border:3px solid black; text-align:center;\"\n",
       "         width=\"40\" height=\"40\">16</td><td style=\"border:3px solid black; text-align:center;\"\n",
       "         width=\"40\" height=\"40\">4</td><td style=\"border:3px solid black; text-align:center;\"\n",
       "         width=\"40\" height=\"40\"></td><td style=\"border:3px solid black; text-align:center;\"\n",
       "         width=\"40\" height=\"40\"></td></tr><tr><td style=\"border:3px solid black; text-align:center;\"\n",
       "         width=\"40\" height=\"40\">4</td><td style=\"border:3px solid black; text-align:center;\"\n",
       "         width=\"40\" height=\"40\"></td><td style=\"border:3px solid black; text-align:center;\"\n",
       "         width=\"40\" height=\"40\"></td><td style=\"border:3px solid black; text-align:center;\"\n",
       "         width=\"40\" height=\"40\">4</td></tr></table>"
      ],
      "text/plain": [
       "<IPython.core.display.HTML object>"
      ]
     },
     "metadata": {},
     "output_type": "display_data"
    },
    {
     "name": "stdout",
     "output_type": "stream",
     "text": [
      "Iter: 33\n",
      "======Direction: left======\n"
     ]
    },
    {
     "data": {
      "text/html": [
       "<h1>Score: 32</h1><table style=\"border: 5px solid black;\"><tr><td style=\"border:3px solid black; text-align:center;\"\n",
       "         width=\"40\" height=\"40\">32</td><td style=\"border:3px solid black; text-align:center;\"\n",
       "         width=\"40\" height=\"40\">16</td><td style=\"border:3px solid black; text-align:center;\"\n",
       "         width=\"40\" height=\"40\">8</td><td style=\"border:3px solid black; text-align:center;\"\n",
       "         width=\"40\" height=\"40\">4</td></tr><tr><td style=\"border:3px solid black; text-align:center;\"\n",
       "         width=\"40\" height=\"40\">2</td><td style=\"border:3px solid black; text-align:center;\"\n",
       "         width=\"40\" height=\"40\">8</td><td style=\"border:3px solid black; text-align:center;\"\n",
       "         width=\"40\" height=\"40\">2</td><td style=\"border:3px solid black; text-align:center;\"\n",
       "         width=\"40\" height=\"40\"></td></tr><tr><td style=\"border:3px solid black; text-align:center;\"\n",
       "         width=\"40\" height=\"40\">16</td><td style=\"border:3px solid black; text-align:center;\"\n",
       "         width=\"40\" height=\"40\">4</td><td style=\"border:3px solid black; text-align:center;\"\n",
       "         width=\"40\" height=\"40\">2</td><td style=\"border:3px solid black; text-align:center;\"\n",
       "         width=\"40\" height=\"40\"></td></tr><tr><td style=\"border:3px solid black; text-align:center;\"\n",
       "         width=\"40\" height=\"40\">8</td><td style=\"border:3px solid black; text-align:center;\"\n",
       "         width=\"40\" height=\"40\"></td><td style=\"border:3px solid black; text-align:center;\"\n",
       "         width=\"40\" height=\"40\"></td><td style=\"border:3px solid black; text-align:center;\"\n",
       "         width=\"40\" height=\"40\"></td></tr></table>"
      ],
      "text/plain": [
       "<IPython.core.display.HTML object>"
      ]
     },
     "metadata": {},
     "output_type": "display_data"
    },
    {
     "name": "stdout",
     "output_type": "stream",
     "text": [
      "Iter: 34\n",
      "======Direction: up======\n"
     ]
    },
    {
     "data": {
      "text/html": [
       "<h1>Score: 32</h1><table style=\"border: 5px solid black;\"><tr><td style=\"border:3px solid black; text-align:center;\"\n",
       "         width=\"40\" height=\"40\">32</td><td style=\"border:3px solid black; text-align:center;\"\n",
       "         width=\"40\" height=\"40\">16</td><td style=\"border:3px solid black; text-align:center;\"\n",
       "         width=\"40\" height=\"40\">8</td><td style=\"border:3px solid black; text-align:center;\"\n",
       "         width=\"40\" height=\"40\">4</td></tr><tr><td style=\"border:3px solid black; text-align:center;\"\n",
       "         width=\"40\" height=\"40\">2</td><td style=\"border:3px solid black; text-align:center;\"\n",
       "         width=\"40\" height=\"40\">8</td><td style=\"border:3px solid black; text-align:center;\"\n",
       "         width=\"40\" height=\"40\">4</td><td style=\"border:3px solid black; text-align:center;\"\n",
       "         width=\"40\" height=\"40\"></td></tr><tr><td style=\"border:3px solid black; text-align:center;\"\n",
       "         width=\"40\" height=\"40\">16</td><td style=\"border:3px solid black; text-align:center;\"\n",
       "         width=\"40\" height=\"40\">4</td><td style=\"border:3px solid black; text-align:center;\"\n",
       "         width=\"40\" height=\"40\"></td><td style=\"border:3px solid black; text-align:center;\"\n",
       "         width=\"40\" height=\"40\"></td></tr><tr><td style=\"border:3px solid black; text-align:center;\"\n",
       "         width=\"40\" height=\"40\">8</td><td style=\"border:3px solid black; text-align:center;\"\n",
       "         width=\"40\" height=\"40\">2</td><td style=\"border:3px solid black; text-align:center;\"\n",
       "         width=\"40\" height=\"40\"></td><td style=\"border:3px solid black; text-align:center;\"\n",
       "         width=\"40\" height=\"40\"></td></tr></table>"
      ],
      "text/plain": [
       "<IPython.core.display.HTML object>"
      ]
     },
     "metadata": {},
     "output_type": "display_data"
    },
    {
     "name": "stdout",
     "output_type": "stream",
     "text": [
      "Iter: 35\n",
      "======Direction: right======\n"
     ]
    },
    {
     "data": {
      "text/html": [
       "<h1>Score: 32</h1><table style=\"border: 5px solid black;\"><tr><td style=\"border:3px solid black; text-align:center;\"\n",
       "         width=\"40\" height=\"40\">32</td><td style=\"border:3px solid black; text-align:center;\"\n",
       "         width=\"40\" height=\"40\">16</td><td style=\"border:3px solid black; text-align:center;\"\n",
       "         width=\"40\" height=\"40\">8</td><td style=\"border:3px solid black; text-align:center;\"\n",
       "         width=\"40\" height=\"40\">4</td></tr><tr><td style=\"border:3px solid black; text-align:center;\"\n",
       "         width=\"40\" height=\"40\"></td><td style=\"border:3px solid black; text-align:center;\"\n",
       "         width=\"40\" height=\"40\">2</td><td style=\"border:3px solid black; text-align:center;\"\n",
       "         width=\"40\" height=\"40\">8</td><td style=\"border:3px solid black; text-align:center;\"\n",
       "         width=\"40\" height=\"40\">4</td></tr><tr><td style=\"border:3px solid black; text-align:center;\"\n",
       "         width=\"40\" height=\"40\"></td><td style=\"border:3px solid black; text-align:center;\"\n",
       "         width=\"40\" height=\"40\">4</td><td style=\"border:3px solid black; text-align:center;\"\n",
       "         width=\"40\" height=\"40\">16</td><td style=\"border:3px solid black; text-align:center;\"\n",
       "         width=\"40\" height=\"40\">4</td></tr><tr><td style=\"border:3px solid black; text-align:center;\"\n",
       "         width=\"40\" height=\"40\"></td><td style=\"border:3px solid black; text-align:center;\"\n",
       "         width=\"40\" height=\"40\"></td><td style=\"border:3px solid black; text-align:center;\"\n",
       "         width=\"40\" height=\"40\">8</td><td style=\"border:3px solid black; text-align:center;\"\n",
       "         width=\"40\" height=\"40\">2</td></tr></table>"
      ],
      "text/plain": [
       "<IPython.core.display.HTML object>"
      ]
     },
     "metadata": {},
     "output_type": "display_data"
    },
    {
     "name": "stdout",
     "output_type": "stream",
     "text": [
      "Iter: 36\n",
      "======Direction: up======\n"
     ]
    },
    {
     "data": {
      "text/html": [
       "<h1>Score: 32</h1><table style=\"border: 5px solid black;\"><tr><td style=\"border:3px solid black; text-align:center;\"\n",
       "         width=\"40\" height=\"40\">32</td><td style=\"border:3px solid black; text-align:center;\"\n",
       "         width=\"40\" height=\"40\">16</td><td style=\"border:3px solid black; text-align:center;\"\n",
       "         width=\"40\" height=\"40\">16</td><td style=\"border:3px solid black; text-align:center;\"\n",
       "         width=\"40\" height=\"40\">8</td></tr><tr><td style=\"border:3px solid black; text-align:center;\"\n",
       "         width=\"40\" height=\"40\"></td><td style=\"border:3px solid black; text-align:center;\"\n",
       "         width=\"40\" height=\"40\">2</td><td style=\"border:3px solid black; text-align:center;\"\n",
       "         width=\"40\" height=\"40\">16</td><td style=\"border:3px solid black; text-align:center;\"\n",
       "         width=\"40\" height=\"40\">4</td></tr><tr><td style=\"border:3px solid black; text-align:center;\"\n",
       "         width=\"40\" height=\"40\"></td><td style=\"border:3px solid black; text-align:center;\"\n",
       "         width=\"40\" height=\"40\">4</td><td style=\"border:3px solid black; text-align:center;\"\n",
       "         width=\"40\" height=\"40\">8</td><td style=\"border:3px solid black; text-align:center;\"\n",
       "         width=\"40\" height=\"40\">2</td></tr><tr><td style=\"border:3px solid black; text-align:center;\"\n",
       "         width=\"40\" height=\"40\">2</td><td style=\"border:3px solid black; text-align:center;\"\n",
       "         width=\"40\" height=\"40\"></td><td style=\"border:3px solid black; text-align:center;\"\n",
       "         width=\"40\" height=\"40\"></td><td style=\"border:3px solid black; text-align:center;\"\n",
       "         width=\"40\" height=\"40\"></td></tr></table>"
      ],
      "text/plain": [
       "<IPython.core.display.HTML object>"
      ]
     },
     "metadata": {},
     "output_type": "display_data"
    },
    {
     "name": "stdout",
     "output_type": "stream",
     "text": [
      "Iter: 37\n",
      "======Direction: left======\n"
     ]
    },
    {
     "data": {
      "text/html": [
       "<h1>Score: 32</h1><table style=\"border: 5px solid black;\"><tr><td style=\"border:3px solid black; text-align:center;\"\n",
       "         width=\"40\" height=\"40\">32</td><td style=\"border:3px solid black; text-align:center;\"\n",
       "         width=\"40\" height=\"40\">32</td><td style=\"border:3px solid black; text-align:center;\"\n",
       "         width=\"40\" height=\"40\">8</td><td style=\"border:3px solid black; text-align:center;\"\n",
       "         width=\"40\" height=\"40\"></td></tr><tr><td style=\"border:3px solid black; text-align:center;\"\n",
       "         width=\"40\" height=\"40\">2</td><td style=\"border:3px solid black; text-align:center;\"\n",
       "         width=\"40\" height=\"40\">16</td><td style=\"border:3px solid black; text-align:center;\"\n",
       "         width=\"40\" height=\"40\">4</td><td style=\"border:3px solid black; text-align:center;\"\n",
       "         width=\"40\" height=\"40\"></td></tr><tr><td style=\"border:3px solid black; text-align:center;\"\n",
       "         width=\"40\" height=\"40\">4</td><td style=\"border:3px solid black; text-align:center;\"\n",
       "         width=\"40\" height=\"40\">8</td><td style=\"border:3px solid black; text-align:center;\"\n",
       "         width=\"40\" height=\"40\">2</td><td style=\"border:3px solid black; text-align:center;\"\n",
       "         width=\"40\" height=\"40\">4</td></tr><tr><td style=\"border:3px solid black; text-align:center;\"\n",
       "         width=\"40\" height=\"40\">2</td><td style=\"border:3px solid black; text-align:center;\"\n",
       "         width=\"40\" height=\"40\"></td><td style=\"border:3px solid black; text-align:center;\"\n",
       "         width=\"40\" height=\"40\"></td><td style=\"border:3px solid black; text-align:center;\"\n",
       "         width=\"40\" height=\"40\"></td></tr></table>"
      ],
      "text/plain": [
       "<IPython.core.display.HTML object>"
      ]
     },
     "metadata": {},
     "output_type": "display_data"
    },
    {
     "name": "stdout",
     "output_type": "stream",
     "text": [
      "Iter: 38\n",
      "======Direction: left======\n"
     ]
    },
    {
     "data": {
      "text/html": [
       "<h1>Score: 64</h1><table style=\"border: 5px solid black;\"><tr><td style=\"border:3px solid black; text-align:center;\"\n",
       "         width=\"40\" height=\"40\">64</td><td style=\"border:3px solid black; text-align:center;\"\n",
       "         width=\"40\" height=\"40\">8</td><td style=\"border:3px solid black; text-align:center;\"\n",
       "         width=\"40\" height=\"40\"></td><td style=\"border:3px solid black; text-align:center;\"\n",
       "         width=\"40\" height=\"40\"></td></tr><tr><td style=\"border:3px solid black; text-align:center;\"\n",
       "         width=\"40\" height=\"40\">2</td><td style=\"border:3px solid black; text-align:center;\"\n",
       "         width=\"40\" height=\"40\">16</td><td style=\"border:3px solid black; text-align:center;\"\n",
       "         width=\"40\" height=\"40\">4</td><td style=\"border:3px solid black; text-align:center;\"\n",
       "         width=\"40\" height=\"40\"></td></tr><tr><td style=\"border:3px solid black; text-align:center;\"\n",
       "         width=\"40\" height=\"40\">4</td><td style=\"border:3px solid black; text-align:center;\"\n",
       "         width=\"40\" height=\"40\">8</td><td style=\"border:3px solid black; text-align:center;\"\n",
       "         width=\"40\" height=\"40\">2</td><td style=\"border:3px solid black; text-align:center;\"\n",
       "         width=\"40\" height=\"40\">4</td></tr><tr><td style=\"border:3px solid black; text-align:center;\"\n",
       "         width=\"40\" height=\"40\">2</td><td style=\"border:3px solid black; text-align:center;\"\n",
       "         width=\"40\" height=\"40\"></td><td style=\"border:3px solid black; text-align:center;\"\n",
       "         width=\"40\" height=\"40\"></td><td style=\"border:3px solid black; text-align:center;\"\n",
       "         width=\"40\" height=\"40\">2</td></tr></table>"
      ],
      "text/plain": [
       "<IPython.core.display.HTML object>"
      ]
     },
     "metadata": {},
     "output_type": "display_data"
    },
    {
     "name": "stdout",
     "output_type": "stream",
     "text": [
      "Iter: 39\n",
      "======Direction: up======\n"
     ]
    },
    {
     "data": {
      "text/html": [
       "<h1>Score: 64</h1><table style=\"border: 5px solid black;\"><tr><td style=\"border:3px solid black; text-align:center;\"\n",
       "         width=\"40\" height=\"40\">64</td><td style=\"border:3px solid black; text-align:center;\"\n",
       "         width=\"40\" height=\"40\">8</td><td style=\"border:3px solid black; text-align:center;\"\n",
       "         width=\"40\" height=\"40\">4</td><td style=\"border:3px solid black; text-align:center;\"\n",
       "         width=\"40\" height=\"40\">4</td></tr><tr><td style=\"border:3px solid black; text-align:center;\"\n",
       "         width=\"40\" height=\"40\">2</td><td style=\"border:3px solid black; text-align:center;\"\n",
       "         width=\"40\" height=\"40\">16</td><td style=\"border:3px solid black; text-align:center;\"\n",
       "         width=\"40\" height=\"40\">2</td><td style=\"border:3px solid black; text-align:center;\"\n",
       "         width=\"40\" height=\"40\">2</td></tr><tr><td style=\"border:3px solid black; text-align:center;\"\n",
       "         width=\"40\" height=\"40\">4</td><td style=\"border:3px solid black; text-align:center;\"\n",
       "         width=\"40\" height=\"40\">8</td><td style=\"border:3px solid black; text-align:center;\"\n",
       "         width=\"40\" height=\"40\"></td><td style=\"border:3px solid black; text-align:center;\"\n",
       "         width=\"40\" height=\"40\">2</td></tr><tr><td style=\"border:3px solid black; text-align:center;\"\n",
       "         width=\"40\" height=\"40\">2</td><td style=\"border:3px solid black; text-align:center;\"\n",
       "         width=\"40\" height=\"40\"></td><td style=\"border:3px solid black; text-align:center;\"\n",
       "         width=\"40\" height=\"40\"></td><td style=\"border:3px solid black; text-align:center;\"\n",
       "         width=\"40\" height=\"40\"></td></tr></table>"
      ],
      "text/plain": [
       "<IPython.core.display.HTML object>"
      ]
     },
     "metadata": {},
     "output_type": "display_data"
    },
    {
     "name": "stdout",
     "output_type": "stream",
     "text": [
      "Iter: 40\n",
      "======Direction: left======\n"
     ]
    },
    {
     "data": {
      "text/html": [
       "<h1>Score: 64</h1><table style=\"border: 5px solid black;\"><tr><td style=\"border:3px solid black; text-align:center;\"\n",
       "         width=\"40\" height=\"40\">64</td><td style=\"border:3px solid black; text-align:center;\"\n",
       "         width=\"40\" height=\"40\">8</td><td style=\"border:3px solid black; text-align:center;\"\n",
       "         width=\"40\" height=\"40\">8</td><td style=\"border:3px solid black; text-align:center;\"\n",
       "         width=\"40\" height=\"40\"></td></tr><tr><td style=\"border:3px solid black; text-align:center;\"\n",
       "         width=\"40\" height=\"40\">2</td><td style=\"border:3px solid black; text-align:center;\"\n",
       "         width=\"40\" height=\"40\">16</td><td style=\"border:3px solid black; text-align:center;\"\n",
       "         width=\"40\" height=\"40\">4</td><td style=\"border:3px solid black; text-align:center;\"\n",
       "         width=\"40\" height=\"40\"></td></tr><tr><td style=\"border:3px solid black; text-align:center;\"\n",
       "         width=\"40\" height=\"40\">4</td><td style=\"border:3px solid black; text-align:center;\"\n",
       "         width=\"40\" height=\"40\">8</td><td style=\"border:3px solid black; text-align:center;\"\n",
       "         width=\"40\" height=\"40\">2</td><td style=\"border:3px solid black; text-align:center;\"\n",
       "         width=\"40\" height=\"40\"></td></tr><tr><td style=\"border:3px solid black; text-align:center;\"\n",
       "         width=\"40\" height=\"40\">2</td><td style=\"border:3px solid black; text-align:center;\"\n",
       "         width=\"40\" height=\"40\">2</td><td style=\"border:3px solid black; text-align:center;\"\n",
       "         width=\"40\" height=\"40\"></td><td style=\"border:3px solid black; text-align:center;\"\n",
       "         width=\"40\" height=\"40\"></td></tr></table>"
      ],
      "text/plain": [
       "<IPython.core.display.HTML object>"
      ]
     },
     "metadata": {},
     "output_type": "display_data"
    },
    {
     "name": "stdout",
     "output_type": "stream",
     "text": [
      "Iter: 41\n",
      "======Direction: left======\n"
     ]
    },
    {
     "data": {
      "text/html": [
       "<h1>Score: 64</h1><table style=\"border: 5px solid black;\"><tr><td style=\"border:3px solid black; text-align:center;\"\n",
       "         width=\"40\" height=\"40\">64</td><td style=\"border:3px solid black; text-align:center;\"\n",
       "         width=\"40\" height=\"40\">16</td><td style=\"border:3px solid black; text-align:center;\"\n",
       "         width=\"40\" height=\"40\">2</td><td style=\"border:3px solid black; text-align:center;\"\n",
       "         width=\"40\" height=\"40\"></td></tr><tr><td style=\"border:3px solid black; text-align:center;\"\n",
       "         width=\"40\" height=\"40\">2</td><td style=\"border:3px solid black; text-align:center;\"\n",
       "         width=\"40\" height=\"40\">16</td><td style=\"border:3px solid black; text-align:center;\"\n",
       "         width=\"40\" height=\"40\">4</td><td style=\"border:3px solid black; text-align:center;\"\n",
       "         width=\"40\" height=\"40\"></td></tr><tr><td style=\"border:3px solid black; text-align:center;\"\n",
       "         width=\"40\" height=\"40\">4</td><td style=\"border:3px solid black; text-align:center;\"\n",
       "         width=\"40\" height=\"40\">8</td><td style=\"border:3px solid black; text-align:center;\"\n",
       "         width=\"40\" height=\"40\">2</td><td style=\"border:3px solid black; text-align:center;\"\n",
       "         width=\"40\" height=\"40\"></td></tr><tr><td style=\"border:3px solid black; text-align:center;\"\n",
       "         width=\"40\" height=\"40\">4</td><td style=\"border:3px solid black; text-align:center;\"\n",
       "         width=\"40\" height=\"40\"></td><td style=\"border:3px solid black; text-align:center;\"\n",
       "         width=\"40\" height=\"40\"></td><td style=\"border:3px solid black; text-align:center;\"\n",
       "         width=\"40\" height=\"40\"></td></tr></table>"
      ],
      "text/plain": [
       "<IPython.core.display.HTML object>"
      ]
     },
     "metadata": {},
     "output_type": "display_data"
    },
    {
     "name": "stdout",
     "output_type": "stream",
     "text": [
      "Iter: 42\n",
      "======Direction: left======\n"
     ]
    },
    {
     "data": {
      "text/html": [
       "<h1>Score: 64</h1><table style=\"border: 5px solid black;\"><tr><td style=\"border:3px solid black; text-align:center;\"\n",
       "         width=\"40\" height=\"40\">64</td><td style=\"border:3px solid black; text-align:center;\"\n",
       "         width=\"40\" height=\"40\">16</td><td style=\"border:3px solid black; text-align:center;\"\n",
       "         width=\"40\" height=\"40\">2</td><td style=\"border:3px solid black; text-align:center;\"\n",
       "         width=\"40\" height=\"40\"></td></tr><tr><td style=\"border:3px solid black; text-align:center;\"\n",
       "         width=\"40\" height=\"40\">2</td><td style=\"border:3px solid black; text-align:center;\"\n",
       "         width=\"40\" height=\"40\">16</td><td style=\"border:3px solid black; text-align:center;\"\n",
       "         width=\"40\" height=\"40\">4</td><td style=\"border:3px solid black; text-align:center;\"\n",
       "         width=\"40\" height=\"40\"></td></tr><tr><td style=\"border:3px solid black; text-align:center;\"\n",
       "         width=\"40\" height=\"40\">4</td><td style=\"border:3px solid black; text-align:center;\"\n",
       "         width=\"40\" height=\"40\">8</td><td style=\"border:3px solid black; text-align:center;\"\n",
       "         width=\"40\" height=\"40\">2</td><td style=\"border:3px solid black; text-align:center;\"\n",
       "         width=\"40\" height=\"40\">4</td></tr><tr><td style=\"border:3px solid black; text-align:center;\"\n",
       "         width=\"40\" height=\"40\">4</td><td style=\"border:3px solid black; text-align:center;\"\n",
       "         width=\"40\" height=\"40\"></td><td style=\"border:3px solid black; text-align:center;\"\n",
       "         width=\"40\" height=\"40\"></td><td style=\"border:3px solid black; text-align:center;\"\n",
       "         width=\"40\" height=\"40\"></td></tr></table>"
      ],
      "text/plain": [
       "<IPython.core.display.HTML object>"
      ]
     },
     "metadata": {},
     "output_type": "display_data"
    },
    {
     "name": "stdout",
     "output_type": "stream",
     "text": [
      "Iter: 43\n",
      "======Direction: left======\n"
     ]
    },
    {
     "data": {
      "text/html": [
       "<h1>Score: 64</h1><table style=\"border: 5px solid black;\"><tr><td style=\"border:3px solid black; text-align:center;\"\n",
       "         width=\"40\" height=\"40\">64</td><td style=\"border:3px solid black; text-align:center;\"\n",
       "         width=\"40\" height=\"40\">16</td><td style=\"border:3px solid black; text-align:center;\"\n",
       "         width=\"40\" height=\"40\">2</td><td style=\"border:3px solid black; text-align:center;\"\n",
       "         width=\"40\" height=\"40\"></td></tr><tr><td style=\"border:3px solid black; text-align:center;\"\n",
       "         width=\"40\" height=\"40\">2</td><td style=\"border:3px solid black; text-align:center;\"\n",
       "         width=\"40\" height=\"40\">16</td><td style=\"border:3px solid black; text-align:center;\"\n",
       "         width=\"40\" height=\"40\">4</td><td style=\"border:3px solid black; text-align:center;\"\n",
       "         width=\"40\" height=\"40\">2</td></tr><tr><td style=\"border:3px solid black; text-align:center;\"\n",
       "         width=\"40\" height=\"40\">4</td><td style=\"border:3px solid black; text-align:center;\"\n",
       "         width=\"40\" height=\"40\">8</td><td style=\"border:3px solid black; text-align:center;\"\n",
       "         width=\"40\" height=\"40\">2</td><td style=\"border:3px solid black; text-align:center;\"\n",
       "         width=\"40\" height=\"40\">4</td></tr><tr><td style=\"border:3px solid black; text-align:center;\"\n",
       "         width=\"40\" height=\"40\">4</td><td style=\"border:3px solid black; text-align:center;\"\n",
       "         width=\"40\" height=\"40\"></td><td style=\"border:3px solid black; text-align:center;\"\n",
       "         width=\"40\" height=\"40\"></td><td style=\"border:3px solid black; text-align:center;\"\n",
       "         width=\"40\" height=\"40\"></td></tr></table>"
      ],
      "text/plain": [
       "<IPython.core.display.HTML object>"
      ]
     },
     "metadata": {},
     "output_type": "display_data"
    },
    {
     "name": "stdout",
     "output_type": "stream",
     "text": [
      "Iter: 44\n",
      "======Direction: left======\n"
     ]
    },
    {
     "data": {
      "text/html": [
       "<h1>Score: 64</h1><table style=\"border: 5px solid black;\"><tr><td style=\"border:3px solid black; text-align:center;\"\n",
       "         width=\"40\" height=\"40\">64</td><td style=\"border:3px solid black; text-align:center;\"\n",
       "         width=\"40\" height=\"40\">16</td><td style=\"border:3px solid black; text-align:center;\"\n",
       "         width=\"40\" height=\"40\">2</td><td style=\"border:3px solid black; text-align:center;\"\n",
       "         width=\"40\" height=\"40\"></td></tr><tr><td style=\"border:3px solid black; text-align:center;\"\n",
       "         width=\"40\" height=\"40\">2</td><td style=\"border:3px solid black; text-align:center;\"\n",
       "         width=\"40\" height=\"40\">16</td><td style=\"border:3px solid black; text-align:center;\"\n",
       "         width=\"40\" height=\"40\">4</td><td style=\"border:3px solid black; text-align:center;\"\n",
       "         width=\"40\" height=\"40\">2</td></tr><tr><td style=\"border:3px solid black; text-align:center;\"\n",
       "         width=\"40\" height=\"40\">4</td><td style=\"border:3px solid black; text-align:center;\"\n",
       "         width=\"40\" height=\"40\">8</td><td style=\"border:3px solid black; text-align:center;\"\n",
       "         width=\"40\" height=\"40\">2</td><td style=\"border:3px solid black; text-align:center;\"\n",
       "         width=\"40\" height=\"40\">4</td></tr><tr><td style=\"border:3px solid black; text-align:center;\"\n",
       "         width=\"40\" height=\"40\">4</td><td style=\"border:3px solid black; text-align:center;\"\n",
       "         width=\"40\" height=\"40\">2</td><td style=\"border:3px solid black; text-align:center;\"\n",
       "         width=\"40\" height=\"40\"></td><td style=\"border:3px solid black; text-align:center;\"\n",
       "         width=\"40\" height=\"40\"></td></tr></table>"
      ],
      "text/plain": [
       "<IPython.core.display.HTML object>"
      ]
     },
     "metadata": {},
     "output_type": "display_data"
    },
    {
     "name": "stdout",
     "output_type": "stream",
     "text": [
      "Iter: 45\n",
      "======Direction: left======\n"
     ]
    },
    {
     "data": {
      "text/html": [
       "<h1>Score: 64</h1><table style=\"border: 5px solid black;\"><tr><td style=\"border:3px solid black; text-align:center;\"\n",
       "         width=\"40\" height=\"40\">64</td><td style=\"border:3px solid black; text-align:center;\"\n",
       "         width=\"40\" height=\"40\">16</td><td style=\"border:3px solid black; text-align:center;\"\n",
       "         width=\"40\" height=\"40\">2</td><td style=\"border:3px solid black; text-align:center;\"\n",
       "         width=\"40\" height=\"40\"></td></tr><tr><td style=\"border:3px solid black; text-align:center;\"\n",
       "         width=\"40\" height=\"40\">2</td><td style=\"border:3px solid black; text-align:center;\"\n",
       "         width=\"40\" height=\"40\">16</td><td style=\"border:3px solid black; text-align:center;\"\n",
       "         width=\"40\" height=\"40\">4</td><td style=\"border:3px solid black; text-align:center;\"\n",
       "         width=\"40\" height=\"40\">2</td></tr><tr><td style=\"border:3px solid black; text-align:center;\"\n",
       "         width=\"40\" height=\"40\">4</td><td style=\"border:3px solid black; text-align:center;\"\n",
       "         width=\"40\" height=\"40\">8</td><td style=\"border:3px solid black; text-align:center;\"\n",
       "         width=\"40\" height=\"40\">2</td><td style=\"border:3px solid black; text-align:center;\"\n",
       "         width=\"40\" height=\"40\">4</td></tr><tr><td style=\"border:3px solid black; text-align:center;\"\n",
       "         width=\"40\" height=\"40\">4</td><td style=\"border:3px solid black; text-align:center;\"\n",
       "         width=\"40\" height=\"40\">2</td><td style=\"border:3px solid black; text-align:center;\"\n",
       "         width=\"40\" height=\"40\"></td><td style=\"border:3px solid black; text-align:center;\"\n",
       "         width=\"40\" height=\"40\">4</td></tr></table>"
      ],
      "text/plain": [
       "<IPython.core.display.HTML object>"
      ]
     },
     "metadata": {},
     "output_type": "display_data"
    },
    {
     "name": "stdout",
     "output_type": "stream",
     "text": [
      "Iter: 46\n",
      "======Direction: left======\n"
     ]
    },
    {
     "data": {
      "text/html": [
       "<h1>Score: 64</h1><table style=\"border: 5px solid black;\"><tr><td style=\"border:3px solid black; text-align:center;\"\n",
       "         width=\"40\" height=\"40\">64</td><td style=\"border:3px solid black; text-align:center;\"\n",
       "         width=\"40\" height=\"40\">16</td><td style=\"border:3px solid black; text-align:center;\"\n",
       "         width=\"40\" height=\"40\">2</td><td style=\"border:3px solid black; text-align:center;\"\n",
       "         width=\"40\" height=\"40\"></td></tr><tr><td style=\"border:3px solid black; text-align:center;\"\n",
       "         width=\"40\" height=\"40\">2</td><td style=\"border:3px solid black; text-align:center;\"\n",
       "         width=\"40\" height=\"40\">16</td><td style=\"border:3px solid black; text-align:center;\"\n",
       "         width=\"40\" height=\"40\">4</td><td style=\"border:3px solid black; text-align:center;\"\n",
       "         width=\"40\" height=\"40\">2</td></tr><tr><td style=\"border:3px solid black; text-align:center;\"\n",
       "         width=\"40\" height=\"40\">4</td><td style=\"border:3px solid black; text-align:center;\"\n",
       "         width=\"40\" height=\"40\">8</td><td style=\"border:3px solid black; text-align:center;\"\n",
       "         width=\"40\" height=\"40\">2</td><td style=\"border:3px solid black; text-align:center;\"\n",
       "         width=\"40\" height=\"40\">4</td></tr><tr><td style=\"border:3px solid black; text-align:center;\"\n",
       "         width=\"40\" height=\"40\">4</td><td style=\"border:3px solid black; text-align:center;\"\n",
       "         width=\"40\" height=\"40\">2</td><td style=\"border:3px solid black; text-align:center;\"\n",
       "         width=\"40\" height=\"40\">4</td><td style=\"border:3px solid black; text-align:center;\"\n",
       "         width=\"40\" height=\"40\">2</td></tr></table>"
      ],
      "text/plain": [
       "<IPython.core.display.HTML object>"
      ]
     },
     "metadata": {},
     "output_type": "display_data"
    },
    {
     "name": "stdout",
     "output_type": "stream",
     "text": [
      "Iter: 47\n",
      "======Direction: right======\n"
     ]
    },
    {
     "data": {
      "text/html": [
       "<h1>Score: 64</h1><table style=\"border: 5px solid black;\"><tr><td style=\"border:3px solid black; text-align:center;\"\n",
       "         width=\"40\" height=\"40\">4</td><td style=\"border:3px solid black; text-align:center;\"\n",
       "         width=\"40\" height=\"40\">64</td><td style=\"border:3px solid black; text-align:center;\"\n",
       "         width=\"40\" height=\"40\">16</td><td style=\"border:3px solid black; text-align:center;\"\n",
       "         width=\"40\" height=\"40\">2</td></tr><tr><td style=\"border:3px solid black; text-align:center;\"\n",
       "         width=\"40\" height=\"40\">2</td><td style=\"border:3px solid black; text-align:center;\"\n",
       "         width=\"40\" height=\"40\">16</td><td style=\"border:3px solid black; text-align:center;\"\n",
       "         width=\"40\" height=\"40\">4</td><td style=\"border:3px solid black; text-align:center;\"\n",
       "         width=\"40\" height=\"40\">2</td></tr><tr><td style=\"border:3px solid black; text-align:center;\"\n",
       "         width=\"40\" height=\"40\">4</td><td style=\"border:3px solid black; text-align:center;\"\n",
       "         width=\"40\" height=\"40\">8</td><td style=\"border:3px solid black; text-align:center;\"\n",
       "         width=\"40\" height=\"40\">2</td><td style=\"border:3px solid black; text-align:center;\"\n",
       "         width=\"40\" height=\"40\">4</td></tr><tr><td style=\"border:3px solid black; text-align:center;\"\n",
       "         width=\"40\" height=\"40\">4</td><td style=\"border:3px solid black; text-align:center;\"\n",
       "         width=\"40\" height=\"40\">2</td><td style=\"border:3px solid black; text-align:center;\"\n",
       "         width=\"40\" height=\"40\">4</td><td style=\"border:3px solid black; text-align:center;\"\n",
       "         width=\"40\" height=\"40\">2</td></tr></table>"
      ],
      "text/plain": [
       "<IPython.core.display.HTML object>"
      ]
     },
     "metadata": {},
     "output_type": "display_data"
    },
    {
     "name": "stdout",
     "output_type": "stream",
     "text": [
      "Iter: 48\n",
      "======Direction: left======\n"
     ]
    },
    {
     "data": {
      "text/html": [
       "<h1>Score: 64</h1><table style=\"border: 5px solid black;\"><tr><td style=\"border:3px solid black; text-align:center;\"\n",
       "         width=\"40\" height=\"40\">4</td><td style=\"border:3px solid black; text-align:center;\"\n",
       "         width=\"40\" height=\"40\">64</td><td style=\"border:3px solid black; text-align:center;\"\n",
       "         width=\"40\" height=\"40\">16</td><td style=\"border:3px solid black; text-align:center;\"\n",
       "         width=\"40\" height=\"40\">2</td></tr><tr><td style=\"border:3px solid black; text-align:center;\"\n",
       "         width=\"40\" height=\"40\">2</td><td style=\"border:3px solid black; text-align:center;\"\n",
       "         width=\"40\" height=\"40\">16</td><td style=\"border:3px solid black; text-align:center;\"\n",
       "         width=\"40\" height=\"40\">4</td><td style=\"border:3px solid black; text-align:center;\"\n",
       "         width=\"40\" height=\"40\">2</td></tr><tr><td style=\"border:3px solid black; text-align:center;\"\n",
       "         width=\"40\" height=\"40\">4</td><td style=\"border:3px solid black; text-align:center;\"\n",
       "         width=\"40\" height=\"40\">8</td><td style=\"border:3px solid black; text-align:center;\"\n",
       "         width=\"40\" height=\"40\">2</td><td style=\"border:3px solid black; text-align:center;\"\n",
       "         width=\"40\" height=\"40\">4</td></tr><tr><td style=\"border:3px solid black; text-align:center;\"\n",
       "         width=\"40\" height=\"40\">4</td><td style=\"border:3px solid black; text-align:center;\"\n",
       "         width=\"40\" height=\"40\">2</td><td style=\"border:3px solid black; text-align:center;\"\n",
       "         width=\"40\" height=\"40\">4</td><td style=\"border:3px solid black; text-align:center;\"\n",
       "         width=\"40\" height=\"40\">2</td></tr></table>"
      ],
      "text/plain": [
       "<IPython.core.display.HTML object>"
      ]
     },
     "metadata": {},
     "output_type": "display_data"
    },
    {
     "name": "stdout",
     "output_type": "stream",
     "text": [
      "You lose! Score: 64\n",
      "CPU times: user 713 ms, sys: 56.5 ms, total: 770 ms\n",
      "Wall time: 681 ms\n"
     ]
    }
   ],
   "source": [
    "%%time\n",
    "game = Game(4, score_to_win=2048, random=False)\n",
    "display2.display(game)\n",
    "agent = MyAgent(game, display=display2)\n",
    "agent.play(verbose=True)"
   ]
  },
  {
   "cell_type": "code",
   "execution_count": 19,
   "metadata": {},
   "outputs": [],
   "source": [
    "model.save('my_model.h5')"
   ]
  },
  {
   "cell_type": "code",
   "execution_count": null,
   "metadata": {},
   "outputs": [],
   "source": []
  }
 ],
 "metadata": {
  "kernelspec": {
   "display_name": "Python 3",
   "language": "python",
   "name": "python3"
  },
  "language_info": {
   "codemirror_mode": {
    "name": "ipython",
    "version": 3
   },
   "file_extension": ".py",
   "mimetype": "text/x-python",
   "name": "python",
   "nbconvert_exporter": "python",
   "pygments_lexer": "ipython3",
   "version": "3.7.6"
  }
 },
 "nbformat": 4,
 "nbformat_minor": 2
}
