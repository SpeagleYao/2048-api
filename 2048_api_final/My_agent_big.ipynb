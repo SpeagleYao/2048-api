{
 "cells": [
  {
   "cell_type": "code",
   "execution_count": 2,
   "metadata": {},
   "outputs": [],
   "source": [
    "from game2048.game import Game\n",
    "from game2048.displays import Display, IPythonDisplay\n",
    "import numpy as np\n",
    "#from game2048.agents import ExpectiMaxAgent\n",
    "\n",
    "display1 = Display()\n",
    "display2 = IPythonDisplay()"
   ]
  },
  {
   "cell_type": "code",
   "execution_count": 3,
   "metadata": {},
   "outputs": [],
   "source": [
    "class Agent_train:\n",
    "    '''Agent Base.'''\n",
    "\n",
    "    def __init__(self, game, display=None):\n",
    "        self.game = game\n",
    "        self.display = display\n",
    "\n",
    "    def play(self, max_iter=np.inf, verbose=False):\n",
    "        n_iter = 0\n",
    "        while (n_iter < max_iter) and (not self.game.end):\n",
    "            direction = self.step()\n",
    "            self.game.move(direction)\n",
    "            n_iter += 1\n",
    "            if verbose:\n",
    "                print(\"Iter: {}\".format(n_iter))\n",
    "                print(\"======Direction: {}======\".format(\n",
    "                    [\"left\", \"down\", \"right\", \"up\"][direction]))\n",
    "                if self.display is not None:\n",
    "                    self.display.display(self.game)\n",
    "\n",
    "    def step(self):\n",
    "        direction = int(input(\"0: left, 1: down, 2: right, 3: up = \")) % 4\n",
    "        return direction\n",
    "\n",
    "\n",
    "class ExpectiMaxAgent_train(Agent_train):\n",
    "\n",
    "    def __init__(self, game, display=None):\n",
    "        if game.size != 4:\n",
    "            raise ValueError(\n",
    "                \"`%s` can only work with game of `size` 4.\" % self.__class__.__name__)\n",
    "        super().__init__(game, display)\n",
    "        from game2048.expectimax import board_to_move\n",
    "        self.search_func = board_to_move\n",
    "        self.data = []\n",
    "\n",
    "    def step(self):\n",
    "        direction = self.search_func(self.game.board)\n",
    "        self.data.append([game.board, direction])\n",
    "        return direction"
   ]
  },
  {
   "cell_type": "code",
   "execution_count": 54,
   "metadata": {},
   "outputs": [
    {
     "name": "stdout",
     "output_type": "stream",
     "text": [
      "100\n",
      "200\n",
      "300\n",
      "400\n",
      "500\n",
      "600\n",
      "700\n",
      "800\n",
      "900\n",
      "1000\n",
      "1100\n",
      "1200\n",
      "1300\n",
      "1400\n",
      "1500\n",
      "1600\n",
      "1700\n",
      "1800\n",
      "1900\n",
      "373966\n",
      "CPU times: user 1h 21min 28s, sys: 14.1 s, total: 1h 21min 42s\n",
      "Wall time: 29min 33s\n"
     ]
    }
   ],
   "source": [
    "%%time\n",
    "data = []\n",
    "\n",
    "for i in range(2000):\n",
    "    game = Game(4, score_to_win=512, random=False)\n",
    "    agent = ExpectiMaxAgent_train(game, display=display2)\n",
    "    agent.play(verbose=False)\n",
    "    data.extend(agent.data)\n",
    "    if i % 100 == 0 and i: print(i)\n",
    "print(len(data))"
   ]
  },
  {
   "cell_type": "code",
   "execution_count": 55,
   "metadata": {},
   "outputs": [],
   "source": [
    "data_backup = data"
   ]
  },
  {
   "cell_type": "code",
   "execution_count": 56,
   "metadata": {},
   "outputs": [
    {
     "name": "stdout",
     "output_type": "stream",
     "text": [
      "373966\n",
      "[array([[  2.,   4.,   0.,   0.],\n",
      "       [  4.,   8.,   0.,   0.],\n",
      "       [ 32.,  32.,   4.,   8.],\n",
      "       [128.,   4.,   2.,   4.]]), 0]\n"
     ]
    }
   ],
   "source": [
    "from sklearn.model_selection import train_test_split\n",
    "print(len(data))\n",
    "print(data[np.random.randint(0, len(data))])\n",
    "  \n",
    "\n",
    "data_x = []\n",
    "data_y = []\n",
    "for x, y in data:\n",
    "    data_x.append(x)\n",
    "    data_y.append(y)\n",
    "\n",
    "data_x = np.log2(np.maximum(data_x, 1))\n",
    "X_train, X_test, Y_train, Y_test = train_test_split(\n",
    "    data_x, data_y, test_size=0.05)"
   ]
  },
  {
   "cell_type": "code",
   "execution_count": 57,
   "metadata": {},
   "outputs": [],
   "source": [
    "np.save(\"data_512_big.npy\", data)"
   ]
  },
  {
   "cell_type": "code",
   "execution_count": 1,
   "metadata": {},
   "outputs": [
    {
     "name": "stderr",
     "output_type": "stream",
     "text": [
      "Using TensorFlow backend.\n"
     ]
    }
   ],
   "source": [
    "import keras\n",
    "import tensorflow as tf\n",
    "from keras.models import Sequential, load_model, Model\n",
    "from keras.callbacks import ReduceLROnPlateau, ModelCheckpoint\n",
    "from keras.layers import Dense, Dropout, Flatten, Conv2D, MaxPooling2D, BatchNormalization, Input, GlobalAveragePooling2D, Activation, concatenate, LeakyReLU"
   ]
  },
  {
   "cell_type": "code",
   "execution_count": 2,
   "metadata": {},
   "outputs": [
    {
     "data": {
      "text/plain": [
       "[name: \"/device:CPU:0\"\n",
       " device_type: \"CPU\"\n",
       " memory_limit: 268435456\n",
       " locality {\n",
       " }\n",
       " incarnation: 11360489088873896681,\n",
       " name: \"/device:GPU:0\"\n",
       " device_type: \"GPU\"\n",
       " memory_limit: 1416432435\n",
       " locality {\n",
       "   bus_id: 1\n",
       "   links {\n",
       "   }\n",
       " }\n",
       " incarnation: 10991599060808570974\n",
       " physical_device_desc: \"device: 0, name: GeForce MX150, pci bus id: 0000:01:00.0, compute capability: 6.1\"]"
      ]
     },
     "execution_count": 2,
     "metadata": {},
     "output_type": "execute_result"
    }
   ],
   "source": [
    "from tensorflow.python.client import device_lib\n",
    "tf.device = '/GPU:0'\n",
    "tf.test.gpu_device_name()\n",
    "device_lib.list_local_devices()"
   ]
  },
  {
   "cell_type": "code",
   "execution_count": 79,
   "metadata": {},
   "outputs": [],
   "source": [
    "(X_train, X_test, Y_train, Y_test) = np.load(\"data_8192_big.npy\", allow_pickle=True)"
   ]
  },
  {
   "cell_type": "code",
   "execution_count": 80,
   "metadata": {},
   "outputs": [
    {
     "name": "stdout",
     "output_type": "stream",
     "text": [
      "(14880730, 4, 4, 14) (50000, 4, 4, 14)\n",
      "(14880730, 4)\n"
     ]
    }
   ],
   "source": [
    "X_train = np.array(X_train).reshape(len(X_train), 4, 4, 1)\n",
    "X_test = np.array(X_test).reshape(len(X_test), 4, 4, 1)\n",
    "Y_train = np.array(Y_train)\n",
    "Y_test = np.array(Y_test)\n",
    "\n",
    "NUM_Y_CLASSES = 4\n",
    "NUM_X_CLASSES = 14\n",
    "\n",
    "X_train = keras.utils.np_utils.to_categorical(\n",
    "    X_train.reshape(X_train.shape[0], -1), NUM_X_CLASSES)\n",
    "X_test = keras.utils.np_utils.to_categorical(\n",
    "    X_test.reshape(X_test.shape[0], -1), NUM_X_CLASSES)\n",
    "Y_train = keras.utils.np_utils.to_categorical(Y_train, NUM_Y_CLASSES)\n",
    "Y_test = keras.utils.np_utils.to_categorical(Y_test, NUM_Y_CLASSES)\n",
    "X_train = X_train.reshape(X_train.shape[0], 4, 4, NUM_X_CLASSES)\n",
    "X_test = X_test.reshape(X_test.shape[0], 4, 4, NUM_X_CLASSES)\n",
    "\n",
    "print(X_train.shape, X_test.shape)\n",
    "print(Y_train.shape)"
   ]
  },
  {
   "cell_type": "code",
   "execution_count": 3,
   "metadata": {},
   "outputs": [
    {
     "name": "stdout",
     "output_type": "stream",
     "text": [
      "Model: \"model_1\"\n",
      "__________________________________________________________________________________________________\n",
      "Layer (type)                    Output Shape         Param #     Connected to                     \n",
      "==================================================================================================\n",
      "input_1 (InputLayer)            (None, 4, 4, 14)     0                                            \n",
      "__________________________________________________________________________________________________\n",
      "conv2d_1 (Conv2D)               (None, 4, 4, 64)     3648        input_1[0][0]                    \n",
      "__________________________________________________________________________________________________\n",
      "conv2d_2 (Conv2D)               (None, 4, 4, 64)     3648        input_1[0][0]                    \n",
      "__________________________________________________________________________________________________\n",
      "conv2d_3 (Conv2D)               (None, 4, 4, 64)     14400       input_1[0][0]                    \n",
      "__________________________________________________________________________________________________\n",
      "concatenate_1 (Concatenate)     (None, 4, 4, 192)    0           conv2d_1[0][0]                   \n",
      "                                                                 conv2d_2[0][0]                   \n",
      "                                                                 conv2d_3[0][0]                   \n",
      "__________________________________________________________________________________________________\n",
      "flatten_1 (Flatten)             (None, 3072)         0           concatenate_1[0][0]              \n",
      "__________________________________________________________________________________________________\n",
      "activation_1 (Activation)       (None, 3072)         0           flatten_1[0][0]                  \n",
      "__________________________________________________________________________________________________\n",
      "batch_normalization_1 (BatchNor (None, 3072)         12288       activation_1[0][0]               \n",
      "__________________________________________________________________________________________________\n",
      "dense_1 (Dense)                 (None, 512)          1573376     batch_normalization_1[0][0]      \n",
      "__________________________________________________________________________________________________\n",
      "activation_2 (Activation)       (None, 512)          0           dense_1[0][0]                    \n",
      "__________________________________________________________________________________________________\n",
      "batch_normalization_2 (BatchNor (None, 512)          2048        activation_2[0][0]               \n",
      "__________________________________________________________________________________________________\n",
      "dense_2 (Dense)                 (None, 512)          262656      batch_normalization_2[0][0]      \n",
      "__________________________________________________________________________________________________\n",
      "activation_3 (Activation)       (None, 512)          0           dense_2[0][0]                    \n",
      "__________________________________________________________________________________________________\n",
      "dense_3 (Dense)                 (None, 4)            2052        activation_3[0][0]               \n",
      "==================================================================================================\n",
      "Total params: 1,874,116\n",
      "Trainable params: 1,866,948\n",
      "Non-trainable params: 7,168\n",
      "__________________________________________________________________________________________________\n"
     ]
    }
   ],
   "source": [
    "NUM_Y_CLASSES = 4\n",
    "NUM_X_CLASSES = 14\n",
    "\n",
    "\n",
    "input_img = Input(shape=(4, 4, NUM_X_CLASSES))\n",
    "FILTERS = 64\n",
    "Conv41 = Conv2D(FILTERS, (4, 1), padding='same', kernel_initializer='he_normal')(input_img)\n",
    "Conv14 = Conv2D(FILTERS, (1, 4), padding='same', kernel_initializer='he_normal')(input_img)\n",
    "Conv44 = Conv2D(FILTERS, (4, 4), padding='same', kernel_initializer='he_normal')(input_img)\n",
    "Conv_layer = concatenate([Conv41, Conv14, Conv44], axis = -1)       \n",
    "\n",
    "\n",
    "x = Flatten()(Conv_layer)\n",
    "x = Activation('relu')(x)\n",
    "x = BatchNormalization()(x)\n",
    "x = Dense(units=512, kernel_initializer='he_normal')(x)\n",
    "x = Activation('relu')(x)\n",
    "\n",
    "x = BatchNormalization()(x)\n",
    "x = Dense(units=512, kernel_initializer='he_normal')(x)\n",
    "x = Activation('relu')(x)\n",
    "\n",
    "#model.add(BatchNormalization())\n",
    "\n",
    "outputs = Dense(units=4, activation='softmax')(x)\n",
    "\n",
    "model = Model(input_img, outputs)\n",
    "model.compile(loss='categorical_crossentropy',\n",
    "              optimizer='Adadelta',\n",
    "              metrics=['accuracy'])\n",
    "model.summary()\n",
    "history = []\n",
    "history_acc = []\n",
    "history_los = []"
   ]
  },
  {
   "cell_type": "code",
   "execution_count": 150,
   "metadata": {},
   "outputs": [
    {
     "name": "stdout",
     "output_type": "stream",
     "text": [
      "Train on 14880730 samples, validate on 50000 samples\n",
      "Epoch 1/15\n",
      "14880730/14880730 [==============================] - 240s 16us/step - loss: 0.7765 - accuracy: 0.6277 - val_loss: 0.7047 - val_accuracy: 0.6649\n",
      "\n",
      "Epoch 00001: val_loss improved from inf to 0.70470, saving model to model_Conv_8192_best7.h5\n",
      "Epoch 2/15\n",
      "14880730/14880730 [==============================] - 239s 16us/step - loss: 0.6764 - accuracy: 0.6815 - val_loss: 0.6551 - val_accuracy: 0.6924\n",
      "\n",
      "Epoch 00002: val_loss improved from 0.70470 to 0.65513, saving model to model_Conv_8192_best7.h5\n",
      "Epoch 3/15\n",
      "14880730/14880730 [==============================] - 239s 16us/step - loss: 0.6388 - accuracy: 0.7028 - val_loss: 0.6354 - val_accuracy: 0.7077\n",
      "\n",
      "Epoch 00003: val_loss improved from 0.65513 to 0.63541, saving model to model_Conv_8192_best7.h5\n",
      "Epoch 4/15\n",
      "14880730/14880730 [==============================] - 239s 16us/step - loss: 0.6135 - accuracy: 0.7169 - val_loss: 0.6187 - val_accuracy: 0.7140\n",
      "\n",
      "Epoch 00004: val_loss improved from 0.63541 to 0.61870, saving model to model_Conv_8192_best7.h5\n",
      "Epoch 5/15\n",
      "14880730/14880730 [==============================] - 239s 16us/step - loss: 0.5942 - accuracy: 0.7274 - val_loss: 0.6137 - val_accuracy: 0.7161\n",
      "\n",
      "Epoch 00005: val_loss improved from 0.61870 to 0.61374, saving model to model_Conv_8192_best7.h5\n",
      "Epoch 6/15\n",
      "14880730/14880730 [==============================] - 239s 16us/step - loss: 0.5782 - accuracy: 0.7362 - val_loss: 0.6127 - val_accuracy: 0.7192\n",
      "\n",
      "Epoch 00006: val_loss improved from 0.61374 to 0.61267, saving model to model_Conv_8192_best7.h5\n",
      "Epoch 7/15\n",
      "14880730/14880730 [==============================] - 239s 16us/step - loss: 0.5646 - accuracy: 0.7436 - val_loss: 0.6028 - val_accuracy: 0.7252\n",
      "\n",
      "Epoch 00007: val_loss improved from 0.61267 to 0.60283, saving model to model_Conv_8192_best7.h5\n",
      "Epoch 8/15\n",
      "14880730/14880730 [==============================] - 239s 16us/step - loss: 0.5525 - accuracy: 0.7499 - val_loss: 0.5998 - val_accuracy: 0.7282\n",
      "\n",
      "Epoch 00008: val_loss improved from 0.60283 to 0.59985, saving model to model_Conv_8192_best7.h5\n",
      "Epoch 9/15\n",
      "14880730/14880730 [==============================] - 239s 16us/step - loss: 0.5415 - accuracy: 0.7559 - val_loss: 0.5936 - val_accuracy: 0.7296\n",
      "\n",
      "Epoch 00009: val_loss improved from 0.59985 to 0.59361, saving model to model_Conv_8192_best7.h5\n",
      "Epoch 10/15\n",
      "14880730/14880730 [==============================] - 239s 16us/step - loss: 0.5314 - accuracy: 0.7613 - val_loss: 0.5977 - val_accuracy: 0.7294\n",
      "\n",
      "Epoch 00010: ReduceLROnPlateau reducing learning rate to 0.1.\n",
      "\n",
      "Epoch 00010: val_loss did not improve from 0.59361\n",
      "Epoch 11/15\n",
      "14880730/14880730 [==============================] - 239s 16us/step - loss: 0.4755 - accuracy: 0.7901 - val_loss: 0.5843 - val_accuracy: 0.7413\n",
      "\n",
      "Epoch 00011: val_loss improved from 0.59361 to 0.58429, saving model to model_Conv_8192_best7.h5\n",
      "Epoch 12/15\n",
      "14880730/14880730 [==============================] - 239s 16us/step - loss: 0.4614 - accuracy: 0.7972 - val_loss: 0.5890 - val_accuracy: 0.7414\n",
      "\n",
      "Epoch 00012: ReduceLROnPlateau reducing learning rate to 0.010000000149011612.\n",
      "\n",
      "Epoch 00012: val_loss did not improve from 0.58429\n",
      "Epoch 13/15\n",
      "14880730/14880730 [==============================] - 239s 16us/step - loss: 0.4492 - accuracy: 0.8034 - val_loss: 0.5903 - val_accuracy: 0.7424\n",
      "\n",
      "Epoch 00013: ReduceLROnPlateau reducing learning rate to 0.0009999999776482583.\n",
      "\n",
      "Epoch 00013: val_loss did not improve from 0.58429\n",
      "Epoch 14/15\n",
      "14880730/14880730 [==============================] - 239s 16us/step - loss: 0.4470 - accuracy: 0.8045 - val_loss: 0.5907 - val_accuracy: 0.7423\n",
      "\n",
      "Epoch 00014: ReduceLROnPlateau reducing learning rate to 9.999999310821295e-05.\n",
      "\n",
      "Epoch 00014: val_loss did not improve from 0.58429\n",
      "Epoch 15/15\n",
      "14880730/14880730 [==============================] - 239s 16us/step - loss: 0.4469 - accuracy: 0.8046 - val_loss: 0.5906 - val_accuracy: 0.7425\n",
      "\n",
      "Epoch 00015: ReduceLROnPlateau reducing learning rate to 9.999999019782991e-06.\n",
      "\n",
      "Epoch 00015: val_loss did not improve from 0.58429\n",
      "50000/50000 [==============================] - 3s 55us/step\n",
      "Testing loss: 0.5906, Testing accuracy: 74.25%\n",
      "Total training episode: 15\n",
      "\n"
     ]
    },
    {
     "data": {
      "image/png": "[encoded data removed]",
      "text/plain": [
       "<Figure size 432x288 with 1 Axes>"
      ]
     },
     "metadata": {
      "needs_background": "light"
     },
     "output_type": "display_data"
    },
    {
     "data": {
      "image/png": "[encoded data removed]",
      "text/plain": [
       "<Figure size 432x288 with 1 Axes>"
      ]
     },
     "metadata": {
      "needs_background": "light"
     },
     "output_type": "display_data"
    },
    {
     "name": "stdout",
     "output_type": "stream",
     "text": [
      "CPU times: user 1h 9min 33s, sys: 5min 5s, total: 1h 14min 39s\n",
      "Wall time: 59min 55s\n"
     ]
    }
   ],
   "source": [
    "%%time\n",
    "import matplotlib.pyplot as plt\n",
    "\n",
    "Reduce_lr = ReduceLROnPlateau(monitor='val_loss', factor=0.1, patience=1, verbose=1, mode='auto', min_delta=0.0001)\n",
    "checkpointer = ModelCheckpoint(filepath='model_Conv_8192_best7.h5', verbose=1, save_best_only=True)\n",
    "#model = load_model('my_model2.h5')\n",
    "'''for i in range(100):\n",
    "    history = model.fit(X_train, Y_train, epochs=5, batch_size=128, verbose=0)\n",
    "    # evaluate\n",
    "    print('In episode %2d:' % (i))\n",
    "    loss_train, score_train = model.evaluate(X_train, Y_train)\n",
    "    print('Training loss: %.4f, Training accuracy: %.2f%%' %\n",
    "          (loss_train, score_train * 100))\n",
    "    loss_test, score_test = model.evaluate(X_test, Y_test)\n",
    "    print('Testing loss: %.4f, Testing accuracy: %.2f%%' %\n",
    "          (loss_test, score_test * 100))\n",
    "    print()\n",
    "'''\n",
    "history = model.fit(X_train, Y_train, epochs=15, batch_size=512, verbose=1, validation_data=(X_test, Y_test), \n",
    "                   callbacks=[Reduce_lr, checkpointer]).history\n",
    "history_acc.extend(history['accuracy'])\n",
    "history_los.extend(history['loss'])\n",
    "'''loss_train, score_train = model.evaluate(X_train, Y_train)\n",
    "print('Training loss: %.4f, Training accuracy: %.2f%%' %\n",
    "      (loss_train, score_train * 100))'''\n",
    "loss_test, score_test = model.evaluate(X_test, Y_test)\n",
    "print('Testing loss: %.4f, Testing accuracy: %.2f%%' %\n",
    "      (loss_test, score_test * 100))\n",
    "\n",
    "#print(history)\n",
    "print('Total training episode: %d\\n' % len(history_acc))\n",
    "plt.plot(history_acc)\n",
    "plt.title('Model accuracy')\n",
    "plt.ylabel('Accuracy')\n",
    "plt.xlabel('Epoch')\n",
    "plt.legend(['Train', 'Test'], loc='upper left')\n",
    "plt.show()\n",
    "\n",
    "plt.plot(history_los)\n",
    "plt.title('Model loss')\n",
    "plt.ylabel('Loss')\n",
    "plt.xlabel('Epoch')\n",
    "plt.legend(['Train', 'Test'], loc='upper left')\n",
    "plt.show() "
   ]
  },
  {
   "cell_type": "code",
   "execution_count": 151,
   "metadata": {},
   "outputs": [],
   "source": [
    "from game2048.agents import Agent\n",
    "\n",
    "#NUM_X_CLASSES = 14\n",
    "class MyAgent(Agent):\n",
    "\n",
    "    def step(self):\n",
    "        board = np.log2(np.maximum(np.array(self.game.board), 1)).reshape(1, 4, 4, 1)\n",
    "        board = keras.utils.np_utils.to_categorical(board, NUM_X_CLASSES)\n",
    "        direction = np.argmax(model.predict(board), axis=1)\n",
    "        return direction"
   ]
  },
  {
   "cell_type": "code",
   "execution_count": 152,
   "metadata": {},
   "outputs": [
    {
     "name": "stdout",
     "output_type": "stream",
     "text": [
      "Average scores: @50 times 957.44\n",
      "Scores in one std: 438.30 -- 1476.58\n"
     ]
    },
    {
     "data": {
      "image/png": "[encoded data removed]",
      "text/plain": [
       "<Figure size 432x288 with 1 Axes>"
      ]
     },
     "metadata": {
      "needs_background": "light"
     },
     "output_type": "display_data"
    },
    {
     "name": "stdout",
     "output_type": "stream",
     "text": [
      "CPU times: user 1min 8s, sys: 3.12 s, total: 1min 11s\n",
      "Wall time: 50 s\n"
     ]
    }
   ],
   "source": [
    "%%time\n",
    "def single_run(size, score_to_win, AgentClass, **kwargs):\n",
    "    game = Game(size, score_to_win)\n",
    "    agent = AgentClass(game, display=Display(), **kwargs)\n",
    "    agent.play(verbose=False)\n",
    "    return game.score\n",
    "\n",
    "N_TESTS = 50\n",
    "scores = []\n",
    "for _ in range(N_TESTS):\n",
    "    score = single_run(4, score_to_win = None, AgentClass=MyAgent)\n",
    "    scores.append(score)\n",
    "\n",
    "s_mean = np.mean(scores)\n",
    "s_std  = np.std(scores)\n",
    "print(\"Average scores: @%s times\" % N_TESTS, round(s_mean, 2))\n",
    "print(\"Scores in one std: %.2f -- %.2f\" % (s_mean - s_std, s_mean + s_std))\n",
    "plt.plot(scores, 'bo')\n",
    "plt.title('Scores of 50 times')\n",
    "plt.ylabel('Score')\n",
    "plt.xlabel('Epoch')\n",
    "plt.show() "
   ]
  },
  {
   "cell_type": "code",
   "execution_count": 153,
   "metadata": {},
   "outputs": [],
   "source": [
    "model.save('my_best_DL_2048_model7.h5')"
   ]
  },
  {
   "cell_type": "code",
   "execution_count": 8,
   "metadata": {},
   "outputs": [],
   "source": [
    "from game2048.agents import Agent\n",
    "\n",
    "model1 = load_model('my_best_DL_2048_model1.h5')\n",
    "model2 = load_model('my_best_DL_2048_model2.h5')\n",
    "model3 = load_model('my_best_DL_2048_model3.h5')\n",
    "model4 = load_model('my_best_DL_2048_model4.h5')\n",
    "model5 = load_model('my_best_DL_2048_model5.h5')\n",
    "model6 = load_model('my_best_DL_2048_model6.h5')\n",
    "model7 = load_model('my_best_DL_2048_model7.h5')\n",
    "NUM_X_CLASSES = 14\n",
    "class MyAgent(Agent):\n",
    "\n",
    "    def step(self):\n",
    "        board = np.log2(np.maximum(np.array(self.game.board), 1)).reshape(1, 4, 4, 1)\n",
    "        board = keras.utils.np_utils.to_categorical(board, NUM_X_CLASSES)\n",
    "        direction = []\n",
    "        direction.extend(np.argmax(model1.predict(board), axis=1))\n",
    "        direction.extend(np.argmax(model2.predict(board), axis=1))\n",
    "        direction.extend(np.argmax(model3.predict(board), axis=1))\n",
    "        direction.extend(np.argmax(model4.predict(board), axis=1))\n",
    "        direction.extend(np.argmax(model5.predict(board), axis=1))\n",
    "        direction.extend(np.argmax(model6.predict(board), axis=1))\n",
    "        direction.extend(np.argmax(model7.predict(board), axis=1))\n",
    "        direction = np.argmax(np.bincount(direction))\n",
    "        return direction"
   ]
  },
  {
   "cell_type": "code",
   "execution_count": 13,
   "metadata": {},
   "outputs": [
    {
     "name": "stdout",
     "output_type": "stream",
     "text": [
      "Average scores: @50 times 1515.52\n",
      "Scores in one std: 588.47 -- 2442.57\n"
     ]
    },
    {
     "data": {
      "image/png": "[encoded data removed]",
      "text/plain": [
       "<Figure size 432x288 with 1 Axes>"
      ]
     },
     "metadata": {
      "needs_background": "light"
     },
     "output_type": "display_data"
    },
    {
     "name": "stdout",
     "output_type": "stream",
     "text": [
      "CPU times: user 10min 56s, sys: 37.5 s, total: 11min 33s\n",
      "Wall time: 7min 37s\n"
     ]
    }
   ],
   "source": [
    "%%time\n",
    "import matplotlib.pyplot as plt\n",
    "\n",
    "def single_run(size, score_to_win, AgentClass, **kwargs):\n",
    "    game = Game(size, score_to_win)\n",
    "    agent = AgentClass(game, display=Display(), **kwargs)\n",
    "    agent.play(verbose=False)\n",
    "    return game.score\n",
    "\n",
    "N_TESTS = 50\n",
    "scores = []\n",
    "for _ in range(N_TESTS):\n",
    "    score = single_run(4, score_to_win = None, AgentClass=MyAgent)\n",
    "    scores.append(score)\n",
    "\n",
    "s_mean = np.mean(scores)\n",
    "s_std  = np.std(scores)\n",
    "print(\"Average scores: @%s times\" % N_TESTS, round(s_mean, 2))\n",
    "print(\"Scores in one std: %.2f -- %.2f\" % (s_mean - s_std, s_mean + s_std))\n",
    "plt.plot(scores, 'bo')\n",
    "plt.title('Scores of 50 times')\n",
    "plt.ylabel('Score')\n",
    "plt.xlabel('Epoch')\n",
    "plt.show() "
   ]
  },
  {
   "cell_type": "code",
   "execution_count": 339,
   "metadata": {},
   "outputs": [
    {
     "data": {
      "text/html": [
       "<h1>Score: 4</h1><table style=\"border: 5px solid black;\"><tr><td style=\"border:3px solid black; text-align:center;\"\n",
       "         width=\"40\" height=\"40\"></td><td style=\"border:3px solid black; text-align:center;\"\n",
       "         width=\"40\" height=\"40\"></td><td style=\"border:3px solid black; text-align:center;\"\n",
       "         width=\"40\" height=\"40\"></td><td style=\"border:3px solid black; text-align:center;\"\n",
       "         width=\"40\" height=\"40\"></td></tr><tr><td style=\"border:3px solid black; text-align:center;\"\n",
       "         width=\"40\" height=\"40\"></td><td style=\"border:3px solid black; text-align:center;\"\n",
       "         width=\"40\" height=\"40\"></td><td style=\"border:3px solid black; text-align:center;\"\n",
       "         width=\"40\" height=\"40\">2</td><td style=\"border:3px solid black; text-align:center;\"\n",
       "         width=\"40\" height=\"40\"></td></tr><tr><td style=\"border:3px solid black; text-align:center;\"\n",
       "         width=\"40\" height=\"40\"></td><td style=\"border:3px solid black; text-align:center;\"\n",
       "         width=\"40\" height=\"40\"></td><td style=\"border:3px solid black; text-align:center;\"\n",
       "         width=\"40\" height=\"40\"></td><td style=\"border:3px solid black; text-align:center;\"\n",
       "         width=\"40\" height=\"40\"></td></tr><tr><td style=\"border:3px solid black; text-align:center;\"\n",
       "         width=\"40\" height=\"40\">4</td><td style=\"border:3px solid black; text-align:center;\"\n",
       "         width=\"40\" height=\"40\"></td><td style=\"border:3px solid black; text-align:center;\"\n",
       "         width=\"40\" height=\"40\"></td><td style=\"border:3px solid black; text-align:center;\"\n",
       "         width=\"40\" height=\"40\"></td></tr></table>"
      ],
      "text/plain": [
       "<IPython.core.display.HTML object>"
      ]
     },
     "metadata": {},
     "output_type": "display_data"
    },
    {
     "name": "stdout",
     "output_type": "stream",
     "text": [
      "Iter: 1\n",
      "======Direction: up======\n"
     ]
    },
    {
     "data": {
      "text/html": [
       "<h1>Score: 4</h1><table style=\"border: 5px solid black;\"><tr><td style=\"border:3px solid black; text-align:center;\"\n",
       "         width=\"40\" height=\"40\">4</td><td style=\"border:3px solid black; text-align:center;\"\n",
       "         width=\"40\" height=\"40\"></td><td style=\"border:3px solid black; text-align:center;\"\n",
       "         width=\"40\" height=\"40\">2</td><td style=\"border:3px solid black; text-align:center;\"\n",
       "         width=\"40\" height=\"40\">2</td></tr><tr><td style=\"border:3px solid black; text-align:center;\"\n",
       "         width=\"40\" height=\"40\"></td><td style=\"border:3px solid black; text-align:center;\"\n",
       "         width=\"40\" height=\"40\"></td><td style=\"border:3px solid black; text-align:center;\"\n",
       "         width=\"40\" height=\"40\"></td><td style=\"border:3px solid black; text-align:center;\"\n",
       "         width=\"40\" height=\"40\"></td></tr><tr><td style=\"border:3px solid black; text-align:center;\"\n",
       "         width=\"40\" height=\"40\"></td><td style=\"border:3px solid black; text-align:center;\"\n",
       "         width=\"40\" height=\"40\"></td><td style=\"border:3px solid black; text-align:center;\"\n",
       "         width=\"40\" height=\"40\"></td><td style=\"border:3px solid black; text-align:center;\"\n",
       "         width=\"40\" height=\"40\"></td></tr><tr><td style=\"border:3px solid black; text-align:center;\"\n",
       "         width=\"40\" height=\"40\"></td><td style=\"border:3px solid black; text-align:center;\"\n",
       "         width=\"40\" height=\"40\"></td><td style=\"border:3px solid black; text-align:center;\"\n",
       "         width=\"40\" height=\"40\"></td><td style=\"border:3px solid black; text-align:center;\"\n",
       "         width=\"40\" height=\"40\"></td></tr></table>"
      ],
      "text/plain": [
       "<IPython.core.display.HTML object>"
      ]
     },
     "metadata": {},
     "output_type": "display_data"
    },
    {
     "name": "stdout",
     "output_type": "stream",
     "text": [
      "Iter: 2\n",
      "======Direction: down======\n"
     ]
    },
    {
     "data": {
      "text/html": [
       "<h1>Score: 4</h1><table style=\"border: 5px solid black;\"><tr><td style=\"border:3px solid black; text-align:center;\"\n",
       "         width=\"40\" height=\"40\"></td><td style=\"border:3px solid black; text-align:center;\"\n",
       "         width=\"40\" height=\"40\"></td><td style=\"border:3px solid black; text-align:center;\"\n",
       "         width=\"40\" height=\"40\"></td><td style=\"border:3px solid black; text-align:center;\"\n",
       "         width=\"40\" height=\"40\"></td></tr><tr><td style=\"border:3px solid black; text-align:center;\"\n",
       "         width=\"40\" height=\"40\"></td><td style=\"border:3px solid black; text-align:center;\"\n",
       "         width=\"40\" height=\"40\"></td><td style=\"border:3px solid black; text-align:center;\"\n",
       "         width=\"40\" height=\"40\">4</td><td style=\"border:3px solid black; text-align:center;\"\n",
       "         width=\"40\" height=\"40\"></td></tr><tr><td style=\"border:3px solid black; text-align:center;\"\n",
       "         width=\"40\" height=\"40\"></td><td style=\"border:3px solid black; text-align:center;\"\n",
       "         width=\"40\" height=\"40\"></td><td style=\"border:3px solid black; text-align:center;\"\n",
       "         width=\"40\" height=\"40\"></td><td style=\"border:3px solid black; text-align:center;\"\n",
       "         width=\"40\" height=\"40\"></td></tr><tr><td style=\"border:3px solid black; text-align:center;\"\n",
       "         width=\"40\" height=\"40\">4</td><td style=\"border:3px solid black; text-align:center;\"\n",
       "         width=\"40\" height=\"40\"></td><td style=\"border:3px solid black; text-align:center;\"\n",
       "         width=\"40\" height=\"40\">2</td><td style=\"border:3px solid black; text-align:center;\"\n",
       "         width=\"40\" height=\"40\">2</td></tr></table>"
      ],
      "text/plain": [
       "<IPython.core.display.HTML object>"
      ]
     },
     "metadata": {},
     "output_type": "display_data"
    },
    {
     "name": "stdout",
     "output_type": "stream",
     "text": [
      "Iter: 3\n",
      "======Direction: down======\n"
     ]
    },
    {
     "data": {
      "text/html": [
       "<h1>Score: 4</h1><table style=\"border: 5px solid black;\"><tr><td style=\"border:3px solid black; text-align:center;\"\n",
       "         width=\"40\" height=\"40\"></td><td style=\"border:3px solid black; text-align:center;\"\n",
       "         width=\"40\" height=\"40\"></td><td style=\"border:3px solid black; text-align:center;\"\n",
       "         width=\"40\" height=\"40\"></td><td style=\"border:3px solid black; text-align:center;\"\n",
       "         width=\"40\" height=\"40\"></td></tr><tr><td style=\"border:3px solid black; text-align:center;\"\n",
       "         width=\"40\" height=\"40\"></td><td style=\"border:3px solid black; text-align:center;\"\n",
       "         width=\"40\" height=\"40\"></td><td style=\"border:3px solid black; text-align:center;\"\n",
       "         width=\"40\" height=\"40\"></td><td style=\"border:3px solid black; text-align:center;\"\n",
       "         width=\"40\" height=\"40\"></td></tr><tr><td style=\"border:3px solid black; text-align:center;\"\n",
       "         width=\"40\" height=\"40\"></td><td style=\"border:3px solid black; text-align:center;\"\n",
       "         width=\"40\" height=\"40\"></td><td style=\"border:3px solid black; text-align:center;\"\n",
       "         width=\"40\" height=\"40\">4</td><td style=\"border:3px solid black; text-align:center;\"\n",
       "         width=\"40\" height=\"40\"></td></tr><tr><td style=\"border:3px solid black; text-align:center;\"\n",
       "         width=\"40\" height=\"40\">4</td><td style=\"border:3px solid black; text-align:center;\"\n",
       "         width=\"40\" height=\"40\">4</td><td style=\"border:3px solid black; text-align:center;\"\n",
       "         width=\"40\" height=\"40\">2</td><td style=\"border:3px solid black; text-align:center;\"\n",
       "         width=\"40\" height=\"40\">2</td></tr></table>"
      ],
      "text/plain": [
       "<IPython.core.display.HTML object>"
      ]
     },
     "metadata": {},
     "output_type": "display_data"
    },
    {
     "name": "stdout",
     "output_type": "stream",
     "text": [
      "Iter: 4\n",
      "======Direction: up======\n"
     ]
    },
    {
     "data": {
      "text/html": [
       "<h1>Score: 4</h1><table style=\"border: 5px solid black;\"><tr><td style=\"border:3px solid black; text-align:center;\"\n",
       "         width=\"40\" height=\"40\">4</td><td style=\"border:3px solid black; text-align:center;\"\n",
       "         width=\"40\" height=\"40\">4</td><td style=\"border:3px solid black; text-align:center;\"\n",
       "         width=\"40\" height=\"40\">4</td><td style=\"border:3px solid black; text-align:center;\"\n",
       "         width=\"40\" height=\"40\">2</td></tr><tr><td style=\"border:3px solid black; text-align:center;\"\n",
       "         width=\"40\" height=\"40\"></td><td style=\"border:3px solid black; text-align:center;\"\n",
       "         width=\"40\" height=\"40\"></td><td style=\"border:3px solid black; text-align:center;\"\n",
       "         width=\"40\" height=\"40\">2</td><td style=\"border:3px solid black; text-align:center;\"\n",
       "         width=\"40\" height=\"40\"></td></tr><tr><td style=\"border:3px solid black; text-align:center;\"\n",
       "         width=\"40\" height=\"40\"></td><td style=\"border:3px solid black; text-align:center;\"\n",
       "         width=\"40\" height=\"40\"></td><td style=\"border:3px solid black; text-align:center;\"\n",
       "         width=\"40\" height=\"40\"></td><td style=\"border:3px solid black; text-align:center;\"\n",
       "         width=\"40\" height=\"40\"></td></tr><tr><td style=\"border:3px solid black; text-align:center;\"\n",
       "         width=\"40\" height=\"40\"></td><td style=\"border:3px solid black; text-align:center;\"\n",
       "         width=\"40\" height=\"40\"></td><td style=\"border:3px solid black; text-align:center;\"\n",
       "         width=\"40\" height=\"40\">2</td><td style=\"border:3px solid black; text-align:center;\"\n",
       "         width=\"40\" height=\"40\"></td></tr></table>"
      ],
      "text/plain": [
       "<IPython.core.display.HTML object>"
      ]
     },
     "metadata": {},
     "output_type": "display_data"
    },
    {
     "name": "stdout",
     "output_type": "stream",
     "text": [
      "Iter: 5\n",
      "======Direction: left======\n"
     ]
    },
    {
     "data": {
      "text/html": [
       "<h1>Score: 8</h1><table style=\"border: 5px solid black;\"><tr><td style=\"border:3px solid black; text-align:center;\"\n",
       "         width=\"40\" height=\"40\">8</td><td style=\"border:3px solid black; text-align:center;\"\n",
       "         width=\"40\" height=\"40\">4</td><td style=\"border:3px solid black; text-align:center;\"\n",
       "         width=\"40\" height=\"40\">2</td><td style=\"border:3px solid black; text-align:center;\"\n",
       "         width=\"40\" height=\"40\"></td></tr><tr><td style=\"border:3px solid black; text-align:center;\"\n",
       "         width=\"40\" height=\"40\">2</td><td style=\"border:3px solid black; text-align:center;\"\n",
       "         width=\"40\" height=\"40\"></td><td style=\"border:3px solid black; text-align:center;\"\n",
       "         width=\"40\" height=\"40\"></td><td style=\"border:3px solid black; text-align:center;\"\n",
       "         width=\"40\" height=\"40\"></td></tr><tr><td style=\"border:3px solid black; text-align:center;\"\n",
       "         width=\"40\" height=\"40\">4</td><td style=\"border:3px solid black; text-align:center;\"\n",
       "         width=\"40\" height=\"40\"></td><td style=\"border:3px solid black; text-align:center;\"\n",
       "         width=\"40\" height=\"40\"></td><td style=\"border:3px solid black; text-align:center;\"\n",
       "         width=\"40\" height=\"40\"></td></tr><tr><td style=\"border:3px solid black; text-align:center;\"\n",
       "         width=\"40\" height=\"40\">2</td><td style=\"border:3px solid black; text-align:center;\"\n",
       "         width=\"40\" height=\"40\"></td><td style=\"border:3px solid black; text-align:center;\"\n",
       "         width=\"40\" height=\"40\"></td><td style=\"border:3px solid black; text-align:center;\"\n",
       "         width=\"40\" height=\"40\"></td></tr></table>"
      ],
      "text/plain": [
       "<IPython.core.display.HTML object>"
      ]
     },
     "metadata": {},
     "output_type": "display_data"
    },
    {
     "name": "stdout",
     "output_type": "stream",
     "text": [
      "Iter: 6\n",
      "======Direction: down======\n"
     ]
    },
    {
     "data": {
      "text/html": [
       "<h1>Score: 8</h1><table style=\"border: 5px solid black;\"><tr><td style=\"border:3px solid black; text-align:center;\"\n",
       "         width=\"40\" height=\"40\">8</td><td style=\"border:3px solid black; text-align:center;\"\n",
       "         width=\"40\" height=\"40\"></td><td style=\"border:3px solid black; text-align:center;\"\n",
       "         width=\"40\" height=\"40\"></td><td style=\"border:3px solid black; text-align:center;\"\n",
       "         width=\"40\" height=\"40\"></td></tr><tr><td style=\"border:3px solid black; text-align:center;\"\n",
       "         width=\"40\" height=\"40\">2</td><td style=\"border:3px solid black; text-align:center;\"\n",
       "         width=\"40\" height=\"40\"></td><td style=\"border:3px solid black; text-align:center;\"\n",
       "         width=\"40\" height=\"40\"></td><td style=\"border:3px solid black; text-align:center;\"\n",
       "         width=\"40\" height=\"40\"></td></tr><tr><td style=\"border:3px solid black; text-align:center;\"\n",
       "         width=\"40\" height=\"40\">4</td><td style=\"border:3px solid black; text-align:center;\"\n",
       "         width=\"40\" height=\"40\"></td><td style=\"border:3px solid black; text-align:center;\"\n",
       "         width=\"40\" height=\"40\"></td><td style=\"border:3px solid black; text-align:center;\"\n",
       "         width=\"40\" height=\"40\"></td></tr><tr><td style=\"border:3px solid black; text-align:center;\"\n",
       "         width=\"40\" height=\"40\">2</td><td style=\"border:3px solid black; text-align:center;\"\n",
       "         width=\"40\" height=\"40\">4</td><td style=\"border:3px solid black; text-align:center;\"\n",
       "         width=\"40\" height=\"40\">2</td><td style=\"border:3px solid black; text-align:center;\"\n",
       "         width=\"40\" height=\"40\">4</td></tr></table>"
      ],
      "text/plain": [
       "<IPython.core.display.HTML object>"
      ]
     },
     "metadata": {},
     "output_type": "display_data"
    },
    {
     "name": "stdout",
     "output_type": "stream",
     "text": [
      "Iter: 7\n",
      "======Direction: up======\n"
     ]
    },
    {
     "data": {
      "text/html": [
       "<h1>Score: 8</h1><table style=\"border: 5px solid black;\"><tr><td style=\"border:3px solid black; text-align:center;\"\n",
       "         width=\"40\" height=\"40\">8</td><td style=\"border:3px solid black; text-align:center;\"\n",
       "         width=\"40\" height=\"40\">4</td><td style=\"border:3px solid black; text-align:center;\"\n",
       "         width=\"40\" height=\"40\">2</td><td style=\"border:3px solid black; text-align:center;\"\n",
       "         width=\"40\" height=\"40\">4</td></tr><tr><td style=\"border:3px solid black; text-align:center;\"\n",
       "         width=\"40\" height=\"40\">2</td><td style=\"border:3px solid black; text-align:center;\"\n",
       "         width=\"40\" height=\"40\"></td><td style=\"border:3px solid black; text-align:center;\"\n",
       "         width=\"40\" height=\"40\"></td><td style=\"border:3px solid black; text-align:center;\"\n",
       "         width=\"40\" height=\"40\"></td></tr><tr><td style=\"border:3px solid black; text-align:center;\"\n",
       "         width=\"40\" height=\"40\">4</td><td style=\"border:3px solid black; text-align:center;\"\n",
       "         width=\"40\" height=\"40\"></td><td style=\"border:3px solid black; text-align:center;\"\n",
       "         width=\"40\" height=\"40\">4</td><td style=\"border:3px solid black; text-align:center;\"\n",
       "         width=\"40\" height=\"40\"></td></tr><tr><td style=\"border:3px solid black; text-align:center;\"\n",
       "         width=\"40\" height=\"40\">2</td><td style=\"border:3px solid black; text-align:center;\"\n",
       "         width=\"40\" height=\"40\"></td><td style=\"border:3px solid black; text-align:center;\"\n",
       "         width=\"40\" height=\"40\"></td><td style=\"border:3px solid black; text-align:center;\"\n",
       "         width=\"40\" height=\"40\"></td></tr></table>"
      ],
      "text/plain": [
       "<IPython.core.display.HTML object>"
      ]
     },
     "metadata": {},
     "output_type": "display_data"
    },
    {
     "name": "stdout",
     "output_type": "stream",
     "text": [
      "Iter: 8\n",
      "======Direction: up======\n"
     ]
    },
    {
     "data": {
      "text/html": [
       "<h1>Score: 8</h1><table style=\"border: 5px solid black;\"><tr><td style=\"border:3px solid black; text-align:center;\"\n",
       "         width=\"40\" height=\"40\">8</td><td style=\"border:3px solid black; text-align:center;\"\n",
       "         width=\"40\" height=\"40\">4</td><td style=\"border:3px solid black; text-align:center;\"\n",
       "         width=\"40\" height=\"40\">2</td><td style=\"border:3px solid black; text-align:center;\"\n",
       "         width=\"40\" height=\"40\">4</td></tr><tr><td style=\"border:3px solid black; text-align:center;\"\n",
       "         width=\"40\" height=\"40\">2</td><td style=\"border:3px solid black; text-align:center;\"\n",
       "         width=\"40\" height=\"40\">2</td><td style=\"border:3px solid black; text-align:center;\"\n",
       "         width=\"40\" height=\"40\">4</td><td style=\"border:3px solid black; text-align:center;\"\n",
       "         width=\"40\" height=\"40\"></td></tr><tr><td style=\"border:3px solid black; text-align:center;\"\n",
       "         width=\"40\" height=\"40\">4</td><td style=\"border:3px solid black; text-align:center;\"\n",
       "         width=\"40\" height=\"40\"></td><td style=\"border:3px solid black; text-align:center;\"\n",
       "         width=\"40\" height=\"40\"></td><td style=\"border:3px solid black; text-align:center;\"\n",
       "         width=\"40\" height=\"40\"></td></tr><tr><td style=\"border:3px solid black; text-align:center;\"\n",
       "         width=\"40\" height=\"40\">2</td><td style=\"border:3px solid black; text-align:center;\"\n",
       "         width=\"40\" height=\"40\"></td><td style=\"border:3px solid black; text-align:center;\"\n",
       "         width=\"40\" height=\"40\"></td><td style=\"border:3px solid black; text-align:center;\"\n",
       "         width=\"40\" height=\"40\"></td></tr></table>"
      ],
      "text/plain": [
       "<IPython.core.display.HTML object>"
      ]
     },
     "metadata": {},
     "output_type": "display_data"
    },
    {
     "name": "stdout",
     "output_type": "stream",
     "text": [
      "Iter: 9\n",
      "======Direction: down======\n"
     ]
    },
    {
     "data": {
      "text/html": [
       "<h1>Score: 8</h1><table style=\"border: 5px solid black;\"><tr><td style=\"border:3px solid black; text-align:center;\"\n",
       "         width=\"40\" height=\"40\">8</td><td style=\"border:3px solid black; text-align:center;\"\n",
       "         width=\"40\" height=\"40\">2</td><td style=\"border:3px solid black; text-align:center;\"\n",
       "         width=\"40\" height=\"40\"></td><td style=\"border:3px solid black; text-align:center;\"\n",
       "         width=\"40\" height=\"40\"></td></tr><tr><td style=\"border:3px solid black; text-align:center;\"\n",
       "         width=\"40\" height=\"40\">2</td><td style=\"border:3px solid black; text-align:center;\"\n",
       "         width=\"40\" height=\"40\"></td><td style=\"border:3px solid black; text-align:center;\"\n",
       "         width=\"40\" height=\"40\"></td><td style=\"border:3px solid black; text-align:center;\"\n",
       "         width=\"40\" height=\"40\"></td></tr><tr><td style=\"border:3px solid black; text-align:center;\"\n",
       "         width=\"40\" height=\"40\">4</td><td style=\"border:3px solid black; text-align:center;\"\n",
       "         width=\"40\" height=\"40\">4</td><td style=\"border:3px solid black; text-align:center;\"\n",
       "         width=\"40\" height=\"40\">2</td><td style=\"border:3px solid black; text-align:center;\"\n",
       "         width=\"40\" height=\"40\"></td></tr><tr><td style=\"border:3px solid black; text-align:center;\"\n",
       "         width=\"40\" height=\"40\">2</td><td style=\"border:3px solid black; text-align:center;\"\n",
       "         width=\"40\" height=\"40\">2</td><td style=\"border:3px solid black; text-align:center;\"\n",
       "         width=\"40\" height=\"40\">4</td><td style=\"border:3px solid black; text-align:center;\"\n",
       "         width=\"40\" height=\"40\">4</td></tr></table>"
      ],
      "text/plain": [
       "<IPython.core.display.HTML object>"
      ]
     },
     "metadata": {},
     "output_type": "display_data"
    },
    {
     "name": "stdout",
     "output_type": "stream",
     "text": [
      "Iter: 10\n",
      "======Direction: down======\n"
     ]
    },
    {
     "data": {
      "text/html": [
       "<h1>Score: 8</h1><table style=\"border: 5px solid black;\"><tr><td style=\"border:3px solid black; text-align:center;\"\n",
       "         width=\"40\" height=\"40\">8</td><td style=\"border:3px solid black; text-align:center;\"\n",
       "         width=\"40\" height=\"40\"></td><td style=\"border:3px solid black; text-align:center;\"\n",
       "         width=\"40\" height=\"40\"></td><td style=\"border:3px solid black; text-align:center;\"\n",
       "         width=\"40\" height=\"40\"></td></tr><tr><td style=\"border:3px solid black; text-align:center;\"\n",
       "         width=\"40\" height=\"40\">2</td><td style=\"border:3px solid black; text-align:center;\"\n",
       "         width=\"40\" height=\"40\">2</td><td style=\"border:3px solid black; text-align:center;\"\n",
       "         width=\"40\" height=\"40\">4</td><td style=\"border:3px solid black; text-align:center;\"\n",
       "         width=\"40\" height=\"40\"></td></tr><tr><td style=\"border:3px solid black; text-align:center;\"\n",
       "         width=\"40\" height=\"40\">4</td><td style=\"border:3px solid black; text-align:center;\"\n",
       "         width=\"40\" height=\"40\">4</td><td style=\"border:3px solid black; text-align:center;\"\n",
       "         width=\"40\" height=\"40\">2</td><td style=\"border:3px solid black; text-align:center;\"\n",
       "         width=\"40\" height=\"40\"></td></tr><tr><td style=\"border:3px solid black; text-align:center;\"\n",
       "         width=\"40\" height=\"40\">2</td><td style=\"border:3px solid black; text-align:center;\"\n",
       "         width=\"40\" height=\"40\">2</td><td style=\"border:3px solid black; text-align:center;\"\n",
       "         width=\"40\" height=\"40\">4</td><td style=\"border:3px solid black; text-align:center;\"\n",
       "         width=\"40\" height=\"40\">4</td></tr></table>"
      ],
      "text/plain": [
       "<IPython.core.display.HTML object>"
      ]
     },
     "metadata": {},
     "output_type": "display_data"
    },
    {
     "name": "stdout",
     "output_type": "stream",
     "text": [
      "Iter: 11\n",
      "======Direction: up======\n"
     ]
    },
    {
     "data": {
      "text/html": [
       "<h1>Score: 8</h1><table style=\"border: 5px solid black;\"><tr><td style=\"border:3px solid black; text-align:center;\"\n",
       "         width=\"40\" height=\"40\">8</td><td style=\"border:3px solid black; text-align:center;\"\n",
       "         width=\"40\" height=\"40\">2</td><td style=\"border:3px solid black; text-align:center;\"\n",
       "         width=\"40\" height=\"40\">4</td><td style=\"border:3px solid black; text-align:center;\"\n",
       "         width=\"40\" height=\"40\">4</td></tr><tr><td style=\"border:3px solid black; text-align:center;\"\n",
       "         width=\"40\" height=\"40\">2</td><td style=\"border:3px solid black; text-align:center;\"\n",
       "         width=\"40\" height=\"40\">4</td><td style=\"border:3px solid black; text-align:center;\"\n",
       "         width=\"40\" height=\"40\">2</td><td style=\"border:3px solid black; text-align:center;\"\n",
       "         width=\"40\" height=\"40\"></td></tr><tr><td style=\"border:3px solid black; text-align:center;\"\n",
       "         width=\"40\" height=\"40\">4</td><td style=\"border:3px solid black; text-align:center;\"\n",
       "         width=\"40\" height=\"40\">2</td><td style=\"border:3px solid black; text-align:center;\"\n",
       "         width=\"40\" height=\"40\">4</td><td style=\"border:3px solid black; text-align:center;\"\n",
       "         width=\"40\" height=\"40\"></td></tr><tr><td style=\"border:3px solid black; text-align:center;\"\n",
       "         width=\"40\" height=\"40\">2</td><td style=\"border:3px solid black; text-align:center;\"\n",
       "         width=\"40\" height=\"40\"></td><td style=\"border:3px solid black; text-align:center;\"\n",
       "         width=\"40\" height=\"40\"></td><td style=\"border:3px solid black; text-align:center;\"\n",
       "         width=\"40\" height=\"40\">2</td></tr></table>"
      ],
      "text/plain": [
       "<IPython.core.display.HTML object>"
      ]
     },
     "metadata": {},
     "output_type": "display_data"
    },
    {
     "name": "stdout",
     "output_type": "stream",
     "text": [
      "Iter: 12\n",
      "======Direction: down======\n"
     ]
    },
    {
     "data": {
      "text/html": [
       "<h1>Score: 8</h1><table style=\"border: 5px solid black;\"><tr><td style=\"border:3px solid black; text-align:center;\"\n",
       "         width=\"40\" height=\"40\">8</td><td style=\"border:3px solid black; text-align:center;\"\n",
       "         width=\"40\" height=\"40\"></td><td style=\"border:3px solid black; text-align:center;\"\n",
       "         width=\"40\" height=\"40\"></td><td style=\"border:3px solid black; text-align:center;\"\n",
       "         width=\"40\" height=\"40\">2</td></tr><tr><td style=\"border:3px solid black; text-align:center;\"\n",
       "         width=\"40\" height=\"40\">2</td><td style=\"border:3px solid black; text-align:center;\"\n",
       "         width=\"40\" height=\"40\">2</td><td style=\"border:3px solid black; text-align:center;\"\n",
       "         width=\"40\" height=\"40\">4</td><td style=\"border:3px solid black; text-align:center;\"\n",
       "         width=\"40\" height=\"40\"></td></tr><tr><td style=\"border:3px solid black; text-align:center;\"\n",
       "         width=\"40\" height=\"40\">4</td><td style=\"border:3px solid black; text-align:center;\"\n",
       "         width=\"40\" height=\"40\">4</td><td style=\"border:3px solid black; text-align:center;\"\n",
       "         width=\"40\" height=\"40\">2</td><td style=\"border:3px solid black; text-align:center;\"\n",
       "         width=\"40\" height=\"40\">4</td></tr><tr><td style=\"border:3px solid black; text-align:center;\"\n",
       "         width=\"40\" height=\"40\">2</td><td style=\"border:3px solid black; text-align:center;\"\n",
       "         width=\"40\" height=\"40\">2</td><td style=\"border:3px solid black; text-align:center;\"\n",
       "         width=\"40\" height=\"40\">4</td><td style=\"border:3px solid black; text-align:center;\"\n",
       "         width=\"40\" height=\"40\">2</td></tr></table>"
      ],
      "text/plain": [
       "<IPython.core.display.HTML object>"
      ]
     },
     "metadata": {},
     "output_type": "display_data"
    },
    {
     "name": "stdout",
     "output_type": "stream",
     "text": [
      "Iter: 13\n",
      "======Direction: down======\n"
     ]
    },
    {
     "data": {
      "text/html": [
       "<h1>Score: 8</h1><table style=\"border: 5px solid black;\"><tr><td style=\"border:3px solid black; text-align:center;\"\n",
       "         width=\"40\" height=\"40\">8</td><td style=\"border:3px solid black; text-align:center;\"\n",
       "         width=\"40\" height=\"40\"></td><td style=\"border:3px solid black; text-align:center;\"\n",
       "         width=\"40\" height=\"40\"></td><td style=\"border:3px solid black; text-align:center;\"\n",
       "         width=\"40\" height=\"40\">2</td></tr><tr><td style=\"border:3px solid black; text-align:center;\"\n",
       "         width=\"40\" height=\"40\">2</td><td style=\"border:3px solid black; text-align:center;\"\n",
       "         width=\"40\" height=\"40\">2</td><td style=\"border:3px solid black; text-align:center;\"\n",
       "         width=\"40\" height=\"40\">4</td><td style=\"border:3px solid black; text-align:center;\"\n",
       "         width=\"40\" height=\"40\">2</td></tr><tr><td style=\"border:3px solid black; text-align:center;\"\n",
       "         width=\"40\" height=\"40\">4</td><td style=\"border:3px solid black; text-align:center;\"\n",
       "         width=\"40\" height=\"40\">4</td><td style=\"border:3px solid black; text-align:center;\"\n",
       "         width=\"40\" height=\"40\">2</td><td style=\"border:3px solid black; text-align:center;\"\n",
       "         width=\"40\" height=\"40\">4</td></tr><tr><td style=\"border:3px solid black; text-align:center;\"\n",
       "         width=\"40\" height=\"40\">2</td><td style=\"border:3px solid black; text-align:center;\"\n",
       "         width=\"40\" height=\"40\">2</td><td style=\"border:3px solid black; text-align:center;\"\n",
       "         width=\"40\" height=\"40\">4</td><td style=\"border:3px solid black; text-align:center;\"\n",
       "         width=\"40\" height=\"40\">2</td></tr></table>"
      ],
      "text/plain": [
       "<IPython.core.display.HTML object>"
      ]
     },
     "metadata": {},
     "output_type": "display_data"
    },
    {
     "name": "stdout",
     "output_type": "stream",
     "text": [
      "Iter: 14\n",
      "======Direction: left======\n"
     ]
    },
    {
     "data": {
      "text/html": [
       "<h1>Score: 8</h1><table style=\"border: 5px solid black;\"><tr><td style=\"border:3px solid black; text-align:center;\"\n",
       "         width=\"40\" height=\"40\">8</td><td style=\"border:3px solid black; text-align:center;\"\n",
       "         width=\"40\" height=\"40\">2</td><td style=\"border:3px solid black; text-align:center;\"\n",
       "         width=\"40\" height=\"40\"></td><td style=\"border:3px solid black; text-align:center;\"\n",
       "         width=\"40\" height=\"40\">4</td></tr><tr><td style=\"border:3px solid black; text-align:center;\"\n",
       "         width=\"40\" height=\"40\">4</td><td style=\"border:3px solid black; text-align:center;\"\n",
       "         width=\"40\" height=\"40\">4</td><td style=\"border:3px solid black; text-align:center;\"\n",
       "         width=\"40\" height=\"40\">2</td><td style=\"border:3px solid black; text-align:center;\"\n",
       "         width=\"40\" height=\"40\"></td></tr><tr><td style=\"border:3px solid black; text-align:center;\"\n",
       "         width=\"40\" height=\"40\">8</td><td style=\"border:3px solid black; text-align:center;\"\n",
       "         width=\"40\" height=\"40\">2</td><td style=\"border:3px solid black; text-align:center;\"\n",
       "         width=\"40\" height=\"40\">4</td><td style=\"border:3px solid black; text-align:center;\"\n",
       "         width=\"40\" height=\"40\"></td></tr><tr><td style=\"border:3px solid black; text-align:center;\"\n",
       "         width=\"40\" height=\"40\">4</td><td style=\"border:3px solid black; text-align:center;\"\n",
       "         width=\"40\" height=\"40\">4</td><td style=\"border:3px solid black; text-align:center;\"\n",
       "         width=\"40\" height=\"40\">2</td><td style=\"border:3px solid black; text-align:center;\"\n",
       "         width=\"40\" height=\"40\"></td></tr></table>"
      ],
      "text/plain": [
       "<IPython.core.display.HTML object>"
      ]
     },
     "metadata": {},
     "output_type": "display_data"
    },
    {
     "name": "stdout",
     "output_type": "stream",
     "text": [
      "Iter: 15\n",
      "======Direction: down======\n"
     ]
    },
    {
     "data": {
      "text/html": [
       "<h1>Score: 8</h1><table style=\"border: 5px solid black;\"><tr><td style=\"border:3px solid black; text-align:center;\"\n",
       "         width=\"40\" height=\"40\">8</td><td style=\"border:3px solid black; text-align:center;\"\n",
       "         width=\"40\" height=\"40\">2</td><td style=\"border:3px solid black; text-align:center;\"\n",
       "         width=\"40\" height=\"40\"></td><td style=\"border:3px solid black; text-align:center;\"\n",
       "         width=\"40\" height=\"40\"></td></tr><tr><td style=\"border:3px solid black; text-align:center;\"\n",
       "         width=\"40\" height=\"40\">4</td><td style=\"border:3px solid black; text-align:center;\"\n",
       "         width=\"40\" height=\"40\">4</td><td style=\"border:3px solid black; text-align:center;\"\n",
       "         width=\"40\" height=\"40\">2</td><td style=\"border:3px solid black; text-align:center;\"\n",
       "         width=\"40\" height=\"40\">2</td></tr><tr><td style=\"border:3px solid black; text-align:center;\"\n",
       "         width=\"40\" height=\"40\">8</td><td style=\"border:3px solid black; text-align:center;\"\n",
       "         width=\"40\" height=\"40\">2</td><td style=\"border:3px solid black; text-align:center;\"\n",
       "         width=\"40\" height=\"40\">4</td><td style=\"border:3px solid black; text-align:center;\"\n",
       "         width=\"40\" height=\"40\"></td></tr><tr><td style=\"border:3px solid black; text-align:center;\"\n",
       "         width=\"40\" height=\"40\">4</td><td style=\"border:3px solid black; text-align:center;\"\n",
       "         width=\"40\" height=\"40\">4</td><td style=\"border:3px solid black; text-align:center;\"\n",
       "         width=\"40\" height=\"40\">2</td><td style=\"border:3px solid black; text-align:center;\"\n",
       "         width=\"40\" height=\"40\">4</td></tr></table>"
      ],
      "text/plain": [
       "<IPython.core.display.HTML object>"
      ]
     },
     "metadata": {},
     "output_type": "display_data"
    },
    {
     "name": "stdout",
     "output_type": "stream",
     "text": [
      "Iter: 16\n",
      "======Direction: down======\n"
     ]
    },
    {
     "data": {
      "text/html": [
       "<h1>Score: 8</h1><table style=\"border: 5px solid black;\"><tr><td style=\"border:3px solid black; text-align:center;\"\n",
       "         width=\"40\" height=\"40\">8</td><td style=\"border:3px solid black; text-align:center;\"\n",
       "         width=\"40\" height=\"40\">2</td><td style=\"border:3px solid black; text-align:center;\"\n",
       "         width=\"40\" height=\"40\"></td><td style=\"border:3px solid black; text-align:center;\"\n",
       "         width=\"40\" height=\"40\">2</td></tr><tr><td style=\"border:3px solid black; text-align:center;\"\n",
       "         width=\"40\" height=\"40\">4</td><td style=\"border:3px solid black; text-align:center;\"\n",
       "         width=\"40\" height=\"40\">4</td><td style=\"border:3px solid black; text-align:center;\"\n",
       "         width=\"40\" height=\"40\">2</td><td style=\"border:3px solid black; text-align:center;\"\n",
       "         width=\"40\" height=\"40\"></td></tr><tr><td style=\"border:3px solid black; text-align:center;\"\n",
       "         width=\"40\" height=\"40\">8</td><td style=\"border:3px solid black; text-align:center;\"\n",
       "         width=\"40\" height=\"40\">2</td><td style=\"border:3px solid black; text-align:center;\"\n",
       "         width=\"40\" height=\"40\">4</td><td style=\"border:3px solid black; text-align:center;\"\n",
       "         width=\"40\" height=\"40\">2</td></tr><tr><td style=\"border:3px solid black; text-align:center;\"\n",
       "         width=\"40\" height=\"40\">4</td><td style=\"border:3px solid black; text-align:center;\"\n",
       "         width=\"40\" height=\"40\">4</td><td style=\"border:3px solid black; text-align:center;\"\n",
       "         width=\"40\" height=\"40\">2</td><td style=\"border:3px solid black; text-align:center;\"\n",
       "         width=\"40\" height=\"40\">4</td></tr></table>"
      ],
      "text/plain": [
       "<IPython.core.display.HTML object>"
      ]
     },
     "metadata": {},
     "output_type": "display_data"
    },
    {
     "name": "stdout",
     "output_type": "stream",
     "text": [
      "Iter: 17\n",
      "======Direction: up======\n"
     ]
    },
    {
     "data": {
      "text/html": [
       "<h1>Score: 8</h1><table style=\"border: 5px solid black;\"><tr><td style=\"border:3px solid black; text-align:center;\"\n",
       "         width=\"40\" height=\"40\">8</td><td style=\"border:3px solid black; text-align:center;\"\n",
       "         width=\"40\" height=\"40\">2</td><td style=\"border:3px solid black; text-align:center;\"\n",
       "         width=\"40\" height=\"40\">2</td><td style=\"border:3px solid black; text-align:center;\"\n",
       "         width=\"40\" height=\"40\">4</td></tr><tr><td style=\"border:3px solid black; text-align:center;\"\n",
       "         width=\"40\" height=\"40\">4</td><td style=\"border:3px solid black; text-align:center;\"\n",
       "         width=\"40\" height=\"40\">4</td><td style=\"border:3px solid black; text-align:center;\"\n",
       "         width=\"40\" height=\"40\">4</td><td style=\"border:3px solid black; text-align:center;\"\n",
       "         width=\"40\" height=\"40\">4</td></tr><tr><td style=\"border:3px solid black; text-align:center;\"\n",
       "         width=\"40\" height=\"40\">8</td><td style=\"border:3px solid black; text-align:center;\"\n",
       "         width=\"40\" height=\"40\">2</td><td style=\"border:3px solid black; text-align:center;\"\n",
       "         width=\"40\" height=\"40\">2</td><td style=\"border:3px solid black; text-align:center;\"\n",
       "         width=\"40\" height=\"40\">2</td></tr><tr><td style=\"border:3px solid black; text-align:center;\"\n",
       "         width=\"40\" height=\"40\">4</td><td style=\"border:3px solid black; text-align:center;\"\n",
       "         width=\"40\" height=\"40\">4</td><td style=\"border:3px solid black; text-align:center;\"\n",
       "         width=\"40\" height=\"40\"></td><td style=\"border:3px solid black; text-align:center;\"\n",
       "         width=\"40\" height=\"40\"></td></tr></table>"
      ],
      "text/plain": [
       "<IPython.core.display.HTML object>"
      ]
     },
     "metadata": {},
     "output_type": "display_data"
    },
    {
     "name": "stdout",
     "output_type": "stream",
     "text": [
      "Iter: 18\n",
      "======Direction: up======\n"
     ]
    },
    {
     "data": {
      "text/html": [
       "<h1>Score: 8</h1><table style=\"border: 5px solid black;\"><tr><td style=\"border:3px solid black; text-align:center;\"\n",
       "         width=\"40\" height=\"40\">8</td><td style=\"border:3px solid black; text-align:center;\"\n",
       "         width=\"40\" height=\"40\">2</td><td style=\"border:3px solid black; text-align:center;\"\n",
       "         width=\"40\" height=\"40\">2</td><td style=\"border:3px solid black; text-align:center;\"\n",
       "         width=\"40\" height=\"40\">8</td></tr><tr><td style=\"border:3px solid black; text-align:center;\"\n",
       "         width=\"40\" height=\"40\">4</td><td style=\"border:3px solid black; text-align:center;\"\n",
       "         width=\"40\" height=\"40\">4</td><td style=\"border:3px solid black; text-align:center;\"\n",
       "         width=\"40\" height=\"40\">4</td><td style=\"border:3px solid black; text-align:center;\"\n",
       "         width=\"40\" height=\"40\">2</td></tr><tr><td style=\"border:3px solid black; text-align:center;\"\n",
       "         width=\"40\" height=\"40\">8</td><td style=\"border:3px solid black; text-align:center;\"\n",
       "         width=\"40\" height=\"40\">2</td><td style=\"border:3px solid black; text-align:center;\"\n",
       "         width=\"40\" height=\"40\">2</td><td style=\"border:3px solid black; text-align:center;\"\n",
       "         width=\"40\" height=\"40\">4</td></tr><tr><td style=\"border:3px solid black; text-align:center;\"\n",
       "         width=\"40\" height=\"40\">4</td><td style=\"border:3px solid black; text-align:center;\"\n",
       "         width=\"40\" height=\"40\">4</td><td style=\"border:3px solid black; text-align:center;\"\n",
       "         width=\"40\" height=\"40\"></td><td style=\"border:3px solid black; text-align:center;\"\n",
       "         width=\"40\" height=\"40\"></td></tr></table>"
      ],
      "text/plain": [
       "<IPython.core.display.HTML object>"
      ]
     },
     "metadata": {},
     "output_type": "display_data"
    },
    {
     "name": "stdout",
     "output_type": "stream",
     "text": [
      "Iter: 19\n",
      "======Direction: left======\n"
     ]
    },
    {
     "data": {
      "text/html": [
       "<h1>Score: 8</h1><table style=\"border: 5px solid black;\"><tr><td style=\"border:3px solid black; text-align:center;\"\n",
       "         width=\"40\" height=\"40\">8</td><td style=\"border:3px solid black; text-align:center;\"\n",
       "         width=\"40\" height=\"40\">4</td><td style=\"border:3px solid black; text-align:center;\"\n",
       "         width=\"40\" height=\"40\">8</td><td style=\"border:3px solid black; text-align:center;\"\n",
       "         width=\"40\" height=\"40\">4</td></tr><tr><td style=\"border:3px solid black; text-align:center;\"\n",
       "         width=\"40\" height=\"40\">8</td><td style=\"border:3px solid black; text-align:center;\"\n",
       "         width=\"40\" height=\"40\">4</td><td style=\"border:3px solid black; text-align:center;\"\n",
       "         width=\"40\" height=\"40\">2</td><td style=\"border:3px solid black; text-align:center;\"\n",
       "         width=\"40\" height=\"40\"></td></tr><tr><td style=\"border:3px solid black; text-align:center;\"\n",
       "         width=\"40\" height=\"40\">8</td><td style=\"border:3px solid black; text-align:center;\"\n",
       "         width=\"40\" height=\"40\">4</td><td style=\"border:3px solid black; text-align:center;\"\n",
       "         width=\"40\" height=\"40\">4</td><td style=\"border:3px solid black; text-align:center;\"\n",
       "         width=\"40\" height=\"40\"></td></tr><tr><td style=\"border:3px solid black; text-align:center;\"\n",
       "         width=\"40\" height=\"40\">8</td><td style=\"border:3px solid black; text-align:center;\"\n",
       "         width=\"40\" height=\"40\"></td><td style=\"border:3px solid black; text-align:center;\"\n",
       "         width=\"40\" height=\"40\"></td><td style=\"border:3px solid black; text-align:center;\"\n",
       "         width=\"40\" height=\"40\"></td></tr></table>"
      ],
      "text/plain": [
       "<IPython.core.display.HTML object>"
      ]
     },
     "metadata": {},
     "output_type": "display_data"
    },
    {
     "name": "stdout",
     "output_type": "stream",
     "text": [
      "Iter: 20\n",
      "======Direction: left======\n"
     ]
    },
    {
     "data": {
      "text/html": [
       "<h1>Score: 8</h1><table style=\"border: 5px solid black;\"><tr><td style=\"border:3px solid black; text-align:center;\"\n",
       "         width=\"40\" height=\"40\">8</td><td style=\"border:3px solid black; text-align:center;\"\n",
       "         width=\"40\" height=\"40\">4</td><td style=\"border:3px solid black; text-align:center;\"\n",
       "         width=\"40\" height=\"40\">8</td><td style=\"border:3px solid black; text-align:center;\"\n",
       "         width=\"40\" height=\"40\">4</td></tr><tr><td style=\"border:3px solid black; text-align:center;\"\n",
       "         width=\"40\" height=\"40\">8</td><td style=\"border:3px solid black; text-align:center;\"\n",
       "         width=\"40\" height=\"40\">4</td><td style=\"border:3px solid black; text-align:center;\"\n",
       "         width=\"40\" height=\"40\">2</td><td style=\"border:3px solid black; text-align:center;\"\n",
       "         width=\"40\" height=\"40\"></td></tr><tr><td style=\"border:3px solid black; text-align:center;\"\n",
       "         width=\"40\" height=\"40\">8</td><td style=\"border:3px solid black; text-align:center;\"\n",
       "         width=\"40\" height=\"40\">8</td><td style=\"border:3px solid black; text-align:center;\"\n",
       "         width=\"40\" height=\"40\"></td><td style=\"border:3px solid black; text-align:center;\"\n",
       "         width=\"40\" height=\"40\"></td></tr><tr><td style=\"border:3px solid black; text-align:center;\"\n",
       "         width=\"40\" height=\"40\">8</td><td style=\"border:3px solid black; text-align:center;\"\n",
       "         width=\"40\" height=\"40\"></td><td style=\"border:3px solid black; text-align:center;\"\n",
       "         width=\"40\" height=\"40\"></td><td style=\"border:3px solid black; text-align:center;\"\n",
       "         width=\"40\" height=\"40\">4</td></tr></table>"
      ],
      "text/plain": [
       "<IPython.core.display.HTML object>"
      ]
     },
     "metadata": {},
     "output_type": "display_data"
    },
    {
     "name": "stdout",
     "output_type": "stream",
     "text": [
      "Iter: 21\n",
      "======Direction: left======\n"
     ]
    },
    {
     "data": {
      "text/html": [
       "<h1>Score: 16</h1><table style=\"border: 5px solid black;\"><tr><td style=\"border:3px solid black; text-align:center;\"\n",
       "         width=\"40\" height=\"40\">8</td><td style=\"border:3px solid black; text-align:center;\"\n",
       "         width=\"40\" height=\"40\">4</td><td style=\"border:3px solid black; text-align:center;\"\n",
       "         width=\"40\" height=\"40\">8</td><td style=\"border:3px solid black; text-align:center;\"\n",
       "         width=\"40\" height=\"40\">4</td></tr><tr><td style=\"border:3px solid black; text-align:center;\"\n",
       "         width=\"40\" height=\"40\">8</td><td style=\"border:3px solid black; text-align:center;\"\n",
       "         width=\"40\" height=\"40\">4</td><td style=\"border:3px solid black; text-align:center;\"\n",
       "         width=\"40\" height=\"40\">2</td><td style=\"border:3px solid black; text-align:center;\"\n",
       "         width=\"40\" height=\"40\"></td></tr><tr><td style=\"border:3px solid black; text-align:center;\"\n",
       "         width=\"40\" height=\"40\">16</td><td style=\"border:3px solid black; text-align:center;\"\n",
       "         width=\"40\" height=\"40\"></td><td style=\"border:3px solid black; text-align:center;\"\n",
       "         width=\"40\" height=\"40\"></td><td style=\"border:3px solid black; text-align:center;\"\n",
       "         width=\"40\" height=\"40\"></td></tr><tr><td style=\"border:3px solid black; text-align:center;\"\n",
       "         width=\"40\" height=\"40\">8</td><td style=\"border:3px solid black; text-align:center;\"\n",
       "         width=\"40\" height=\"40\">4</td><td style=\"border:3px solid black; text-align:center;\"\n",
       "         width=\"40\" height=\"40\"></td><td style=\"border:3px solid black; text-align:center;\"\n",
       "         width=\"40\" height=\"40\">2</td></tr></table>"
      ],
      "text/plain": [
       "<IPython.core.display.HTML object>"
      ]
     },
     "metadata": {},
     "output_type": "display_data"
    },
    {
     "name": "stdout",
     "output_type": "stream",
     "text": [
      "Iter: 22\n",
      "======Direction: left======\n"
     ]
    },
    {
     "data": {
      "text/html": [
       "<h1>Score: 16</h1><table style=\"border: 5px solid black;\"><tr><td style=\"border:3px solid black; text-align:center;\"\n",
       "         width=\"40\" height=\"40\">8</td><td style=\"border:3px solid black; text-align:center;\"\n",
       "         width=\"40\" height=\"40\">4</td><td style=\"border:3px solid black; text-align:center;\"\n",
       "         width=\"40\" height=\"40\">8</td><td style=\"border:3px solid black; text-align:center;\"\n",
       "         width=\"40\" height=\"40\">4</td></tr><tr><td style=\"border:3px solid black; text-align:center;\"\n",
       "         width=\"40\" height=\"40\">8</td><td style=\"border:3px solid black; text-align:center;\"\n",
       "         width=\"40\" height=\"40\">4</td><td style=\"border:3px solid black; text-align:center;\"\n",
       "         width=\"40\" height=\"40\">2</td><td style=\"border:3px solid black; text-align:center;\"\n",
       "         width=\"40\" height=\"40\"></td></tr><tr><td style=\"border:3px solid black; text-align:center;\"\n",
       "         width=\"40\" height=\"40\">16</td><td style=\"border:3px solid black; text-align:center;\"\n",
       "         width=\"40\" height=\"40\"></td><td style=\"border:3px solid black; text-align:center;\"\n",
       "         width=\"40\" height=\"40\">2</td><td style=\"border:3px solid black; text-align:center;\"\n",
       "         width=\"40\" height=\"40\"></td></tr><tr><td style=\"border:3px solid black; text-align:center;\"\n",
       "         width=\"40\" height=\"40\">8</td><td style=\"border:3px solid black; text-align:center;\"\n",
       "         width=\"40\" height=\"40\">4</td><td style=\"border:3px solid black; text-align:center;\"\n",
       "         width=\"40\" height=\"40\">2</td><td style=\"border:3px solid black; text-align:center;\"\n",
       "         width=\"40\" height=\"40\"></td></tr></table>"
      ],
      "text/plain": [
       "<IPython.core.display.HTML object>"
      ]
     },
     "metadata": {},
     "output_type": "display_data"
    },
    {
     "name": "stdout",
     "output_type": "stream",
     "text": [
      "Iter: 23\n",
      "======Direction: left======\n"
     ]
    },
    {
     "data": {
      "text/html": [
       "<h1>Score: 16</h1><table style=\"border: 5px solid black;\"><tr><td style=\"border:3px solid black; text-align:center;\"\n",
       "         width=\"40\" height=\"40\">8</td><td style=\"border:3px solid black; text-align:center;\"\n",
       "         width=\"40\" height=\"40\">4</td><td style=\"border:3px solid black; text-align:center;\"\n",
       "         width=\"40\" height=\"40\">8</td><td style=\"border:3px solid black; text-align:center;\"\n",
       "         width=\"40\" height=\"40\">4</td></tr><tr><td style=\"border:3px solid black; text-align:center;\"\n",
       "         width=\"40\" height=\"40\">8</td><td style=\"border:3px solid black; text-align:center;\"\n",
       "         width=\"40\" height=\"40\">4</td><td style=\"border:3px solid black; text-align:center;\"\n",
       "         width=\"40\" height=\"40\">2</td><td style=\"border:3px solid black; text-align:center;\"\n",
       "         width=\"40\" height=\"40\"></td></tr><tr><td style=\"border:3px solid black; text-align:center;\"\n",
       "         width=\"40\" height=\"40\">16</td><td style=\"border:3px solid black; text-align:center;\"\n",
       "         width=\"40\" height=\"40\">2</td><td style=\"border:3px solid black; text-align:center;\"\n",
       "         width=\"40\" height=\"40\"></td><td style=\"border:3px solid black; text-align:center;\"\n",
       "         width=\"40\" height=\"40\"></td></tr><tr><td style=\"border:3px solid black; text-align:center;\"\n",
       "         width=\"40\" height=\"40\">8</td><td style=\"border:3px solid black; text-align:center;\"\n",
       "         width=\"40\" height=\"40\">4</td><td style=\"border:3px solid black; text-align:center;\"\n",
       "         width=\"40\" height=\"40\">2</td><td style=\"border:3px solid black; text-align:center;\"\n",
       "         width=\"40\" height=\"40\">4</td></tr></table>"
      ],
      "text/plain": [
       "<IPython.core.display.HTML object>"
      ]
     },
     "metadata": {},
     "output_type": "display_data"
    },
    {
     "name": "stdout",
     "output_type": "stream",
     "text": [
      "Iter: 24\n",
      "======Direction: up======\n"
     ]
    },
    {
     "data": {
      "text/html": [
       "<h1>Score: 16</h1><table style=\"border: 5px solid black;\"><tr><td style=\"border:3px solid black; text-align:center;\"\n",
       "         width=\"40\" height=\"40\">16</td><td style=\"border:3px solid black; text-align:center;\"\n",
       "         width=\"40\" height=\"40\">8</td><td style=\"border:3px solid black; text-align:center;\"\n",
       "         width=\"40\" height=\"40\">8</td><td style=\"border:3px solid black; text-align:center;\"\n",
       "         width=\"40\" height=\"40\">8</td></tr><tr><td style=\"border:3px solid black; text-align:center;\"\n",
       "         width=\"40\" height=\"40\">16</td><td style=\"border:3px solid black; text-align:center;\"\n",
       "         width=\"40\" height=\"40\">2</td><td style=\"border:3px solid black; text-align:center;\"\n",
       "         width=\"40\" height=\"40\">4</td><td style=\"border:3px solid black; text-align:center;\"\n",
       "         width=\"40\" height=\"40\"></td></tr><tr><td style=\"border:3px solid black; text-align:center;\"\n",
       "         width=\"40\" height=\"40\">8</td><td style=\"border:3px solid black; text-align:center;\"\n",
       "         width=\"40\" height=\"40\">4</td><td style=\"border:3px solid black; text-align:center;\"\n",
       "         width=\"40\" height=\"40\"></td><td style=\"border:3px solid black; text-align:center;\"\n",
       "         width=\"40\" height=\"40\"></td></tr><tr><td style=\"border:3px solid black; text-align:center;\"\n",
       "         width=\"40\" height=\"40\"></td><td style=\"border:3px solid black; text-align:center;\"\n",
       "         width=\"40\" height=\"40\"></td><td style=\"border:3px solid black; text-align:center;\"\n",
       "         width=\"40\" height=\"40\"></td><td style=\"border:3px solid black; text-align:center;\"\n",
       "         width=\"40\" height=\"40\">2</td></tr></table>"
      ],
      "text/plain": [
       "<IPython.core.display.HTML object>"
      ]
     },
     "metadata": {},
     "output_type": "display_data"
    },
    {
     "name": "stdout",
     "output_type": "stream",
     "text": [
      "Iter: 25\n",
      "======Direction: up======\n"
     ]
    },
    {
     "data": {
      "text/html": [
       "<h1>Score: 32</h1><table style=\"border: 5px solid black;\"><tr><td style=\"border:3px solid black; text-align:center;\"\n",
       "         width=\"40\" height=\"40\">32</td><td style=\"border:3px solid black; text-align:center;\"\n",
       "         width=\"40\" height=\"40\">8</td><td style=\"border:3px solid black; text-align:center;\"\n",
       "         width=\"40\" height=\"40\">8</td><td style=\"border:3px solid black; text-align:center;\"\n",
       "         width=\"40\" height=\"40\">8</td></tr><tr><td style=\"border:3px solid black; text-align:center;\"\n",
       "         width=\"40\" height=\"40\">8</td><td style=\"border:3px solid black; text-align:center;\"\n",
       "         width=\"40\" height=\"40\">2</td><td style=\"border:3px solid black; text-align:center;\"\n",
       "         width=\"40\" height=\"40\">4</td><td style=\"border:3px solid black; text-align:center;\"\n",
       "         width=\"40\" height=\"40\">2</td></tr><tr><td style=\"border:3px solid black; text-align:center;\"\n",
       "         width=\"40\" height=\"40\"></td><td style=\"border:3px solid black; text-align:center;\"\n",
       "         width=\"40\" height=\"40\">4</td><td style=\"border:3px solid black; text-align:center;\"\n",
       "         width=\"40\" height=\"40\"></td><td style=\"border:3px solid black; text-align:center;\"\n",
       "         width=\"40\" height=\"40\">2</td></tr><tr><td style=\"border:3px solid black; text-align:center;\"\n",
       "         width=\"40\" height=\"40\"></td><td style=\"border:3px solid black; text-align:center;\"\n",
       "         width=\"40\" height=\"40\"></td><td style=\"border:3px solid black; text-align:center;\"\n",
       "         width=\"40\" height=\"40\"></td><td style=\"border:3px solid black; text-align:center;\"\n",
       "         width=\"40\" height=\"40\"></td></tr></table>"
      ],
      "text/plain": [
       "<IPython.core.display.HTML object>"
      ]
     },
     "metadata": {},
     "output_type": "display_data"
    },
    {
     "name": "stdout",
     "output_type": "stream",
     "text": [
      "Iter: 26\n",
      "======Direction: left======\n"
     ]
    },
    {
     "data": {
      "text/html": [
       "<h1>Score: 32</h1><table style=\"border: 5px solid black;\"><tr><td style=\"border:3px solid black; text-align:center;\"\n",
       "         width=\"40\" height=\"40\">32</td><td style=\"border:3px solid black; text-align:center;\"\n",
       "         width=\"40\" height=\"40\">16</td><td style=\"border:3px solid black; text-align:center;\"\n",
       "         width=\"40\" height=\"40\">8</td><td style=\"border:3px solid black; text-align:center;\"\n",
       "         width=\"40\" height=\"40\"></td></tr><tr><td style=\"border:3px solid black; text-align:center;\"\n",
       "         width=\"40\" height=\"40\">8</td><td style=\"border:3px solid black; text-align:center;\"\n",
       "         width=\"40\" height=\"40\">2</td><td style=\"border:3px solid black; text-align:center;\"\n",
       "         width=\"40\" height=\"40\">4</td><td style=\"border:3px solid black; text-align:center;\"\n",
       "         width=\"40\" height=\"40\">2</td></tr><tr><td style=\"border:3px solid black; text-align:center;\"\n",
       "         width=\"40\" height=\"40\">4</td><td style=\"border:3px solid black; text-align:center;\"\n",
       "         width=\"40\" height=\"40\">2</td><td style=\"border:3px solid black; text-align:center;\"\n",
       "         width=\"40\" height=\"40\"></td><td style=\"border:3px solid black; text-align:center;\"\n",
       "         width=\"40\" height=\"40\">4</td></tr><tr><td style=\"border:3px solid black; text-align:center;\"\n",
       "         width=\"40\" height=\"40\"></td><td style=\"border:3px solid black; text-align:center;\"\n",
       "         width=\"40\" height=\"40\"></td><td style=\"border:3px solid black; text-align:center;\"\n",
       "         width=\"40\" height=\"40\"></td><td style=\"border:3px solid black; text-align:center;\"\n",
       "         width=\"40\" height=\"40\"></td></tr></table>"
      ],
      "text/plain": [
       "<IPython.core.display.HTML object>"
      ]
     },
     "metadata": {},
     "output_type": "display_data"
    },
    {
     "name": "stdout",
     "output_type": "stream",
     "text": [
      "Iter: 27\n",
      "======Direction: up======\n"
     ]
    },
    {
     "data": {
      "text/html": [
       "<h1>Score: 32</h1><table style=\"border: 5px solid black;\"><tr><td style=\"border:3px solid black; text-align:center;\"\n",
       "         width=\"40\" height=\"40\">32</td><td style=\"border:3px solid black; text-align:center;\"\n",
       "         width=\"40\" height=\"40\">16</td><td style=\"border:3px solid black; text-align:center;\"\n",
       "         width=\"40\" height=\"40\">8</td><td style=\"border:3px solid black; text-align:center;\"\n",
       "         width=\"40\" height=\"40\">2</td></tr><tr><td style=\"border:3px solid black; text-align:center;\"\n",
       "         width=\"40\" height=\"40\">8</td><td style=\"border:3px solid black; text-align:center;\"\n",
       "         width=\"40\" height=\"40\">4</td><td style=\"border:3px solid black; text-align:center;\"\n",
       "         width=\"40\" height=\"40\">4</td><td style=\"border:3px solid black; text-align:center;\"\n",
       "         width=\"40\" height=\"40\">4</td></tr><tr><td style=\"border:3px solid black; text-align:center;\"\n",
       "         width=\"40\" height=\"40\">4</td><td style=\"border:3px solid black; text-align:center;\"\n",
       "         width=\"40\" height=\"40\"></td><td style=\"border:3px solid black; text-align:center;\"\n",
       "         width=\"40\" height=\"40\">2</td><td style=\"border:3px solid black; text-align:center;\"\n",
       "         width=\"40\" height=\"40\"></td></tr><tr><td style=\"border:3px solid black; text-align:center;\"\n",
       "         width=\"40\" height=\"40\"></td><td style=\"border:3px solid black; text-align:center;\"\n",
       "         width=\"40\" height=\"40\"></td><td style=\"border:3px solid black; text-align:center;\"\n",
       "         width=\"40\" height=\"40\"></td><td style=\"border:3px solid black; text-align:center;\"\n",
       "         width=\"40\" height=\"40\"></td></tr></table>"
      ],
      "text/plain": [
       "<IPython.core.display.HTML object>"
      ]
     },
     "metadata": {},
     "output_type": "display_data"
    },
    {
     "name": "stdout",
     "output_type": "stream",
     "text": [
      "Iter: 28\n",
      "======Direction: left======\n"
     ]
    },
    {
     "data": {
      "text/html": [
       "<h1>Score: 32</h1><table style=\"border: 5px solid black;\"><tr><td style=\"border:3px solid black; text-align:center;\"\n",
       "         width=\"40\" height=\"40\">32</td><td style=\"border:3px solid black; text-align:center;\"\n",
       "         width=\"40\" height=\"40\">16</td><td style=\"border:3px solid black; text-align:center;\"\n",
       "         width=\"40\" height=\"40\">8</td><td style=\"border:3px solid black; text-align:center;\"\n",
       "         width=\"40\" height=\"40\">2</td></tr><tr><td style=\"border:3px solid black; text-align:center;\"\n",
       "         width=\"40\" height=\"40\">8</td><td style=\"border:3px solid black; text-align:center;\"\n",
       "         width=\"40\" height=\"40\">8</td><td style=\"border:3px solid black; text-align:center;\"\n",
       "         width=\"40\" height=\"40\">4</td><td style=\"border:3px solid black; text-align:center;\"\n",
       "         width=\"40\" height=\"40\"></td></tr><tr><td style=\"border:3px solid black; text-align:center;\"\n",
       "         width=\"40\" height=\"40\">4</td><td style=\"border:3px solid black; text-align:center;\"\n",
       "         width=\"40\" height=\"40\">2</td><td style=\"border:3px solid black; text-align:center;\"\n",
       "         width=\"40\" height=\"40\"></td><td style=\"border:3px solid black; text-align:center;\"\n",
       "         width=\"40\" height=\"40\"></td></tr><tr><td style=\"border:3px solid black; text-align:center;\"\n",
       "         width=\"40\" height=\"40\"></td><td style=\"border:3px solid black; text-align:center;\"\n",
       "         width=\"40\" height=\"40\"></td><td style=\"border:3px solid black; text-align:center;\"\n",
       "         width=\"40\" height=\"40\"></td><td style=\"border:3px solid black; text-align:center;\"\n",
       "         width=\"40\" height=\"40\">4</td></tr></table>"
      ],
      "text/plain": [
       "<IPython.core.display.HTML object>"
      ]
     },
     "metadata": {},
     "output_type": "display_data"
    },
    {
     "name": "stdout",
     "output_type": "stream",
     "text": [
      "Iter: 29\n",
      "======Direction: up======\n"
     ]
    },
    {
     "data": {
      "text/html": [
       "<h1>Score: 32</h1><table style=\"border: 5px solid black;\"><tr><td style=\"border:3px solid black; text-align:center;\"\n",
       "         width=\"40\" height=\"40\">32</td><td style=\"border:3px solid black; text-align:center;\"\n",
       "         width=\"40\" height=\"40\">16</td><td style=\"border:3px solid black; text-align:center;\"\n",
       "         width=\"40\" height=\"40\">8</td><td style=\"border:3px solid black; text-align:center;\"\n",
       "         width=\"40\" height=\"40\">2</td></tr><tr><td style=\"border:3px solid black; text-align:center;\"\n",
       "         width=\"40\" height=\"40\">8</td><td style=\"border:3px solid black; text-align:center;\"\n",
       "         width=\"40\" height=\"40\">8</td><td style=\"border:3px solid black; text-align:center;\"\n",
       "         width=\"40\" height=\"40\">4</td><td style=\"border:3px solid black; text-align:center;\"\n",
       "         width=\"40\" height=\"40\">4</td></tr><tr><td style=\"border:3px solid black; text-align:center;\"\n",
       "         width=\"40\" height=\"40\">4</td><td style=\"border:3px solid black; text-align:center;\"\n",
       "         width=\"40\" height=\"40\">2</td><td style=\"border:3px solid black; text-align:center;\"\n",
       "         width=\"40\" height=\"40\"></td><td style=\"border:3px solid black; text-align:center;\"\n",
       "         width=\"40\" height=\"40\">4</td></tr><tr><td style=\"border:3px solid black; text-align:center;\"\n",
       "         width=\"40\" height=\"40\"></td><td style=\"border:3px solid black; text-align:center;\"\n",
       "         width=\"40\" height=\"40\"></td><td style=\"border:3px solid black; text-align:center;\"\n",
       "         width=\"40\" height=\"40\"></td><td style=\"border:3px solid black; text-align:center;\"\n",
       "         width=\"40\" height=\"40\"></td></tr></table>"
      ],
      "text/plain": [
       "<IPython.core.display.HTML object>"
      ]
     },
     "metadata": {},
     "output_type": "display_data"
    },
    {
     "name": "stdout",
     "output_type": "stream",
     "text": [
      "Iter: 30\n",
      "======Direction: left======\n"
     ]
    },
    {
     "data": {
      "text/html": [
       "<h1>Score: 32</h1><table style=\"border: 5px solid black;\"><tr><td style=\"border:3px solid black; text-align:center;\"\n",
       "         width=\"40\" height=\"40\">32</td><td style=\"border:3px solid black; text-align:center;\"\n",
       "         width=\"40\" height=\"40\">16</td><td style=\"border:3px solid black; text-align:center;\"\n",
       "         width=\"40\" height=\"40\">8</td><td style=\"border:3px solid black; text-align:center;\"\n",
       "         width=\"40\" height=\"40\">2</td></tr><tr><td style=\"border:3px solid black; text-align:center;\"\n",
       "         width=\"40\" height=\"40\">16</td><td style=\"border:3px solid black; text-align:center;\"\n",
       "         width=\"40\" height=\"40\">8</td><td style=\"border:3px solid black; text-align:center;\"\n",
       "         width=\"40\" height=\"40\"></td><td style=\"border:3px solid black; text-align:center;\"\n",
       "         width=\"40\" height=\"40\"></td></tr><tr><td style=\"border:3px solid black; text-align:center;\"\n",
       "         width=\"40\" height=\"40\">4</td><td style=\"border:3px solid black; text-align:center;\"\n",
       "         width=\"40\" height=\"40\">2</td><td style=\"border:3px solid black; text-align:center;\"\n",
       "         width=\"40\" height=\"40\">4</td><td style=\"border:3px solid black; text-align:center;\"\n",
       "         width=\"40\" height=\"40\"></td></tr><tr><td style=\"border:3px solid black; text-align:center;\"\n",
       "         width=\"40\" height=\"40\">2</td><td style=\"border:3px solid black; text-align:center;\"\n",
       "         width=\"40\" height=\"40\"></td><td style=\"border:3px solid black; text-align:center;\"\n",
       "         width=\"40\" height=\"40\"></td><td style=\"border:3px solid black; text-align:center;\"\n",
       "         width=\"40\" height=\"40\"></td></tr></table>"
      ],
      "text/plain": [
       "<IPython.core.display.HTML object>"
      ]
     },
     "metadata": {},
     "output_type": "display_data"
    },
    {
     "name": "stdout",
     "output_type": "stream",
     "text": [
      "Iter: 31\n",
      "======Direction: up======\n"
     ]
    },
    {
     "data": {
      "text/html": [
       "<h1>Score: 32</h1><table style=\"border: 5px solid black;\"><tr><td style=\"border:3px solid black; text-align:center;\"\n",
       "         width=\"40\" height=\"40\">32</td><td style=\"border:3px solid black; text-align:center;\"\n",
       "         width=\"40\" height=\"40\">16</td><td style=\"border:3px solid black; text-align:center;\"\n",
       "         width=\"40\" height=\"40\">8</td><td style=\"border:3px solid black; text-align:center;\"\n",
       "         width=\"40\" height=\"40\">2</td></tr><tr><td style=\"border:3px solid black; text-align:center;\"\n",
       "         width=\"40\" height=\"40\">16</td><td style=\"border:3px solid black; text-align:center;\"\n",
       "         width=\"40\" height=\"40\">8</td><td style=\"border:3px solid black; text-align:center;\"\n",
       "         width=\"40\" height=\"40\">4</td><td style=\"border:3px solid black; text-align:center;\"\n",
       "         width=\"40\" height=\"40\"></td></tr><tr><td style=\"border:3px solid black; text-align:center;\"\n",
       "         width=\"40\" height=\"40\">4</td><td style=\"border:3px solid black; text-align:center;\"\n",
       "         width=\"40\" height=\"40\">2</td><td style=\"border:3px solid black; text-align:center;\"\n",
       "         width=\"40\" height=\"40\">2</td><td style=\"border:3px solid black; text-align:center;\"\n",
       "         width=\"40\" height=\"40\"></td></tr><tr><td style=\"border:3px solid black; text-align:center;\"\n",
       "         width=\"40\" height=\"40\">2</td><td style=\"border:3px solid black; text-align:center;\"\n",
       "         width=\"40\" height=\"40\"></td><td style=\"border:3px solid black; text-align:center;\"\n",
       "         width=\"40\" height=\"40\"></td><td style=\"border:3px solid black; text-align:center;\"\n",
       "         width=\"40\" height=\"40\"></td></tr></table>"
      ],
      "text/plain": [
       "<IPython.core.display.HTML object>"
      ]
     },
     "metadata": {},
     "output_type": "display_data"
    },
    {
     "name": "stdout",
     "output_type": "stream",
     "text": [
      "Iter: 32\n",
      "======Direction: left======\n"
     ]
    },
    {
     "data": {
      "text/html": [
       "<h1>Score: 32</h1><table style=\"border: 5px solid black;\"><tr><td style=\"border:3px solid black; text-align:center;\"\n",
       "         width=\"40\" height=\"40\">32</td><td style=\"border:3px solid black; text-align:center;\"\n",
       "         width=\"40\" height=\"40\">16</td><td style=\"border:3px solid black; text-align:center;\"\n",
       "         width=\"40\" height=\"40\">8</td><td style=\"border:3px solid black; text-align:center;\"\n",
       "         width=\"40\" height=\"40\">2</td></tr><tr><td style=\"border:3px solid black; text-align:center;\"\n",
       "         width=\"40\" height=\"40\">16</td><td style=\"border:3px solid black; text-align:center;\"\n",
       "         width=\"40\" height=\"40\">8</td><td style=\"border:3px solid black; text-align:center;\"\n",
       "         width=\"40\" height=\"40\">4</td><td style=\"border:3px solid black; text-align:center;\"\n",
       "         width=\"40\" height=\"40\"></td></tr><tr><td style=\"border:3px solid black; text-align:center;\"\n",
       "         width=\"40\" height=\"40\">4</td><td style=\"border:3px solid black; text-align:center;\"\n",
       "         width=\"40\" height=\"40\">4</td><td style=\"border:3px solid black; text-align:center;\"\n",
       "         width=\"40\" height=\"40\"></td><td style=\"border:3px solid black; text-align:center;\"\n",
       "         width=\"40\" height=\"40\"></td></tr><tr><td style=\"border:3px solid black; text-align:center;\"\n",
       "         width=\"40\" height=\"40\">2</td><td style=\"border:3px solid black; text-align:center;\"\n",
       "         width=\"40\" height=\"40\">4</td><td style=\"border:3px solid black; text-align:center;\"\n",
       "         width=\"40\" height=\"40\"></td><td style=\"border:3px solid black; text-align:center;\"\n",
       "         width=\"40\" height=\"40\"></td></tr></table>"
      ],
      "text/plain": [
       "<IPython.core.display.HTML object>"
      ]
     },
     "metadata": {},
     "output_type": "display_data"
    },
    {
     "name": "stdout",
     "output_type": "stream",
     "text": [
      "Iter: 33\n",
      "======Direction: up======\n"
     ]
    },
    {
     "data": {
      "text/html": [
       "<h1>Score: 32</h1><table style=\"border: 5px solid black;\"><tr><td style=\"border:3px solid black; text-align:center;\"\n",
       "         width=\"40\" height=\"40\">32</td><td style=\"border:3px solid black; text-align:center;\"\n",
       "         width=\"40\" height=\"40\">16</td><td style=\"border:3px solid black; text-align:center;\"\n",
       "         width=\"40\" height=\"40\">8</td><td style=\"border:3px solid black; text-align:center;\"\n",
       "         width=\"40\" height=\"40\">2</td></tr><tr><td style=\"border:3px solid black; text-align:center;\"\n",
       "         width=\"40\" height=\"40\">16</td><td style=\"border:3px solid black; text-align:center;\"\n",
       "         width=\"40\" height=\"40\">8</td><td style=\"border:3px solid black; text-align:center;\"\n",
       "         width=\"40\" height=\"40\">4</td><td style=\"border:3px solid black; text-align:center;\"\n",
       "         width=\"40\" height=\"40\">2</td></tr><tr><td style=\"border:3px solid black; text-align:center;\"\n",
       "         width=\"40\" height=\"40\">4</td><td style=\"border:3px solid black; text-align:center;\"\n",
       "         width=\"40\" height=\"40\">8</td><td style=\"border:3px solid black; text-align:center;\"\n",
       "         width=\"40\" height=\"40\"></td><td style=\"border:3px solid black; text-align:center;\"\n",
       "         width=\"40\" height=\"40\"></td></tr><tr><td style=\"border:3px solid black; text-align:center;\"\n",
       "         width=\"40\" height=\"40\">2</td><td style=\"border:3px solid black; text-align:center;\"\n",
       "         width=\"40\" height=\"40\"></td><td style=\"border:3px solid black; text-align:center;\"\n",
       "         width=\"40\" height=\"40\"></td><td style=\"border:3px solid black; text-align:center;\"\n",
       "         width=\"40\" height=\"40\"></td></tr></table>"
      ],
      "text/plain": [
       "<IPython.core.display.HTML object>"
      ]
     },
     "metadata": {},
     "output_type": "display_data"
    },
    {
     "name": "stdout",
     "output_type": "stream",
     "text": [
      "Iter: 34\n",
      "======Direction: right======\n"
     ]
    },
    {
     "data": {
      "text/html": [
       "<h1>Score: 32</h1><table style=\"border: 5px solid black;\"><tr><td style=\"border:3px solid black; text-align:center;\"\n",
       "         width=\"40\" height=\"40\">32</td><td style=\"border:3px solid black; text-align:center;\"\n",
       "         width=\"40\" height=\"40\">16</td><td style=\"border:3px solid black; text-align:center;\"\n",
       "         width=\"40\" height=\"40\">8</td><td style=\"border:3px solid black; text-align:center;\"\n",
       "         width=\"40\" height=\"40\">2</td></tr><tr><td style=\"border:3px solid black; text-align:center;\"\n",
       "         width=\"40\" height=\"40\">16</td><td style=\"border:3px solid black; text-align:center;\"\n",
       "         width=\"40\" height=\"40\">8</td><td style=\"border:3px solid black; text-align:center;\"\n",
       "         width=\"40\" height=\"40\">4</td><td style=\"border:3px solid black; text-align:center;\"\n",
       "         width=\"40\" height=\"40\">2</td></tr><tr><td style=\"border:3px solid black; text-align:center;\"\n",
       "         width=\"40\" height=\"40\"></td><td style=\"border:3px solid black; text-align:center;\"\n",
       "         width=\"40\" height=\"40\"></td><td style=\"border:3px solid black; text-align:center;\"\n",
       "         width=\"40\" height=\"40\">4</td><td style=\"border:3px solid black; text-align:center;\"\n",
       "         width=\"40\" height=\"40\">8</td></tr><tr><td style=\"border:3px solid black; text-align:center;\"\n",
       "         width=\"40\" height=\"40\"></td><td style=\"border:3px solid black; text-align:center;\"\n",
       "         width=\"40\" height=\"40\">2</td><td style=\"border:3px solid black; text-align:center;\"\n",
       "         width=\"40\" height=\"40\"></td><td style=\"border:3px solid black; text-align:center;\"\n",
       "         width=\"40\" height=\"40\">2</td></tr></table>"
      ],
      "text/plain": [
       "<IPython.core.display.HTML object>"
      ]
     },
     "metadata": {},
     "output_type": "display_data"
    },
    {
     "name": "stdout",
     "output_type": "stream",
     "text": [
      "Iter: 35\n",
      "======Direction: right======\n"
     ]
    },
    {
     "data": {
      "text/html": [
       "<h1>Score: 32</h1><table style=\"border: 5px solid black;\"><tr><td style=\"border:3px solid black; text-align:center;\"\n",
       "         width=\"40\" height=\"40\">32</td><td style=\"border:3px solid black; text-align:center;\"\n",
       "         width=\"40\" height=\"40\">16</td><td style=\"border:3px solid black; text-align:center;\"\n",
       "         width=\"40\" height=\"40\">8</td><td style=\"border:3px solid black; text-align:center;\"\n",
       "         width=\"40\" height=\"40\">2</td></tr><tr><td style=\"border:3px solid black; text-align:center;\"\n",
       "         width=\"40\" height=\"40\">16</td><td style=\"border:3px solid black; text-align:center;\"\n",
       "         width=\"40\" height=\"40\">8</td><td style=\"border:3px solid black; text-align:center;\"\n",
       "         width=\"40\" height=\"40\">4</td><td style=\"border:3px solid black; text-align:center;\"\n",
       "         width=\"40\" height=\"40\">2</td></tr><tr><td style=\"border:3px solid black; text-align:center;\"\n",
       "         width=\"40\" height=\"40\">4</td><td style=\"border:3px solid black; text-align:center;\"\n",
       "         width=\"40\" height=\"40\"></td><td style=\"border:3px solid black; text-align:center;\"\n",
       "         width=\"40\" height=\"40\">4</td><td style=\"border:3px solid black; text-align:center;\"\n",
       "         width=\"40\" height=\"40\">8</td></tr><tr><td style=\"border:3px solid black; text-align:center;\"\n",
       "         width=\"40\" height=\"40\"></td><td style=\"border:3px solid black; text-align:center;\"\n",
       "         width=\"40\" height=\"40\"></td><td style=\"border:3px solid black; text-align:center;\"\n",
       "         width=\"40\" height=\"40\"></td><td style=\"border:3px solid black; text-align:center;\"\n",
       "         width=\"40\" height=\"40\">4</td></tr></table>"
      ],
      "text/plain": [
       "<IPython.core.display.HTML object>"
      ]
     },
     "metadata": {},
     "output_type": "display_data"
    },
    {
     "name": "stdout",
     "output_type": "stream",
     "text": [
      "Iter: 36\n",
      "======Direction: left======\n"
     ]
    },
    {
     "data": {
      "text/html": [
       "<h1>Score: 32</h1><table style=\"border: 5px solid black;\"><tr><td style=\"border:3px solid black; text-align:center;\"\n",
       "         width=\"40\" height=\"40\">32</td><td style=\"border:3px solid black; text-align:center;\"\n",
       "         width=\"40\" height=\"40\">16</td><td style=\"border:3px solid black; text-align:center;\"\n",
       "         width=\"40\" height=\"40\">8</td><td style=\"border:3px solid black; text-align:center;\"\n",
       "         width=\"40\" height=\"40\">2</td></tr><tr><td style=\"border:3px solid black; text-align:center;\"\n",
       "         width=\"40\" height=\"40\">16</td><td style=\"border:3px solid black; text-align:center;\"\n",
       "         width=\"40\" height=\"40\">8</td><td style=\"border:3px solid black; text-align:center;\"\n",
       "         width=\"40\" height=\"40\">4</td><td style=\"border:3px solid black; text-align:center;\"\n",
       "         width=\"40\" height=\"40\">2</td></tr><tr><td style=\"border:3px solid black; text-align:center;\"\n",
       "         width=\"40\" height=\"40\">8</td><td style=\"border:3px solid black; text-align:center;\"\n",
       "         width=\"40\" height=\"40\">8</td><td style=\"border:3px solid black; text-align:center;\"\n",
       "         width=\"40\" height=\"40\"></td><td style=\"border:3px solid black; text-align:center;\"\n",
       "         width=\"40\" height=\"40\"></td></tr><tr><td style=\"border:3px solid black; text-align:center;\"\n",
       "         width=\"40\" height=\"40\">4</td><td style=\"border:3px solid black; text-align:center;\"\n",
       "         width=\"40\" height=\"40\"></td><td style=\"border:3px solid black; text-align:center;\"\n",
       "         width=\"40\" height=\"40\"></td><td style=\"border:3px solid black; text-align:center;\"\n",
       "         width=\"40\" height=\"40\">4</td></tr></table>"
      ],
      "text/plain": [
       "<IPython.core.display.HTML object>"
      ]
     },
     "metadata": {},
     "output_type": "display_data"
    },
    {
     "name": "stdout",
     "output_type": "stream",
     "text": [
      "Iter: 37\n",
      "======Direction: up======\n"
     ]
    },
    {
     "data": {
      "text/html": [
       "<h1>Score: 32</h1><table style=\"border: 5px solid black;\"><tr><td style=\"border:3px solid black; text-align:center;\"\n",
       "         width=\"40\" height=\"40\">32</td><td style=\"border:3px solid black; text-align:center;\"\n",
       "         width=\"40\" height=\"40\">16</td><td style=\"border:3px solid black; text-align:center;\"\n",
       "         width=\"40\" height=\"40\">8</td><td style=\"border:3px solid black; text-align:center;\"\n",
       "         width=\"40\" height=\"40\">4</td></tr><tr><td style=\"border:3px solid black; text-align:center;\"\n",
       "         width=\"40\" height=\"40\">16</td><td style=\"border:3px solid black; text-align:center;\"\n",
       "         width=\"40\" height=\"40\">16</td><td style=\"border:3px solid black; text-align:center;\"\n",
       "         width=\"40\" height=\"40\">4</td><td style=\"border:3px solid black; text-align:center;\"\n",
       "         width=\"40\" height=\"40\">4</td></tr><tr><td style=\"border:3px solid black; text-align:center;\"\n",
       "         width=\"40\" height=\"40\">8</td><td style=\"border:3px solid black; text-align:center;\"\n",
       "         width=\"40\" height=\"40\">4</td><td style=\"border:3px solid black; text-align:center;\"\n",
       "         width=\"40\" height=\"40\"></td><td style=\"border:3px solid black; text-align:center;\"\n",
       "         width=\"40\" height=\"40\"></td></tr><tr><td style=\"border:3px solid black; text-align:center;\"\n",
       "         width=\"40\" height=\"40\">4</td><td style=\"border:3px solid black; text-align:center;\"\n",
       "         width=\"40\" height=\"40\"></td><td style=\"border:3px solid black; text-align:center;\"\n",
       "         width=\"40\" height=\"40\"></td><td style=\"border:3px solid black; text-align:center;\"\n",
       "         width=\"40\" height=\"40\"></td></tr></table>"
      ],
      "text/plain": [
       "<IPython.core.display.HTML object>"
      ]
     },
     "metadata": {},
     "output_type": "display_data"
    },
    {
     "name": "stdout",
     "output_type": "stream",
     "text": [
      "Iter: 38\n",
      "======Direction: left======\n"
     ]
    },
    {
     "data": {
      "text/html": [
       "<h1>Score: 32</h1><table style=\"border: 5px solid black;\"><tr><td style=\"border:3px solid black; text-align:center;\"\n",
       "         width=\"40\" height=\"40\">32</td><td style=\"border:3px solid black; text-align:center;\"\n",
       "         width=\"40\" height=\"40\">16</td><td style=\"border:3px solid black; text-align:center;\"\n",
       "         width=\"40\" height=\"40\">8</td><td style=\"border:3px solid black; text-align:center;\"\n",
       "         width=\"40\" height=\"40\">4</td></tr><tr><td style=\"border:3px solid black; text-align:center;\"\n",
       "         width=\"40\" height=\"40\">32</td><td style=\"border:3px solid black; text-align:center;\"\n",
       "         width=\"40\" height=\"40\">8</td><td style=\"border:3px solid black; text-align:center;\"\n",
       "         width=\"40\" height=\"40\"></td><td style=\"border:3px solid black; text-align:center;\"\n",
       "         width=\"40\" height=\"40\">2</td></tr><tr><td style=\"border:3px solid black; text-align:center;\"\n",
       "         width=\"40\" height=\"40\">8</td><td style=\"border:3px solid black; text-align:center;\"\n",
       "         width=\"40\" height=\"40\">4</td><td style=\"border:3px solid black; text-align:center;\"\n",
       "         width=\"40\" height=\"40\"></td><td style=\"border:3px solid black; text-align:center;\"\n",
       "         width=\"40\" height=\"40\"></td></tr><tr><td style=\"border:3px solid black; text-align:center;\"\n",
       "         width=\"40\" height=\"40\">4</td><td style=\"border:3px solid black; text-align:center;\"\n",
       "         width=\"40\" height=\"40\"></td><td style=\"border:3px solid black; text-align:center;\"\n",
       "         width=\"40\" height=\"40\"></td><td style=\"border:3px solid black; text-align:center;\"\n",
       "         width=\"40\" height=\"40\"></td></tr></table>"
      ],
      "text/plain": [
       "<IPython.core.display.HTML object>"
      ]
     },
     "metadata": {},
     "output_type": "display_data"
    },
    {
     "name": "stdout",
     "output_type": "stream",
     "text": [
      "Iter: 39\n",
      "======Direction: left======\n"
     ]
    },
    {
     "data": {
      "text/html": [
       "<h1>Score: 32</h1><table style=\"border: 5px solid black;\"><tr><td style=\"border:3px solid black; text-align:center;\"\n",
       "         width=\"40\" height=\"40\">32</td><td style=\"border:3px solid black; text-align:center;\"\n",
       "         width=\"40\" height=\"40\">16</td><td style=\"border:3px solid black; text-align:center;\"\n",
       "         width=\"40\" height=\"40\">8</td><td style=\"border:3px solid black; text-align:center;\"\n",
       "         width=\"40\" height=\"40\">4</td></tr><tr><td style=\"border:3px solid black; text-align:center;\"\n",
       "         width=\"40\" height=\"40\">32</td><td style=\"border:3px solid black; text-align:center;\"\n",
       "         width=\"40\" height=\"40\">8</td><td style=\"border:3px solid black; text-align:center;\"\n",
       "         width=\"40\" height=\"40\">2</td><td style=\"border:3px solid black; text-align:center;\"\n",
       "         width=\"40\" height=\"40\"></td></tr><tr><td style=\"border:3px solid black; text-align:center;\"\n",
       "         width=\"40\" height=\"40\">8</td><td style=\"border:3px solid black; text-align:center;\"\n",
       "         width=\"40\" height=\"40\">4</td><td style=\"border:3px solid black; text-align:center;\"\n",
       "         width=\"40\" height=\"40\"></td><td style=\"border:3px solid black; text-align:center;\"\n",
       "         width=\"40\" height=\"40\">4</td></tr><tr><td style=\"border:3px solid black; text-align:center;\"\n",
       "         width=\"40\" height=\"40\">4</td><td style=\"border:3px solid black; text-align:center;\"\n",
       "         width=\"40\" height=\"40\"></td><td style=\"border:3px solid black; text-align:center;\"\n",
       "         width=\"40\" height=\"40\"></td><td style=\"border:3px solid black; text-align:center;\"\n",
       "         width=\"40\" height=\"40\"></td></tr></table>"
      ],
      "text/plain": [
       "<IPython.core.display.HTML object>"
      ]
     },
     "metadata": {},
     "output_type": "display_data"
    },
    {
     "name": "stdout",
     "output_type": "stream",
     "text": [
      "Iter: 40\n",
      "======Direction: left======\n"
     ]
    },
    {
     "data": {
      "text/html": [
       "<h1>Score: 32</h1><table style=\"border: 5px solid black;\"><tr><td style=\"border:3px solid black; text-align:center;\"\n",
       "         width=\"40\" height=\"40\">32</td><td style=\"border:3px solid black; text-align:center;\"\n",
       "         width=\"40\" height=\"40\">16</td><td style=\"border:3px solid black; text-align:center;\"\n",
       "         width=\"40\" height=\"40\">8</td><td style=\"border:3px solid black; text-align:center;\"\n",
       "         width=\"40\" height=\"40\">4</td></tr><tr><td style=\"border:3px solid black; text-align:center;\"\n",
       "         width=\"40\" height=\"40\">32</td><td style=\"border:3px solid black; text-align:center;\"\n",
       "         width=\"40\" height=\"40\">8</td><td style=\"border:3px solid black; text-align:center;\"\n",
       "         width=\"40\" height=\"40\">2</td><td style=\"border:3px solid black; text-align:center;\"\n",
       "         width=\"40\" height=\"40\"></td></tr><tr><td style=\"border:3px solid black; text-align:center;\"\n",
       "         width=\"40\" height=\"40\">8</td><td style=\"border:3px solid black; text-align:center;\"\n",
       "         width=\"40\" height=\"40\">8</td><td style=\"border:3px solid black; text-align:center;\"\n",
       "         width=\"40\" height=\"40\"></td><td style=\"border:3px solid black; text-align:center;\"\n",
       "         width=\"40\" height=\"40\"></td></tr><tr><td style=\"border:3px solid black; text-align:center;\"\n",
       "         width=\"40\" height=\"40\">4</td><td style=\"border:3px solid black; text-align:center;\"\n",
       "         width=\"40\" height=\"40\">4</td><td style=\"border:3px solid black; text-align:center;\"\n",
       "         width=\"40\" height=\"40\"></td><td style=\"border:3px solid black; text-align:center;\"\n",
       "         width=\"40\" height=\"40\"></td></tr></table>"
      ],
      "text/plain": [
       "<IPython.core.display.HTML object>"
      ]
     },
     "metadata": {},
     "output_type": "display_data"
    },
    {
     "name": "stdout",
     "output_type": "stream",
     "text": [
      "Iter: 41\n",
      "======Direction: up======\n"
     ]
    },
    {
     "data": {
      "text/html": [
       "<h1>Score: 64</h1><table style=\"border: 5px solid black;\"><tr><td style=\"border:3px solid black; text-align:center;\"\n",
       "         width=\"40\" height=\"40\">64</td><td style=\"border:3px solid black; text-align:center;\"\n",
       "         width=\"40\" height=\"40\">16</td><td style=\"border:3px solid black; text-align:center;\"\n",
       "         width=\"40\" height=\"40\">8</td><td style=\"border:3px solid black; text-align:center;\"\n",
       "         width=\"40\" height=\"40\">4</td></tr><tr><td style=\"border:3px solid black; text-align:center;\"\n",
       "         width=\"40\" height=\"40\">8</td><td style=\"border:3px solid black; text-align:center;\"\n",
       "         width=\"40\" height=\"40\">16</td><td style=\"border:3px solid black; text-align:center;\"\n",
       "         width=\"40\" height=\"40\">2</td><td style=\"border:3px solid black; text-align:center;\"\n",
       "         width=\"40\" height=\"40\"></td></tr><tr><td style=\"border:3px solid black; text-align:center;\"\n",
       "         width=\"40\" height=\"40\">4</td><td style=\"border:3px solid black; text-align:center;\"\n",
       "         width=\"40\" height=\"40\">4</td><td style=\"border:3px solid black; text-align:center;\"\n",
       "         width=\"40\" height=\"40\">2</td><td style=\"border:3px solid black; text-align:center;\"\n",
       "         width=\"40\" height=\"40\"></td></tr><tr><td style=\"border:3px solid black; text-align:center;\"\n",
       "         width=\"40\" height=\"40\"></td><td style=\"border:3px solid black; text-align:center;\"\n",
       "         width=\"40\" height=\"40\"></td><td style=\"border:3px solid black; text-align:center;\"\n",
       "         width=\"40\" height=\"40\"></td><td style=\"border:3px solid black; text-align:center;\"\n",
       "         width=\"40\" height=\"40\"></td></tr></table>"
      ],
      "text/plain": [
       "<IPython.core.display.HTML object>"
      ]
     },
     "metadata": {},
     "output_type": "display_data"
    },
    {
     "name": "stdout",
     "output_type": "stream",
     "text": [
      "Iter: 42\n",
      "======Direction: up======\n"
     ]
    },
    {
     "data": {
      "text/html": [
       "<h1>Score: 64</h1><table style=\"border: 5px solid black;\"><tr><td style=\"border:3px solid black; text-align:center;\"\n",
       "         width=\"40\" height=\"40\">64</td><td style=\"border:3px solid black; text-align:center;\"\n",
       "         width=\"40\" height=\"40\">32</td><td style=\"border:3px solid black; text-align:center;\"\n",
       "         width=\"40\" height=\"40\">8</td><td style=\"border:3px solid black; text-align:center;\"\n",
       "         width=\"40\" height=\"40\">4</td></tr><tr><td style=\"border:3px solid black; text-align:center;\"\n",
       "         width=\"40\" height=\"40\">8</td><td style=\"border:3px solid black; text-align:center;\"\n",
       "         width=\"40\" height=\"40\">4</td><td style=\"border:3px solid black; text-align:center;\"\n",
       "         width=\"40\" height=\"40\">4</td><td style=\"border:3px solid black; text-align:center;\"\n",
       "         width=\"40\" height=\"40\"></td></tr><tr><td style=\"border:3px solid black; text-align:center;\"\n",
       "         width=\"40\" height=\"40\">4</td><td style=\"border:3px solid black; text-align:center;\"\n",
       "         width=\"40\" height=\"40\"></td><td style=\"border:3px solid black; text-align:center;\"\n",
       "         width=\"40\" height=\"40\">2</td><td style=\"border:3px solid black; text-align:center;\"\n",
       "         width=\"40\" height=\"40\"></td></tr><tr><td style=\"border:3px solid black; text-align:center;\"\n",
       "         width=\"40\" height=\"40\"></td><td style=\"border:3px solid black; text-align:center;\"\n",
       "         width=\"40\" height=\"40\"></td><td style=\"border:3px solid black; text-align:center;\"\n",
       "         width=\"40\" height=\"40\"></td><td style=\"border:3px solid black; text-align:center;\"\n",
       "         width=\"40\" height=\"40\"></td></tr></table>"
      ],
      "text/plain": [
       "<IPython.core.display.HTML object>"
      ]
     },
     "metadata": {},
     "output_type": "display_data"
    },
    {
     "name": "stdout",
     "output_type": "stream",
     "text": [
      "Iter: 43\n",
      "======Direction: left======\n"
     ]
    },
    {
     "data": {
      "text/html": [
       "<h1>Score: 64</h1><table style=\"border: 5px solid black;\"><tr><td style=\"border:3px solid black; text-align:center;\"\n",
       "         width=\"40\" height=\"40\">64</td><td style=\"border:3px solid black; text-align:center;\"\n",
       "         width=\"40\" height=\"40\">32</td><td style=\"border:3px solid black; text-align:center;\"\n",
       "         width=\"40\" height=\"40\">8</td><td style=\"border:3px solid black; text-align:center;\"\n",
       "         width=\"40\" height=\"40\">4</td></tr><tr><td style=\"border:3px solid black; text-align:center;\"\n",
       "         width=\"40\" height=\"40\">8</td><td style=\"border:3px solid black; text-align:center;\"\n",
       "         width=\"40\" height=\"40\">8</td><td style=\"border:3px solid black; text-align:center;\"\n",
       "         width=\"40\" height=\"40\">4</td><td style=\"border:3px solid black; text-align:center;\"\n",
       "         width=\"40\" height=\"40\"></td></tr><tr><td style=\"border:3px solid black; text-align:center;\"\n",
       "         width=\"40\" height=\"40\">4</td><td style=\"border:3px solid black; text-align:center;\"\n",
       "         width=\"40\" height=\"40\">2</td><td style=\"border:3px solid black; text-align:center;\"\n",
       "         width=\"40\" height=\"40\"></td><td style=\"border:3px solid black; text-align:center;\"\n",
       "         width=\"40\" height=\"40\"></td></tr><tr><td style=\"border:3px solid black; text-align:center;\"\n",
       "         width=\"40\" height=\"40\"></td><td style=\"border:3px solid black; text-align:center;\"\n",
       "         width=\"40\" height=\"40\"></td><td style=\"border:3px solid black; text-align:center;\"\n",
       "         width=\"40\" height=\"40\"></td><td style=\"border:3px solid black; text-align:center;\"\n",
       "         width=\"40\" height=\"40\"></td></tr></table>"
      ],
      "text/plain": [
       "<IPython.core.display.HTML object>"
      ]
     },
     "metadata": {},
     "output_type": "display_data"
    },
    {
     "name": "stdout",
     "output_type": "stream",
     "text": [
      "Iter: 44\n",
      "======Direction: left======\n"
     ]
    },
    {
     "data": {
      "text/html": [
       "<h1>Score: 64</h1><table style=\"border: 5px solid black;\"><tr><td style=\"border:3px solid black; text-align:center;\"\n",
       "         width=\"40\" height=\"40\">64</td><td style=\"border:3px solid black; text-align:center;\"\n",
       "         width=\"40\" height=\"40\">32</td><td style=\"border:3px solid black; text-align:center;\"\n",
       "         width=\"40\" height=\"40\">8</td><td style=\"border:3px solid black; text-align:center;\"\n",
       "         width=\"40\" height=\"40\">4</td></tr><tr><td style=\"border:3px solid black; text-align:center;\"\n",
       "         width=\"40\" height=\"40\">16</td><td style=\"border:3px solid black; text-align:center;\"\n",
       "         width=\"40\" height=\"40\">4</td><td style=\"border:3px solid black; text-align:center;\"\n",
       "         width=\"40\" height=\"40\"></td><td style=\"border:3px solid black; text-align:center;\"\n",
       "         width=\"40\" height=\"40\">4</td></tr><tr><td style=\"border:3px solid black; text-align:center;\"\n",
       "         width=\"40\" height=\"40\">4</td><td style=\"border:3px solid black; text-align:center;\"\n",
       "         width=\"40\" height=\"40\">2</td><td style=\"border:3px solid black; text-align:center;\"\n",
       "         width=\"40\" height=\"40\"></td><td style=\"border:3px solid black; text-align:center;\"\n",
       "         width=\"40\" height=\"40\"></td></tr><tr><td style=\"border:3px solid black; text-align:center;\"\n",
       "         width=\"40\" height=\"40\"></td><td style=\"border:3px solid black; text-align:center;\"\n",
       "         width=\"40\" height=\"40\"></td><td style=\"border:3px solid black; text-align:center;\"\n",
       "         width=\"40\" height=\"40\"></td><td style=\"border:3px solid black; text-align:center;\"\n",
       "         width=\"40\" height=\"40\"></td></tr></table>"
      ],
      "text/plain": [
       "<IPython.core.display.HTML object>"
      ]
     },
     "metadata": {},
     "output_type": "display_data"
    },
    {
     "name": "stdout",
     "output_type": "stream",
     "text": [
      "Iter: 45\n",
      "======Direction: left======\n"
     ]
    },
    {
     "data": {
      "text/html": [
       "<h1>Score: 64</h1><table style=\"border: 5px solid black;\"><tr><td style=\"border:3px solid black; text-align:center;\"\n",
       "         width=\"40\" height=\"40\">64</td><td style=\"border:3px solid black; text-align:center;\"\n",
       "         width=\"40\" height=\"40\">32</td><td style=\"border:3px solid black; text-align:center;\"\n",
       "         width=\"40\" height=\"40\">8</td><td style=\"border:3px solid black; text-align:center;\"\n",
       "         width=\"40\" height=\"40\">4</td></tr><tr><td style=\"border:3px solid black; text-align:center;\"\n",
       "         width=\"40\" height=\"40\">16</td><td style=\"border:3px solid black; text-align:center;\"\n",
       "         width=\"40\" height=\"40\">8</td><td style=\"border:3px solid black; text-align:center;\"\n",
       "         width=\"40\" height=\"40\"></td><td style=\"border:3px solid black; text-align:center;\"\n",
       "         width=\"40\" height=\"40\">2</td></tr><tr><td style=\"border:3px solid black; text-align:center;\"\n",
       "         width=\"40\" height=\"40\">4</td><td style=\"border:3px solid black; text-align:center;\"\n",
       "         width=\"40\" height=\"40\">2</td><td style=\"border:3px solid black; text-align:center;\"\n",
       "         width=\"40\" height=\"40\"></td><td style=\"border:3px solid black; text-align:center;\"\n",
       "         width=\"40\" height=\"40\"></td></tr><tr><td style=\"border:3px solid black; text-align:center;\"\n",
       "         width=\"40\" height=\"40\"></td><td style=\"border:3px solid black; text-align:center;\"\n",
       "         width=\"40\" height=\"40\"></td><td style=\"border:3px solid black; text-align:center;\"\n",
       "         width=\"40\" height=\"40\"></td><td style=\"border:3px solid black; text-align:center;\"\n",
       "         width=\"40\" height=\"40\"></td></tr></table>"
      ],
      "text/plain": [
       "<IPython.core.display.HTML object>"
      ]
     },
     "metadata": {},
     "output_type": "display_data"
    },
    {
     "name": "stdout",
     "output_type": "stream",
     "text": [
      "Iter: 46\n",
      "======Direction: right======\n"
     ]
    },
    {
     "data": {
      "text/html": [
       "<h1>Score: 64</h1><table style=\"border: 5px solid black;\"><tr><td style=\"border:3px solid black; text-align:center;\"\n",
       "         width=\"40\" height=\"40\">64</td><td style=\"border:3px solid black; text-align:center;\"\n",
       "         width=\"40\" height=\"40\">32</td><td style=\"border:3px solid black; text-align:center;\"\n",
       "         width=\"40\" height=\"40\">8</td><td style=\"border:3px solid black; text-align:center;\"\n",
       "         width=\"40\" height=\"40\">4</td></tr><tr><td style=\"border:3px solid black; text-align:center;\"\n",
       "         width=\"40\" height=\"40\"></td><td style=\"border:3px solid black; text-align:center;\"\n",
       "         width=\"40\" height=\"40\">16</td><td style=\"border:3px solid black; text-align:center;\"\n",
       "         width=\"40\" height=\"40\">8</td><td style=\"border:3px solid black; text-align:center;\"\n",
       "         width=\"40\" height=\"40\">2</td></tr><tr><td style=\"border:3px solid black; text-align:center;\"\n",
       "         width=\"40\" height=\"40\"></td><td style=\"border:3px solid black; text-align:center;\"\n",
       "         width=\"40\" height=\"40\"></td><td style=\"border:3px solid black; text-align:center;\"\n",
       "         width=\"40\" height=\"40\">4</td><td style=\"border:3px solid black; text-align:center;\"\n",
       "         width=\"40\" height=\"40\">2</td></tr><tr><td style=\"border:3px solid black; text-align:center;\"\n",
       "         width=\"40\" height=\"40\"></td><td style=\"border:3px solid black; text-align:center;\"\n",
       "         width=\"40\" height=\"40\"></td><td style=\"border:3px solid black; text-align:center;\"\n",
       "         width=\"40\" height=\"40\"></td><td style=\"border:3px solid black; text-align:center;\"\n",
       "         width=\"40\" height=\"40\">4</td></tr></table>"
      ],
      "text/plain": [
       "<IPython.core.display.HTML object>"
      ]
     },
     "metadata": {},
     "output_type": "display_data"
    },
    {
     "name": "stdout",
     "output_type": "stream",
     "text": [
      "Iter: 47\n",
      "======Direction: left======\n"
     ]
    },
    {
     "data": {
      "text/html": [
       "<h1>Score: 64</h1><table style=\"border: 5px solid black;\"><tr><td style=\"border:3px solid black; text-align:center;\"\n",
       "         width=\"40\" height=\"40\">64</td><td style=\"border:3px solid black; text-align:center;\"\n",
       "         width=\"40\" height=\"40\">32</td><td style=\"border:3px solid black; text-align:center;\"\n",
       "         width=\"40\" height=\"40\">8</td><td style=\"border:3px solid black; text-align:center;\"\n",
       "         width=\"40\" height=\"40\">4</td></tr><tr><td style=\"border:3px solid black; text-align:center;\"\n",
       "         width=\"40\" height=\"40\">16</td><td style=\"border:3px solid black; text-align:center;\"\n",
       "         width=\"40\" height=\"40\">8</td><td style=\"border:3px solid black; text-align:center;\"\n",
       "         width=\"40\" height=\"40\">2</td><td style=\"border:3px solid black; text-align:center;\"\n",
       "         width=\"40\" height=\"40\"></td></tr><tr><td style=\"border:3px solid black; text-align:center;\"\n",
       "         width=\"40\" height=\"40\">4</td><td style=\"border:3px solid black; text-align:center;\"\n",
       "         width=\"40\" height=\"40\">2</td><td style=\"border:3px solid black; text-align:center;\"\n",
       "         width=\"40\" height=\"40\">4</td><td style=\"border:3px solid black; text-align:center;\"\n",
       "         width=\"40\" height=\"40\"></td></tr><tr><td style=\"border:3px solid black; text-align:center;\"\n",
       "         width=\"40\" height=\"40\">4</td><td style=\"border:3px solid black; text-align:center;\"\n",
       "         width=\"40\" height=\"40\"></td><td style=\"border:3px solid black; text-align:center;\"\n",
       "         width=\"40\" height=\"40\"></td><td style=\"border:3px solid black; text-align:center;\"\n",
       "         width=\"40\" height=\"40\"></td></tr></table>"
      ],
      "text/plain": [
       "<IPython.core.display.HTML object>"
      ]
     },
     "metadata": {},
     "output_type": "display_data"
    },
    {
     "name": "stdout",
     "output_type": "stream",
     "text": [
      "Iter: 48\n",
      "======Direction: up======\n"
     ]
    },
    {
     "data": {
      "text/html": [
       "<h1>Score: 64</h1><table style=\"border: 5px solid black;\"><tr><td style=\"border:3px solid black; text-align:center;\"\n",
       "         width=\"40\" height=\"40\">64</td><td style=\"border:3px solid black; text-align:center;\"\n",
       "         width=\"40\" height=\"40\">32</td><td style=\"border:3px solid black; text-align:center;\"\n",
       "         width=\"40\" height=\"40\">8</td><td style=\"border:3px solid black; text-align:center;\"\n",
       "         width=\"40\" height=\"40\">4</td></tr><tr><td style=\"border:3px solid black; text-align:center;\"\n",
       "         width=\"40\" height=\"40\">16</td><td style=\"border:3px solid black; text-align:center;\"\n",
       "         width=\"40\" height=\"40\">8</td><td style=\"border:3px solid black; text-align:center;\"\n",
       "         width=\"40\" height=\"40\">2</td><td style=\"border:3px solid black; text-align:center;\"\n",
       "         width=\"40\" height=\"40\"></td></tr><tr><td style=\"border:3px solid black; text-align:center;\"\n",
       "         width=\"40\" height=\"40\">8</td><td style=\"border:3px solid black; text-align:center;\"\n",
       "         width=\"40\" height=\"40\">2</td><td style=\"border:3px solid black; text-align:center;\"\n",
       "         width=\"40\" height=\"40\">4</td><td style=\"border:3px solid black; text-align:center;\"\n",
       "         width=\"40\" height=\"40\"></td></tr><tr><td style=\"border:3px solid black; text-align:center;\"\n",
       "         width=\"40\" height=\"40\"></td><td style=\"border:3px solid black; text-align:center;\"\n",
       "         width=\"40\" height=\"40\"></td><td style=\"border:3px solid black; text-align:center;\"\n",
       "         width=\"40\" height=\"40\">4</td><td style=\"border:3px solid black; text-align:center;\"\n",
       "         width=\"40\" height=\"40\"></td></tr></table>"
      ],
      "text/plain": [
       "<IPython.core.display.HTML object>"
      ]
     },
     "metadata": {},
     "output_type": "display_data"
    },
    {
     "name": "stdout",
     "output_type": "stream",
     "text": [
      "Iter: 49\n",
      "======Direction: left======\n"
     ]
    },
    {
     "data": {
      "text/html": [
       "<h1>Score: 64</h1><table style=\"border: 5px solid black;\"><tr><td style=\"border:3px solid black; text-align:center;\"\n",
       "         width=\"40\" height=\"40\">64</td><td style=\"border:3px solid black; text-align:center;\"\n",
       "         width=\"40\" height=\"40\">32</td><td style=\"border:3px solid black; text-align:center;\"\n",
       "         width=\"40\" height=\"40\">8</td><td style=\"border:3px solid black; text-align:center;\"\n",
       "         width=\"40\" height=\"40\">4</td></tr><tr><td style=\"border:3px solid black; text-align:center;\"\n",
       "         width=\"40\" height=\"40\">16</td><td style=\"border:3px solid black; text-align:center;\"\n",
       "         width=\"40\" height=\"40\">8</td><td style=\"border:3px solid black; text-align:center;\"\n",
       "         width=\"40\" height=\"40\">2</td><td style=\"border:3px solid black; text-align:center;\"\n",
       "         width=\"40\" height=\"40\">2</td></tr><tr><td style=\"border:3px solid black; text-align:center;\"\n",
       "         width=\"40\" height=\"40\">8</td><td style=\"border:3px solid black; text-align:center;\"\n",
       "         width=\"40\" height=\"40\">2</td><td style=\"border:3px solid black; text-align:center;\"\n",
       "         width=\"40\" height=\"40\">4</td><td style=\"border:3px solid black; text-align:center;\"\n",
       "         width=\"40\" height=\"40\"></td></tr><tr><td style=\"border:3px solid black; text-align:center;\"\n",
       "         width=\"40\" height=\"40\">4</td><td style=\"border:3px solid black; text-align:center;\"\n",
       "         width=\"40\" height=\"40\"></td><td style=\"border:3px solid black; text-align:center;\"\n",
       "         width=\"40\" height=\"40\"></td><td style=\"border:3px solid black; text-align:center;\"\n",
       "         width=\"40\" height=\"40\"></td></tr></table>"
      ],
      "text/plain": [
       "<IPython.core.display.HTML object>"
      ]
     },
     "metadata": {},
     "output_type": "display_data"
    },
    {
     "name": "stdout",
     "output_type": "stream",
     "text": [
      "Iter: 50\n",
      "======Direction: left======\n"
     ]
    },
    {
     "data": {
      "text/html": [
       "<h1>Score: 64</h1><table style=\"border: 5px solid black;\"><tr><td style=\"border:3px solid black; text-align:center;\"\n",
       "         width=\"40\" height=\"40\">64</td><td style=\"border:3px solid black; text-align:center;\"\n",
       "         width=\"40\" height=\"40\">32</td><td style=\"border:3px solid black; text-align:center;\"\n",
       "         width=\"40\" height=\"40\">8</td><td style=\"border:3px solid black; text-align:center;\"\n",
       "         width=\"40\" height=\"40\">4</td></tr><tr><td style=\"border:3px solid black; text-align:center;\"\n",
       "         width=\"40\" height=\"40\">16</td><td style=\"border:3px solid black; text-align:center;\"\n",
       "         width=\"40\" height=\"40\">8</td><td style=\"border:3px solid black; text-align:center;\"\n",
       "         width=\"40\" height=\"40\">4</td><td style=\"border:3px solid black; text-align:center;\"\n",
       "         width=\"40\" height=\"40\"></td></tr><tr><td style=\"border:3px solid black; text-align:center;\"\n",
       "         width=\"40\" height=\"40\">8</td><td style=\"border:3px solid black; text-align:center;\"\n",
       "         width=\"40\" height=\"40\">2</td><td style=\"border:3px solid black; text-align:center;\"\n",
       "         width=\"40\" height=\"40\">4</td><td style=\"border:3px solid black; text-align:center;\"\n",
       "         width=\"40\" height=\"40\"></td></tr><tr><td style=\"border:3px solid black; text-align:center;\"\n",
       "         width=\"40\" height=\"40\">4</td><td style=\"border:3px solid black; text-align:center;\"\n",
       "         width=\"40\" height=\"40\"></td><td style=\"border:3px solid black; text-align:center;\"\n",
       "         width=\"40\" height=\"40\">4</td><td style=\"border:3px solid black; text-align:center;\"\n",
       "         width=\"40\" height=\"40\"></td></tr></table>"
      ],
      "text/plain": [
       "<IPython.core.display.HTML object>"
      ]
     },
     "metadata": {},
     "output_type": "display_data"
    },
    {
     "name": "stdout",
     "output_type": "stream",
     "text": [
      "Iter: 51\n",
      "======Direction: up======\n"
     ]
    },
    {
     "data": {
      "text/html": [
       "<h1>Score: 64</h1><table style=\"border: 5px solid black;\"><tr><td style=\"border:3px solid black; text-align:center;\"\n",
       "         width=\"40\" height=\"40\">64</td><td style=\"border:3px solid black; text-align:center;\"\n",
       "         width=\"40\" height=\"40\">32</td><td style=\"border:3px solid black; text-align:center;\"\n",
       "         width=\"40\" height=\"40\">8</td><td style=\"border:3px solid black; text-align:center;\"\n",
       "         width=\"40\" height=\"40\">4</td></tr><tr><td style=\"border:3px solid black; text-align:center;\"\n",
       "         width=\"40\" height=\"40\">16</td><td style=\"border:3px solid black; text-align:center;\"\n",
       "         width=\"40\" height=\"40\">8</td><td style=\"border:3px solid black; text-align:center;\"\n",
       "         width=\"40\" height=\"40\">8</td><td style=\"border:3px solid black; text-align:center;\"\n",
       "         width=\"40\" height=\"40\"></td></tr><tr><td style=\"border:3px solid black; text-align:center;\"\n",
       "         width=\"40\" height=\"40\">8</td><td style=\"border:3px solid black; text-align:center;\"\n",
       "         width=\"40\" height=\"40\">2</td><td style=\"border:3px solid black; text-align:center;\"\n",
       "         width=\"40\" height=\"40\">4</td><td style=\"border:3px solid black; text-align:center;\"\n",
       "         width=\"40\" height=\"40\"></td></tr><tr><td style=\"border:3px solid black; text-align:center;\"\n",
       "         width=\"40\" height=\"40\">4</td><td style=\"border:3px solid black; text-align:center;\"\n",
       "         width=\"40\" height=\"40\"></td><td style=\"border:3px solid black; text-align:center;\"\n",
       "         width=\"40\" height=\"40\"></td><td style=\"border:3px solid black; text-align:center;\"\n",
       "         width=\"40\" height=\"40\">4</td></tr></table>"
      ],
      "text/plain": [
       "<IPython.core.display.HTML object>"
      ]
     },
     "metadata": {},
     "output_type": "display_data"
    },
    {
     "name": "stdout",
     "output_type": "stream",
     "text": [
      "Iter: 52\n",
      "======Direction: up======\n"
     ]
    },
    {
     "data": {
      "text/html": [
       "<h1>Score: 64</h1><table style=\"border: 5px solid black;\"><tr><td style=\"border:3px solid black; text-align:center;\"\n",
       "         width=\"40\" height=\"40\">64</td><td style=\"border:3px solid black; text-align:center;\"\n",
       "         width=\"40\" height=\"40\">32</td><td style=\"border:3px solid black; text-align:center;\"\n",
       "         width=\"40\" height=\"40\">16</td><td style=\"border:3px solid black; text-align:center;\"\n",
       "         width=\"40\" height=\"40\">8</td></tr><tr><td style=\"border:3px solid black; text-align:center;\"\n",
       "         width=\"40\" height=\"40\">16</td><td style=\"border:3px solid black; text-align:center;\"\n",
       "         width=\"40\" height=\"40\">8</td><td style=\"border:3px solid black; text-align:center;\"\n",
       "         width=\"40\" height=\"40\">4</td><td style=\"border:3px solid black; text-align:center;\"\n",
       "         width=\"40\" height=\"40\"></td></tr><tr><td style=\"border:3px solid black; text-align:center;\"\n",
       "         width=\"40\" height=\"40\">8</td><td style=\"border:3px solid black; text-align:center;\"\n",
       "         width=\"40\" height=\"40\">2</td><td style=\"border:3px solid black; text-align:center;\"\n",
       "         width=\"40\" height=\"40\"></td><td style=\"border:3px solid black; text-align:center;\"\n",
       "         width=\"40\" height=\"40\"></td></tr><tr><td style=\"border:3px solid black; text-align:center;\"\n",
       "         width=\"40\" height=\"40\">4</td><td style=\"border:3px solid black; text-align:center;\"\n",
       "         width=\"40\" height=\"40\">4</td><td style=\"border:3px solid black; text-align:center;\"\n",
       "         width=\"40\" height=\"40\"></td><td style=\"border:3px solid black; text-align:center;\"\n",
       "         width=\"40\" height=\"40\"></td></tr></table>"
      ],
      "text/plain": [
       "<IPython.core.display.HTML object>"
      ]
     },
     "metadata": {},
     "output_type": "display_data"
    },
    {
     "name": "stdout",
     "output_type": "stream",
     "text": [
      "Iter: 53\n",
      "======Direction: left======\n"
     ]
    },
    {
     "data": {
      "text/html": [
       "<h1>Score: 64</h1><table style=\"border: 5px solid black;\"><tr><td style=\"border:3px solid black; text-align:center;\"\n",
       "         width=\"40\" height=\"40\">64</td><td style=\"border:3px solid black; text-align:center;\"\n",
       "         width=\"40\" height=\"40\">32</td><td style=\"border:3px solid black; text-align:center;\"\n",
       "         width=\"40\" height=\"40\">16</td><td style=\"border:3px solid black; text-align:center;\"\n",
       "         width=\"40\" height=\"40\">8</td></tr><tr><td style=\"border:3px solid black; text-align:center;\"\n",
       "         width=\"40\" height=\"40\">16</td><td style=\"border:3px solid black; text-align:center;\"\n",
       "         width=\"40\" height=\"40\">8</td><td style=\"border:3px solid black; text-align:center;\"\n",
       "         width=\"40\" height=\"40\">4</td><td style=\"border:3px solid black; text-align:center;\"\n",
       "         width=\"40\" height=\"40\"></td></tr><tr><td style=\"border:3px solid black; text-align:center;\"\n",
       "         width=\"40\" height=\"40\">8</td><td style=\"border:3px solid black; text-align:center;\"\n",
       "         width=\"40\" height=\"40\">2</td><td style=\"border:3px solid black; text-align:center;\"\n",
       "         width=\"40\" height=\"40\"></td><td style=\"border:3px solid black; text-align:center;\"\n",
       "         width=\"40\" height=\"40\"></td></tr><tr><td style=\"border:3px solid black; text-align:center;\"\n",
       "         width=\"40\" height=\"40\">8</td><td style=\"border:3px solid black; text-align:center;\"\n",
       "         width=\"40\" height=\"40\"></td><td style=\"border:3px solid black; text-align:center;\"\n",
       "         width=\"40\" height=\"40\"></td><td style=\"border:3px solid black; text-align:center;\"\n",
       "         width=\"40\" height=\"40\">4</td></tr></table>"
      ],
      "text/plain": [
       "<IPython.core.display.HTML object>"
      ]
     },
     "metadata": {},
     "output_type": "display_data"
    },
    {
     "name": "stdout",
     "output_type": "stream",
     "text": [
      "Iter: 54\n",
      "======Direction: up======\n"
     ]
    },
    {
     "data": {
      "text/html": [
       "<h1>Score: 64</h1><table style=\"border: 5px solid black;\"><tr><td style=\"border:3px solid black; text-align:center;\"\n",
       "         width=\"40\" height=\"40\">64</td><td style=\"border:3px solid black; text-align:center;\"\n",
       "         width=\"40\" height=\"40\">32</td><td style=\"border:3px solid black; text-align:center;\"\n",
       "         width=\"40\" height=\"40\">16</td><td style=\"border:3px solid black; text-align:center;\"\n",
       "         width=\"40\" height=\"40\">8</td></tr><tr><td style=\"border:3px solid black; text-align:center;\"\n",
       "         width=\"40\" height=\"40\">16</td><td style=\"border:3px solid black; text-align:center;\"\n",
       "         width=\"40\" height=\"40\">8</td><td style=\"border:3px solid black; text-align:center;\"\n",
       "         width=\"40\" height=\"40\">4</td><td style=\"border:3px solid black; text-align:center;\"\n",
       "         width=\"40\" height=\"40\">4</td></tr><tr><td style=\"border:3px solid black; text-align:center;\"\n",
       "         width=\"40\" height=\"40\">16</td><td style=\"border:3px solid black; text-align:center;\"\n",
       "         width=\"40\" height=\"40\">2</td><td style=\"border:3px solid black; text-align:center;\"\n",
       "         width=\"40\" height=\"40\">2</td><td style=\"border:3px solid black; text-align:center;\"\n",
       "         width=\"40\" height=\"40\"></td></tr><tr><td style=\"border:3px solid black; text-align:center;\"\n",
       "         width=\"40\" height=\"40\"></td><td style=\"border:3px solid black; text-align:center;\"\n",
       "         width=\"40\" height=\"40\"></td><td style=\"border:3px solid black; text-align:center;\"\n",
       "         width=\"40\" height=\"40\"></td><td style=\"border:3px solid black; text-align:center;\"\n",
       "         width=\"40\" height=\"40\"></td></tr></table>"
      ],
      "text/plain": [
       "<IPython.core.display.HTML object>"
      ]
     },
     "metadata": {},
     "output_type": "display_data"
    },
    {
     "name": "stdout",
     "output_type": "stream",
     "text": [
      "Iter: 55\n",
      "======Direction: up======\n"
     ]
    },
    {
     "data": {
      "text/html": [
       "<h1>Score: 64</h1><table style=\"border: 5px solid black;\"><tr><td style=\"border:3px solid black; text-align:center;\"\n",
       "         width=\"40\" height=\"40\">64</td><td style=\"border:3px solid black; text-align:center;\"\n",
       "         width=\"40\" height=\"40\">32</td><td style=\"border:3px solid black; text-align:center;\"\n",
       "         width=\"40\" height=\"40\">16</td><td style=\"border:3px solid black; text-align:center;\"\n",
       "         width=\"40\" height=\"40\">8</td></tr><tr><td style=\"border:3px solid black; text-align:center;\"\n",
       "         width=\"40\" height=\"40\">32</td><td style=\"border:3px solid black; text-align:center;\"\n",
       "         width=\"40\" height=\"40\">8</td><td style=\"border:3px solid black; text-align:center;\"\n",
       "         width=\"40\" height=\"40\">4</td><td style=\"border:3px solid black; text-align:center;\"\n",
       "         width=\"40\" height=\"40\">4</td></tr><tr><td style=\"border:3px solid black; text-align:center;\"\n",
       "         width=\"40\" height=\"40\"></td><td style=\"border:3px solid black; text-align:center;\"\n",
       "         width=\"40\" height=\"40\">2</td><td style=\"border:3px solid black; text-align:center;\"\n",
       "         width=\"40\" height=\"40\">2</td><td style=\"border:3px solid black; text-align:center;\"\n",
       "         width=\"40\" height=\"40\"></td></tr><tr><td style=\"border:3px solid black; text-align:center;\"\n",
       "         width=\"40\" height=\"40\"></td><td style=\"border:3px solid black; text-align:center;\"\n",
       "         width=\"40\" height=\"40\">2</td><td style=\"border:3px solid black; text-align:center;\"\n",
       "         width=\"40\" height=\"40\"></td><td style=\"border:3px solid black; text-align:center;\"\n",
       "         width=\"40\" height=\"40\"></td></tr></table>"
      ],
      "text/plain": [
       "<IPython.core.display.HTML object>"
      ]
     },
     "metadata": {},
     "output_type": "display_data"
    },
    {
     "name": "stdout",
     "output_type": "stream",
     "text": [
      "Iter: 56\n",
      "======Direction: right======\n"
     ]
    },
    {
     "data": {
      "text/html": [
       "<h1>Score: 64</h1><table style=\"border: 5px solid black;\"><tr><td style=\"border:3px solid black; text-align:center;\"\n",
       "         width=\"40\" height=\"40\">64</td><td style=\"border:3px solid black; text-align:center;\"\n",
       "         width=\"40\" height=\"40\">32</td><td style=\"border:3px solid black; text-align:center;\"\n",
       "         width=\"40\" height=\"40\">16</td><td style=\"border:3px solid black; text-align:center;\"\n",
       "         width=\"40\" height=\"40\">8</td></tr><tr><td style=\"border:3px solid black; text-align:center;\"\n",
       "         width=\"40\" height=\"40\"></td><td style=\"border:3px solid black; text-align:center;\"\n",
       "         width=\"40\" height=\"40\">32</td><td style=\"border:3px solid black; text-align:center;\"\n",
       "         width=\"40\" height=\"40\">8</td><td style=\"border:3px solid black; text-align:center;\"\n",
       "         width=\"40\" height=\"40\">8</td></tr><tr><td style=\"border:3px solid black; text-align:center;\"\n",
       "         width=\"40\" height=\"40\"></td><td style=\"border:3px solid black; text-align:center;\"\n",
       "         width=\"40\" height=\"40\">2</td><td style=\"border:3px solid black; text-align:center;\"\n",
       "         width=\"40\" height=\"40\"></td><td style=\"border:3px solid black; text-align:center;\"\n",
       "         width=\"40\" height=\"40\">4</td></tr><tr><td style=\"border:3px solid black; text-align:center;\"\n",
       "         width=\"40\" height=\"40\"></td><td style=\"border:3px solid black; text-align:center;\"\n",
       "         width=\"40\" height=\"40\"></td><td style=\"border:3px solid black; text-align:center;\"\n",
       "         width=\"40\" height=\"40\"></td><td style=\"border:3px solid black; text-align:center;\"\n",
       "         width=\"40\" height=\"40\">2</td></tr></table>"
      ],
      "text/plain": [
       "<IPython.core.display.HTML object>"
      ]
     },
     "metadata": {},
     "output_type": "display_data"
    },
    {
     "name": "stdout",
     "output_type": "stream",
     "text": [
      "Iter: 57\n",
      "======Direction: left======\n"
     ]
    },
    {
     "data": {
      "text/html": [
       "<h1>Score: 64</h1><table style=\"border: 5px solid black;\"><tr><td style=\"border:3px solid black; text-align:center;\"\n",
       "         width=\"40\" height=\"40\">64</td><td style=\"border:3px solid black; text-align:center;\"\n",
       "         width=\"40\" height=\"40\">32</td><td style=\"border:3px solid black; text-align:center;\"\n",
       "         width=\"40\" height=\"40\">16</td><td style=\"border:3px solid black; text-align:center;\"\n",
       "         width=\"40\" height=\"40\">8</td></tr><tr><td style=\"border:3px solid black; text-align:center;\"\n",
       "         width=\"40\" height=\"40\">32</td><td style=\"border:3px solid black; text-align:center;\"\n",
       "         width=\"40\" height=\"40\">16</td><td style=\"border:3px solid black; text-align:center;\"\n",
       "         width=\"40\" height=\"40\"></td><td style=\"border:3px solid black; text-align:center;\"\n",
       "         width=\"40\" height=\"40\"></td></tr><tr><td style=\"border:3px solid black; text-align:center;\"\n",
       "         width=\"40\" height=\"40\">2</td><td style=\"border:3px solid black; text-align:center;\"\n",
       "         width=\"40\" height=\"40\">4</td><td style=\"border:3px solid black; text-align:center;\"\n",
       "         width=\"40\" height=\"40\">4</td><td style=\"border:3px solid black; text-align:center;\"\n",
       "         width=\"40\" height=\"40\"></td></tr><tr><td style=\"border:3px solid black; text-align:center;\"\n",
       "         width=\"40\" height=\"40\">2</td><td style=\"border:3px solid black; text-align:center;\"\n",
       "         width=\"40\" height=\"40\"></td><td style=\"border:3px solid black; text-align:center;\"\n",
       "         width=\"40\" height=\"40\"></td><td style=\"border:3px solid black; text-align:center;\"\n",
       "         width=\"40\" height=\"40\"></td></tr></table>"
      ],
      "text/plain": [
       "<IPython.core.display.HTML object>"
      ]
     },
     "metadata": {},
     "output_type": "display_data"
    },
    {
     "name": "stdout",
     "output_type": "stream",
     "text": [
      "Iter: 58\n",
      "======Direction: up======\n"
     ]
    },
    {
     "data": {
      "text/html": [
       "<h1>Score: 64</h1><table style=\"border: 5px solid black;\"><tr><td style=\"border:3px solid black; text-align:center;\"\n",
       "         width=\"40\" height=\"40\">64</td><td style=\"border:3px solid black; text-align:center;\"\n",
       "         width=\"40\" height=\"40\">32</td><td style=\"border:3px solid black; text-align:center;\"\n",
       "         width=\"40\" height=\"40\">16</td><td style=\"border:3px solid black; text-align:center;\"\n",
       "         width=\"40\" height=\"40\">8</td></tr><tr><td style=\"border:3px solid black; text-align:center;\"\n",
       "         width=\"40\" height=\"40\">32</td><td style=\"border:3px solid black; text-align:center;\"\n",
       "         width=\"40\" height=\"40\">16</td><td style=\"border:3px solid black; text-align:center;\"\n",
       "         width=\"40\" height=\"40\">4</td><td style=\"border:3px solid black; text-align:center;\"\n",
       "         width=\"40\" height=\"40\"></td></tr><tr><td style=\"border:3px solid black; text-align:center;\"\n",
       "         width=\"40\" height=\"40\">4</td><td style=\"border:3px solid black; text-align:center;\"\n",
       "         width=\"40\" height=\"40\">4</td><td style=\"border:3px solid black; text-align:center;\"\n",
       "         width=\"40\" height=\"40\">4</td><td style=\"border:3px solid black; text-align:center;\"\n",
       "         width=\"40\" height=\"40\"></td></tr><tr><td style=\"border:3px solid black; text-align:center;\"\n",
       "         width=\"40\" height=\"40\"></td><td style=\"border:3px solid black; text-align:center;\"\n",
       "         width=\"40\" height=\"40\"></td><td style=\"border:3px solid black; text-align:center;\"\n",
       "         width=\"40\" height=\"40\"></td><td style=\"border:3px solid black; text-align:center;\"\n",
       "         width=\"40\" height=\"40\"></td></tr></table>"
      ],
      "text/plain": [
       "<IPython.core.display.HTML object>"
      ]
     },
     "metadata": {},
     "output_type": "display_data"
    },
    {
     "name": "stdout",
     "output_type": "stream",
     "text": [
      "Iter: 59\n",
      "======Direction: up======\n"
     ]
    },
    {
     "data": {
      "text/html": [
       "<h1>Score: 64</h1><table style=\"border: 5px solid black;\"><tr><td style=\"border:3px solid black; text-align:center;\"\n",
       "         width=\"40\" height=\"40\">64</td><td style=\"border:3px solid black; text-align:center;\"\n",
       "         width=\"40\" height=\"40\">32</td><td style=\"border:3px solid black; text-align:center;\"\n",
       "         width=\"40\" height=\"40\">16</td><td style=\"border:3px solid black; text-align:center;\"\n",
       "         width=\"40\" height=\"40\">8</td></tr><tr><td style=\"border:3px solid black; text-align:center;\"\n",
       "         width=\"40\" height=\"40\">32</td><td style=\"border:3px solid black; text-align:center;\"\n",
       "         width=\"40\" height=\"40\">16</td><td style=\"border:3px solid black; text-align:center;\"\n",
       "         width=\"40\" height=\"40\">8</td><td style=\"border:3px solid black; text-align:center;\"\n",
       "         width=\"40\" height=\"40\"></td></tr><tr><td style=\"border:3px solid black; text-align:center;\"\n",
       "         width=\"40\" height=\"40\">4</td><td style=\"border:3px solid black; text-align:center;\"\n",
       "         width=\"40\" height=\"40\">4</td><td style=\"border:3px solid black; text-align:center;\"\n",
       "         width=\"40\" height=\"40\"></td><td style=\"border:3px solid black; text-align:center;\"\n",
       "         width=\"40\" height=\"40\"></td></tr><tr><td style=\"border:3px solid black; text-align:center;\"\n",
       "         width=\"40\" height=\"40\">2</td><td style=\"border:3px solid black; text-align:center;\"\n",
       "         width=\"40\" height=\"40\"></td><td style=\"border:3px solid black; text-align:center;\"\n",
       "         width=\"40\" height=\"40\"></td><td style=\"border:3px solid black; text-align:center;\"\n",
       "         width=\"40\" height=\"40\"></td></tr></table>"
      ],
      "text/plain": [
       "<IPython.core.display.HTML object>"
      ]
     },
     "metadata": {},
     "output_type": "display_data"
    },
    {
     "name": "stdout",
     "output_type": "stream",
     "text": [
      "Iter: 60\n",
      "======Direction: left======\n"
     ]
    },
    {
     "data": {
      "text/html": [
       "<h1>Score: 64</h1><table style=\"border: 5px solid black;\"><tr><td style=\"border:3px solid black; text-align:center;\"\n",
       "         width=\"40\" height=\"40\">64</td><td style=\"border:3px solid black; text-align:center;\"\n",
       "         width=\"40\" height=\"40\">32</td><td style=\"border:3px solid black; text-align:center;\"\n",
       "         width=\"40\" height=\"40\">16</td><td style=\"border:3px solid black; text-align:center;\"\n",
       "         width=\"40\" height=\"40\">8</td></tr><tr><td style=\"border:3px solid black; text-align:center;\"\n",
       "         width=\"40\" height=\"40\">32</td><td style=\"border:3px solid black; text-align:center;\"\n",
       "         width=\"40\" height=\"40\">16</td><td style=\"border:3px solid black; text-align:center;\"\n",
       "         width=\"40\" height=\"40\">8</td><td style=\"border:3px solid black; text-align:center;\"\n",
       "         width=\"40\" height=\"40\"></td></tr><tr><td style=\"border:3px solid black; text-align:center;\"\n",
       "         width=\"40\" height=\"40\">8</td><td style=\"border:3px solid black; text-align:center;\"\n",
       "         width=\"40\" height=\"40\">2</td><td style=\"border:3px solid black; text-align:center;\"\n",
       "         width=\"40\" height=\"40\"></td><td style=\"border:3px solid black; text-align:center;\"\n",
       "         width=\"40\" height=\"40\"></td></tr><tr><td style=\"border:3px solid black; text-align:center;\"\n",
       "         width=\"40\" height=\"40\">2</td><td style=\"border:3px solid black; text-align:center;\"\n",
       "         width=\"40\" height=\"40\"></td><td style=\"border:3px solid black; text-align:center;\"\n",
       "         width=\"40\" height=\"40\"></td><td style=\"border:3px solid black; text-align:center;\"\n",
       "         width=\"40\" height=\"40\"></td></tr></table>"
      ],
      "text/plain": [
       "<IPython.core.display.HTML object>"
      ]
     },
     "metadata": {},
     "output_type": "display_data"
    },
    {
     "name": "stdout",
     "output_type": "stream",
     "text": [
      "Iter: 61\n",
      "======Direction: right======\n"
     ]
    },
    {
     "data": {
      "text/html": [
       "<h1>Score: 64</h1><table style=\"border: 5px solid black;\"><tr><td style=\"border:3px solid black; text-align:center;\"\n",
       "         width=\"40\" height=\"40\">64</td><td style=\"border:3px solid black; text-align:center;\"\n",
       "         width=\"40\" height=\"40\">32</td><td style=\"border:3px solid black; text-align:center;\"\n",
       "         width=\"40\" height=\"40\">16</td><td style=\"border:3px solid black; text-align:center;\"\n",
       "         width=\"40\" height=\"40\">8</td></tr><tr><td style=\"border:3px solid black; text-align:center;\"\n",
       "         width=\"40\" height=\"40\"></td><td style=\"border:3px solid black; text-align:center;\"\n",
       "         width=\"40\" height=\"40\">32</td><td style=\"border:3px solid black; text-align:center;\"\n",
       "         width=\"40\" height=\"40\">16</td><td style=\"border:3px solid black; text-align:center;\"\n",
       "         width=\"40\" height=\"40\">8</td></tr><tr><td style=\"border:3px solid black; text-align:center;\"\n",
       "         width=\"40\" height=\"40\"></td><td style=\"border:3px solid black; text-align:center;\"\n",
       "         width=\"40\" height=\"40\">4</td><td style=\"border:3px solid black; text-align:center;\"\n",
       "         width=\"40\" height=\"40\">8</td><td style=\"border:3px solid black; text-align:center;\"\n",
       "         width=\"40\" height=\"40\">2</td></tr><tr><td style=\"border:3px solid black; text-align:center;\"\n",
       "         width=\"40\" height=\"40\"></td><td style=\"border:3px solid black; text-align:center;\"\n",
       "         width=\"40\" height=\"40\"></td><td style=\"border:3px solid black; text-align:center;\"\n",
       "         width=\"40\" height=\"40\"></td><td style=\"border:3px solid black; text-align:center;\"\n",
       "         width=\"40\" height=\"40\">2</td></tr></table>"
      ],
      "text/plain": [
       "<IPython.core.display.HTML object>"
      ]
     },
     "metadata": {},
     "output_type": "display_data"
    },
    {
     "name": "stdout",
     "output_type": "stream",
     "text": [
      "Iter: 62\n",
      "======Direction: up======\n"
     ]
    },
    {
     "data": {
      "text/html": [
       "<h1>Score: 64</h1><table style=\"border: 5px solid black;\"><tr><td style=\"border:3px solid black; text-align:center;\"\n",
       "         width=\"40\" height=\"40\">64</td><td style=\"border:3px solid black; text-align:center;\"\n",
       "         width=\"40\" height=\"40\">64</td><td style=\"border:3px solid black; text-align:center;\"\n",
       "         width=\"40\" height=\"40\">32</td><td style=\"border:3px solid black; text-align:center;\"\n",
       "         width=\"40\" height=\"40\">16</td></tr><tr><td style=\"border:3px solid black; text-align:center;\"\n",
       "         width=\"40\" height=\"40\"></td><td style=\"border:3px solid black; text-align:center;\"\n",
       "         width=\"40\" height=\"40\">4</td><td style=\"border:3px solid black; text-align:center;\"\n",
       "         width=\"40\" height=\"40\">8</td><td style=\"border:3px solid black; text-align:center;\"\n",
       "         width=\"40\" height=\"40\">4</td></tr><tr><td style=\"border:3px solid black; text-align:center;\"\n",
       "         width=\"40\" height=\"40\"></td><td style=\"border:3px solid black; text-align:center;\"\n",
       "         width=\"40\" height=\"40\"></td><td style=\"border:3px solid black; text-align:center;\"\n",
       "         width=\"40\" height=\"40\"></td><td style=\"border:3px solid black; text-align:center;\"\n",
       "         width=\"40\" height=\"40\"></td></tr><tr><td style=\"border:3px solid black; text-align:center;\"\n",
       "         width=\"40\" height=\"40\"></td><td style=\"border:3px solid black; text-align:center;\"\n",
       "         width=\"40\" height=\"40\"></td><td style=\"border:3px solid black; text-align:center;\"\n",
       "         width=\"40\" height=\"40\"></td><td style=\"border:3px solid black; text-align:center;\"\n",
       "         width=\"40\" height=\"40\">4</td></tr></table>"
      ],
      "text/plain": [
       "<IPython.core.display.HTML object>"
      ]
     },
     "metadata": {},
     "output_type": "display_data"
    },
    {
     "name": "stdout",
     "output_type": "stream",
     "text": [
      "Iter: 63\n",
      "======Direction: left======\n"
     ]
    },
    {
     "data": {
      "text/html": [
       "<h1>Score: 128</h1><table style=\"border: 5px solid black;\"><tr><td style=\"border:3px solid black; text-align:center;\"\n",
       "         width=\"40\" height=\"40\">128</td><td style=\"border:3px solid black; text-align:center;\"\n",
       "         width=\"40\" height=\"40\">32</td><td style=\"border:3px solid black; text-align:center;\"\n",
       "         width=\"40\" height=\"40\">16</td><td style=\"border:3px solid black; text-align:center;\"\n",
       "         width=\"40\" height=\"40\"></td></tr><tr><td style=\"border:3px solid black; text-align:center;\"\n",
       "         width=\"40\" height=\"40\">4</td><td style=\"border:3px solid black; text-align:center;\"\n",
       "         width=\"40\" height=\"40\">8</td><td style=\"border:3px solid black; text-align:center;\"\n",
       "         width=\"40\" height=\"40\">4</td><td style=\"border:3px solid black; text-align:center;\"\n",
       "         width=\"40\" height=\"40\"></td></tr><tr><td style=\"border:3px solid black; text-align:center;\"\n",
       "         width=\"40\" height=\"40\">4</td><td style=\"border:3px solid black; text-align:center;\"\n",
       "         width=\"40\" height=\"40\"></td><td style=\"border:3px solid black; text-align:center;\"\n",
       "         width=\"40\" height=\"40\"></td><td style=\"border:3px solid black; text-align:center;\"\n",
       "         width=\"40\" height=\"40\"></td></tr><tr><td style=\"border:3px solid black; text-align:center;\"\n",
       "         width=\"40\" height=\"40\">4</td><td style=\"border:3px solid black; text-align:center;\"\n",
       "         width=\"40\" height=\"40\"></td><td style=\"border:3px solid black; text-align:center;\"\n",
       "         width=\"40\" height=\"40\"></td><td style=\"border:3px solid black; text-align:center;\"\n",
       "         width=\"40\" height=\"40\"></td></tr></table>"
      ],
      "text/plain": [
       "<IPython.core.display.HTML object>"
      ]
     },
     "metadata": {},
     "output_type": "display_data"
    },
    {
     "name": "stdout",
     "output_type": "stream",
     "text": [
      "Iter: 64\n",
      "======Direction: up======\n"
     ]
    },
    {
     "data": {
      "text/html": [
       "<h1>Score: 128</h1><table style=\"border: 5px solid black;\"><tr><td style=\"border:3px solid black; text-align:center;\"\n",
       "         width=\"40\" height=\"40\">128</td><td style=\"border:3px solid black; text-align:center;\"\n",
       "         width=\"40\" height=\"40\">32</td><td style=\"border:3px solid black; text-align:center;\"\n",
       "         width=\"40\" height=\"40\">16</td><td style=\"border:3px solid black; text-align:center;\"\n",
       "         width=\"40\" height=\"40\"></td></tr><tr><td style=\"border:3px solid black; text-align:center;\"\n",
       "         width=\"40\" height=\"40\">8</td><td style=\"border:3px solid black; text-align:center;\"\n",
       "         width=\"40\" height=\"40\">8</td><td style=\"border:3px solid black; text-align:center;\"\n",
       "         width=\"40\" height=\"40\">4</td><td style=\"border:3px solid black; text-align:center;\"\n",
       "         width=\"40\" height=\"40\"></td></tr><tr><td style=\"border:3px solid black; text-align:center;\"\n",
       "         width=\"40\" height=\"40\">4</td><td style=\"border:3px solid black; text-align:center;\"\n",
       "         width=\"40\" height=\"40\"></td><td style=\"border:3px solid black; text-align:center;\"\n",
       "         width=\"40\" height=\"40\"></td><td style=\"border:3px solid black; text-align:center;\"\n",
       "         width=\"40\" height=\"40\">4</td></tr><tr><td style=\"border:3px solid black; text-align:center;\"\n",
       "         width=\"40\" height=\"40\"></td><td style=\"border:3px solid black; text-align:center;\"\n",
       "         width=\"40\" height=\"40\"></td><td style=\"border:3px solid black; text-align:center;\"\n",
       "         width=\"40\" height=\"40\"></td><td style=\"border:3px solid black; text-align:center;\"\n",
       "         width=\"40\" height=\"40\"></td></tr></table>"
      ],
      "text/plain": [
       "<IPython.core.display.HTML object>"
      ]
     },
     "metadata": {},
     "output_type": "display_data"
    },
    {
     "name": "stdout",
     "output_type": "stream",
     "text": [
      "Iter: 65\n",
      "======Direction: up======\n"
     ]
    },
    {
     "data": {
      "text/html": [
       "<h1>Score: 128</h1><table style=\"border: 5px solid black;\"><tr><td style=\"border:3px solid black; text-align:center;\"\n",
       "         width=\"40\" height=\"40\">128</td><td style=\"border:3px solid black; text-align:center;\"\n",
       "         width=\"40\" height=\"40\">32</td><td style=\"border:3px solid black; text-align:center;\"\n",
       "         width=\"40\" height=\"40\">16</td><td style=\"border:3px solid black; text-align:center;\"\n",
       "         width=\"40\" height=\"40\">4</td></tr><tr><td style=\"border:3px solid black; text-align:center;\"\n",
       "         width=\"40\" height=\"40\">8</td><td style=\"border:3px solid black; text-align:center;\"\n",
       "         width=\"40\" height=\"40\">8</td><td style=\"border:3px solid black; text-align:center;\"\n",
       "         width=\"40\" height=\"40\">4</td><td style=\"border:3px solid black; text-align:center;\"\n",
       "         width=\"40\" height=\"40\">4</td></tr><tr><td style=\"border:3px solid black; text-align:center;\"\n",
       "         width=\"40\" height=\"40\">4</td><td style=\"border:3px solid black; text-align:center;\"\n",
       "         width=\"40\" height=\"40\"></td><td style=\"border:3px solid black; text-align:center;\"\n",
       "         width=\"40\" height=\"40\"></td><td style=\"border:3px solid black; text-align:center;\"\n",
       "         width=\"40\" height=\"40\"></td></tr><tr><td style=\"border:3px solid black; text-align:center;\"\n",
       "         width=\"40\" height=\"40\"></td><td style=\"border:3px solid black; text-align:center;\"\n",
       "         width=\"40\" height=\"40\"></td><td style=\"border:3px solid black; text-align:center;\"\n",
       "         width=\"40\" height=\"40\"></td><td style=\"border:3px solid black; text-align:center;\"\n",
       "         width=\"40\" height=\"40\"></td></tr></table>"
      ],
      "text/plain": [
       "<IPython.core.display.HTML object>"
      ]
     },
     "metadata": {},
     "output_type": "display_data"
    },
    {
     "name": "stdout",
     "output_type": "stream",
     "text": [
      "Iter: 66\n",
      "======Direction: up======\n"
     ]
    },
    {
     "data": {
      "text/html": [
       "<h1>Score: 128</h1><table style=\"border: 5px solid black;\"><tr><td style=\"border:3px solid black; text-align:center;\"\n",
       "         width=\"40\" height=\"40\">128</td><td style=\"border:3px solid black; text-align:center;\"\n",
       "         width=\"40\" height=\"40\">32</td><td style=\"border:3px solid black; text-align:center;\"\n",
       "         width=\"40\" height=\"40\">16</td><td style=\"border:3px solid black; text-align:center;\"\n",
       "         width=\"40\" height=\"40\">8</td></tr><tr><td style=\"border:3px solid black; text-align:center;\"\n",
       "         width=\"40\" height=\"40\">8</td><td style=\"border:3px solid black; text-align:center;\"\n",
       "         width=\"40\" height=\"40\">8</td><td style=\"border:3px solid black; text-align:center;\"\n",
       "         width=\"40\" height=\"40\">4</td><td style=\"border:3px solid black; text-align:center;\"\n",
       "         width=\"40\" height=\"40\"></td></tr><tr><td style=\"border:3px solid black; text-align:center;\"\n",
       "         width=\"40\" height=\"40\">4</td><td style=\"border:3px solid black; text-align:center;\"\n",
       "         width=\"40\" height=\"40\"></td><td style=\"border:3px solid black; text-align:center;\"\n",
       "         width=\"40\" height=\"40\"></td><td style=\"border:3px solid black; text-align:center;\"\n",
       "         width=\"40\" height=\"40\"></td></tr><tr><td style=\"border:3px solid black; text-align:center;\"\n",
       "         width=\"40\" height=\"40\"></td><td style=\"border:3px solid black; text-align:center;\"\n",
       "         width=\"40\" height=\"40\">4</td><td style=\"border:3px solid black; text-align:center;\"\n",
       "         width=\"40\" height=\"40\"></td><td style=\"border:3px solid black; text-align:center;\"\n",
       "         width=\"40\" height=\"40\"></td></tr></table>"
      ],
      "text/plain": [
       "<IPython.core.display.HTML object>"
      ]
     },
     "metadata": {},
     "output_type": "display_data"
    },
    {
     "name": "stdout",
     "output_type": "stream",
     "text": [
      "Iter: 67\n",
      "======Direction: up======\n"
     ]
    },
    {
     "data": {
      "text/html": [
       "<h1>Score: 128</h1><table style=\"border: 5px solid black;\"><tr><td style=\"border:3px solid black; text-align:center;\"\n",
       "         width=\"40\" height=\"40\">128</td><td style=\"border:3px solid black; text-align:center;\"\n",
       "         width=\"40\" height=\"40\">32</td><td style=\"border:3px solid black; text-align:center;\"\n",
       "         width=\"40\" height=\"40\">16</td><td style=\"border:3px solid black; text-align:center;\"\n",
       "         width=\"40\" height=\"40\">8</td></tr><tr><td style=\"border:3px solid black; text-align:center;\"\n",
       "         width=\"40\" height=\"40\">8</td><td style=\"border:3px solid black; text-align:center;\"\n",
       "         width=\"40\" height=\"40\">8</td><td style=\"border:3px solid black; text-align:center;\"\n",
       "         width=\"40\" height=\"40\">4</td><td style=\"border:3px solid black; text-align:center;\"\n",
       "         width=\"40\" height=\"40\"></td></tr><tr><td style=\"border:3px solid black; text-align:center;\"\n",
       "         width=\"40\" height=\"40\">4</td><td style=\"border:3px solid black; text-align:center;\"\n",
       "         width=\"40\" height=\"40\">4</td><td style=\"border:3px solid black; text-align:center;\"\n",
       "         width=\"40\" height=\"40\"></td><td style=\"border:3px solid black; text-align:center;\"\n",
       "         width=\"40\" height=\"40\">2</td></tr><tr><td style=\"border:3px solid black; text-align:center;\"\n",
       "         width=\"40\" height=\"40\"></td><td style=\"border:3px solid black; text-align:center;\"\n",
       "         width=\"40\" height=\"40\"></td><td style=\"border:3px solid black; text-align:center;\"\n",
       "         width=\"40\" height=\"40\"></td><td style=\"border:3px solid black; text-align:center;\"\n",
       "         width=\"40\" height=\"40\"></td></tr></table>"
      ],
      "text/plain": [
       "<IPython.core.display.HTML object>"
      ]
     },
     "metadata": {},
     "output_type": "display_data"
    },
    {
     "name": "stdout",
     "output_type": "stream",
     "text": [
      "Iter: 68\n",
      "======Direction: up======\n"
     ]
    },
    {
     "data": {
      "text/html": [
       "<h1>Score: 128</h1><table style=\"border: 5px solid black;\"><tr><td style=\"border:3px solid black; text-align:center;\"\n",
       "         width=\"40\" height=\"40\">128</td><td style=\"border:3px solid black; text-align:center;\"\n",
       "         width=\"40\" height=\"40\">32</td><td style=\"border:3px solid black; text-align:center;\"\n",
       "         width=\"40\" height=\"40\">16</td><td style=\"border:3px solid black; text-align:center;\"\n",
       "         width=\"40\" height=\"40\">8</td></tr><tr><td style=\"border:3px solid black; text-align:center;\"\n",
       "         width=\"40\" height=\"40\">8</td><td style=\"border:3px solid black; text-align:center;\"\n",
       "         width=\"40\" height=\"40\">8</td><td style=\"border:3px solid black; text-align:center;\"\n",
       "         width=\"40\" height=\"40\">4</td><td style=\"border:3px solid black; text-align:center;\"\n",
       "         width=\"40\" height=\"40\">2</td></tr><tr><td style=\"border:3px solid black; text-align:center;\"\n",
       "         width=\"40\" height=\"40\">4</td><td style=\"border:3px solid black; text-align:center;\"\n",
       "         width=\"40\" height=\"40\">4</td><td style=\"border:3px solid black; text-align:center;\"\n",
       "         width=\"40\" height=\"40\"></td><td style=\"border:3px solid black; text-align:center;\"\n",
       "         width=\"40\" height=\"40\"></td></tr><tr><td style=\"border:3px solid black; text-align:center;\"\n",
       "         width=\"40\" height=\"40\">2</td><td style=\"border:3px solid black; text-align:center;\"\n",
       "         width=\"40\" height=\"40\"></td><td style=\"border:3px solid black; text-align:center;\"\n",
       "         width=\"40\" height=\"40\"></td><td style=\"border:3px solid black; text-align:center;\"\n",
       "         width=\"40\" height=\"40\"></td></tr></table>"
      ],
      "text/plain": [
       "<IPython.core.display.HTML object>"
      ]
     },
     "metadata": {},
     "output_type": "display_data"
    },
    {
     "name": "stdout",
     "output_type": "stream",
     "text": [
      "Iter: 69\n",
      "======Direction: left======\n"
     ]
    },
    {
     "data": {
      "text/html": [
       "<h1>Score: 128</h1><table style=\"border: 5px solid black;\"><tr><td style=\"border:3px solid black; text-align:center;\"\n",
       "         width=\"40\" height=\"40\">128</td><td style=\"border:3px solid black; text-align:center;\"\n",
       "         width=\"40\" height=\"40\">32</td><td style=\"border:3px solid black; text-align:center;\"\n",
       "         width=\"40\" height=\"40\">16</td><td style=\"border:3px solid black; text-align:center;\"\n",
       "         width=\"40\" height=\"40\">8</td></tr><tr><td style=\"border:3px solid black; text-align:center;\"\n",
       "         width=\"40\" height=\"40\">16</td><td style=\"border:3px solid black; text-align:center;\"\n",
       "         width=\"40\" height=\"40\">4</td><td style=\"border:3px solid black; text-align:center;\"\n",
       "         width=\"40\" height=\"40\">2</td><td style=\"border:3px solid black; text-align:center;\"\n",
       "         width=\"40\" height=\"40\"></td></tr><tr><td style=\"border:3px solid black; text-align:center;\"\n",
       "         width=\"40\" height=\"40\">8</td><td style=\"border:3px solid black; text-align:center;\"\n",
       "         width=\"40\" height=\"40\"></td><td style=\"border:3px solid black; text-align:center;\"\n",
       "         width=\"40\" height=\"40\"></td><td style=\"border:3px solid black; text-align:center;\"\n",
       "         width=\"40\" height=\"40\"></td></tr><tr><td style=\"border:3px solid black; text-align:center;\"\n",
       "         width=\"40\" height=\"40\">2</td><td style=\"border:3px solid black; text-align:center;\"\n",
       "         width=\"40\" height=\"40\"></td><td style=\"border:3px solid black; text-align:center;\"\n",
       "         width=\"40\" height=\"40\"></td><td style=\"border:3px solid black; text-align:center;\"\n",
       "         width=\"40\" height=\"40\">2</td></tr></table>"
      ],
      "text/plain": [
       "<IPython.core.display.HTML object>"
      ]
     },
     "metadata": {},
     "output_type": "display_data"
    },
    {
     "name": "stdout",
     "output_type": "stream",
     "text": [
      "Iter: 70\n",
      "======Direction: up======\n"
     ]
    },
    {
     "data": {
      "text/html": [
       "<h1>Score: 128</h1><table style=\"border: 5px solid black;\"><tr><td style=\"border:3px solid black; text-align:center;\"\n",
       "         width=\"40\" height=\"40\">128</td><td style=\"border:3px solid black; text-align:center;\"\n",
       "         width=\"40\" height=\"40\">32</td><td style=\"border:3px solid black; text-align:center;\"\n",
       "         width=\"40\" height=\"40\">16</td><td style=\"border:3px solid black; text-align:center;\"\n",
       "         width=\"40\" height=\"40\">8</td></tr><tr><td style=\"border:3px solid black; text-align:center;\"\n",
       "         width=\"40\" height=\"40\">16</td><td style=\"border:3px solid black; text-align:center;\"\n",
       "         width=\"40\" height=\"40\">4</td><td style=\"border:3px solid black; text-align:center;\"\n",
       "         width=\"40\" height=\"40\">2</td><td style=\"border:3px solid black; text-align:center;\"\n",
       "         width=\"40\" height=\"40\">2</td></tr><tr><td style=\"border:3px solid black; text-align:center;\"\n",
       "         width=\"40\" height=\"40\">8</td><td style=\"border:3px solid black; text-align:center;\"\n",
       "         width=\"40\" height=\"40\"></td><td style=\"border:3px solid black; text-align:center;\"\n",
       "         width=\"40\" height=\"40\">4</td><td style=\"border:3px solid black; text-align:center;\"\n",
       "         width=\"40\" height=\"40\"></td></tr><tr><td style=\"border:3px solid black; text-align:center;\"\n",
       "         width=\"40\" height=\"40\">2</td><td style=\"border:3px solid black; text-align:center;\"\n",
       "         width=\"40\" height=\"40\"></td><td style=\"border:3px solid black; text-align:center;\"\n",
       "         width=\"40\" height=\"40\"></td><td style=\"border:3px solid black; text-align:center;\"\n",
       "         width=\"40\" height=\"40\"></td></tr></table>"
      ],
      "text/plain": [
       "<IPython.core.display.HTML object>"
      ]
     },
     "metadata": {},
     "output_type": "display_data"
    },
    {
     "name": "stdout",
     "output_type": "stream",
     "text": [
      "Iter: 71\n",
      "======Direction: left======\n"
     ]
    },
    {
     "data": {
      "text/html": [
       "<h1>Score: 128</h1><table style=\"border: 5px solid black;\"><tr><td style=\"border:3px solid black; text-align:center;\"\n",
       "         width=\"40\" height=\"40\">128</td><td style=\"border:3px solid black; text-align:center;\"\n",
       "         width=\"40\" height=\"40\">32</td><td style=\"border:3px solid black; text-align:center;\"\n",
       "         width=\"40\" height=\"40\">16</td><td style=\"border:3px solid black; text-align:center;\"\n",
       "         width=\"40\" height=\"40\">8</td></tr><tr><td style=\"border:3px solid black; text-align:center;\"\n",
       "         width=\"40\" height=\"40\">16</td><td style=\"border:3px solid black; text-align:center;\"\n",
       "         width=\"40\" height=\"40\">4</td><td style=\"border:3px solid black; text-align:center;\"\n",
       "         width=\"40\" height=\"40\">4</td><td style=\"border:3px solid black; text-align:center;\"\n",
       "         width=\"40\" height=\"40\"></td></tr><tr><td style=\"border:3px solid black; text-align:center;\"\n",
       "         width=\"40\" height=\"40\">8</td><td style=\"border:3px solid black; text-align:center;\"\n",
       "         width=\"40\" height=\"40\">4</td><td style=\"border:3px solid black; text-align:center;\"\n",
       "         width=\"40\" height=\"40\"></td><td style=\"border:3px solid black; text-align:center;\"\n",
       "         width=\"40\" height=\"40\"></td></tr><tr><td style=\"border:3px solid black; text-align:center;\"\n",
       "         width=\"40\" height=\"40\">2</td><td style=\"border:3px solid black; text-align:center;\"\n",
       "         width=\"40\" height=\"40\">4</td><td style=\"border:3px solid black; text-align:center;\"\n",
       "         width=\"40\" height=\"40\"></td><td style=\"border:3px solid black; text-align:center;\"\n",
       "         width=\"40\" height=\"40\"></td></tr></table>"
      ],
      "text/plain": [
       "<IPython.core.display.HTML object>"
      ]
     },
     "metadata": {},
     "output_type": "display_data"
    },
    {
     "name": "stdout",
     "output_type": "stream",
     "text": [
      "Iter: 72\n",
      "======Direction: up======\n"
     ]
    },
    {
     "data": {
      "text/html": [
       "<h1>Score: 128</h1><table style=\"border: 5px solid black;\"><tr><td style=\"border:3px solid black; text-align:center;\"\n",
       "         width=\"40\" height=\"40\">128</td><td style=\"border:3px solid black; text-align:center;\"\n",
       "         width=\"40\" height=\"40\">32</td><td style=\"border:3px solid black; text-align:center;\"\n",
       "         width=\"40\" height=\"40\">16</td><td style=\"border:3px solid black; text-align:center;\"\n",
       "         width=\"40\" height=\"40\">8</td></tr><tr><td style=\"border:3px solid black; text-align:center;\"\n",
       "         width=\"40\" height=\"40\">16</td><td style=\"border:3px solid black; text-align:center;\"\n",
       "         width=\"40\" height=\"40\">8</td><td style=\"border:3px solid black; text-align:center;\"\n",
       "         width=\"40\" height=\"40\">4</td><td style=\"border:3px solid black; text-align:center;\"\n",
       "         width=\"40\" height=\"40\"></td></tr><tr><td style=\"border:3px solid black; text-align:center;\"\n",
       "         width=\"40\" height=\"40\">8</td><td style=\"border:3px solid black; text-align:center;\"\n",
       "         width=\"40\" height=\"40\">4</td><td style=\"border:3px solid black; text-align:center;\"\n",
       "         width=\"40\" height=\"40\"></td><td style=\"border:3px solid black; text-align:center;\"\n",
       "         width=\"40\" height=\"40\"></td></tr><tr><td style=\"border:3px solid black; text-align:center;\"\n",
       "         width=\"40\" height=\"40\">2</td><td style=\"border:3px solid black; text-align:center;\"\n",
       "         width=\"40\" height=\"40\">2</td><td style=\"border:3px solid black; text-align:center;\"\n",
       "         width=\"40\" height=\"40\"></td><td style=\"border:3px solid black; text-align:center;\"\n",
       "         width=\"40\" height=\"40\"></td></tr></table>"
      ],
      "text/plain": [
       "<IPython.core.display.HTML object>"
      ]
     },
     "metadata": {},
     "output_type": "display_data"
    },
    {
     "name": "stdout",
     "output_type": "stream",
     "text": [
      "Iter: 73\n",
      "======Direction: left======\n"
     ]
    },
    {
     "data": {
      "text/html": [
       "<h1>Score: 128</h1><table style=\"border: 5px solid black;\"><tr><td style=\"border:3px solid black; text-align:center;\"\n",
       "         width=\"40\" height=\"40\">128</td><td style=\"border:3px solid black; text-align:center;\"\n",
       "         width=\"40\" height=\"40\">32</td><td style=\"border:3px solid black; text-align:center;\"\n",
       "         width=\"40\" height=\"40\">16</td><td style=\"border:3px solid black; text-align:center;\"\n",
       "         width=\"40\" height=\"40\">8</td></tr><tr><td style=\"border:3px solid black; text-align:center;\"\n",
       "         width=\"40\" height=\"40\">16</td><td style=\"border:3px solid black; text-align:center;\"\n",
       "         width=\"40\" height=\"40\">8</td><td style=\"border:3px solid black; text-align:center;\"\n",
       "         width=\"40\" height=\"40\">4</td><td style=\"border:3px solid black; text-align:center;\"\n",
       "         width=\"40\" height=\"40\">4</td></tr><tr><td style=\"border:3px solid black; text-align:center;\"\n",
       "         width=\"40\" height=\"40\">8</td><td style=\"border:3px solid black; text-align:center;\"\n",
       "         width=\"40\" height=\"40\">4</td><td style=\"border:3px solid black; text-align:center;\"\n",
       "         width=\"40\" height=\"40\"></td><td style=\"border:3px solid black; text-align:center;\"\n",
       "         width=\"40\" height=\"40\"></td></tr><tr><td style=\"border:3px solid black; text-align:center;\"\n",
       "         width=\"40\" height=\"40\">4</td><td style=\"border:3px solid black; text-align:center;\"\n",
       "         width=\"40\" height=\"40\"></td><td style=\"border:3px solid black; text-align:center;\"\n",
       "         width=\"40\" height=\"40\"></td><td style=\"border:3px solid black; text-align:center;\"\n",
       "         width=\"40\" height=\"40\"></td></tr></table>"
      ],
      "text/plain": [
       "<IPython.core.display.HTML object>"
      ]
     },
     "metadata": {},
     "output_type": "display_data"
    },
    {
     "name": "stdout",
     "output_type": "stream",
     "text": [
      "Iter: 74\n",
      "======Direction: left======\n"
     ]
    },
    {
     "data": {
      "text/html": [
       "<h1>Score: 128</h1><table style=\"border: 5px solid black;\"><tr><td style=\"border:3px solid black; text-align:center;\"\n",
       "         width=\"40\" height=\"40\">128</td><td style=\"border:3px solid black; text-align:center;\"\n",
       "         width=\"40\" height=\"40\">32</td><td style=\"border:3px solid black; text-align:center;\"\n",
       "         width=\"40\" height=\"40\">16</td><td style=\"border:3px solid black; text-align:center;\"\n",
       "         width=\"40\" height=\"40\">8</td></tr><tr><td style=\"border:3px solid black; text-align:center;\"\n",
       "         width=\"40\" height=\"40\">16</td><td style=\"border:3px solid black; text-align:center;\"\n",
       "         width=\"40\" height=\"40\">8</td><td style=\"border:3px solid black; text-align:center;\"\n",
       "         width=\"40\" height=\"40\">8</td><td style=\"border:3px solid black; text-align:center;\"\n",
       "         width=\"40\" height=\"40\"></td></tr><tr><td style=\"border:3px solid black; text-align:center;\"\n",
       "         width=\"40\" height=\"40\">8</td><td style=\"border:3px solid black; text-align:center;\"\n",
       "         width=\"40\" height=\"40\">4</td><td style=\"border:3px solid black; text-align:center;\"\n",
       "         width=\"40\" height=\"40\">2</td><td style=\"border:3px solid black; text-align:center;\"\n",
       "         width=\"40\" height=\"40\"></td></tr><tr><td style=\"border:3px solid black; text-align:center;\"\n",
       "         width=\"40\" height=\"40\">4</td><td style=\"border:3px solid black; text-align:center;\"\n",
       "         width=\"40\" height=\"40\"></td><td style=\"border:3px solid black; text-align:center;\"\n",
       "         width=\"40\" height=\"40\"></td><td style=\"border:3px solid black; text-align:center;\"\n",
       "         width=\"40\" height=\"40\"></td></tr></table>"
      ],
      "text/plain": [
       "<IPython.core.display.HTML object>"
      ]
     },
     "metadata": {},
     "output_type": "display_data"
    },
    {
     "name": "stdout",
     "output_type": "stream",
     "text": [
      "Iter: 75\n",
      "======Direction: left======\n"
     ]
    },
    {
     "data": {
      "text/html": [
       "<h1>Score: 128</h1><table style=\"border: 5px solid black;\"><tr><td style=\"border:3px solid black; text-align:center;\"\n",
       "         width=\"40\" height=\"40\">128</td><td style=\"border:3px solid black; text-align:center;\"\n",
       "         width=\"40\" height=\"40\">32</td><td style=\"border:3px solid black; text-align:center;\"\n",
       "         width=\"40\" height=\"40\">16</td><td style=\"border:3px solid black; text-align:center;\"\n",
       "         width=\"40\" height=\"40\">8</td></tr><tr><td style=\"border:3px solid black; text-align:center;\"\n",
       "         width=\"40\" height=\"40\">16</td><td style=\"border:3px solid black; text-align:center;\"\n",
       "         width=\"40\" height=\"40\">16</td><td style=\"border:3px solid black; text-align:center;\"\n",
       "         width=\"40\" height=\"40\"></td><td style=\"border:3px solid black; text-align:center;\"\n",
       "         width=\"40\" height=\"40\"></td></tr><tr><td style=\"border:3px solid black; text-align:center;\"\n",
       "         width=\"40\" height=\"40\">8</td><td style=\"border:3px solid black; text-align:center;\"\n",
       "         width=\"40\" height=\"40\">4</td><td style=\"border:3px solid black; text-align:center;\"\n",
       "         width=\"40\" height=\"40\">2</td><td style=\"border:3px solid black; text-align:center;\"\n",
       "         width=\"40\" height=\"40\">2</td></tr><tr><td style=\"border:3px solid black; text-align:center;\"\n",
       "         width=\"40\" height=\"40\">4</td><td style=\"border:3px solid black; text-align:center;\"\n",
       "         width=\"40\" height=\"40\"></td><td style=\"border:3px solid black; text-align:center;\"\n",
       "         width=\"40\" height=\"40\"></td><td style=\"border:3px solid black; text-align:center;\"\n",
       "         width=\"40\" height=\"40\"></td></tr></table>"
      ],
      "text/plain": [
       "<IPython.core.display.HTML object>"
      ]
     },
     "metadata": {},
     "output_type": "display_data"
    },
    {
     "name": "stdout",
     "output_type": "stream",
     "text": [
      "Iter: 76\n",
      "======Direction: up======\n"
     ]
    },
    {
     "data": {
      "text/html": [
       "<h1>Score: 128</h1><table style=\"border: 5px solid black;\"><tr><td style=\"border:3px solid black; text-align:center;\"\n",
       "         width=\"40\" height=\"40\">128</td><td style=\"border:3px solid black; text-align:center;\"\n",
       "         width=\"40\" height=\"40\">32</td><td style=\"border:3px solid black; text-align:center;\"\n",
       "         width=\"40\" height=\"40\">16</td><td style=\"border:3px solid black; text-align:center;\"\n",
       "         width=\"40\" height=\"40\">8</td></tr><tr><td style=\"border:3px solid black; text-align:center;\"\n",
       "         width=\"40\" height=\"40\">16</td><td style=\"border:3px solid black; text-align:center;\"\n",
       "         width=\"40\" height=\"40\">16</td><td style=\"border:3px solid black; text-align:center;\"\n",
       "         width=\"40\" height=\"40\">2</td><td style=\"border:3px solid black; text-align:center;\"\n",
       "         width=\"40\" height=\"40\">2</td></tr><tr><td style=\"border:3px solid black; text-align:center;\"\n",
       "         width=\"40\" height=\"40\">8</td><td style=\"border:3px solid black; text-align:center;\"\n",
       "         width=\"40\" height=\"40\">4</td><td style=\"border:3px solid black; text-align:center;\"\n",
       "         width=\"40\" height=\"40\"></td><td style=\"border:3px solid black; text-align:center;\"\n",
       "         width=\"40\" height=\"40\"></td></tr><tr><td style=\"border:3px solid black; text-align:center;\"\n",
       "         width=\"40\" height=\"40\">4</td><td style=\"border:3px solid black; text-align:center;\"\n",
       "         width=\"40\" height=\"40\"></td><td style=\"border:3px solid black; text-align:center;\"\n",
       "         width=\"40\" height=\"40\"></td><td style=\"border:3px solid black; text-align:center;\"\n",
       "         width=\"40\" height=\"40\">4</td></tr></table>"
      ],
      "text/plain": [
       "<IPython.core.display.HTML object>"
      ]
     },
     "metadata": {},
     "output_type": "display_data"
    },
    {
     "name": "stdout",
     "output_type": "stream",
     "text": [
      "Iter: 77\n",
      "======Direction: up======\n"
     ]
    },
    {
     "data": {
      "text/html": [
       "<h1>Score: 128</h1><table style=\"border: 5px solid black;\"><tr><td style=\"border:3px solid black; text-align:center;\"\n",
       "         width=\"40\" height=\"40\">128</td><td style=\"border:3px solid black; text-align:center;\"\n",
       "         width=\"40\" height=\"40\">32</td><td style=\"border:3px solid black; text-align:center;\"\n",
       "         width=\"40\" height=\"40\">16</td><td style=\"border:3px solid black; text-align:center;\"\n",
       "         width=\"40\" height=\"40\">8</td></tr><tr><td style=\"border:3px solid black; text-align:center;\"\n",
       "         width=\"40\" height=\"40\">16</td><td style=\"border:3px solid black; text-align:center;\"\n",
       "         width=\"40\" height=\"40\">16</td><td style=\"border:3px solid black; text-align:center;\"\n",
       "         width=\"40\" height=\"40\">2</td><td style=\"border:3px solid black; text-align:center;\"\n",
       "         width=\"40\" height=\"40\">2</td></tr><tr><td style=\"border:3px solid black; text-align:center;\"\n",
       "         width=\"40\" height=\"40\">8</td><td style=\"border:3px solid black; text-align:center;\"\n",
       "         width=\"40\" height=\"40\">4</td><td style=\"border:3px solid black; text-align:center;\"\n",
       "         width=\"40\" height=\"40\"></td><td style=\"border:3px solid black; text-align:center;\"\n",
       "         width=\"40\" height=\"40\">4</td></tr><tr><td style=\"border:3px solid black; text-align:center;\"\n",
       "         width=\"40\" height=\"40\">4</td><td style=\"border:3px solid black; text-align:center;\"\n",
       "         width=\"40\" height=\"40\"></td><td style=\"border:3px solid black; text-align:center;\"\n",
       "         width=\"40\" height=\"40\">2</td><td style=\"border:3px solid black; text-align:center;\"\n",
       "         width=\"40\" height=\"40\"></td></tr></table>"
      ],
      "text/plain": [
       "<IPython.core.display.HTML object>"
      ]
     },
     "metadata": {},
     "output_type": "display_data"
    },
    {
     "name": "stdout",
     "output_type": "stream",
     "text": [
      "Iter: 78\n",
      "======Direction: up======\n"
     ]
    },
    {
     "data": {
      "text/html": [
       "<h1>Score: 128</h1><table style=\"border: 5px solid black;\"><tr><td style=\"border:3px solid black; text-align:center;\"\n",
       "         width=\"40\" height=\"40\">128</td><td style=\"border:3px solid black; text-align:center;\"\n",
       "         width=\"40\" height=\"40\">32</td><td style=\"border:3px solid black; text-align:center;\"\n",
       "         width=\"40\" height=\"40\">16</td><td style=\"border:3px solid black; text-align:center;\"\n",
       "         width=\"40\" height=\"40\">8</td></tr><tr><td style=\"border:3px solid black; text-align:center;\"\n",
       "         width=\"40\" height=\"40\">16</td><td style=\"border:3px solid black; text-align:center;\"\n",
       "         width=\"40\" height=\"40\">16</td><td style=\"border:3px solid black; text-align:center;\"\n",
       "         width=\"40\" height=\"40\">4</td><td style=\"border:3px solid black; text-align:center;\"\n",
       "         width=\"40\" height=\"40\">2</td></tr><tr><td style=\"border:3px solid black; text-align:center;\"\n",
       "         width=\"40\" height=\"40\">8</td><td style=\"border:3px solid black; text-align:center;\"\n",
       "         width=\"40\" height=\"40\">4</td><td style=\"border:3px solid black; text-align:center;\"\n",
       "         width=\"40\" height=\"40\"></td><td style=\"border:3px solid black; text-align:center;\"\n",
       "         width=\"40\" height=\"40\">4</td></tr><tr><td style=\"border:3px solid black; text-align:center;\"\n",
       "         width=\"40\" height=\"40\">4</td><td style=\"border:3px solid black; text-align:center;\"\n",
       "         width=\"40\" height=\"40\">2</td><td style=\"border:3px solid black; text-align:center;\"\n",
       "         width=\"40\" height=\"40\"></td><td style=\"border:3px solid black; text-align:center;\"\n",
       "         width=\"40\" height=\"40\"></td></tr></table>"
      ],
      "text/plain": [
       "<IPython.core.display.HTML object>"
      ]
     },
     "metadata": {},
     "output_type": "display_data"
    },
    {
     "name": "stdout",
     "output_type": "stream",
     "text": [
      "Iter: 79\n",
      "======Direction: down======\n"
     ]
    },
    {
     "data": {
      "text/html": [
       "<h1>Score: 128</h1><table style=\"border: 5px solid black;\"><tr><td style=\"border:3px solid black; text-align:center;\"\n",
       "         width=\"40\" height=\"40\">128</td><td style=\"border:3px solid black; text-align:center;\"\n",
       "         width=\"40\" height=\"40\">32</td><td style=\"border:3px solid black; text-align:center;\"\n",
       "         width=\"40\" height=\"40\">4</td><td style=\"border:3px solid black; text-align:center;\"\n",
       "         width=\"40\" height=\"40\"></td></tr><tr><td style=\"border:3px solid black; text-align:center;\"\n",
       "         width=\"40\" height=\"40\">16</td><td style=\"border:3px solid black; text-align:center;\"\n",
       "         width=\"40\" height=\"40\">16</td><td style=\"border:3px solid black; text-align:center;\"\n",
       "         width=\"40\" height=\"40\"></td><td style=\"border:3px solid black; text-align:center;\"\n",
       "         width=\"40\" height=\"40\">8</td></tr><tr><td style=\"border:3px solid black; text-align:center;\"\n",
       "         width=\"40\" height=\"40\">8</td><td style=\"border:3px solid black; text-align:center;\"\n",
       "         width=\"40\" height=\"40\">4</td><td style=\"border:3px solid black; text-align:center;\"\n",
       "         width=\"40\" height=\"40\">16</td><td style=\"border:3px solid black; text-align:center;\"\n",
       "         width=\"40\" height=\"40\">2</td></tr><tr><td style=\"border:3px solid black; text-align:center;\"\n",
       "         width=\"40\" height=\"40\">4</td><td style=\"border:3px solid black; text-align:center;\"\n",
       "         width=\"40\" height=\"40\">2</td><td style=\"border:3px solid black; text-align:center;\"\n",
       "         width=\"40\" height=\"40\">4</td><td style=\"border:3px solid black; text-align:center;\"\n",
       "         width=\"40\" height=\"40\">4</td></tr></table>"
      ],
      "text/plain": [
       "<IPython.core.display.HTML object>"
      ]
     },
     "metadata": {},
     "output_type": "display_data"
    },
    {
     "name": "stdout",
     "output_type": "stream",
     "text": [
      "Iter: 80\n",
      "======Direction: up======\n"
     ]
    },
    {
     "data": {
      "text/html": [
       "<h1>Score: 128</h1><table style=\"border: 5px solid black;\"><tr><td style=\"border:3px solid black; text-align:center;\"\n",
       "         width=\"40\" height=\"40\">128</td><td style=\"border:3px solid black; text-align:center;\"\n",
       "         width=\"40\" height=\"40\">32</td><td style=\"border:3px solid black; text-align:center;\"\n",
       "         width=\"40\" height=\"40\">4</td><td style=\"border:3px solid black; text-align:center;\"\n",
       "         width=\"40\" height=\"40\">8</td></tr><tr><td style=\"border:3px solid black; text-align:center;\"\n",
       "         width=\"40\" height=\"40\">16</td><td style=\"border:3px solid black; text-align:center;\"\n",
       "         width=\"40\" height=\"40\">16</td><td style=\"border:3px solid black; text-align:center;\"\n",
       "         width=\"40\" height=\"40\">16</td><td style=\"border:3px solid black; text-align:center;\"\n",
       "         width=\"40\" height=\"40\">2</td></tr><tr><td style=\"border:3px solid black; text-align:center;\"\n",
       "         width=\"40\" height=\"40\">8</td><td style=\"border:3px solid black; text-align:center;\"\n",
       "         width=\"40\" height=\"40\">4</td><td style=\"border:3px solid black; text-align:center;\"\n",
       "         width=\"40\" height=\"40\">4</td><td style=\"border:3px solid black; text-align:center;\"\n",
       "         width=\"40\" height=\"40\">4</td></tr><tr><td style=\"border:3px solid black; text-align:center;\"\n",
       "         width=\"40\" height=\"40\">4</td><td style=\"border:3px solid black; text-align:center;\"\n",
       "         width=\"40\" height=\"40\">2</td><td style=\"border:3px solid black; text-align:center;\"\n",
       "         width=\"40\" height=\"40\">2</td><td style=\"border:3px solid black; text-align:center;\"\n",
       "         width=\"40\" height=\"40\"></td></tr></table>"
      ],
      "text/plain": [
       "<IPython.core.display.HTML object>"
      ]
     },
     "metadata": {},
     "output_type": "display_data"
    },
    {
     "name": "stdout",
     "output_type": "stream",
     "text": [
      "Iter: 81\n",
      "======Direction: down======\n"
     ]
    },
    {
     "data": {
      "text/html": [
       "<h1>Score: 128</h1><table style=\"border: 5px solid black;\"><tr><td style=\"border:3px solid black; text-align:center;\"\n",
       "         width=\"40\" height=\"40\">128</td><td style=\"border:3px solid black; text-align:center;\"\n",
       "         width=\"40\" height=\"40\">32</td><td style=\"border:3px solid black; text-align:center;\"\n",
       "         width=\"40\" height=\"40\">4</td><td style=\"border:3px solid black; text-align:center;\"\n",
       "         width=\"40\" height=\"40\">4</td></tr><tr><td style=\"border:3px solid black; text-align:center;\"\n",
       "         width=\"40\" height=\"40\">16</td><td style=\"border:3px solid black; text-align:center;\"\n",
       "         width=\"40\" height=\"40\">16</td><td style=\"border:3px solid black; text-align:center;\"\n",
       "         width=\"40\" height=\"40\">16</td><td style=\"border:3px solid black; text-align:center;\"\n",
       "         width=\"40\" height=\"40\">8</td></tr><tr><td style=\"border:3px solid black; text-align:center;\"\n",
       "         width=\"40\" height=\"40\">8</td><td style=\"border:3px solid black; text-align:center;\"\n",
       "         width=\"40\" height=\"40\">4</td><td style=\"border:3px solid black; text-align:center;\"\n",
       "         width=\"40\" height=\"40\">4</td><td style=\"border:3px solid black; text-align:center;\"\n",
       "         width=\"40\" height=\"40\">2</td></tr><tr><td style=\"border:3px solid black; text-align:center;\"\n",
       "         width=\"40\" height=\"40\">4</td><td style=\"border:3px solid black; text-align:center;\"\n",
       "         width=\"40\" height=\"40\">2</td><td style=\"border:3px solid black; text-align:center;\"\n",
       "         width=\"40\" height=\"40\">2</td><td style=\"border:3px solid black; text-align:center;\"\n",
       "         width=\"40\" height=\"40\">4</td></tr></table>"
      ],
      "text/plain": [
       "<IPython.core.display.HTML object>"
      ]
     },
     "metadata": {},
     "output_type": "display_data"
    },
    {
     "name": "stdout",
     "output_type": "stream",
     "text": [
      "Iter: 82\n",
      "======Direction: left======\n"
     ]
    },
    {
     "data": {
      "text/html": [
       "<h1>Score: 128</h1><table style=\"border: 5px solid black;\"><tr><td style=\"border:3px solid black; text-align:center;\"\n",
       "         width=\"40\" height=\"40\">128</td><td style=\"border:3px solid black; text-align:center;\"\n",
       "         width=\"40\" height=\"40\">32</td><td style=\"border:3px solid black; text-align:center;\"\n",
       "         width=\"40\" height=\"40\">8</td><td style=\"border:3px solid black; text-align:center;\"\n",
       "         width=\"40\" height=\"40\">2</td></tr><tr><td style=\"border:3px solid black; text-align:center;\"\n",
       "         width=\"40\" height=\"40\">32</td><td style=\"border:3px solid black; text-align:center;\"\n",
       "         width=\"40\" height=\"40\">16</td><td style=\"border:3px solid black; text-align:center;\"\n",
       "         width=\"40\" height=\"40\">8</td><td style=\"border:3px solid black; text-align:center;\"\n",
       "         width=\"40\" height=\"40\"></td></tr><tr><td style=\"border:3px solid black; text-align:center;\"\n",
       "         width=\"40\" height=\"40\">8</td><td style=\"border:3px solid black; text-align:center;\"\n",
       "         width=\"40\" height=\"40\">8</td><td style=\"border:3px solid black; text-align:center;\"\n",
       "         width=\"40\" height=\"40\">2</td><td style=\"border:3px solid black; text-align:center;\"\n",
       "         width=\"40\" height=\"40\"></td></tr><tr><td style=\"border:3px solid black; text-align:center;\"\n",
       "         width=\"40\" height=\"40\">4</td><td style=\"border:3px solid black; text-align:center;\"\n",
       "         width=\"40\" height=\"40\">4</td><td style=\"border:3px solid black; text-align:center;\"\n",
       "         width=\"40\" height=\"40\">4</td><td style=\"border:3px solid black; text-align:center;\"\n",
       "         width=\"40\" height=\"40\"></td></tr></table>"
      ],
      "text/plain": [
       "<IPython.core.display.HTML object>"
      ]
     },
     "metadata": {},
     "output_type": "display_data"
    },
    {
     "name": "stdout",
     "output_type": "stream",
     "text": [
      "Iter: 83\n",
      "======Direction: down======\n"
     ]
    },
    {
     "data": {
      "text/html": [
       "<h1>Score: 128</h1><table style=\"border: 5px solid black;\"><tr><td style=\"border:3px solid black; text-align:center;\"\n",
       "         width=\"40\" height=\"40\">128</td><td style=\"border:3px solid black; text-align:center;\"\n",
       "         width=\"40\" height=\"40\">32</td><td style=\"border:3px solid black; text-align:center;\"\n",
       "         width=\"40\" height=\"40\"></td><td style=\"border:3px solid black; text-align:center;\"\n",
       "         width=\"40\" height=\"40\"></td></tr><tr><td style=\"border:3px solid black; text-align:center;\"\n",
       "         width=\"40\" height=\"40\">32</td><td style=\"border:3px solid black; text-align:center;\"\n",
       "         width=\"40\" height=\"40\">16</td><td style=\"border:3px solid black; text-align:center;\"\n",
       "         width=\"40\" height=\"40\">16</td><td style=\"border:3px solid black; text-align:center;\"\n",
       "         width=\"40\" height=\"40\">2</td></tr><tr><td style=\"border:3px solid black; text-align:center;\"\n",
       "         width=\"40\" height=\"40\">8</td><td style=\"border:3px solid black; text-align:center;\"\n",
       "         width=\"40\" height=\"40\">8</td><td style=\"border:3px solid black; text-align:center;\"\n",
       "         width=\"40\" height=\"40\">2</td><td style=\"border:3px solid black; text-align:center;\"\n",
       "         width=\"40\" height=\"40\"></td></tr><tr><td style=\"border:3px solid black; text-align:center;\"\n",
       "         width=\"40\" height=\"40\">4</td><td style=\"border:3px solid black; text-align:center;\"\n",
       "         width=\"40\" height=\"40\">4</td><td style=\"border:3px solid black; text-align:center;\"\n",
       "         width=\"40\" height=\"40\">4</td><td style=\"border:3px solid black; text-align:center;\"\n",
       "         width=\"40\" height=\"40\">2</td></tr></table>"
      ],
      "text/plain": [
       "<IPython.core.display.HTML object>"
      ]
     },
     "metadata": {},
     "output_type": "display_data"
    },
    {
     "name": "stdout",
     "output_type": "stream",
     "text": [
      "Iter: 84\n",
      "======Direction: down======\n"
     ]
    },
    {
     "data": {
      "text/html": [
       "<h1>Score: 128</h1><table style=\"border: 5px solid black;\"><tr><td style=\"border:3px solid black; text-align:center;\"\n",
       "         width=\"40\" height=\"40\">128</td><td style=\"border:3px solid black; text-align:center;\"\n",
       "         width=\"40\" height=\"40\">32</td><td style=\"border:3px solid black; text-align:center;\"\n",
       "         width=\"40\" height=\"40\"></td><td style=\"border:3px solid black; text-align:center;\"\n",
       "         width=\"40\" height=\"40\">4</td></tr><tr><td style=\"border:3px solid black; text-align:center;\"\n",
       "         width=\"40\" height=\"40\">32</td><td style=\"border:3px solid black; text-align:center;\"\n",
       "         width=\"40\" height=\"40\">16</td><td style=\"border:3px solid black; text-align:center;\"\n",
       "         width=\"40\" height=\"40\">16</td><td style=\"border:3px solid black; text-align:center;\"\n",
       "         width=\"40\" height=\"40\"></td></tr><tr><td style=\"border:3px solid black; text-align:center;\"\n",
       "         width=\"40\" height=\"40\">8</td><td style=\"border:3px solid black; text-align:center;\"\n",
       "         width=\"40\" height=\"40\">8</td><td style=\"border:3px solid black; text-align:center;\"\n",
       "         width=\"40\" height=\"40\">2</td><td style=\"border:3px solid black; text-align:center;\"\n",
       "         width=\"40\" height=\"40\"></td></tr><tr><td style=\"border:3px solid black; text-align:center;\"\n",
       "         width=\"40\" height=\"40\">4</td><td style=\"border:3px solid black; text-align:center;\"\n",
       "         width=\"40\" height=\"40\">4</td><td style=\"border:3px solid black; text-align:center;\"\n",
       "         width=\"40\" height=\"40\">4</td><td style=\"border:3px solid black; text-align:center;\"\n",
       "         width=\"40\" height=\"40\">4</td></tr></table>"
      ],
      "text/plain": [
       "<IPython.core.display.HTML object>"
      ]
     },
     "metadata": {},
     "output_type": "display_data"
    },
    {
     "name": "stdout",
     "output_type": "stream",
     "text": [
      "Iter: 85\n",
      "======Direction: up======\n"
     ]
    },
    {
     "data": {
      "text/html": [
       "<h1>Score: 128</h1><table style=\"border: 5px solid black;\"><tr><td style=\"border:3px solid black; text-align:center;\"\n",
       "         width=\"40\" height=\"40\">128</td><td style=\"border:3px solid black; text-align:center;\"\n",
       "         width=\"40\" height=\"40\">32</td><td style=\"border:3px solid black; text-align:center;\"\n",
       "         width=\"40\" height=\"40\">16</td><td style=\"border:3px solid black; text-align:center;\"\n",
       "         width=\"40\" height=\"40\">8</td></tr><tr><td style=\"border:3px solid black; text-align:center;\"\n",
       "         width=\"40\" height=\"40\">32</td><td style=\"border:3px solid black; text-align:center;\"\n",
       "         width=\"40\" height=\"40\">16</td><td style=\"border:3px solid black; text-align:center;\"\n",
       "         width=\"40\" height=\"40\">2</td><td style=\"border:3px solid black; text-align:center;\"\n",
       "         width=\"40\" height=\"40\"></td></tr><tr><td style=\"border:3px solid black; text-align:center;\"\n",
       "         width=\"40\" height=\"40\">8</td><td style=\"border:3px solid black; text-align:center;\"\n",
       "         width=\"40\" height=\"40\">8</td><td style=\"border:3px solid black; text-align:center;\"\n",
       "         width=\"40\" height=\"40\">4</td><td style=\"border:3px solid black; text-align:center;\"\n",
       "         width=\"40\" height=\"40\"></td></tr><tr><td style=\"border:3px solid black; text-align:center;\"\n",
       "         width=\"40\" height=\"40\">4</td><td style=\"border:3px solid black; text-align:center;\"\n",
       "         width=\"40\" height=\"40\">4</td><td style=\"border:3px solid black; text-align:center;\"\n",
       "         width=\"40\" height=\"40\">2</td><td style=\"border:3px solid black; text-align:center;\"\n",
       "         width=\"40\" height=\"40\"></td></tr></table>"
      ],
      "text/plain": [
       "<IPython.core.display.HTML object>"
      ]
     },
     "metadata": {},
     "output_type": "display_data"
    },
    {
     "name": "stdout",
     "output_type": "stream",
     "text": [
      "Iter: 86\n",
      "======Direction: down======\n"
     ]
    },
    {
     "data": {
      "text/html": [
       "<h1>Score: 128</h1><table style=\"border: 5px solid black;\"><tr><td style=\"border:3px solid black; text-align:center;\"\n",
       "         width=\"40\" height=\"40\">128</td><td style=\"border:3px solid black; text-align:center;\"\n",
       "         width=\"40\" height=\"40\">32</td><td style=\"border:3px solid black; text-align:center;\"\n",
       "         width=\"40\" height=\"40\">16</td><td style=\"border:3px solid black; text-align:center;\"\n",
       "         width=\"40\" height=\"40\"></td></tr><tr><td style=\"border:3px solid black; text-align:center;\"\n",
       "         width=\"40\" height=\"40\">32</td><td style=\"border:3px solid black; text-align:center;\"\n",
       "         width=\"40\" height=\"40\">16</td><td style=\"border:3px solid black; text-align:center;\"\n",
       "         width=\"40\" height=\"40\">2</td><td style=\"border:3px solid black; text-align:center;\"\n",
       "         width=\"40\" height=\"40\"></td></tr><tr><td style=\"border:3px solid black; text-align:center;\"\n",
       "         width=\"40\" height=\"40\">8</td><td style=\"border:3px solid black; text-align:center;\"\n",
       "         width=\"40\" height=\"40\">8</td><td style=\"border:3px solid black; text-align:center;\"\n",
       "         width=\"40\" height=\"40\">4</td><td style=\"border:3px solid black; text-align:center;\"\n",
       "         width=\"40\" height=\"40\">2</td></tr><tr><td style=\"border:3px solid black; text-align:center;\"\n",
       "         width=\"40\" height=\"40\">4</td><td style=\"border:3px solid black; text-align:center;\"\n",
       "         width=\"40\" height=\"40\">4</td><td style=\"border:3px solid black; text-align:center;\"\n",
       "         width=\"40\" height=\"40\">2</td><td style=\"border:3px solid black; text-align:center;\"\n",
       "         width=\"40\" height=\"40\">8</td></tr></table>"
      ],
      "text/plain": [
       "<IPython.core.display.HTML object>"
      ]
     },
     "metadata": {},
     "output_type": "display_data"
    },
    {
     "name": "stdout",
     "output_type": "stream",
     "text": [
      "Iter: 87\n",
      "======Direction: up======\n"
     ]
    },
    {
     "data": {
      "text/html": [
       "<h1>Score: 128</h1><table style=\"border: 5px solid black;\"><tr><td style=\"border:3px solid black; text-align:center;\"\n",
       "         width=\"40\" height=\"40\">128</td><td style=\"border:3px solid black; text-align:center;\"\n",
       "         width=\"40\" height=\"40\">32</td><td style=\"border:3px solid black; text-align:center;\"\n",
       "         width=\"40\" height=\"40\">16</td><td style=\"border:3px solid black; text-align:center;\"\n",
       "         width=\"40\" height=\"40\">2</td></tr><tr><td style=\"border:3px solid black; text-align:center;\"\n",
       "         width=\"40\" height=\"40\">32</td><td style=\"border:3px solid black; text-align:center;\"\n",
       "         width=\"40\" height=\"40\">16</td><td style=\"border:3px solid black; text-align:center;\"\n",
       "         width=\"40\" height=\"40\">2</td><td style=\"border:3px solid black; text-align:center;\"\n",
       "         width=\"40\" height=\"40\">8</td></tr><tr><td style=\"border:3px solid black; text-align:center;\"\n",
       "         width=\"40\" height=\"40\">8</td><td style=\"border:3px solid black; text-align:center;\"\n",
       "         width=\"40\" height=\"40\">8</td><td style=\"border:3px solid black; text-align:center;\"\n",
       "         width=\"40\" height=\"40\">4</td><td style=\"border:3px solid black; text-align:center;\"\n",
       "         width=\"40\" height=\"40\">4</td></tr><tr><td style=\"border:3px solid black; text-align:center;\"\n",
       "         width=\"40\" height=\"40\">4</td><td style=\"border:3px solid black; text-align:center;\"\n",
       "         width=\"40\" height=\"40\">4</td><td style=\"border:3px solid black; text-align:center;\"\n",
       "         width=\"40\" height=\"40\">2</td><td style=\"border:3px solid black; text-align:center;\"\n",
       "         width=\"40\" height=\"40\"></td></tr></table>"
      ],
      "text/plain": [
       "<IPython.core.display.HTML object>"
      ]
     },
     "metadata": {},
     "output_type": "display_data"
    },
    {
     "name": "stdout",
     "output_type": "stream",
     "text": [
      "Iter: 88\n",
      "======Direction: down======\n"
     ]
    },
    {
     "data": {
      "text/html": [
       "<h1>Score: 128</h1><table style=\"border: 5px solid black;\"><tr><td style=\"border:3px solid black; text-align:center;\"\n",
       "         width=\"40\" height=\"40\">128</td><td style=\"border:3px solid black; text-align:center;\"\n",
       "         width=\"40\" height=\"40\">32</td><td style=\"border:3px solid black; text-align:center;\"\n",
       "         width=\"40\" height=\"40\">16</td><td style=\"border:3px solid black; text-align:center;\"\n",
       "         width=\"40\" height=\"40\">2</td></tr><tr><td style=\"border:3px solid black; text-align:center;\"\n",
       "         width=\"40\" height=\"40\">32</td><td style=\"border:3px solid black; text-align:center;\"\n",
       "         width=\"40\" height=\"40\">16</td><td style=\"border:3px solid black; text-align:center;\"\n",
       "         width=\"40\" height=\"40\">2</td><td style=\"border:3px solid black; text-align:center;\"\n",
       "         width=\"40\" height=\"40\">2</td></tr><tr><td style=\"border:3px solid black; text-align:center;\"\n",
       "         width=\"40\" height=\"40\">8</td><td style=\"border:3px solid black; text-align:center;\"\n",
       "         width=\"40\" height=\"40\">8</td><td style=\"border:3px solid black; text-align:center;\"\n",
       "         width=\"40\" height=\"40\">4</td><td style=\"border:3px solid black; text-align:center;\"\n",
       "         width=\"40\" height=\"40\">8</td></tr><tr><td style=\"border:3px solid black; text-align:center;\"\n",
       "         width=\"40\" height=\"40\">4</td><td style=\"border:3px solid black; text-align:center;\"\n",
       "         width=\"40\" height=\"40\">4</td><td style=\"border:3px solid black; text-align:center;\"\n",
       "         width=\"40\" height=\"40\">2</td><td style=\"border:3px solid black; text-align:center;\"\n",
       "         width=\"40\" height=\"40\">4</td></tr></table>"
      ],
      "text/plain": [
       "<IPython.core.display.HTML object>"
      ]
     },
     "metadata": {},
     "output_type": "display_data"
    },
    {
     "name": "stdout",
     "output_type": "stream",
     "text": [
      "Iter: 89\n",
      "======Direction: left======\n"
     ]
    },
    {
     "data": {
      "text/html": [
       "<h1>Score: 128</h1><table style=\"border: 5px solid black;\"><tr><td style=\"border:3px solid black; text-align:center;\"\n",
       "         width=\"40\" height=\"40\">128</td><td style=\"border:3px solid black; text-align:center;\"\n",
       "         width=\"40\" height=\"40\">32</td><td style=\"border:3px solid black; text-align:center;\"\n",
       "         width=\"40\" height=\"40\">16</td><td style=\"border:3px solid black; text-align:center;\"\n",
       "         width=\"40\" height=\"40\">2</td></tr><tr><td style=\"border:3px solid black; text-align:center;\"\n",
       "         width=\"40\" height=\"40\">32</td><td style=\"border:3px solid black; text-align:center;\"\n",
       "         width=\"40\" height=\"40\">16</td><td style=\"border:3px solid black; text-align:center;\"\n",
       "         width=\"40\" height=\"40\">4</td><td style=\"border:3px solid black; text-align:center;\"\n",
       "         width=\"40\" height=\"40\"></td></tr><tr><td style=\"border:3px solid black; text-align:center;\"\n",
       "         width=\"40\" height=\"40\">16</td><td style=\"border:3px solid black; text-align:center;\"\n",
       "         width=\"40\" height=\"40\">4</td><td style=\"border:3px solid black; text-align:center;\"\n",
       "         width=\"40\" height=\"40\">8</td><td style=\"border:3px solid black; text-align:center;\"\n",
       "         width=\"40\" height=\"40\"></td></tr><tr><td style=\"border:3px solid black; text-align:center;\"\n",
       "         width=\"40\" height=\"40\">8</td><td style=\"border:3px solid black; text-align:center;\"\n",
       "         width=\"40\" height=\"40\">2</td><td style=\"border:3px solid black; text-align:center;\"\n",
       "         width=\"40\" height=\"40\">4</td><td style=\"border:3px solid black; text-align:center;\"\n",
       "         width=\"40\" height=\"40\">4</td></tr></table>"
      ],
      "text/plain": [
       "<IPython.core.display.HTML object>"
      ]
     },
     "metadata": {},
     "output_type": "display_data"
    },
    {
     "name": "stdout",
     "output_type": "stream",
     "text": [
      "Iter: 90\n",
      "======Direction: up======\n"
     ]
    },
    {
     "data": {
      "text/html": [
       "<h1>Score: 128</h1><table style=\"border: 5px solid black;\"><tr><td style=\"border:3px solid black; text-align:center;\"\n",
       "         width=\"40\" height=\"40\">128</td><td style=\"border:3px solid black; text-align:center;\"\n",
       "         width=\"40\" height=\"40\">32</td><td style=\"border:3px solid black; text-align:center;\"\n",
       "         width=\"40\" height=\"40\">16</td><td style=\"border:3px solid black; text-align:center;\"\n",
       "         width=\"40\" height=\"40\">2</td></tr><tr><td style=\"border:3px solid black; text-align:center;\"\n",
       "         width=\"40\" height=\"40\">32</td><td style=\"border:3px solid black; text-align:center;\"\n",
       "         width=\"40\" height=\"40\">16</td><td style=\"border:3px solid black; text-align:center;\"\n",
       "         width=\"40\" height=\"40\">4</td><td style=\"border:3px solid black; text-align:center;\"\n",
       "         width=\"40\" height=\"40\">4</td></tr><tr><td style=\"border:3px solid black; text-align:center;\"\n",
       "         width=\"40\" height=\"40\">16</td><td style=\"border:3px solid black; text-align:center;\"\n",
       "         width=\"40\" height=\"40\">4</td><td style=\"border:3px solid black; text-align:center;\"\n",
       "         width=\"40\" height=\"40\">8</td><td style=\"border:3px solid black; text-align:center;\"\n",
       "         width=\"40\" height=\"40\"></td></tr><tr><td style=\"border:3px solid black; text-align:center;\"\n",
       "         width=\"40\" height=\"40\">8</td><td style=\"border:3px solid black; text-align:center;\"\n",
       "         width=\"40\" height=\"40\">2</td><td style=\"border:3px solid black; text-align:center;\"\n",
       "         width=\"40\" height=\"40\">4</td><td style=\"border:3px solid black; text-align:center;\"\n",
       "         width=\"40\" height=\"40\">2</td></tr></table>"
      ],
      "text/plain": [
       "<IPython.core.display.HTML object>"
      ]
     },
     "metadata": {},
     "output_type": "display_data"
    },
    {
     "name": "stdout",
     "output_type": "stream",
     "text": [
      "Iter: 91\n",
      "======Direction: up======\n"
     ]
    },
    {
     "data": {
      "text/html": [
       "<h1>Score: 128</h1><table style=\"border: 5px solid black;\"><tr><td style=\"border:3px solid black; text-align:center;\"\n",
       "         width=\"40\" height=\"40\">128</td><td style=\"border:3px solid black; text-align:center;\"\n",
       "         width=\"40\" height=\"40\">32</td><td style=\"border:3px solid black; text-align:center;\"\n",
       "         width=\"40\" height=\"40\">16</td><td style=\"border:3px solid black; text-align:center;\"\n",
       "         width=\"40\" height=\"40\">2</td></tr><tr><td style=\"border:3px solid black; text-align:center;\"\n",
       "         width=\"40\" height=\"40\">32</td><td style=\"border:3px solid black; text-align:center;\"\n",
       "         width=\"40\" height=\"40\">16</td><td style=\"border:3px solid black; text-align:center;\"\n",
       "         width=\"40\" height=\"40\">4</td><td style=\"border:3px solid black; text-align:center;\"\n",
       "         width=\"40\" height=\"40\">4</td></tr><tr><td style=\"border:3px solid black; text-align:center;\"\n",
       "         width=\"40\" height=\"40\">16</td><td style=\"border:3px solid black; text-align:center;\"\n",
       "         width=\"40\" height=\"40\">4</td><td style=\"border:3px solid black; text-align:center;\"\n",
       "         width=\"40\" height=\"40\">8</td><td style=\"border:3px solid black; text-align:center;\"\n",
       "         width=\"40\" height=\"40\">2</td></tr><tr><td style=\"border:3px solid black; text-align:center;\"\n",
       "         width=\"40\" height=\"40\">8</td><td style=\"border:3px solid black; text-align:center;\"\n",
       "         width=\"40\" height=\"40\">2</td><td style=\"border:3px solid black; text-align:center;\"\n",
       "         width=\"40\" height=\"40\">4</td><td style=\"border:3px solid black; text-align:center;\"\n",
       "         width=\"40\" height=\"40\">2</td></tr></table>"
      ],
      "text/plain": [
       "<IPython.core.display.HTML object>"
      ]
     },
     "metadata": {},
     "output_type": "display_data"
    },
    {
     "name": "stdout",
     "output_type": "stream",
     "text": [
      "Iter: 92\n",
      "======Direction: left======\n"
     ]
    },
    {
     "data": {
      "text/html": [
       "<h1>Score: 128</h1><table style=\"border: 5px solid black;\"><tr><td style=\"border:3px solid black; text-align:center;\"\n",
       "         width=\"40\" height=\"40\">128</td><td style=\"border:3px solid black; text-align:center;\"\n",
       "         width=\"40\" height=\"40\">32</td><td style=\"border:3px solid black; text-align:center;\"\n",
       "         width=\"40\" height=\"40\">16</td><td style=\"border:3px solid black; text-align:center;\"\n",
       "         width=\"40\" height=\"40\">2</td></tr><tr><td style=\"border:3px solid black; text-align:center;\"\n",
       "         width=\"40\" height=\"40\">32</td><td style=\"border:3px solid black; text-align:center;\"\n",
       "         width=\"40\" height=\"40\">16</td><td style=\"border:3px solid black; text-align:center;\"\n",
       "         width=\"40\" height=\"40\">8</td><td style=\"border:3px solid black; text-align:center;\"\n",
       "         width=\"40\" height=\"40\">2</td></tr><tr><td style=\"border:3px solid black; text-align:center;\"\n",
       "         width=\"40\" height=\"40\">16</td><td style=\"border:3px solid black; text-align:center;\"\n",
       "         width=\"40\" height=\"40\">4</td><td style=\"border:3px solid black; text-align:center;\"\n",
       "         width=\"40\" height=\"40\">8</td><td style=\"border:3px solid black; text-align:center;\"\n",
       "         width=\"40\" height=\"40\">2</td></tr><tr><td style=\"border:3px solid black; text-align:center;\"\n",
       "         width=\"40\" height=\"40\">8</td><td style=\"border:3px solid black; text-align:center;\"\n",
       "         width=\"40\" height=\"40\">2</td><td style=\"border:3px solid black; text-align:center;\"\n",
       "         width=\"40\" height=\"40\">4</td><td style=\"border:3px solid black; text-align:center;\"\n",
       "         width=\"40\" height=\"40\">2</td></tr></table>"
      ],
      "text/plain": [
       "<IPython.core.display.HTML object>"
      ]
     },
     "metadata": {},
     "output_type": "display_data"
    },
    {
     "name": "stdout",
     "output_type": "stream",
     "text": [
      "Iter: 93\n",
      "======Direction: up======\n"
     ]
    },
    {
     "data": {
      "text/html": [
       "<h1>Score: 128</h1><table style=\"border: 5px solid black;\"><tr><td style=\"border:3px solid black; text-align:center;\"\n",
       "         width=\"40\" height=\"40\">128</td><td style=\"border:3px solid black; text-align:center;\"\n",
       "         width=\"40\" height=\"40\">32</td><td style=\"border:3px solid black; text-align:center;\"\n",
       "         width=\"40\" height=\"40\">16</td><td style=\"border:3px solid black; text-align:center;\"\n",
       "         width=\"40\" height=\"40\">4</td></tr><tr><td style=\"border:3px solid black; text-align:center;\"\n",
       "         width=\"40\" height=\"40\">32</td><td style=\"border:3px solid black; text-align:center;\"\n",
       "         width=\"40\" height=\"40\">16</td><td style=\"border:3px solid black; text-align:center;\"\n",
       "         width=\"40\" height=\"40\">16</td><td style=\"border:3px solid black; text-align:center;\"\n",
       "         width=\"40\" height=\"40\">4</td></tr><tr><td style=\"border:3px solid black; text-align:center;\"\n",
       "         width=\"40\" height=\"40\">16</td><td style=\"border:3px solid black; text-align:center;\"\n",
       "         width=\"40\" height=\"40\">4</td><td style=\"border:3px solid black; text-align:center;\"\n",
       "         width=\"40\" height=\"40\">4</td><td style=\"border:3px solid black; text-align:center;\"\n",
       "         width=\"40\" height=\"40\"></td></tr><tr><td style=\"border:3px solid black; text-align:center;\"\n",
       "         width=\"40\" height=\"40\">8</td><td style=\"border:3px solid black; text-align:center;\"\n",
       "         width=\"40\" height=\"40\">2</td><td style=\"border:3px solid black; text-align:center;\"\n",
       "         width=\"40\" height=\"40\"></td><td style=\"border:3px solid black; text-align:center;\"\n",
       "         width=\"40\" height=\"40\">2</td></tr></table>"
      ],
      "text/plain": [
       "<IPython.core.display.HTML object>"
      ]
     },
     "metadata": {},
     "output_type": "display_data"
    },
    {
     "name": "stdout",
     "output_type": "stream",
     "text": [
      "Iter: 94\n",
      "======Direction: up======\n"
     ]
    },
    {
     "data": {
      "text/html": [
       "<h1>Score: 128</h1><table style=\"border: 5px solid black;\"><tr><td style=\"border:3px solid black; text-align:center;\"\n",
       "         width=\"40\" height=\"40\">128</td><td style=\"border:3px solid black; text-align:center;\"\n",
       "         width=\"40\" height=\"40\">32</td><td style=\"border:3px solid black; text-align:center;\"\n",
       "         width=\"40\" height=\"40\">32</td><td style=\"border:3px solid black; text-align:center;\"\n",
       "         width=\"40\" height=\"40\">8</td></tr><tr><td style=\"border:3px solid black; text-align:center;\"\n",
       "         width=\"40\" height=\"40\">32</td><td style=\"border:3px solid black; text-align:center;\"\n",
       "         width=\"40\" height=\"40\">16</td><td style=\"border:3px solid black; text-align:center;\"\n",
       "         width=\"40\" height=\"40\">4</td><td style=\"border:3px solid black; text-align:center;\"\n",
       "         width=\"40\" height=\"40\">2</td></tr><tr><td style=\"border:3px solid black; text-align:center;\"\n",
       "         width=\"40\" height=\"40\">16</td><td style=\"border:3px solid black; text-align:center;\"\n",
       "         width=\"40\" height=\"40\">4</td><td style=\"border:3px solid black; text-align:center;\"\n",
       "         width=\"40\" height=\"40\"></td><td style=\"border:3px solid black; text-align:center;\"\n",
       "         width=\"40\" height=\"40\"></td></tr><tr><td style=\"border:3px solid black; text-align:center;\"\n",
       "         width=\"40\" height=\"40\">8</td><td style=\"border:3px solid black; text-align:center;\"\n",
       "         width=\"40\" height=\"40\">2</td><td style=\"border:3px solid black; text-align:center;\"\n",
       "         width=\"40\" height=\"40\">4</td><td style=\"border:3px solid black; text-align:center;\"\n",
       "         width=\"40\" height=\"40\"></td></tr></table>"
      ],
      "text/plain": [
       "<IPython.core.display.HTML object>"
      ]
     },
     "metadata": {},
     "output_type": "display_data"
    },
    {
     "name": "stdout",
     "output_type": "stream",
     "text": [
      "Iter: 95\n",
      "======Direction: left======\n"
     ]
    },
    {
     "data": {
      "text/html": [
       "<h1>Score: 128</h1><table style=\"border: 5px solid black;\"><tr><td style=\"border:3px solid black; text-align:center;\"\n",
       "         width=\"40\" height=\"40\">128</td><td style=\"border:3px solid black; text-align:center;\"\n",
       "         width=\"40\" height=\"40\">64</td><td style=\"border:3px solid black; text-align:center;\"\n",
       "         width=\"40\" height=\"40\">8</td><td style=\"border:3px solid black; text-align:center;\"\n",
       "         width=\"40\" height=\"40\">4</td></tr><tr><td style=\"border:3px solid black; text-align:center;\"\n",
       "         width=\"40\" height=\"40\">32</td><td style=\"border:3px solid black; text-align:center;\"\n",
       "         width=\"40\" height=\"40\">16</td><td style=\"border:3px solid black; text-align:center;\"\n",
       "         width=\"40\" height=\"40\">4</td><td style=\"border:3px solid black; text-align:center;\"\n",
       "         width=\"40\" height=\"40\">2</td></tr><tr><td style=\"border:3px solid black; text-align:center;\"\n",
       "         width=\"40\" height=\"40\">16</td><td style=\"border:3px solid black; text-align:center;\"\n",
       "         width=\"40\" height=\"40\">4</td><td style=\"border:3px solid black; text-align:center;\"\n",
       "         width=\"40\" height=\"40\"></td><td style=\"border:3px solid black; text-align:center;\"\n",
       "         width=\"40\" height=\"40\"></td></tr><tr><td style=\"border:3px solid black; text-align:center;\"\n",
       "         width=\"40\" height=\"40\">8</td><td style=\"border:3px solid black; text-align:center;\"\n",
       "         width=\"40\" height=\"40\">2</td><td style=\"border:3px solid black; text-align:center;\"\n",
       "         width=\"40\" height=\"40\">4</td><td style=\"border:3px solid black; text-align:center;\"\n",
       "         width=\"40\" height=\"40\"></td></tr></table>"
      ],
      "text/plain": [
       "<IPython.core.display.HTML object>"
      ]
     },
     "metadata": {},
     "output_type": "display_data"
    },
    {
     "name": "stdout",
     "output_type": "stream",
     "text": [
      "Iter: 96\n",
      "======Direction: up======\n"
     ]
    },
    {
     "data": {
      "text/html": [
       "<h1>Score: 128</h1><table style=\"border: 5px solid black;\"><tr><td style=\"border:3px solid black; text-align:center;\"\n",
       "         width=\"40\" height=\"40\">128</td><td style=\"border:3px solid black; text-align:center;\"\n",
       "         width=\"40\" height=\"40\">64</td><td style=\"border:3px solid black; text-align:center;\"\n",
       "         width=\"40\" height=\"40\">8</td><td style=\"border:3px solid black; text-align:center;\"\n",
       "         width=\"40\" height=\"40\">4</td></tr><tr><td style=\"border:3px solid black; text-align:center;\"\n",
       "         width=\"40\" height=\"40\">32</td><td style=\"border:3px solid black; text-align:center;\"\n",
       "         width=\"40\" height=\"40\">16</td><td style=\"border:3px solid black; text-align:center;\"\n",
       "         width=\"40\" height=\"40\">8</td><td style=\"border:3px solid black; text-align:center;\"\n",
       "         width=\"40\" height=\"40\">2</td></tr><tr><td style=\"border:3px solid black; text-align:center;\"\n",
       "         width=\"40\" height=\"40\">16</td><td style=\"border:3px solid black; text-align:center;\"\n",
       "         width=\"40\" height=\"40\">4</td><td style=\"border:3px solid black; text-align:center;\"\n",
       "         width=\"40\" height=\"40\"></td><td style=\"border:3px solid black; text-align:center;\"\n",
       "         width=\"40\" height=\"40\"></td></tr><tr><td style=\"border:3px solid black; text-align:center;\"\n",
       "         width=\"40\" height=\"40\">8</td><td style=\"border:3px solid black; text-align:center;\"\n",
       "         width=\"40\" height=\"40\">2</td><td style=\"border:3px solid black; text-align:center;\"\n",
       "         width=\"40\" height=\"40\">4</td><td style=\"border:3px solid black; text-align:center;\"\n",
       "         width=\"40\" height=\"40\"></td></tr></table>"
      ],
      "text/plain": [
       "<IPython.core.display.HTML object>"
      ]
     },
     "metadata": {},
     "output_type": "display_data"
    },
    {
     "name": "stdout",
     "output_type": "stream",
     "text": [
      "Iter: 97\n",
      "======Direction: right======\n"
     ]
    },
    {
     "data": {
      "text/html": [
       "<h1>Score: 128</h1><table style=\"border: 5px solid black;\"><tr><td style=\"border:3px solid black; text-align:center;\"\n",
       "         width=\"40\" height=\"40\">128</td><td style=\"border:3px solid black; text-align:center;\"\n",
       "         width=\"40\" height=\"40\">64</td><td style=\"border:3px solid black; text-align:center;\"\n",
       "         width=\"40\" height=\"40\">8</td><td style=\"border:3px solid black; text-align:center;\"\n",
       "         width=\"40\" height=\"40\">4</td></tr><tr><td style=\"border:3px solid black; text-align:center;\"\n",
       "         width=\"40\" height=\"40\">32</td><td style=\"border:3px solid black; text-align:center;\"\n",
       "         width=\"40\" height=\"40\">16</td><td style=\"border:3px solid black; text-align:center;\"\n",
       "         width=\"40\" height=\"40\">8</td><td style=\"border:3px solid black; text-align:center;\"\n",
       "         width=\"40\" height=\"40\">2</td></tr><tr><td style=\"border:3px solid black; text-align:center;\"\n",
       "         width=\"40\" height=\"40\"></td><td style=\"border:3px solid black; text-align:center;\"\n",
       "         width=\"40\" height=\"40\"></td><td style=\"border:3px solid black; text-align:center;\"\n",
       "         width=\"40\" height=\"40\">16</td><td style=\"border:3px solid black; text-align:center;\"\n",
       "         width=\"40\" height=\"40\">4</td></tr><tr><td style=\"border:3px solid black; text-align:center;\"\n",
       "         width=\"40\" height=\"40\">4</td><td style=\"border:3px solid black; text-align:center;\"\n",
       "         width=\"40\" height=\"40\">8</td><td style=\"border:3px solid black; text-align:center;\"\n",
       "         width=\"40\" height=\"40\">2</td><td style=\"border:3px solid black; text-align:center;\"\n",
       "         width=\"40\" height=\"40\">4</td></tr></table>"
      ],
      "text/plain": [
       "<IPython.core.display.HTML object>"
      ]
     },
     "metadata": {},
     "output_type": "display_data"
    },
    {
     "name": "stdout",
     "output_type": "stream",
     "text": [
      "Iter: 98\n",
      "======Direction: up======\n"
     ]
    },
    {
     "data": {
      "text/html": [
       "<h1>Score: 128</h1><table style=\"border: 5px solid black;\"><tr><td style=\"border:3px solid black; text-align:center;\"\n",
       "         width=\"40\" height=\"40\">128</td><td style=\"border:3px solid black; text-align:center;\"\n",
       "         width=\"40\" height=\"40\">64</td><td style=\"border:3px solid black; text-align:center;\"\n",
       "         width=\"40\" height=\"40\">16</td><td style=\"border:3px solid black; text-align:center;\"\n",
       "         width=\"40\" height=\"40\">4</td></tr><tr><td style=\"border:3px solid black; text-align:center;\"\n",
       "         width=\"40\" height=\"40\">32</td><td style=\"border:3px solid black; text-align:center;\"\n",
       "         width=\"40\" height=\"40\">16</td><td style=\"border:3px solid black; text-align:center;\"\n",
       "         width=\"40\" height=\"40\">16</td><td style=\"border:3px solid black; text-align:center;\"\n",
       "         width=\"40\" height=\"40\">2</td></tr><tr><td style=\"border:3px solid black; text-align:center;\"\n",
       "         width=\"40\" height=\"40\">4</td><td style=\"border:3px solid black; text-align:center;\"\n",
       "         width=\"40\" height=\"40\">8</td><td style=\"border:3px solid black; text-align:center;\"\n",
       "         width=\"40\" height=\"40\">2</td><td style=\"border:3px solid black; text-align:center;\"\n",
       "         width=\"40\" height=\"40\">8</td></tr><tr><td style=\"border:3px solid black; text-align:center;\"\n",
       "         width=\"40\" height=\"40\"></td><td style=\"border:3px solid black; text-align:center;\"\n",
       "         width=\"40\" height=\"40\"></td><td style=\"border:3px solid black; text-align:center;\"\n",
       "         width=\"40\" height=\"40\"></td><td style=\"border:3px solid black; text-align:center;\"\n",
       "         width=\"40\" height=\"40\">4</td></tr></table>"
      ],
      "text/plain": [
       "<IPython.core.display.HTML object>"
      ]
     },
     "metadata": {},
     "output_type": "display_data"
    },
    {
     "name": "stdout",
     "output_type": "stream",
     "text": [
      "Iter: 99\n",
      "======Direction: left======\n"
     ]
    },
    {
     "data": {
      "text/html": [
       "<h1>Score: 128</h1><table style=\"border: 5px solid black;\"><tr><td style=\"border:3px solid black; text-align:center;\"\n",
       "         width=\"40\" height=\"40\">128</td><td style=\"border:3px solid black; text-align:center;\"\n",
       "         width=\"40\" height=\"40\">64</td><td style=\"border:3px solid black; text-align:center;\"\n",
       "         width=\"40\" height=\"40\">16</td><td style=\"border:3px solid black; text-align:center;\"\n",
       "         width=\"40\" height=\"40\">4</td></tr><tr><td style=\"border:3px solid black; text-align:center;\"\n",
       "         width=\"40\" height=\"40\">32</td><td style=\"border:3px solid black; text-align:center;\"\n",
       "         width=\"40\" height=\"40\">32</td><td style=\"border:3px solid black; text-align:center;\"\n",
       "         width=\"40\" height=\"40\">2</td><td style=\"border:3px solid black; text-align:center;\"\n",
       "         width=\"40\" height=\"40\"></td></tr><tr><td style=\"border:3px solid black; text-align:center;\"\n",
       "         width=\"40\" height=\"40\">4</td><td style=\"border:3px solid black; text-align:center;\"\n",
       "         width=\"40\" height=\"40\">8</td><td style=\"border:3px solid black; text-align:center;\"\n",
       "         width=\"40\" height=\"40\">2</td><td style=\"border:3px solid black; text-align:center;\"\n",
       "         width=\"40\" height=\"40\">8</td></tr><tr><td style=\"border:3px solid black; text-align:center;\"\n",
       "         width=\"40\" height=\"40\">4</td><td style=\"border:3px solid black; text-align:center;\"\n",
       "         width=\"40\" height=\"40\"></td><td style=\"border:3px solid black; text-align:center;\"\n",
       "         width=\"40\" height=\"40\">4</td><td style=\"border:3px solid black; text-align:center;\"\n",
       "         width=\"40\" height=\"40\"></td></tr></table>"
      ],
      "text/plain": [
       "<IPython.core.display.HTML object>"
      ]
     },
     "metadata": {},
     "output_type": "display_data"
    },
    {
     "name": "stdout",
     "output_type": "stream",
     "text": [
      "Iter: 100\n",
      "======Direction: up======\n"
     ]
    },
    {
     "data": {
      "text/html": [
       "<h1>Score: 128</h1><table style=\"border: 5px solid black;\"><tr><td style=\"border:3px solid black; text-align:center;\"\n",
       "         width=\"40\" height=\"40\">128</td><td style=\"border:3px solid black; text-align:center;\"\n",
       "         width=\"40\" height=\"40\">64</td><td style=\"border:3px solid black; text-align:center;\"\n",
       "         width=\"40\" height=\"40\">16</td><td style=\"border:3px solid black; text-align:center;\"\n",
       "         width=\"40\" height=\"40\">4</td></tr><tr><td style=\"border:3px solid black; text-align:center;\"\n",
       "         width=\"40\" height=\"40\">32</td><td style=\"border:3px solid black; text-align:center;\"\n",
       "         width=\"40\" height=\"40\">32</td><td style=\"border:3px solid black; text-align:center;\"\n",
       "         width=\"40\" height=\"40\">4</td><td style=\"border:3px solid black; text-align:center;\"\n",
       "         width=\"40\" height=\"40\">8</td></tr><tr><td style=\"border:3px solid black; text-align:center;\"\n",
       "         width=\"40\" height=\"40\">8</td><td style=\"border:3px solid black; text-align:center;\"\n",
       "         width=\"40\" height=\"40\">8</td><td style=\"border:3px solid black; text-align:center;\"\n",
       "         width=\"40\" height=\"40\">4</td><td style=\"border:3px solid black; text-align:center;\"\n",
       "         width=\"40\" height=\"40\"></td></tr><tr><td style=\"border:3px solid black; text-align:center;\"\n",
       "         width=\"40\" height=\"40\">4</td><td style=\"border:3px solid black; text-align:center;\"\n",
       "         width=\"40\" height=\"40\"></td><td style=\"border:3px solid black; text-align:center;\"\n",
       "         width=\"40\" height=\"40\"></td><td style=\"border:3px solid black; text-align:center;\"\n",
       "         width=\"40\" height=\"40\"></td></tr></table>"
      ],
      "text/plain": [
       "<IPython.core.display.HTML object>"
      ]
     },
     "metadata": {},
     "output_type": "display_data"
    },
    {
     "name": "stdout",
     "output_type": "stream",
     "text": [
      "Iter: 101\n",
      "======Direction: left======\n"
     ]
    },
    {
     "data": {
      "text/html": [
       "<h1>Score: 128</h1><table style=\"border: 5px solid black;\"><tr><td style=\"border:3px solid black; text-align:center;\"\n",
       "         width=\"40\" height=\"40\">128</td><td style=\"border:3px solid black; text-align:center;\"\n",
       "         width=\"40\" height=\"40\">64</td><td style=\"border:3px solid black; text-align:center;\"\n",
       "         width=\"40\" height=\"40\">16</td><td style=\"border:3px solid black; text-align:center;\"\n",
       "         width=\"40\" height=\"40\">4</td></tr><tr><td style=\"border:3px solid black; text-align:center;\"\n",
       "         width=\"40\" height=\"40\">64</td><td style=\"border:3px solid black; text-align:center;\"\n",
       "         width=\"40\" height=\"40\">4</td><td style=\"border:3px solid black; text-align:center;\"\n",
       "         width=\"40\" height=\"40\">8</td><td style=\"border:3px solid black; text-align:center;\"\n",
       "         width=\"40\" height=\"40\">4</td></tr><tr><td style=\"border:3px solid black; text-align:center;\"\n",
       "         width=\"40\" height=\"40\">16</td><td style=\"border:3px solid black; text-align:center;\"\n",
       "         width=\"40\" height=\"40\">4</td><td style=\"border:3px solid black; text-align:center;\"\n",
       "         width=\"40\" height=\"40\"></td><td style=\"border:3px solid black; text-align:center;\"\n",
       "         width=\"40\" height=\"40\"></td></tr><tr><td style=\"border:3px solid black; text-align:center;\"\n",
       "         width=\"40\" height=\"40\">4</td><td style=\"border:3px solid black; text-align:center;\"\n",
       "         width=\"40\" height=\"40\"></td><td style=\"border:3px solid black; text-align:center;\"\n",
       "         width=\"40\" height=\"40\"></td><td style=\"border:3px solid black; text-align:center;\"\n",
       "         width=\"40\" height=\"40\"></td></tr></table>"
      ],
      "text/plain": [
       "<IPython.core.display.HTML object>"
      ]
     },
     "metadata": {},
     "output_type": "display_data"
    },
    {
     "name": "stdout",
     "output_type": "stream",
     "text": [
      "Iter: 102\n",
      "======Direction: up======\n"
     ]
    },
    {
     "data": {
      "text/html": [
       "<h1>Score: 128</h1><table style=\"border: 5px solid black;\"><tr><td style=\"border:3px solid black; text-align:center;\"\n",
       "         width=\"40\" height=\"40\">128</td><td style=\"border:3px solid black; text-align:center;\"\n",
       "         width=\"40\" height=\"40\">64</td><td style=\"border:3px solid black; text-align:center;\"\n",
       "         width=\"40\" height=\"40\">16</td><td style=\"border:3px solid black; text-align:center;\"\n",
       "         width=\"40\" height=\"40\">8</td></tr><tr><td style=\"border:3px solid black; text-align:center;\"\n",
       "         width=\"40\" height=\"40\">64</td><td style=\"border:3px solid black; text-align:center;\"\n",
       "         width=\"40\" height=\"40\">8</td><td style=\"border:3px solid black; text-align:center;\"\n",
       "         width=\"40\" height=\"40\">8</td><td style=\"border:3px solid black; text-align:center;\"\n",
       "         width=\"40\" height=\"40\"></td></tr><tr><td style=\"border:3px solid black; text-align:center;\"\n",
       "         width=\"40\" height=\"40\">16</td><td style=\"border:3px solid black; text-align:center;\"\n",
       "         width=\"40\" height=\"40\"></td><td style=\"border:3px solid black; text-align:center;\"\n",
       "         width=\"40\" height=\"40\">2</td><td style=\"border:3px solid black; text-align:center;\"\n",
       "         width=\"40\" height=\"40\"></td></tr><tr><td style=\"border:3px solid black; text-align:center;\"\n",
       "         width=\"40\" height=\"40\">4</td><td style=\"border:3px solid black; text-align:center;\"\n",
       "         width=\"40\" height=\"40\"></td><td style=\"border:3px solid black; text-align:center;\"\n",
       "         width=\"40\" height=\"40\"></td><td style=\"border:3px solid black; text-align:center;\"\n",
       "         width=\"40\" height=\"40\"></td></tr></table>"
      ],
      "text/plain": [
       "<IPython.core.display.HTML object>"
      ]
     },
     "metadata": {},
     "output_type": "display_data"
    },
    {
     "name": "stdout",
     "output_type": "stream",
     "text": [
      "Iter: 103\n",
      "======Direction: left======\n"
     ]
    },
    {
     "data": {
      "text/html": [
       "<h1>Score: 128</h1><table style=\"border: 5px solid black;\"><tr><td style=\"border:3px solid black; text-align:center;\"\n",
       "         width=\"40\" height=\"40\">128</td><td style=\"border:3px solid black; text-align:center;\"\n",
       "         width=\"40\" height=\"40\">64</td><td style=\"border:3px solid black; text-align:center;\"\n",
       "         width=\"40\" height=\"40\">16</td><td style=\"border:3px solid black; text-align:center;\"\n",
       "         width=\"40\" height=\"40\">8</td></tr><tr><td style=\"border:3px solid black; text-align:center;\"\n",
       "         width=\"40\" height=\"40\">64</td><td style=\"border:3px solid black; text-align:center;\"\n",
       "         width=\"40\" height=\"40\">16</td><td style=\"border:3px solid black; text-align:center;\"\n",
       "         width=\"40\" height=\"40\"></td><td style=\"border:3px solid black; text-align:center;\"\n",
       "         width=\"40\" height=\"40\"></td></tr><tr><td style=\"border:3px solid black; text-align:center;\"\n",
       "         width=\"40\" height=\"40\">16</td><td style=\"border:3px solid black; text-align:center;\"\n",
       "         width=\"40\" height=\"40\">2</td><td style=\"border:3px solid black; text-align:center;\"\n",
       "         width=\"40\" height=\"40\"></td><td style=\"border:3px solid black; text-align:center;\"\n",
       "         width=\"40\" height=\"40\">2</td></tr><tr><td style=\"border:3px solid black; text-align:center;\"\n",
       "         width=\"40\" height=\"40\">4</td><td style=\"border:3px solid black; text-align:center;\"\n",
       "         width=\"40\" height=\"40\"></td><td style=\"border:3px solid black; text-align:center;\"\n",
       "         width=\"40\" height=\"40\"></td><td style=\"border:3px solid black; text-align:center;\"\n",
       "         width=\"40\" height=\"40\"></td></tr></table>"
      ],
      "text/plain": [
       "<IPython.core.display.HTML object>"
      ]
     },
     "metadata": {},
     "output_type": "display_data"
    },
    {
     "name": "stdout",
     "output_type": "stream",
     "text": [
      "Iter: 104\n",
      "======Direction: down======\n"
     ]
    },
    {
     "data": {
      "text/html": [
       "<h1>Score: 128</h1><table style=\"border: 5px solid black;\"><tr><td style=\"border:3px solid black; text-align:center;\"\n",
       "         width=\"40\" height=\"40\">128</td><td style=\"border:3px solid black; text-align:center;\"\n",
       "         width=\"40\" height=\"40\"></td><td style=\"border:3px solid black; text-align:center;\"\n",
       "         width=\"40\" height=\"40\">2</td><td style=\"border:3px solid black; text-align:center;\"\n",
       "         width=\"40\" height=\"40\"></td></tr><tr><td style=\"border:3px solid black; text-align:center;\"\n",
       "         width=\"40\" height=\"40\">64</td><td style=\"border:3px solid black; text-align:center;\"\n",
       "         width=\"40\" height=\"40\">64</td><td style=\"border:3px solid black; text-align:center;\"\n",
       "         width=\"40\" height=\"40\"></td><td style=\"border:3px solid black; text-align:center;\"\n",
       "         width=\"40\" height=\"40\"></td></tr><tr><td style=\"border:3px solid black; text-align:center;\"\n",
       "         width=\"40\" height=\"40\">16</td><td style=\"border:3px solid black; text-align:center;\"\n",
       "         width=\"40\" height=\"40\">16</td><td style=\"border:3px solid black; text-align:center;\"\n",
       "         width=\"40\" height=\"40\"></td><td style=\"border:3px solid black; text-align:center;\"\n",
       "         width=\"40\" height=\"40\">8</td></tr><tr><td style=\"border:3px solid black; text-align:center;\"\n",
       "         width=\"40\" height=\"40\">4</td><td style=\"border:3px solid black; text-align:center;\"\n",
       "         width=\"40\" height=\"40\">2</td><td style=\"border:3px solid black; text-align:center;\"\n",
       "         width=\"40\" height=\"40\">16</td><td style=\"border:3px solid black; text-align:center;\"\n",
       "         width=\"40\" height=\"40\">2</td></tr></table>"
      ],
      "text/plain": [
       "<IPython.core.display.HTML object>"
      ]
     },
     "metadata": {},
     "output_type": "display_data"
    },
    {
     "name": "stdout",
     "output_type": "stream",
     "text": [
      "Iter: 105\n",
      "======Direction: left======\n"
     ]
    },
    {
     "data": {
      "text/html": [
       "<h1>Score: 128</h1><table style=\"border: 5px solid black;\"><tr><td style=\"border:3px solid black; text-align:center;\"\n",
       "         width=\"40\" height=\"40\">128</td><td style=\"border:3px solid black; text-align:center;\"\n",
       "         width=\"40\" height=\"40\">2</td><td style=\"border:3px solid black; text-align:center;\"\n",
       "         width=\"40\" height=\"40\"></td><td style=\"border:3px solid black; text-align:center;\"\n",
       "         width=\"40\" height=\"40\"></td></tr><tr><td style=\"border:3px solid black; text-align:center;\"\n",
       "         width=\"40\" height=\"40\">128</td><td style=\"border:3px solid black; text-align:center;\"\n",
       "         width=\"40\" height=\"40\"></td><td style=\"border:3px solid black; text-align:center;\"\n",
       "         width=\"40\" height=\"40\">4</td><td style=\"border:3px solid black; text-align:center;\"\n",
       "         width=\"40\" height=\"40\"></td></tr><tr><td style=\"border:3px solid black; text-align:center;\"\n",
       "         width=\"40\" height=\"40\">32</td><td style=\"border:3px solid black; text-align:center;\"\n",
       "         width=\"40\" height=\"40\">8</td><td style=\"border:3px solid black; text-align:center;\"\n",
       "         width=\"40\" height=\"40\"></td><td style=\"border:3px solid black; text-align:center;\"\n",
       "         width=\"40\" height=\"40\"></td></tr><tr><td style=\"border:3px solid black; text-align:center;\"\n",
       "         width=\"40\" height=\"40\">4</td><td style=\"border:3px solid black; text-align:center;\"\n",
       "         width=\"40\" height=\"40\">2</td><td style=\"border:3px solid black; text-align:center;\"\n",
       "         width=\"40\" height=\"40\">16</td><td style=\"border:3px solid black; text-align:center;\"\n",
       "         width=\"40\" height=\"40\">2</td></tr></table>"
      ],
      "text/plain": [
       "<IPython.core.display.HTML object>"
      ]
     },
     "metadata": {},
     "output_type": "display_data"
    },
    {
     "name": "stdout",
     "output_type": "stream",
     "text": [
      "Iter: 106\n",
      "======Direction: up======\n"
     ]
    },
    {
     "data": {
      "text/html": [
       "<h1>Score: 256</h1><table style=\"border: 5px solid black;\"><tr><td style=\"border:3px solid black; text-align:center;\"\n",
       "         width=\"40\" height=\"40\">256</td><td style=\"border:3px solid black; text-align:center;\"\n",
       "         width=\"40\" height=\"40\">2</td><td style=\"border:3px solid black; text-align:center;\"\n",
       "         width=\"40\" height=\"40\">4</td><td style=\"border:3px solid black; text-align:center;\"\n",
       "         width=\"40\" height=\"40\">2</td></tr><tr><td style=\"border:3px solid black; text-align:center;\"\n",
       "         width=\"40\" height=\"40\">32</td><td style=\"border:3px solid black; text-align:center;\"\n",
       "         width=\"40\" height=\"40\">8</td><td style=\"border:3px solid black; text-align:center;\"\n",
       "         width=\"40\" height=\"40\">16</td><td style=\"border:3px solid black; text-align:center;\"\n",
       "         width=\"40\" height=\"40\"></td></tr><tr><td style=\"border:3px solid black; text-align:center;\"\n",
       "         width=\"40\" height=\"40\">4</td><td style=\"border:3px solid black; text-align:center;\"\n",
       "         width=\"40\" height=\"40\">2</td><td style=\"border:3px solid black; text-align:center;\"\n",
       "         width=\"40\" height=\"40\"></td><td style=\"border:3px solid black; text-align:center;\"\n",
       "         width=\"40\" height=\"40\"></td></tr><tr><td style=\"border:3px solid black; text-align:center;\"\n",
       "         width=\"40\" height=\"40\"></td><td style=\"border:3px solid black; text-align:center;\"\n",
       "         width=\"40\" height=\"40\">2</td><td style=\"border:3px solid black; text-align:center;\"\n",
       "         width=\"40\" height=\"40\"></td><td style=\"border:3px solid black; text-align:center;\"\n",
       "         width=\"40\" height=\"40\"></td></tr></table>"
      ],
      "text/plain": [
       "<IPython.core.display.HTML object>"
      ]
     },
     "metadata": {},
     "output_type": "display_data"
    },
    {
     "name": "stdout",
     "output_type": "stream",
     "text": [
      "Iter: 107\n",
      "======Direction: left======\n"
     ]
    },
    {
     "data": {
      "text/html": [
       "<h1>Score: 256</h1><table style=\"border: 5px solid black;\"><tr><td style=\"border:3px solid black; text-align:center;\"\n",
       "         width=\"40\" height=\"40\">256</td><td style=\"border:3px solid black; text-align:center;\"\n",
       "         width=\"40\" height=\"40\">2</td><td style=\"border:3px solid black; text-align:center;\"\n",
       "         width=\"40\" height=\"40\">4</td><td style=\"border:3px solid black; text-align:center;\"\n",
       "         width=\"40\" height=\"40\">2</td></tr><tr><td style=\"border:3px solid black; text-align:center;\"\n",
       "         width=\"40\" height=\"40\">32</td><td style=\"border:3px solid black; text-align:center;\"\n",
       "         width=\"40\" height=\"40\">8</td><td style=\"border:3px solid black; text-align:center;\"\n",
       "         width=\"40\" height=\"40\">16</td><td style=\"border:3px solid black; text-align:center;\"\n",
       "         width=\"40\" height=\"40\">4</td></tr><tr><td style=\"border:3px solid black; text-align:center;\"\n",
       "         width=\"40\" height=\"40\">4</td><td style=\"border:3px solid black; text-align:center;\"\n",
       "         width=\"40\" height=\"40\">2</td><td style=\"border:3px solid black; text-align:center;\"\n",
       "         width=\"40\" height=\"40\"></td><td style=\"border:3px solid black; text-align:center;\"\n",
       "         width=\"40\" height=\"40\"></td></tr><tr><td style=\"border:3px solid black; text-align:center;\"\n",
       "         width=\"40\" height=\"40\">2</td><td style=\"border:3px solid black; text-align:center;\"\n",
       "         width=\"40\" height=\"40\"></td><td style=\"border:3px solid black; text-align:center;\"\n",
       "         width=\"40\" height=\"40\"></td><td style=\"border:3px solid black; text-align:center;\"\n",
       "         width=\"40\" height=\"40\"></td></tr></table>"
      ],
      "text/plain": [
       "<IPython.core.display.HTML object>"
      ]
     },
     "metadata": {},
     "output_type": "display_data"
    },
    {
     "name": "stdout",
     "output_type": "stream",
     "text": [
      "Iter: 108\n",
      "======Direction: down======\n"
     ]
    },
    {
     "data": {
      "text/html": [
       "<h1>Score: 256</h1><table style=\"border: 5px solid black;\"><tr><td style=\"border:3px solid black; text-align:center;\"\n",
       "         width=\"40\" height=\"40\">256</td><td style=\"border:3px solid black; text-align:center;\"\n",
       "         width=\"40\" height=\"40\"></td><td style=\"border:3px solid black; text-align:center;\"\n",
       "         width=\"40\" height=\"40\"></td><td style=\"border:3px solid black; text-align:center;\"\n",
       "         width=\"40\" height=\"40\">4</td></tr><tr><td style=\"border:3px solid black; text-align:center;\"\n",
       "         width=\"40\" height=\"40\">32</td><td style=\"border:3px solid black; text-align:center;\"\n",
       "         width=\"40\" height=\"40\">2</td><td style=\"border:3px solid black; text-align:center;\"\n",
       "         width=\"40\" height=\"40\"></td><td style=\"border:3px solid black; text-align:center;\"\n",
       "         width=\"40\" height=\"40\"></td></tr><tr><td style=\"border:3px solid black; text-align:center;\"\n",
       "         width=\"40\" height=\"40\">4</td><td style=\"border:3px solid black; text-align:center;\"\n",
       "         width=\"40\" height=\"40\">8</td><td style=\"border:3px solid black; text-align:center;\"\n",
       "         width=\"40\" height=\"40\">4</td><td style=\"border:3px solid black; text-align:center;\"\n",
       "         width=\"40\" height=\"40\">2</td></tr><tr><td style=\"border:3px solid black; text-align:center;\"\n",
       "         width=\"40\" height=\"40\">2</td><td style=\"border:3px solid black; text-align:center;\"\n",
       "         width=\"40\" height=\"40\">2</td><td style=\"border:3px solid black; text-align:center;\"\n",
       "         width=\"40\" height=\"40\">16</td><td style=\"border:3px solid black; text-align:center;\"\n",
       "         width=\"40\" height=\"40\">4</td></tr></table>"
      ],
      "text/plain": [
       "<IPython.core.display.HTML object>"
      ]
     },
     "metadata": {},
     "output_type": "display_data"
    },
    {
     "name": "stdout",
     "output_type": "stream",
     "text": [
      "Iter: 109\n",
      "======Direction: left======\n"
     ]
    },
    {
     "data": {
      "text/html": [
       "<h1>Score: 256</h1><table style=\"border: 5px solid black;\"><tr><td style=\"border:3px solid black; text-align:center;\"\n",
       "         width=\"40\" height=\"40\">256</td><td style=\"border:3px solid black; text-align:center;\"\n",
       "         width=\"40\" height=\"40\">4</td><td style=\"border:3px solid black; text-align:center;\"\n",
       "         width=\"40\" height=\"40\"></td><td style=\"border:3px solid black; text-align:center;\"\n",
       "         width=\"40\" height=\"40\">2</td></tr><tr><td style=\"border:3px solid black; text-align:center;\"\n",
       "         width=\"40\" height=\"40\">32</td><td style=\"border:3px solid black; text-align:center;\"\n",
       "         width=\"40\" height=\"40\">2</td><td style=\"border:3px solid black; text-align:center;\"\n",
       "         width=\"40\" height=\"40\"></td><td style=\"border:3px solid black; text-align:center;\"\n",
       "         width=\"40\" height=\"40\"></td></tr><tr><td style=\"border:3px solid black; text-align:center;\"\n",
       "         width=\"40\" height=\"40\">4</td><td style=\"border:3px solid black; text-align:center;\"\n",
       "         width=\"40\" height=\"40\">8</td><td style=\"border:3px solid black; text-align:center;\"\n",
       "         width=\"40\" height=\"40\">4</td><td style=\"border:3px solid black; text-align:center;\"\n",
       "         width=\"40\" height=\"40\">2</td></tr><tr><td style=\"border:3px solid black; text-align:center;\"\n",
       "         width=\"40\" height=\"40\">4</td><td style=\"border:3px solid black; text-align:center;\"\n",
       "         width=\"40\" height=\"40\">16</td><td style=\"border:3px solid black; text-align:center;\"\n",
       "         width=\"40\" height=\"40\">4</td><td style=\"border:3px solid black; text-align:center;\"\n",
       "         width=\"40\" height=\"40\"></td></tr></table>"
      ],
      "text/plain": [
       "<IPython.core.display.HTML object>"
      ]
     },
     "metadata": {},
     "output_type": "display_data"
    },
    {
     "name": "stdout",
     "output_type": "stream",
     "text": [
      "Iter: 110\n",
      "======Direction: up======\n"
     ]
    },
    {
     "data": {
      "text/html": [
       "<h1>Score: 256</h1><table style=\"border: 5px solid black;\"><tr><td style=\"border:3px solid black; text-align:center;\"\n",
       "         width=\"40\" height=\"40\">256</td><td style=\"border:3px solid black; text-align:center;\"\n",
       "         width=\"40\" height=\"40\">4</td><td style=\"border:3px solid black; text-align:center;\"\n",
       "         width=\"40\" height=\"40\">8</td><td style=\"border:3px solid black; text-align:center;\"\n",
       "         width=\"40\" height=\"40\">4</td></tr><tr><td style=\"border:3px solid black; text-align:center;\"\n",
       "         width=\"40\" height=\"40\">32</td><td style=\"border:3px solid black; text-align:center;\"\n",
       "         width=\"40\" height=\"40\">2</td><td style=\"border:3px solid black; text-align:center;\"\n",
       "         width=\"40\" height=\"40\"></td><td style=\"border:3px solid black; text-align:center;\"\n",
       "         width=\"40\" height=\"40\">4</td></tr><tr><td style=\"border:3px solid black; text-align:center;\"\n",
       "         width=\"40\" height=\"40\">8</td><td style=\"border:3px solid black; text-align:center;\"\n",
       "         width=\"40\" height=\"40\">8</td><td style=\"border:3px solid black; text-align:center;\"\n",
       "         width=\"40\" height=\"40\"></td><td style=\"border:3px solid black; text-align:center;\"\n",
       "         width=\"40\" height=\"40\"></td></tr><tr><td style=\"border:3px solid black; text-align:center;\"\n",
       "         width=\"40\" height=\"40\"></td><td style=\"border:3px solid black; text-align:center;\"\n",
       "         width=\"40\" height=\"40\">16</td><td style=\"border:3px solid black; text-align:center;\"\n",
       "         width=\"40\" height=\"40\"></td><td style=\"border:3px solid black; text-align:center;\"\n",
       "         width=\"40\" height=\"40\"></td></tr></table>"
      ],
      "text/plain": [
       "<IPython.core.display.HTML object>"
      ]
     },
     "metadata": {},
     "output_type": "display_data"
    },
    {
     "name": "stdout",
     "output_type": "stream",
     "text": [
      "Iter: 111\n",
      "======Direction: left======\n"
     ]
    },
    {
     "data": {
      "text/html": [
       "<h1>Score: 256</h1><table style=\"border: 5px solid black;\"><tr><td style=\"border:3px solid black; text-align:center;\"\n",
       "         width=\"40\" height=\"40\">256</td><td style=\"border:3px solid black; text-align:center;\"\n",
       "         width=\"40\" height=\"40\">4</td><td style=\"border:3px solid black; text-align:center;\"\n",
       "         width=\"40\" height=\"40\">8</td><td style=\"border:3px solid black; text-align:center;\"\n",
       "         width=\"40\" height=\"40\">4</td></tr><tr><td style=\"border:3px solid black; text-align:center;\"\n",
       "         width=\"40\" height=\"40\">32</td><td style=\"border:3px solid black; text-align:center;\"\n",
       "         width=\"40\" height=\"40\">2</td><td style=\"border:3px solid black; text-align:center;\"\n",
       "         width=\"40\" height=\"40\">4</td><td style=\"border:3px solid black; text-align:center;\"\n",
       "         width=\"40\" height=\"40\"></td></tr><tr><td style=\"border:3px solid black; text-align:center;\"\n",
       "         width=\"40\" height=\"40\">16</td><td style=\"border:3px solid black; text-align:center;\"\n",
       "         width=\"40\" height=\"40\"></td><td style=\"border:3px solid black; text-align:center;\"\n",
       "         width=\"40\" height=\"40\"></td><td style=\"border:3px solid black; text-align:center;\"\n",
       "         width=\"40\" height=\"40\"></td></tr><tr><td style=\"border:3px solid black; text-align:center;\"\n",
       "         width=\"40\" height=\"40\">16</td><td style=\"border:3px solid black; text-align:center;\"\n",
       "         width=\"40\" height=\"40\"></td><td style=\"border:3px solid black; text-align:center;\"\n",
       "         width=\"40\" height=\"40\">2</td><td style=\"border:3px solid black; text-align:center;\"\n",
       "         width=\"40\" height=\"40\"></td></tr></table>"
      ],
      "text/plain": [
       "<IPython.core.display.HTML object>"
      ]
     },
     "metadata": {},
     "output_type": "display_data"
    },
    {
     "name": "stdout",
     "output_type": "stream",
     "text": [
      "Iter: 112\n",
      "======Direction: left======\n"
     ]
    },
    {
     "data": {
      "text/html": [
       "<h1>Score: 256</h1><table style=\"border: 5px solid black;\"><tr><td style=\"border:3px solid black; text-align:center;\"\n",
       "         width=\"40\" height=\"40\">256</td><td style=\"border:3px solid black; text-align:center;\"\n",
       "         width=\"40\" height=\"40\">4</td><td style=\"border:3px solid black; text-align:center;\"\n",
       "         width=\"40\" height=\"40\">8</td><td style=\"border:3px solid black; text-align:center;\"\n",
       "         width=\"40\" height=\"40\">4</td></tr><tr><td style=\"border:3px solid black; text-align:center;\"\n",
       "         width=\"40\" height=\"40\">32</td><td style=\"border:3px solid black; text-align:center;\"\n",
       "         width=\"40\" height=\"40\">2</td><td style=\"border:3px solid black; text-align:center;\"\n",
       "         width=\"40\" height=\"40\">4</td><td style=\"border:3px solid black; text-align:center;\"\n",
       "         width=\"40\" height=\"40\"></td></tr><tr><td style=\"border:3px solid black; text-align:center;\"\n",
       "         width=\"40\" height=\"40\">16</td><td style=\"border:3px solid black; text-align:center;\"\n",
       "         width=\"40\" height=\"40\"></td><td style=\"border:3px solid black; text-align:center;\"\n",
       "         width=\"40\" height=\"40\"></td><td style=\"border:3px solid black; text-align:center;\"\n",
       "         width=\"40\" height=\"40\"></td></tr><tr><td style=\"border:3px solid black; text-align:center;\"\n",
       "         width=\"40\" height=\"40\">16</td><td style=\"border:3px solid black; text-align:center;\"\n",
       "         width=\"40\" height=\"40\">2</td><td style=\"border:3px solid black; text-align:center;\"\n",
       "         width=\"40\" height=\"40\">4</td><td style=\"border:3px solid black; text-align:center;\"\n",
       "         width=\"40\" height=\"40\"></td></tr></table>"
      ],
      "text/plain": [
       "<IPython.core.display.HTML object>"
      ]
     },
     "metadata": {},
     "output_type": "display_data"
    },
    {
     "name": "stdout",
     "output_type": "stream",
     "text": [
      "Iter: 113\n",
      "======Direction: up======\n"
     ]
    },
    {
     "data": {
      "text/html": [
       "<h1>Score: 256</h1><table style=\"border: 5px solid black;\"><tr><td style=\"border:3px solid black; text-align:center;\"\n",
       "         width=\"40\" height=\"40\">256</td><td style=\"border:3px solid black; text-align:center;\"\n",
       "         width=\"40\" height=\"40\">4</td><td style=\"border:3px solid black; text-align:center;\"\n",
       "         width=\"40\" height=\"40\">8</td><td style=\"border:3px solid black; text-align:center;\"\n",
       "         width=\"40\" height=\"40\">4</td></tr><tr><td style=\"border:3px solid black; text-align:center;\"\n",
       "         width=\"40\" height=\"40\">32</td><td style=\"border:3px solid black; text-align:center;\"\n",
       "         width=\"40\" height=\"40\">4</td><td style=\"border:3px solid black; text-align:center;\"\n",
       "         width=\"40\" height=\"40\">8</td><td style=\"border:3px solid black; text-align:center;\"\n",
       "         width=\"40\" height=\"40\"></td></tr><tr><td style=\"border:3px solid black; text-align:center;\"\n",
       "         width=\"40\" height=\"40\">32</td><td style=\"border:3px solid black; text-align:center;\"\n",
       "         width=\"40\" height=\"40\">4</td><td style=\"border:3px solid black; text-align:center;\"\n",
       "         width=\"40\" height=\"40\"></td><td style=\"border:3px solid black; text-align:center;\"\n",
       "         width=\"40\" height=\"40\"></td></tr><tr><td style=\"border:3px solid black; text-align:center;\"\n",
       "         width=\"40\" height=\"40\"></td><td style=\"border:3px solid black; text-align:center;\"\n",
       "         width=\"40\" height=\"40\"></td><td style=\"border:3px solid black; text-align:center;\"\n",
       "         width=\"40\" height=\"40\"></td><td style=\"border:3px solid black; text-align:center;\"\n",
       "         width=\"40\" height=\"40\"></td></tr></table>"
      ],
      "text/plain": [
       "<IPython.core.display.HTML object>"
      ]
     },
     "metadata": {},
     "output_type": "display_data"
    },
    {
     "name": "stdout",
     "output_type": "stream",
     "text": [
      "Iter: 114\n",
      "======Direction: up======\n"
     ]
    },
    {
     "data": {
      "text/html": [
       "<h1>Score: 256</h1><table style=\"border: 5px solid black;\"><tr><td style=\"border:3px solid black; text-align:center;\"\n",
       "         width=\"40\" height=\"40\">256</td><td style=\"border:3px solid black; text-align:center;\"\n",
       "         width=\"40\" height=\"40\">8</td><td style=\"border:3px solid black; text-align:center;\"\n",
       "         width=\"40\" height=\"40\">16</td><td style=\"border:3px solid black; text-align:center;\"\n",
       "         width=\"40\" height=\"40\">4</td></tr><tr><td style=\"border:3px solid black; text-align:center;\"\n",
       "         width=\"40\" height=\"40\">64</td><td style=\"border:3px solid black; text-align:center;\"\n",
       "         width=\"40\" height=\"40\">4</td><td style=\"border:3px solid black; text-align:center;\"\n",
       "         width=\"40\" height=\"40\"></td><td style=\"border:3px solid black; text-align:center;\"\n",
       "         width=\"40\" height=\"40\"></td></tr><tr><td style=\"border:3px solid black; text-align:center;\"\n",
       "         width=\"40\" height=\"40\"></td><td style=\"border:3px solid black; text-align:center;\"\n",
       "         width=\"40\" height=\"40\"></td><td style=\"border:3px solid black; text-align:center;\"\n",
       "         width=\"40\" height=\"40\">2</td><td style=\"border:3px solid black; text-align:center;\"\n",
       "         width=\"40\" height=\"40\"></td></tr><tr><td style=\"border:3px solid black; text-align:center;\"\n",
       "         width=\"40\" height=\"40\"></td><td style=\"border:3px solid black; text-align:center;\"\n",
       "         width=\"40\" height=\"40\"></td><td style=\"border:3px solid black; text-align:center;\"\n",
       "         width=\"40\" height=\"40\"></td><td style=\"border:3px solid black; text-align:center;\"\n",
       "         width=\"40\" height=\"40\"></td></tr></table>"
      ],
      "text/plain": [
       "<IPython.core.display.HTML object>"
      ]
     },
     "metadata": {},
     "output_type": "display_data"
    },
    {
     "name": "stdout",
     "output_type": "stream",
     "text": [
      "Iter: 115\n",
      "======Direction: up======\n"
     ]
    },
    {
     "data": {
      "text/html": [
       "<h1>Score: 256</h1><table style=\"border: 5px solid black;\"><tr><td style=\"border:3px solid black; text-align:center;\"\n",
       "         width=\"40\" height=\"40\">256</td><td style=\"border:3px solid black; text-align:center;\"\n",
       "         width=\"40\" height=\"40\">8</td><td style=\"border:3px solid black; text-align:center;\"\n",
       "         width=\"40\" height=\"40\">16</td><td style=\"border:3px solid black; text-align:center;\"\n",
       "         width=\"40\" height=\"40\">4</td></tr><tr><td style=\"border:3px solid black; text-align:center;\"\n",
       "         width=\"40\" height=\"40\">64</td><td style=\"border:3px solid black; text-align:center;\"\n",
       "         width=\"40\" height=\"40\">4</td><td style=\"border:3px solid black; text-align:center;\"\n",
       "         width=\"40\" height=\"40\">2</td><td style=\"border:3px solid black; text-align:center;\"\n",
       "         width=\"40\" height=\"40\"></td></tr><tr><td style=\"border:3px solid black; text-align:center;\"\n",
       "         width=\"40\" height=\"40\"></td><td style=\"border:3px solid black; text-align:center;\"\n",
       "         width=\"40\" height=\"40\"></td><td style=\"border:3px solid black; text-align:center;\"\n",
       "         width=\"40\" height=\"40\"></td><td style=\"border:3px solid black; text-align:center;\"\n",
       "         width=\"40\" height=\"40\">4</td></tr><tr><td style=\"border:3px solid black; text-align:center;\"\n",
       "         width=\"40\" height=\"40\"></td><td style=\"border:3px solid black; text-align:center;\"\n",
       "         width=\"40\" height=\"40\"></td><td style=\"border:3px solid black; text-align:center;\"\n",
       "         width=\"40\" height=\"40\"></td><td style=\"border:3px solid black; text-align:center;\"\n",
       "         width=\"40\" height=\"40\"></td></tr></table>"
      ],
      "text/plain": [
       "<IPython.core.display.HTML object>"
      ]
     },
     "metadata": {},
     "output_type": "display_data"
    },
    {
     "name": "stdout",
     "output_type": "stream",
     "text": [
      "Iter: 116\n",
      "======Direction: left======\n"
     ]
    },
    {
     "data": {
      "text/html": [
       "<h1>Score: 256</h1><table style=\"border: 5px solid black;\"><tr><td style=\"border:3px solid black; text-align:center;\"\n",
       "         width=\"40\" height=\"40\">256</td><td style=\"border:3px solid black; text-align:center;\"\n",
       "         width=\"40\" height=\"40\">8</td><td style=\"border:3px solid black; text-align:center;\"\n",
       "         width=\"40\" height=\"40\">16</td><td style=\"border:3px solid black; text-align:center;\"\n",
       "         width=\"40\" height=\"40\">4</td></tr><tr><td style=\"border:3px solid black; text-align:center;\"\n",
       "         width=\"40\" height=\"40\">64</td><td style=\"border:3px solid black; text-align:center;\"\n",
       "         width=\"40\" height=\"40\">4</td><td style=\"border:3px solid black; text-align:center;\"\n",
       "         width=\"40\" height=\"40\">2</td><td style=\"border:3px solid black; text-align:center;\"\n",
       "         width=\"40\" height=\"40\"></td></tr><tr><td style=\"border:3px solid black; text-align:center;\"\n",
       "         width=\"40\" height=\"40\">4</td><td style=\"border:3px solid black; text-align:center;\"\n",
       "         width=\"40\" height=\"40\"></td><td style=\"border:3px solid black; text-align:center;\"\n",
       "         width=\"40\" height=\"40\"></td><td style=\"border:3px solid black; text-align:center;\"\n",
       "         width=\"40\" height=\"40\"></td></tr><tr><td style=\"border:3px solid black; text-align:center;\"\n",
       "         width=\"40\" height=\"40\"></td><td style=\"border:3px solid black; text-align:center;\"\n",
       "         width=\"40\" height=\"40\"></td><td style=\"border:3px solid black; text-align:center;\"\n",
       "         width=\"40\" height=\"40\">4</td><td style=\"border:3px solid black; text-align:center;\"\n",
       "         width=\"40\" height=\"40\"></td></tr></table>"
      ],
      "text/plain": [
       "<IPython.core.display.HTML object>"
      ]
     },
     "metadata": {},
     "output_type": "display_data"
    },
    {
     "name": "stdout",
     "output_type": "stream",
     "text": [
      "Iter: 117\n",
      "======Direction: left======\n"
     ]
    },
    {
     "data": {
      "text/html": [
       "<h1>Score: 256</h1><table style=\"border: 5px solid black;\"><tr><td style=\"border:3px solid black; text-align:center;\"\n",
       "         width=\"40\" height=\"40\">256</td><td style=\"border:3px solid black; text-align:center;\"\n",
       "         width=\"40\" height=\"40\">8</td><td style=\"border:3px solid black; text-align:center;\"\n",
       "         width=\"40\" height=\"40\">16</td><td style=\"border:3px solid black; text-align:center;\"\n",
       "         width=\"40\" height=\"40\">4</td></tr><tr><td style=\"border:3px solid black; text-align:center;\"\n",
       "         width=\"40\" height=\"40\">64</td><td style=\"border:3px solid black; text-align:center;\"\n",
       "         width=\"40\" height=\"40\">4</td><td style=\"border:3px solid black; text-align:center;\"\n",
       "         width=\"40\" height=\"40\">2</td><td style=\"border:3px solid black; text-align:center;\"\n",
       "         width=\"40\" height=\"40\"></td></tr><tr><td style=\"border:3px solid black; text-align:center;\"\n",
       "         width=\"40\" height=\"40\">4</td><td style=\"border:3px solid black; text-align:center;\"\n",
       "         width=\"40\" height=\"40\"></td><td style=\"border:3px solid black; text-align:center;\"\n",
       "         width=\"40\" height=\"40\"></td><td style=\"border:3px solid black; text-align:center;\"\n",
       "         width=\"40\" height=\"40\">2</td></tr><tr><td style=\"border:3px solid black; text-align:center;\"\n",
       "         width=\"40\" height=\"40\">4</td><td style=\"border:3px solid black; text-align:center;\"\n",
       "         width=\"40\" height=\"40\"></td><td style=\"border:3px solid black; text-align:center;\"\n",
       "         width=\"40\" height=\"40\"></td><td style=\"border:3px solid black; text-align:center;\"\n",
       "         width=\"40\" height=\"40\"></td></tr></table>"
      ],
      "text/plain": [
       "<IPython.core.display.HTML object>"
      ]
     },
     "metadata": {},
     "output_type": "display_data"
    },
    {
     "name": "stdout",
     "output_type": "stream",
     "text": [
      "Iter: 118\n",
      "======Direction: left======\n"
     ]
    },
    {
     "data": {
      "text/html": [
       "<h1>Score: 256</h1><table style=\"border: 5px solid black;\"><tr><td style=\"border:3px solid black; text-align:center;\"\n",
       "         width=\"40\" height=\"40\">256</td><td style=\"border:3px solid black; text-align:center;\"\n",
       "         width=\"40\" height=\"40\">8</td><td style=\"border:3px solid black; text-align:center;\"\n",
       "         width=\"40\" height=\"40\">16</td><td style=\"border:3px solid black; text-align:center;\"\n",
       "         width=\"40\" height=\"40\">4</td></tr><tr><td style=\"border:3px solid black; text-align:center;\"\n",
       "         width=\"40\" height=\"40\">64</td><td style=\"border:3px solid black; text-align:center;\"\n",
       "         width=\"40\" height=\"40\">4</td><td style=\"border:3px solid black; text-align:center;\"\n",
       "         width=\"40\" height=\"40\">2</td><td style=\"border:3px solid black; text-align:center;\"\n",
       "         width=\"40\" height=\"40\"></td></tr><tr><td style=\"border:3px solid black; text-align:center;\"\n",
       "         width=\"40\" height=\"40\">4</td><td style=\"border:3px solid black; text-align:center;\"\n",
       "         width=\"40\" height=\"40\">2</td><td style=\"border:3px solid black; text-align:center;\"\n",
       "         width=\"40\" height=\"40\"></td><td style=\"border:3px solid black; text-align:center;\"\n",
       "         width=\"40\" height=\"40\"></td></tr><tr><td style=\"border:3px solid black; text-align:center;\"\n",
       "         width=\"40\" height=\"40\">4</td><td style=\"border:3px solid black; text-align:center;\"\n",
       "         width=\"40\" height=\"40\"></td><td style=\"border:3px solid black; text-align:center;\"\n",
       "         width=\"40\" height=\"40\">2</td><td style=\"border:3px solid black; text-align:center;\"\n",
       "         width=\"40\" height=\"40\"></td></tr></table>"
      ],
      "text/plain": [
       "<IPython.core.display.HTML object>"
      ]
     },
     "metadata": {},
     "output_type": "display_data"
    },
    {
     "name": "stdout",
     "output_type": "stream",
     "text": [
      "Iter: 119\n",
      "======Direction: left======\n"
     ]
    },
    {
     "data": {
      "text/html": [
       "<h1>Score: 256</h1><table style=\"border: 5px solid black;\"><tr><td style=\"border:3px solid black; text-align:center;\"\n",
       "         width=\"40\" height=\"40\">256</td><td style=\"border:3px solid black; text-align:center;\"\n",
       "         width=\"40\" height=\"40\">8</td><td style=\"border:3px solid black; text-align:center;\"\n",
       "         width=\"40\" height=\"40\">16</td><td style=\"border:3px solid black; text-align:center;\"\n",
       "         width=\"40\" height=\"40\">4</td></tr><tr><td style=\"border:3px solid black; text-align:center;\"\n",
       "         width=\"40\" height=\"40\">64</td><td style=\"border:3px solid black; text-align:center;\"\n",
       "         width=\"40\" height=\"40\">4</td><td style=\"border:3px solid black; text-align:center;\"\n",
       "         width=\"40\" height=\"40\">2</td><td style=\"border:3px solid black; text-align:center;\"\n",
       "         width=\"40\" height=\"40\">2</td></tr><tr><td style=\"border:3px solid black; text-align:center;\"\n",
       "         width=\"40\" height=\"40\">4</td><td style=\"border:3px solid black; text-align:center;\"\n",
       "         width=\"40\" height=\"40\">2</td><td style=\"border:3px solid black; text-align:center;\"\n",
       "         width=\"40\" height=\"40\"></td><td style=\"border:3px solid black; text-align:center;\"\n",
       "         width=\"40\" height=\"40\"></td></tr><tr><td style=\"border:3px solid black; text-align:center;\"\n",
       "         width=\"40\" height=\"40\">4</td><td style=\"border:3px solid black; text-align:center;\"\n",
       "         width=\"40\" height=\"40\">2</td><td style=\"border:3px solid black; text-align:center;\"\n",
       "         width=\"40\" height=\"40\"></td><td style=\"border:3px solid black; text-align:center;\"\n",
       "         width=\"40\" height=\"40\"></td></tr></table>"
      ],
      "text/plain": [
       "<IPython.core.display.HTML object>"
      ]
     },
     "metadata": {},
     "output_type": "display_data"
    },
    {
     "name": "stdout",
     "output_type": "stream",
     "text": [
      "Iter: 120\n",
      "======Direction: up======\n"
     ]
    },
    {
     "data": {
      "text/html": [
       "<h1>Score: 256</h1><table style=\"border: 5px solid black;\"><tr><td style=\"border:3px solid black; text-align:center;\"\n",
       "         width=\"40\" height=\"40\">256</td><td style=\"border:3px solid black; text-align:center;\"\n",
       "         width=\"40\" height=\"40\">8</td><td style=\"border:3px solid black; text-align:center;\"\n",
       "         width=\"40\" height=\"40\">16</td><td style=\"border:3px solid black; text-align:center;\"\n",
       "         width=\"40\" height=\"40\">4</td></tr><tr><td style=\"border:3px solid black; text-align:center;\"\n",
       "         width=\"40\" height=\"40\">64</td><td style=\"border:3px solid black; text-align:center;\"\n",
       "         width=\"40\" height=\"40\">4</td><td style=\"border:3px solid black; text-align:center;\"\n",
       "         width=\"40\" height=\"40\">2</td><td style=\"border:3px solid black; text-align:center;\"\n",
       "         width=\"40\" height=\"40\">2</td></tr><tr><td style=\"border:3px solid black; text-align:center;\"\n",
       "         width=\"40\" height=\"40\">8</td><td style=\"border:3px solid black; text-align:center;\"\n",
       "         width=\"40\" height=\"40\">4</td><td style=\"border:3px solid black; text-align:center;\"\n",
       "         width=\"40\" height=\"40\"></td><td style=\"border:3px solid black; text-align:center;\"\n",
       "         width=\"40\" height=\"40\">4</td></tr><tr><td style=\"border:3px solid black; text-align:center;\"\n",
       "         width=\"40\" height=\"40\"></td><td style=\"border:3px solid black; text-align:center;\"\n",
       "         width=\"40\" height=\"40\"></td><td style=\"border:3px solid black; text-align:center;\"\n",
       "         width=\"40\" height=\"40\"></td><td style=\"border:3px solid black; text-align:center;\"\n",
       "         width=\"40\" height=\"40\"></td></tr></table>"
      ],
      "text/plain": [
       "<IPython.core.display.HTML object>"
      ]
     },
     "metadata": {},
     "output_type": "display_data"
    },
    {
     "name": "stdout",
     "output_type": "stream",
     "text": [
      "Iter: 121\n",
      "======Direction: up======\n"
     ]
    },
    {
     "data": {
      "text/html": [
       "<h1>Score: 256</h1><table style=\"border: 5px solid black;\"><tr><td style=\"border:3px solid black; text-align:center;\"\n",
       "         width=\"40\" height=\"40\">256</td><td style=\"border:3px solid black; text-align:center;\"\n",
       "         width=\"40\" height=\"40\">8</td><td style=\"border:3px solid black; text-align:center;\"\n",
       "         width=\"40\" height=\"40\">16</td><td style=\"border:3px solid black; text-align:center;\"\n",
       "         width=\"40\" height=\"40\">4</td></tr><tr><td style=\"border:3px solid black; text-align:center;\"\n",
       "         width=\"40\" height=\"40\">64</td><td style=\"border:3px solid black; text-align:center;\"\n",
       "         width=\"40\" height=\"40\">8</td><td style=\"border:3px solid black; text-align:center;\"\n",
       "         width=\"40\" height=\"40\">2</td><td style=\"border:3px solid black; text-align:center;\"\n",
       "         width=\"40\" height=\"40\">2</td></tr><tr><td style=\"border:3px solid black; text-align:center;\"\n",
       "         width=\"40\" height=\"40\">8</td><td style=\"border:3px solid black; text-align:center;\"\n",
       "         width=\"40\" height=\"40\"></td><td style=\"border:3px solid black; text-align:center;\"\n",
       "         width=\"40\" height=\"40\"></td><td style=\"border:3px solid black; text-align:center;\"\n",
       "         width=\"40\" height=\"40\">4</td></tr><tr><td style=\"border:3px solid black; text-align:center;\"\n",
       "         width=\"40\" height=\"40\"></td><td style=\"border:3px solid black; text-align:center;\"\n",
       "         width=\"40\" height=\"40\"></td><td style=\"border:3px solid black; text-align:center;\"\n",
       "         width=\"40\" height=\"40\"></td><td style=\"border:3px solid black; text-align:center;\"\n",
       "         width=\"40\" height=\"40\">2</td></tr></table>"
      ],
      "text/plain": [
       "<IPython.core.display.HTML object>"
      ]
     },
     "metadata": {},
     "output_type": "display_data"
    },
    {
     "name": "stdout",
     "output_type": "stream",
     "text": [
      "Iter: 122\n",
      "======Direction: left======\n"
     ]
    },
    {
     "data": {
      "text/html": [
       "<h1>Score: 256</h1><table style=\"border: 5px solid black;\"><tr><td style=\"border:3px solid black; text-align:center;\"\n",
       "         width=\"40\" height=\"40\">256</td><td style=\"border:3px solid black; text-align:center;\"\n",
       "         width=\"40\" height=\"40\">8</td><td style=\"border:3px solid black; text-align:center;\"\n",
       "         width=\"40\" height=\"40\">16</td><td style=\"border:3px solid black; text-align:center;\"\n",
       "         width=\"40\" height=\"40\">4</td></tr><tr><td style=\"border:3px solid black; text-align:center;\"\n",
       "         width=\"40\" height=\"40\">64</td><td style=\"border:3px solid black; text-align:center;\"\n",
       "         width=\"40\" height=\"40\">8</td><td style=\"border:3px solid black; text-align:center;\"\n",
       "         width=\"40\" height=\"40\">4</td><td style=\"border:3px solid black; text-align:center;\"\n",
       "         width=\"40\" height=\"40\"></td></tr><tr><td style=\"border:3px solid black; text-align:center;\"\n",
       "         width=\"40\" height=\"40\">8</td><td style=\"border:3px solid black; text-align:center;\"\n",
       "         width=\"40\" height=\"40\">4</td><td style=\"border:3px solid black; text-align:center;\"\n",
       "         width=\"40\" height=\"40\">4</td><td style=\"border:3px solid black; text-align:center;\"\n",
       "         width=\"40\" height=\"40\"></td></tr><tr><td style=\"border:3px solid black; text-align:center;\"\n",
       "         width=\"40\" height=\"40\">2</td><td style=\"border:3px solid black; text-align:center;\"\n",
       "         width=\"40\" height=\"40\"></td><td style=\"border:3px solid black; text-align:center;\"\n",
       "         width=\"40\" height=\"40\"></td><td style=\"border:3px solid black; text-align:center;\"\n",
       "         width=\"40\" height=\"40\"></td></tr></table>"
      ],
      "text/plain": [
       "<IPython.core.display.HTML object>"
      ]
     },
     "metadata": {},
     "output_type": "display_data"
    },
    {
     "name": "stdout",
     "output_type": "stream",
     "text": [
      "Iter: 123\n",
      "======Direction: left======\n"
     ]
    },
    {
     "data": {
      "text/html": [
       "<h1>Score: 256</h1><table style=\"border: 5px solid black;\"><tr><td style=\"border:3px solid black; text-align:center;\"\n",
       "         width=\"40\" height=\"40\">256</td><td style=\"border:3px solid black; text-align:center;\"\n",
       "         width=\"40\" height=\"40\">8</td><td style=\"border:3px solid black; text-align:center;\"\n",
       "         width=\"40\" height=\"40\">16</td><td style=\"border:3px solid black; text-align:center;\"\n",
       "         width=\"40\" height=\"40\">4</td></tr><tr><td style=\"border:3px solid black; text-align:center;\"\n",
       "         width=\"40\" height=\"40\">64</td><td style=\"border:3px solid black; text-align:center;\"\n",
       "         width=\"40\" height=\"40\">8</td><td style=\"border:3px solid black; text-align:center;\"\n",
       "         width=\"40\" height=\"40\">4</td><td style=\"border:3px solid black; text-align:center;\"\n",
       "         width=\"40\" height=\"40\"></td></tr><tr><td style=\"border:3px solid black; text-align:center;\"\n",
       "         width=\"40\" height=\"40\">8</td><td style=\"border:3px solid black; text-align:center;\"\n",
       "         width=\"40\" height=\"40\">8</td><td style=\"border:3px solid black; text-align:center;\"\n",
       "         width=\"40\" height=\"40\"></td><td style=\"border:3px solid black; text-align:center;\"\n",
       "         width=\"40\" height=\"40\"></td></tr><tr><td style=\"border:3px solid black; text-align:center;\"\n",
       "         width=\"40\" height=\"40\">2</td><td style=\"border:3px solid black; text-align:center;\"\n",
       "         width=\"40\" height=\"40\"></td><td style=\"border:3px solid black; text-align:center;\"\n",
       "         width=\"40\" height=\"40\"></td><td style=\"border:3px solid black; text-align:center;\"\n",
       "         width=\"40\" height=\"40\">4</td></tr></table>"
      ],
      "text/plain": [
       "<IPython.core.display.HTML object>"
      ]
     },
     "metadata": {},
     "output_type": "display_data"
    },
    {
     "name": "stdout",
     "output_type": "stream",
     "text": [
      "Iter: 124\n",
      "======Direction: left======\n"
     ]
    },
    {
     "data": {
      "text/html": [
       "<h1>Score: 256</h1><table style=\"border: 5px solid black;\"><tr><td style=\"border:3px solid black; text-align:center;\"\n",
       "         width=\"40\" height=\"40\">256</td><td style=\"border:3px solid black; text-align:center;\"\n",
       "         width=\"40\" height=\"40\">8</td><td style=\"border:3px solid black; text-align:center;\"\n",
       "         width=\"40\" height=\"40\">16</td><td style=\"border:3px solid black; text-align:center;\"\n",
       "         width=\"40\" height=\"40\">4</td></tr><tr><td style=\"border:3px solid black; text-align:center;\"\n",
       "         width=\"40\" height=\"40\">64</td><td style=\"border:3px solid black; text-align:center;\"\n",
       "         width=\"40\" height=\"40\">8</td><td style=\"border:3px solid black; text-align:center;\"\n",
       "         width=\"40\" height=\"40\">4</td><td style=\"border:3px solid black; text-align:center;\"\n",
       "         width=\"40\" height=\"40\"></td></tr><tr><td style=\"border:3px solid black; text-align:center;\"\n",
       "         width=\"40\" height=\"40\">16</td><td style=\"border:3px solid black; text-align:center;\"\n",
       "         width=\"40\" height=\"40\"></td><td style=\"border:3px solid black; text-align:center;\"\n",
       "         width=\"40\" height=\"40\">4</td><td style=\"border:3px solid black; text-align:center;\"\n",
       "         width=\"40\" height=\"40\"></td></tr><tr><td style=\"border:3px solid black; text-align:center;\"\n",
       "         width=\"40\" height=\"40\">2</td><td style=\"border:3px solid black; text-align:center;\"\n",
       "         width=\"40\" height=\"40\">4</td><td style=\"border:3px solid black; text-align:center;\"\n",
       "         width=\"40\" height=\"40\"></td><td style=\"border:3px solid black; text-align:center;\"\n",
       "         width=\"40\" height=\"40\"></td></tr></table>"
      ],
      "text/plain": [
       "<IPython.core.display.HTML object>"
      ]
     },
     "metadata": {},
     "output_type": "display_data"
    },
    {
     "name": "stdout",
     "output_type": "stream",
     "text": [
      "Iter: 125\n",
      "======Direction: left======\n"
     ]
    },
    {
     "data": {
      "text/html": [
       "<h1>Score: 256</h1><table style=\"border: 5px solid black;\"><tr><td style=\"border:3px solid black; text-align:center;\"\n",
       "         width=\"40\" height=\"40\">256</td><td style=\"border:3px solid black; text-align:center;\"\n",
       "         width=\"40\" height=\"40\">8</td><td style=\"border:3px solid black; text-align:center;\"\n",
       "         width=\"40\" height=\"40\">16</td><td style=\"border:3px solid black; text-align:center;\"\n",
       "         width=\"40\" height=\"40\">4</td></tr><tr><td style=\"border:3px solid black; text-align:center;\"\n",
       "         width=\"40\" height=\"40\">64</td><td style=\"border:3px solid black; text-align:center;\"\n",
       "         width=\"40\" height=\"40\">8</td><td style=\"border:3px solid black; text-align:center;\"\n",
       "         width=\"40\" height=\"40\">4</td><td style=\"border:3px solid black; text-align:center;\"\n",
       "         width=\"40\" height=\"40\"></td></tr><tr><td style=\"border:3px solid black; text-align:center;\"\n",
       "         width=\"40\" height=\"40\">16</td><td style=\"border:3px solid black; text-align:center;\"\n",
       "         width=\"40\" height=\"40\">4</td><td style=\"border:3px solid black; text-align:center;\"\n",
       "         width=\"40\" height=\"40\"></td><td style=\"border:3px solid black; text-align:center;\"\n",
       "         width=\"40\" height=\"40\">2</td></tr><tr><td style=\"border:3px solid black; text-align:center;\"\n",
       "         width=\"40\" height=\"40\">2</td><td style=\"border:3px solid black; text-align:center;\"\n",
       "         width=\"40\" height=\"40\">4</td><td style=\"border:3px solid black; text-align:center;\"\n",
       "         width=\"40\" height=\"40\"></td><td style=\"border:3px solid black; text-align:center;\"\n",
       "         width=\"40\" height=\"40\"></td></tr></table>"
      ],
      "text/plain": [
       "<IPython.core.display.HTML object>"
      ]
     },
     "metadata": {},
     "output_type": "display_data"
    },
    {
     "name": "stdout",
     "output_type": "stream",
     "text": [
      "Iter: 126\n",
      "======Direction: left======\n"
     ]
    },
    {
     "data": {
      "text/html": [
       "<h1>Score: 256</h1><table style=\"border: 5px solid black;\"><tr><td style=\"border:3px solid black; text-align:center;\"\n",
       "         width=\"40\" height=\"40\">256</td><td style=\"border:3px solid black; text-align:center;\"\n",
       "         width=\"40\" height=\"40\">8</td><td style=\"border:3px solid black; text-align:center;\"\n",
       "         width=\"40\" height=\"40\">16</td><td style=\"border:3px solid black; text-align:center;\"\n",
       "         width=\"40\" height=\"40\">4</td></tr><tr><td style=\"border:3px solid black; text-align:center;\"\n",
       "         width=\"40\" height=\"40\">64</td><td style=\"border:3px solid black; text-align:center;\"\n",
       "         width=\"40\" height=\"40\">8</td><td style=\"border:3px solid black; text-align:center;\"\n",
       "         width=\"40\" height=\"40\">4</td><td style=\"border:3px solid black; text-align:center;\"\n",
       "         width=\"40\" height=\"40\"></td></tr><tr><td style=\"border:3px solid black; text-align:center;\"\n",
       "         width=\"40\" height=\"40\">16</td><td style=\"border:3px solid black; text-align:center;\"\n",
       "         width=\"40\" height=\"40\">4</td><td style=\"border:3px solid black; text-align:center;\"\n",
       "         width=\"40\" height=\"40\">2</td><td style=\"border:3px solid black; text-align:center;\"\n",
       "         width=\"40\" height=\"40\">4</td></tr><tr><td style=\"border:3px solid black; text-align:center;\"\n",
       "         width=\"40\" height=\"40\">2</td><td style=\"border:3px solid black; text-align:center;\"\n",
       "         width=\"40\" height=\"40\">4</td><td style=\"border:3px solid black; text-align:center;\"\n",
       "         width=\"40\" height=\"40\"></td><td style=\"border:3px solid black; text-align:center;\"\n",
       "         width=\"40\" height=\"40\"></td></tr></table>"
      ],
      "text/plain": [
       "<IPython.core.display.HTML object>"
      ]
     },
     "metadata": {},
     "output_type": "display_data"
    },
    {
     "name": "stdout",
     "output_type": "stream",
     "text": [
      "Iter: 127\n",
      "======Direction: up======\n"
     ]
    },
    {
     "data": {
      "text/html": [
       "<h1>Score: 256</h1><table style=\"border: 5px solid black;\"><tr><td style=\"border:3px solid black; text-align:center;\"\n",
       "         width=\"40\" height=\"40\">256</td><td style=\"border:3px solid black; text-align:center;\"\n",
       "         width=\"40\" height=\"40\">16</td><td style=\"border:3px solid black; text-align:center;\"\n",
       "         width=\"40\" height=\"40\">16</td><td style=\"border:3px solid black; text-align:center;\"\n",
       "         width=\"40\" height=\"40\">8</td></tr><tr><td style=\"border:3px solid black; text-align:center;\"\n",
       "         width=\"40\" height=\"40\">64</td><td style=\"border:3px solid black; text-align:center;\"\n",
       "         width=\"40\" height=\"40\">8</td><td style=\"border:3px solid black; text-align:center;\"\n",
       "         width=\"40\" height=\"40\">4</td><td style=\"border:3px solid black; text-align:center;\"\n",
       "         width=\"40\" height=\"40\"></td></tr><tr><td style=\"border:3px solid black; text-align:center;\"\n",
       "         width=\"40\" height=\"40\">16</td><td style=\"border:3px solid black; text-align:center;\"\n",
       "         width=\"40\" height=\"40\"></td><td style=\"border:3px solid black; text-align:center;\"\n",
       "         width=\"40\" height=\"40\">2</td><td style=\"border:3px solid black; text-align:center;\"\n",
       "         width=\"40\" height=\"40\"></td></tr><tr><td style=\"border:3px solid black; text-align:center;\"\n",
       "         width=\"40\" height=\"40\">2</td><td style=\"border:3px solid black; text-align:center;\"\n",
       "         width=\"40\" height=\"40\">4</td><td style=\"border:3px solid black; text-align:center;\"\n",
       "         width=\"40\" height=\"40\"></td><td style=\"border:3px solid black; text-align:center;\"\n",
       "         width=\"40\" height=\"40\"></td></tr></table>"
      ],
      "text/plain": [
       "<IPython.core.display.HTML object>"
      ]
     },
     "metadata": {},
     "output_type": "display_data"
    },
    {
     "name": "stdout",
     "output_type": "stream",
     "text": [
      "Iter: 128\n",
      "======Direction: up======\n"
     ]
    },
    {
     "data": {
      "text/html": [
       "<h1>Score: 256</h1><table style=\"border: 5px solid black;\"><tr><td style=\"border:3px solid black; text-align:center;\"\n",
       "         width=\"40\" height=\"40\">256</td><td style=\"border:3px solid black; text-align:center;\"\n",
       "         width=\"40\" height=\"40\">16</td><td style=\"border:3px solid black; text-align:center;\"\n",
       "         width=\"40\" height=\"40\">16</td><td style=\"border:3px solid black; text-align:center;\"\n",
       "         width=\"40\" height=\"40\">8</td></tr><tr><td style=\"border:3px solid black; text-align:center;\"\n",
       "         width=\"40\" height=\"40\">64</td><td style=\"border:3px solid black; text-align:center;\"\n",
       "         width=\"40\" height=\"40\">8</td><td style=\"border:3px solid black; text-align:center;\"\n",
       "         width=\"40\" height=\"40\">4</td><td style=\"border:3px solid black; text-align:center;\"\n",
       "         width=\"40\" height=\"40\">2</td></tr><tr><td style=\"border:3px solid black; text-align:center;\"\n",
       "         width=\"40\" height=\"40\">16</td><td style=\"border:3px solid black; text-align:center;\"\n",
       "         width=\"40\" height=\"40\">4</td><td style=\"border:3px solid black; text-align:center;\"\n",
       "         width=\"40\" height=\"40\">2</td><td style=\"border:3px solid black; text-align:center;\"\n",
       "         width=\"40\" height=\"40\"></td></tr><tr><td style=\"border:3px solid black; text-align:center;\"\n",
       "         width=\"40\" height=\"40\">2</td><td style=\"border:3px solid black; text-align:center;\"\n",
       "         width=\"40\" height=\"40\"></td><td style=\"border:3px solid black; text-align:center;\"\n",
       "         width=\"40\" height=\"40\"></td><td style=\"border:3px solid black; text-align:center;\"\n",
       "         width=\"40\" height=\"40\"></td></tr></table>"
      ],
      "text/plain": [
       "<IPython.core.display.HTML object>"
      ]
     },
     "metadata": {},
     "output_type": "display_data"
    },
    {
     "name": "stdout",
     "output_type": "stream",
     "text": [
      "Iter: 129\n",
      "======Direction: left======\n"
     ]
    },
    {
     "data": {
      "text/html": [
       "<h1>Score: 256</h1><table style=\"border: 5px solid black;\"><tr><td style=\"border:3px solid black; text-align:center;\"\n",
       "         width=\"40\" height=\"40\">256</td><td style=\"border:3px solid black; text-align:center;\"\n",
       "         width=\"40\" height=\"40\">32</td><td style=\"border:3px solid black; text-align:center;\"\n",
       "         width=\"40\" height=\"40\">8</td><td style=\"border:3px solid black; text-align:center;\"\n",
       "         width=\"40\" height=\"40\"></td></tr><tr><td style=\"border:3px solid black; text-align:center;\"\n",
       "         width=\"40\" height=\"40\">64</td><td style=\"border:3px solid black; text-align:center;\"\n",
       "         width=\"40\" height=\"40\">8</td><td style=\"border:3px solid black; text-align:center;\"\n",
       "         width=\"40\" height=\"40\">4</td><td style=\"border:3px solid black; text-align:center;\"\n",
       "         width=\"40\" height=\"40\">2</td></tr><tr><td style=\"border:3px solid black; text-align:center;\"\n",
       "         width=\"40\" height=\"40\">16</td><td style=\"border:3px solid black; text-align:center;\"\n",
       "         width=\"40\" height=\"40\">4</td><td style=\"border:3px solid black; text-align:center;\"\n",
       "         width=\"40\" height=\"40\">2</td><td style=\"border:3px solid black; text-align:center;\"\n",
       "         width=\"40\" height=\"40\"></td></tr><tr><td style=\"border:3px solid black; text-align:center;\"\n",
       "         width=\"40\" height=\"40\">2</td><td style=\"border:3px solid black; text-align:center;\"\n",
       "         width=\"40\" height=\"40\">2</td><td style=\"border:3px solid black; text-align:center;\"\n",
       "         width=\"40\" height=\"40\"></td><td style=\"border:3px solid black; text-align:center;\"\n",
       "         width=\"40\" height=\"40\"></td></tr></table>"
      ],
      "text/plain": [
       "<IPython.core.display.HTML object>"
      ]
     },
     "metadata": {},
     "output_type": "display_data"
    },
    {
     "name": "stdout",
     "output_type": "stream",
     "text": [
      "Iter: 130\n",
      "======Direction: down======\n"
     ]
    },
    {
     "data": {
      "text/html": [
       "<h1>Score: 256</h1><table style=\"border: 5px solid black;\"><tr><td style=\"border:3px solid black; text-align:center;\"\n",
       "         width=\"40\" height=\"40\">256</td><td style=\"border:3px solid black; text-align:center;\"\n",
       "         width=\"40\" height=\"40\">32</td><td style=\"border:3px solid black; text-align:center;\"\n",
       "         width=\"40\" height=\"40\"></td><td style=\"border:3px solid black; text-align:center;\"\n",
       "         width=\"40\" height=\"40\">4</td></tr><tr><td style=\"border:3px solid black; text-align:center;\"\n",
       "         width=\"40\" height=\"40\">64</td><td style=\"border:3px solid black; text-align:center;\"\n",
       "         width=\"40\" height=\"40\">8</td><td style=\"border:3px solid black; text-align:center;\"\n",
       "         width=\"40\" height=\"40\">8</td><td style=\"border:3px solid black; text-align:center;\"\n",
       "         width=\"40\" height=\"40\"></td></tr><tr><td style=\"border:3px solid black; text-align:center;\"\n",
       "         width=\"40\" height=\"40\">16</td><td style=\"border:3px solid black; text-align:center;\"\n",
       "         width=\"40\" height=\"40\">4</td><td style=\"border:3px solid black; text-align:center;\"\n",
       "         width=\"40\" height=\"40\">4</td><td style=\"border:3px solid black; text-align:center;\"\n",
       "         width=\"40\" height=\"40\"></td></tr><tr><td style=\"border:3px solid black; text-align:center;\"\n",
       "         width=\"40\" height=\"40\">2</td><td style=\"border:3px solid black; text-align:center;\"\n",
       "         width=\"40\" height=\"40\">2</td><td style=\"border:3px solid black; text-align:center;\"\n",
       "         width=\"40\" height=\"40\">2</td><td style=\"border:3px solid black; text-align:center;\"\n",
       "         width=\"40\" height=\"40\">2</td></tr></table>"
      ],
      "text/plain": [
       "<IPython.core.display.HTML object>"
      ]
     },
     "metadata": {},
     "output_type": "display_data"
    },
    {
     "name": "stdout",
     "output_type": "stream",
     "text": [
      "Iter: 131\n",
      "======Direction: down======\n"
     ]
    },
    {
     "data": {
      "text/html": [
       "<h1>Score: 256</h1><table style=\"border: 5px solid black;\"><tr><td style=\"border:3px solid black; text-align:center;\"\n",
       "         width=\"40\" height=\"40\">256</td><td style=\"border:3px solid black; text-align:center;\"\n",
       "         width=\"40\" height=\"40\">32</td><td style=\"border:3px solid black; text-align:center;\"\n",
       "         width=\"40\" height=\"40\">2</td><td style=\"border:3px solid black; text-align:center;\"\n",
       "         width=\"40\" height=\"40\"></td></tr><tr><td style=\"border:3px solid black; text-align:center;\"\n",
       "         width=\"40\" height=\"40\">64</td><td style=\"border:3px solid black; text-align:center;\"\n",
       "         width=\"40\" height=\"40\">8</td><td style=\"border:3px solid black; text-align:center;\"\n",
       "         width=\"40\" height=\"40\">8</td><td style=\"border:3px solid black; text-align:center;\"\n",
       "         width=\"40\" height=\"40\"></td></tr><tr><td style=\"border:3px solid black; text-align:center;\"\n",
       "         width=\"40\" height=\"40\">16</td><td style=\"border:3px solid black; text-align:center;\"\n",
       "         width=\"40\" height=\"40\">4</td><td style=\"border:3px solid black; text-align:center;\"\n",
       "         width=\"40\" height=\"40\">4</td><td style=\"border:3px solid black; text-align:center;\"\n",
       "         width=\"40\" height=\"40\">4</td></tr><tr><td style=\"border:3px solid black; text-align:center;\"\n",
       "         width=\"40\" height=\"40\">2</td><td style=\"border:3px solid black; text-align:center;\"\n",
       "         width=\"40\" height=\"40\">2</td><td style=\"border:3px solid black; text-align:center;\"\n",
       "         width=\"40\" height=\"40\">2</td><td style=\"border:3px solid black; text-align:center;\"\n",
       "         width=\"40\" height=\"40\">2</td></tr></table>"
      ],
      "text/plain": [
       "<IPython.core.display.HTML object>"
      ]
     },
     "metadata": {},
     "output_type": "display_data"
    },
    {
     "name": "stdout",
     "output_type": "stream",
     "text": [
      "Iter: 132\n",
      "======Direction: up======\n"
     ]
    },
    {
     "data": {
      "text/html": [
       "<h1>Score: 256</h1><table style=\"border: 5px solid black;\"><tr><td style=\"border:3px solid black; text-align:center;\"\n",
       "         width=\"40\" height=\"40\">256</td><td style=\"border:3px solid black; text-align:center;\"\n",
       "         width=\"40\" height=\"40\">32</td><td style=\"border:3px solid black; text-align:center;\"\n",
       "         width=\"40\" height=\"40\">2</td><td style=\"border:3px solid black; text-align:center;\"\n",
       "         width=\"40\" height=\"40\">4</td></tr><tr><td style=\"border:3px solid black; text-align:center;\"\n",
       "         width=\"40\" height=\"40\">64</td><td style=\"border:3px solid black; text-align:center;\"\n",
       "         width=\"40\" height=\"40\">8</td><td style=\"border:3px solid black; text-align:center;\"\n",
       "         width=\"40\" height=\"40\">8</td><td style=\"border:3px solid black; text-align:center;\"\n",
       "         width=\"40\" height=\"40\">2</td></tr><tr><td style=\"border:3px solid black; text-align:center;\"\n",
       "         width=\"40\" height=\"40\">16</td><td style=\"border:3px solid black; text-align:center;\"\n",
       "         width=\"40\" height=\"40\">4</td><td style=\"border:3px solid black; text-align:center;\"\n",
       "         width=\"40\" height=\"40\">4</td><td style=\"border:3px solid black; text-align:center;\"\n",
       "         width=\"40\" height=\"40\">4</td></tr><tr><td style=\"border:3px solid black; text-align:center;\"\n",
       "         width=\"40\" height=\"40\">2</td><td style=\"border:3px solid black; text-align:center;\"\n",
       "         width=\"40\" height=\"40\">2</td><td style=\"border:3px solid black; text-align:center;\"\n",
       "         width=\"40\" height=\"40\">2</td><td style=\"border:3px solid black; text-align:center;\"\n",
       "         width=\"40\" height=\"40\"></td></tr></table>"
      ],
      "text/plain": [
       "<IPython.core.display.HTML object>"
      ]
     },
     "metadata": {},
     "output_type": "display_data"
    },
    {
     "name": "stdout",
     "output_type": "stream",
     "text": [
      "Iter: 133\n",
      "======Direction: left======\n"
     ]
    },
    {
     "data": {
      "text/html": [
       "<h1>Score: 256</h1><table style=\"border: 5px solid black;\"><tr><td style=\"border:3px solid black; text-align:center;\"\n",
       "         width=\"40\" height=\"40\">256</td><td style=\"border:3px solid black; text-align:center;\"\n",
       "         width=\"40\" height=\"40\">32</td><td style=\"border:3px solid black; text-align:center;\"\n",
       "         width=\"40\" height=\"40\">2</td><td style=\"border:3px solid black; text-align:center;\"\n",
       "         width=\"40\" height=\"40\">4</td></tr><tr><td style=\"border:3px solid black; text-align:center;\"\n",
       "         width=\"40\" height=\"40\">64</td><td style=\"border:3px solid black; text-align:center;\"\n",
       "         width=\"40\" height=\"40\">16</td><td style=\"border:3px solid black; text-align:center;\"\n",
       "         width=\"40\" height=\"40\">2</td><td style=\"border:3px solid black; text-align:center;\"\n",
       "         width=\"40\" height=\"40\"></td></tr><tr><td style=\"border:3px solid black; text-align:center;\"\n",
       "         width=\"40\" height=\"40\">16</td><td style=\"border:3px solid black; text-align:center;\"\n",
       "         width=\"40\" height=\"40\">8</td><td style=\"border:3px solid black; text-align:center;\"\n",
       "         width=\"40\" height=\"40\">4</td><td style=\"border:3px solid black; text-align:center;\"\n",
       "         width=\"40\" height=\"40\"></td></tr><tr><td style=\"border:3px solid black; text-align:center;\"\n",
       "         width=\"40\" height=\"40\">4</td><td style=\"border:3px solid black; text-align:center;\"\n",
       "         width=\"40\" height=\"40\">2</td><td style=\"border:3px solid black; text-align:center;\"\n",
       "         width=\"40\" height=\"40\"></td><td style=\"border:3px solid black; text-align:center;\"\n",
       "         width=\"40\" height=\"40\">2</td></tr></table>"
      ],
      "text/plain": [
       "<IPython.core.display.HTML object>"
      ]
     },
     "metadata": {},
     "output_type": "display_data"
    },
    {
     "name": "stdout",
     "output_type": "stream",
     "text": [
      "Iter: 134\n",
      "======Direction: down======\n"
     ]
    },
    {
     "data": {
      "text/html": [
       "<h1>Score: 256</h1><table style=\"border: 5px solid black;\"><tr><td style=\"border:3px solid black; text-align:center;\"\n",
       "         width=\"40\" height=\"40\">256</td><td style=\"border:3px solid black; text-align:center;\"\n",
       "         width=\"40\" height=\"40\">32</td><td style=\"border:3px solid black; text-align:center;\"\n",
       "         width=\"40\" height=\"40\">2</td><td style=\"border:3px solid black; text-align:center;\"\n",
       "         width=\"40\" height=\"40\"></td></tr><tr><td style=\"border:3px solid black; text-align:center;\"\n",
       "         width=\"40\" height=\"40\">64</td><td style=\"border:3px solid black; text-align:center;\"\n",
       "         width=\"40\" height=\"40\">16</td><td style=\"border:3px solid black; text-align:center;\"\n",
       "         width=\"40\" height=\"40\"></td><td style=\"border:3px solid black; text-align:center;\"\n",
       "         width=\"40\" height=\"40\"></td></tr><tr><td style=\"border:3px solid black; text-align:center;\"\n",
       "         width=\"40\" height=\"40\">16</td><td style=\"border:3px solid black; text-align:center;\"\n",
       "         width=\"40\" height=\"40\">8</td><td style=\"border:3px solid black; text-align:center;\"\n",
       "         width=\"40\" height=\"40\">4</td><td style=\"border:3px solid black; text-align:center;\"\n",
       "         width=\"40\" height=\"40\">4</td></tr><tr><td style=\"border:3px solid black; text-align:center;\"\n",
       "         width=\"40\" height=\"40\">4</td><td style=\"border:3px solid black; text-align:center;\"\n",
       "         width=\"40\" height=\"40\">2</td><td style=\"border:3px solid black; text-align:center;\"\n",
       "         width=\"40\" height=\"40\">4</td><td style=\"border:3px solid black; text-align:center;\"\n",
       "         width=\"40\" height=\"40\">2</td></tr></table>"
      ],
      "text/plain": [
       "<IPython.core.display.HTML object>"
      ]
     },
     "metadata": {},
     "output_type": "display_data"
    },
    {
     "name": "stdout",
     "output_type": "stream",
     "text": [
      "Iter: 135\n",
      "======Direction: left======\n"
     ]
    },
    {
     "data": {
      "text/html": [
       "<h1>Score: 256</h1><table style=\"border: 5px solid black;\"><tr><td style=\"border:3px solid black; text-align:center;\"\n",
       "         width=\"40\" height=\"40\">256</td><td style=\"border:3px solid black; text-align:center;\"\n",
       "         width=\"40\" height=\"40\">32</td><td style=\"border:3px solid black; text-align:center;\"\n",
       "         width=\"40\" height=\"40\">2</td><td style=\"border:3px solid black; text-align:center;\"\n",
       "         width=\"40\" height=\"40\"></td></tr><tr><td style=\"border:3px solid black; text-align:center;\"\n",
       "         width=\"40\" height=\"40\">64</td><td style=\"border:3px solid black; text-align:center;\"\n",
       "         width=\"40\" height=\"40\">16</td><td style=\"border:3px solid black; text-align:center;\"\n",
       "         width=\"40\" height=\"40\"></td><td style=\"border:3px solid black; text-align:center;\"\n",
       "         width=\"40\" height=\"40\">2</td></tr><tr><td style=\"border:3px solid black; text-align:center;\"\n",
       "         width=\"40\" height=\"40\">16</td><td style=\"border:3px solid black; text-align:center;\"\n",
       "         width=\"40\" height=\"40\">8</td><td style=\"border:3px solid black; text-align:center;\"\n",
       "         width=\"40\" height=\"40\">8</td><td style=\"border:3px solid black; text-align:center;\"\n",
       "         width=\"40\" height=\"40\"></td></tr><tr><td style=\"border:3px solid black; text-align:center;\"\n",
       "         width=\"40\" height=\"40\">4</td><td style=\"border:3px solid black; text-align:center;\"\n",
       "         width=\"40\" height=\"40\">2</td><td style=\"border:3px solid black; text-align:center;\"\n",
       "         width=\"40\" height=\"40\">4</td><td style=\"border:3px solid black; text-align:center;\"\n",
       "         width=\"40\" height=\"40\">2</td></tr></table>"
      ],
      "text/plain": [
       "<IPython.core.display.HTML object>"
      ]
     },
     "metadata": {},
     "output_type": "display_data"
    },
    {
     "name": "stdout",
     "output_type": "stream",
     "text": [
      "Iter: 136\n",
      "======Direction: left======\n"
     ]
    },
    {
     "data": {
      "text/html": [
       "<h1>Score: 256</h1><table style=\"border: 5px solid black;\"><tr><td style=\"border:3px solid black; text-align:center;\"\n",
       "         width=\"40\" height=\"40\">256</td><td style=\"border:3px solid black; text-align:center;\"\n",
       "         width=\"40\" height=\"40\">32</td><td style=\"border:3px solid black; text-align:center;\"\n",
       "         width=\"40\" height=\"40\">2</td><td style=\"border:3px solid black; text-align:center;\"\n",
       "         width=\"40\" height=\"40\"></td></tr><tr><td style=\"border:3px solid black; text-align:center;\"\n",
       "         width=\"40\" height=\"40\">64</td><td style=\"border:3px solid black; text-align:center;\"\n",
       "         width=\"40\" height=\"40\">16</td><td style=\"border:3px solid black; text-align:center;\"\n",
       "         width=\"40\" height=\"40\">2</td><td style=\"border:3px solid black; text-align:center;\"\n",
       "         width=\"40\" height=\"40\"></td></tr><tr><td style=\"border:3px solid black; text-align:center;\"\n",
       "         width=\"40\" height=\"40\">16</td><td style=\"border:3px solid black; text-align:center;\"\n",
       "         width=\"40\" height=\"40\">16</td><td style=\"border:3px solid black; text-align:center;\"\n",
       "         width=\"40\" height=\"40\"></td><td style=\"border:3px solid black; text-align:center;\"\n",
       "         width=\"40\" height=\"40\">4</td></tr><tr><td style=\"border:3px solid black; text-align:center;\"\n",
       "         width=\"40\" height=\"40\">4</td><td style=\"border:3px solid black; text-align:center;\"\n",
       "         width=\"40\" height=\"40\">2</td><td style=\"border:3px solid black; text-align:center;\"\n",
       "         width=\"40\" height=\"40\">4</td><td style=\"border:3px solid black; text-align:center;\"\n",
       "         width=\"40\" height=\"40\">2</td></tr></table>"
      ],
      "text/plain": [
       "<IPython.core.display.HTML object>"
      ]
     },
     "metadata": {},
     "output_type": "display_data"
    },
    {
     "name": "stdout",
     "output_type": "stream",
     "text": [
      "Iter: 137\n",
      "======Direction: up======\n"
     ]
    },
    {
     "data": {
      "text/html": [
       "<h1>Score: 256</h1><table style=\"border: 5px solid black;\"><tr><td style=\"border:3px solid black; text-align:center;\"\n",
       "         width=\"40\" height=\"40\">256</td><td style=\"border:3px solid black; text-align:center;\"\n",
       "         width=\"40\" height=\"40\">32</td><td style=\"border:3px solid black; text-align:center;\"\n",
       "         width=\"40\" height=\"40\">4</td><td style=\"border:3px solid black; text-align:center;\"\n",
       "         width=\"40\" height=\"40\">4</td></tr><tr><td style=\"border:3px solid black; text-align:center;\"\n",
       "         width=\"40\" height=\"40\">64</td><td style=\"border:3px solid black; text-align:center;\"\n",
       "         width=\"40\" height=\"40\">32</td><td style=\"border:3px solid black; text-align:center;\"\n",
       "         width=\"40\" height=\"40\">4</td><td style=\"border:3px solid black; text-align:center;\"\n",
       "         width=\"40\" height=\"40\">2</td></tr><tr><td style=\"border:3px solid black; text-align:center;\"\n",
       "         width=\"40\" height=\"40\">16</td><td style=\"border:3px solid black; text-align:center;\"\n",
       "         width=\"40\" height=\"40\">2</td><td style=\"border:3px solid black; text-align:center;\"\n",
       "         width=\"40\" height=\"40\"></td><td style=\"border:3px solid black; text-align:center;\"\n",
       "         width=\"40\" height=\"40\">4</td></tr><tr><td style=\"border:3px solid black; text-align:center;\"\n",
       "         width=\"40\" height=\"40\">4</td><td style=\"border:3px solid black; text-align:center;\"\n",
       "         width=\"40\" height=\"40\"></td><td style=\"border:3px solid black; text-align:center;\"\n",
       "         width=\"40\" height=\"40\"></td><td style=\"border:3px solid black; text-align:center;\"\n",
       "         width=\"40\" height=\"40\"></td></tr></table>"
      ],
      "text/plain": [
       "<IPython.core.display.HTML object>"
      ]
     },
     "metadata": {},
     "output_type": "display_data"
    },
    {
     "name": "stdout",
     "output_type": "stream",
     "text": [
      "Iter: 138\n",
      "======Direction: up======\n"
     ]
    },
    {
     "data": {
      "text/html": [
       "<h1>Score: 256</h1><table style=\"border: 5px solid black;\"><tr><td style=\"border:3px solid black; text-align:center;\"\n",
       "         width=\"40\" height=\"40\">256</td><td style=\"border:3px solid black; text-align:center;\"\n",
       "         width=\"40\" height=\"40\">64</td><td style=\"border:3px solid black; text-align:center;\"\n",
       "         width=\"40\" height=\"40\">8</td><td style=\"border:3px solid black; text-align:center;\"\n",
       "         width=\"40\" height=\"40\">4</td></tr><tr><td style=\"border:3px solid black; text-align:center;\"\n",
       "         width=\"40\" height=\"40\">64</td><td style=\"border:3px solid black; text-align:center;\"\n",
       "         width=\"40\" height=\"40\">2</td><td style=\"border:3px solid black; text-align:center;\"\n",
       "         width=\"40\" height=\"40\"></td><td style=\"border:3px solid black; text-align:center;\"\n",
       "         width=\"40\" height=\"40\">2</td></tr><tr><td style=\"border:3px solid black; text-align:center;\"\n",
       "         width=\"40\" height=\"40\">16</td><td style=\"border:3px solid black; text-align:center;\"\n",
       "         width=\"40\" height=\"40\"></td><td style=\"border:3px solid black; text-align:center;\"\n",
       "         width=\"40\" height=\"40\"></td><td style=\"border:3px solid black; text-align:center;\"\n",
       "         width=\"40\" height=\"40\">4</td></tr><tr><td style=\"border:3px solid black; text-align:center;\"\n",
       "         width=\"40\" height=\"40\">4</td><td style=\"border:3px solid black; text-align:center;\"\n",
       "         width=\"40\" height=\"40\">2</td><td style=\"border:3px solid black; text-align:center;\"\n",
       "         width=\"40\" height=\"40\"></td><td style=\"border:3px solid black; text-align:center;\"\n",
       "         width=\"40\" height=\"40\"></td></tr></table>"
      ],
      "text/plain": [
       "<IPython.core.display.HTML object>"
      ]
     },
     "metadata": {},
     "output_type": "display_data"
    },
    {
     "name": "stdout",
     "output_type": "stream",
     "text": [
      "Iter: 139\n",
      "======Direction: down======\n"
     ]
    },
    {
     "data": {
      "text/html": [
       "<h1>Score: 256</h1><table style=\"border: 5px solid black;\"><tr><td style=\"border:3px solid black; text-align:center;\"\n",
       "         width=\"40\" height=\"40\">256</td><td style=\"border:3px solid black; text-align:center;\"\n",
       "         width=\"40\" height=\"40\"></td><td style=\"border:3px solid black; text-align:center;\"\n",
       "         width=\"40\" height=\"40\"></td><td style=\"border:3px solid black; text-align:center;\"\n",
       "         width=\"40\" height=\"40\"></td></tr><tr><td style=\"border:3px solid black; text-align:center;\"\n",
       "         width=\"40\" height=\"40\">64</td><td style=\"border:3px solid black; text-align:center;\"\n",
       "         width=\"40\" height=\"40\"></td><td style=\"border:3px solid black; text-align:center;\"\n",
       "         width=\"40\" height=\"40\">4</td><td style=\"border:3px solid black; text-align:center;\"\n",
       "         width=\"40\" height=\"40\">4</td></tr><tr><td style=\"border:3px solid black; text-align:center;\"\n",
       "         width=\"40\" height=\"40\">16</td><td style=\"border:3px solid black; text-align:center;\"\n",
       "         width=\"40\" height=\"40\">64</td><td style=\"border:3px solid black; text-align:center;\"\n",
       "         width=\"40\" height=\"40\"></td><td style=\"border:3px solid black; text-align:center;\"\n",
       "         width=\"40\" height=\"40\">2</td></tr><tr><td style=\"border:3px solid black; text-align:center;\"\n",
       "         width=\"40\" height=\"40\">4</td><td style=\"border:3px solid black; text-align:center;\"\n",
       "         width=\"40\" height=\"40\">4</td><td style=\"border:3px solid black; text-align:center;\"\n",
       "         width=\"40\" height=\"40\">8</td><td style=\"border:3px solid black; text-align:center;\"\n",
       "         width=\"40\" height=\"40\">4</td></tr></table>"
      ],
      "text/plain": [
       "<IPython.core.display.HTML object>"
      ]
     },
     "metadata": {},
     "output_type": "display_data"
    },
    {
     "name": "stdout",
     "output_type": "stream",
     "text": [
      "Iter: 140\n",
      "======Direction: up======\n"
     ]
    },
    {
     "data": {
      "text/html": [
       "<h1>Score: 256</h1><table style=\"border: 5px solid black;\"><tr><td style=\"border:3px solid black; text-align:center;\"\n",
       "         width=\"40\" height=\"40\">256</td><td style=\"border:3px solid black; text-align:center;\"\n",
       "         width=\"40\" height=\"40\">64</td><td style=\"border:3px solid black; text-align:center;\"\n",
       "         width=\"40\" height=\"40\">4</td><td style=\"border:3px solid black; text-align:center;\"\n",
       "         width=\"40\" height=\"40\">4</td></tr><tr><td style=\"border:3px solid black; text-align:center;\"\n",
       "         width=\"40\" height=\"40\">64</td><td style=\"border:3px solid black; text-align:center;\"\n",
       "         width=\"40\" height=\"40\">4</td><td style=\"border:3px solid black; text-align:center;\"\n",
       "         width=\"40\" height=\"40\">8</td><td style=\"border:3px solid black; text-align:center;\"\n",
       "         width=\"40\" height=\"40\">2</td></tr><tr><td style=\"border:3px solid black; text-align:center;\"\n",
       "         width=\"40\" height=\"40\">16</td><td style=\"border:3px solid black; text-align:center;\"\n",
       "         width=\"40\" height=\"40\">2</td><td style=\"border:3px solid black; text-align:center;\"\n",
       "         width=\"40\" height=\"40\"></td><td style=\"border:3px solid black; text-align:center;\"\n",
       "         width=\"40\" height=\"40\">4</td></tr><tr><td style=\"border:3px solid black; text-align:center;\"\n",
       "         width=\"40\" height=\"40\">4</td><td style=\"border:3px solid black; text-align:center;\"\n",
       "         width=\"40\" height=\"40\"></td><td style=\"border:3px solid black; text-align:center;\"\n",
       "         width=\"40\" height=\"40\"></td><td style=\"border:3px solid black; text-align:center;\"\n",
       "         width=\"40\" height=\"40\"></td></tr></table>"
      ],
      "text/plain": [
       "<IPython.core.display.HTML object>"
      ]
     },
     "metadata": {},
     "output_type": "display_data"
    },
    {
     "name": "stdout",
     "output_type": "stream",
     "text": [
      "Iter: 141\n",
      "======Direction: left======\n"
     ]
    },
    {
     "data": {
      "text/html": [
       "<h1>Score: 256</h1><table style=\"border: 5px solid black;\"><tr><td style=\"border:3px solid black; text-align:center;\"\n",
       "         width=\"40\" height=\"40\">256</td><td style=\"border:3px solid black; text-align:center;\"\n",
       "         width=\"40\" height=\"40\">64</td><td style=\"border:3px solid black; text-align:center;\"\n",
       "         width=\"40\" height=\"40\">8</td><td style=\"border:3px solid black; text-align:center;\"\n",
       "         width=\"40\" height=\"40\"></td></tr><tr><td style=\"border:3px solid black; text-align:center;\"\n",
       "         width=\"40\" height=\"40\">64</td><td style=\"border:3px solid black; text-align:center;\"\n",
       "         width=\"40\" height=\"40\">4</td><td style=\"border:3px solid black; text-align:center;\"\n",
       "         width=\"40\" height=\"40\">8</td><td style=\"border:3px solid black; text-align:center;\"\n",
       "         width=\"40\" height=\"40\">2</td></tr><tr><td style=\"border:3px solid black; text-align:center;\"\n",
       "         width=\"40\" height=\"40\">16</td><td style=\"border:3px solid black; text-align:center;\"\n",
       "         width=\"40\" height=\"40\">2</td><td style=\"border:3px solid black; text-align:center;\"\n",
       "         width=\"40\" height=\"40\">4</td><td style=\"border:3px solid black; text-align:center;\"\n",
       "         width=\"40\" height=\"40\">2</td></tr><tr><td style=\"border:3px solid black; text-align:center;\"\n",
       "         width=\"40\" height=\"40\">4</td><td style=\"border:3px solid black; text-align:center;\"\n",
       "         width=\"40\" height=\"40\"></td><td style=\"border:3px solid black; text-align:center;\"\n",
       "         width=\"40\" height=\"40\"></td><td style=\"border:3px solid black; text-align:center;\"\n",
       "         width=\"40\" height=\"40\"></td></tr></table>"
      ],
      "text/plain": [
       "<IPython.core.display.HTML object>"
      ]
     },
     "metadata": {},
     "output_type": "display_data"
    },
    {
     "name": "stdout",
     "output_type": "stream",
     "text": [
      "Iter: 142\n",
      "======Direction: up======\n"
     ]
    },
    {
     "data": {
      "text/html": [
       "<h1>Score: 256</h1><table style=\"border: 5px solid black;\"><tr><td style=\"border:3px solid black; text-align:center;\"\n",
       "         width=\"40\" height=\"40\">256</td><td style=\"border:3px solid black; text-align:center;\"\n",
       "         width=\"40\" height=\"40\">64</td><td style=\"border:3px solid black; text-align:center;\"\n",
       "         width=\"40\" height=\"40\">16</td><td style=\"border:3px solid black; text-align:center;\"\n",
       "         width=\"40\" height=\"40\">4</td></tr><tr><td style=\"border:3px solid black; text-align:center;\"\n",
       "         width=\"40\" height=\"40\">64</td><td style=\"border:3px solid black; text-align:center;\"\n",
       "         width=\"40\" height=\"40\">4</td><td style=\"border:3px solid black; text-align:center;\"\n",
       "         width=\"40\" height=\"40\">4</td><td style=\"border:3px solid black; text-align:center;\"\n",
       "         width=\"40\" height=\"40\"></td></tr><tr><td style=\"border:3px solid black; text-align:center;\"\n",
       "         width=\"40\" height=\"40\">16</td><td style=\"border:3px solid black; text-align:center;\"\n",
       "         width=\"40\" height=\"40\">2</td><td style=\"border:3px solid black; text-align:center;\"\n",
       "         width=\"40\" height=\"40\">2</td><td style=\"border:3px solid black; text-align:center;\"\n",
       "         width=\"40\" height=\"40\"></td></tr><tr><td style=\"border:3px solid black; text-align:center;\"\n",
       "         width=\"40\" height=\"40\">4</td><td style=\"border:3px solid black; text-align:center;\"\n",
       "         width=\"40\" height=\"40\"></td><td style=\"border:3px solid black; text-align:center;\"\n",
       "         width=\"40\" height=\"40\"></td><td style=\"border:3px solid black; text-align:center;\"\n",
       "         width=\"40\" height=\"40\"></td></tr></table>"
      ],
      "text/plain": [
       "<IPython.core.display.HTML object>"
      ]
     },
     "metadata": {},
     "output_type": "display_data"
    },
    {
     "name": "stdout",
     "output_type": "stream",
     "text": [
      "Iter: 143\n",
      "======Direction: left======\n"
     ]
    },
    {
     "data": {
      "text/html": [
       "<h1>Score: 256</h1><table style=\"border: 5px solid black;\"><tr><td style=\"border:3px solid black; text-align:center;\"\n",
       "         width=\"40\" height=\"40\">256</td><td style=\"border:3px solid black; text-align:center;\"\n",
       "         width=\"40\" height=\"40\">64</td><td style=\"border:3px solid black; text-align:center;\"\n",
       "         width=\"40\" height=\"40\">16</td><td style=\"border:3px solid black; text-align:center;\"\n",
       "         width=\"40\" height=\"40\">4</td></tr><tr><td style=\"border:3px solid black; text-align:center;\"\n",
       "         width=\"40\" height=\"40\">64</td><td style=\"border:3px solid black; text-align:center;\"\n",
       "         width=\"40\" height=\"40\">8</td><td style=\"border:3px solid black; text-align:center;\"\n",
       "         width=\"40\" height=\"40\"></td><td style=\"border:3px solid black; text-align:center;\"\n",
       "         width=\"40\" height=\"40\"></td></tr><tr><td style=\"border:3px solid black; text-align:center;\"\n",
       "         width=\"40\" height=\"40\">16</td><td style=\"border:3px solid black; text-align:center;\"\n",
       "         width=\"40\" height=\"40\">4</td><td style=\"border:3px solid black; text-align:center;\"\n",
       "         width=\"40\" height=\"40\"></td><td style=\"border:3px solid black; text-align:center;\"\n",
       "         width=\"40\" height=\"40\">4</td></tr><tr><td style=\"border:3px solid black; text-align:center;\"\n",
       "         width=\"40\" height=\"40\">4</td><td style=\"border:3px solid black; text-align:center;\"\n",
       "         width=\"40\" height=\"40\"></td><td style=\"border:3px solid black; text-align:center;\"\n",
       "         width=\"40\" height=\"40\"></td><td style=\"border:3px solid black; text-align:center;\"\n",
       "         width=\"40\" height=\"40\"></td></tr></table>"
      ],
      "text/plain": [
       "<IPython.core.display.HTML object>"
      ]
     },
     "metadata": {},
     "output_type": "display_data"
    },
    {
     "name": "stdout",
     "output_type": "stream",
     "text": [
      "Iter: 144\n",
      "======Direction: left======\n"
     ]
    },
    {
     "data": {
      "text/html": [
       "<h1>Score: 256</h1><table style=\"border: 5px solid black;\"><tr><td style=\"border:3px solid black; text-align:center;\"\n",
       "         width=\"40\" height=\"40\">256</td><td style=\"border:3px solid black; text-align:center;\"\n",
       "         width=\"40\" height=\"40\">64</td><td style=\"border:3px solid black; text-align:center;\"\n",
       "         width=\"40\" height=\"40\">16</td><td style=\"border:3px solid black; text-align:center;\"\n",
       "         width=\"40\" height=\"40\">4</td></tr><tr><td style=\"border:3px solid black; text-align:center;\"\n",
       "         width=\"40\" height=\"40\">64</td><td style=\"border:3px solid black; text-align:center;\"\n",
       "         width=\"40\" height=\"40\">8</td><td style=\"border:3px solid black; text-align:center;\"\n",
       "         width=\"40\" height=\"40\"></td><td style=\"border:3px solid black; text-align:center;\"\n",
       "         width=\"40\" height=\"40\">4</td></tr><tr><td style=\"border:3px solid black; text-align:center;\"\n",
       "         width=\"40\" height=\"40\">16</td><td style=\"border:3px solid black; text-align:center;\"\n",
       "         width=\"40\" height=\"40\">8</td><td style=\"border:3px solid black; text-align:center;\"\n",
       "         width=\"40\" height=\"40\"></td><td style=\"border:3px solid black; text-align:center;\"\n",
       "         width=\"40\" height=\"40\"></td></tr><tr><td style=\"border:3px solid black; text-align:center;\"\n",
       "         width=\"40\" height=\"40\">4</td><td style=\"border:3px solid black; text-align:center;\"\n",
       "         width=\"40\" height=\"40\"></td><td style=\"border:3px solid black; text-align:center;\"\n",
       "         width=\"40\" height=\"40\"></td><td style=\"border:3px solid black; text-align:center;\"\n",
       "         width=\"40\" height=\"40\"></td></tr></table>"
      ],
      "text/plain": [
       "<IPython.core.display.HTML object>"
      ]
     },
     "metadata": {},
     "output_type": "display_data"
    },
    {
     "name": "stdout",
     "output_type": "stream",
     "text": [
      "Iter: 145\n",
      "======Direction: left======\n"
     ]
    },
    {
     "data": {
      "text/html": [
       "<h1>Score: 256</h1><table style=\"border: 5px solid black;\"><tr><td style=\"border:3px solid black; text-align:center;\"\n",
       "         width=\"40\" height=\"40\">256</td><td style=\"border:3px solid black; text-align:center;\"\n",
       "         width=\"40\" height=\"40\">64</td><td style=\"border:3px solid black; text-align:center;\"\n",
       "         width=\"40\" height=\"40\">16</td><td style=\"border:3px solid black; text-align:center;\"\n",
       "         width=\"40\" height=\"40\">4</td></tr><tr><td style=\"border:3px solid black; text-align:center;\"\n",
       "         width=\"40\" height=\"40\">64</td><td style=\"border:3px solid black; text-align:center;\"\n",
       "         width=\"40\" height=\"40\">8</td><td style=\"border:3px solid black; text-align:center;\"\n",
       "         width=\"40\" height=\"40\">4</td><td style=\"border:3px solid black; text-align:center;\"\n",
       "         width=\"40\" height=\"40\"></td></tr><tr><td style=\"border:3px solid black; text-align:center;\"\n",
       "         width=\"40\" height=\"40\">16</td><td style=\"border:3px solid black; text-align:center;\"\n",
       "         width=\"40\" height=\"40\">8</td><td style=\"border:3px solid black; text-align:center;\"\n",
       "         width=\"40\" height=\"40\"></td><td style=\"border:3px solid black; text-align:center;\"\n",
       "         width=\"40\" height=\"40\"></td></tr><tr><td style=\"border:3px solid black; text-align:center;\"\n",
       "         width=\"40\" height=\"40\">4</td><td style=\"border:3px solid black; text-align:center;\"\n",
       "         width=\"40\" height=\"40\">4</td><td style=\"border:3px solid black; text-align:center;\"\n",
       "         width=\"40\" height=\"40\"></td><td style=\"border:3px solid black; text-align:center;\"\n",
       "         width=\"40\" height=\"40\"></td></tr></table>"
      ],
      "text/plain": [
       "<IPython.core.display.HTML object>"
      ]
     },
     "metadata": {},
     "output_type": "display_data"
    },
    {
     "name": "stdout",
     "output_type": "stream",
     "text": [
      "Iter: 146\n",
      "======Direction: up======\n"
     ]
    },
    {
     "data": {
      "text/html": [
       "<h1>Score: 256</h1><table style=\"border: 5px solid black;\"><tr><td style=\"border:3px solid black; text-align:center;\"\n",
       "         width=\"40\" height=\"40\">256</td><td style=\"border:3px solid black; text-align:center;\"\n",
       "         width=\"40\" height=\"40\">64</td><td style=\"border:3px solid black; text-align:center;\"\n",
       "         width=\"40\" height=\"40\">16</td><td style=\"border:3px solid black; text-align:center;\"\n",
       "         width=\"40\" height=\"40\">4</td></tr><tr><td style=\"border:3px solid black; text-align:center;\"\n",
       "         width=\"40\" height=\"40\">64</td><td style=\"border:3px solid black; text-align:center;\"\n",
       "         width=\"40\" height=\"40\">16</td><td style=\"border:3px solid black; text-align:center;\"\n",
       "         width=\"40\" height=\"40\">4</td><td style=\"border:3px solid black; text-align:center;\"\n",
       "         width=\"40\" height=\"40\">4</td></tr><tr><td style=\"border:3px solid black; text-align:center;\"\n",
       "         width=\"40\" height=\"40\">16</td><td style=\"border:3px solid black; text-align:center;\"\n",
       "         width=\"40\" height=\"40\">4</td><td style=\"border:3px solid black; text-align:center;\"\n",
       "         width=\"40\" height=\"40\"></td><td style=\"border:3px solid black; text-align:center;\"\n",
       "         width=\"40\" height=\"40\"></td></tr><tr><td style=\"border:3px solid black; text-align:center;\"\n",
       "         width=\"40\" height=\"40\">4</td><td style=\"border:3px solid black; text-align:center;\"\n",
       "         width=\"40\" height=\"40\"></td><td style=\"border:3px solid black; text-align:center;\"\n",
       "         width=\"40\" height=\"40\"></td><td style=\"border:3px solid black; text-align:center;\"\n",
       "         width=\"40\" height=\"40\"></td></tr></table>"
      ],
      "text/plain": [
       "<IPython.core.display.HTML object>"
      ]
     },
     "metadata": {},
     "output_type": "display_data"
    },
    {
     "name": "stdout",
     "output_type": "stream",
     "text": [
      "Iter: 147\n",
      "======Direction: down======\n"
     ]
    },
    {
     "data": {
      "text/html": [
       "<h1>Score: 256</h1><table style=\"border: 5px solid black;\"><tr><td style=\"border:3px solid black; text-align:center;\"\n",
       "         width=\"40\" height=\"40\">256</td><td style=\"border:3px solid black; text-align:center;\"\n",
       "         width=\"40\" height=\"40\"></td><td style=\"border:3px solid black; text-align:center;\"\n",
       "         width=\"40\" height=\"40\"></td><td style=\"border:3px solid black; text-align:center;\"\n",
       "         width=\"40\" height=\"40\">2</td></tr><tr><td style=\"border:3px solid black; text-align:center;\"\n",
       "         width=\"40\" height=\"40\">64</td><td style=\"border:3px solid black; text-align:center;\"\n",
       "         width=\"40\" height=\"40\">64</td><td style=\"border:3px solid black; text-align:center;\"\n",
       "         width=\"40\" height=\"40\"></td><td style=\"border:3px solid black; text-align:center;\"\n",
       "         width=\"40\" height=\"40\"></td></tr><tr><td style=\"border:3px solid black; text-align:center;\"\n",
       "         width=\"40\" height=\"40\">16</td><td style=\"border:3px solid black; text-align:center;\"\n",
       "         width=\"40\" height=\"40\">16</td><td style=\"border:3px solid black; text-align:center;\"\n",
       "         width=\"40\" height=\"40\">16</td><td style=\"border:3px solid black; text-align:center;\"\n",
       "         width=\"40\" height=\"40\"></td></tr><tr><td style=\"border:3px solid black; text-align:center;\"\n",
       "         width=\"40\" height=\"40\">4</td><td style=\"border:3px solid black; text-align:center;\"\n",
       "         width=\"40\" height=\"40\">4</td><td style=\"border:3px solid black; text-align:center;\"\n",
       "         width=\"40\" height=\"40\">4</td><td style=\"border:3px solid black; text-align:center;\"\n",
       "         width=\"40\" height=\"40\">8</td></tr></table>"
      ],
      "text/plain": [
       "<IPython.core.display.HTML object>"
      ]
     },
     "metadata": {},
     "output_type": "display_data"
    },
    {
     "name": "stdout",
     "output_type": "stream",
     "text": [
      "Iter: 148\n",
      "======Direction: left======\n"
     ]
    },
    {
     "data": {
      "text/html": [
       "<h1>Score: 256</h1><table style=\"border: 5px solid black;\"><tr><td style=\"border:3px solid black; text-align:center;\"\n",
       "         width=\"40\" height=\"40\">256</td><td style=\"border:3px solid black; text-align:center;\"\n",
       "         width=\"40\" height=\"40\">2</td><td style=\"border:3px solid black; text-align:center;\"\n",
       "         width=\"40\" height=\"40\"></td><td style=\"border:3px solid black; text-align:center;\"\n",
       "         width=\"40\" height=\"40\"></td></tr><tr><td style=\"border:3px solid black; text-align:center;\"\n",
       "         width=\"40\" height=\"40\">128</td><td style=\"border:3px solid black; text-align:center;\"\n",
       "         width=\"40\" height=\"40\"></td><td style=\"border:3px solid black; text-align:center;\"\n",
       "         width=\"40\" height=\"40\"></td><td style=\"border:3px solid black; text-align:center;\"\n",
       "         width=\"40\" height=\"40\">4</td></tr><tr><td style=\"border:3px solid black; text-align:center;\"\n",
       "         width=\"40\" height=\"40\">32</td><td style=\"border:3px solid black; text-align:center;\"\n",
       "         width=\"40\" height=\"40\">16</td><td style=\"border:3px solid black; text-align:center;\"\n",
       "         width=\"40\" height=\"40\"></td><td style=\"border:3px solid black; text-align:center;\"\n",
       "         width=\"40\" height=\"40\"></td></tr><tr><td style=\"border:3px solid black; text-align:center;\"\n",
       "         width=\"40\" height=\"40\">8</td><td style=\"border:3px solid black; text-align:center;\"\n",
       "         width=\"40\" height=\"40\">4</td><td style=\"border:3px solid black; text-align:center;\"\n",
       "         width=\"40\" height=\"40\">8</td><td style=\"border:3px solid black; text-align:center;\"\n",
       "         width=\"40\" height=\"40\"></td></tr></table>"
      ],
      "text/plain": [
       "<IPython.core.display.HTML object>"
      ]
     },
     "metadata": {},
     "output_type": "display_data"
    },
    {
     "name": "stdout",
     "output_type": "stream",
     "text": [
      "Iter: 149\n",
      "======Direction: left======\n"
     ]
    },
    {
     "data": {
      "text/html": [
       "<h1>Score: 256</h1><table style=\"border: 5px solid black;\"><tr><td style=\"border:3px solid black; text-align:center;\"\n",
       "         width=\"40\" height=\"40\">256</td><td style=\"border:3px solid black; text-align:center;\"\n",
       "         width=\"40\" height=\"40\">2</td><td style=\"border:3px solid black; text-align:center;\"\n",
       "         width=\"40\" height=\"40\"></td><td style=\"border:3px solid black; text-align:center;\"\n",
       "         width=\"40\" height=\"40\"></td></tr><tr><td style=\"border:3px solid black; text-align:center;\"\n",
       "         width=\"40\" height=\"40\">128</td><td style=\"border:3px solid black; text-align:center;\"\n",
       "         width=\"40\" height=\"40\">4</td><td style=\"border:3px solid black; text-align:center;\"\n",
       "         width=\"40\" height=\"40\"></td><td style=\"border:3px solid black; text-align:center;\"\n",
       "         width=\"40\" height=\"40\">2</td></tr><tr><td style=\"border:3px solid black; text-align:center;\"\n",
       "         width=\"40\" height=\"40\">32</td><td style=\"border:3px solid black; text-align:center;\"\n",
       "         width=\"40\" height=\"40\">16</td><td style=\"border:3px solid black; text-align:center;\"\n",
       "         width=\"40\" height=\"40\"></td><td style=\"border:3px solid black; text-align:center;\"\n",
       "         width=\"40\" height=\"40\"></td></tr><tr><td style=\"border:3px solid black; text-align:center;\"\n",
       "         width=\"40\" height=\"40\">8</td><td style=\"border:3px solid black; text-align:center;\"\n",
       "         width=\"40\" height=\"40\">4</td><td style=\"border:3px solid black; text-align:center;\"\n",
       "         width=\"40\" height=\"40\">8</td><td style=\"border:3px solid black; text-align:center;\"\n",
       "         width=\"40\" height=\"40\"></td></tr></table>"
      ],
      "text/plain": [
       "<IPython.core.display.HTML object>"
      ]
     },
     "metadata": {},
     "output_type": "display_data"
    },
    {
     "name": "stdout",
     "output_type": "stream",
     "text": [
      "Iter: 150\n",
      "======Direction: left======\n"
     ]
    },
    {
     "data": {
      "text/html": [
       "<h1>Score: 256</h1><table style=\"border: 5px solid black;\"><tr><td style=\"border:3px solid black; text-align:center;\"\n",
       "         width=\"40\" height=\"40\">256</td><td style=\"border:3px solid black; text-align:center;\"\n",
       "         width=\"40\" height=\"40\">2</td><td style=\"border:3px solid black; text-align:center;\"\n",
       "         width=\"40\" height=\"40\"></td><td style=\"border:3px solid black; text-align:center;\"\n",
       "         width=\"40\" height=\"40\"></td></tr><tr><td style=\"border:3px solid black; text-align:center;\"\n",
       "         width=\"40\" height=\"40\">128</td><td style=\"border:3px solid black; text-align:center;\"\n",
       "         width=\"40\" height=\"40\">4</td><td style=\"border:3px solid black; text-align:center;\"\n",
       "         width=\"40\" height=\"40\">2</td><td style=\"border:3px solid black; text-align:center;\"\n",
       "         width=\"40\" height=\"40\"></td></tr><tr><td style=\"border:3px solid black; text-align:center;\"\n",
       "         width=\"40\" height=\"40\">32</td><td style=\"border:3px solid black; text-align:center;\"\n",
       "         width=\"40\" height=\"40\">16</td><td style=\"border:3px solid black; text-align:center;\"\n",
       "         width=\"40\" height=\"40\">2</td><td style=\"border:3px solid black; text-align:center;\"\n",
       "         width=\"40\" height=\"40\"></td></tr><tr><td style=\"border:3px solid black; text-align:center;\"\n",
       "         width=\"40\" height=\"40\">8</td><td style=\"border:3px solid black; text-align:center;\"\n",
       "         width=\"40\" height=\"40\">4</td><td style=\"border:3px solid black; text-align:center;\"\n",
       "         width=\"40\" height=\"40\">8</td><td style=\"border:3px solid black; text-align:center;\"\n",
       "         width=\"40\" height=\"40\"></td></tr></table>"
      ],
      "text/plain": [
       "<IPython.core.display.HTML object>"
      ]
     },
     "metadata": {},
     "output_type": "display_data"
    },
    {
     "name": "stdout",
     "output_type": "stream",
     "text": [
      "Iter: 151\n",
      "======Direction: down======\n"
     ]
    },
    {
     "data": {
      "text/html": [
       "<h1>Score: 256</h1><table style=\"border: 5px solid black;\"><tr><td style=\"border:3px solid black; text-align:center;\"\n",
       "         width=\"40\" height=\"40\">256</td><td style=\"border:3px solid black; text-align:center;\"\n",
       "         width=\"40\" height=\"40\">2</td><td style=\"border:3px solid black; text-align:center;\"\n",
       "         width=\"40\" height=\"40\">4</td><td style=\"border:3px solid black; text-align:center;\"\n",
       "         width=\"40\" height=\"40\"></td></tr><tr><td style=\"border:3px solid black; text-align:center;\"\n",
       "         width=\"40\" height=\"40\">128</td><td style=\"border:3px solid black; text-align:center;\"\n",
       "         width=\"40\" height=\"40\">4</td><td style=\"border:3px solid black; text-align:center;\"\n",
       "         width=\"40\" height=\"40\"></td><td style=\"border:3px solid black; text-align:center;\"\n",
       "         width=\"40\" height=\"40\"></td></tr><tr><td style=\"border:3px solid black; text-align:center;\"\n",
       "         width=\"40\" height=\"40\">32</td><td style=\"border:3px solid black; text-align:center;\"\n",
       "         width=\"40\" height=\"40\">16</td><td style=\"border:3px solid black; text-align:center;\"\n",
       "         width=\"40\" height=\"40\">4</td><td style=\"border:3px solid black; text-align:center;\"\n",
       "         width=\"40\" height=\"40\"></td></tr><tr><td style=\"border:3px solid black; text-align:center;\"\n",
       "         width=\"40\" height=\"40\">8</td><td style=\"border:3px solid black; text-align:center;\"\n",
       "         width=\"40\" height=\"40\">4</td><td style=\"border:3px solid black; text-align:center;\"\n",
       "         width=\"40\" height=\"40\">8</td><td style=\"border:3px solid black; text-align:center;\"\n",
       "         width=\"40\" height=\"40\"></td></tr></table>"
      ],
      "text/plain": [
       "<IPython.core.display.HTML object>"
      ]
     },
     "metadata": {},
     "output_type": "display_data"
    },
    {
     "name": "stdout",
     "output_type": "stream",
     "text": [
      "Iter: 152\n",
      "======Direction: down======\n"
     ]
    },
    {
     "data": {
      "text/html": [
       "<h1>Score: 256</h1><table style=\"border: 5px solid black;\"><tr><td style=\"border:3px solid black; text-align:center;\"\n",
       "         width=\"40\" height=\"40\">256</td><td style=\"border:3px solid black; text-align:center;\"\n",
       "         width=\"40\" height=\"40\">2</td><td style=\"border:3px solid black; text-align:center;\"\n",
       "         width=\"40\" height=\"40\"></td><td style=\"border:3px solid black; text-align:center;\"\n",
       "         width=\"40\" height=\"40\">4</td></tr><tr><td style=\"border:3px solid black; text-align:center;\"\n",
       "         width=\"40\" height=\"40\">128</td><td style=\"border:3px solid black; text-align:center;\"\n",
       "         width=\"40\" height=\"40\">4</td><td style=\"border:3px solid black; text-align:center;\"\n",
       "         width=\"40\" height=\"40\"></td><td style=\"border:3px solid black; text-align:center;\"\n",
       "         width=\"40\" height=\"40\"></td></tr><tr><td style=\"border:3px solid black; text-align:center;\"\n",
       "         width=\"40\" height=\"40\">32</td><td style=\"border:3px solid black; text-align:center;\"\n",
       "         width=\"40\" height=\"40\">16</td><td style=\"border:3px solid black; text-align:center;\"\n",
       "         width=\"40\" height=\"40\">8</td><td style=\"border:3px solid black; text-align:center;\"\n",
       "         width=\"40\" height=\"40\"></td></tr><tr><td style=\"border:3px solid black; text-align:center;\"\n",
       "         width=\"40\" height=\"40\">8</td><td style=\"border:3px solid black; text-align:center;\"\n",
       "         width=\"40\" height=\"40\">4</td><td style=\"border:3px solid black; text-align:center;\"\n",
       "         width=\"40\" height=\"40\">8</td><td style=\"border:3px solid black; text-align:center;\"\n",
       "         width=\"40\" height=\"40\"></td></tr></table>"
      ],
      "text/plain": [
       "<IPython.core.display.HTML object>"
      ]
     },
     "metadata": {},
     "output_type": "display_data"
    },
    {
     "name": "stdout",
     "output_type": "stream",
     "text": [
      "Iter: 153\n",
      "======Direction: left======\n"
     ]
    },
    {
     "data": {
      "text/html": [
       "<h1>Score: 256</h1><table style=\"border: 5px solid black;\"><tr><td style=\"border:3px solid black; text-align:center;\"\n",
       "         width=\"40\" height=\"40\">256</td><td style=\"border:3px solid black; text-align:center;\"\n",
       "         width=\"40\" height=\"40\">2</td><td style=\"border:3px solid black; text-align:center;\"\n",
       "         width=\"40\" height=\"40\">4</td><td style=\"border:3px solid black; text-align:center;\"\n",
       "         width=\"40\" height=\"40\">2</td></tr><tr><td style=\"border:3px solid black; text-align:center;\"\n",
       "         width=\"40\" height=\"40\">128</td><td style=\"border:3px solid black; text-align:center;\"\n",
       "         width=\"40\" height=\"40\">4</td><td style=\"border:3px solid black; text-align:center;\"\n",
       "         width=\"40\" height=\"40\"></td><td style=\"border:3px solid black; text-align:center;\"\n",
       "         width=\"40\" height=\"40\"></td></tr><tr><td style=\"border:3px solid black; text-align:center;\"\n",
       "         width=\"40\" height=\"40\">32</td><td style=\"border:3px solid black; text-align:center;\"\n",
       "         width=\"40\" height=\"40\">16</td><td style=\"border:3px solid black; text-align:center;\"\n",
       "         width=\"40\" height=\"40\">8</td><td style=\"border:3px solid black; text-align:center;\"\n",
       "         width=\"40\" height=\"40\"></td></tr><tr><td style=\"border:3px solid black; text-align:center;\"\n",
       "         width=\"40\" height=\"40\">8</td><td style=\"border:3px solid black; text-align:center;\"\n",
       "         width=\"40\" height=\"40\">4</td><td style=\"border:3px solid black; text-align:center;\"\n",
       "         width=\"40\" height=\"40\">8</td><td style=\"border:3px solid black; text-align:center;\"\n",
       "         width=\"40\" height=\"40\"></td></tr></table>"
      ],
      "text/plain": [
       "<IPython.core.display.HTML object>"
      ]
     },
     "metadata": {},
     "output_type": "display_data"
    },
    {
     "name": "stdout",
     "output_type": "stream",
     "text": [
      "Iter: 154\n",
      "======Direction: down======\n"
     ]
    },
    {
     "data": {
      "text/html": [
       "<h1>Score: 256</h1><table style=\"border: 5px solid black;\"><tr><td style=\"border:3px solid black; text-align:center;\"\n",
       "         width=\"40\" height=\"40\">256</td><td style=\"border:3px solid black; text-align:center;\"\n",
       "         width=\"40\" height=\"40\">2</td><td style=\"border:3px solid black; text-align:center;\"\n",
       "         width=\"40\" height=\"40\"></td><td style=\"border:3px solid black; text-align:center;\"\n",
       "         width=\"40\" height=\"40\"></td></tr><tr><td style=\"border:3px solid black; text-align:center;\"\n",
       "         width=\"40\" height=\"40\">128</td><td style=\"border:3px solid black; text-align:center;\"\n",
       "         width=\"40\" height=\"40\">4</td><td style=\"border:3px solid black; text-align:center;\"\n",
       "         width=\"40\" height=\"40\"></td><td style=\"border:3px solid black; text-align:center;\"\n",
       "         width=\"40\" height=\"40\"></td></tr><tr><td style=\"border:3px solid black; text-align:center;\"\n",
       "         width=\"40\" height=\"40\">32</td><td style=\"border:3px solid black; text-align:center;\"\n",
       "         width=\"40\" height=\"40\">16</td><td style=\"border:3px solid black; text-align:center;\"\n",
       "         width=\"40\" height=\"40\">4</td><td style=\"border:3px solid black; text-align:center;\"\n",
       "         width=\"40\" height=\"40\">2</td></tr><tr><td style=\"border:3px solid black; text-align:center;\"\n",
       "         width=\"40\" height=\"40\">8</td><td style=\"border:3px solid black; text-align:center;\"\n",
       "         width=\"40\" height=\"40\">4</td><td style=\"border:3px solid black; text-align:center;\"\n",
       "         width=\"40\" height=\"40\">16</td><td style=\"border:3px solid black; text-align:center;\"\n",
       "         width=\"40\" height=\"40\">2</td></tr></table>"
      ],
      "text/plain": [
       "<IPython.core.display.HTML object>"
      ]
     },
     "metadata": {},
     "output_type": "display_data"
    },
    {
     "name": "stdout",
     "output_type": "stream",
     "text": [
      "Iter: 155\n",
      "======Direction: down======\n"
     ]
    },
    {
     "data": {
      "text/html": [
       "<h1>Score: 256</h1><table style=\"border: 5px solid black;\"><tr><td style=\"border:3px solid black; text-align:center;\"\n",
       "         width=\"40\" height=\"40\">256</td><td style=\"border:3px solid black; text-align:center;\"\n",
       "         width=\"40\" height=\"40\">2</td><td style=\"border:3px solid black; text-align:center;\"\n",
       "         width=\"40\" height=\"40\">2</td><td style=\"border:3px solid black; text-align:center;\"\n",
       "         width=\"40\" height=\"40\"></td></tr><tr><td style=\"border:3px solid black; text-align:center;\"\n",
       "         width=\"40\" height=\"40\">128</td><td style=\"border:3px solid black; text-align:center;\"\n",
       "         width=\"40\" height=\"40\">4</td><td style=\"border:3px solid black; text-align:center;\"\n",
       "         width=\"40\" height=\"40\"></td><td style=\"border:3px solid black; text-align:center;\"\n",
       "         width=\"40\" height=\"40\"></td></tr><tr><td style=\"border:3px solid black; text-align:center;\"\n",
       "         width=\"40\" height=\"40\">32</td><td style=\"border:3px solid black; text-align:center;\"\n",
       "         width=\"40\" height=\"40\">16</td><td style=\"border:3px solid black; text-align:center;\"\n",
       "         width=\"40\" height=\"40\">4</td><td style=\"border:3px solid black; text-align:center;\"\n",
       "         width=\"40\" height=\"40\"></td></tr><tr><td style=\"border:3px solid black; text-align:center;\"\n",
       "         width=\"40\" height=\"40\">8</td><td style=\"border:3px solid black; text-align:center;\"\n",
       "         width=\"40\" height=\"40\">4</td><td style=\"border:3px solid black; text-align:center;\"\n",
       "         width=\"40\" height=\"40\">16</td><td style=\"border:3px solid black; text-align:center;\"\n",
       "         width=\"40\" height=\"40\">4</td></tr></table>"
      ],
      "text/plain": [
       "<IPython.core.display.HTML object>"
      ]
     },
     "metadata": {},
     "output_type": "display_data"
    },
    {
     "name": "stdout",
     "output_type": "stream",
     "text": [
      "Iter: 156\n",
      "======Direction: up======\n"
     ]
    },
    {
     "data": {
      "text/html": [
       "<h1>Score: 256</h1><table style=\"border: 5px solid black;\"><tr><td style=\"border:3px solid black; text-align:center;\"\n",
       "         width=\"40\" height=\"40\">256</td><td style=\"border:3px solid black; text-align:center;\"\n",
       "         width=\"40\" height=\"40\">2</td><td style=\"border:3px solid black; text-align:center;\"\n",
       "         width=\"40\" height=\"40\">2</td><td style=\"border:3px solid black; text-align:center;\"\n",
       "         width=\"40\" height=\"40\">4</td></tr><tr><td style=\"border:3px solid black; text-align:center;\"\n",
       "         width=\"40\" height=\"40\">128</td><td style=\"border:3px solid black; text-align:center;\"\n",
       "         width=\"40\" height=\"40\">4</td><td style=\"border:3px solid black; text-align:center;\"\n",
       "         width=\"40\" height=\"40\">4</td><td style=\"border:3px solid black; text-align:center;\"\n",
       "         width=\"40\" height=\"40\">2</td></tr><tr><td style=\"border:3px solid black; text-align:center;\"\n",
       "         width=\"40\" height=\"40\">32</td><td style=\"border:3px solid black; text-align:center;\"\n",
       "         width=\"40\" height=\"40\">16</td><td style=\"border:3px solid black; text-align:center;\"\n",
       "         width=\"40\" height=\"40\">16</td><td style=\"border:3px solid black; text-align:center;\"\n",
       "         width=\"40\" height=\"40\"></td></tr><tr><td style=\"border:3px solid black; text-align:center;\"\n",
       "         width=\"40\" height=\"40\">8</td><td style=\"border:3px solid black; text-align:center;\"\n",
       "         width=\"40\" height=\"40\">4</td><td style=\"border:3px solid black; text-align:center;\"\n",
       "         width=\"40\" height=\"40\"></td><td style=\"border:3px solid black; text-align:center;\"\n",
       "         width=\"40\" height=\"40\"></td></tr></table>"
      ],
      "text/plain": [
       "<IPython.core.display.HTML object>"
      ]
     },
     "metadata": {},
     "output_type": "display_data"
    },
    {
     "name": "stdout",
     "output_type": "stream",
     "text": [
      "Iter: 157\n",
      "======Direction: left======\n"
     ]
    },
    {
     "data": {
      "text/html": [
       "<h1>Score: 256</h1><table style=\"border: 5px solid black;\"><tr><td style=\"border:3px solid black; text-align:center;\"\n",
       "         width=\"40\" height=\"40\">256</td><td style=\"border:3px solid black; text-align:center;\"\n",
       "         width=\"40\" height=\"40\">4</td><td style=\"border:3px solid black; text-align:center;\"\n",
       "         width=\"40\" height=\"40\">4</td><td style=\"border:3px solid black; text-align:center;\"\n",
       "         width=\"40\" height=\"40\"></td></tr><tr><td style=\"border:3px solid black; text-align:center;\"\n",
       "         width=\"40\" height=\"40\">128</td><td style=\"border:3px solid black; text-align:center;\"\n",
       "         width=\"40\" height=\"40\">8</td><td style=\"border:3px solid black; text-align:center;\"\n",
       "         width=\"40\" height=\"40\">2</td><td style=\"border:3px solid black; text-align:center;\"\n",
       "         width=\"40\" height=\"40\"></td></tr><tr><td style=\"border:3px solid black; text-align:center;\"\n",
       "         width=\"40\" height=\"40\">32</td><td style=\"border:3px solid black; text-align:center;\"\n",
       "         width=\"40\" height=\"40\">32</td><td style=\"border:3px solid black; text-align:center;\"\n",
       "         width=\"40\" height=\"40\">2</td><td style=\"border:3px solid black; text-align:center;\"\n",
       "         width=\"40\" height=\"40\"></td></tr><tr><td style=\"border:3px solid black; text-align:center;\"\n",
       "         width=\"40\" height=\"40\">8</td><td style=\"border:3px solid black; text-align:center;\"\n",
       "         width=\"40\" height=\"40\">4</td><td style=\"border:3px solid black; text-align:center;\"\n",
       "         width=\"40\" height=\"40\"></td><td style=\"border:3px solid black; text-align:center;\"\n",
       "         width=\"40\" height=\"40\"></td></tr></table>"
      ],
      "text/plain": [
       "<IPython.core.display.HTML object>"
      ]
     },
     "metadata": {},
     "output_type": "display_data"
    },
    {
     "name": "stdout",
     "output_type": "stream",
     "text": [
      "Iter: 158\n",
      "======Direction: up======\n"
     ]
    },
    {
     "data": {
      "text/html": [
       "<h1>Score: 256</h1><table style=\"border: 5px solid black;\"><tr><td style=\"border:3px solid black; text-align:center;\"\n",
       "         width=\"40\" height=\"40\">256</td><td style=\"border:3px solid black; text-align:center;\"\n",
       "         width=\"40\" height=\"40\">4</td><td style=\"border:3px solid black; text-align:center;\"\n",
       "         width=\"40\" height=\"40\">4</td><td style=\"border:3px solid black; text-align:center;\"\n",
       "         width=\"40\" height=\"40\"></td></tr><tr><td style=\"border:3px solid black; text-align:center;\"\n",
       "         width=\"40\" height=\"40\">128</td><td style=\"border:3px solid black; text-align:center;\"\n",
       "         width=\"40\" height=\"40\">8</td><td style=\"border:3px solid black; text-align:center;\"\n",
       "         width=\"40\" height=\"40\">4</td><td style=\"border:3px solid black; text-align:center;\"\n",
       "         width=\"40\" height=\"40\"></td></tr><tr><td style=\"border:3px solid black; text-align:center;\"\n",
       "         width=\"40\" height=\"40\">32</td><td style=\"border:3px solid black; text-align:center;\"\n",
       "         width=\"40\" height=\"40\">32</td><td style=\"border:3px solid black; text-align:center;\"\n",
       "         width=\"40\" height=\"40\"></td><td style=\"border:3px solid black; text-align:center;\"\n",
       "         width=\"40\" height=\"40\"></td></tr><tr><td style=\"border:3px solid black; text-align:center;\"\n",
       "         width=\"40\" height=\"40\">8</td><td style=\"border:3px solid black; text-align:center;\"\n",
       "         width=\"40\" height=\"40\">4</td><td style=\"border:3px solid black; text-align:center;\"\n",
       "         width=\"40\" height=\"40\">4</td><td style=\"border:3px solid black; text-align:center;\"\n",
       "         width=\"40\" height=\"40\"></td></tr></table>"
      ],
      "text/plain": [
       "<IPython.core.display.HTML object>"
      ]
     },
     "metadata": {},
     "output_type": "display_data"
    },
    {
     "name": "stdout",
     "output_type": "stream",
     "text": [
      "Iter: 159\n",
      "======Direction: left======\n"
     ]
    },
    {
     "data": {
      "text/html": [
       "<h1>Score: 256</h1><table style=\"border: 5px solid black;\"><tr><td style=\"border:3px solid black; text-align:center;\"\n",
       "         width=\"40\" height=\"40\">256</td><td style=\"border:3px solid black; text-align:center;\"\n",
       "         width=\"40\" height=\"40\">8</td><td style=\"border:3px solid black; text-align:center;\"\n",
       "         width=\"40\" height=\"40\"></td><td style=\"border:3px solid black; text-align:center;\"\n",
       "         width=\"40\" height=\"40\">2</td></tr><tr><td style=\"border:3px solid black; text-align:center;\"\n",
       "         width=\"40\" height=\"40\">128</td><td style=\"border:3px solid black; text-align:center;\"\n",
       "         width=\"40\" height=\"40\">8</td><td style=\"border:3px solid black; text-align:center;\"\n",
       "         width=\"40\" height=\"40\">4</td><td style=\"border:3px solid black; text-align:center;\"\n",
       "         width=\"40\" height=\"40\"></td></tr><tr><td style=\"border:3px solid black; text-align:center;\"\n",
       "         width=\"40\" height=\"40\">64</td><td style=\"border:3px solid black; text-align:center;\"\n",
       "         width=\"40\" height=\"40\"></td><td style=\"border:3px solid black; text-align:center;\"\n",
       "         width=\"40\" height=\"40\"></td><td style=\"border:3px solid black; text-align:center;\"\n",
       "         width=\"40\" height=\"40\"></td></tr><tr><td style=\"border:3px solid black; text-align:center;\"\n",
       "         width=\"40\" height=\"40\">8</td><td style=\"border:3px solid black; text-align:center;\"\n",
       "         width=\"40\" height=\"40\">8</td><td style=\"border:3px solid black; text-align:center;\"\n",
       "         width=\"40\" height=\"40\"></td><td style=\"border:3px solid black; text-align:center;\"\n",
       "         width=\"40\" height=\"40\"></td></tr></table>"
      ],
      "text/plain": [
       "<IPython.core.display.HTML object>"
      ]
     },
     "metadata": {},
     "output_type": "display_data"
    },
    {
     "name": "stdout",
     "output_type": "stream",
     "text": [
      "Iter: 160\n",
      "======Direction: up======\n"
     ]
    },
    {
     "data": {
      "text/html": [
       "<h1>Score: 256</h1><table style=\"border: 5px solid black;\"><tr><td style=\"border:3px solid black; text-align:center;\"\n",
       "         width=\"40\" height=\"40\">256</td><td style=\"border:3px solid black; text-align:center;\"\n",
       "         width=\"40\" height=\"40\">16</td><td style=\"border:3px solid black; text-align:center;\"\n",
       "         width=\"40\" height=\"40\">4</td><td style=\"border:3px solid black; text-align:center;\"\n",
       "         width=\"40\" height=\"40\">2</td></tr><tr><td style=\"border:3px solid black; text-align:center;\"\n",
       "         width=\"40\" height=\"40\">128</td><td style=\"border:3px solid black; text-align:center;\"\n",
       "         width=\"40\" height=\"40\">8</td><td style=\"border:3px solid black; text-align:center;\"\n",
       "         width=\"40\" height=\"40\"></td><td style=\"border:3px solid black; text-align:center;\"\n",
       "         width=\"40\" height=\"40\"></td></tr><tr><td style=\"border:3px solid black; text-align:center;\"\n",
       "         width=\"40\" height=\"40\">64</td><td style=\"border:3px solid black; text-align:center;\"\n",
       "         width=\"40\" height=\"40\"></td><td style=\"border:3px solid black; text-align:center;\"\n",
       "         width=\"40\" height=\"40\"></td><td style=\"border:3px solid black; text-align:center;\"\n",
       "         width=\"40\" height=\"40\"></td></tr><tr><td style=\"border:3px solid black; text-align:center;\"\n",
       "         width=\"40\" height=\"40\">8</td><td style=\"border:3px solid black; text-align:center;\"\n",
       "         width=\"40\" height=\"40\">4</td><td style=\"border:3px solid black; text-align:center;\"\n",
       "         width=\"40\" height=\"40\"></td><td style=\"border:3px solid black; text-align:center;\"\n",
       "         width=\"40\" height=\"40\"></td></tr></table>"
      ],
      "text/plain": [
       "<IPython.core.display.HTML object>"
      ]
     },
     "metadata": {},
     "output_type": "display_data"
    },
    {
     "name": "stdout",
     "output_type": "stream",
     "text": [
      "Iter: 161\n",
      "======Direction: up======\n"
     ]
    },
    {
     "data": {
      "text/html": [
       "<h1>Score: 256</h1><table style=\"border: 5px solid black;\"><tr><td style=\"border:3px solid black; text-align:center;\"\n",
       "         width=\"40\" height=\"40\">256</td><td style=\"border:3px solid black; text-align:center;\"\n",
       "         width=\"40\" height=\"40\">16</td><td style=\"border:3px solid black; text-align:center;\"\n",
       "         width=\"40\" height=\"40\">4</td><td style=\"border:3px solid black; text-align:center;\"\n",
       "         width=\"40\" height=\"40\">2</td></tr><tr><td style=\"border:3px solid black; text-align:center;\"\n",
       "         width=\"40\" height=\"40\">128</td><td style=\"border:3px solid black; text-align:center;\"\n",
       "         width=\"40\" height=\"40\">8</td><td style=\"border:3px solid black; text-align:center;\"\n",
       "         width=\"40\" height=\"40\"></td><td style=\"border:3px solid black; text-align:center;\"\n",
       "         width=\"40\" height=\"40\"></td></tr><tr><td style=\"border:3px solid black; text-align:center;\"\n",
       "         width=\"40\" height=\"40\">64</td><td style=\"border:3px solid black; text-align:center;\"\n",
       "         width=\"40\" height=\"40\">4</td><td style=\"border:3px solid black; text-align:center;\"\n",
       "         width=\"40\" height=\"40\">4</td><td style=\"border:3px solid black; text-align:center;\"\n",
       "         width=\"40\" height=\"40\"></td></tr><tr><td style=\"border:3px solid black; text-align:center;\"\n",
       "         width=\"40\" height=\"40\">8</td><td style=\"border:3px solid black; text-align:center;\"\n",
       "         width=\"40\" height=\"40\"></td><td style=\"border:3px solid black; text-align:center;\"\n",
       "         width=\"40\" height=\"40\"></td><td style=\"border:3px solid black; text-align:center;\"\n",
       "         width=\"40\" height=\"40\"></td></tr></table>"
      ],
      "text/plain": [
       "<IPython.core.display.HTML object>"
      ]
     },
     "metadata": {},
     "output_type": "display_data"
    },
    {
     "name": "stdout",
     "output_type": "stream",
     "text": [
      "Iter: 162\n",
      "======Direction: up======\n"
     ]
    },
    {
     "data": {
      "text/html": [
       "<h1>Score: 256</h1><table style=\"border: 5px solid black;\"><tr><td style=\"border:3px solid black; text-align:center;\"\n",
       "         width=\"40\" height=\"40\">256</td><td style=\"border:3px solid black; text-align:center;\"\n",
       "         width=\"40\" height=\"40\">16</td><td style=\"border:3px solid black; text-align:center;\"\n",
       "         width=\"40\" height=\"40\">8</td><td style=\"border:3px solid black; text-align:center;\"\n",
       "         width=\"40\" height=\"40\">2</td></tr><tr><td style=\"border:3px solid black; text-align:center;\"\n",
       "         width=\"40\" height=\"40\">128</td><td style=\"border:3px solid black; text-align:center;\"\n",
       "         width=\"40\" height=\"40\">8</td><td style=\"border:3px solid black; text-align:center;\"\n",
       "         width=\"40\" height=\"40\"></td><td style=\"border:3px solid black; text-align:center;\"\n",
       "         width=\"40\" height=\"40\"></td></tr><tr><td style=\"border:3px solid black; text-align:center;\"\n",
       "         width=\"40\" height=\"40\">64</td><td style=\"border:3px solid black; text-align:center;\"\n",
       "         width=\"40\" height=\"40\">4</td><td style=\"border:3px solid black; text-align:center;\"\n",
       "         width=\"40\" height=\"40\">4</td><td style=\"border:3px solid black; text-align:center;\"\n",
       "         width=\"40\" height=\"40\"></td></tr><tr><td style=\"border:3px solid black; text-align:center;\"\n",
       "         width=\"40\" height=\"40\">8</td><td style=\"border:3px solid black; text-align:center;\"\n",
       "         width=\"40\" height=\"40\"></td><td style=\"border:3px solid black; text-align:center;\"\n",
       "         width=\"40\" height=\"40\"></td><td style=\"border:3px solid black; text-align:center;\"\n",
       "         width=\"40\" height=\"40\"></td></tr></table>"
      ],
      "text/plain": [
       "<IPython.core.display.HTML object>"
      ]
     },
     "metadata": {},
     "output_type": "display_data"
    },
    {
     "name": "stdout",
     "output_type": "stream",
     "text": [
      "Iter: 163\n",
      "======Direction: up======\n"
     ]
    },
    {
     "data": {
      "text/html": [
       "<h1>Score: 256</h1><table style=\"border: 5px solid black;\"><tr><td style=\"border:3px solid black; text-align:center;\"\n",
       "         width=\"40\" height=\"40\">256</td><td style=\"border:3px solid black; text-align:center;\"\n",
       "         width=\"40\" height=\"40\">16</td><td style=\"border:3px solid black; text-align:center;\"\n",
       "         width=\"40\" height=\"40\">8</td><td style=\"border:3px solid black; text-align:center;\"\n",
       "         width=\"40\" height=\"40\">2</td></tr><tr><td style=\"border:3px solid black; text-align:center;\"\n",
       "         width=\"40\" height=\"40\">128</td><td style=\"border:3px solid black; text-align:center;\"\n",
       "         width=\"40\" height=\"40\">8</td><td style=\"border:3px solid black; text-align:center;\"\n",
       "         width=\"40\" height=\"40\">4</td><td style=\"border:3px solid black; text-align:center;\"\n",
       "         width=\"40\" height=\"40\"></td></tr><tr><td style=\"border:3px solid black; text-align:center;\"\n",
       "         width=\"40\" height=\"40\">64</td><td style=\"border:3px solid black; text-align:center;\"\n",
       "         width=\"40\" height=\"40\">4</td><td style=\"border:3px solid black; text-align:center;\"\n",
       "         width=\"40\" height=\"40\"></td><td style=\"border:3px solid black; text-align:center;\"\n",
       "         width=\"40\" height=\"40\"></td></tr><tr><td style=\"border:3px solid black; text-align:center;\"\n",
       "         width=\"40\" height=\"40\">8</td><td style=\"border:3px solid black; text-align:center;\"\n",
       "         width=\"40\" height=\"40\"></td><td style=\"border:3px solid black; text-align:center;\"\n",
       "         width=\"40\" height=\"40\">2</td><td style=\"border:3px solid black; text-align:center;\"\n",
       "         width=\"40\" height=\"40\"></td></tr></table>"
      ],
      "text/plain": [
       "<IPython.core.display.HTML object>"
      ]
     },
     "metadata": {},
     "output_type": "display_data"
    },
    {
     "name": "stdout",
     "output_type": "stream",
     "text": [
      "Iter: 164\n",
      "======Direction: left======\n"
     ]
    },
    {
     "data": {
      "text/html": [
       "<h1>Score: 256</h1><table style=\"border: 5px solid black;\"><tr><td style=\"border:3px solid black; text-align:center;\"\n",
       "         width=\"40\" height=\"40\">256</td><td style=\"border:3px solid black; text-align:center;\"\n",
       "         width=\"40\" height=\"40\">16</td><td style=\"border:3px solid black; text-align:center;\"\n",
       "         width=\"40\" height=\"40\">8</td><td style=\"border:3px solid black; text-align:center;\"\n",
       "         width=\"40\" height=\"40\">2</td></tr><tr><td style=\"border:3px solid black; text-align:center;\"\n",
       "         width=\"40\" height=\"40\">128</td><td style=\"border:3px solid black; text-align:center;\"\n",
       "         width=\"40\" height=\"40\">8</td><td style=\"border:3px solid black; text-align:center;\"\n",
       "         width=\"40\" height=\"40\">4</td><td style=\"border:3px solid black; text-align:center;\"\n",
       "         width=\"40\" height=\"40\">4</td></tr><tr><td style=\"border:3px solid black; text-align:center;\"\n",
       "         width=\"40\" height=\"40\">64</td><td style=\"border:3px solid black; text-align:center;\"\n",
       "         width=\"40\" height=\"40\">4</td><td style=\"border:3px solid black; text-align:center;\"\n",
       "         width=\"40\" height=\"40\"></td><td style=\"border:3px solid black; text-align:center;\"\n",
       "         width=\"40\" height=\"40\"></td></tr><tr><td style=\"border:3px solid black; text-align:center;\"\n",
       "         width=\"40\" height=\"40\">8</td><td style=\"border:3px solid black; text-align:center;\"\n",
       "         width=\"40\" height=\"40\">2</td><td style=\"border:3px solid black; text-align:center;\"\n",
       "         width=\"40\" height=\"40\"></td><td style=\"border:3px solid black; text-align:center;\"\n",
       "         width=\"40\" height=\"40\"></td></tr></table>"
      ],
      "text/plain": [
       "<IPython.core.display.HTML object>"
      ]
     },
     "metadata": {},
     "output_type": "display_data"
    },
    {
     "name": "stdout",
     "output_type": "stream",
     "text": [
      "Iter: 165\n",
      "======Direction: down======\n"
     ]
    },
    {
     "data": {
      "text/html": [
       "<h1>Score: 256</h1><table style=\"border: 5px solid black;\"><tr><td style=\"border:3px solid black; text-align:center;\"\n",
       "         width=\"40\" height=\"40\">256</td><td style=\"border:3px solid black; text-align:center;\"\n",
       "         width=\"40\" height=\"40\">16</td><td style=\"border:3px solid black; text-align:center;\"\n",
       "         width=\"40\" height=\"40\">4</td><td style=\"border:3px solid black; text-align:center;\"\n",
       "         width=\"40\" height=\"40\"></td></tr><tr><td style=\"border:3px solid black; text-align:center;\"\n",
       "         width=\"40\" height=\"40\">128</td><td style=\"border:3px solid black; text-align:center;\"\n",
       "         width=\"40\" height=\"40\">8</td><td style=\"border:3px solid black; text-align:center;\"\n",
       "         width=\"40\" height=\"40\"></td><td style=\"border:3px solid black; text-align:center;\"\n",
       "         width=\"40\" height=\"40\"></td></tr><tr><td style=\"border:3px solid black; text-align:center;\"\n",
       "         width=\"40\" height=\"40\">64</td><td style=\"border:3px solid black; text-align:center;\"\n",
       "         width=\"40\" height=\"40\">4</td><td style=\"border:3px solid black; text-align:center;\"\n",
       "         width=\"40\" height=\"40\">8</td><td style=\"border:3px solid black; text-align:center;\"\n",
       "         width=\"40\" height=\"40\">2</td></tr><tr><td style=\"border:3px solid black; text-align:center;\"\n",
       "         width=\"40\" height=\"40\">8</td><td style=\"border:3px solid black; text-align:center;\"\n",
       "         width=\"40\" height=\"40\">2</td><td style=\"border:3px solid black; text-align:center;\"\n",
       "         width=\"40\" height=\"40\">4</td><td style=\"border:3px solid black; text-align:center;\"\n",
       "         width=\"40\" height=\"40\">4</td></tr></table>"
      ],
      "text/plain": [
       "<IPython.core.display.HTML object>"
      ]
     },
     "metadata": {},
     "output_type": "display_data"
    },
    {
     "name": "stdout",
     "output_type": "stream",
     "text": [
      "Iter: 166\n",
      "======Direction: up======\n"
     ]
    },
    {
     "data": {
      "text/html": [
       "<h1>Score: 256</h1><table style=\"border: 5px solid black;\"><tr><td style=\"border:3px solid black; text-align:center;\"\n",
       "         width=\"40\" height=\"40\">256</td><td style=\"border:3px solid black; text-align:center;\"\n",
       "         width=\"40\" height=\"40\">16</td><td style=\"border:3px solid black; text-align:center;\"\n",
       "         width=\"40\" height=\"40\">4</td><td style=\"border:3px solid black; text-align:center;\"\n",
       "         width=\"40\" height=\"40\">2</td></tr><tr><td style=\"border:3px solid black; text-align:center;\"\n",
       "         width=\"40\" height=\"40\">128</td><td style=\"border:3px solid black; text-align:center;\"\n",
       "         width=\"40\" height=\"40\">8</td><td style=\"border:3px solid black; text-align:center;\"\n",
       "         width=\"40\" height=\"40\">8</td><td style=\"border:3px solid black; text-align:center;\"\n",
       "         width=\"40\" height=\"40\">4</td></tr><tr><td style=\"border:3px solid black; text-align:center;\"\n",
       "         width=\"40\" height=\"40\">64</td><td style=\"border:3px solid black; text-align:center;\"\n",
       "         width=\"40\" height=\"40\">4</td><td style=\"border:3px solid black; text-align:center;\"\n",
       "         width=\"40\" height=\"40\">4</td><td style=\"border:3px solid black; text-align:center;\"\n",
       "         width=\"40\" height=\"40\"></td></tr><tr><td style=\"border:3px solid black; text-align:center;\"\n",
       "         width=\"40\" height=\"40\">8</td><td style=\"border:3px solid black; text-align:center;\"\n",
       "         width=\"40\" height=\"40\">2</td><td style=\"border:3px solid black; text-align:center;\"\n",
       "         width=\"40\" height=\"40\"></td><td style=\"border:3px solid black; text-align:center;\"\n",
       "         width=\"40\" height=\"40\">2</td></tr></table>"
      ],
      "text/plain": [
       "<IPython.core.display.HTML object>"
      ]
     },
     "metadata": {},
     "output_type": "display_data"
    },
    {
     "name": "stdout",
     "output_type": "stream",
     "text": [
      "Iter: 167\n",
      "======Direction: up======\n"
     ]
    },
    {
     "data": {
      "text/html": [
       "<h1>Score: 256</h1><table style=\"border: 5px solid black;\"><tr><td style=\"border:3px solid black; text-align:center;\"\n",
       "         width=\"40\" height=\"40\">256</td><td style=\"border:3px solid black; text-align:center;\"\n",
       "         width=\"40\" height=\"40\">16</td><td style=\"border:3px solid black; text-align:center;\"\n",
       "         width=\"40\" height=\"40\">4</td><td style=\"border:3px solid black; text-align:center;\"\n",
       "         width=\"40\" height=\"40\">2</td></tr><tr><td style=\"border:3px solid black; text-align:center;\"\n",
       "         width=\"40\" height=\"40\">128</td><td style=\"border:3px solid black; text-align:center;\"\n",
       "         width=\"40\" height=\"40\">8</td><td style=\"border:3px solid black; text-align:center;\"\n",
       "         width=\"40\" height=\"40\">8</td><td style=\"border:3px solid black; text-align:center;\"\n",
       "         width=\"40\" height=\"40\">4</td></tr><tr><td style=\"border:3px solid black; text-align:center;\"\n",
       "         width=\"40\" height=\"40\">64</td><td style=\"border:3px solid black; text-align:center;\"\n",
       "         width=\"40\" height=\"40\">4</td><td style=\"border:3px solid black; text-align:center;\"\n",
       "         width=\"40\" height=\"40\">4</td><td style=\"border:3px solid black; text-align:center;\"\n",
       "         width=\"40\" height=\"40\">2</td></tr><tr><td style=\"border:3px solid black; text-align:center;\"\n",
       "         width=\"40\" height=\"40\">8</td><td style=\"border:3px solid black; text-align:center;\"\n",
       "         width=\"40\" height=\"40\">2</td><td style=\"border:3px solid black; text-align:center;\"\n",
       "         width=\"40\" height=\"40\">4</td><td style=\"border:3px solid black; text-align:center;\"\n",
       "         width=\"40\" height=\"40\"></td></tr></table>"
      ],
      "text/plain": [
       "<IPython.core.display.HTML object>"
      ]
     },
     "metadata": {},
     "output_type": "display_data"
    },
    {
     "name": "stdout",
     "output_type": "stream",
     "text": [
      "Iter: 168\n",
      "======Direction: left======\n"
     ]
    },
    {
     "data": {
      "text/html": [
       "<h1>Score: 256</h1><table style=\"border: 5px solid black;\"><tr><td style=\"border:3px solid black; text-align:center;\"\n",
       "         width=\"40\" height=\"40\">256</td><td style=\"border:3px solid black; text-align:center;\"\n",
       "         width=\"40\" height=\"40\">16</td><td style=\"border:3px solid black; text-align:center;\"\n",
       "         width=\"40\" height=\"40\">4</td><td style=\"border:3px solid black; text-align:center;\"\n",
       "         width=\"40\" height=\"40\">2</td></tr><tr><td style=\"border:3px solid black; text-align:center;\"\n",
       "         width=\"40\" height=\"40\">128</td><td style=\"border:3px solid black; text-align:center;\"\n",
       "         width=\"40\" height=\"40\">16</td><td style=\"border:3px solid black; text-align:center;\"\n",
       "         width=\"40\" height=\"40\">4</td><td style=\"border:3px solid black; text-align:center;\"\n",
       "         width=\"40\" height=\"40\"></td></tr><tr><td style=\"border:3px solid black; text-align:center;\"\n",
       "         width=\"40\" height=\"40\">64</td><td style=\"border:3px solid black; text-align:center;\"\n",
       "         width=\"40\" height=\"40\">8</td><td style=\"border:3px solid black; text-align:center;\"\n",
       "         width=\"40\" height=\"40\">2</td><td style=\"border:3px solid black; text-align:center;\"\n",
       "         width=\"40\" height=\"40\">4</td></tr><tr><td style=\"border:3px solid black; text-align:center;\"\n",
       "         width=\"40\" height=\"40\">8</td><td style=\"border:3px solid black; text-align:center;\"\n",
       "         width=\"40\" height=\"40\">2</td><td style=\"border:3px solid black; text-align:center;\"\n",
       "         width=\"40\" height=\"40\">4</td><td style=\"border:3px solid black; text-align:center;\"\n",
       "         width=\"40\" height=\"40\"></td></tr></table>"
      ],
      "text/plain": [
       "<IPython.core.display.HTML object>"
      ]
     },
     "metadata": {},
     "output_type": "display_data"
    },
    {
     "name": "stdout",
     "output_type": "stream",
     "text": [
      "Iter: 169\n",
      "======Direction: up======\n"
     ]
    },
    {
     "data": {
      "text/html": [
       "<h1>Score: 256</h1><table style=\"border: 5px solid black;\"><tr><td style=\"border:3px solid black; text-align:center;\"\n",
       "         width=\"40\" height=\"40\">256</td><td style=\"border:3px solid black; text-align:center;\"\n",
       "         width=\"40\" height=\"40\">32</td><td style=\"border:3px solid black; text-align:center;\"\n",
       "         width=\"40\" height=\"40\">8</td><td style=\"border:3px solid black; text-align:center;\"\n",
       "         width=\"40\" height=\"40\">2</td></tr><tr><td style=\"border:3px solid black; text-align:center;\"\n",
       "         width=\"40\" height=\"40\">128</td><td style=\"border:3px solid black; text-align:center;\"\n",
       "         width=\"40\" height=\"40\">8</td><td style=\"border:3px solid black; text-align:center;\"\n",
       "         width=\"40\" height=\"40\">2</td><td style=\"border:3px solid black; text-align:center;\"\n",
       "         width=\"40\" height=\"40\">4</td></tr><tr><td style=\"border:3px solid black; text-align:center;\"\n",
       "         width=\"40\" height=\"40\">64</td><td style=\"border:3px solid black; text-align:center;\"\n",
       "         width=\"40\" height=\"40\">2</td><td style=\"border:3px solid black; text-align:center;\"\n",
       "         width=\"40\" height=\"40\">4</td><td style=\"border:3px solid black; text-align:center;\"\n",
       "         width=\"40\" height=\"40\"></td></tr><tr><td style=\"border:3px solid black; text-align:center;\"\n",
       "         width=\"40\" height=\"40\">8</td><td style=\"border:3px solid black; text-align:center;\"\n",
       "         width=\"40\" height=\"40\"></td><td style=\"border:3px solid black; text-align:center;\"\n",
       "         width=\"40\" height=\"40\"></td><td style=\"border:3px solid black; text-align:center;\"\n",
       "         width=\"40\" height=\"40\">4</td></tr></table>"
      ],
      "text/plain": [
       "<IPython.core.display.HTML object>"
      ]
     },
     "metadata": {},
     "output_type": "display_data"
    },
    {
     "name": "stdout",
     "output_type": "stream",
     "text": [
      "Iter: 170\n",
      "======Direction: left======\n"
     ]
    },
    {
     "data": {
      "text/html": [
       "<h1>Score: 256</h1><table style=\"border: 5px solid black;\"><tr><td style=\"border:3px solid black; text-align:center;\"\n",
       "         width=\"40\" height=\"40\">256</td><td style=\"border:3px solid black; text-align:center;\"\n",
       "         width=\"40\" height=\"40\">32</td><td style=\"border:3px solid black; text-align:center;\"\n",
       "         width=\"40\" height=\"40\">8</td><td style=\"border:3px solid black; text-align:center;\"\n",
       "         width=\"40\" height=\"40\">2</td></tr><tr><td style=\"border:3px solid black; text-align:center;\"\n",
       "         width=\"40\" height=\"40\">128</td><td style=\"border:3px solid black; text-align:center;\"\n",
       "         width=\"40\" height=\"40\">8</td><td style=\"border:3px solid black; text-align:center;\"\n",
       "         width=\"40\" height=\"40\">2</td><td style=\"border:3px solid black; text-align:center;\"\n",
       "         width=\"40\" height=\"40\">4</td></tr><tr><td style=\"border:3px solid black; text-align:center;\"\n",
       "         width=\"40\" height=\"40\">64</td><td style=\"border:3px solid black; text-align:center;\"\n",
       "         width=\"40\" height=\"40\">2</td><td style=\"border:3px solid black; text-align:center;\"\n",
       "         width=\"40\" height=\"40\">4</td><td style=\"border:3px solid black; text-align:center;\"\n",
       "         width=\"40\" height=\"40\"></td></tr><tr><td style=\"border:3px solid black; text-align:center;\"\n",
       "         width=\"40\" height=\"40\">8</td><td style=\"border:3px solid black; text-align:center;\"\n",
       "         width=\"40\" height=\"40\">4</td><td style=\"border:3px solid black; text-align:center;\"\n",
       "         width=\"40\" height=\"40\">2</td><td style=\"border:3px solid black; text-align:center;\"\n",
       "         width=\"40\" height=\"40\"></td></tr></table>"
      ],
      "text/plain": [
       "<IPython.core.display.HTML object>"
      ]
     },
     "metadata": {},
     "output_type": "display_data"
    },
    {
     "name": "stdout",
     "output_type": "stream",
     "text": [
      "Iter: 171\n",
      "======Direction: down======\n"
     ]
    },
    {
     "data": {
      "text/html": [
       "<h1>Score: 256</h1><table style=\"border: 5px solid black;\"><tr><td style=\"border:3px solid black; text-align:center;\"\n",
       "         width=\"40\" height=\"40\">256</td><td style=\"border:3px solid black; text-align:center;\"\n",
       "         width=\"40\" height=\"40\">32</td><td style=\"border:3px solid black; text-align:center;\"\n",
       "         width=\"40\" height=\"40\">8</td><td style=\"border:3px solid black; text-align:center;\"\n",
       "         width=\"40\" height=\"40\"></td></tr><tr><td style=\"border:3px solid black; text-align:center;\"\n",
       "         width=\"40\" height=\"40\">128</td><td style=\"border:3px solid black; text-align:center;\"\n",
       "         width=\"40\" height=\"40\">8</td><td style=\"border:3px solid black; text-align:center;\"\n",
       "         width=\"40\" height=\"40\">2</td><td style=\"border:3px solid black; text-align:center;\"\n",
       "         width=\"40\" height=\"40\">2</td></tr><tr><td style=\"border:3px solid black; text-align:center;\"\n",
       "         width=\"40\" height=\"40\">64</td><td style=\"border:3px solid black; text-align:center;\"\n",
       "         width=\"40\" height=\"40\">2</td><td style=\"border:3px solid black; text-align:center;\"\n",
       "         width=\"40\" height=\"40\">4</td><td style=\"border:3px solid black; text-align:center;\"\n",
       "         width=\"40\" height=\"40\">2</td></tr><tr><td style=\"border:3px solid black; text-align:center;\"\n",
       "         width=\"40\" height=\"40\">8</td><td style=\"border:3px solid black; text-align:center;\"\n",
       "         width=\"40\" height=\"40\">4</td><td style=\"border:3px solid black; text-align:center;\"\n",
       "         width=\"40\" height=\"40\">2</td><td style=\"border:3px solid black; text-align:center;\"\n",
       "         width=\"40\" height=\"40\">4</td></tr></table>"
      ],
      "text/plain": [
       "<IPython.core.display.HTML object>"
      ]
     },
     "metadata": {},
     "output_type": "display_data"
    },
    {
     "name": "stdout",
     "output_type": "stream",
     "text": [
      "Iter: 172\n",
      "======Direction: left======\n"
     ]
    },
    {
     "data": {
      "text/html": [
       "<h1>Score: 256</h1><table style=\"border: 5px solid black;\"><tr><td style=\"border:3px solid black; text-align:center;\"\n",
       "         width=\"40\" height=\"40\">256</td><td style=\"border:3px solid black; text-align:center;\"\n",
       "         width=\"40\" height=\"40\">32</td><td style=\"border:3px solid black; text-align:center;\"\n",
       "         width=\"40\" height=\"40\">8</td><td style=\"border:3px solid black; text-align:center;\"\n",
       "         width=\"40\" height=\"40\"></td></tr><tr><td style=\"border:3px solid black; text-align:center;\"\n",
       "         width=\"40\" height=\"40\">128</td><td style=\"border:3px solid black; text-align:center;\"\n",
       "         width=\"40\" height=\"40\">8</td><td style=\"border:3px solid black; text-align:center;\"\n",
       "         width=\"40\" height=\"40\">4</td><td style=\"border:3px solid black; text-align:center;\"\n",
       "         width=\"40\" height=\"40\">2</td></tr><tr><td style=\"border:3px solid black; text-align:center;\"\n",
       "         width=\"40\" height=\"40\">64</td><td style=\"border:3px solid black; text-align:center;\"\n",
       "         width=\"40\" height=\"40\">2</td><td style=\"border:3px solid black; text-align:center;\"\n",
       "         width=\"40\" height=\"40\">4</td><td style=\"border:3px solid black; text-align:center;\"\n",
       "         width=\"40\" height=\"40\">2</td></tr><tr><td style=\"border:3px solid black; text-align:center;\"\n",
       "         width=\"40\" height=\"40\">8</td><td style=\"border:3px solid black; text-align:center;\"\n",
       "         width=\"40\" height=\"40\">4</td><td style=\"border:3px solid black; text-align:center;\"\n",
       "         width=\"40\" height=\"40\">2</td><td style=\"border:3px solid black; text-align:center;\"\n",
       "         width=\"40\" height=\"40\">4</td></tr></table>"
      ],
      "text/plain": [
       "<IPython.core.display.HTML object>"
      ]
     },
     "metadata": {},
     "output_type": "display_data"
    },
    {
     "name": "stdout",
     "output_type": "stream",
     "text": [
      "Iter: 173\n",
      "======Direction: up======\n"
     ]
    },
    {
     "data": {
      "text/html": [
       "<h1>Score: 256</h1><table style=\"border: 5px solid black;\"><tr><td style=\"border:3px solid black; text-align:center;\"\n",
       "         width=\"40\" height=\"40\">256</td><td style=\"border:3px solid black; text-align:center;\"\n",
       "         width=\"40\" height=\"40\">32</td><td style=\"border:3px solid black; text-align:center;\"\n",
       "         width=\"40\" height=\"40\">8</td><td style=\"border:3px solid black; text-align:center;\"\n",
       "         width=\"40\" height=\"40\">4</td></tr><tr><td style=\"border:3px solid black; text-align:center;\"\n",
       "         width=\"40\" height=\"40\">128</td><td style=\"border:3px solid black; text-align:center;\"\n",
       "         width=\"40\" height=\"40\">8</td><td style=\"border:3px solid black; text-align:center;\"\n",
       "         width=\"40\" height=\"40\">8</td><td style=\"border:3px solid black; text-align:center;\"\n",
       "         width=\"40\" height=\"40\">4</td></tr><tr><td style=\"border:3px solid black; text-align:center;\"\n",
       "         width=\"40\" height=\"40\">64</td><td style=\"border:3px solid black; text-align:center;\"\n",
       "         width=\"40\" height=\"40\">2</td><td style=\"border:3px solid black; text-align:center;\"\n",
       "         width=\"40\" height=\"40\">2</td><td style=\"border:3px solid black; text-align:center;\"\n",
       "         width=\"40\" height=\"40\"></td></tr><tr><td style=\"border:3px solid black; text-align:center;\"\n",
       "         width=\"40\" height=\"40\">8</td><td style=\"border:3px solid black; text-align:center;\"\n",
       "         width=\"40\" height=\"40\">4</td><td style=\"border:3px solid black; text-align:center;\"\n",
       "         width=\"40\" height=\"40\"></td><td style=\"border:3px solid black; text-align:center;\"\n",
       "         width=\"40\" height=\"40\">2</td></tr></table>"
      ],
      "text/plain": [
       "<IPython.core.display.HTML object>"
      ]
     },
     "metadata": {},
     "output_type": "display_data"
    },
    {
     "name": "stdout",
     "output_type": "stream",
     "text": [
      "Iter: 174\n",
      "======Direction: left======\n"
     ]
    },
    {
     "data": {
      "text/html": [
       "<h1>Score: 256</h1><table style=\"border: 5px solid black;\"><tr><td style=\"border:3px solid black; text-align:center;\"\n",
       "         width=\"40\" height=\"40\">256</td><td style=\"border:3px solid black; text-align:center;\"\n",
       "         width=\"40\" height=\"40\">32</td><td style=\"border:3px solid black; text-align:center;\"\n",
       "         width=\"40\" height=\"40\">8</td><td style=\"border:3px solid black; text-align:center;\"\n",
       "         width=\"40\" height=\"40\">4</td></tr><tr><td style=\"border:3px solid black; text-align:center;\"\n",
       "         width=\"40\" height=\"40\">128</td><td style=\"border:3px solid black; text-align:center;\"\n",
       "         width=\"40\" height=\"40\">16</td><td style=\"border:3px solid black; text-align:center;\"\n",
       "         width=\"40\" height=\"40\">4</td><td style=\"border:3px solid black; text-align:center;\"\n",
       "         width=\"40\" height=\"40\"></td></tr><tr><td style=\"border:3px solid black; text-align:center;\"\n",
       "         width=\"40\" height=\"40\">64</td><td style=\"border:3px solid black; text-align:center;\"\n",
       "         width=\"40\" height=\"40\">4</td><td style=\"border:3px solid black; text-align:center;\"\n",
       "         width=\"40\" height=\"40\"></td><td style=\"border:3px solid black; text-align:center;\"\n",
       "         width=\"40\" height=\"40\">4</td></tr><tr><td style=\"border:3px solid black; text-align:center;\"\n",
       "         width=\"40\" height=\"40\">8</td><td style=\"border:3px solid black; text-align:center;\"\n",
       "         width=\"40\" height=\"40\">4</td><td style=\"border:3px solid black; text-align:center;\"\n",
       "         width=\"40\" height=\"40\">2</td><td style=\"border:3px solid black; text-align:center;\"\n",
       "         width=\"40\" height=\"40\"></td></tr></table>"
      ],
      "text/plain": [
       "<IPython.core.display.HTML object>"
      ]
     },
     "metadata": {},
     "output_type": "display_data"
    },
    {
     "name": "stdout",
     "output_type": "stream",
     "text": [
      "Iter: 175\n",
      "======Direction: left======\n"
     ]
    },
    {
     "data": {
      "text/html": [
       "<h1>Score: 256</h1><table style=\"border: 5px solid black;\"><tr><td style=\"border:3px solid black; text-align:center;\"\n",
       "         width=\"40\" height=\"40\">256</td><td style=\"border:3px solid black; text-align:center;\"\n",
       "         width=\"40\" height=\"40\">32</td><td style=\"border:3px solid black; text-align:center;\"\n",
       "         width=\"40\" height=\"40\">8</td><td style=\"border:3px solid black; text-align:center;\"\n",
       "         width=\"40\" height=\"40\">4</td></tr><tr><td style=\"border:3px solid black; text-align:center;\"\n",
       "         width=\"40\" height=\"40\">128</td><td style=\"border:3px solid black; text-align:center;\"\n",
       "         width=\"40\" height=\"40\">16</td><td style=\"border:3px solid black; text-align:center;\"\n",
       "         width=\"40\" height=\"40\">4</td><td style=\"border:3px solid black; text-align:center;\"\n",
       "         width=\"40\" height=\"40\">2</td></tr><tr><td style=\"border:3px solid black; text-align:center;\"\n",
       "         width=\"40\" height=\"40\">64</td><td style=\"border:3px solid black; text-align:center;\"\n",
       "         width=\"40\" height=\"40\">8</td><td style=\"border:3px solid black; text-align:center;\"\n",
       "         width=\"40\" height=\"40\"></td><td style=\"border:3px solid black; text-align:center;\"\n",
       "         width=\"40\" height=\"40\"></td></tr><tr><td style=\"border:3px solid black; text-align:center;\"\n",
       "         width=\"40\" height=\"40\">8</td><td style=\"border:3px solid black; text-align:center;\"\n",
       "         width=\"40\" height=\"40\">4</td><td style=\"border:3px solid black; text-align:center;\"\n",
       "         width=\"40\" height=\"40\">2</td><td style=\"border:3px solid black; text-align:center;\"\n",
       "         width=\"40\" height=\"40\"></td></tr></table>"
      ],
      "text/plain": [
       "<IPython.core.display.HTML object>"
      ]
     },
     "metadata": {},
     "output_type": "display_data"
    },
    {
     "name": "stdout",
     "output_type": "stream",
     "text": [
      "Iter: 176\n",
      "======Direction: down======\n"
     ]
    },
    {
     "data": {
      "text/html": [
       "<h1>Score: 256</h1><table style=\"border: 5px solid black;\"><tr><td style=\"border:3px solid black; text-align:center;\"\n",
       "         width=\"40\" height=\"40\">256</td><td style=\"border:3px solid black; text-align:center;\"\n",
       "         width=\"40\" height=\"40\">32</td><td style=\"border:3px solid black; text-align:center;\"\n",
       "         width=\"40\" height=\"40\">2</td><td style=\"border:3px solid black; text-align:center;\"\n",
       "         width=\"40\" height=\"40\"></td></tr><tr><td style=\"border:3px solid black; text-align:center;\"\n",
       "         width=\"40\" height=\"40\">128</td><td style=\"border:3px solid black; text-align:center;\"\n",
       "         width=\"40\" height=\"40\">16</td><td style=\"border:3px solid black; text-align:center;\"\n",
       "         width=\"40\" height=\"40\">8</td><td style=\"border:3px solid black; text-align:center;\"\n",
       "         width=\"40\" height=\"40\"></td></tr><tr><td style=\"border:3px solid black; text-align:center;\"\n",
       "         width=\"40\" height=\"40\">64</td><td style=\"border:3px solid black; text-align:center;\"\n",
       "         width=\"40\" height=\"40\">8</td><td style=\"border:3px solid black; text-align:center;\"\n",
       "         width=\"40\" height=\"40\">4</td><td style=\"border:3px solid black; text-align:center;\"\n",
       "         width=\"40\" height=\"40\">4</td></tr><tr><td style=\"border:3px solid black; text-align:center;\"\n",
       "         width=\"40\" height=\"40\">8</td><td style=\"border:3px solid black; text-align:center;\"\n",
       "         width=\"40\" height=\"40\">4</td><td style=\"border:3px solid black; text-align:center;\"\n",
       "         width=\"40\" height=\"40\">2</td><td style=\"border:3px solid black; text-align:center;\"\n",
       "         width=\"40\" height=\"40\">2</td></tr></table>"
      ],
      "text/plain": [
       "<IPython.core.display.HTML object>"
      ]
     },
     "metadata": {},
     "output_type": "display_data"
    },
    {
     "name": "stdout",
     "output_type": "stream",
     "text": [
      "Iter: 177\n",
      "======Direction: up======\n"
     ]
    },
    {
     "data": {
      "text/html": [
       "<h1>Score: 256</h1><table style=\"border: 5px solid black;\"><tr><td style=\"border:3px solid black; text-align:center;\"\n",
       "         width=\"40\" height=\"40\">256</td><td style=\"border:3px solid black; text-align:center;\"\n",
       "         width=\"40\" height=\"40\">32</td><td style=\"border:3px solid black; text-align:center;\"\n",
       "         width=\"40\" height=\"40\">2</td><td style=\"border:3px solid black; text-align:center;\"\n",
       "         width=\"40\" height=\"40\">4</td></tr><tr><td style=\"border:3px solid black; text-align:center;\"\n",
       "         width=\"40\" height=\"40\">128</td><td style=\"border:3px solid black; text-align:center;\"\n",
       "         width=\"40\" height=\"40\">16</td><td style=\"border:3px solid black; text-align:center;\"\n",
       "         width=\"40\" height=\"40\">8</td><td style=\"border:3px solid black; text-align:center;\"\n",
       "         width=\"40\" height=\"40\">2</td></tr><tr><td style=\"border:3px solid black; text-align:center;\"\n",
       "         width=\"40\" height=\"40\">64</td><td style=\"border:3px solid black; text-align:center;\"\n",
       "         width=\"40\" height=\"40\">8</td><td style=\"border:3px solid black; text-align:center;\"\n",
       "         width=\"40\" height=\"40\">4</td><td style=\"border:3px solid black; text-align:center;\"\n",
       "         width=\"40\" height=\"40\">2</td></tr><tr><td style=\"border:3px solid black; text-align:center;\"\n",
       "         width=\"40\" height=\"40\">8</td><td style=\"border:3px solid black; text-align:center;\"\n",
       "         width=\"40\" height=\"40\">4</td><td style=\"border:3px solid black; text-align:center;\"\n",
       "         width=\"40\" height=\"40\">2</td><td style=\"border:3px solid black; text-align:center;\"\n",
       "         width=\"40\" height=\"40\"></td></tr></table>"
      ],
      "text/plain": [
       "<IPython.core.display.HTML object>"
      ]
     },
     "metadata": {},
     "output_type": "display_data"
    },
    {
     "name": "stdout",
     "output_type": "stream",
     "text": [
      "Iter: 178\n",
      "======Direction: down======\n"
     ]
    },
    {
     "data": {
      "text/html": [
       "<h1>Score: 256</h1><table style=\"border: 5px solid black;\"><tr><td style=\"border:3px solid black; text-align:center;\"\n",
       "         width=\"40\" height=\"40\">256</td><td style=\"border:3px solid black; text-align:center;\"\n",
       "         width=\"40\" height=\"40\">32</td><td style=\"border:3px solid black; text-align:center;\"\n",
       "         width=\"40\" height=\"40\">2</td><td style=\"border:3px solid black; text-align:center;\"\n",
       "         width=\"40\" height=\"40\"></td></tr><tr><td style=\"border:3px solid black; text-align:center;\"\n",
       "         width=\"40\" height=\"40\">128</td><td style=\"border:3px solid black; text-align:center;\"\n",
       "         width=\"40\" height=\"40\">16</td><td style=\"border:3px solid black; text-align:center;\"\n",
       "         width=\"40\" height=\"40\">8</td><td style=\"border:3px solid black; text-align:center;\"\n",
       "         width=\"40\" height=\"40\">2</td></tr><tr><td style=\"border:3px solid black; text-align:center;\"\n",
       "         width=\"40\" height=\"40\">64</td><td style=\"border:3px solid black; text-align:center;\"\n",
       "         width=\"40\" height=\"40\">8</td><td style=\"border:3px solid black; text-align:center;\"\n",
       "         width=\"40\" height=\"40\">4</td><td style=\"border:3px solid black; text-align:center;\"\n",
       "         width=\"40\" height=\"40\">4</td></tr><tr><td style=\"border:3px solid black; text-align:center;\"\n",
       "         width=\"40\" height=\"40\">8</td><td style=\"border:3px solid black; text-align:center;\"\n",
       "         width=\"40\" height=\"40\">4</td><td style=\"border:3px solid black; text-align:center;\"\n",
       "         width=\"40\" height=\"40\">2</td><td style=\"border:3px solid black; text-align:center;\"\n",
       "         width=\"40\" height=\"40\">4</td></tr></table>"
      ],
      "text/plain": [
       "<IPython.core.display.HTML object>"
      ]
     },
     "metadata": {},
     "output_type": "display_data"
    },
    {
     "name": "stdout",
     "output_type": "stream",
     "text": [
      "Iter: 179\n",
      "======Direction: left======\n"
     ]
    },
    {
     "data": {
      "text/html": [
       "<h1>Score: 256</h1><table style=\"border: 5px solid black;\"><tr><td style=\"border:3px solid black; text-align:center;\"\n",
       "         width=\"40\" height=\"40\">256</td><td style=\"border:3px solid black; text-align:center;\"\n",
       "         width=\"40\" height=\"40\">32</td><td style=\"border:3px solid black; text-align:center;\"\n",
       "         width=\"40\" height=\"40\">2</td><td style=\"border:3px solid black; text-align:center;\"\n",
       "         width=\"40\" height=\"40\">2</td></tr><tr><td style=\"border:3px solid black; text-align:center;\"\n",
       "         width=\"40\" height=\"40\">128</td><td style=\"border:3px solid black; text-align:center;\"\n",
       "         width=\"40\" height=\"40\">16</td><td style=\"border:3px solid black; text-align:center;\"\n",
       "         width=\"40\" height=\"40\">8</td><td style=\"border:3px solid black; text-align:center;\"\n",
       "         width=\"40\" height=\"40\">2</td></tr><tr><td style=\"border:3px solid black; text-align:center;\"\n",
       "         width=\"40\" height=\"40\">64</td><td style=\"border:3px solid black; text-align:center;\"\n",
       "         width=\"40\" height=\"40\">8</td><td style=\"border:3px solid black; text-align:center;\"\n",
       "         width=\"40\" height=\"40\">8</td><td style=\"border:3px solid black; text-align:center;\"\n",
       "         width=\"40\" height=\"40\"></td></tr><tr><td style=\"border:3px solid black; text-align:center;\"\n",
       "         width=\"40\" height=\"40\">8</td><td style=\"border:3px solid black; text-align:center;\"\n",
       "         width=\"40\" height=\"40\">4</td><td style=\"border:3px solid black; text-align:center;\"\n",
       "         width=\"40\" height=\"40\">2</td><td style=\"border:3px solid black; text-align:center;\"\n",
       "         width=\"40\" height=\"40\">4</td></tr></table>"
      ],
      "text/plain": [
       "<IPython.core.display.HTML object>"
      ]
     },
     "metadata": {},
     "output_type": "display_data"
    },
    {
     "name": "stdout",
     "output_type": "stream",
     "text": [
      "Iter: 180\n",
      "======Direction: left======\n"
     ]
    },
    {
     "data": {
      "text/html": [
       "<h1>Score: 256</h1><table style=\"border: 5px solid black;\"><tr><td style=\"border:3px solid black; text-align:center;\"\n",
       "         width=\"40\" height=\"40\">256</td><td style=\"border:3px solid black; text-align:center;\"\n",
       "         width=\"40\" height=\"40\">32</td><td style=\"border:3px solid black; text-align:center;\"\n",
       "         width=\"40\" height=\"40\">4</td><td style=\"border:3px solid black; text-align:center;\"\n",
       "         width=\"40\" height=\"40\">4</td></tr><tr><td style=\"border:3px solid black; text-align:center;\"\n",
       "         width=\"40\" height=\"40\">128</td><td style=\"border:3px solid black; text-align:center;\"\n",
       "         width=\"40\" height=\"40\">16</td><td style=\"border:3px solid black; text-align:center;\"\n",
       "         width=\"40\" height=\"40\">8</td><td style=\"border:3px solid black; text-align:center;\"\n",
       "         width=\"40\" height=\"40\">2</td></tr><tr><td style=\"border:3px solid black; text-align:center;\"\n",
       "         width=\"40\" height=\"40\">64</td><td style=\"border:3px solid black; text-align:center;\"\n",
       "         width=\"40\" height=\"40\">16</td><td style=\"border:3px solid black; text-align:center;\"\n",
       "         width=\"40\" height=\"40\"></td><td style=\"border:3px solid black; text-align:center;\"\n",
       "         width=\"40\" height=\"40\"></td></tr><tr><td style=\"border:3px solid black; text-align:center;\"\n",
       "         width=\"40\" height=\"40\">8</td><td style=\"border:3px solid black; text-align:center;\"\n",
       "         width=\"40\" height=\"40\">4</td><td style=\"border:3px solid black; text-align:center;\"\n",
       "         width=\"40\" height=\"40\">2</td><td style=\"border:3px solid black; text-align:center;\"\n",
       "         width=\"40\" height=\"40\">4</td></tr></table>"
      ],
      "text/plain": [
       "<IPython.core.display.HTML object>"
      ]
     },
     "metadata": {},
     "output_type": "display_data"
    },
    {
     "name": "stdout",
     "output_type": "stream",
     "text": [
      "Iter: 181\n",
      "======Direction: down======\n"
     ]
    },
    {
     "data": {
      "text/html": [
       "<h1>Score: 256</h1><table style=\"border: 5px solid black;\"><tr><td style=\"border:3px solid black; text-align:center;\"\n",
       "         width=\"40\" height=\"40\">256</td><td style=\"border:3px solid black; text-align:center;\"\n",
       "         width=\"40\" height=\"40\">2</td><td style=\"border:3px solid black; text-align:center;\"\n",
       "         width=\"40\" height=\"40\"></td><td style=\"border:3px solid black; text-align:center;\"\n",
       "         width=\"40\" height=\"40\"></td></tr><tr><td style=\"border:3px solid black; text-align:center;\"\n",
       "         width=\"40\" height=\"40\">128</td><td style=\"border:3px solid black; text-align:center;\"\n",
       "         width=\"40\" height=\"40\">32</td><td style=\"border:3px solid black; text-align:center;\"\n",
       "         width=\"40\" height=\"40\">4</td><td style=\"border:3px solid black; text-align:center;\"\n",
       "         width=\"40\" height=\"40\">4</td></tr><tr><td style=\"border:3px solid black; text-align:center;\"\n",
       "         width=\"40\" height=\"40\">64</td><td style=\"border:3px solid black; text-align:center;\"\n",
       "         width=\"40\" height=\"40\">32</td><td style=\"border:3px solid black; text-align:center;\"\n",
       "         width=\"40\" height=\"40\">8</td><td style=\"border:3px solid black; text-align:center;\"\n",
       "         width=\"40\" height=\"40\">2</td></tr><tr><td style=\"border:3px solid black; text-align:center;\"\n",
       "         width=\"40\" height=\"40\">8</td><td style=\"border:3px solid black; text-align:center;\"\n",
       "         width=\"40\" height=\"40\">4</td><td style=\"border:3px solid black; text-align:center;\"\n",
       "         width=\"40\" height=\"40\">2</td><td style=\"border:3px solid black; text-align:center;\"\n",
       "         width=\"40\" height=\"40\">4</td></tr></table>"
      ],
      "text/plain": [
       "<IPython.core.display.HTML object>"
      ]
     },
     "metadata": {},
     "output_type": "display_data"
    },
    {
     "name": "stdout",
     "output_type": "stream",
     "text": [
      "Iter: 182\n",
      "======Direction: down======\n"
     ]
    },
    {
     "data": {
      "text/html": [
       "<h1>Score: 256</h1><table style=\"border: 5px solid black;\"><tr><td style=\"border:3px solid black; text-align:center;\"\n",
       "         width=\"40\" height=\"40\">256</td><td style=\"border:3px solid black; text-align:center;\"\n",
       "         width=\"40\" height=\"40\">2</td><td style=\"border:3px solid black; text-align:center;\"\n",
       "         width=\"40\" height=\"40\"></td><td style=\"border:3px solid black; text-align:center;\"\n",
       "         width=\"40\" height=\"40\"></td></tr><tr><td style=\"border:3px solid black; text-align:center;\"\n",
       "         width=\"40\" height=\"40\">128</td><td style=\"border:3px solid black; text-align:center;\"\n",
       "         width=\"40\" height=\"40\">2</td><td style=\"border:3px solid black; text-align:center;\"\n",
       "         width=\"40\" height=\"40\">4</td><td style=\"border:3px solid black; text-align:center;\"\n",
       "         width=\"40\" height=\"40\">4</td></tr><tr><td style=\"border:3px solid black; text-align:center;\"\n",
       "         width=\"40\" height=\"40\">64</td><td style=\"border:3px solid black; text-align:center;\"\n",
       "         width=\"40\" height=\"40\">64</td><td style=\"border:3px solid black; text-align:center;\"\n",
       "         width=\"40\" height=\"40\">8</td><td style=\"border:3px solid black; text-align:center;\"\n",
       "         width=\"40\" height=\"40\">2</td></tr><tr><td style=\"border:3px solid black; text-align:center;\"\n",
       "         width=\"40\" height=\"40\">8</td><td style=\"border:3px solid black; text-align:center;\"\n",
       "         width=\"40\" height=\"40\">4</td><td style=\"border:3px solid black; text-align:center;\"\n",
       "         width=\"40\" height=\"40\">2</td><td style=\"border:3px solid black; text-align:center;\"\n",
       "         width=\"40\" height=\"40\">4</td></tr></table>"
      ],
      "text/plain": [
       "<IPython.core.display.HTML object>"
      ]
     },
     "metadata": {},
     "output_type": "display_data"
    },
    {
     "name": "stdout",
     "output_type": "stream",
     "text": [
      "Iter: 183\n",
      "======Direction: left======\n"
     ]
    },
    {
     "data": {
      "text/html": [
       "<h1>Score: 256</h1><table style=\"border: 5px solid black;\"><tr><td style=\"border:3px solid black; text-align:center;\"\n",
       "         width=\"40\" height=\"40\">256</td><td style=\"border:3px solid black; text-align:center;\"\n",
       "         width=\"40\" height=\"40\">2</td><td style=\"border:3px solid black; text-align:center;\"\n",
       "         width=\"40\" height=\"40\"></td><td style=\"border:3px solid black; text-align:center;\"\n",
       "         width=\"40\" height=\"40\"></td></tr><tr><td style=\"border:3px solid black; text-align:center;\"\n",
       "         width=\"40\" height=\"40\">128</td><td style=\"border:3px solid black; text-align:center;\"\n",
       "         width=\"40\" height=\"40\">2</td><td style=\"border:3px solid black; text-align:center;\"\n",
       "         width=\"40\" height=\"40\">8</td><td style=\"border:3px solid black; text-align:center;\"\n",
       "         width=\"40\" height=\"40\"></td></tr><tr><td style=\"border:3px solid black; text-align:center;\"\n",
       "         width=\"40\" height=\"40\">128</td><td style=\"border:3px solid black; text-align:center;\"\n",
       "         width=\"40\" height=\"40\">8</td><td style=\"border:3px solid black; text-align:center;\"\n",
       "         width=\"40\" height=\"40\">2</td><td style=\"border:3px solid black; text-align:center;\"\n",
       "         width=\"40\" height=\"40\">2</td></tr><tr><td style=\"border:3px solid black; text-align:center;\"\n",
       "         width=\"40\" height=\"40\">8</td><td style=\"border:3px solid black; text-align:center;\"\n",
       "         width=\"40\" height=\"40\">4</td><td style=\"border:3px solid black; text-align:center;\"\n",
       "         width=\"40\" height=\"40\">2</td><td style=\"border:3px solid black; text-align:center;\"\n",
       "         width=\"40\" height=\"40\">4</td></tr></table>"
      ],
      "text/plain": [
       "<IPython.core.display.HTML object>"
      ]
     },
     "metadata": {},
     "output_type": "display_data"
    },
    {
     "name": "stdout",
     "output_type": "stream",
     "text": [
      "Iter: 184\n",
      "======Direction: up======\n"
     ]
    },
    {
     "data": {
      "text/html": [
       "<h1>Score: 256</h1><table style=\"border: 5px solid black;\"><tr><td style=\"border:3px solid black; text-align:center;\"\n",
       "         width=\"40\" height=\"40\">256</td><td style=\"border:3px solid black; text-align:center;\"\n",
       "         width=\"40\" height=\"40\">4</td><td style=\"border:3px solid black; text-align:center;\"\n",
       "         width=\"40\" height=\"40\">8</td><td style=\"border:3px solid black; text-align:center;\"\n",
       "         width=\"40\" height=\"40\">2</td></tr><tr><td style=\"border:3px solid black; text-align:center;\"\n",
       "         width=\"40\" height=\"40\">256</td><td style=\"border:3px solid black; text-align:center;\"\n",
       "         width=\"40\" height=\"40\">8</td><td style=\"border:3px solid black; text-align:center;\"\n",
       "         width=\"40\" height=\"40\">4</td><td style=\"border:3px solid black; text-align:center;\"\n",
       "         width=\"40\" height=\"40\">4</td></tr><tr><td style=\"border:3px solid black; text-align:center;\"\n",
       "         width=\"40\" height=\"40\">8</td><td style=\"border:3px solid black; text-align:center;\"\n",
       "         width=\"40\" height=\"40\">4</td><td style=\"border:3px solid black; text-align:center;\"\n",
       "         width=\"40\" height=\"40\"></td><td style=\"border:3px solid black; text-align:center;\"\n",
       "         width=\"40\" height=\"40\">2</td></tr><tr><td style=\"border:3px solid black; text-align:center;\"\n",
       "         width=\"40\" height=\"40\"></td><td style=\"border:3px solid black; text-align:center;\"\n",
       "         width=\"40\" height=\"40\"></td><td style=\"border:3px solid black; text-align:center;\"\n",
       "         width=\"40\" height=\"40\"></td><td style=\"border:3px solid black; text-align:center;\"\n",
       "         width=\"40\" height=\"40\"></td></tr></table>"
      ],
      "text/plain": [
       "<IPython.core.display.HTML object>"
      ]
     },
     "metadata": {},
     "output_type": "display_data"
    },
    {
     "name": "stdout",
     "output_type": "stream",
     "text": [
      "Iter: 185\n",
      "======Direction: up======\n"
     ]
    },
    {
     "data": {
      "text/html": [
       "<h1>Score: 512</h1><table style=\"border: 5px solid black;\"><tr><td style=\"border:3px solid black; text-align:center;\"\n",
       "         width=\"40\" height=\"40\">512</td><td style=\"border:3px solid black; text-align:center;\"\n",
       "         width=\"40\" height=\"40\">4</td><td style=\"border:3px solid black; text-align:center;\"\n",
       "         width=\"40\" height=\"40\">8</td><td style=\"border:3px solid black; text-align:center;\"\n",
       "         width=\"40\" height=\"40\">2</td></tr><tr><td style=\"border:3px solid black; text-align:center;\"\n",
       "         width=\"40\" height=\"40\">8</td><td style=\"border:3px solid black; text-align:center;\"\n",
       "         width=\"40\" height=\"40\">8</td><td style=\"border:3px solid black; text-align:center;\"\n",
       "         width=\"40\" height=\"40\">4</td><td style=\"border:3px solid black; text-align:center;\"\n",
       "         width=\"40\" height=\"40\">4</td></tr><tr><td style=\"border:3px solid black; text-align:center;\"\n",
       "         width=\"40\" height=\"40\">2</td><td style=\"border:3px solid black; text-align:center;\"\n",
       "         width=\"40\" height=\"40\">4</td><td style=\"border:3px solid black; text-align:center;\"\n",
       "         width=\"40\" height=\"40\"></td><td style=\"border:3px solid black; text-align:center;\"\n",
       "         width=\"40\" height=\"40\">2</td></tr><tr><td style=\"border:3px solid black; text-align:center;\"\n",
       "         width=\"40\" height=\"40\"></td><td style=\"border:3px solid black; text-align:center;\"\n",
       "         width=\"40\" height=\"40\"></td><td style=\"border:3px solid black; text-align:center;\"\n",
       "         width=\"40\" height=\"40\"></td><td style=\"border:3px solid black; text-align:center;\"\n",
       "         width=\"40\" height=\"40\"></td></tr></table>"
      ],
      "text/plain": [
       "<IPython.core.display.HTML object>"
      ]
     },
     "metadata": {},
     "output_type": "display_data"
    },
    {
     "name": "stdout",
     "output_type": "stream",
     "text": [
      "Iter: 186\n",
      "======Direction: left======\n"
     ]
    },
    {
     "data": {
      "text/html": [
       "<h1>Score: 512</h1><table style=\"border: 5px solid black;\"><tr><td style=\"border:3px solid black; text-align:center;\"\n",
       "         width=\"40\" height=\"40\">512</td><td style=\"border:3px solid black; text-align:center;\"\n",
       "         width=\"40\" height=\"40\">4</td><td style=\"border:3px solid black; text-align:center;\"\n",
       "         width=\"40\" height=\"40\">8</td><td style=\"border:3px solid black; text-align:center;\"\n",
       "         width=\"40\" height=\"40\">2</td></tr><tr><td style=\"border:3px solid black; text-align:center;\"\n",
       "         width=\"40\" height=\"40\">16</td><td style=\"border:3px solid black; text-align:center;\"\n",
       "         width=\"40\" height=\"40\">8</td><td style=\"border:3px solid black; text-align:center;\"\n",
       "         width=\"40\" height=\"40\"></td><td style=\"border:3px solid black; text-align:center;\"\n",
       "         width=\"40\" height=\"40\"></td></tr><tr><td style=\"border:3px solid black; text-align:center;\"\n",
       "         width=\"40\" height=\"40\">2</td><td style=\"border:3px solid black; text-align:center;\"\n",
       "         width=\"40\" height=\"40\">4</td><td style=\"border:3px solid black; text-align:center;\"\n",
       "         width=\"40\" height=\"40\">2</td><td style=\"border:3px solid black; text-align:center;\"\n",
       "         width=\"40\" height=\"40\"></td></tr><tr><td style=\"border:3px solid black; text-align:center;\"\n",
       "         width=\"40\" height=\"40\"></td><td style=\"border:3px solid black; text-align:center;\"\n",
       "         width=\"40\" height=\"40\"></td><td style=\"border:3px solid black; text-align:center;\"\n",
       "         width=\"40\" height=\"40\">4</td><td style=\"border:3px solid black; text-align:center;\"\n",
       "         width=\"40\" height=\"40\"></td></tr></table>"
      ],
      "text/plain": [
       "<IPython.core.display.HTML object>"
      ]
     },
     "metadata": {},
     "output_type": "display_data"
    },
    {
     "name": "stdout",
     "output_type": "stream",
     "text": [
      "Iter: 187\n",
      "======Direction: left======\n"
     ]
    },
    {
     "data": {
      "text/html": [
       "<h1>Score: 512</h1><table style=\"border: 5px solid black;\"><tr><td style=\"border:3px solid black; text-align:center;\"\n",
       "         width=\"40\" height=\"40\">512</td><td style=\"border:3px solid black; text-align:center;\"\n",
       "         width=\"40\" height=\"40\">4</td><td style=\"border:3px solid black; text-align:center;\"\n",
       "         width=\"40\" height=\"40\">8</td><td style=\"border:3px solid black; text-align:center;\"\n",
       "         width=\"40\" height=\"40\">2</td></tr><tr><td style=\"border:3px solid black; text-align:center;\"\n",
       "         width=\"40\" height=\"40\">16</td><td style=\"border:3px solid black; text-align:center;\"\n",
       "         width=\"40\" height=\"40\">8</td><td style=\"border:3px solid black; text-align:center;\"\n",
       "         width=\"40\" height=\"40\"></td><td style=\"border:3px solid black; text-align:center;\"\n",
       "         width=\"40\" height=\"40\">2</td></tr><tr><td style=\"border:3px solid black; text-align:center;\"\n",
       "         width=\"40\" height=\"40\">2</td><td style=\"border:3px solid black; text-align:center;\"\n",
       "         width=\"40\" height=\"40\">4</td><td style=\"border:3px solid black; text-align:center;\"\n",
       "         width=\"40\" height=\"40\">2</td><td style=\"border:3px solid black; text-align:center;\"\n",
       "         width=\"40\" height=\"40\"></td></tr><tr><td style=\"border:3px solid black; text-align:center;\"\n",
       "         width=\"40\" height=\"40\">4</td><td style=\"border:3px solid black; text-align:center;\"\n",
       "         width=\"40\" height=\"40\"></td><td style=\"border:3px solid black; text-align:center;\"\n",
       "         width=\"40\" height=\"40\"></td><td style=\"border:3px solid black; text-align:center;\"\n",
       "         width=\"40\" height=\"40\"></td></tr></table>"
      ],
      "text/plain": [
       "<IPython.core.display.HTML object>"
      ]
     },
     "metadata": {},
     "output_type": "display_data"
    },
    {
     "name": "stdout",
     "output_type": "stream",
     "text": [
      "Iter: 188\n",
      "======Direction: left======\n"
     ]
    },
    {
     "data": {
      "text/html": [
       "<h1>Score: 512</h1><table style=\"border: 5px solid black;\"><tr><td style=\"border:3px solid black; text-align:center;\"\n",
       "         width=\"40\" height=\"40\">512</td><td style=\"border:3px solid black; text-align:center;\"\n",
       "         width=\"40\" height=\"40\">4</td><td style=\"border:3px solid black; text-align:center;\"\n",
       "         width=\"40\" height=\"40\">8</td><td style=\"border:3px solid black; text-align:center;\"\n",
       "         width=\"40\" height=\"40\">2</td></tr><tr><td style=\"border:3px solid black; text-align:center;\"\n",
       "         width=\"40\" height=\"40\">16</td><td style=\"border:3px solid black; text-align:center;\"\n",
       "         width=\"40\" height=\"40\">8</td><td style=\"border:3px solid black; text-align:center;\"\n",
       "         width=\"40\" height=\"40\">2</td><td style=\"border:3px solid black; text-align:center;\"\n",
       "         width=\"40\" height=\"40\"></td></tr><tr><td style=\"border:3px solid black; text-align:center;\"\n",
       "         width=\"40\" height=\"40\">2</td><td style=\"border:3px solid black; text-align:center;\"\n",
       "         width=\"40\" height=\"40\">4</td><td style=\"border:3px solid black; text-align:center;\"\n",
       "         width=\"40\" height=\"40\">2</td><td style=\"border:3px solid black; text-align:center;\"\n",
       "         width=\"40\" height=\"40\"></td></tr><tr><td style=\"border:3px solid black; text-align:center;\"\n",
       "         width=\"40\" height=\"40\">4</td><td style=\"border:3px solid black; text-align:center;\"\n",
       "         width=\"40\" height=\"40\"></td><td style=\"border:3px solid black; text-align:center;\"\n",
       "         width=\"40\" height=\"40\">2</td><td style=\"border:3px solid black; text-align:center;\"\n",
       "         width=\"40\" height=\"40\"></td></tr></table>"
      ],
      "text/plain": [
       "<IPython.core.display.HTML object>"
      ]
     },
     "metadata": {},
     "output_type": "display_data"
    },
    {
     "name": "stdout",
     "output_type": "stream",
     "text": [
      "Iter: 189\n",
      "======Direction: left======\n"
     ]
    },
    {
     "data": {
      "text/html": [
       "<h1>Score: 512</h1><table style=\"border: 5px solid black;\"><tr><td style=\"border:3px solid black; text-align:center;\"\n",
       "         width=\"40\" height=\"40\">512</td><td style=\"border:3px solid black; text-align:center;\"\n",
       "         width=\"40\" height=\"40\">4</td><td style=\"border:3px solid black; text-align:center;\"\n",
       "         width=\"40\" height=\"40\">8</td><td style=\"border:3px solid black; text-align:center;\"\n",
       "         width=\"40\" height=\"40\">2</td></tr><tr><td style=\"border:3px solid black; text-align:center;\"\n",
       "         width=\"40\" height=\"40\">16</td><td style=\"border:3px solid black; text-align:center;\"\n",
       "         width=\"40\" height=\"40\">8</td><td style=\"border:3px solid black; text-align:center;\"\n",
       "         width=\"40\" height=\"40\">2</td><td style=\"border:3px solid black; text-align:center;\"\n",
       "         width=\"40\" height=\"40\"></td></tr><tr><td style=\"border:3px solid black; text-align:center;\"\n",
       "         width=\"40\" height=\"40\">2</td><td style=\"border:3px solid black; text-align:center;\"\n",
       "         width=\"40\" height=\"40\">4</td><td style=\"border:3px solid black; text-align:center;\"\n",
       "         width=\"40\" height=\"40\">2</td><td style=\"border:3px solid black; text-align:center;\"\n",
       "         width=\"40\" height=\"40\"></td></tr><tr><td style=\"border:3px solid black; text-align:center;\"\n",
       "         width=\"40\" height=\"40\">4</td><td style=\"border:3px solid black; text-align:center;\"\n",
       "         width=\"40\" height=\"40\">2</td><td style=\"border:3px solid black; text-align:center;\"\n",
       "         width=\"40\" height=\"40\">4</td><td style=\"border:3px solid black; text-align:center;\"\n",
       "         width=\"40\" height=\"40\"></td></tr></table>"
      ],
      "text/plain": [
       "<IPython.core.display.HTML object>"
      ]
     },
     "metadata": {},
     "output_type": "display_data"
    },
    {
     "name": "stdout",
     "output_type": "stream",
     "text": [
      "Iter: 190\n",
      "======Direction: up======\n"
     ]
    },
    {
     "data": {
      "text/html": [
       "<h1>Score: 512</h1><table style=\"border: 5px solid black;\"><tr><td style=\"border:3px solid black; text-align:center;\"\n",
       "         width=\"40\" height=\"40\">512</td><td style=\"border:3px solid black; text-align:center;\"\n",
       "         width=\"40\" height=\"40\">4</td><td style=\"border:3px solid black; text-align:center;\"\n",
       "         width=\"40\" height=\"40\">8</td><td style=\"border:3px solid black; text-align:center;\"\n",
       "         width=\"40\" height=\"40\">2</td></tr><tr><td style=\"border:3px solid black; text-align:center;\"\n",
       "         width=\"40\" height=\"40\">16</td><td style=\"border:3px solid black; text-align:center;\"\n",
       "         width=\"40\" height=\"40\">8</td><td style=\"border:3px solid black; text-align:center;\"\n",
       "         width=\"40\" height=\"40\">4</td><td style=\"border:3px solid black; text-align:center;\"\n",
       "         width=\"40\" height=\"40\"></td></tr><tr><td style=\"border:3px solid black; text-align:center;\"\n",
       "         width=\"40\" height=\"40\">2</td><td style=\"border:3px solid black; text-align:center;\"\n",
       "         width=\"40\" height=\"40\">4</td><td style=\"border:3px solid black; text-align:center;\"\n",
       "         width=\"40\" height=\"40\">4</td><td style=\"border:3px solid black; text-align:center;\"\n",
       "         width=\"40\" height=\"40\">4</td></tr><tr><td style=\"border:3px solid black; text-align:center;\"\n",
       "         width=\"40\" height=\"40\">4</td><td style=\"border:3px solid black; text-align:center;\"\n",
       "         width=\"40\" height=\"40\">2</td><td style=\"border:3px solid black; text-align:center;\"\n",
       "         width=\"40\" height=\"40\"></td><td style=\"border:3px solid black; text-align:center;\"\n",
       "         width=\"40\" height=\"40\"></td></tr></table>"
      ],
      "text/plain": [
       "<IPython.core.display.HTML object>"
      ]
     },
     "metadata": {},
     "output_type": "display_data"
    },
    {
     "name": "stdout",
     "output_type": "stream",
     "text": [
      "Iter: 191\n",
      "======Direction: down======\n"
     ]
    },
    {
     "data": {
      "text/html": [
       "<h1>Score: 512</h1><table style=\"border: 5px solid black;\"><tr><td style=\"border:3px solid black; text-align:center;\"\n",
       "         width=\"40\" height=\"40\">512</td><td style=\"border:3px solid black; text-align:center;\"\n",
       "         width=\"40\" height=\"40\">4</td><td style=\"border:3px solid black; text-align:center;\"\n",
       "         width=\"40\" height=\"40\"></td><td style=\"border:3px solid black; text-align:center;\"\n",
       "         width=\"40\" height=\"40\"></td></tr><tr><td style=\"border:3px solid black; text-align:center;\"\n",
       "         width=\"40\" height=\"40\">16</td><td style=\"border:3px solid black; text-align:center;\"\n",
       "         width=\"40\" height=\"40\">8</td><td style=\"border:3px solid black; text-align:center;\"\n",
       "         width=\"40\" height=\"40\">2</td><td style=\"border:3px solid black; text-align:center;\"\n",
       "         width=\"40\" height=\"40\"></td></tr><tr><td style=\"border:3px solid black; text-align:center;\"\n",
       "         width=\"40\" height=\"40\">2</td><td style=\"border:3px solid black; text-align:center;\"\n",
       "         width=\"40\" height=\"40\">4</td><td style=\"border:3px solid black; text-align:center;\"\n",
       "         width=\"40\" height=\"40\">8</td><td style=\"border:3px solid black; text-align:center;\"\n",
       "         width=\"40\" height=\"40\">2</td></tr><tr><td style=\"border:3px solid black; text-align:center;\"\n",
       "         width=\"40\" height=\"40\">4</td><td style=\"border:3px solid black; text-align:center;\"\n",
       "         width=\"40\" height=\"40\">2</td><td style=\"border:3px solid black; text-align:center;\"\n",
       "         width=\"40\" height=\"40\">8</td><td style=\"border:3px solid black; text-align:center;\"\n",
       "         width=\"40\" height=\"40\">4</td></tr></table>"
      ],
      "text/plain": [
       "<IPython.core.display.HTML object>"
      ]
     },
     "metadata": {},
     "output_type": "display_data"
    },
    {
     "name": "stdout",
     "output_type": "stream",
     "text": [
      "Iter: 192\n",
      "======Direction: up======\n"
     ]
    },
    {
     "data": {
      "text/html": [
       "<h1>Score: 512</h1><table style=\"border: 5px solid black;\"><tr><td style=\"border:3px solid black; text-align:center;\"\n",
       "         width=\"40\" height=\"40\">512</td><td style=\"border:3px solid black; text-align:center;\"\n",
       "         width=\"40\" height=\"40\">4</td><td style=\"border:3px solid black; text-align:center;\"\n",
       "         width=\"40\" height=\"40\">2</td><td style=\"border:3px solid black; text-align:center;\"\n",
       "         width=\"40\" height=\"40\">2</td></tr><tr><td style=\"border:3px solid black; text-align:center;\"\n",
       "         width=\"40\" height=\"40\">16</td><td style=\"border:3px solid black; text-align:center;\"\n",
       "         width=\"40\" height=\"40\">8</td><td style=\"border:3px solid black; text-align:center;\"\n",
       "         width=\"40\" height=\"40\">16</td><td style=\"border:3px solid black; text-align:center;\"\n",
       "         width=\"40\" height=\"40\">4</td></tr><tr><td style=\"border:3px solid black; text-align:center;\"\n",
       "         width=\"40\" height=\"40\">2</td><td style=\"border:3px solid black; text-align:center;\"\n",
       "         width=\"40\" height=\"40\">4</td><td style=\"border:3px solid black; text-align:center;\"\n",
       "         width=\"40\" height=\"40\">2</td><td style=\"border:3px solid black; text-align:center;\"\n",
       "         width=\"40\" height=\"40\"></td></tr><tr><td style=\"border:3px solid black; text-align:center;\"\n",
       "         width=\"40\" height=\"40\">4</td><td style=\"border:3px solid black; text-align:center;\"\n",
       "         width=\"40\" height=\"40\">2</td><td style=\"border:3px solid black; text-align:center;\"\n",
       "         width=\"40\" height=\"40\"></td><td style=\"border:3px solid black; text-align:center;\"\n",
       "         width=\"40\" height=\"40\"></td></tr></table>"
      ],
      "text/plain": [
       "<IPython.core.display.HTML object>"
      ]
     },
     "metadata": {},
     "output_type": "display_data"
    },
    {
     "name": "stdout",
     "output_type": "stream",
     "text": [
      "Iter: 193\n",
      "======Direction: left======\n"
     ]
    },
    {
     "data": {
      "text/html": [
       "<h1>Score: 512</h1><table style=\"border: 5px solid black;\"><tr><td style=\"border:3px solid black; text-align:center;\"\n",
       "         width=\"40\" height=\"40\">512</td><td style=\"border:3px solid black; text-align:center;\"\n",
       "         width=\"40\" height=\"40\">4</td><td style=\"border:3px solid black; text-align:center;\"\n",
       "         width=\"40\" height=\"40\">4</td><td style=\"border:3px solid black; text-align:center;\"\n",
       "         width=\"40\" height=\"40\"></td></tr><tr><td style=\"border:3px solid black; text-align:center;\"\n",
       "         width=\"40\" height=\"40\">16</td><td style=\"border:3px solid black; text-align:center;\"\n",
       "         width=\"40\" height=\"40\">8</td><td style=\"border:3px solid black; text-align:center;\"\n",
       "         width=\"40\" height=\"40\">16</td><td style=\"border:3px solid black; text-align:center;\"\n",
       "         width=\"40\" height=\"40\">4</td></tr><tr><td style=\"border:3px solid black; text-align:center;\"\n",
       "         width=\"40\" height=\"40\">2</td><td style=\"border:3px solid black; text-align:center;\"\n",
       "         width=\"40\" height=\"40\">4</td><td style=\"border:3px solid black; text-align:center;\"\n",
       "         width=\"40\" height=\"40\">2</td><td style=\"border:3px solid black; text-align:center;\"\n",
       "         width=\"40\" height=\"40\"></td></tr><tr><td style=\"border:3px solid black; text-align:center;\"\n",
       "         width=\"40\" height=\"40\">4</td><td style=\"border:3px solid black; text-align:center;\"\n",
       "         width=\"40\" height=\"40\">2</td><td style=\"border:3px solid black; text-align:center;\"\n",
       "         width=\"40\" height=\"40\">2</td><td style=\"border:3px solid black; text-align:center;\"\n",
       "         width=\"40\" height=\"40\"></td></tr></table>"
      ],
      "text/plain": [
       "<IPython.core.display.HTML object>"
      ]
     },
     "metadata": {},
     "output_type": "display_data"
    },
    {
     "name": "stdout",
     "output_type": "stream",
     "text": [
      "Iter: 194\n",
      "======Direction: left======\n"
     ]
    },
    {
     "data": {
      "text/html": [
       "<h1>Score: 512</h1><table style=\"border: 5px solid black;\"><tr><td style=\"border:3px solid black; text-align:center;\"\n",
       "         width=\"40\" height=\"40\">512</td><td style=\"border:3px solid black; text-align:center;\"\n",
       "         width=\"40\" height=\"40\">8</td><td style=\"border:3px solid black; text-align:center;\"\n",
       "         width=\"40\" height=\"40\">2</td><td style=\"border:3px solid black; text-align:center;\"\n",
       "         width=\"40\" height=\"40\"></td></tr><tr><td style=\"border:3px solid black; text-align:center;\"\n",
       "         width=\"40\" height=\"40\">16</td><td style=\"border:3px solid black; text-align:center;\"\n",
       "         width=\"40\" height=\"40\">8</td><td style=\"border:3px solid black; text-align:center;\"\n",
       "         width=\"40\" height=\"40\">16</td><td style=\"border:3px solid black; text-align:center;\"\n",
       "         width=\"40\" height=\"40\">4</td></tr><tr><td style=\"border:3px solid black; text-align:center;\"\n",
       "         width=\"40\" height=\"40\">2</td><td style=\"border:3px solid black; text-align:center;\"\n",
       "         width=\"40\" height=\"40\">4</td><td style=\"border:3px solid black; text-align:center;\"\n",
       "         width=\"40\" height=\"40\">2</td><td style=\"border:3px solid black; text-align:center;\"\n",
       "         width=\"40\" height=\"40\"></td></tr><tr><td style=\"border:3px solid black; text-align:center;\"\n",
       "         width=\"40\" height=\"40\">4</td><td style=\"border:3px solid black; text-align:center;\"\n",
       "         width=\"40\" height=\"40\">4</td><td style=\"border:3px solid black; text-align:center;\"\n",
       "         width=\"40\" height=\"40\"></td><td style=\"border:3px solid black; text-align:center;\"\n",
       "         width=\"40\" height=\"40\"></td></tr></table>"
      ],
      "text/plain": [
       "<IPython.core.display.HTML object>"
      ]
     },
     "metadata": {},
     "output_type": "display_data"
    },
    {
     "name": "stdout",
     "output_type": "stream",
     "text": [
      "Iter: 195\n",
      "======Direction: up======\n"
     ]
    },
    {
     "data": {
      "text/html": [
       "<h1>Score: 512</h1><table style=\"border: 5px solid black;\"><tr><td style=\"border:3px solid black; text-align:center;\"\n",
       "         width=\"40\" height=\"40\">512</td><td style=\"border:3px solid black; text-align:center;\"\n",
       "         width=\"40\" height=\"40\">16</td><td style=\"border:3px solid black; text-align:center;\"\n",
       "         width=\"40\" height=\"40\">2</td><td style=\"border:3px solid black; text-align:center;\"\n",
       "         width=\"40\" height=\"40\">4</td></tr><tr><td style=\"border:3px solid black; text-align:center;\"\n",
       "         width=\"40\" height=\"40\">16</td><td style=\"border:3px solid black; text-align:center;\"\n",
       "         width=\"40\" height=\"40\">8</td><td style=\"border:3px solid black; text-align:center;\"\n",
       "         width=\"40\" height=\"40\">16</td><td style=\"border:3px solid black; text-align:center;\"\n",
       "         width=\"40\" height=\"40\"></td></tr><tr><td style=\"border:3px solid black; text-align:center;\"\n",
       "         width=\"40\" height=\"40\">2</td><td style=\"border:3px solid black; text-align:center;\"\n",
       "         width=\"40\" height=\"40\"></td><td style=\"border:3px solid black; text-align:center;\"\n",
       "         width=\"40\" height=\"40\">2</td><td style=\"border:3px solid black; text-align:center;\"\n",
       "         width=\"40\" height=\"40\">2</td></tr><tr><td style=\"border:3px solid black; text-align:center;\"\n",
       "         width=\"40\" height=\"40\">4</td><td style=\"border:3px solid black; text-align:center;\"\n",
       "         width=\"40\" height=\"40\"></td><td style=\"border:3px solid black; text-align:center;\"\n",
       "         width=\"40\" height=\"40\"></td><td style=\"border:3px solid black; text-align:center;\"\n",
       "         width=\"40\" height=\"40\"></td></tr></table>"
      ],
      "text/plain": [
       "<IPython.core.display.HTML object>"
      ]
     },
     "metadata": {},
     "output_type": "display_data"
    },
    {
     "name": "stdout",
     "output_type": "stream",
     "text": [
      "Iter: 196\n",
      "======Direction: up======\n"
     ]
    },
    {
     "data": {
      "text/html": [
       "<h1>Score: 512</h1><table style=\"border: 5px solid black;\"><tr><td style=\"border:3px solid black; text-align:center;\"\n",
       "         width=\"40\" height=\"40\">512</td><td style=\"border:3px solid black; text-align:center;\"\n",
       "         width=\"40\" height=\"40\">16</td><td style=\"border:3px solid black; text-align:center;\"\n",
       "         width=\"40\" height=\"40\">2</td><td style=\"border:3px solid black; text-align:center;\"\n",
       "         width=\"40\" height=\"40\">4</td></tr><tr><td style=\"border:3px solid black; text-align:center;\"\n",
       "         width=\"40\" height=\"40\">16</td><td style=\"border:3px solid black; text-align:center;\"\n",
       "         width=\"40\" height=\"40\">8</td><td style=\"border:3px solid black; text-align:center;\"\n",
       "         width=\"40\" height=\"40\">16</td><td style=\"border:3px solid black; text-align:center;\"\n",
       "         width=\"40\" height=\"40\">2</td></tr><tr><td style=\"border:3px solid black; text-align:center;\"\n",
       "         width=\"40\" height=\"40\">2</td><td style=\"border:3px solid black; text-align:center;\"\n",
       "         width=\"40\" height=\"40\">4</td><td style=\"border:3px solid black; text-align:center;\"\n",
       "         width=\"40\" height=\"40\">2</td><td style=\"border:3px solid black; text-align:center;\"\n",
       "         width=\"40\" height=\"40\"></td></tr><tr><td style=\"border:3px solid black; text-align:center;\"\n",
       "         width=\"40\" height=\"40\">4</td><td style=\"border:3px solid black; text-align:center;\"\n",
       "         width=\"40\" height=\"40\"></td><td style=\"border:3px solid black; text-align:center;\"\n",
       "         width=\"40\" height=\"40\"></td><td style=\"border:3px solid black; text-align:center;\"\n",
       "         width=\"40\" height=\"40\"></td></tr></table>"
      ],
      "text/plain": [
       "<IPython.core.display.HTML object>"
      ]
     },
     "metadata": {},
     "output_type": "display_data"
    },
    {
     "name": "stdout",
     "output_type": "stream",
     "text": [
      "Iter: 197\n",
      "======Direction: right======\n"
     ]
    },
    {
     "data": {
      "text/html": [
       "<h1>Score: 512</h1><table style=\"border: 5px solid black;\"><tr><td style=\"border:3px solid black; text-align:center;\"\n",
       "         width=\"40\" height=\"40\">512</td><td style=\"border:3px solid black; text-align:center;\"\n",
       "         width=\"40\" height=\"40\">16</td><td style=\"border:3px solid black; text-align:center;\"\n",
       "         width=\"40\" height=\"40\">2</td><td style=\"border:3px solid black; text-align:center;\"\n",
       "         width=\"40\" height=\"40\">4</td></tr><tr><td style=\"border:3px solid black; text-align:center;\"\n",
       "         width=\"40\" height=\"40\">16</td><td style=\"border:3px solid black; text-align:center;\"\n",
       "         width=\"40\" height=\"40\">8</td><td style=\"border:3px solid black; text-align:center;\"\n",
       "         width=\"40\" height=\"40\">16</td><td style=\"border:3px solid black; text-align:center;\"\n",
       "         width=\"40\" height=\"40\">2</td></tr><tr><td style=\"border:3px solid black; text-align:center;\"\n",
       "         width=\"40\" height=\"40\"></td><td style=\"border:3px solid black; text-align:center;\"\n",
       "         width=\"40\" height=\"40\">2</td><td style=\"border:3px solid black; text-align:center;\"\n",
       "         width=\"40\" height=\"40\">4</td><td style=\"border:3px solid black; text-align:center;\"\n",
       "         width=\"40\" height=\"40\">2</td></tr><tr><td style=\"border:3px solid black; text-align:center;\"\n",
       "         width=\"40\" height=\"40\"></td><td style=\"border:3px solid black; text-align:center;\"\n",
       "         width=\"40\" height=\"40\">2</td><td style=\"border:3px solid black; text-align:center;\"\n",
       "         width=\"40\" height=\"40\"></td><td style=\"border:3px solid black; text-align:center;\"\n",
       "         width=\"40\" height=\"40\">4</td></tr></table>"
      ],
      "text/plain": [
       "<IPython.core.display.HTML object>"
      ]
     },
     "metadata": {},
     "output_type": "display_data"
    },
    {
     "name": "stdout",
     "output_type": "stream",
     "text": [
      "Iter: 198\n",
      "======Direction: right======\n"
     ]
    },
    {
     "data": {
      "text/html": [
       "<h1>Score: 512</h1><table style=\"border: 5px solid black;\"><tr><td style=\"border:3px solid black; text-align:center;\"\n",
       "         width=\"40\" height=\"40\">512</td><td style=\"border:3px solid black; text-align:center;\"\n",
       "         width=\"40\" height=\"40\">16</td><td style=\"border:3px solid black; text-align:center;\"\n",
       "         width=\"40\" height=\"40\">2</td><td style=\"border:3px solid black; text-align:center;\"\n",
       "         width=\"40\" height=\"40\">4</td></tr><tr><td style=\"border:3px solid black; text-align:center;\"\n",
       "         width=\"40\" height=\"40\">16</td><td style=\"border:3px solid black; text-align:center;\"\n",
       "         width=\"40\" height=\"40\">8</td><td style=\"border:3px solid black; text-align:center;\"\n",
       "         width=\"40\" height=\"40\">16</td><td style=\"border:3px solid black; text-align:center;\"\n",
       "         width=\"40\" height=\"40\">2</td></tr><tr><td style=\"border:3px solid black; text-align:center;\"\n",
       "         width=\"40\" height=\"40\"></td><td style=\"border:3px solid black; text-align:center;\"\n",
       "         width=\"40\" height=\"40\">2</td><td style=\"border:3px solid black; text-align:center;\"\n",
       "         width=\"40\" height=\"40\">4</td><td style=\"border:3px solid black; text-align:center;\"\n",
       "         width=\"40\" height=\"40\">2</td></tr><tr><td style=\"border:3px solid black; text-align:center;\"\n",
       "         width=\"40\" height=\"40\"></td><td style=\"border:3px solid black; text-align:center;\"\n",
       "         width=\"40\" height=\"40\">4</td><td style=\"border:3px solid black; text-align:center;\"\n",
       "         width=\"40\" height=\"40\">2</td><td style=\"border:3px solid black; text-align:center;\"\n",
       "         width=\"40\" height=\"40\">4</td></tr></table>"
      ],
      "text/plain": [
       "<IPython.core.display.HTML object>"
      ]
     },
     "metadata": {},
     "output_type": "display_data"
    },
    {
     "name": "stdout",
     "output_type": "stream",
     "text": [
      "Iter: 199\n",
      "======Direction: left======\n"
     ]
    },
    {
     "data": {
      "text/html": [
       "<h1>Score: 512</h1><table style=\"border: 5px solid black;\"><tr><td style=\"border:3px solid black; text-align:center;\"\n",
       "         width=\"40\" height=\"40\">512</td><td style=\"border:3px solid black; text-align:center;\"\n",
       "         width=\"40\" height=\"40\">16</td><td style=\"border:3px solid black; text-align:center;\"\n",
       "         width=\"40\" height=\"40\">2</td><td style=\"border:3px solid black; text-align:center;\"\n",
       "         width=\"40\" height=\"40\">4</td></tr><tr><td style=\"border:3px solid black; text-align:center;\"\n",
       "         width=\"40\" height=\"40\">16</td><td style=\"border:3px solid black; text-align:center;\"\n",
       "         width=\"40\" height=\"40\">8</td><td style=\"border:3px solid black; text-align:center;\"\n",
       "         width=\"40\" height=\"40\">16</td><td style=\"border:3px solid black; text-align:center;\"\n",
       "         width=\"40\" height=\"40\">2</td></tr><tr><td style=\"border:3px solid black; text-align:center;\"\n",
       "         width=\"40\" height=\"40\">2</td><td style=\"border:3px solid black; text-align:center;\"\n",
       "         width=\"40\" height=\"40\">4</td><td style=\"border:3px solid black; text-align:center;\"\n",
       "         width=\"40\" height=\"40\">2</td><td style=\"border:3px solid black; text-align:center;\"\n",
       "         width=\"40\" height=\"40\">2</td></tr><tr><td style=\"border:3px solid black; text-align:center;\"\n",
       "         width=\"40\" height=\"40\">4</td><td style=\"border:3px solid black; text-align:center;\"\n",
       "         width=\"40\" height=\"40\">2</td><td style=\"border:3px solid black; text-align:center;\"\n",
       "         width=\"40\" height=\"40\">4</td><td style=\"border:3px solid black; text-align:center;\"\n",
       "         width=\"40\" height=\"40\"></td></tr></table>"
      ],
      "text/plain": [
       "<IPython.core.display.HTML object>"
      ]
     },
     "metadata": {},
     "output_type": "display_data"
    },
    {
     "name": "stdout",
     "output_type": "stream",
     "text": [
      "Iter: 200\n",
      "======Direction: left======\n"
     ]
    },
    {
     "data": {
      "text/html": [
       "<h1>Score: 512</h1><table style=\"border: 5px solid black;\"><tr><td style=\"border:3px solid black; text-align:center;\"\n",
       "         width=\"40\" height=\"40\">512</td><td style=\"border:3px solid black; text-align:center;\"\n",
       "         width=\"40\" height=\"40\">16</td><td style=\"border:3px solid black; text-align:center;\"\n",
       "         width=\"40\" height=\"40\">2</td><td style=\"border:3px solid black; text-align:center;\"\n",
       "         width=\"40\" height=\"40\">4</td></tr><tr><td style=\"border:3px solid black; text-align:center;\"\n",
       "         width=\"40\" height=\"40\">16</td><td style=\"border:3px solid black; text-align:center;\"\n",
       "         width=\"40\" height=\"40\">8</td><td style=\"border:3px solid black; text-align:center;\"\n",
       "         width=\"40\" height=\"40\">16</td><td style=\"border:3px solid black; text-align:center;\"\n",
       "         width=\"40\" height=\"40\">2</td></tr><tr><td style=\"border:3px solid black; text-align:center;\"\n",
       "         width=\"40\" height=\"40\">2</td><td style=\"border:3px solid black; text-align:center;\"\n",
       "         width=\"40\" height=\"40\">4</td><td style=\"border:3px solid black; text-align:center;\"\n",
       "         width=\"40\" height=\"40\">4</td><td style=\"border:3px solid black; text-align:center;\"\n",
       "         width=\"40\" height=\"40\"></td></tr><tr><td style=\"border:3px solid black; text-align:center;\"\n",
       "         width=\"40\" height=\"40\">4</td><td style=\"border:3px solid black; text-align:center;\"\n",
       "         width=\"40\" height=\"40\">2</td><td style=\"border:3px solid black; text-align:center;\"\n",
       "         width=\"40\" height=\"40\">4</td><td style=\"border:3px solid black; text-align:center;\"\n",
       "         width=\"40\" height=\"40\">4</td></tr></table>"
      ],
      "text/plain": [
       "<IPython.core.display.HTML object>"
      ]
     },
     "metadata": {},
     "output_type": "display_data"
    },
    {
     "name": "stdout",
     "output_type": "stream",
     "text": [
      "Iter: 201\n",
      "======Direction: left======\n"
     ]
    },
    {
     "data": {
      "text/html": [
       "<h1>Score: 512</h1><table style=\"border: 5px solid black;\"><tr><td style=\"border:3px solid black; text-align:center;\"\n",
       "         width=\"40\" height=\"40\">512</td><td style=\"border:3px solid black; text-align:center;\"\n",
       "         width=\"40\" height=\"40\">16</td><td style=\"border:3px solid black; text-align:center;\"\n",
       "         width=\"40\" height=\"40\">2</td><td style=\"border:3px solid black; text-align:center;\"\n",
       "         width=\"40\" height=\"40\">4</td></tr><tr><td style=\"border:3px solid black; text-align:center;\"\n",
       "         width=\"40\" height=\"40\">16</td><td style=\"border:3px solid black; text-align:center;\"\n",
       "         width=\"40\" height=\"40\">8</td><td style=\"border:3px solid black; text-align:center;\"\n",
       "         width=\"40\" height=\"40\">16</td><td style=\"border:3px solid black; text-align:center;\"\n",
       "         width=\"40\" height=\"40\">2</td></tr><tr><td style=\"border:3px solid black; text-align:center;\"\n",
       "         width=\"40\" height=\"40\">2</td><td style=\"border:3px solid black; text-align:center;\"\n",
       "         width=\"40\" height=\"40\">8</td><td style=\"border:3px solid black; text-align:center;\"\n",
       "         width=\"40\" height=\"40\">4</td><td style=\"border:3px solid black; text-align:center;\"\n",
       "         width=\"40\" height=\"40\"></td></tr><tr><td style=\"border:3px solid black; text-align:center;\"\n",
       "         width=\"40\" height=\"40\">4</td><td style=\"border:3px solid black; text-align:center;\"\n",
       "         width=\"40\" height=\"40\">2</td><td style=\"border:3px solid black; text-align:center;\"\n",
       "         width=\"40\" height=\"40\">8</td><td style=\"border:3px solid black; text-align:center;\"\n",
       "         width=\"40\" height=\"40\"></td></tr></table>"
      ],
      "text/plain": [
       "<IPython.core.display.HTML object>"
      ]
     },
     "metadata": {},
     "output_type": "display_data"
    },
    {
     "name": "stdout",
     "output_type": "stream",
     "text": [
      "Iter: 202\n",
      "======Direction: up======\n"
     ]
    },
    {
     "data": {
      "text/html": [
       "<h1>Score: 512</h1><table style=\"border: 5px solid black;\"><tr><td style=\"border:3px solid black; text-align:center;\"\n",
       "         width=\"40\" height=\"40\">512</td><td style=\"border:3px solid black; text-align:center;\"\n",
       "         width=\"40\" height=\"40\">16</td><td style=\"border:3px solid black; text-align:center;\"\n",
       "         width=\"40\" height=\"40\">2</td><td style=\"border:3px solid black; text-align:center;\"\n",
       "         width=\"40\" height=\"40\">4</td></tr><tr><td style=\"border:3px solid black; text-align:center;\"\n",
       "         width=\"40\" height=\"40\">16</td><td style=\"border:3px solid black; text-align:center;\"\n",
       "         width=\"40\" height=\"40\">16</td><td style=\"border:3px solid black; text-align:center;\"\n",
       "         width=\"40\" height=\"40\">16</td><td style=\"border:3px solid black; text-align:center;\"\n",
       "         width=\"40\" height=\"40\">2</td></tr><tr><td style=\"border:3px solid black; text-align:center;\"\n",
       "         width=\"40\" height=\"40\">2</td><td style=\"border:3px solid black; text-align:center;\"\n",
       "         width=\"40\" height=\"40\">2</td><td style=\"border:3px solid black; text-align:center;\"\n",
       "         width=\"40\" height=\"40\">4</td><td style=\"border:3px solid black; text-align:center;\"\n",
       "         width=\"40\" height=\"40\">2</td></tr><tr><td style=\"border:3px solid black; text-align:center;\"\n",
       "         width=\"40\" height=\"40\">4</td><td style=\"border:3px solid black; text-align:center;\"\n",
       "         width=\"40\" height=\"40\"></td><td style=\"border:3px solid black; text-align:center;\"\n",
       "         width=\"40\" height=\"40\">8</td><td style=\"border:3px solid black; text-align:center;\"\n",
       "         width=\"40\" height=\"40\"></td></tr></table>"
      ],
      "text/plain": [
       "<IPython.core.display.HTML object>"
      ]
     },
     "metadata": {},
     "output_type": "display_data"
    },
    {
     "name": "stdout",
     "output_type": "stream",
     "text": [
      "Iter: 203\n",
      "======Direction: left======\n"
     ]
    },
    {
     "data": {
      "text/html": [
       "<h1>Score: 512</h1><table style=\"border: 5px solid black;\"><tr><td style=\"border:3px solid black; text-align:center;\"\n",
       "         width=\"40\" height=\"40\">512</td><td style=\"border:3px solid black; text-align:center;\"\n",
       "         width=\"40\" height=\"40\">16</td><td style=\"border:3px solid black; text-align:center;\"\n",
       "         width=\"40\" height=\"40\">2</td><td style=\"border:3px solid black; text-align:center;\"\n",
       "         width=\"40\" height=\"40\">4</td></tr><tr><td style=\"border:3px solid black; text-align:center;\"\n",
       "         width=\"40\" height=\"40\">32</td><td style=\"border:3px solid black; text-align:center;\"\n",
       "         width=\"40\" height=\"40\">16</td><td style=\"border:3px solid black; text-align:center;\"\n",
       "         width=\"40\" height=\"40\">2</td><td style=\"border:3px solid black; text-align:center;\"\n",
       "         width=\"40\" height=\"40\"></td></tr><tr><td style=\"border:3px solid black; text-align:center;\"\n",
       "         width=\"40\" height=\"40\">4</td><td style=\"border:3px solid black; text-align:center;\"\n",
       "         width=\"40\" height=\"40\">4</td><td style=\"border:3px solid black; text-align:center;\"\n",
       "         width=\"40\" height=\"40\">2</td><td style=\"border:3px solid black; text-align:center;\"\n",
       "         width=\"40\" height=\"40\"></td></tr><tr><td style=\"border:3px solid black; text-align:center;\"\n",
       "         width=\"40\" height=\"40\">4</td><td style=\"border:3px solid black; text-align:center;\"\n",
       "         width=\"40\" height=\"40\">8</td><td style=\"border:3px solid black; text-align:center;\"\n",
       "         width=\"40\" height=\"40\">2</td><td style=\"border:3px solid black; text-align:center;\"\n",
       "         width=\"40\" height=\"40\"></td></tr></table>"
      ],
      "text/plain": [
       "<IPython.core.display.HTML object>"
      ]
     },
     "metadata": {},
     "output_type": "display_data"
    },
    {
     "name": "stdout",
     "output_type": "stream",
     "text": [
      "Iter: 204\n",
      "======Direction: left======\n"
     ]
    },
    {
     "data": {
      "text/html": [
       "<h1>Score: 512</h1><table style=\"border: 5px solid black;\"><tr><td style=\"border:3px solid black; text-align:center;\"\n",
       "         width=\"40\" height=\"40\">512</td><td style=\"border:3px solid black; text-align:center;\"\n",
       "         width=\"40\" height=\"40\">16</td><td style=\"border:3px solid black; text-align:center;\"\n",
       "         width=\"40\" height=\"40\">2</td><td style=\"border:3px solid black; text-align:center;\"\n",
       "         width=\"40\" height=\"40\">4</td></tr><tr><td style=\"border:3px solid black; text-align:center;\"\n",
       "         width=\"40\" height=\"40\">32</td><td style=\"border:3px solid black; text-align:center;\"\n",
       "         width=\"40\" height=\"40\">16</td><td style=\"border:3px solid black; text-align:center;\"\n",
       "         width=\"40\" height=\"40\">2</td><td style=\"border:3px solid black; text-align:center;\"\n",
       "         width=\"40\" height=\"40\"></td></tr><tr><td style=\"border:3px solid black; text-align:center;\"\n",
       "         width=\"40\" height=\"40\">8</td><td style=\"border:3px solid black; text-align:center;\"\n",
       "         width=\"40\" height=\"40\">2</td><td style=\"border:3px solid black; text-align:center;\"\n",
       "         width=\"40\" height=\"40\"></td><td style=\"border:3px solid black; text-align:center;\"\n",
       "         width=\"40\" height=\"40\">4</td></tr><tr><td style=\"border:3px solid black; text-align:center;\"\n",
       "         width=\"40\" height=\"40\">4</td><td style=\"border:3px solid black; text-align:center;\"\n",
       "         width=\"40\" height=\"40\">8</td><td style=\"border:3px solid black; text-align:center;\"\n",
       "         width=\"40\" height=\"40\">2</td><td style=\"border:3px solid black; text-align:center;\"\n",
       "         width=\"40\" height=\"40\"></td></tr></table>"
      ],
      "text/plain": [
       "<IPython.core.display.HTML object>"
      ]
     },
     "metadata": {},
     "output_type": "display_data"
    },
    {
     "name": "stdout",
     "output_type": "stream",
     "text": [
      "Iter: 205\n",
      "======Direction: left======\n"
     ]
    },
    {
     "data": {
      "text/html": [
       "<h1>Score: 512</h1><table style=\"border: 5px solid black;\"><tr><td style=\"border:3px solid black; text-align:center;\"\n",
       "         width=\"40\" height=\"40\">512</td><td style=\"border:3px solid black; text-align:center;\"\n",
       "         width=\"40\" height=\"40\">16</td><td style=\"border:3px solid black; text-align:center;\"\n",
       "         width=\"40\" height=\"40\">2</td><td style=\"border:3px solid black; text-align:center;\"\n",
       "         width=\"40\" height=\"40\">4</td></tr><tr><td style=\"border:3px solid black; text-align:center;\"\n",
       "         width=\"40\" height=\"40\">32</td><td style=\"border:3px solid black; text-align:center;\"\n",
       "         width=\"40\" height=\"40\">16</td><td style=\"border:3px solid black; text-align:center;\"\n",
       "         width=\"40\" height=\"40\">2</td><td style=\"border:3px solid black; text-align:center;\"\n",
       "         width=\"40\" height=\"40\"></td></tr><tr><td style=\"border:3px solid black; text-align:center;\"\n",
       "         width=\"40\" height=\"40\">8</td><td style=\"border:3px solid black; text-align:center;\"\n",
       "         width=\"40\" height=\"40\">2</td><td style=\"border:3px solid black; text-align:center;\"\n",
       "         width=\"40\" height=\"40\">4</td><td style=\"border:3px solid black; text-align:center;\"\n",
       "         width=\"40\" height=\"40\"></td></tr><tr><td style=\"border:3px solid black; text-align:center;\"\n",
       "         width=\"40\" height=\"40\">4</td><td style=\"border:3px solid black; text-align:center;\"\n",
       "         width=\"40\" height=\"40\">8</td><td style=\"border:3px solid black; text-align:center;\"\n",
       "         width=\"40\" height=\"40\">2</td><td style=\"border:3px solid black; text-align:center;\"\n",
       "         width=\"40\" height=\"40\">4</td></tr></table>"
      ],
      "text/plain": [
       "<IPython.core.display.HTML object>"
      ]
     },
     "metadata": {},
     "output_type": "display_data"
    },
    {
     "name": "stdout",
     "output_type": "stream",
     "text": [
      "Iter: 206\n",
      "======Direction: up======\n"
     ]
    },
    {
     "data": {
      "text/html": [
       "<h1>Score: 512</h1><table style=\"border: 5px solid black;\"><tr><td style=\"border:3px solid black; text-align:center;\"\n",
       "         width=\"40\" height=\"40\">512</td><td style=\"border:3px solid black; text-align:center;\"\n",
       "         width=\"40\" height=\"40\">32</td><td style=\"border:3px solid black; text-align:center;\"\n",
       "         width=\"40\" height=\"40\">4</td><td style=\"border:3px solid black; text-align:center;\"\n",
       "         width=\"40\" height=\"40\">8</td></tr><tr><td style=\"border:3px solid black; text-align:center;\"\n",
       "         width=\"40\" height=\"40\">32</td><td style=\"border:3px solid black; text-align:center;\"\n",
       "         width=\"40\" height=\"40\">2</td><td style=\"border:3px solid black; text-align:center;\"\n",
       "         width=\"40\" height=\"40\">4</td><td style=\"border:3px solid black; text-align:center;\"\n",
       "         width=\"40\" height=\"40\">2</td></tr><tr><td style=\"border:3px solid black; text-align:center;\"\n",
       "         width=\"40\" height=\"40\">8</td><td style=\"border:3px solid black; text-align:center;\"\n",
       "         width=\"40\" height=\"40\">8</td><td style=\"border:3px solid black; text-align:center;\"\n",
       "         width=\"40\" height=\"40\">2</td><td style=\"border:3px solid black; text-align:center;\"\n",
       "         width=\"40\" height=\"40\"></td></tr><tr><td style=\"border:3px solid black; text-align:center;\"\n",
       "         width=\"40\" height=\"40\">4</td><td style=\"border:3px solid black; text-align:center;\"\n",
       "         width=\"40\" height=\"40\"></td><td style=\"border:3px solid black; text-align:center;\"\n",
       "         width=\"40\" height=\"40\"></td><td style=\"border:3px solid black; text-align:center;\"\n",
       "         width=\"40\" height=\"40\"></td></tr></table>"
      ],
      "text/plain": [
       "<IPython.core.display.HTML object>"
      ]
     },
     "metadata": {},
     "output_type": "display_data"
    },
    {
     "name": "stdout",
     "output_type": "stream",
     "text": [
      "Iter: 207\n",
      "======Direction: up======\n"
     ]
    },
    {
     "data": {
      "text/html": [
       "<h1>Score: 512</h1><table style=\"border: 5px solid black;\"><tr><td style=\"border:3px solid black; text-align:center;\"\n",
       "         width=\"40\" height=\"40\">512</td><td style=\"border:3px solid black; text-align:center;\"\n",
       "         width=\"40\" height=\"40\">32</td><td style=\"border:3px solid black; text-align:center;\"\n",
       "         width=\"40\" height=\"40\">8</td><td style=\"border:3px solid black; text-align:center;\"\n",
       "         width=\"40\" height=\"40\">8</td></tr><tr><td style=\"border:3px solid black; text-align:center;\"\n",
       "         width=\"40\" height=\"40\">32</td><td style=\"border:3px solid black; text-align:center;\"\n",
       "         width=\"40\" height=\"40\">2</td><td style=\"border:3px solid black; text-align:center;\"\n",
       "         width=\"40\" height=\"40\">2</td><td style=\"border:3px solid black; text-align:center;\"\n",
       "         width=\"40\" height=\"40\">2</td></tr><tr><td style=\"border:3px solid black; text-align:center;\"\n",
       "         width=\"40\" height=\"40\">8</td><td style=\"border:3px solid black; text-align:center;\"\n",
       "         width=\"40\" height=\"40\">8</td><td style=\"border:3px solid black; text-align:center;\"\n",
       "         width=\"40\" height=\"40\"></td><td style=\"border:3px solid black; text-align:center;\"\n",
       "         width=\"40\" height=\"40\"></td></tr><tr><td style=\"border:3px solid black; text-align:center;\"\n",
       "         width=\"40\" height=\"40\">4</td><td style=\"border:3px solid black; text-align:center;\"\n",
       "         width=\"40\" height=\"40\">4</td><td style=\"border:3px solid black; text-align:center;\"\n",
       "         width=\"40\" height=\"40\"></td><td style=\"border:3px solid black; text-align:center;\"\n",
       "         width=\"40\" height=\"40\"></td></tr></table>"
      ],
      "text/plain": [
       "<IPython.core.display.HTML object>"
      ]
     },
     "metadata": {},
     "output_type": "display_data"
    },
    {
     "name": "stdout",
     "output_type": "stream",
     "text": [
      "Iter: 208\n",
      "======Direction: down======\n"
     ]
    },
    {
     "data": {
      "text/html": [
       "<h1>Score: 512</h1><table style=\"border: 5px solid black;\"><tr><td style=\"border:3px solid black; text-align:center;\"\n",
       "         width=\"40\" height=\"40\">512</td><td style=\"border:3px solid black; text-align:center;\"\n",
       "         width=\"40\" height=\"40\">32</td><td style=\"border:3px solid black; text-align:center;\"\n",
       "         width=\"40\" height=\"40\"></td><td style=\"border:3px solid black; text-align:center;\"\n",
       "         width=\"40\" height=\"40\"></td></tr><tr><td style=\"border:3px solid black; text-align:center;\"\n",
       "         width=\"40\" height=\"40\">32</td><td style=\"border:3px solid black; text-align:center;\"\n",
       "         width=\"40\" height=\"40\">2</td><td style=\"border:3px solid black; text-align:center;\"\n",
       "         width=\"40\" height=\"40\">2</td><td style=\"border:3px solid black; text-align:center;\"\n",
       "         width=\"40\" height=\"40\"></td></tr><tr><td style=\"border:3px solid black; text-align:center;\"\n",
       "         width=\"40\" height=\"40\">8</td><td style=\"border:3px solid black; text-align:center;\"\n",
       "         width=\"40\" height=\"40\">8</td><td style=\"border:3px solid black; text-align:center;\"\n",
       "         width=\"40\" height=\"40\">8</td><td style=\"border:3px solid black; text-align:center;\"\n",
       "         width=\"40\" height=\"40\">8</td></tr><tr><td style=\"border:3px solid black; text-align:center;\"\n",
       "         width=\"40\" height=\"40\">4</td><td style=\"border:3px solid black; text-align:center;\"\n",
       "         width=\"40\" height=\"40\">4</td><td style=\"border:3px solid black; text-align:center;\"\n",
       "         width=\"40\" height=\"40\">2</td><td style=\"border:3px solid black; text-align:center;\"\n",
       "         width=\"40\" height=\"40\">2</td></tr></table>"
      ],
      "text/plain": [
       "<IPython.core.display.HTML object>"
      ]
     },
     "metadata": {},
     "output_type": "display_data"
    },
    {
     "name": "stdout",
     "output_type": "stream",
     "text": [
      "Iter: 209\n",
      "======Direction: left======\n"
     ]
    },
    {
     "data": {
      "text/html": [
       "<h1>Score: 512</h1><table style=\"border: 5px solid black;\"><tr><td style=\"border:3px solid black; text-align:center;\"\n",
       "         width=\"40\" height=\"40\">512</td><td style=\"border:3px solid black; text-align:center;\"\n",
       "         width=\"40\" height=\"40\">32</td><td style=\"border:3px solid black; text-align:center;\"\n",
       "         width=\"40\" height=\"40\"></td><td style=\"border:3px solid black; text-align:center;\"\n",
       "         width=\"40\" height=\"40\">2</td></tr><tr><td style=\"border:3px solid black; text-align:center;\"\n",
       "         width=\"40\" height=\"40\">32</td><td style=\"border:3px solid black; text-align:center;\"\n",
       "         width=\"40\" height=\"40\">4</td><td style=\"border:3px solid black; text-align:center;\"\n",
       "         width=\"40\" height=\"40\"></td><td style=\"border:3px solid black; text-align:center;\"\n",
       "         width=\"40\" height=\"40\"></td></tr><tr><td style=\"border:3px solid black; text-align:center;\"\n",
       "         width=\"40\" height=\"40\">16</td><td style=\"border:3px solid black; text-align:center;\"\n",
       "         width=\"40\" height=\"40\">16</td><td style=\"border:3px solid black; text-align:center;\"\n",
       "         width=\"40\" height=\"40\"></td><td style=\"border:3px solid black; text-align:center;\"\n",
       "         width=\"40\" height=\"40\"></td></tr><tr><td style=\"border:3px solid black; text-align:center;\"\n",
       "         width=\"40\" height=\"40\">8</td><td style=\"border:3px solid black; text-align:center;\"\n",
       "         width=\"40\" height=\"40\">4</td><td style=\"border:3px solid black; text-align:center;\"\n",
       "         width=\"40\" height=\"40\"></td><td style=\"border:3px solid black; text-align:center;\"\n",
       "         width=\"40\" height=\"40\"></td></tr></table>"
      ],
      "text/plain": [
       "<IPython.core.display.HTML object>"
      ]
     },
     "metadata": {},
     "output_type": "display_data"
    },
    {
     "name": "stdout",
     "output_type": "stream",
     "text": [
      "Iter: 210\n",
      "======Direction: down======\n"
     ]
    },
    {
     "data": {
      "text/html": [
       "<h1>Score: 512</h1><table style=\"border: 5px solid black;\"><tr><td style=\"border:3px solid black; text-align:center;\"\n",
       "         width=\"40\" height=\"40\">512</td><td style=\"border:3px solid black; text-align:center;\"\n",
       "         width=\"40\" height=\"40\">32</td><td style=\"border:3px solid black; text-align:center;\"\n",
       "         width=\"40\" height=\"40\"></td><td style=\"border:3px solid black; text-align:center;\"\n",
       "         width=\"40\" height=\"40\"></td></tr><tr><td style=\"border:3px solid black; text-align:center;\"\n",
       "         width=\"40\" height=\"40\">32</td><td style=\"border:3px solid black; text-align:center;\"\n",
       "         width=\"40\" height=\"40\">4</td><td style=\"border:3px solid black; text-align:center;\"\n",
       "         width=\"40\" height=\"40\"></td><td style=\"border:3px solid black; text-align:center;\"\n",
       "         width=\"40\" height=\"40\"></td></tr><tr><td style=\"border:3px solid black; text-align:center;\"\n",
       "         width=\"40\" height=\"40\">16</td><td style=\"border:3px solid black; text-align:center;\"\n",
       "         width=\"40\" height=\"40\">16</td><td style=\"border:3px solid black; text-align:center;\"\n",
       "         width=\"40\" height=\"40\"></td><td style=\"border:3px solid black; text-align:center;\"\n",
       "         width=\"40\" height=\"40\">2</td></tr><tr><td style=\"border:3px solid black; text-align:center;\"\n",
       "         width=\"40\" height=\"40\">8</td><td style=\"border:3px solid black; text-align:center;\"\n",
       "         width=\"40\" height=\"40\">4</td><td style=\"border:3px solid black; text-align:center;\"\n",
       "         width=\"40\" height=\"40\"></td><td style=\"border:3px solid black; text-align:center;\"\n",
       "         width=\"40\" height=\"40\">2</td></tr></table>"
      ],
      "text/plain": [
       "<IPython.core.display.HTML object>"
      ]
     },
     "metadata": {},
     "output_type": "display_data"
    },
    {
     "name": "stdout",
     "output_type": "stream",
     "text": [
      "Iter: 211\n",
      "======Direction: up======\n"
     ]
    },
    {
     "data": {
      "text/html": [
       "<h1>Score: 512</h1><table style=\"border: 5px solid black;\"><tr><td style=\"border:3px solid black; text-align:center;\"\n",
       "         width=\"40\" height=\"40\">512</td><td style=\"border:3px solid black; text-align:center;\"\n",
       "         width=\"40\" height=\"40\">32</td><td style=\"border:3px solid black; text-align:center;\"\n",
       "         width=\"40\" height=\"40\"></td><td style=\"border:3px solid black; text-align:center;\"\n",
       "         width=\"40\" height=\"40\">4</td></tr><tr><td style=\"border:3px solid black; text-align:center;\"\n",
       "         width=\"40\" height=\"40\">32</td><td style=\"border:3px solid black; text-align:center;\"\n",
       "         width=\"40\" height=\"40\">4</td><td style=\"border:3px solid black; text-align:center;\"\n",
       "         width=\"40\" height=\"40\"></td><td style=\"border:3px solid black; text-align:center;\"\n",
       "         width=\"40\" height=\"40\"></td></tr><tr><td style=\"border:3px solid black; text-align:center;\"\n",
       "         width=\"40\" height=\"40\">16</td><td style=\"border:3px solid black; text-align:center;\"\n",
       "         width=\"40\" height=\"40\">16</td><td style=\"border:3px solid black; text-align:center;\"\n",
       "         width=\"40\" height=\"40\"></td><td style=\"border:3px solid black; text-align:center;\"\n",
       "         width=\"40\" height=\"40\"></td></tr><tr><td style=\"border:3px solid black; text-align:center;\"\n",
       "         width=\"40\" height=\"40\">8</td><td style=\"border:3px solid black; text-align:center;\"\n",
       "         width=\"40\" height=\"40\">4</td><td style=\"border:3px solid black; text-align:center;\"\n",
       "         width=\"40\" height=\"40\">4</td><td style=\"border:3px solid black; text-align:center;\"\n",
       "         width=\"40\" height=\"40\"></td></tr></table>"
      ],
      "text/plain": [
       "<IPython.core.display.HTML object>"
      ]
     },
     "metadata": {},
     "output_type": "display_data"
    },
    {
     "name": "stdout",
     "output_type": "stream",
     "text": [
      "Iter: 212\n",
      "======Direction: down======\n"
     ]
    },
    {
     "data": {
      "text/html": [
       "<h1>Score: 512</h1><table style=\"border: 5px solid black;\"><tr><td style=\"border:3px solid black; text-align:center;\"\n",
       "         width=\"40\" height=\"40\">512</td><td style=\"border:3px solid black; text-align:center;\"\n",
       "         width=\"40\" height=\"40\">32</td><td style=\"border:3px solid black; text-align:center;\"\n",
       "         width=\"40\" height=\"40\">4</td><td style=\"border:3px solid black; text-align:center;\"\n",
       "         width=\"40\" height=\"40\"></td></tr><tr><td style=\"border:3px solid black; text-align:center;\"\n",
       "         width=\"40\" height=\"40\">32</td><td style=\"border:3px solid black; text-align:center;\"\n",
       "         width=\"40\" height=\"40\">4</td><td style=\"border:3px solid black; text-align:center;\"\n",
       "         width=\"40\" height=\"40\"></td><td style=\"border:3px solid black; text-align:center;\"\n",
       "         width=\"40\" height=\"40\"></td></tr><tr><td style=\"border:3px solid black; text-align:center;\"\n",
       "         width=\"40\" height=\"40\">16</td><td style=\"border:3px solid black; text-align:center;\"\n",
       "         width=\"40\" height=\"40\">16</td><td style=\"border:3px solid black; text-align:center;\"\n",
       "         width=\"40\" height=\"40\"></td><td style=\"border:3px solid black; text-align:center;\"\n",
       "         width=\"40\" height=\"40\"></td></tr><tr><td style=\"border:3px solid black; text-align:center;\"\n",
       "         width=\"40\" height=\"40\">8</td><td style=\"border:3px solid black; text-align:center;\"\n",
       "         width=\"40\" height=\"40\">4</td><td style=\"border:3px solid black; text-align:center;\"\n",
       "         width=\"40\" height=\"40\">4</td><td style=\"border:3px solid black; text-align:center;\"\n",
       "         width=\"40\" height=\"40\">4</td></tr></table>"
      ],
      "text/plain": [
       "<IPython.core.display.HTML object>"
      ]
     },
     "metadata": {},
     "output_type": "display_data"
    },
    {
     "name": "stdout",
     "output_type": "stream",
     "text": [
      "Iter: 213\n",
      "======Direction: down======\n"
     ]
    },
    {
     "data": {
      "text/html": [
       "<h1>Score: 512</h1><table style=\"border: 5px solid black;\"><tr><td style=\"border:3px solid black; text-align:center;\"\n",
       "         width=\"40\" height=\"40\">512</td><td style=\"border:3px solid black; text-align:center;\"\n",
       "         width=\"40\" height=\"40\">32</td><td style=\"border:3px solid black; text-align:center;\"\n",
       "         width=\"40\" height=\"40\"></td><td style=\"border:3px solid black; text-align:center;\"\n",
       "         width=\"40\" height=\"40\"></td></tr><tr><td style=\"border:3px solid black; text-align:center;\"\n",
       "         width=\"40\" height=\"40\">32</td><td style=\"border:3px solid black; text-align:center;\"\n",
       "         width=\"40\" height=\"40\">4</td><td style=\"border:3px solid black; text-align:center;\"\n",
       "         width=\"40\" height=\"40\"></td><td style=\"border:3px solid black; text-align:center;\"\n",
       "         width=\"40\" height=\"40\"></td></tr><tr><td style=\"border:3px solid black; text-align:center;\"\n",
       "         width=\"40\" height=\"40\">16</td><td style=\"border:3px solid black; text-align:center;\"\n",
       "         width=\"40\" height=\"40\">16</td><td style=\"border:3px solid black; text-align:center;\"\n",
       "         width=\"40\" height=\"40\"></td><td style=\"border:3px solid black; text-align:center;\"\n",
       "         width=\"40\" height=\"40\">4</td></tr><tr><td style=\"border:3px solid black; text-align:center;\"\n",
       "         width=\"40\" height=\"40\">8</td><td style=\"border:3px solid black; text-align:center;\"\n",
       "         width=\"40\" height=\"40\">4</td><td style=\"border:3px solid black; text-align:center;\"\n",
       "         width=\"40\" height=\"40\">8</td><td style=\"border:3px solid black; text-align:center;\"\n",
       "         width=\"40\" height=\"40\">4</td></tr></table>"
      ],
      "text/plain": [
       "<IPython.core.display.HTML object>"
      ]
     },
     "metadata": {},
     "output_type": "display_data"
    },
    {
     "name": "stdout",
     "output_type": "stream",
     "text": [
      "Iter: 214\n",
      "======Direction: up======\n"
     ]
    },
    {
     "data": {
      "text/html": [
       "<h1>Score: 512</h1><table style=\"border: 5px solid black;\"><tr><td style=\"border:3px solid black; text-align:center;\"\n",
       "         width=\"40\" height=\"40\">512</td><td style=\"border:3px solid black; text-align:center;\"\n",
       "         width=\"40\" height=\"40\">32</td><td style=\"border:3px solid black; text-align:center;\"\n",
       "         width=\"40\" height=\"40\">8</td><td style=\"border:3px solid black; text-align:center;\"\n",
       "         width=\"40\" height=\"40\">8</td></tr><tr><td style=\"border:3px solid black; text-align:center;\"\n",
       "         width=\"40\" height=\"40\">32</td><td style=\"border:3px solid black; text-align:center;\"\n",
       "         width=\"40\" height=\"40\">4</td><td style=\"border:3px solid black; text-align:center;\"\n",
       "         width=\"40\" height=\"40\"></td><td style=\"border:3px solid black; text-align:center;\"\n",
       "         width=\"40\" height=\"40\">2</td></tr><tr><td style=\"border:3px solid black; text-align:center;\"\n",
       "         width=\"40\" height=\"40\">16</td><td style=\"border:3px solid black; text-align:center;\"\n",
       "         width=\"40\" height=\"40\">16</td><td style=\"border:3px solid black; text-align:center;\"\n",
       "         width=\"40\" height=\"40\"></td><td style=\"border:3px solid black; text-align:center;\"\n",
       "         width=\"40\" height=\"40\"></td></tr><tr><td style=\"border:3px solid black; text-align:center;\"\n",
       "         width=\"40\" height=\"40\">8</td><td style=\"border:3px solid black; text-align:center;\"\n",
       "         width=\"40\" height=\"40\">4</td><td style=\"border:3px solid black; text-align:center;\"\n",
       "         width=\"40\" height=\"40\"></td><td style=\"border:3px solid black; text-align:center;\"\n",
       "         width=\"40\" height=\"40\"></td></tr></table>"
      ],
      "text/plain": [
       "<IPython.core.display.HTML object>"
      ]
     },
     "metadata": {},
     "output_type": "display_data"
    },
    {
     "name": "stdout",
     "output_type": "stream",
     "text": [
      "Iter: 215\n",
      "======Direction: down======\n"
     ]
    },
    {
     "data": {
      "text/html": [
       "<h1>Score: 512</h1><table style=\"border: 5px solid black;\"><tr><td style=\"border:3px solid black; text-align:center;\"\n",
       "         width=\"40\" height=\"40\">512</td><td style=\"border:3px solid black; text-align:center;\"\n",
       "         width=\"40\" height=\"40\">32</td><td style=\"border:3px solid black; text-align:center;\"\n",
       "         width=\"40\" height=\"40\"></td><td style=\"border:3px solid black; text-align:center;\"\n",
       "         width=\"40\" height=\"40\"></td></tr><tr><td style=\"border:3px solid black; text-align:center;\"\n",
       "         width=\"40\" height=\"40\">32</td><td style=\"border:3px solid black; text-align:center;\"\n",
       "         width=\"40\" height=\"40\">4</td><td style=\"border:3px solid black; text-align:center;\"\n",
       "         width=\"40\" height=\"40\">2</td><td style=\"border:3px solid black; text-align:center;\"\n",
       "         width=\"40\" height=\"40\"></td></tr><tr><td style=\"border:3px solid black; text-align:center;\"\n",
       "         width=\"40\" height=\"40\">16</td><td style=\"border:3px solid black; text-align:center;\"\n",
       "         width=\"40\" height=\"40\">16</td><td style=\"border:3px solid black; text-align:center;\"\n",
       "         width=\"40\" height=\"40\"></td><td style=\"border:3px solid black; text-align:center;\"\n",
       "         width=\"40\" height=\"40\">8</td></tr><tr><td style=\"border:3px solid black; text-align:center;\"\n",
       "         width=\"40\" height=\"40\">8</td><td style=\"border:3px solid black; text-align:center;\"\n",
       "         width=\"40\" height=\"40\">4</td><td style=\"border:3px solid black; text-align:center;\"\n",
       "         width=\"40\" height=\"40\">8</td><td style=\"border:3px solid black; text-align:center;\"\n",
       "         width=\"40\" height=\"40\">2</td></tr></table>"
      ],
      "text/plain": [
       "<IPython.core.display.HTML object>"
      ]
     },
     "metadata": {},
     "output_type": "display_data"
    },
    {
     "name": "stdout",
     "output_type": "stream",
     "text": [
      "Iter: 216\n",
      "======Direction: down======\n"
     ]
    },
    {
     "data": {
      "text/html": [
       "<h1>Score: 512</h1><table style=\"border: 5px solid black;\"><tr><td style=\"border:3px solid black; text-align:center;\"\n",
       "         width=\"40\" height=\"40\">512</td><td style=\"border:3px solid black; text-align:center;\"\n",
       "         width=\"40\" height=\"40\">32</td><td style=\"border:3px solid black; text-align:center;\"\n",
       "         width=\"40\" height=\"40\"></td><td style=\"border:3px solid black; text-align:center;\"\n",
       "         width=\"40\" height=\"40\"></td></tr><tr><td style=\"border:3px solid black; text-align:center;\"\n",
       "         width=\"40\" height=\"40\">32</td><td style=\"border:3px solid black; text-align:center;\"\n",
       "         width=\"40\" height=\"40\">4</td><td style=\"border:3px solid black; text-align:center;\"\n",
       "         width=\"40\" height=\"40\">4</td><td style=\"border:3px solid black; text-align:center;\"\n",
       "         width=\"40\" height=\"40\"></td></tr><tr><td style=\"border:3px solid black; text-align:center;\"\n",
       "         width=\"40\" height=\"40\">16</td><td style=\"border:3px solid black; text-align:center;\"\n",
       "         width=\"40\" height=\"40\">16</td><td style=\"border:3px solid black; text-align:center;\"\n",
       "         width=\"40\" height=\"40\">2</td><td style=\"border:3px solid black; text-align:center;\"\n",
       "         width=\"40\" height=\"40\">8</td></tr><tr><td style=\"border:3px solid black; text-align:center;\"\n",
       "         width=\"40\" height=\"40\">8</td><td style=\"border:3px solid black; text-align:center;\"\n",
       "         width=\"40\" height=\"40\">4</td><td style=\"border:3px solid black; text-align:center;\"\n",
       "         width=\"40\" height=\"40\">8</td><td style=\"border:3px solid black; text-align:center;\"\n",
       "         width=\"40\" height=\"40\">2</td></tr></table>"
      ],
      "text/plain": [
       "<IPython.core.display.HTML object>"
      ]
     },
     "metadata": {},
     "output_type": "display_data"
    },
    {
     "name": "stdout",
     "output_type": "stream",
     "text": [
      "Iter: 217\n",
      "======Direction: up======\n"
     ]
    },
    {
     "data": {
      "text/html": [
       "<h1>Score: 512</h1><table style=\"border: 5px solid black;\"><tr><td style=\"border:3px solid black; text-align:center;\"\n",
       "         width=\"40\" height=\"40\">512</td><td style=\"border:3px solid black; text-align:center;\"\n",
       "         width=\"40\" height=\"40\">32</td><td style=\"border:3px solid black; text-align:center;\"\n",
       "         width=\"40\" height=\"40\">4</td><td style=\"border:3px solid black; text-align:center;\"\n",
       "         width=\"40\" height=\"40\">8</td></tr><tr><td style=\"border:3px solid black; text-align:center;\"\n",
       "         width=\"40\" height=\"40\">32</td><td style=\"border:3px solid black; text-align:center;\"\n",
       "         width=\"40\" height=\"40\">4</td><td style=\"border:3px solid black; text-align:center;\"\n",
       "         width=\"40\" height=\"40\">2</td><td style=\"border:3px solid black; text-align:center;\"\n",
       "         width=\"40\" height=\"40\">2</td></tr><tr><td style=\"border:3px solid black; text-align:center;\"\n",
       "         width=\"40\" height=\"40\">16</td><td style=\"border:3px solid black; text-align:center;\"\n",
       "         width=\"40\" height=\"40\">16</td><td style=\"border:3px solid black; text-align:center;\"\n",
       "         width=\"40\" height=\"40\">8</td><td style=\"border:3px solid black; text-align:center;\"\n",
       "         width=\"40\" height=\"40\">2</td></tr><tr><td style=\"border:3px solid black; text-align:center;\"\n",
       "         width=\"40\" height=\"40\">8</td><td style=\"border:3px solid black; text-align:center;\"\n",
       "         width=\"40\" height=\"40\">4</td><td style=\"border:3px solid black; text-align:center;\"\n",
       "         width=\"40\" height=\"40\"></td><td style=\"border:3px solid black; text-align:center;\"\n",
       "         width=\"40\" height=\"40\"></td></tr></table>"
      ],
      "text/plain": [
       "<IPython.core.display.HTML object>"
      ]
     },
     "metadata": {},
     "output_type": "display_data"
    },
    {
     "name": "stdout",
     "output_type": "stream",
     "text": [
      "Iter: 218\n",
      "======Direction: left======\n"
     ]
    },
    {
     "data": {
      "text/html": [
       "<h1>Score: 512</h1><table style=\"border: 5px solid black;\"><tr><td style=\"border:3px solid black; text-align:center;\"\n",
       "         width=\"40\" height=\"40\">512</td><td style=\"border:3px solid black; text-align:center;\"\n",
       "         width=\"40\" height=\"40\">32</td><td style=\"border:3px solid black; text-align:center;\"\n",
       "         width=\"40\" height=\"40\">4</td><td style=\"border:3px solid black; text-align:center;\"\n",
       "         width=\"40\" height=\"40\">8</td></tr><tr><td style=\"border:3px solid black; text-align:center;\"\n",
       "         width=\"40\" height=\"40\">32</td><td style=\"border:3px solid black; text-align:center;\"\n",
       "         width=\"40\" height=\"40\">4</td><td style=\"border:3px solid black; text-align:center;\"\n",
       "         width=\"40\" height=\"40\">4</td><td style=\"border:3px solid black; text-align:center;\"\n",
       "         width=\"40\" height=\"40\"></td></tr><tr><td style=\"border:3px solid black; text-align:center;\"\n",
       "         width=\"40\" height=\"40\">32</td><td style=\"border:3px solid black; text-align:center;\"\n",
       "         width=\"40\" height=\"40\">8</td><td style=\"border:3px solid black; text-align:center;\"\n",
       "         width=\"40\" height=\"40\">2</td><td style=\"border:3px solid black; text-align:center;\"\n",
       "         width=\"40\" height=\"40\">2</td></tr><tr><td style=\"border:3px solid black; text-align:center;\"\n",
       "         width=\"40\" height=\"40\">8</td><td style=\"border:3px solid black; text-align:center;\"\n",
       "         width=\"40\" height=\"40\">4</td><td style=\"border:3px solid black; text-align:center;\"\n",
       "         width=\"40\" height=\"40\"></td><td style=\"border:3px solid black; text-align:center;\"\n",
       "         width=\"40\" height=\"40\"></td></tr></table>"
      ],
      "text/plain": [
       "<IPython.core.display.HTML object>"
      ]
     },
     "metadata": {},
     "output_type": "display_data"
    },
    {
     "name": "stdout",
     "output_type": "stream",
     "text": [
      "Iter: 219\n",
      "======Direction: up======\n"
     ]
    },
    {
     "data": {
      "text/html": [
       "<h1>Score: 512</h1><table style=\"border: 5px solid black;\"><tr><td style=\"border:3px solid black; text-align:center;\"\n",
       "         width=\"40\" height=\"40\">512</td><td style=\"border:3px solid black; text-align:center;\"\n",
       "         width=\"40\" height=\"40\">32</td><td style=\"border:3px solid black; text-align:center;\"\n",
       "         width=\"40\" height=\"40\">8</td><td style=\"border:3px solid black; text-align:center;\"\n",
       "         width=\"40\" height=\"40\">8</td></tr><tr><td style=\"border:3px solid black; text-align:center;\"\n",
       "         width=\"40\" height=\"40\">64</td><td style=\"border:3px solid black; text-align:center;\"\n",
       "         width=\"40\" height=\"40\">4</td><td style=\"border:3px solid black; text-align:center;\"\n",
       "         width=\"40\" height=\"40\">2</td><td style=\"border:3px solid black; text-align:center;\"\n",
       "         width=\"40\" height=\"40\">2</td></tr><tr><td style=\"border:3px solid black; text-align:center;\"\n",
       "         width=\"40\" height=\"40\">8</td><td style=\"border:3px solid black; text-align:center;\"\n",
       "         width=\"40\" height=\"40\">8</td><td style=\"border:3px solid black; text-align:center;\"\n",
       "         width=\"40\" height=\"40\"></td><td style=\"border:3px solid black; text-align:center;\"\n",
       "         width=\"40\" height=\"40\"></td></tr><tr><td style=\"border:3px solid black; text-align:center;\"\n",
       "         width=\"40\" height=\"40\"></td><td style=\"border:3px solid black; text-align:center;\"\n",
       "         width=\"40\" height=\"40\">4</td><td style=\"border:3px solid black; text-align:center;\"\n",
       "         width=\"40\" height=\"40\"></td><td style=\"border:3px solid black; text-align:center;\"\n",
       "         width=\"40\" height=\"40\">4</td></tr></table>"
      ],
      "text/plain": [
       "<IPython.core.display.HTML object>"
      ]
     },
     "metadata": {},
     "output_type": "display_data"
    },
    {
     "name": "stdout",
     "output_type": "stream",
     "text": [
      "Iter: 220\n",
      "======Direction: up======\n"
     ]
    },
    {
     "data": {
      "text/html": [
       "<h1>Score: 512</h1><table style=\"border: 5px solid black;\"><tr><td style=\"border:3px solid black; text-align:center;\"\n",
       "         width=\"40\" height=\"40\">512</td><td style=\"border:3px solid black; text-align:center;\"\n",
       "         width=\"40\" height=\"40\">32</td><td style=\"border:3px solid black; text-align:center;\"\n",
       "         width=\"40\" height=\"40\">8</td><td style=\"border:3px solid black; text-align:center;\"\n",
       "         width=\"40\" height=\"40\">8</td></tr><tr><td style=\"border:3px solid black; text-align:center;\"\n",
       "         width=\"40\" height=\"40\">64</td><td style=\"border:3px solid black; text-align:center;\"\n",
       "         width=\"40\" height=\"40\">4</td><td style=\"border:3px solid black; text-align:center;\"\n",
       "         width=\"40\" height=\"40\">2</td><td style=\"border:3px solid black; text-align:center;\"\n",
       "         width=\"40\" height=\"40\">2</td></tr><tr><td style=\"border:3px solid black; text-align:center;\"\n",
       "         width=\"40\" height=\"40\">8</td><td style=\"border:3px solid black; text-align:center;\"\n",
       "         width=\"40\" height=\"40\">8</td><td style=\"border:3px solid black; text-align:center;\"\n",
       "         width=\"40\" height=\"40\"></td><td style=\"border:3px solid black; text-align:center;\"\n",
       "         width=\"40\" height=\"40\">4</td></tr><tr><td style=\"border:3px solid black; text-align:center;\"\n",
       "         width=\"40\" height=\"40\"></td><td style=\"border:3px solid black; text-align:center;\"\n",
       "         width=\"40\" height=\"40\">4</td><td style=\"border:3px solid black; text-align:center;\"\n",
       "         width=\"40\" height=\"40\">2</td><td style=\"border:3px solid black; text-align:center;\"\n",
       "         width=\"40\" height=\"40\"></td></tr></table>"
      ],
      "text/plain": [
       "<IPython.core.display.HTML object>"
      ]
     },
     "metadata": {},
     "output_type": "display_data"
    },
    {
     "name": "stdout",
     "output_type": "stream",
     "text": [
      "Iter: 221\n",
      "======Direction: up======\n"
     ]
    },
    {
     "data": {
      "text/html": [
       "<h1>Score: 512</h1><table style=\"border: 5px solid black;\"><tr><td style=\"border:3px solid black; text-align:center;\"\n",
       "         width=\"40\" height=\"40\">512</td><td style=\"border:3px solid black; text-align:center;\"\n",
       "         width=\"40\" height=\"40\">32</td><td style=\"border:3px solid black; text-align:center;\"\n",
       "         width=\"40\" height=\"40\">8</td><td style=\"border:3px solid black; text-align:center;\"\n",
       "         width=\"40\" height=\"40\">8</td></tr><tr><td style=\"border:3px solid black; text-align:center;\"\n",
       "         width=\"40\" height=\"40\">64</td><td style=\"border:3px solid black; text-align:center;\"\n",
       "         width=\"40\" height=\"40\">4</td><td style=\"border:3px solid black; text-align:center;\"\n",
       "         width=\"40\" height=\"40\">4</td><td style=\"border:3px solid black; text-align:center;\"\n",
       "         width=\"40\" height=\"40\">2</td></tr><tr><td style=\"border:3px solid black; text-align:center;\"\n",
       "         width=\"40\" height=\"40\">8</td><td style=\"border:3px solid black; text-align:center;\"\n",
       "         width=\"40\" height=\"40\">8</td><td style=\"border:3px solid black; text-align:center;\"\n",
       "         width=\"40\" height=\"40\"></td><td style=\"border:3px solid black; text-align:center;\"\n",
       "         width=\"40\" height=\"40\">4</td></tr><tr><td style=\"border:3px solid black; text-align:center;\"\n",
       "         width=\"40\" height=\"40\"></td><td style=\"border:3px solid black; text-align:center;\"\n",
       "         width=\"40\" height=\"40\">4</td><td style=\"border:3px solid black; text-align:center;\"\n",
       "         width=\"40\" height=\"40\">2</td><td style=\"border:3px solid black; text-align:center;\"\n",
       "         width=\"40\" height=\"40\"></td></tr></table>"
      ],
      "text/plain": [
       "<IPython.core.display.HTML object>"
      ]
     },
     "metadata": {},
     "output_type": "display_data"
    },
    {
     "name": "stdout",
     "output_type": "stream",
     "text": [
      "Iter: 222\n",
      "======Direction: up======\n"
     ]
    },
    {
     "data": {
      "text/html": [
       "<h1>Score: 512</h1><table style=\"border: 5px solid black;\"><tr><td style=\"border:3px solid black; text-align:center;\"\n",
       "         width=\"40\" height=\"40\">512</td><td style=\"border:3px solid black; text-align:center;\"\n",
       "         width=\"40\" height=\"40\">32</td><td style=\"border:3px solid black; text-align:center;\"\n",
       "         width=\"40\" height=\"40\">8</td><td style=\"border:3px solid black; text-align:center;\"\n",
       "         width=\"40\" height=\"40\">8</td></tr><tr><td style=\"border:3px solid black; text-align:center;\"\n",
       "         width=\"40\" height=\"40\">64</td><td style=\"border:3px solid black; text-align:center;\"\n",
       "         width=\"40\" height=\"40\">4</td><td style=\"border:3px solid black; text-align:center;\"\n",
       "         width=\"40\" height=\"40\">4</td><td style=\"border:3px solid black; text-align:center;\"\n",
       "         width=\"40\" height=\"40\">2</td></tr><tr><td style=\"border:3px solid black; text-align:center;\"\n",
       "         width=\"40\" height=\"40\">8</td><td style=\"border:3px solid black; text-align:center;\"\n",
       "         width=\"40\" height=\"40\">8</td><td style=\"border:3px solid black; text-align:center;\"\n",
       "         width=\"40\" height=\"40\">2</td><td style=\"border:3px solid black; text-align:center;\"\n",
       "         width=\"40\" height=\"40\">4</td></tr><tr><td style=\"border:3px solid black; text-align:center;\"\n",
       "         width=\"40\" height=\"40\"></td><td style=\"border:3px solid black; text-align:center;\"\n",
       "         width=\"40\" height=\"40\">4</td><td style=\"border:3px solid black; text-align:center;\"\n",
       "         width=\"40\" height=\"40\">2</td><td style=\"border:3px solid black; text-align:center;\"\n",
       "         width=\"40\" height=\"40\"></td></tr></table>"
      ],
      "text/plain": [
       "<IPython.core.display.HTML object>"
      ]
     },
     "metadata": {},
     "output_type": "display_data"
    },
    {
     "name": "stdout",
     "output_type": "stream",
     "text": [
      "Iter: 223\n",
      "======Direction: left======\n"
     ]
    },
    {
     "data": {
      "text/html": [
       "<h1>Score: 512</h1><table style=\"border: 5px solid black;\"><tr><td style=\"border:3px solid black; text-align:center;\"\n",
       "         width=\"40\" height=\"40\">512</td><td style=\"border:3px solid black; text-align:center;\"\n",
       "         width=\"40\" height=\"40\">32</td><td style=\"border:3px solid black; text-align:center;\"\n",
       "         width=\"40\" height=\"40\">16</td><td style=\"border:3px solid black; text-align:center;\"\n",
       "         width=\"40\" height=\"40\"></td></tr><tr><td style=\"border:3px solid black; text-align:center;\"\n",
       "         width=\"40\" height=\"40\">64</td><td style=\"border:3px solid black; text-align:center;\"\n",
       "         width=\"40\" height=\"40\">8</td><td style=\"border:3px solid black; text-align:center;\"\n",
       "         width=\"40\" height=\"40\">2</td><td style=\"border:3px solid black; text-align:center;\"\n",
       "         width=\"40\" height=\"40\"></td></tr><tr><td style=\"border:3px solid black; text-align:center;\"\n",
       "         width=\"40\" height=\"40\">16</td><td style=\"border:3px solid black; text-align:center;\"\n",
       "         width=\"40\" height=\"40\">2</td><td style=\"border:3px solid black; text-align:center;\"\n",
       "         width=\"40\" height=\"40\">4</td><td style=\"border:3px solid black; text-align:center;\"\n",
       "         width=\"40\" height=\"40\"></td></tr><tr><td style=\"border:3px solid black; text-align:center;\"\n",
       "         width=\"40\" height=\"40\">4</td><td style=\"border:3px solid black; text-align:center;\"\n",
       "         width=\"40\" height=\"40\">2</td><td style=\"border:3px solid black; text-align:center;\"\n",
       "         width=\"40\" height=\"40\">4</td><td style=\"border:3px solid black; text-align:center;\"\n",
       "         width=\"40\" height=\"40\"></td></tr></table>"
      ],
      "text/plain": [
       "<IPython.core.display.HTML object>"
      ]
     },
     "metadata": {},
     "output_type": "display_data"
    },
    {
     "name": "stdout",
     "output_type": "stream",
     "text": [
      "Iter: 224\n",
      "======Direction: up======\n"
     ]
    },
    {
     "data": {
      "text/html": [
       "<h1>Score: 512</h1><table style=\"border: 5px solid black;\"><tr><td style=\"border:3px solid black; text-align:center;\"\n",
       "         width=\"40\" height=\"40\">512</td><td style=\"border:3px solid black; text-align:center;\"\n",
       "         width=\"40\" height=\"40\">32</td><td style=\"border:3px solid black; text-align:center;\"\n",
       "         width=\"40\" height=\"40\">16</td><td style=\"border:3px solid black; text-align:center;\"\n",
       "         width=\"40\" height=\"40\">2</td></tr><tr><td style=\"border:3px solid black; text-align:center;\"\n",
       "         width=\"40\" height=\"40\">64</td><td style=\"border:3px solid black; text-align:center;\"\n",
       "         width=\"40\" height=\"40\">8</td><td style=\"border:3px solid black; text-align:center;\"\n",
       "         width=\"40\" height=\"40\">2</td><td style=\"border:3px solid black; text-align:center;\"\n",
       "         width=\"40\" height=\"40\"></td></tr><tr><td style=\"border:3px solid black; text-align:center;\"\n",
       "         width=\"40\" height=\"40\">16</td><td style=\"border:3px solid black; text-align:center;\"\n",
       "         width=\"40\" height=\"40\">4</td><td style=\"border:3px solid black; text-align:center;\"\n",
       "         width=\"40\" height=\"40\">8</td><td style=\"border:3px solid black; text-align:center;\"\n",
       "         width=\"40\" height=\"40\"></td></tr><tr><td style=\"border:3px solid black; text-align:center;\"\n",
       "         width=\"40\" height=\"40\">4</td><td style=\"border:3px solid black; text-align:center;\"\n",
       "         width=\"40\" height=\"40\"></td><td style=\"border:3px solid black; text-align:center;\"\n",
       "         width=\"40\" height=\"40\"></td><td style=\"border:3px solid black; text-align:center;\"\n",
       "         width=\"40\" height=\"40\"></td></tr></table>"
      ],
      "text/plain": [
       "<IPython.core.display.HTML object>"
      ]
     },
     "metadata": {},
     "output_type": "display_data"
    },
    {
     "name": "stdout",
     "output_type": "stream",
     "text": [
      "Iter: 225\n",
      "======Direction: down======\n"
     ]
    },
    {
     "data": {
      "text/html": [
       "<h1>Score: 512</h1><table style=\"border: 5px solid black;\"><tr><td style=\"border:3px solid black; text-align:center;\"\n",
       "         width=\"40\" height=\"40\">512</td><td style=\"border:3px solid black; text-align:center;\"\n",
       "         width=\"40\" height=\"40\"></td><td style=\"border:3px solid black; text-align:center;\"\n",
       "         width=\"40\" height=\"40\">2</td><td style=\"border:3px solid black; text-align:center;\"\n",
       "         width=\"40\" height=\"40\"></td></tr><tr><td style=\"border:3px solid black; text-align:center;\"\n",
       "         width=\"40\" height=\"40\">64</td><td style=\"border:3px solid black; text-align:center;\"\n",
       "         width=\"40\" height=\"40\">32</td><td style=\"border:3px solid black; text-align:center;\"\n",
       "         width=\"40\" height=\"40\">16</td><td style=\"border:3px solid black; text-align:center;\"\n",
       "         width=\"40\" height=\"40\"></td></tr><tr><td style=\"border:3px solid black; text-align:center;\"\n",
       "         width=\"40\" height=\"40\">16</td><td style=\"border:3px solid black; text-align:center;\"\n",
       "         width=\"40\" height=\"40\">8</td><td style=\"border:3px solid black; text-align:center;\"\n",
       "         width=\"40\" height=\"40\">2</td><td style=\"border:3px solid black; text-align:center;\"\n",
       "         width=\"40\" height=\"40\"></td></tr><tr><td style=\"border:3px solid black; text-align:center;\"\n",
       "         width=\"40\" height=\"40\">4</td><td style=\"border:3px solid black; text-align:center;\"\n",
       "         width=\"40\" height=\"40\">4</td><td style=\"border:3px solid black; text-align:center;\"\n",
       "         width=\"40\" height=\"40\">8</td><td style=\"border:3px solid black; text-align:center;\"\n",
       "         width=\"40\" height=\"40\">2</td></tr></table>"
      ],
      "text/plain": [
       "<IPython.core.display.HTML object>"
      ]
     },
     "metadata": {},
     "output_type": "display_data"
    },
    {
     "name": "stdout",
     "output_type": "stream",
     "text": [
      "Iter: 226\n",
      "======Direction: left======\n"
     ]
    },
    {
     "data": {
      "text/html": [
       "<h1>Score: 512</h1><table style=\"border: 5px solid black;\"><tr><td style=\"border:3px solid black; text-align:center;\"\n",
       "         width=\"40\" height=\"40\">512</td><td style=\"border:3px solid black; text-align:center;\"\n",
       "         width=\"40\" height=\"40\">2</td><td style=\"border:3px solid black; text-align:center;\"\n",
       "         width=\"40\" height=\"40\"></td><td style=\"border:3px solid black; text-align:center;\"\n",
       "         width=\"40\" height=\"40\"></td></tr><tr><td style=\"border:3px solid black; text-align:center;\"\n",
       "         width=\"40\" height=\"40\">64</td><td style=\"border:3px solid black; text-align:center;\"\n",
       "         width=\"40\" height=\"40\">32</td><td style=\"border:3px solid black; text-align:center;\"\n",
       "         width=\"40\" height=\"40\">16</td><td style=\"border:3px solid black; text-align:center;\"\n",
       "         width=\"40\" height=\"40\"></td></tr><tr><td style=\"border:3px solid black; text-align:center;\"\n",
       "         width=\"40\" height=\"40\">16</td><td style=\"border:3px solid black; text-align:center;\"\n",
       "         width=\"40\" height=\"40\">8</td><td style=\"border:3px solid black; text-align:center;\"\n",
       "         width=\"40\" height=\"40\">2</td><td style=\"border:3px solid black; text-align:center;\"\n",
       "         width=\"40\" height=\"40\">2</td></tr><tr><td style=\"border:3px solid black; text-align:center;\"\n",
       "         width=\"40\" height=\"40\">8</td><td style=\"border:3px solid black; text-align:center;\"\n",
       "         width=\"40\" height=\"40\">8</td><td style=\"border:3px solid black; text-align:center;\"\n",
       "         width=\"40\" height=\"40\">2</td><td style=\"border:3px solid black; text-align:center;\"\n",
       "         width=\"40\" height=\"40\"></td></tr></table>"
      ],
      "text/plain": [
       "<IPython.core.display.HTML object>"
      ]
     },
     "metadata": {},
     "output_type": "display_data"
    },
    {
     "name": "stdout",
     "output_type": "stream",
     "text": [
      "Iter: 227\n",
      "======Direction: up======\n"
     ]
    },
    {
     "data": {
      "text/html": [
       "<h1>Score: 512</h1><table style=\"border: 5px solid black;\"><tr><td style=\"border:3px solid black; text-align:center;\"\n",
       "         width=\"40\" height=\"40\">512</td><td style=\"border:3px solid black; text-align:center;\"\n",
       "         width=\"40\" height=\"40\">2</td><td style=\"border:3px solid black; text-align:center;\"\n",
       "         width=\"40\" height=\"40\">16</td><td style=\"border:3px solid black; text-align:center;\"\n",
       "         width=\"40\" height=\"40\">2</td></tr><tr><td style=\"border:3px solid black; text-align:center;\"\n",
       "         width=\"40\" height=\"40\">64</td><td style=\"border:3px solid black; text-align:center;\"\n",
       "         width=\"40\" height=\"40\">32</td><td style=\"border:3px solid black; text-align:center;\"\n",
       "         width=\"40\" height=\"40\">4</td><td style=\"border:3px solid black; text-align:center;\"\n",
       "         width=\"40\" height=\"40\"></td></tr><tr><td style=\"border:3px solid black; text-align:center;\"\n",
       "         width=\"40\" height=\"40\">16</td><td style=\"border:3px solid black; text-align:center;\"\n",
       "         width=\"40\" height=\"40\">16</td><td style=\"border:3px solid black; text-align:center;\"\n",
       "         width=\"40\" height=\"40\"></td><td style=\"border:3px solid black; text-align:center;\"\n",
       "         width=\"40\" height=\"40\"></td></tr><tr><td style=\"border:3px solid black; text-align:center;\"\n",
       "         width=\"40\" height=\"40\">8</td><td style=\"border:3px solid black; text-align:center;\"\n",
       "         width=\"40\" height=\"40\">2</td><td style=\"border:3px solid black; text-align:center;\"\n",
       "         width=\"40\" height=\"40\"></td><td style=\"border:3px solid black; text-align:center;\"\n",
       "         width=\"40\" height=\"40\"></td></tr></table>"
      ],
      "text/plain": [
       "<IPython.core.display.HTML object>"
      ]
     },
     "metadata": {},
     "output_type": "display_data"
    },
    {
     "name": "stdout",
     "output_type": "stream",
     "text": [
      "Iter: 228\n",
      "======Direction: left======\n"
     ]
    },
    {
     "data": {
      "text/html": [
       "<h1>Score: 512</h1><table style=\"border: 5px solid black;\"><tr><td style=\"border:3px solid black; text-align:center;\"\n",
       "         width=\"40\" height=\"40\">512</td><td style=\"border:3px solid black; text-align:center;\"\n",
       "         width=\"40\" height=\"40\">2</td><td style=\"border:3px solid black; text-align:center;\"\n",
       "         width=\"40\" height=\"40\">16</td><td style=\"border:3px solid black; text-align:center;\"\n",
       "         width=\"40\" height=\"40\">2</td></tr><tr><td style=\"border:3px solid black; text-align:center;\"\n",
       "         width=\"40\" height=\"40\">64</td><td style=\"border:3px solid black; text-align:center;\"\n",
       "         width=\"40\" height=\"40\">32</td><td style=\"border:3px solid black; text-align:center;\"\n",
       "         width=\"40\" height=\"40\">4</td><td style=\"border:3px solid black; text-align:center;\"\n",
       "         width=\"40\" height=\"40\">2</td></tr><tr><td style=\"border:3px solid black; text-align:center;\"\n",
       "         width=\"40\" height=\"40\">32</td><td style=\"border:3px solid black; text-align:center;\"\n",
       "         width=\"40\" height=\"40\"></td><td style=\"border:3px solid black; text-align:center;\"\n",
       "         width=\"40\" height=\"40\"></td><td style=\"border:3px solid black; text-align:center;\"\n",
       "         width=\"40\" height=\"40\"></td></tr><tr><td style=\"border:3px solid black; text-align:center;\"\n",
       "         width=\"40\" height=\"40\">8</td><td style=\"border:3px solid black; text-align:center;\"\n",
       "         width=\"40\" height=\"40\">2</td><td style=\"border:3px solid black; text-align:center;\"\n",
       "         width=\"40\" height=\"40\"></td><td style=\"border:3px solid black; text-align:center;\"\n",
       "         width=\"40\" height=\"40\"></td></tr></table>"
      ],
      "text/plain": [
       "<IPython.core.display.HTML object>"
      ]
     },
     "metadata": {},
     "output_type": "display_data"
    },
    {
     "name": "stdout",
     "output_type": "stream",
     "text": [
      "Iter: 229\n",
      "======Direction: down======\n"
     ]
    },
    {
     "data": {
      "text/html": [
       "<h1>Score: 512</h1><table style=\"border: 5px solid black;\"><tr><td style=\"border:3px solid black; text-align:center;\"\n",
       "         width=\"40\" height=\"40\">512</td><td style=\"border:3px solid black; text-align:center;\"\n",
       "         width=\"40\" height=\"40\"></td><td style=\"border:3px solid black; text-align:center;\"\n",
       "         width=\"40\" height=\"40\"></td><td style=\"border:3px solid black; text-align:center;\"\n",
       "         width=\"40\" height=\"40\"></td></tr><tr><td style=\"border:3px solid black; text-align:center;\"\n",
       "         width=\"40\" height=\"40\">64</td><td style=\"border:3px solid black; text-align:center;\"\n",
       "         width=\"40\" height=\"40\">2</td><td style=\"border:3px solid black; text-align:center;\"\n",
       "         width=\"40\" height=\"40\">4</td><td style=\"border:3px solid black; text-align:center;\"\n",
       "         width=\"40\" height=\"40\"></td></tr><tr><td style=\"border:3px solid black; text-align:center;\"\n",
       "         width=\"40\" height=\"40\">32</td><td style=\"border:3px solid black; text-align:center;\"\n",
       "         width=\"40\" height=\"40\">32</td><td style=\"border:3px solid black; text-align:center;\"\n",
       "         width=\"40\" height=\"40\">16</td><td style=\"border:3px solid black; text-align:center;\"\n",
       "         width=\"40\" height=\"40\"></td></tr><tr><td style=\"border:3px solid black; text-align:center;\"\n",
       "         width=\"40\" height=\"40\">8</td><td style=\"border:3px solid black; text-align:center;\"\n",
       "         width=\"40\" height=\"40\">2</td><td style=\"border:3px solid black; text-align:center;\"\n",
       "         width=\"40\" height=\"40\">4</td><td style=\"border:3px solid black; text-align:center;\"\n",
       "         width=\"40\" height=\"40\">4</td></tr></table>"
      ],
      "text/plain": [
       "<IPython.core.display.HTML object>"
      ]
     },
     "metadata": {},
     "output_type": "display_data"
    },
    {
     "name": "stdout",
     "output_type": "stream",
     "text": [
      "Iter: 230\n",
      "======Direction: left======\n"
     ]
    },
    {
     "data": {
      "text/html": [
       "<h1>Score: 512</h1><table style=\"border: 5px solid black;\"><tr><td style=\"border:3px solid black; text-align:center;\"\n",
       "         width=\"40\" height=\"40\">512</td><td style=\"border:3px solid black; text-align:center;\"\n",
       "         width=\"40\" height=\"40\"></td><td style=\"border:3px solid black; text-align:center;\"\n",
       "         width=\"40\" height=\"40\"></td><td style=\"border:3px solid black; text-align:center;\"\n",
       "         width=\"40\" height=\"40\"></td></tr><tr><td style=\"border:3px solid black; text-align:center;\"\n",
       "         width=\"40\" height=\"40\">64</td><td style=\"border:3px solid black; text-align:center;\"\n",
       "         width=\"40\" height=\"40\">2</td><td style=\"border:3px solid black; text-align:center;\"\n",
       "         width=\"40\" height=\"40\">4</td><td style=\"border:3px solid black; text-align:center;\"\n",
       "         width=\"40\" height=\"40\">4</td></tr><tr><td style=\"border:3px solid black; text-align:center;\"\n",
       "         width=\"40\" height=\"40\">64</td><td style=\"border:3px solid black; text-align:center;\"\n",
       "         width=\"40\" height=\"40\">16</td><td style=\"border:3px solid black; text-align:center;\"\n",
       "         width=\"40\" height=\"40\"></td><td style=\"border:3px solid black; text-align:center;\"\n",
       "         width=\"40\" height=\"40\"></td></tr><tr><td style=\"border:3px solid black; text-align:center;\"\n",
       "         width=\"40\" height=\"40\">8</td><td style=\"border:3px solid black; text-align:center;\"\n",
       "         width=\"40\" height=\"40\">2</td><td style=\"border:3px solid black; text-align:center;\"\n",
       "         width=\"40\" height=\"40\">8</td><td style=\"border:3px solid black; text-align:center;\"\n",
       "         width=\"40\" height=\"40\"></td></tr></table>"
      ],
      "text/plain": [
       "<IPython.core.display.HTML object>"
      ]
     },
     "metadata": {},
     "output_type": "display_data"
    },
    {
     "name": "stdout",
     "output_type": "stream",
     "text": [
      "Iter: 231\n",
      "======Direction: up======\n"
     ]
    },
    {
     "data": {
      "text/html": [
       "<h1>Score: 512</h1><table style=\"border: 5px solid black;\"><tr><td style=\"border:3px solid black; text-align:center;\"\n",
       "         width=\"40\" height=\"40\">512</td><td style=\"border:3px solid black; text-align:center;\"\n",
       "         width=\"40\" height=\"40\">2</td><td style=\"border:3px solid black; text-align:center;\"\n",
       "         width=\"40\" height=\"40\">4</td><td style=\"border:3px solid black; text-align:center;\"\n",
       "         width=\"40\" height=\"40\">4</td></tr><tr><td style=\"border:3px solid black; text-align:center;\"\n",
       "         width=\"40\" height=\"40\">128</td><td style=\"border:3px solid black; text-align:center;\"\n",
       "         width=\"40\" height=\"40\">16</td><td style=\"border:3px solid black; text-align:center;\"\n",
       "         width=\"40\" height=\"40\">8</td><td style=\"border:3px solid black; text-align:center;\"\n",
       "         width=\"40\" height=\"40\"></td></tr><tr><td style=\"border:3px solid black; text-align:center;\"\n",
       "         width=\"40\" height=\"40\">8</td><td style=\"border:3px solid black; text-align:center;\"\n",
       "         width=\"40\" height=\"40\">2</td><td style=\"border:3px solid black; text-align:center;\"\n",
       "         width=\"40\" height=\"40\"></td><td style=\"border:3px solid black; text-align:center;\"\n",
       "         width=\"40\" height=\"40\"></td></tr><tr><td style=\"border:3px solid black; text-align:center;\"\n",
       "         width=\"40\" height=\"40\">4</td><td style=\"border:3px solid black; text-align:center;\"\n",
       "         width=\"40\" height=\"40\"></td><td style=\"border:3px solid black; text-align:center;\"\n",
       "         width=\"40\" height=\"40\"></td><td style=\"border:3px solid black; text-align:center;\"\n",
       "         width=\"40\" height=\"40\"></td></tr></table>"
      ],
      "text/plain": [
       "<IPython.core.display.HTML object>"
      ]
     },
     "metadata": {},
     "output_type": "display_data"
    },
    {
     "name": "stdout",
     "output_type": "stream",
     "text": [
      "Iter: 232\n",
      "======Direction: down======\n"
     ]
    },
    {
     "data": {
      "text/html": [
       "<h1>Score: 512</h1><table style=\"border: 5px solid black;\"><tr><td style=\"border:3px solid black; text-align:center;\"\n",
       "         width=\"40\" height=\"40\">512</td><td style=\"border:3px solid black; text-align:center;\"\n",
       "         width=\"40\" height=\"40\"></td><td style=\"border:3px solid black; text-align:center;\"\n",
       "         width=\"40\" height=\"40\"></td><td style=\"border:3px solid black; text-align:center;\"\n",
       "         width=\"40\" height=\"40\"></td></tr><tr><td style=\"border:3px solid black; text-align:center;\"\n",
       "         width=\"40\" height=\"40\">128</td><td style=\"border:3px solid black; text-align:center;\"\n",
       "         width=\"40\" height=\"40\">2</td><td style=\"border:3px solid black; text-align:center;\"\n",
       "         width=\"40\" height=\"40\">2</td><td style=\"border:3px solid black; text-align:center;\"\n",
       "         width=\"40\" height=\"40\"></td></tr><tr><td style=\"border:3px solid black; text-align:center;\"\n",
       "         width=\"40\" height=\"40\">8</td><td style=\"border:3px solid black; text-align:center;\"\n",
       "         width=\"40\" height=\"40\">16</td><td style=\"border:3px solid black; text-align:center;\"\n",
       "         width=\"40\" height=\"40\">4</td><td style=\"border:3px solid black; text-align:center;\"\n",
       "         width=\"40\" height=\"40\"></td></tr><tr><td style=\"border:3px solid black; text-align:center;\"\n",
       "         width=\"40\" height=\"40\">4</td><td style=\"border:3px solid black; text-align:center;\"\n",
       "         width=\"40\" height=\"40\">2</td><td style=\"border:3px solid black; text-align:center;\"\n",
       "         width=\"40\" height=\"40\">8</td><td style=\"border:3px solid black; text-align:center;\"\n",
       "         width=\"40\" height=\"40\">4</td></tr></table>"
      ],
      "text/plain": [
       "<IPython.core.display.HTML object>"
      ]
     },
     "metadata": {},
     "output_type": "display_data"
    },
    {
     "name": "stdout",
     "output_type": "stream",
     "text": [
      "Iter: 233\n",
      "======Direction: up======\n"
     ]
    },
    {
     "data": {
      "text/html": [
       "<h1>Score: 512</h1><table style=\"border: 5px solid black;\"><tr><td style=\"border:3px solid black; text-align:center;\"\n",
       "         width=\"40\" height=\"40\">512</td><td style=\"border:3px solid black; text-align:center;\"\n",
       "         width=\"40\" height=\"40\">2</td><td style=\"border:3px solid black; text-align:center;\"\n",
       "         width=\"40\" height=\"40\">2</td><td style=\"border:3px solid black; text-align:center;\"\n",
       "         width=\"40\" height=\"40\">4</td></tr><tr><td style=\"border:3px solid black; text-align:center;\"\n",
       "         width=\"40\" height=\"40\">128</td><td style=\"border:3px solid black; text-align:center;\"\n",
       "         width=\"40\" height=\"40\">16</td><td style=\"border:3px solid black; text-align:center;\"\n",
       "         width=\"40\" height=\"40\">4</td><td style=\"border:3px solid black; text-align:center;\"\n",
       "         width=\"40\" height=\"40\">2</td></tr><tr><td style=\"border:3px solid black; text-align:center;\"\n",
       "         width=\"40\" height=\"40\">8</td><td style=\"border:3px solid black; text-align:center;\"\n",
       "         width=\"40\" height=\"40\">2</td><td style=\"border:3px solid black; text-align:center;\"\n",
       "         width=\"40\" height=\"40\">8</td><td style=\"border:3px solid black; text-align:center;\"\n",
       "         width=\"40\" height=\"40\"></td></tr><tr><td style=\"border:3px solid black; text-align:center;\"\n",
       "         width=\"40\" height=\"40\">4</td><td style=\"border:3px solid black; text-align:center;\"\n",
       "         width=\"40\" height=\"40\"></td><td style=\"border:3px solid black; text-align:center;\"\n",
       "         width=\"40\" height=\"40\"></td><td style=\"border:3px solid black; text-align:center;\"\n",
       "         width=\"40\" height=\"40\"></td></tr></table>"
      ],
      "text/plain": [
       "<IPython.core.display.HTML object>"
      ]
     },
     "metadata": {},
     "output_type": "display_data"
    },
    {
     "name": "stdout",
     "output_type": "stream",
     "text": [
      "Iter: 234\n",
      "======Direction: left======\n"
     ]
    },
    {
     "data": {
      "text/html": [
       "<h1>Score: 512</h1><table style=\"border: 5px solid black;\"><tr><td style=\"border:3px solid black; text-align:center;\"\n",
       "         width=\"40\" height=\"40\">512</td><td style=\"border:3px solid black; text-align:center;\"\n",
       "         width=\"40\" height=\"40\">4</td><td style=\"border:3px solid black; text-align:center;\"\n",
       "         width=\"40\" height=\"40\">4</td><td style=\"border:3px solid black; text-align:center;\"\n",
       "         width=\"40\" height=\"40\"></td></tr><tr><td style=\"border:3px solid black; text-align:center;\"\n",
       "         width=\"40\" height=\"40\">128</td><td style=\"border:3px solid black; text-align:center;\"\n",
       "         width=\"40\" height=\"40\">16</td><td style=\"border:3px solid black; text-align:center;\"\n",
       "         width=\"40\" height=\"40\">4</td><td style=\"border:3px solid black; text-align:center;\"\n",
       "         width=\"40\" height=\"40\">2</td></tr><tr><td style=\"border:3px solid black; text-align:center;\"\n",
       "         width=\"40\" height=\"40\">8</td><td style=\"border:3px solid black; text-align:center;\"\n",
       "         width=\"40\" height=\"40\">2</td><td style=\"border:3px solid black; text-align:center;\"\n",
       "         width=\"40\" height=\"40\">8</td><td style=\"border:3px solid black; text-align:center;\"\n",
       "         width=\"40\" height=\"40\"></td></tr><tr><td style=\"border:3px solid black; text-align:center;\"\n",
       "         width=\"40\" height=\"40\">4</td><td style=\"border:3px solid black; text-align:center;\"\n",
       "         width=\"40\" height=\"40\"></td><td style=\"border:3px solid black; text-align:center;\"\n",
       "         width=\"40\" height=\"40\"></td><td style=\"border:3px solid black; text-align:center;\"\n",
       "         width=\"40\" height=\"40\">4</td></tr></table>"
      ],
      "text/plain": [
       "<IPython.core.display.HTML object>"
      ]
     },
     "metadata": {},
     "output_type": "display_data"
    },
    {
     "name": "stdout",
     "output_type": "stream",
     "text": [
      "Iter: 235\n",
      "======Direction: left======\n"
     ]
    },
    {
     "data": {
      "text/html": [
       "<h1>Score: 512</h1><table style=\"border: 5px solid black;\"><tr><td style=\"border:3px solid black; text-align:center;\"\n",
       "         width=\"40\" height=\"40\">512</td><td style=\"border:3px solid black; text-align:center;\"\n",
       "         width=\"40\" height=\"40\">8</td><td style=\"border:3px solid black; text-align:center;\"\n",
       "         width=\"40\" height=\"40\"></td><td style=\"border:3px solid black; text-align:center;\"\n",
       "         width=\"40\" height=\"40\">4</td></tr><tr><td style=\"border:3px solid black; text-align:center;\"\n",
       "         width=\"40\" height=\"40\">128</td><td style=\"border:3px solid black; text-align:center;\"\n",
       "         width=\"40\" height=\"40\">16</td><td style=\"border:3px solid black; text-align:center;\"\n",
       "         width=\"40\" height=\"40\">4</td><td style=\"border:3px solid black; text-align:center;\"\n",
       "         width=\"40\" height=\"40\">2</td></tr><tr><td style=\"border:3px solid black; text-align:center;\"\n",
       "         width=\"40\" height=\"40\">8</td><td style=\"border:3px solid black; text-align:center;\"\n",
       "         width=\"40\" height=\"40\">2</td><td style=\"border:3px solid black; text-align:center;\"\n",
       "         width=\"40\" height=\"40\">8</td><td style=\"border:3px solid black; text-align:center;\"\n",
       "         width=\"40\" height=\"40\"></td></tr><tr><td style=\"border:3px solid black; text-align:center;\"\n",
       "         width=\"40\" height=\"40\">8</td><td style=\"border:3px solid black; text-align:center;\"\n",
       "         width=\"40\" height=\"40\"></td><td style=\"border:3px solid black; text-align:center;\"\n",
       "         width=\"40\" height=\"40\"></td><td style=\"border:3px solid black; text-align:center;\"\n",
       "         width=\"40\" height=\"40\"></td></tr></table>"
      ],
      "text/plain": [
       "<IPython.core.display.HTML object>"
      ]
     },
     "metadata": {},
     "output_type": "display_data"
    },
    {
     "name": "stdout",
     "output_type": "stream",
     "text": [
      "Iter: 236\n",
      "======Direction: up======\n"
     ]
    },
    {
     "data": {
      "text/html": [
       "<h1>Score: 512</h1><table style=\"border: 5px solid black;\"><tr><td style=\"border:3px solid black; text-align:center;\"\n",
       "         width=\"40\" height=\"40\">512</td><td style=\"border:3px solid black; text-align:center;\"\n",
       "         width=\"40\" height=\"40\">8</td><td style=\"border:3px solid black; text-align:center;\"\n",
       "         width=\"40\" height=\"40\">4</td><td style=\"border:3px solid black; text-align:center;\"\n",
       "         width=\"40\" height=\"40\">4</td></tr><tr><td style=\"border:3px solid black; text-align:center;\"\n",
       "         width=\"40\" height=\"40\">128</td><td style=\"border:3px solid black; text-align:center;\"\n",
       "         width=\"40\" height=\"40\">16</td><td style=\"border:3px solid black; text-align:center;\"\n",
       "         width=\"40\" height=\"40\">8</td><td style=\"border:3px solid black; text-align:center;\"\n",
       "         width=\"40\" height=\"40\">2</td></tr><tr><td style=\"border:3px solid black; text-align:center;\"\n",
       "         width=\"40\" height=\"40\">16</td><td style=\"border:3px solid black; text-align:center;\"\n",
       "         width=\"40\" height=\"40\">2</td><td style=\"border:3px solid black; text-align:center;\"\n",
       "         width=\"40\" height=\"40\"></td><td style=\"border:3px solid black; text-align:center;\"\n",
       "         width=\"40\" height=\"40\"></td></tr><tr><td style=\"border:3px solid black; text-align:center;\"\n",
       "         width=\"40\" height=\"40\"></td><td style=\"border:3px solid black; text-align:center;\"\n",
       "         width=\"40\" height=\"40\"></td><td style=\"border:3px solid black; text-align:center;\"\n",
       "         width=\"40\" height=\"40\"></td><td style=\"border:3px solid black; text-align:center;\"\n",
       "         width=\"40\" height=\"40\">2</td></tr></table>"
      ],
      "text/plain": [
       "<IPython.core.display.HTML object>"
      ]
     },
     "metadata": {},
     "output_type": "display_data"
    },
    {
     "name": "stdout",
     "output_type": "stream",
     "text": [
      "Iter: 237\n",
      "======Direction: left======\n"
     ]
    },
    {
     "data": {
      "text/html": [
       "<h1>Score: 512</h1><table style=\"border: 5px solid black;\"><tr><td style=\"border:3px solid black; text-align:center;\"\n",
       "         width=\"40\" height=\"40\">512</td><td style=\"border:3px solid black; text-align:center;\"\n",
       "         width=\"40\" height=\"40\">8</td><td style=\"border:3px solid black; text-align:center;\"\n",
       "         width=\"40\" height=\"40\">8</td><td style=\"border:3px solid black; text-align:center;\"\n",
       "         width=\"40\" height=\"40\"></td></tr><tr><td style=\"border:3px solid black; text-align:center;\"\n",
       "         width=\"40\" height=\"40\">128</td><td style=\"border:3px solid black; text-align:center;\"\n",
       "         width=\"40\" height=\"40\">16</td><td style=\"border:3px solid black; text-align:center;\"\n",
       "         width=\"40\" height=\"40\">8</td><td style=\"border:3px solid black; text-align:center;\"\n",
       "         width=\"40\" height=\"40\">2</td></tr><tr><td style=\"border:3px solid black; text-align:center;\"\n",
       "         width=\"40\" height=\"40\">16</td><td style=\"border:3px solid black; text-align:center;\"\n",
       "         width=\"40\" height=\"40\">2</td><td style=\"border:3px solid black; text-align:center;\"\n",
       "         width=\"40\" height=\"40\"></td><td style=\"border:3px solid black; text-align:center;\"\n",
       "         width=\"40\" height=\"40\">2</td></tr><tr><td style=\"border:3px solid black; text-align:center;\"\n",
       "         width=\"40\" height=\"40\">2</td><td style=\"border:3px solid black; text-align:center;\"\n",
       "         width=\"40\" height=\"40\"></td><td style=\"border:3px solid black; text-align:center;\"\n",
       "         width=\"40\" height=\"40\"></td><td style=\"border:3px solid black; text-align:center;\"\n",
       "         width=\"40\" height=\"40\"></td></tr></table>"
      ],
      "text/plain": [
       "<IPython.core.display.HTML object>"
      ]
     },
     "metadata": {},
     "output_type": "display_data"
    },
    {
     "name": "stdout",
     "output_type": "stream",
     "text": [
      "Iter: 238\n",
      "======Direction: left======\n"
     ]
    },
    {
     "data": {
      "text/html": [
       "<h1>Score: 512</h1><table style=\"border: 5px solid black;\"><tr><td style=\"border:3px solid black; text-align:center;\"\n",
       "         width=\"40\" height=\"40\">512</td><td style=\"border:3px solid black; text-align:center;\"\n",
       "         width=\"40\" height=\"40\">16</td><td style=\"border:3px solid black; text-align:center;\"\n",
       "         width=\"40\" height=\"40\"></td><td style=\"border:3px solid black; text-align:center;\"\n",
       "         width=\"40\" height=\"40\">4</td></tr><tr><td style=\"border:3px solid black; text-align:center;\"\n",
       "         width=\"40\" height=\"40\">128</td><td style=\"border:3px solid black; text-align:center;\"\n",
       "         width=\"40\" height=\"40\">16</td><td style=\"border:3px solid black; text-align:center;\"\n",
       "         width=\"40\" height=\"40\">8</td><td style=\"border:3px solid black; text-align:center;\"\n",
       "         width=\"40\" height=\"40\">2</td></tr><tr><td style=\"border:3px solid black; text-align:center;\"\n",
       "         width=\"40\" height=\"40\">16</td><td style=\"border:3px solid black; text-align:center;\"\n",
       "         width=\"40\" height=\"40\">4</td><td style=\"border:3px solid black; text-align:center;\"\n",
       "         width=\"40\" height=\"40\"></td><td style=\"border:3px solid black; text-align:center;\"\n",
       "         width=\"40\" height=\"40\"></td></tr><tr><td style=\"border:3px solid black; text-align:center;\"\n",
       "         width=\"40\" height=\"40\">2</td><td style=\"border:3px solid black; text-align:center;\"\n",
       "         width=\"40\" height=\"40\"></td><td style=\"border:3px solid black; text-align:center;\"\n",
       "         width=\"40\" height=\"40\"></td><td style=\"border:3px solid black; text-align:center;\"\n",
       "         width=\"40\" height=\"40\"></td></tr></table>"
      ],
      "text/plain": [
       "<IPython.core.display.HTML object>"
      ]
     },
     "metadata": {},
     "output_type": "display_data"
    },
    {
     "name": "stdout",
     "output_type": "stream",
     "text": [
      "Iter: 239\n",
      "======Direction: left======\n"
     ]
    },
    {
     "data": {
      "text/html": [
       "<h1>Score: 512</h1><table style=\"border: 5px solid black;\"><tr><td style=\"border:3px solid black; text-align:center;\"\n",
       "         width=\"40\" height=\"40\">512</td><td style=\"border:3px solid black; text-align:center;\"\n",
       "         width=\"40\" height=\"40\">16</td><td style=\"border:3px solid black; text-align:center;\"\n",
       "         width=\"40\" height=\"40\">4</td><td style=\"border:3px solid black; text-align:center;\"\n",
       "         width=\"40\" height=\"40\"></td></tr><tr><td style=\"border:3px solid black; text-align:center;\"\n",
       "         width=\"40\" height=\"40\">128</td><td style=\"border:3px solid black; text-align:center;\"\n",
       "         width=\"40\" height=\"40\">16</td><td style=\"border:3px solid black; text-align:center;\"\n",
       "         width=\"40\" height=\"40\">8</td><td style=\"border:3px solid black; text-align:center;\"\n",
       "         width=\"40\" height=\"40\">2</td></tr><tr><td style=\"border:3px solid black; text-align:center;\"\n",
       "         width=\"40\" height=\"40\">16</td><td style=\"border:3px solid black; text-align:center;\"\n",
       "         width=\"40\" height=\"40\">4</td><td style=\"border:3px solid black; text-align:center;\"\n",
       "         width=\"40\" height=\"40\"></td><td style=\"border:3px solid black; text-align:center;\"\n",
       "         width=\"40\" height=\"40\"></td></tr><tr><td style=\"border:3px solid black; text-align:center;\"\n",
       "         width=\"40\" height=\"40\">2</td><td style=\"border:3px solid black; text-align:center;\"\n",
       "         width=\"40\" height=\"40\"></td><td style=\"border:3px solid black; text-align:center;\"\n",
       "         width=\"40\" height=\"40\"></td><td style=\"border:3px solid black; text-align:center;\"\n",
       "         width=\"40\" height=\"40\">4</td></tr></table>"
      ],
      "text/plain": [
       "<IPython.core.display.HTML object>"
      ]
     },
     "metadata": {},
     "output_type": "display_data"
    },
    {
     "name": "stdout",
     "output_type": "stream",
     "text": [
      "Iter: 240\n",
      "======Direction: up======\n"
     ]
    },
    {
     "data": {
      "text/html": [
       "<h1>Score: 512</h1><table style=\"border: 5px solid black;\"><tr><td style=\"border:3px solid black; text-align:center;\"\n",
       "         width=\"40\" height=\"40\">512</td><td style=\"border:3px solid black; text-align:center;\"\n",
       "         width=\"40\" height=\"40\">32</td><td style=\"border:3px solid black; text-align:center;\"\n",
       "         width=\"40\" height=\"40\">4</td><td style=\"border:3px solid black; text-align:center;\"\n",
       "         width=\"40\" height=\"40\">2</td></tr><tr><td style=\"border:3px solid black; text-align:center;\"\n",
       "         width=\"40\" height=\"40\">128</td><td style=\"border:3px solid black; text-align:center;\"\n",
       "         width=\"40\" height=\"40\">4</td><td style=\"border:3px solid black; text-align:center;\"\n",
       "         width=\"40\" height=\"40\">8</td><td style=\"border:3px solid black; text-align:center;\"\n",
       "         width=\"40\" height=\"40\">4</td></tr><tr><td style=\"border:3px solid black; text-align:center;\"\n",
       "         width=\"40\" height=\"40\">16</td><td style=\"border:3px solid black; text-align:center;\"\n",
       "         width=\"40\" height=\"40\"></td><td style=\"border:3px solid black; text-align:center;\"\n",
       "         width=\"40\" height=\"40\"></td><td style=\"border:3px solid black; text-align:center;\"\n",
       "         width=\"40\" height=\"40\"></td></tr><tr><td style=\"border:3px solid black; text-align:center;\"\n",
       "         width=\"40\" height=\"40\">2</td><td style=\"border:3px solid black; text-align:center;\"\n",
       "         width=\"40\" height=\"40\"></td><td style=\"border:3px solid black; text-align:center;\"\n",
       "         width=\"40\" height=\"40\"></td><td style=\"border:3px solid black; text-align:center;\"\n",
       "         width=\"40\" height=\"40\">2</td></tr></table>"
      ],
      "text/plain": [
       "<IPython.core.display.HTML object>"
      ]
     },
     "metadata": {},
     "output_type": "display_data"
    },
    {
     "name": "stdout",
     "output_type": "stream",
     "text": [
      "Iter: 241\n",
      "======Direction: up======\n"
     ]
    },
    {
     "data": {
      "text/html": [
       "<h1>Score: 512</h1><table style=\"border: 5px solid black;\"><tr><td style=\"border:3px solid black; text-align:center;\"\n",
       "         width=\"40\" height=\"40\">512</td><td style=\"border:3px solid black; text-align:center;\"\n",
       "         width=\"40\" height=\"40\">32</td><td style=\"border:3px solid black; text-align:center;\"\n",
       "         width=\"40\" height=\"40\">4</td><td style=\"border:3px solid black; text-align:center;\"\n",
       "         width=\"40\" height=\"40\">2</td></tr><tr><td style=\"border:3px solid black; text-align:center;\"\n",
       "         width=\"40\" height=\"40\">128</td><td style=\"border:3px solid black; text-align:center;\"\n",
       "         width=\"40\" height=\"40\">4</td><td style=\"border:3px solid black; text-align:center;\"\n",
       "         width=\"40\" height=\"40\">8</td><td style=\"border:3px solid black; text-align:center;\"\n",
       "         width=\"40\" height=\"40\">4</td></tr><tr><td style=\"border:3px solid black; text-align:center;\"\n",
       "         width=\"40\" height=\"40\">16</td><td style=\"border:3px solid black; text-align:center;\"\n",
       "         width=\"40\" height=\"40\"></td><td style=\"border:3px solid black; text-align:center;\"\n",
       "         width=\"40\" height=\"40\"></td><td style=\"border:3px solid black; text-align:center;\"\n",
       "         width=\"40\" height=\"40\">2</td></tr><tr><td style=\"border:3px solid black; text-align:center;\"\n",
       "         width=\"40\" height=\"40\">2</td><td style=\"border:3px solid black; text-align:center;\"\n",
       "         width=\"40\" height=\"40\"></td><td style=\"border:3px solid black; text-align:center;\"\n",
       "         width=\"40\" height=\"40\">4</td><td style=\"border:3px solid black; text-align:center;\"\n",
       "         width=\"40\" height=\"40\"></td></tr></table>"
      ],
      "text/plain": [
       "<IPython.core.display.HTML object>"
      ]
     },
     "metadata": {},
     "output_type": "display_data"
    },
    {
     "name": "stdout",
     "output_type": "stream",
     "text": [
      "Iter: 242\n",
      "======Direction: up======\n"
     ]
    },
    {
     "data": {
      "text/html": [
       "<h1>Score: 512</h1><table style=\"border: 5px solid black;\"><tr><td style=\"border:3px solid black; text-align:center;\"\n",
       "         width=\"40\" height=\"40\">512</td><td style=\"border:3px solid black; text-align:center;\"\n",
       "         width=\"40\" height=\"40\">32</td><td style=\"border:3px solid black; text-align:center;\"\n",
       "         width=\"40\" height=\"40\">4</td><td style=\"border:3px solid black; text-align:center;\"\n",
       "         width=\"40\" height=\"40\">2</td></tr><tr><td style=\"border:3px solid black; text-align:center;\"\n",
       "         width=\"40\" height=\"40\">128</td><td style=\"border:3px solid black; text-align:center;\"\n",
       "         width=\"40\" height=\"40\">4</td><td style=\"border:3px solid black; text-align:center;\"\n",
       "         width=\"40\" height=\"40\">8</td><td style=\"border:3px solid black; text-align:center;\"\n",
       "         width=\"40\" height=\"40\">4</td></tr><tr><td style=\"border:3px solid black; text-align:center;\"\n",
       "         width=\"40\" height=\"40\">16</td><td style=\"border:3px solid black; text-align:center;\"\n",
       "         width=\"40\" height=\"40\">4</td><td style=\"border:3px solid black; text-align:center;\"\n",
       "         width=\"40\" height=\"40\">4</td><td style=\"border:3px solid black; text-align:center;\"\n",
       "         width=\"40\" height=\"40\">2</td></tr><tr><td style=\"border:3px solid black; text-align:center;\"\n",
       "         width=\"40\" height=\"40\">2</td><td style=\"border:3px solid black; text-align:center;\"\n",
       "         width=\"40\" height=\"40\"></td><td style=\"border:3px solid black; text-align:center;\"\n",
       "         width=\"40\" height=\"40\"></td><td style=\"border:3px solid black; text-align:center;\"\n",
       "         width=\"40\" height=\"40\"></td></tr></table>"
      ],
      "text/plain": [
       "<IPython.core.display.HTML object>"
      ]
     },
     "metadata": {},
     "output_type": "display_data"
    },
    {
     "name": "stdout",
     "output_type": "stream",
     "text": [
      "Iter: 243\n",
      "======Direction: up======\n"
     ]
    },
    {
     "data": {
      "text/html": [
       "<h1>Score: 512</h1><table style=\"border: 5px solid black;\"><tr><td style=\"border:3px solid black; text-align:center;\"\n",
       "         width=\"40\" height=\"40\">512</td><td style=\"border:3px solid black; text-align:center;\"\n",
       "         width=\"40\" height=\"40\">32</td><td style=\"border:3px solid black; text-align:center;\"\n",
       "         width=\"40\" height=\"40\">4</td><td style=\"border:3px solid black; text-align:center;\"\n",
       "         width=\"40\" height=\"40\">2</td></tr><tr><td style=\"border:3px solid black; text-align:center;\"\n",
       "         width=\"40\" height=\"40\">128</td><td style=\"border:3px solid black; text-align:center;\"\n",
       "         width=\"40\" height=\"40\">8</td><td style=\"border:3px solid black; text-align:center;\"\n",
       "         width=\"40\" height=\"40\">8</td><td style=\"border:3px solid black; text-align:center;\"\n",
       "         width=\"40\" height=\"40\">4</td></tr><tr><td style=\"border:3px solid black; text-align:center;\"\n",
       "         width=\"40\" height=\"40\">16</td><td style=\"border:3px solid black; text-align:center;\"\n",
       "         width=\"40\" height=\"40\"></td><td style=\"border:3px solid black; text-align:center;\"\n",
       "         width=\"40\" height=\"40\">4</td><td style=\"border:3px solid black; text-align:center;\"\n",
       "         width=\"40\" height=\"40\">2</td></tr><tr><td style=\"border:3px solid black; text-align:center;\"\n",
       "         width=\"40\" height=\"40\">2</td><td style=\"border:3px solid black; text-align:center;\"\n",
       "         width=\"40\" height=\"40\">2</td><td style=\"border:3px solid black; text-align:center;\"\n",
       "         width=\"40\" height=\"40\"></td><td style=\"border:3px solid black; text-align:center;\"\n",
       "         width=\"40\" height=\"40\"></td></tr></table>"
      ],
      "text/plain": [
       "<IPython.core.display.HTML object>"
      ]
     },
     "metadata": {},
     "output_type": "display_data"
    },
    {
     "name": "stdout",
     "output_type": "stream",
     "text": [
      "Iter: 244\n",
      "======Direction: up======\n"
     ]
    },
    {
     "data": {
      "text/html": [
       "<h1>Score: 512</h1><table style=\"border: 5px solid black;\"><tr><td style=\"border:3px solid black; text-align:center;\"\n",
       "         width=\"40\" height=\"40\">512</td><td style=\"border:3px solid black; text-align:center;\"\n",
       "         width=\"40\" height=\"40\">32</td><td style=\"border:3px solid black; text-align:center;\"\n",
       "         width=\"40\" height=\"40\">4</td><td style=\"border:3px solid black; text-align:center;\"\n",
       "         width=\"40\" height=\"40\">2</td></tr><tr><td style=\"border:3px solid black; text-align:center;\"\n",
       "         width=\"40\" height=\"40\">128</td><td style=\"border:3px solid black; text-align:center;\"\n",
       "         width=\"40\" height=\"40\">8</td><td style=\"border:3px solid black; text-align:center;\"\n",
       "         width=\"40\" height=\"40\">8</td><td style=\"border:3px solid black; text-align:center;\"\n",
       "         width=\"40\" height=\"40\">4</td></tr><tr><td style=\"border:3px solid black; text-align:center;\"\n",
       "         width=\"40\" height=\"40\">16</td><td style=\"border:3px solid black; text-align:center;\"\n",
       "         width=\"40\" height=\"40\">2</td><td style=\"border:3px solid black; text-align:center;\"\n",
       "         width=\"40\" height=\"40\">4</td><td style=\"border:3px solid black; text-align:center;\"\n",
       "         width=\"40\" height=\"40\">2</td></tr><tr><td style=\"border:3px solid black; text-align:center;\"\n",
       "         width=\"40\" height=\"40\">2</td><td style=\"border:3px solid black; text-align:center;\"\n",
       "         width=\"40\" height=\"40\"></td><td style=\"border:3px solid black; text-align:center;\"\n",
       "         width=\"40\" height=\"40\">2</td><td style=\"border:3px solid black; text-align:center;\"\n",
       "         width=\"40\" height=\"40\"></td></tr></table>"
      ],
      "text/plain": [
       "<IPython.core.display.HTML object>"
      ]
     },
     "metadata": {},
     "output_type": "display_data"
    },
    {
     "name": "stdout",
     "output_type": "stream",
     "text": [
      "Iter: 245\n",
      "======Direction: left======\n"
     ]
    },
    {
     "data": {
      "text/html": [
       "<h1>Score: 512</h1><table style=\"border: 5px solid black;\"><tr><td style=\"border:3px solid black; text-align:center;\"\n",
       "         width=\"40\" height=\"40\">512</td><td style=\"border:3px solid black; text-align:center;\"\n",
       "         width=\"40\" height=\"40\">32</td><td style=\"border:3px solid black; text-align:center;\"\n",
       "         width=\"40\" height=\"40\">4</td><td style=\"border:3px solid black; text-align:center;\"\n",
       "         width=\"40\" height=\"40\">2</td></tr><tr><td style=\"border:3px solid black; text-align:center;\"\n",
       "         width=\"40\" height=\"40\">128</td><td style=\"border:3px solid black; text-align:center;\"\n",
       "         width=\"40\" height=\"40\">16</td><td style=\"border:3px solid black; text-align:center;\"\n",
       "         width=\"40\" height=\"40\">4</td><td style=\"border:3px solid black; text-align:center;\"\n",
       "         width=\"40\" height=\"40\"></td></tr><tr><td style=\"border:3px solid black; text-align:center;\"\n",
       "         width=\"40\" height=\"40\">16</td><td style=\"border:3px solid black; text-align:center;\"\n",
       "         width=\"40\" height=\"40\">2</td><td style=\"border:3px solid black; text-align:center;\"\n",
       "         width=\"40\" height=\"40\">4</td><td style=\"border:3px solid black; text-align:center;\"\n",
       "         width=\"40\" height=\"40\">2</td></tr><tr><td style=\"border:3px solid black; text-align:center;\"\n",
       "         width=\"40\" height=\"40\">4</td><td style=\"border:3px solid black; text-align:center;\"\n",
       "         width=\"40\" height=\"40\"></td><td style=\"border:3px solid black; text-align:center;\"\n",
       "         width=\"40\" height=\"40\">4</td><td style=\"border:3px solid black; text-align:center;\"\n",
       "         width=\"40\" height=\"40\"></td></tr></table>"
      ],
      "text/plain": [
       "<IPython.core.display.HTML object>"
      ]
     },
     "metadata": {},
     "output_type": "display_data"
    },
    {
     "name": "stdout",
     "output_type": "stream",
     "text": [
      "Iter: 246\n",
      "======Direction: left======\n"
     ]
    },
    {
     "data": {
      "text/html": [
       "<h1>Score: 512</h1><table style=\"border: 5px solid black;\"><tr><td style=\"border:3px solid black; text-align:center;\"\n",
       "         width=\"40\" height=\"40\">512</td><td style=\"border:3px solid black; text-align:center;\"\n",
       "         width=\"40\" height=\"40\">32</td><td style=\"border:3px solid black; text-align:center;\"\n",
       "         width=\"40\" height=\"40\">4</td><td style=\"border:3px solid black; text-align:center;\"\n",
       "         width=\"40\" height=\"40\">2</td></tr><tr><td style=\"border:3px solid black; text-align:center;\"\n",
       "         width=\"40\" height=\"40\">128</td><td style=\"border:3px solid black; text-align:center;\"\n",
       "         width=\"40\" height=\"40\">16</td><td style=\"border:3px solid black; text-align:center;\"\n",
       "         width=\"40\" height=\"40\">4</td><td style=\"border:3px solid black; text-align:center;\"\n",
       "         width=\"40\" height=\"40\">2</td></tr><tr><td style=\"border:3px solid black; text-align:center;\"\n",
       "         width=\"40\" height=\"40\">16</td><td style=\"border:3px solid black; text-align:center;\"\n",
       "         width=\"40\" height=\"40\">2</td><td style=\"border:3px solid black; text-align:center;\"\n",
       "         width=\"40\" height=\"40\">4</td><td style=\"border:3px solid black; text-align:center;\"\n",
       "         width=\"40\" height=\"40\">2</td></tr><tr><td style=\"border:3px solid black; text-align:center;\"\n",
       "         width=\"40\" height=\"40\">8</td><td style=\"border:3px solid black; text-align:center;\"\n",
       "         width=\"40\" height=\"40\"></td><td style=\"border:3px solid black; text-align:center;\"\n",
       "         width=\"40\" height=\"40\"></td><td style=\"border:3px solid black; text-align:center;\"\n",
       "         width=\"40\" height=\"40\"></td></tr></table>"
      ],
      "text/plain": [
       "<IPython.core.display.HTML object>"
      ]
     },
     "metadata": {},
     "output_type": "display_data"
    },
    {
     "name": "stdout",
     "output_type": "stream",
     "text": [
      "Iter: 247\n",
      "======Direction: right======\n"
     ]
    },
    {
     "data": {
      "text/html": [
       "<h1>Score: 512</h1><table style=\"border: 5px solid black;\"><tr><td style=\"border:3px solid black; text-align:center;\"\n",
       "         width=\"40\" height=\"40\">512</td><td style=\"border:3px solid black; text-align:center;\"\n",
       "         width=\"40\" height=\"40\">32</td><td style=\"border:3px solid black; text-align:center;\"\n",
       "         width=\"40\" height=\"40\">4</td><td style=\"border:3px solid black; text-align:center;\"\n",
       "         width=\"40\" height=\"40\">2</td></tr><tr><td style=\"border:3px solid black; text-align:center;\"\n",
       "         width=\"40\" height=\"40\">128</td><td style=\"border:3px solid black; text-align:center;\"\n",
       "         width=\"40\" height=\"40\">16</td><td style=\"border:3px solid black; text-align:center;\"\n",
       "         width=\"40\" height=\"40\">4</td><td style=\"border:3px solid black; text-align:center;\"\n",
       "         width=\"40\" height=\"40\">2</td></tr><tr><td style=\"border:3px solid black; text-align:center;\"\n",
       "         width=\"40\" height=\"40\">16</td><td style=\"border:3px solid black; text-align:center;\"\n",
       "         width=\"40\" height=\"40\">2</td><td style=\"border:3px solid black; text-align:center;\"\n",
       "         width=\"40\" height=\"40\">4</td><td style=\"border:3px solid black; text-align:center;\"\n",
       "         width=\"40\" height=\"40\">2</td></tr><tr><td style=\"border:3px solid black; text-align:center;\"\n",
       "         width=\"40\" height=\"40\"></td><td style=\"border:3px solid black; text-align:center;\"\n",
       "         width=\"40\" height=\"40\"></td><td style=\"border:3px solid black; text-align:center;\"\n",
       "         width=\"40\" height=\"40\">4</td><td style=\"border:3px solid black; text-align:center;\"\n",
       "         width=\"40\" height=\"40\">8</td></tr></table>"
      ],
      "text/plain": [
       "<IPython.core.display.HTML object>"
      ]
     },
     "metadata": {},
     "output_type": "display_data"
    },
    {
     "name": "stdout",
     "output_type": "stream",
     "text": [
      "Iter: 248\n",
      "======Direction: left======\n"
     ]
    },
    {
     "data": {
      "text/html": [
       "<h1>Score: 512</h1><table style=\"border: 5px solid black;\"><tr><td style=\"border:3px solid black; text-align:center;\"\n",
       "         width=\"40\" height=\"40\">512</td><td style=\"border:3px solid black; text-align:center;\"\n",
       "         width=\"40\" height=\"40\">32</td><td style=\"border:3px solid black; text-align:center;\"\n",
       "         width=\"40\" height=\"40\">4</td><td style=\"border:3px solid black; text-align:center;\"\n",
       "         width=\"40\" height=\"40\">2</td></tr><tr><td style=\"border:3px solid black; text-align:center;\"\n",
       "         width=\"40\" height=\"40\">128</td><td style=\"border:3px solid black; text-align:center;\"\n",
       "         width=\"40\" height=\"40\">16</td><td style=\"border:3px solid black; text-align:center;\"\n",
       "         width=\"40\" height=\"40\">4</td><td style=\"border:3px solid black; text-align:center;\"\n",
       "         width=\"40\" height=\"40\">2</td></tr><tr><td style=\"border:3px solid black; text-align:center;\"\n",
       "         width=\"40\" height=\"40\">16</td><td style=\"border:3px solid black; text-align:center;\"\n",
       "         width=\"40\" height=\"40\">2</td><td style=\"border:3px solid black; text-align:center;\"\n",
       "         width=\"40\" height=\"40\">4</td><td style=\"border:3px solid black; text-align:center;\"\n",
       "         width=\"40\" height=\"40\">2</td></tr><tr><td style=\"border:3px solid black; text-align:center;\"\n",
       "         width=\"40\" height=\"40\">4</td><td style=\"border:3px solid black; text-align:center;\"\n",
       "         width=\"40\" height=\"40\">8</td><td style=\"border:3px solid black; text-align:center;\"\n",
       "         width=\"40\" height=\"40\">4</td><td style=\"border:3px solid black; text-align:center;\"\n",
       "         width=\"40\" height=\"40\"></td></tr></table>"
      ],
      "text/plain": [
       "<IPython.core.display.HTML object>"
      ]
     },
     "metadata": {},
     "output_type": "display_data"
    },
    {
     "name": "stdout",
     "output_type": "stream",
     "text": [
      "Iter: 249\n",
      "======Direction: right======\n"
     ]
    },
    {
     "data": {
      "text/html": [
       "<h1>Score: 512</h1><table style=\"border: 5px solid black;\"><tr><td style=\"border:3px solid black; text-align:center;\"\n",
       "         width=\"40\" height=\"40\">512</td><td style=\"border:3px solid black; text-align:center;\"\n",
       "         width=\"40\" height=\"40\">32</td><td style=\"border:3px solid black; text-align:center;\"\n",
       "         width=\"40\" height=\"40\">4</td><td style=\"border:3px solid black; text-align:center;\"\n",
       "         width=\"40\" height=\"40\">2</td></tr><tr><td style=\"border:3px solid black; text-align:center;\"\n",
       "         width=\"40\" height=\"40\">128</td><td style=\"border:3px solid black; text-align:center;\"\n",
       "         width=\"40\" height=\"40\">16</td><td style=\"border:3px solid black; text-align:center;\"\n",
       "         width=\"40\" height=\"40\">4</td><td style=\"border:3px solid black; text-align:center;\"\n",
       "         width=\"40\" height=\"40\">2</td></tr><tr><td style=\"border:3px solid black; text-align:center;\"\n",
       "         width=\"40\" height=\"40\">16</td><td style=\"border:3px solid black; text-align:center;\"\n",
       "         width=\"40\" height=\"40\">2</td><td style=\"border:3px solid black; text-align:center;\"\n",
       "         width=\"40\" height=\"40\">4</td><td style=\"border:3px solid black; text-align:center;\"\n",
       "         width=\"40\" height=\"40\">2</td></tr><tr><td style=\"border:3px solid black; text-align:center;\"\n",
       "         width=\"40\" height=\"40\">2</td><td style=\"border:3px solid black; text-align:center;\"\n",
       "         width=\"40\" height=\"40\">4</td><td style=\"border:3px solid black; text-align:center;\"\n",
       "         width=\"40\" height=\"40\">8</td><td style=\"border:3px solid black; text-align:center;\"\n",
       "         width=\"40\" height=\"40\">4</td></tr></table>"
      ],
      "text/plain": [
       "<IPython.core.display.HTML object>"
      ]
     },
     "metadata": {},
     "output_type": "display_data"
    },
    {
     "name": "stdout",
     "output_type": "stream",
     "text": [
      "Iter: 250\n",
      "======Direction: up======\n"
     ]
    },
    {
     "data": {
      "text/html": [
       "<h1>Score: 512</h1><table style=\"border: 5px solid black;\"><tr><td style=\"border:3px solid black; text-align:center;\"\n",
       "         width=\"40\" height=\"40\">512</td><td style=\"border:3px solid black; text-align:center;\"\n",
       "         width=\"40\" height=\"40\">32</td><td style=\"border:3px solid black; text-align:center;\"\n",
       "         width=\"40\" height=\"40\">8</td><td style=\"border:3px solid black; text-align:center;\"\n",
       "         width=\"40\" height=\"40\">4</td></tr><tr><td style=\"border:3px solid black; text-align:center;\"\n",
       "         width=\"40\" height=\"40\">128</td><td style=\"border:3px solid black; text-align:center;\"\n",
       "         width=\"40\" height=\"40\">16</td><td style=\"border:3px solid black; text-align:center;\"\n",
       "         width=\"40\" height=\"40\">4</td><td style=\"border:3px solid black; text-align:center;\"\n",
       "         width=\"40\" height=\"40\">2</td></tr><tr><td style=\"border:3px solid black; text-align:center;\"\n",
       "         width=\"40\" height=\"40\">16</td><td style=\"border:3px solid black; text-align:center;\"\n",
       "         width=\"40\" height=\"40\">2</td><td style=\"border:3px solid black; text-align:center;\"\n",
       "         width=\"40\" height=\"40\">8</td><td style=\"border:3px solid black; text-align:center;\"\n",
       "         width=\"40\" height=\"40\">4</td></tr><tr><td style=\"border:3px solid black; text-align:center;\"\n",
       "         width=\"40\" height=\"40\">2</td><td style=\"border:3px solid black; text-align:center;\"\n",
       "         width=\"40\" height=\"40\">4</td><td style=\"border:3px solid black; text-align:center;\"\n",
       "         width=\"40\" height=\"40\"></td><td style=\"border:3px solid black; text-align:center;\"\n",
       "         width=\"40\" height=\"40\">4</td></tr></table>"
      ],
      "text/plain": [
       "<IPython.core.display.HTML object>"
      ]
     },
     "metadata": {},
     "output_type": "display_data"
    },
    {
     "name": "stdout",
     "output_type": "stream",
     "text": [
      "Iter: 251\n",
      "======Direction: right======\n"
     ]
    },
    {
     "data": {
      "text/html": [
       "<h1>Score: 512</h1><table style=\"border: 5px solid black;\"><tr><td style=\"border:3px solid black; text-align:center;\"\n",
       "         width=\"40\" height=\"40\">512</td><td style=\"border:3px solid black; text-align:center;\"\n",
       "         width=\"40\" height=\"40\">32</td><td style=\"border:3px solid black; text-align:center;\"\n",
       "         width=\"40\" height=\"40\">8</td><td style=\"border:3px solid black; text-align:center;\"\n",
       "         width=\"40\" height=\"40\">4</td></tr><tr><td style=\"border:3px solid black; text-align:center;\"\n",
       "         width=\"40\" height=\"40\">128</td><td style=\"border:3px solid black; text-align:center;\"\n",
       "         width=\"40\" height=\"40\">16</td><td style=\"border:3px solid black; text-align:center;\"\n",
       "         width=\"40\" height=\"40\">4</td><td style=\"border:3px solid black; text-align:center;\"\n",
       "         width=\"40\" height=\"40\">2</td></tr><tr><td style=\"border:3px solid black; text-align:center;\"\n",
       "         width=\"40\" height=\"40\">16</td><td style=\"border:3px solid black; text-align:center;\"\n",
       "         width=\"40\" height=\"40\">2</td><td style=\"border:3px solid black; text-align:center;\"\n",
       "         width=\"40\" height=\"40\">8</td><td style=\"border:3px solid black; text-align:center;\"\n",
       "         width=\"40\" height=\"40\">4</td></tr><tr><td style=\"border:3px solid black; text-align:center;\"\n",
       "         width=\"40\" height=\"40\">4</td><td style=\"border:3px solid black; text-align:center;\"\n",
       "         width=\"40\" height=\"40\"></td><td style=\"border:3px solid black; text-align:center;\"\n",
       "         width=\"40\" height=\"40\">2</td><td style=\"border:3px solid black; text-align:center;\"\n",
       "         width=\"40\" height=\"40\">8</td></tr></table>"
      ],
      "text/plain": [
       "<IPython.core.display.HTML object>"
      ]
     },
     "metadata": {},
     "output_type": "display_data"
    },
    {
     "name": "stdout",
     "output_type": "stream",
     "text": [
      "Iter: 252\n",
      "======Direction: left======\n"
     ]
    },
    {
     "data": {
      "text/html": [
       "<h1>Score: 512</h1><table style=\"border: 5px solid black;\"><tr><td style=\"border:3px solid black; text-align:center;\"\n",
       "         width=\"40\" height=\"40\">512</td><td style=\"border:3px solid black; text-align:center;\"\n",
       "         width=\"40\" height=\"40\">32</td><td style=\"border:3px solid black; text-align:center;\"\n",
       "         width=\"40\" height=\"40\">8</td><td style=\"border:3px solid black; text-align:center;\"\n",
       "         width=\"40\" height=\"40\">4</td></tr><tr><td style=\"border:3px solid black; text-align:center;\"\n",
       "         width=\"40\" height=\"40\">128</td><td style=\"border:3px solid black; text-align:center;\"\n",
       "         width=\"40\" height=\"40\">16</td><td style=\"border:3px solid black; text-align:center;\"\n",
       "         width=\"40\" height=\"40\">4</td><td style=\"border:3px solid black; text-align:center;\"\n",
       "         width=\"40\" height=\"40\">2</td></tr><tr><td style=\"border:3px solid black; text-align:center;\"\n",
       "         width=\"40\" height=\"40\">16</td><td style=\"border:3px solid black; text-align:center;\"\n",
       "         width=\"40\" height=\"40\">2</td><td style=\"border:3px solid black; text-align:center;\"\n",
       "         width=\"40\" height=\"40\">8</td><td style=\"border:3px solid black; text-align:center;\"\n",
       "         width=\"40\" height=\"40\">4</td></tr><tr><td style=\"border:3px solid black; text-align:center;\"\n",
       "         width=\"40\" height=\"40\">4</td><td style=\"border:3px solid black; text-align:center;\"\n",
       "         width=\"40\" height=\"40\">2</td><td style=\"border:3px solid black; text-align:center;\"\n",
       "         width=\"40\" height=\"40\">8</td><td style=\"border:3px solid black; text-align:center;\"\n",
       "         width=\"40\" height=\"40\">4</td></tr></table>"
      ],
      "text/plain": [
       "<IPython.core.display.HTML object>"
      ]
     },
     "metadata": {},
     "output_type": "display_data"
    },
    {
     "name": "stdout",
     "output_type": "stream",
     "text": [
      "Iter: 253\n",
      "======Direction: up======\n"
     ]
    },
    {
     "data": {
      "text/html": [
       "<h1>Score: 512</h1><table style=\"border: 5px solid black;\"><tr><td style=\"border:3px solid black; text-align:center;\"\n",
       "         width=\"40\" height=\"40\">512</td><td style=\"border:3px solid black; text-align:center;\"\n",
       "         width=\"40\" height=\"40\">32</td><td style=\"border:3px solid black; text-align:center;\"\n",
       "         width=\"40\" height=\"40\">8</td><td style=\"border:3px solid black; text-align:center;\"\n",
       "         width=\"40\" height=\"40\">4</td></tr><tr><td style=\"border:3px solid black; text-align:center;\"\n",
       "         width=\"40\" height=\"40\">128</td><td style=\"border:3px solid black; text-align:center;\"\n",
       "         width=\"40\" height=\"40\">16</td><td style=\"border:3px solid black; text-align:center;\"\n",
       "         width=\"40\" height=\"40\">4</td><td style=\"border:3px solid black; text-align:center;\"\n",
       "         width=\"40\" height=\"40\">2</td></tr><tr><td style=\"border:3px solid black; text-align:center;\"\n",
       "         width=\"40\" height=\"40\">16</td><td style=\"border:3px solid black; text-align:center;\"\n",
       "         width=\"40\" height=\"40\">4</td><td style=\"border:3px solid black; text-align:center;\"\n",
       "         width=\"40\" height=\"40\">16</td><td style=\"border:3px solid black; text-align:center;\"\n",
       "         width=\"40\" height=\"40\">8</td></tr><tr><td style=\"border:3px solid black; text-align:center;\"\n",
       "         width=\"40\" height=\"40\">4</td><td style=\"border:3px solid black; text-align:center;\"\n",
       "         width=\"40\" height=\"40\"></td><td style=\"border:3px solid black; text-align:center;\"\n",
       "         width=\"40\" height=\"40\">2</td><td style=\"border:3px solid black; text-align:center;\"\n",
       "         width=\"40\" height=\"40\"></td></tr></table>"
      ],
      "text/plain": [
       "<IPython.core.display.HTML object>"
      ]
     },
     "metadata": {},
     "output_type": "display_data"
    },
    {
     "name": "stdout",
     "output_type": "stream",
     "text": [
      "Iter: 254\n",
      "======Direction: left======\n"
     ]
    },
    {
     "data": {
      "text/html": [
       "<h1>Score: 512</h1><table style=\"border: 5px solid black;\"><tr><td style=\"border:3px solid black; text-align:center;\"\n",
       "         width=\"40\" height=\"40\">512</td><td style=\"border:3px solid black; text-align:center;\"\n",
       "         width=\"40\" height=\"40\">32</td><td style=\"border:3px solid black; text-align:center;\"\n",
       "         width=\"40\" height=\"40\">8</td><td style=\"border:3px solid black; text-align:center;\"\n",
       "         width=\"40\" height=\"40\">4</td></tr><tr><td style=\"border:3px solid black; text-align:center;\"\n",
       "         width=\"40\" height=\"40\">128</td><td style=\"border:3px solid black; text-align:center;\"\n",
       "         width=\"40\" height=\"40\">16</td><td style=\"border:3px solid black; text-align:center;\"\n",
       "         width=\"40\" height=\"40\">4</td><td style=\"border:3px solid black; text-align:center;\"\n",
       "         width=\"40\" height=\"40\">2</td></tr><tr><td style=\"border:3px solid black; text-align:center;\"\n",
       "         width=\"40\" height=\"40\">16</td><td style=\"border:3px solid black; text-align:center;\"\n",
       "         width=\"40\" height=\"40\">4</td><td style=\"border:3px solid black; text-align:center;\"\n",
       "         width=\"40\" height=\"40\">16</td><td style=\"border:3px solid black; text-align:center;\"\n",
       "         width=\"40\" height=\"40\">8</td></tr><tr><td style=\"border:3px solid black; text-align:center;\"\n",
       "         width=\"40\" height=\"40\">4</td><td style=\"border:3px solid black; text-align:center;\"\n",
       "         width=\"40\" height=\"40\">2</td><td style=\"border:3px solid black; text-align:center;\"\n",
       "         width=\"40\" height=\"40\"></td><td style=\"border:3px solid black; text-align:center;\"\n",
       "         width=\"40\" height=\"40\">2</td></tr></table>"
      ],
      "text/plain": [
       "<IPython.core.display.HTML object>"
      ]
     },
     "metadata": {},
     "output_type": "display_data"
    },
    {
     "name": "stdout",
     "output_type": "stream",
     "text": [
      "Iter: 255\n",
      "======Direction: left======\n"
     ]
    },
    {
     "data": {
      "text/html": [
       "<h1>Score: 512</h1><table style=\"border: 5px solid black;\"><tr><td style=\"border:3px solid black; text-align:center;\"\n",
       "         width=\"40\" height=\"40\">512</td><td style=\"border:3px solid black; text-align:center;\"\n",
       "         width=\"40\" height=\"40\">32</td><td style=\"border:3px solid black; text-align:center;\"\n",
       "         width=\"40\" height=\"40\">8</td><td style=\"border:3px solid black; text-align:center;\"\n",
       "         width=\"40\" height=\"40\">4</td></tr><tr><td style=\"border:3px solid black; text-align:center;\"\n",
       "         width=\"40\" height=\"40\">128</td><td style=\"border:3px solid black; text-align:center;\"\n",
       "         width=\"40\" height=\"40\">16</td><td style=\"border:3px solid black; text-align:center;\"\n",
       "         width=\"40\" height=\"40\">4</td><td style=\"border:3px solid black; text-align:center;\"\n",
       "         width=\"40\" height=\"40\">2</td></tr><tr><td style=\"border:3px solid black; text-align:center;\"\n",
       "         width=\"40\" height=\"40\">16</td><td style=\"border:3px solid black; text-align:center;\"\n",
       "         width=\"40\" height=\"40\">4</td><td style=\"border:3px solid black; text-align:center;\"\n",
       "         width=\"40\" height=\"40\">16</td><td style=\"border:3px solid black; text-align:center;\"\n",
       "         width=\"40\" height=\"40\">8</td></tr><tr><td style=\"border:3px solid black; text-align:center;\"\n",
       "         width=\"40\" height=\"40\">4</td><td style=\"border:3px solid black; text-align:center;\"\n",
       "         width=\"40\" height=\"40\">4</td><td style=\"border:3px solid black; text-align:center;\"\n",
       "         width=\"40\" height=\"40\"></td><td style=\"border:3px solid black; text-align:center;\"\n",
       "         width=\"40\" height=\"40\">4</td></tr></table>"
      ],
      "text/plain": [
       "<IPython.core.display.HTML object>"
      ]
     },
     "metadata": {},
     "output_type": "display_data"
    },
    {
     "name": "stdout",
     "output_type": "stream",
     "text": [
      "Iter: 256\n",
      "======Direction: up======\n"
     ]
    },
    {
     "data": {
      "text/html": [
       "<h1>Score: 512</h1><table style=\"border: 5px solid black;\"><tr><td style=\"border:3px solid black; text-align:center;\"\n",
       "         width=\"40\" height=\"40\">512</td><td style=\"border:3px solid black; text-align:center;\"\n",
       "         width=\"40\" height=\"40\">32</td><td style=\"border:3px solid black; text-align:center;\"\n",
       "         width=\"40\" height=\"40\">8</td><td style=\"border:3px solid black; text-align:center;\"\n",
       "         width=\"40\" height=\"40\">4</td></tr><tr><td style=\"border:3px solid black; text-align:center;\"\n",
       "         width=\"40\" height=\"40\">128</td><td style=\"border:3px solid black; text-align:center;\"\n",
       "         width=\"40\" height=\"40\">16</td><td style=\"border:3px solid black; text-align:center;\"\n",
       "         width=\"40\" height=\"40\">4</td><td style=\"border:3px solid black; text-align:center;\"\n",
       "         width=\"40\" height=\"40\">2</td></tr><tr><td style=\"border:3px solid black; text-align:center;\"\n",
       "         width=\"40\" height=\"40\">16</td><td style=\"border:3px solid black; text-align:center;\"\n",
       "         width=\"40\" height=\"40\">8</td><td style=\"border:3px solid black; text-align:center;\"\n",
       "         width=\"40\" height=\"40\">16</td><td style=\"border:3px solid black; text-align:center;\"\n",
       "         width=\"40\" height=\"40\">8</td></tr><tr><td style=\"border:3px solid black; text-align:center;\"\n",
       "         width=\"40\" height=\"40\">4</td><td style=\"border:3px solid black; text-align:center;\"\n",
       "         width=\"40\" height=\"40\"></td><td style=\"border:3px solid black; text-align:center;\"\n",
       "         width=\"40\" height=\"40\">2</td><td style=\"border:3px solid black; text-align:center;\"\n",
       "         width=\"40\" height=\"40\">4</td></tr></table>"
      ],
      "text/plain": [
       "<IPython.core.display.HTML object>"
      ]
     },
     "metadata": {},
     "output_type": "display_data"
    },
    {
     "name": "stdout",
     "output_type": "stream",
     "text": [
      "Iter: 257\n",
      "======Direction: left======\n"
     ]
    },
    {
     "data": {
      "text/html": [
       "<h1>Score: 512</h1><table style=\"border: 5px solid black;\"><tr><td style=\"border:3px solid black; text-align:center;\"\n",
       "         width=\"40\" height=\"40\">512</td><td style=\"border:3px solid black; text-align:center;\"\n",
       "         width=\"40\" height=\"40\">32</td><td style=\"border:3px solid black; text-align:center;\"\n",
       "         width=\"40\" height=\"40\">8</td><td style=\"border:3px solid black; text-align:center;\"\n",
       "         width=\"40\" height=\"40\">4</td></tr><tr><td style=\"border:3px solid black; text-align:center;\"\n",
       "         width=\"40\" height=\"40\">128</td><td style=\"border:3px solid black; text-align:center;\"\n",
       "         width=\"40\" height=\"40\">16</td><td style=\"border:3px solid black; text-align:center;\"\n",
       "         width=\"40\" height=\"40\">4</td><td style=\"border:3px solid black; text-align:center;\"\n",
       "         width=\"40\" height=\"40\">2</td></tr><tr><td style=\"border:3px solid black; text-align:center;\"\n",
       "         width=\"40\" height=\"40\">16</td><td style=\"border:3px solid black; text-align:center;\"\n",
       "         width=\"40\" height=\"40\">8</td><td style=\"border:3px solid black; text-align:center;\"\n",
       "         width=\"40\" height=\"40\">16</td><td style=\"border:3px solid black; text-align:center;\"\n",
       "         width=\"40\" height=\"40\">8</td></tr><tr><td style=\"border:3px solid black; text-align:center;\"\n",
       "         width=\"40\" height=\"40\">4</td><td style=\"border:3px solid black; text-align:center;\"\n",
       "         width=\"40\" height=\"40\">2</td><td style=\"border:3px solid black; text-align:center;\"\n",
       "         width=\"40\" height=\"40\">4</td><td style=\"border:3px solid black; text-align:center;\"\n",
       "         width=\"40\" height=\"40\">2</td></tr></table>"
      ],
      "text/plain": [
       "<IPython.core.display.HTML object>"
      ]
     },
     "metadata": {},
     "output_type": "display_data"
    },
    {
     "name": "stdout",
     "output_type": "stream",
     "text": [
      "Iter: 258\n",
      "======Direction: right======\n"
     ]
    },
    {
     "data": {
      "text/html": [
       "<h1>Score: 512</h1><table style=\"border: 5px solid black;\"><tr><td style=\"border:3px solid black; text-align:center;\"\n",
       "         width=\"40\" height=\"40\">512</td><td style=\"border:3px solid black; text-align:center;\"\n",
       "         width=\"40\" height=\"40\">32</td><td style=\"border:3px solid black; text-align:center;\"\n",
       "         width=\"40\" height=\"40\">8</td><td style=\"border:3px solid black; text-align:center;\"\n",
       "         width=\"40\" height=\"40\">4</td></tr><tr><td style=\"border:3px solid black; text-align:center;\"\n",
       "         width=\"40\" height=\"40\">128</td><td style=\"border:3px solid black; text-align:center;\"\n",
       "         width=\"40\" height=\"40\">16</td><td style=\"border:3px solid black; text-align:center;\"\n",
       "         width=\"40\" height=\"40\">4</td><td style=\"border:3px solid black; text-align:center;\"\n",
       "         width=\"40\" height=\"40\">2</td></tr><tr><td style=\"border:3px solid black; text-align:center;\"\n",
       "         width=\"40\" height=\"40\">16</td><td style=\"border:3px solid black; text-align:center;\"\n",
       "         width=\"40\" height=\"40\">8</td><td style=\"border:3px solid black; text-align:center;\"\n",
       "         width=\"40\" height=\"40\">16</td><td style=\"border:3px solid black; text-align:center;\"\n",
       "         width=\"40\" height=\"40\">8</td></tr><tr><td style=\"border:3px solid black; text-align:center;\"\n",
       "         width=\"40\" height=\"40\">4</td><td style=\"border:3px solid black; text-align:center;\"\n",
       "         width=\"40\" height=\"40\">2</td><td style=\"border:3px solid black; text-align:center;\"\n",
       "         width=\"40\" height=\"40\">4</td><td style=\"border:3px solid black; text-align:center;\"\n",
       "         width=\"40\" height=\"40\">2</td></tr></table>"
      ],
      "text/plain": [
       "<IPython.core.display.HTML object>"
      ]
     },
     "metadata": {},
     "output_type": "display_data"
    },
    {
     "name": "stdout",
     "output_type": "stream",
     "text": [
      "You lose! Score: 512\n",
      "CPU times: user 1.08 s, sys: 212 ms, total: 1.29 s\n",
      "Wall time: 977 ms\n"
     ]
    }
   ],
   "source": [
    "%%time\n",
    "game = Game(4, score_to_win=2048, random=False)\n",
    "display2.display(game)\n",
    "agent = MyAgent(game, display=display2)\n",
    "agent.play(verbose=True)"
   ]
  },
  {
   "cell_type": "code",
   "execution_count": null,
   "metadata": {},
   "outputs": [],
   "source": []
  }
 ],
 "metadata": {
  "kernelspec": {
   "display_name": "Python 3",
   "language": "python",
   "name": "python3"
  },
  "language_info": {
   "codemirror_mode": {
    "name": "ipython",
    "version": 3
   },
   "file_extension": ".py",
   "mimetype": "text/x-python",
   "name": "python",
   "nbconvert_exporter": "python",
   "pygments_lexer": "ipython3",
   "version": "3.7.6"
  }
 },
 "nbformat": 4,
 "nbformat_minor": 2
}
