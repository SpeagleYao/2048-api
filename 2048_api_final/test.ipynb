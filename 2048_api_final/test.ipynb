{
 "cells": [
  {
   "cell_type": "code",
   "execution_count": 18,
   "metadata": {},
   "outputs": [],
   "source": [
    "from game2048.game import Game\n",
    "from game2048.displays import Display, IPythonDisplay\n",
    "import numpy as np\n",
    "\n",
    "\n",
    "class Agent:\n",
    "    '''Agent Base.'''\n",
    "    n_iter = 0\n",
    "    \n",
    "    def __init__(self, game, display=None):\n",
    "        self.game = game\n",
    "        self.display = display\n",
    "        Agent.n_iter = 0\n",
    "\n",
    "    def play(self, max_iter=np.inf, verbose=False):\n",
    "        while (Agent.n_iter < max_iter) and (not self.game.end):\n",
    "            direction = self.step()\n",
    "            self.game.move(direction)\n",
    "            Agent.n_iter += 1\n",
    "            if verbose:\n",
    "                print(\"Iter: {}\".format(n_iter))\n",
    "                print(\"======Direction: {}======\".format(\n",
    "                    [\"left\", \"down\", \"right\", \"up\"][direction]))\n",
    "                if self.display is not None:\n",
    "                    self.display.display(self.game)\n",
    "\n",
    "    def step(self):\n",
    "        direction = int(input(\"0: left, 1: down, 2: right, 3: up = \")) % 4\n",
    "        return direction\n",
    "\n",
    "\n",
    "class RandomAgent(Agent):\n",
    "\n",
    "    def step(self):\n",
    "        direction = np.random.randint(0, 4)\n",
    "        return direction\n",
    "\n",
    "\n",
    "class ExpectiMaxAgent(Agent):\n",
    "\n",
    "    def __init__(self, game, display=None):\n",
    "        if game.size != 4:\n",
    "            raise ValueError(\n",
    "                \"`%s` can only work with game of `size` 4.\" % self.__class__.__name__)\n",
    "        super().__init__(game, display)\n",
    "        from game2048.expectimax import board_to_move\n",
    "        self.search_func = board_to_move\n",
    "\n",
    "    def step(self):\n",
    "        direction = self.search_func(self.game.board)\n",
    "        return direction\n",
    "\n",
    "display1 = Display()\n",
    "display2 = IPythonDisplay()"
   ]
  },
  {
   "cell_type": "code",
   "execution_count": 27,
   "metadata": {},
   "outputs": [
    {
     "name": "stdout",
     "output_type": "stream",
     "text": [
      "33.38\n"
     ]
    }
   ],
   "source": [
    "n = []\n",
    "for i in range(50):\n",
    "    game = Game(4, score_to_win=64, random=False) #score_to_win=2048, \n",
    "    agent = ExpectiMaxAgent(game)\n",
    "    agent.play(verbose=False)\n",
    "    n.append(agent.n_iter)\n",
    "print(np.mean(n))"
   ]
  },
  {
   "cell_type": "code",
   "execution_count": 32,
   "metadata": {},
   "outputs": [
    {
     "name": "stdout",
     "output_type": "stream",
     "text": [
      "55.52\n"
     ]
    }
   ],
   "source": [
    "n = []\n",
    "for i in range(50):\n",
    "    game = Game(4, score_to_win=128, random=False) #score_to_win=2048, \n",
    "    agent = ExpectiMaxAgent(game)\n",
    "    agent.play(verbose=False)\n",
    "    n.append(agent.n_iter)\n",
    "print(np.mean(n))"
   ]
  },
  {
   "cell_type": "code",
   "execution_count": 28,
   "metadata": {},
   "outputs": [
    {
     "name": "stdout",
     "output_type": "stream",
     "text": [
      "99.28\n"
     ]
    }
   ],
   "source": [
    "n = []\n",
    "for i in range(50):\n",
    "    game = Game(4, score_to_win=256, random=False) #score_to_win=2048, \n",
    "    agent = ExpectiMaxAgent(game)\n",
    "    agent.play(verbose=False)\n",
    "    n.append(agent.n_iter)\n",
    "print(np.mean(n))"
   ]
  },
  {
   "cell_type": "code",
   "execution_count": 31,
   "metadata": {},
   "outputs": [
    {
     "name": "stdout",
     "output_type": "stream",
     "text": [
      "187.18\n"
     ]
    }
   ],
   "source": [
    "n = []\n",
    "for i in range(50):\n",
    "    game = Game(4, score_to_win=512, random=False) #score_to_win=2048, \n",
    "    agent = ExpectiMaxAgent(game)\n",
    "    agent.play(verbose=False)\n",
    "    n.append(agent.n_iter)\n",
    "print(np.mean(n))"
   ]
  },
  {
   "cell_type": "code",
   "execution_count": 29,
   "metadata": {},
   "outputs": [
    {
     "name": "stdout",
     "output_type": "stream",
     "text": [
      "358.96\n"
     ]
    }
   ],
   "source": [
    "n = []\n",
    "for i in range(50):\n",
    "    game = Game(4, score_to_win=1024, random=False) #score_to_win=2048, \n",
    "    agent = ExpectiMaxAgent(game)\n",
    "    agent.play(verbose=False)\n",
    "    n.append(agent.n_iter)\n",
    "print(np.mean(n))"
   ]
  },
  {
   "cell_type": "code",
   "execution_count": 30,
   "metadata": {},
   "outputs": [
    {
     "name": "stdout",
     "output_type": "stream",
     "text": [
      "706.04\n"
     ]
    }
   ],
   "source": [
    "n = []\n",
    "for i in range(50):\n",
    "    game = Game(4, score_to_win=2048, random=False) #score_to_win=2048, \n",
    "    agent = ExpectiMaxAgent(game)\n",
    "    agent.play(verbose=False)\n",
    "    n.append(agent.n_iter)\n",
    "print(np.mean(n))"
   ]
  }
 ],
 "metadata": {
  "kernelspec": {
   "display_name": "Python 3",
   "language": "python",
   "name": "python3"
  },
  "language_info": {
   "codemirror_mode": {
    "name": "ipython",
    "version": 3
   },
   "file_extension": ".py",
   "mimetype": "text/x-python",
   "name": "python",
   "nbconvert_exporter": "python",
   "pygments_lexer": "ipython3",
   "version": "3.7.6"
  }
 },
 "nbformat": 4,
 "nbformat_minor": 2
}
